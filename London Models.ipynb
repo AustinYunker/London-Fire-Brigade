{
 "cells": [
  {
   "cell_type": "markdown",
   "id": "72df7656",
   "metadata": {},
   "source": [
    "# Setup and Imports"
   ]
  },
  {
   "cell_type": "code",
   "execution_count": 1,
   "id": "df3f21d6",
   "metadata": {},
   "outputs": [],
   "source": [
    "import pandas as pd\n",
    "import numpy as np\n",
    "import london_data_functions as ldf\n",
    "import warnings\n",
    "import seaborn as sns\n",
    "sns.set\n",
    "import matplotlib.pyplot as plt\n",
    "\n",
    "from sklearn.pipeline import Pipeline\n",
    "from sklearn.preprocessing import StandardScaler\n",
    "from sklearn.preprocessing import OneHotEncoder\n",
    "from sklearn.compose import ColumnTransformer\n",
    "\n",
    "\n",
    "from sklearn.model_selection import cross_val_score\n",
    "from sklearn.model_selection import cross_val_predict\n",
    "\n",
    "from sklearn.metrics import confusion_matrix\n",
    "from sklearn.metrics import f1_score\n",
    "from sklearn.metrics import accuracy_score\n",
    "from sklearn.metrics import recall_score\n",
    "\n",
    "from sklearn.ensemble import RandomForestClassifier\n",
    "from sklearn.ensemble import ExtraTreesClassifier\n",
    "from sklearn.naive_bayes import GaussianNB\n",
    "from sklearn.svm import LinearSVC\n",
    "from sklearn.linear_model import BayesianRidge\n",
    "from sklearn.linear_model import LogisticRegression\n",
    "from sklearn.gaussian_process import GaussianProcessClassifier\n",
    "from sklearn.ensemble import AdaBoostClassifier\n",
    "\n",
    "from sklearn.model_selection import train_test_split\n",
    "from sklearn.model_selection import RandomizedSearchCV\n",
    "from scipy.stats import uniform\n",
    "\n",
    "import xgboost\n",
    "import pickle\n",
    "from sklearn.model_selection import ParameterSampler\n",
    "from scipy import sparse"
   ]
  },
  {
   "cell_type": "markdown",
   "id": "46fdb49c",
   "metadata": {},
   "source": [
    "# Get the Data"
   ]
  },
  {
   "cell_type": "code",
   "execution_count": 2,
   "id": "47fde0fc",
   "metadata": {},
   "outputs": [
    {
     "name": "stdout",
     "output_type": "stream",
     "text": [
      "Wall time: 6.13 s\n"
     ]
    }
   ],
   "source": [
    "%%time\n",
    "query = \"\"\"\n",
    "            SELECT incident_number, timestamp_of_call, incident_group, property_category, \n",
    "                    address_qualifier, borough_name, first_pump_arriving_attendance_time as first_time,\n",
    "                    num_stations_with_pumps_attending as station_pumps, num_pumps_attending as pumps_attending,\n",
    "                    FROM `gdac-327115.LondonFire.fire_brigade`\n",
    "        \"\"\"\n",
    "\n",
    "london = ldf.fetch_london_data(query_string=query, project_id = \"gdac-327115\", location = \"eu\")"
   ]
  },
  {
   "cell_type": "markdown",
   "id": "88f50e1d",
   "metadata": {},
   "source": [
    "# Split the Data into Training and Test Sets"
   ]
  },
  {
   "cell_type": "code",
   "execution_count": 6,
   "id": "a117738c",
   "metadata": {},
   "outputs": [],
   "source": [
    "london_train, london_test = train_test_split(london, test_size = .16, stratify = london[\"incident_group\"], random_state = 42)"
   ]
  },
  {
   "cell_type": "markdown",
   "id": "e59a4ca8",
   "metadata": {},
   "source": [
    "# Clean the Training Data"
   ]
  },
  {
   "cell_type": "code",
   "execution_count": 7,
   "id": "4a8c256b",
   "metadata": {},
   "outputs": [
    {
     "name": "stdout",
     "output_type": "stream",
     "text": [
      "Cleaning London Data Started...\n",
      "\n",
      "Sucessfully Added Emergency Column!\n",
      "Sucessfully Added Month Column!\n",
      "Sucessfully Added Hour Column!\n",
      "Sucessfully Cleanded Property Category!\n",
      "Sucessfully Cleaned Address!\n",
      "Sucessfully Cleaned Borough Names!\n",
      "Sucessfully Cleaned Station Arriving Time!\n",
      "Sucessfully Cleaned Number of Stations with Pumps!\n",
      "Sucessfully Cleaned Number of Pumps Attending!\n",
      "Sucessfully Dropped Unecessary Columns!\n",
      "\n",
      "Sucessfully Cleaned London Data!\n"
     ]
    }
   ],
   "source": [
    "warnings.filterwarnings('ignore')\n",
    "london_train = ldf.clean_london(london_train, verbose = True)"
   ]
  },
  {
   "cell_type": "markdown",
   "id": "1eccf6d6",
   "metadata": {},
   "source": [
    "# Clean the Test Data"
   ]
  },
  {
   "cell_type": "code",
   "execution_count": 9,
   "id": "bac88ade",
   "metadata": {},
   "outputs": [
    {
     "name": "stdout",
     "output_type": "stream",
     "text": [
      "Cleaning London Data Started...\n",
      "\n",
      "Sucessfully Added Emergency Column!\n",
      "Sucessfully Added Month Column!\n",
      "Sucessfully Added Hour Column!\n",
      "Sucessfully Cleanded Property Category!\n",
      "Sucessfully Cleaned Address!\n",
      "Sucessfully Cleaned Borough Names!\n",
      "Sucessfully Cleaned Station Arriving Time!\n",
      "Sucessfully Cleaned Number of Stations with Pumps!\n",
      "Sucessfully Cleaned Number of Pumps Attending!\n",
      "Sucessfully Dropped Unecessary Columns!\n",
      "\n",
      "Sucessfully Cleaned London Data!\n"
     ]
    }
   ],
   "source": [
    "warnings.filterwarnings('ignore')\n",
    "london_test = ldf.clean_london(london_test, verbose = True)"
   ]
  },
  {
   "cell_type": "markdown",
   "id": "062031e0",
   "metadata": {},
   "source": [
    "# Split the Data into Training and Test Sets"
   ]
  },
  {
   "cell_type": "markdown",
   "id": "f66ef566",
   "metadata": {},
   "source": [
    "# Prepare the Data"
   ]
  },
  {
   "cell_type": "code",
   "execution_count": 10,
   "id": "994b453e",
   "metadata": {},
   "outputs": [],
   "source": [
    "def prepare_london(df, cat_attribs, num_attribs, target):\n",
    "    \"\"\"\n",
    "    \n",
    "    \"\"\"\n",
    "    #num_pipeline = Pipeline([\"std_scaler\", StandardScaler()])\n",
    "    cat_encoder = OneHotEncoder()\n",
    "    \n",
    "    full_pipeline = ColumnTransformer([\n",
    "        (\"num\", StandardScaler(), num_attribs),\n",
    "        (\"cat\", OneHotEncoder(), cat_attribs),\n",
    "    ])\n",
    "    \n",
    "    X = full_pipeline.fit_transform(df)\n",
    "    y = np.array(df[target])\n",
    "    \n",
    "    return X, y\n",
    "    "
   ]
  },
  {
   "cell_type": "code",
   "execution_count": 13,
   "id": "b67118cc",
   "metadata": {},
   "outputs": [],
   "source": [
    "cat_vars = [\"property_category\", \"address_qualifier\", \"borough_name\", \"station_pumps\", \"pumps_attending\", \"Month\", \n",
    "            \"Hour\"]\n",
    "num_vars = [\"first_time\"]\n",
    "target = \"Emergency\"\n",
    "X_train, y_train = prepare_london(london_train, cat_vars, num_vars, target)\n",
    "X_test, y_test = prepare_london(london_test, cat_vars, num_vars, target)"
   ]
  },
  {
   "cell_type": "code",
   "execution_count": 14,
   "id": "95644f36",
   "metadata": {},
   "outputs": [
    {
     "name": "stdout",
     "output_type": "stream",
     "text": [
      "(26719, 80)\n",
      "(26719,)\n",
      "(5089, 80)\n",
      "(5089,)\n"
     ]
    }
   ],
   "source": [
    "print(X.shape)\n",
    "print(y.shape)\n",
    "print(X_test.shape)\n",
    "print(y_test.shape)"
   ]
  },
  {
   "cell_type": "code",
   "execution_count": 16,
   "id": "10354769",
   "metadata": {},
   "outputs": [],
   "source": [
    "X_train, X_val, y_train, y_val = train_test_split(X_train, y_train, test_size = .10, stratify = y_train, random_state = 42)"
   ]
  },
  {
   "cell_type": "code",
   "execution_count": 17,
   "id": "ee1e0c49",
   "metadata": {},
   "outputs": [
    {
     "name": "stdout",
     "output_type": "stream",
     "text": [
      "(21642, 80)\n",
      "(2405, 80)\n",
      "(21642,)\n",
      "(2405,)\n"
     ]
    }
   ],
   "source": [
    "print(X_train.shape)\n",
    "print(X_val.shape)\n",
    "print(y_train.shape)\n",
    "print(y_val.shape)"
   ]
  },
  {
   "cell_type": "markdown",
   "id": "56fb4aa9",
   "metadata": {},
   "source": [
    "# Baseline Scores"
   ]
  },
  {
   "cell_type": "markdown",
   "id": "e2a41d73",
   "metadata": {},
   "source": [
    "### Logistic Regression"
   ]
  },
  {
   "cell_type": "code",
   "execution_count": 18,
   "id": "f94cf752",
   "metadata": {},
   "outputs": [],
   "source": [
    "log_reg = LogisticRegression(max_iter = 10000)"
   ]
  },
  {
   "cell_type": "code",
   "execution_count": 19,
   "id": "afc02a37",
   "metadata": {},
   "outputs": [
    {
     "name": "stdout",
     "output_type": "stream",
     "text": [
      "Logistic Regression 5-fold CV Baseline F1-Score: 80.70%\n",
      "Logistic Regression 5-fold CV Baseline Recall: 76.65%\n",
      "Logistic Regression 5-fold CV Baseline Accuracy: 81.29%\n",
      "Wall time: 440 ms\n"
     ]
    }
   ],
   "source": [
    "%%time\n",
    "y_train_pred = cross_val_predict(log_reg, X_train, y_train, cv = 5)\n",
    "lr_cv_f1 = np.round(f1_score(y_train, y_train_pred), 4) * 100\n",
    "lr_cv_acc = np.round(accuracy_score(y_train, y_train_pred), 4) * 100\n",
    "lr_cv_rec = np.round(recall_score(y_train, y_train_pred), 4) * 100\n",
    "print(f'Logistic Regression 5-fold CV Baseline F1-Score: {lr_cv_f1:.2f}%')\n",
    "print(f'Logistic Regression 5-fold CV Baseline Recall: {lr_cv_rec:.2f}%')\n",
    "print(f'Logistic Regression 5-fold CV Baseline Accuracy: {lr_cv_acc:.2f}%')"
   ]
  },
  {
   "cell_type": "code",
   "execution_count": 20,
   "id": "d9a7a7b3",
   "metadata": {},
   "outputs": [
    {
     "data": {
      "text/plain": [
       "array([[9125, 1470],\n",
       "       [2580, 8467]], dtype=int64)"
      ]
     },
     "execution_count": 20,
     "metadata": {},
     "output_type": "execute_result"
    }
   ],
   "source": [
    "confusion_matrix(y_train, y_train_pred)"
   ]
  },
  {
   "cell_type": "markdown",
   "id": "bb234eb9",
   "metadata": {},
   "source": [
    "### Bayesian Regression"
   ]
  },
  {
   "cell_type": "code",
   "execution_count": 21,
   "id": "3e38ef13",
   "metadata": {},
   "outputs": [],
   "source": [
    "br_reg = BayesianRidge()"
   ]
  },
  {
   "cell_type": "code",
   "execution_count": 22,
   "id": "506eef94",
   "metadata": {},
   "outputs": [
    {
     "name": "stdout",
     "output_type": "stream",
     "text": [
      "Bayesian Regression 5-fold CV Baseline F1-Score: 80.70%\n",
      "Bayesian Regression 5-fold CV Baseline Recall: 76.51%\n",
      "Bayesian Regression 5-fold CV Baseline Accuracy: 81.32%\n",
      "Wall time: 507 ms\n"
     ]
    }
   ],
   "source": [
    "%%time\n",
    "y_train_pred = cross_val_predict(br_reg, X_train.toarray(), y_train, cv = 5)\n",
    "y_train_pred = np.round(y_train_pred)\n",
    "br_cv_f1 = np.round(f1_score(y_train, y_train_pred), 4) * 100\n",
    "br_cv_acc = np.round(accuracy_score(y_train, y_train_pred), 4) * 100\n",
    "br_cv_rec = np.round(recall_score(y_train, y_train_pred), 4) * 100\n",
    "print(f'Bayesian Regression 5-fold CV Baseline F1-Score: {br_cv_f1:.2f}%')\n",
    "print(f'Bayesian Regression 5-fold CV Baseline Recall: {br_cv_rec:.2f}%')\n",
    "print(f'Bayesian Regression 5-fold CV Baseline Accuracy: {br_cv_acc:.2f}%')"
   ]
  },
  {
   "cell_type": "code",
   "execution_count": 23,
   "id": "e05a5eae",
   "metadata": {},
   "outputs": [
    {
     "data": {
      "text/plain": [
       "array([[9148, 1447],\n",
       "       [2595, 8452]], dtype=int64)"
      ]
     },
     "execution_count": 23,
     "metadata": {},
     "output_type": "execute_result"
    }
   ],
   "source": [
    "confusion_matrix(y_train, y_train_pred)"
   ]
  },
  {
   "cell_type": "markdown",
   "id": "5737e12c",
   "metadata": {},
   "source": [
    "### Naive Bayes"
   ]
  },
  {
   "cell_type": "code",
   "execution_count": 24,
   "id": "01f8122d",
   "metadata": {},
   "outputs": [],
   "source": [
    "nb_clf = GaussianNB()"
   ]
  },
  {
   "cell_type": "code",
   "execution_count": 25,
   "id": "8fd5b19b",
   "metadata": {},
   "outputs": [
    {
     "name": "stdout",
     "output_type": "stream",
     "text": [
      "Naive Bayes 5-fold CV Baseline F1-Score: 70.24%\n",
      "Naive Bayes 5-fold CV Baseline Recall: 66.26%\n",
      "Naive Bayes 5-fold CV Baseline Accuracy: 71.33%\n",
      "Wall time: 337 ms\n"
     ]
    }
   ],
   "source": [
    "%%time\n",
    "y_train_pred = cross_val_predict(nb_clf, X_train.toarray(), y_train, cv = 5)\n",
    "nb_cv_f1 = np.round(f1_score(y_train, y_train_pred), 4) * 100\n",
    "nb_cv_acc = np.round(accuracy_score(y_train, y_train_pred), 4) * 100\n",
    "nb_cv_rec = np.round(recall_score(y_train, y_train_pred), 4) * 100\n",
    "print(f'Naive Bayes 5-fold CV Baseline F1-Score: {nb_cv_f1:.2f}%')\n",
    "print(f'Naive Bayes 5-fold CV Baseline Recall: {nb_cv_rec:.2f}%')\n",
    "print(f'Naive Bayes 5-fold CV Baseline Accuracy: {nb_cv_acc:.2f}%')"
   ]
  },
  {
   "cell_type": "code",
   "execution_count": 26,
   "id": "64e60900",
   "metadata": {},
   "outputs": [
    {
     "data": {
      "text/plain": [
       "array([[8118, 2477],\n",
       "       [3727, 7320]], dtype=int64)"
      ]
     },
     "execution_count": 26,
     "metadata": {},
     "output_type": "execute_result"
    }
   ],
   "source": [
    "confusion_matrix(y_train, y_train_pred)"
   ]
  },
  {
   "cell_type": "markdown",
   "id": "739cb8b1",
   "metadata": {},
   "source": [
    "### Linear SVC"
   ]
  },
  {
   "cell_type": "code",
   "execution_count": 27,
   "id": "87987d39",
   "metadata": {},
   "outputs": [],
   "source": [
    "svc_clf = LinearSVC()"
   ]
  },
  {
   "cell_type": "code",
   "execution_count": 28,
   "id": "f512b87b",
   "metadata": {},
   "outputs": [
    {
     "name": "stdout",
     "output_type": "stream",
     "text": [
      "Linear SVC 5-fold CV Baseline F1-Score: 80.56%\n",
      "Linear SVC 5-fold CV Baseline Recall: 76.29%\n",
      "Linear SVC 5-fold CV Baseline Accuracy: 81.21%\n",
      "Wall time: 4.55 s\n"
     ]
    }
   ],
   "source": [
    "%%time\n",
    "y_train_pred = cross_val_predict(svc_clf, X_train, y_train, cv = 5)\n",
    "svc_cv_f1 = np.round(f1_score(y_train, y_train_pred), 4) * 100\n",
    "svc_cv_acc = np.round(accuracy_score(y_train, y_train_pred), 4) * 100\n",
    "svc_cv_rec = np.round(recall_score(y_train, y_train_pred), 4) * 100\n",
    "print(f'Linear SVC 5-fold CV Baseline F1-Score: {svc_cv_f1:.2f}%')\n",
    "print(f'Linear SVC 5-fold CV Baseline Recall: {svc_cv_rec:.2f}%')\n",
    "print(f'Linear SVC 5-fold CV Baseline Accuracy: {svc_cv_acc:.2f}%')"
   ]
  },
  {
   "cell_type": "code",
   "execution_count": 29,
   "id": "a34d634d",
   "metadata": {},
   "outputs": [
    {
     "data": {
      "text/plain": [
       "array([[9147, 1448],\n",
       "       [2619, 8428]], dtype=int64)"
      ]
     },
     "execution_count": 29,
     "metadata": {},
     "output_type": "execute_result"
    }
   ],
   "source": [
    "confusion_matrix(y_train, y_train_pred)"
   ]
  },
  {
   "cell_type": "markdown",
   "id": "936a9cd1",
   "metadata": {},
   "source": [
    "### Random Forest"
   ]
  },
  {
   "cell_type": "code",
   "execution_count": 30,
   "id": "9eb8be2e",
   "metadata": {},
   "outputs": [],
   "source": [
    "rf_clf = RandomForestClassifier()"
   ]
  },
  {
   "cell_type": "code",
   "execution_count": 31,
   "id": "30d8eaf3",
   "metadata": {},
   "outputs": [
    {
     "name": "stdout",
     "output_type": "stream",
     "text": [
      "Random Forest 5-fold CV Baseline F1-Score: 80.17%\n",
      "Random Forest 5-fold CV Baseline Recall: 78.32%\n",
      "Random Forest 5-fold CV Baseline Accuracy: 80.22%\n",
      "Wall time: 14.8 s\n"
     ]
    }
   ],
   "source": [
    "%%time\n",
    "y_train_pred = cross_val_predict(rf_clf, X_train.toarray(), y_train, cv = 5)\n",
    "rf_cv_f1 = np.round(f1_score(y_train, y_train_pred), 4) * 100\n",
    "rf_cv_acc = np.round(accuracy_score(y_train, y_train_pred), 4) * 100\n",
    "rf_cv_rec = np.round(recall_score(y_train, y_train_pred), 4) * 100\n",
    "print(f'Random Forest 5-fold CV Baseline F1-Score: {rf_cv_f1:.2f}%')\n",
    "print(f'Random Forest 5-fold CV Baseline Recall: {rf_cv_rec:.2f}%')\n",
    "print(f'Random Forest 5-fold CV Baseline Accuracy: {rf_cv_acc:.2f}%')"
   ]
  },
  {
   "cell_type": "code",
   "execution_count": 32,
   "id": "ed0059a1",
   "metadata": {},
   "outputs": [
    {
     "data": {
      "text/plain": [
       "array([[8709, 1886],\n",
       "       [2395, 8652]], dtype=int64)"
      ]
     },
     "execution_count": 32,
     "metadata": {},
     "output_type": "execute_result"
    }
   ],
   "source": [
    "confusion_matrix(y_train, y_train_pred)"
   ]
  },
  {
   "cell_type": "markdown",
   "id": "5a1a09d0",
   "metadata": {},
   "source": [
    "### Extremely Random Trees"
   ]
  },
  {
   "cell_type": "code",
   "execution_count": 33,
   "id": "4d3f137a",
   "metadata": {},
   "outputs": [],
   "source": [
    "er_clf = ExtraTreesClassifier()"
   ]
  },
  {
   "cell_type": "code",
   "execution_count": 34,
   "id": "bc41d28a",
   "metadata": {},
   "outputs": [
    {
     "name": "stdout",
     "output_type": "stream",
     "text": [
      "Extremely Random Trees 5-fold CV Baseline F1-Score: 77.44%\n",
      "Extremely Random Trees 5-fold CV Baseline Recall: 76.37%\n",
      "Extremely Random Trees 5-fold CV Baseline Accuracy: 77.28%\n",
      "Wall time: 19.9 s\n"
     ]
    }
   ],
   "source": [
    "%%time\n",
    "y_train_pred = cross_val_predict(er_clf, X_train.toarray(), y_train, cv = 5)\n",
    "er_cv_f1 = np.round(f1_score(y_train, y_train_pred), 4) * 100\n",
    "er_cv_acc = np.round(accuracy_score(y_train, y_train_pred), 4) * 100\n",
    "er_cv_rec = np.round(recall_score(y_train, y_train_pred), 4) * 100\n",
    "print(f'Extremely Random Trees 5-fold CV Baseline F1-Score: {er_cv_f1:.2f}%')\n",
    "print(f'Extremely Random Trees 5-fold CV Baseline Recall: {er_cv_rec:.2f}%')\n",
    "print(f'Extremely Random Trees 5-fold CV Baseline Accuracy: {er_cv_acc:.2f}%')"
   ]
  },
  {
   "cell_type": "code",
   "execution_count": 35,
   "id": "9bda2464",
   "metadata": {},
   "outputs": [
    {
     "data": {
      "text/plain": [
       "array([[8289, 2306],\n",
       "       [2610, 8437]], dtype=int64)"
      ]
     },
     "execution_count": 35,
     "metadata": {},
     "output_type": "execute_result"
    }
   ],
   "source": [
    "confusion_matrix(y_train, y_train_pred)"
   ]
  },
  {
   "cell_type": "markdown",
   "id": "c4e082c8",
   "metadata": {},
   "source": [
    "### AdaBoost"
   ]
  },
  {
   "cell_type": "code",
   "execution_count": 36,
   "id": "62677c68",
   "metadata": {},
   "outputs": [],
   "source": [
    "ada_clf = AdaBoostClassifier()"
   ]
  },
  {
   "cell_type": "code",
   "execution_count": 37,
   "id": "52e45103",
   "metadata": {},
   "outputs": [
    {
     "name": "stdout",
     "output_type": "stream",
     "text": [
      "AdaBoost 5-fold CV Baseline F1-Score: 80.80%\n",
      "AdaBoost 5-fold CV Baseline Recall: 77.59%\n",
      "AdaBoost 5-fold CV Baseline Accuracy: 81.18%\n",
      "Wall time: 11 s\n"
     ]
    }
   ],
   "source": [
    "%%time\n",
    "y_train_pred = cross_val_predict(ada_clf, X_train.toarray(), y_train, cv = 5)\n",
    "ada_cv_f1 = np.round(f1_score(y_train, y_train_pred), 4) * 100\n",
    "ada_cv_acc = np.round(accuracy_score(y_train, y_train_pred), 4) * 100\n",
    "ada_cv_rec = np.round(recall_score(y_train, y_train_pred), 4) * 100\n",
    "print(f'AdaBoost 5-fold CV Baseline F1-Score: {ada_cv_f1:.2f}%')\n",
    "print(f'AdaBoost 5-fold CV Baseline Recall: {ada_cv_rec:.2f}%')\n",
    "print(f'AdaBoost 5-fold CV Baseline Accuracy: {ada_cv_acc:.2f}%')"
   ]
  },
  {
   "cell_type": "code",
   "execution_count": 38,
   "id": "fde9acb3",
   "metadata": {},
   "outputs": [
    {
     "data": {
      "text/plain": [
       "array([[8998, 1597],\n",
       "       [2476, 8571]], dtype=int64)"
      ]
     },
     "execution_count": 38,
     "metadata": {},
     "output_type": "execute_result"
    }
   ],
   "source": [
    "confusion_matrix(y_train, y_train_pred)"
   ]
  },
  {
   "cell_type": "markdown",
   "id": "9339fb63",
   "metadata": {},
   "source": [
    "### XGBoost"
   ]
  },
  {
   "cell_type": "code",
   "execution_count": 39,
   "id": "52a017a9",
   "metadata": {},
   "outputs": [],
   "source": [
    "xgb_clf = xgboost.XGBClassifier(use_label_encoder=False, objective = \"binary:logistic\")"
   ]
  },
  {
   "cell_type": "code",
   "execution_count": 40,
   "id": "17e3e347",
   "metadata": {},
   "outputs": [
    {
     "name": "stdout",
     "output_type": "stream",
     "text": [
      "[11:19:39] WARNING: C:/Users/Administrator/workspace/xgboost-win64_release_1.5.1/src/learner.cc:1115: Starting in XGBoost 1.3.0, the default evaluation metric used with the objective 'binary:logistic' was changed from 'error' to 'logloss'. Explicitly set eval_metric if you'd like to restore the old behavior.\n",
      "[11:19:40] WARNING: C:/Users/Administrator/workspace/xgboost-win64_release_1.5.1/src/learner.cc:1115: Starting in XGBoost 1.3.0, the default evaluation metric used with the objective 'binary:logistic' was changed from 'error' to 'logloss'. Explicitly set eval_metric if you'd like to restore the old behavior.\n",
      "[11:19:40] WARNING: C:/Users/Administrator/workspace/xgboost-win64_release_1.5.1/src/learner.cc:1115: Starting in XGBoost 1.3.0, the default evaluation metric used with the objective 'binary:logistic' was changed from 'error' to 'logloss'. Explicitly set eval_metric if you'd like to restore the old behavior.\n",
      "[11:19:41] WARNING: C:/Users/Administrator/workspace/xgboost-win64_release_1.5.1/src/learner.cc:1115: Starting in XGBoost 1.3.0, the default evaluation metric used with the objective 'binary:logistic' was changed from 'error' to 'logloss'. Explicitly set eval_metric if you'd like to restore the old behavior.\n",
      "[11:19:42] WARNING: C:/Users/Administrator/workspace/xgboost-win64_release_1.5.1/src/learner.cc:1115: Starting in XGBoost 1.3.0, the default evaluation metric used with the objective 'binary:logistic' was changed from 'error' to 'logloss'. Explicitly set eval_metric if you'd like to restore the old behavior.\n",
      "\n",
      "XGBoost 5-fold CV Baseline F1-Score: 81.09%\n",
      "XGBoost 5-fold CV Baseline Recall: 78.64%\n",
      "XGBoost 5-fold CV Baseline Accuracy: 81.28%\n",
      "Wall time: 3.46 s\n"
     ]
    }
   ],
   "source": [
    "%%time\n",
    "y_train_pred = cross_val_predict(xgb_clf, X_train, y_train, cv = 5)\n",
    "xgb_cv_f1 = np.round(f1_score(y_train, y_train_pred), 4) * 100\n",
    "xgb_cv_acc = np.round(accuracy_score(y_train, y_train_pred), 4) * 100\n",
    "xgb_cv_rec = np.round(recall_score(y_train, y_train_pred), 4) * 100\n",
    "print(f'\\nXGBoost 5-fold CV Baseline F1-Score: {xgb_cv_f1:.2f}%')\n",
    "print(f'XGBoost 5-fold CV Baseline Recall: {xgb_cv_rec:.2f}%')\n",
    "print(f'XGBoost 5-fold CV Baseline Accuracy: {xgb_cv_acc:.2f}%')"
   ]
  },
  {
   "cell_type": "code",
   "execution_count": 41,
   "id": "b51dadaf",
   "metadata": {},
   "outputs": [
    {
     "data": {
      "text/plain": [
       "array([[8904, 1691],\n",
       "       [2360, 8687]], dtype=int64)"
      ]
     },
     "execution_count": 41,
     "metadata": {},
     "output_type": "execute_result"
    }
   ],
   "source": [
    "confusion_matrix(y_train, y_train_pred)"
   ]
  },
  {
   "cell_type": "markdown",
   "id": "2a2fce7e",
   "metadata": {},
   "source": [
    "# Baseline Results"
   ]
  },
  {
   "cell_type": "markdown",
   "id": "b42a167c",
   "metadata": {},
   "source": [
    "## Recall"
   ]
  },
  {
   "cell_type": "code",
   "execution_count": 42,
   "id": "d72dc088",
   "metadata": {},
   "outputs": [],
   "source": [
    "Models = [\"Logistic Regression\", \"Bayesian Regression\", \"Naive Bayes\", \"Linear SVC\", \"Random Forest\",\n",
    "          \"Extreme Trees\", \"AdaBoost\", \"XGBoost\"]\n",
    "Recall_Base_Scores = [lr_cv_rec, br_cv_rec, nb_cv_rec, svc_cv_rec, rf_cv_rec, er_cv_rec, ada_cv_rec, xgb_cv_rec]\n",
    "Accuracy_Base_Scores = [lr_cv_acc, br_cv_acc, nb_cv_acc, svc_cv_acc, rf_cv_acc, er_cv_acc, ada_cv_acc, xgb_cv_acc]\n",
    "\n",
    "#Create a data frame with the results\n",
    "base_results = pd.DataFrame({\"Model\": Models, \"Recall\": Recall_Base_Scores, \"Accuracy\" : Accuracy_Base_Scores})"
   ]
  },
  {
   "cell_type": "code",
   "execution_count": 43,
   "id": "a988a23c",
   "metadata": {},
   "outputs": [
    {
     "data": {
      "text/html": [
       "<div>\n",
       "<style scoped>\n",
       "    .dataframe tbody tr th:only-of-type {\n",
       "        vertical-align: middle;\n",
       "    }\n",
       "\n",
       "    .dataframe tbody tr th {\n",
       "        vertical-align: top;\n",
       "    }\n",
       "\n",
       "    .dataframe thead th {\n",
       "        text-align: right;\n",
       "    }\n",
       "</style>\n",
       "<table border=\"1\" class=\"dataframe\">\n",
       "  <thead>\n",
       "    <tr style=\"text-align: right;\">\n",
       "      <th></th>\n",
       "      <th>Model</th>\n",
       "      <th>Recall</th>\n",
       "      <th>Accuracy</th>\n",
       "    </tr>\n",
       "  </thead>\n",
       "  <tbody>\n",
       "    <tr>\n",
       "      <th>7</th>\n",
       "      <td>XGBoost</td>\n",
       "      <td>78.64</td>\n",
       "      <td>81.28</td>\n",
       "    </tr>\n",
       "    <tr>\n",
       "      <th>4</th>\n",
       "      <td>Random Forest</td>\n",
       "      <td>78.32</td>\n",
       "      <td>80.22</td>\n",
       "    </tr>\n",
       "    <tr>\n",
       "      <th>6</th>\n",
       "      <td>AdaBoost</td>\n",
       "      <td>77.59</td>\n",
       "      <td>81.18</td>\n",
       "    </tr>\n",
       "    <tr>\n",
       "      <th>0</th>\n",
       "      <td>Logistic Regression</td>\n",
       "      <td>76.65</td>\n",
       "      <td>81.29</td>\n",
       "    </tr>\n",
       "    <tr>\n",
       "      <th>1</th>\n",
       "      <td>Bayesian Regression</td>\n",
       "      <td>76.51</td>\n",
       "      <td>81.32</td>\n",
       "    </tr>\n",
       "    <tr>\n",
       "      <th>5</th>\n",
       "      <td>Extreme Trees</td>\n",
       "      <td>76.37</td>\n",
       "      <td>77.28</td>\n",
       "    </tr>\n",
       "    <tr>\n",
       "      <th>3</th>\n",
       "      <td>Linear SVC</td>\n",
       "      <td>76.29</td>\n",
       "      <td>81.21</td>\n",
       "    </tr>\n",
       "    <tr>\n",
       "      <th>2</th>\n",
       "      <td>Naive Bayes</td>\n",
       "      <td>66.26</td>\n",
       "      <td>71.33</td>\n",
       "    </tr>\n",
       "  </tbody>\n",
       "</table>\n",
       "</div>"
      ],
      "text/plain": [
       "                 Model  Recall  Accuracy\n",
       "7              XGBoost   78.64     81.28\n",
       "4        Random Forest   78.32     80.22\n",
       "6             AdaBoost   77.59     81.18\n",
       "0  Logistic Regression   76.65     81.29\n",
       "1  Bayesian Regression   76.51     81.32\n",
       "5        Extreme Trees   76.37     77.28\n",
       "3           Linear SVC   76.29     81.21\n",
       "2          Naive Bayes   66.26     71.33"
      ]
     },
     "execution_count": 43,
     "metadata": {},
     "output_type": "execute_result"
    }
   ],
   "source": [
    "base_results.sort_values(by=\"Recall\", ascending = False, inplace = True)\n",
    "base_results"
   ]
  },
  {
   "cell_type": "code",
   "execution_count": 44,
   "id": "998d1372",
   "metadata": {},
   "outputs": [
    {
     "data": {
      "text/plain": [
       "Text(0.5, 0, 'Models')"
      ]
     },
     "execution_count": 44,
     "metadata": {},
     "output_type": "execute_result"
    },
    {
     "data": {
      "image/png": "[encoded data removed]",
      "text/plain": [
       "<Figure size 1080x720 with 1 Axes>"
      ]
     },
     "metadata": {},
     "output_type": "display_data"
    }
   ],
   "source": [
    "#Bar chart of the results\n",
    "sns.set(rc = {'figure.figsize':(15,10)})\n",
    "sns.barplot(x=\"Model\", y = \"Recall\", order = base_results[\"Model\"] \\\n",
    "                                            , data = base_results, color = \"mediumseagreen\")\n",
    "plt.title(\"Baseline Recall Scores\")\n",
    "plt.ylabel(\"Recall\")\n",
    "plt.xlabel(\"Models\")"
   ]
  },
  {
   "cell_type": "markdown",
   "id": "239dc736",
   "metadata": {},
   "source": [
    "## Accuracy"
   ]
  },
  {
   "cell_type": "code",
   "execution_count": 45,
   "id": "873dc2eb",
   "metadata": {},
   "outputs": [
    {
     "data": {
      "text/html": [
       "<div>\n",
       "<style scoped>\n",
       "    .dataframe tbody tr th:only-of-type {\n",
       "        vertical-align: middle;\n",
       "    }\n",
       "\n",
       "    .dataframe tbody tr th {\n",
       "        vertical-align: top;\n",
       "    }\n",
       "\n",
       "    .dataframe thead th {\n",
       "        text-align: right;\n",
       "    }\n",
       "</style>\n",
       "<table border=\"1\" class=\"dataframe\">\n",
       "  <thead>\n",
       "    <tr style=\"text-align: right;\">\n",
       "      <th></th>\n",
       "      <th>Model</th>\n",
       "      <th>Recall</th>\n",
       "      <th>Accuracy</th>\n",
       "    </tr>\n",
       "  </thead>\n",
       "  <tbody>\n",
       "    <tr>\n",
       "      <th>1</th>\n",
       "      <td>Bayesian Regression</td>\n",
       "      <td>76.51</td>\n",
       "      <td>81.32</td>\n",
       "    </tr>\n",
       "    <tr>\n",
       "      <th>0</th>\n",
       "      <td>Logistic Regression</td>\n",
       "      <td>76.65</td>\n",
       "      <td>81.29</td>\n",
       "    </tr>\n",
       "    <tr>\n",
       "      <th>7</th>\n",
       "      <td>XGBoost</td>\n",
       "      <td>78.64</td>\n",
       "      <td>81.28</td>\n",
       "    </tr>\n",
       "    <tr>\n",
       "      <th>3</th>\n",
       "      <td>Linear SVC</td>\n",
       "      <td>76.29</td>\n",
       "      <td>81.21</td>\n",
       "    </tr>\n",
       "    <tr>\n",
       "      <th>6</th>\n",
       "      <td>AdaBoost</td>\n",
       "      <td>77.59</td>\n",
       "      <td>81.18</td>\n",
       "    </tr>\n",
       "    <tr>\n",
       "      <th>4</th>\n",
       "      <td>Random Forest</td>\n",
       "      <td>78.32</td>\n",
       "      <td>80.22</td>\n",
       "    </tr>\n",
       "    <tr>\n",
       "      <th>5</th>\n",
       "      <td>Extreme Trees</td>\n",
       "      <td>76.37</td>\n",
       "      <td>77.28</td>\n",
       "    </tr>\n",
       "    <tr>\n",
       "      <th>2</th>\n",
       "      <td>Naive Bayes</td>\n",
       "      <td>66.26</td>\n",
       "      <td>71.33</td>\n",
       "    </tr>\n",
       "  </tbody>\n",
       "</table>\n",
       "</div>"
      ],
      "text/plain": [
       "                 Model  Recall  Accuracy\n",
       "1  Bayesian Regression   76.51     81.32\n",
       "0  Logistic Regression   76.65     81.29\n",
       "7              XGBoost   78.64     81.28\n",
       "3           Linear SVC   76.29     81.21\n",
       "6             AdaBoost   77.59     81.18\n",
       "4        Random Forest   78.32     80.22\n",
       "5        Extreme Trees   76.37     77.28\n",
       "2          Naive Bayes   66.26     71.33"
      ]
     },
     "execution_count": 45,
     "metadata": {},
     "output_type": "execute_result"
    }
   ],
   "source": [
    "base_results.sort_values(by=\"Accuracy\", ascending = False, inplace = True)\n",
    "base_results"
   ]
  },
  {
   "cell_type": "code",
   "execution_count": 46,
   "id": "c7503d32",
   "metadata": {},
   "outputs": [
    {
     "data": {
      "text/plain": [
       "Text(0.5, 0, 'Models')"
      ]
     },
     "execution_count": 46,
     "metadata": {},
     "output_type": "execute_result"
    },
    {
     "data": {
      "image/png": "[encoded data removed]",
      "text/plain": [
       "<Figure size 1080x720 with 1 Axes>"
      ]
     },
     "metadata": {},
     "output_type": "display_data"
    }
   ],
   "source": [
    "#Bar chart of the results\n",
    "sns.set(rc = {'figure.figsize':(15,10)})\n",
    "sns.barplot(x=\"Model\", y = \"Accuracy\", order = base_results[\"Model\"] \\\n",
    "                                            , data = base_results, color = \"mediumseagreen\")\n",
    "plt.title(\"Baseline Accuracy Scores\")\n",
    "plt.ylabel(\"Accuracy\")\n",
    "plt.xlabel(\"Models\")"
   ]
  },
  {
   "cell_type": "markdown",
   "id": "dc05da02",
   "metadata": {},
   "source": [
    "# Hyperparameter Tuning"
   ]
  },
  {
   "cell_type": "markdown",
   "id": "79bc8aa5",
   "metadata": {},
   "source": [
    "### Logistic Regression"
   ]
  },
  {
   "cell_type": "code",
   "execution_count": 47,
   "id": "c0319319",
   "metadata": {},
   "outputs": [
    {
     "name": "stdout",
     "output_type": "stream",
     "text": [
      "{'C': 0.192019201920192}\n",
      "0.7661802634837687\n",
      "Wall time: 15 s\n"
     ]
    }
   ],
   "source": [
    "%%time\n",
    "#Randomly search through the hyperparameter space\n",
    "param_distribs = {\n",
    "    \"C\" : np.linspace(0, 30, 10000),\n",
    "    }\n",
    "lr_clf = LogisticRegression(penalty = \"l2\", solver = \"lbfgs\", max_iter=10000)\n",
    "\n",
    "lr_rnd_search_cv = RandomizedSearchCV(lr_clf, param_distribs, n_iter = 100,\n",
    "                                   cv=2, scoring = 'recall', random_state=42, n_jobs = -1)\n",
    "\n",
    "lr_rnd_search_cv.fit(X_train, y_train)\n",
    "\n",
    "print(lr_rnd_search_cv.best_params_)\n",
    "print(lr_rnd_search_cv.best_score_)"
   ]
  },
  {
   "cell_type": "code",
   "execution_count": 48,
   "id": "3960b7f0",
   "metadata": {},
   "outputs": [
    {
     "data": {
      "text/html": [
       "<div>\n",
       "<style scoped>\n",
       "    .dataframe tbody tr th:only-of-type {\n",
       "        vertical-align: middle;\n",
       "    }\n",
       "\n",
       "    .dataframe tbody tr th {\n",
       "        vertical-align: top;\n",
       "    }\n",
       "\n",
       "    .dataframe thead th {\n",
       "        text-align: right;\n",
       "    }\n",
       "</style>\n",
       "<table border=\"1\" class=\"dataframe\">\n",
       "  <thead>\n",
       "    <tr style=\"text-align: right;\">\n",
       "      <th></th>\n",
       "      <th>param_C</th>\n",
       "      <th>mean_test_score</th>\n",
       "    </tr>\n",
       "  </thead>\n",
       "  <tbody>\n",
       "    <tr>\n",
       "      <th>86</th>\n",
       "      <td>0.192019</td>\n",
       "      <td>0.766180</td>\n",
       "    </tr>\n",
       "    <tr>\n",
       "      <th>64</th>\n",
       "      <td>0.483048</td>\n",
       "      <td>0.765818</td>\n",
       "    </tr>\n",
       "    <tr>\n",
       "      <th>29</th>\n",
       "      <td>0.567057</td>\n",
       "      <td>0.765728</td>\n",
       "    </tr>\n",
       "    <tr>\n",
       "      <th>0</th>\n",
       "      <td>21.812181</td>\n",
       "      <td>0.765637</td>\n",
       "    </tr>\n",
       "    <tr>\n",
       "      <th>72</th>\n",
       "      <td>23.678368</td>\n",
       "      <td>0.765637</td>\n",
       "    </tr>\n",
       "  </tbody>\n",
       "</table>\n",
       "</div>"
      ],
      "text/plain": [
       "      param_C  mean_test_score\n",
       "86   0.192019         0.766180\n",
       "64   0.483048         0.765818\n",
       "29   0.567057         0.765728\n",
       "0   21.812181         0.765637\n",
       "72  23.678368         0.765637"
      ]
     },
     "execution_count": 48,
     "metadata": {},
     "output_type": "execute_result"
    }
   ],
   "source": [
    "#Save the results in a dataframe\n",
    "lr_rnd_search_df = pd.DataFrame(lr_rnd_search_cv.cv_results_)\n",
    "#Rank the results by score\n",
    "lr_rnd_search_df[[\"param_C\", \"mean_test_score\"]].sort_values(by = \"mean_test_score\", ascending = False).head()"
   ]
  },
  {
   "cell_type": "markdown",
   "id": "b6f09c10",
   "metadata": {},
   "source": [
    "### Bayesian Regression"
   ]
  },
  {
   "cell_type": "code",
   "execution_count": 49,
   "id": "9646fc2e",
   "metadata": {},
   "outputs": [],
   "source": [
    "#Randomly search through the hyperparameter space\n",
    "param_distribs = {\n",
    "    \"alpha_1\": uniform(loc = 0.001, scale = 1),\n",
    "    \"alpha_2\": uniform(loc = 0.001, scale = 1),\n",
    "    \"lambda_1\": uniform(loc = 0.001, scale = 1),\n",
    "    \"lambda_2\": uniform(loc = 0.001, scale = 1)\n",
    "    }\n",
    "rng = np.random.RandomState(42)\n",
    "n_iter = 50\n",
    "param_list = list(ParameterSampler(param_distribs, n_iter = n_iter, random_state=rng))"
   ]
  },
  {
   "cell_type": "code",
   "execution_count": 50,
   "id": "81ce39e3",
   "metadata": {},
   "outputs": [
    {
     "name": "stdout",
     "output_type": "stream",
     "text": [
      "Done with 10 of 50\n",
      "Done with 20 of 50\n",
      "Done with 30 of 50\n",
      "Done with 40 of 50\n",
      "Done with 50 of 50\n",
      "Wall time: 5.46 s\n"
     ]
    }
   ],
   "source": [
    "%%time\n",
    "val_rec_score = []\n",
    "counter = 1\n",
    "br_reg = BayesianRidge()\n",
    "\n",
    "for params in param_list:\n",
    "    br_reg.set_params(**params)\n",
    "    br_reg.fit(X_train.toarray(), y_train)\n",
    "    y_pred = br_reg.predict(X_val.toarray())\n",
    "    #y_train_pred = cross_val_predict(br_reg, X_train.toarray(), y_train, cv = 2)\n",
    "    y_pred = np.round(y_pred)\n",
    "    val_rec_score.append(recall_score(y_val, y_pred))\n",
    "    #print(recall_score(y_val, y_pred))\n",
    "    if counter % 10 == 0:\n",
    "        print(f'Done with {counter} of {n_iter}')\n",
    "    counter += 1"
   ]
  },
  {
   "cell_type": "code",
   "execution_count": 51,
   "id": "450ebdcf",
   "metadata": {},
   "outputs": [
    {
     "data": {
      "text/html": [
       "<div>\n",
       "<style scoped>\n",
       "    .dataframe tbody tr th:only-of-type {\n",
       "        vertical-align: middle;\n",
       "    }\n",
       "\n",
       "    .dataframe tbody tr th {\n",
       "        vertical-align: top;\n",
       "    }\n",
       "\n",
       "    .dataframe thead th {\n",
       "        text-align: right;\n",
       "    }\n",
       "</style>\n",
       "<table border=\"1\" class=\"dataframe\">\n",
       "  <thead>\n",
       "    <tr style=\"text-align: right;\">\n",
       "      <th></th>\n",
       "      <th>alpha_1</th>\n",
       "      <th>alpha_2</th>\n",
       "      <th>lambda_1</th>\n",
       "      <th>lambda_2</th>\n",
       "      <th>Recall Score</th>\n",
       "    </tr>\n",
       "  </thead>\n",
       "  <tbody>\n",
       "    <tr>\n",
       "      <th>30</th>\n",
       "      <td>0.808440</td>\n",
       "      <td>0.897091</td>\n",
       "      <td>0.319003</td>\n",
       "      <td>0.111052</td>\n",
       "      <td>0.754886</td>\n",
       "    </tr>\n",
       "    <tr>\n",
       "      <th>20</th>\n",
       "      <td>0.864103</td>\n",
       "      <td>0.624298</td>\n",
       "      <td>0.331898</td>\n",
       "      <td>0.064558</td>\n",
       "      <td>0.754886</td>\n",
       "    </tr>\n",
       "    <tr>\n",
       "      <th>35</th>\n",
       "      <td>0.963447</td>\n",
       "      <td>0.252782</td>\n",
       "      <td>0.498249</td>\n",
       "      <td>0.301878</td>\n",
       "      <td>0.754886</td>\n",
       "    </tr>\n",
       "    <tr>\n",
       "      <th>17</th>\n",
       "      <td>0.075551</td>\n",
       "      <td>0.987887</td>\n",
       "      <td>0.773245</td>\n",
       "      <td>0.199716</td>\n",
       "      <td>0.754886</td>\n",
       "    </tr>\n",
       "    <tr>\n",
       "      <th>37</th>\n",
       "      <td>0.052479</td>\n",
       "      <td>0.279646</td>\n",
       "      <td>0.909266</td>\n",
       "      <td>0.240562</td>\n",
       "      <td>0.754886</td>\n",
       "    </tr>\n",
       "  </tbody>\n",
       "</table>\n",
       "</div>"
      ],
      "text/plain": [
       "     alpha_1   alpha_2  lambda_1  lambda_2  Recall Score\n",
       "30  0.808440  0.897091  0.319003  0.111052      0.754886\n",
       "20  0.864103  0.624298  0.331898  0.064558      0.754886\n",
       "35  0.963447  0.252782  0.498249  0.301878      0.754886\n",
       "17  0.075551  0.987887  0.773245  0.199716      0.754886\n",
       "37  0.052479  0.279646  0.909266  0.240562      0.754886"
      ]
     },
     "execution_count": 51,
     "metadata": {},
     "output_type": "execute_result"
    }
   ],
   "source": [
    "#Save the results\n",
    "br_param_search_df = pd.DataFrame(param_list)\n",
    "br_param_search_df[\"Recall Score\"] = val_rec_score\n",
    "#Rank by score\n",
    "br_param_search_df.sort_values(by=\"Recall Score\", ascending = False).head()"
   ]
  },
  {
   "cell_type": "markdown",
   "id": "f778adf3",
   "metadata": {},
   "source": [
    "### Linear SVC"
   ]
  },
  {
   "cell_type": "code",
   "execution_count": 52,
   "id": "a5253574",
   "metadata": {},
   "outputs": [
    {
     "name": "stdout",
     "output_type": "stream",
     "text": [
      "{'C': 0.1}\n",
      "0.7619256081768782\n",
      "Wall time: 5min 20s\n"
     ]
    }
   ],
   "source": [
    "%%time\n",
    "#Randomly search through the hyperparameter space\n",
    "param_distribs = {\n",
    "    \"C\" : np.linspace(0.1, 15, 100),\n",
    "    }\n",
    "svc_clf = LinearSVC(max_iter=10000)\n",
    "\n",
    "svc_rnd_search_cv = RandomizedSearchCV(svc_clf, param_distribs, n_iter = 50,\n",
    "                                   cv=2 ,scoring = 'recall', random_state=42)\n",
    "\n",
    "svc_rnd_search_cv.fit(X_train, y_train)\n",
    "\n",
    "print(svc_rnd_search_cv.best_params_)\n",
    "print(svc_rnd_search_cv.best_score_)"
   ]
  },
  {
   "cell_type": "code",
   "execution_count": 53,
   "id": "d503d59c",
   "metadata": {},
   "outputs": [
    {
     "data": {
      "text/html": [
       "<div>\n",
       "<style scoped>\n",
       "    .dataframe tbody tr th:only-of-type {\n",
       "        vertical-align: middle;\n",
       "    }\n",
       "\n",
       "    .dataframe tbody tr th {\n",
       "        vertical-align: top;\n",
       "    }\n",
       "\n",
       "    .dataframe thead th {\n",
       "        text-align: right;\n",
       "    }\n",
       "</style>\n",
       "<table border=\"1\" class=\"dataframe\">\n",
       "  <thead>\n",
       "    <tr style=\"text-align: right;\">\n",
       "      <th></th>\n",
       "      <th>param_C</th>\n",
       "      <th>mean_test_score</th>\n",
       "    </tr>\n",
       "  </thead>\n",
       "  <tbody>\n",
       "    <tr>\n",
       "      <th>9</th>\n",
       "      <td>0.1</td>\n",
       "      <td>0.761926</td>\n",
       "    </tr>\n",
       "    <tr>\n",
       "      <th>0</th>\n",
       "      <td>12.591919</td>\n",
       "      <td>0.761835</td>\n",
       "    </tr>\n",
       "    <tr>\n",
       "      <th>38</th>\n",
       "      <td>5.367677</td>\n",
       "      <td>0.761835</td>\n",
       "    </tr>\n",
       "    <tr>\n",
       "      <th>28</th>\n",
       "      <td>1.454545</td>\n",
       "      <td>0.761835</td>\n",
       "    </tr>\n",
       "    <tr>\n",
       "      <th>29</th>\n",
       "      <td>10.936364</td>\n",
       "      <td>0.761835</td>\n",
       "    </tr>\n",
       "  </tbody>\n",
       "</table>\n",
       "</div>"
      ],
      "text/plain": [
       "      param_C  mean_test_score\n",
       "9         0.1         0.761926\n",
       "0   12.591919         0.761835\n",
       "38   5.367677         0.761835\n",
       "28   1.454545         0.761835\n",
       "29  10.936364         0.761835"
      ]
     },
     "execution_count": 53,
     "metadata": {},
     "output_type": "execute_result"
    }
   ],
   "source": [
    "#Save the results\n",
    "svc_rnd_search_df = pd.DataFrame(svc_rnd_search_cv.cv_results_)\n",
    "#Rank by score\n",
    "svc_rnd_search_df[[\"param_C\", \"mean_test_score\"]].sort_values(by = \"mean_test_score\", ascending = False).head()"
   ]
  },
  {
   "cell_type": "markdown",
   "id": "cf5ddb1a",
   "metadata": {},
   "source": [
    "### Random Forest"
   ]
  },
  {
   "cell_type": "code",
   "execution_count": 54,
   "id": "b252a702",
   "metadata": {},
   "outputs": [
    {
     "name": "stdout",
     "output_type": "stream",
     "text": [
      "{'n_estimators': 69}\n",
      "0.7858237941972107\n",
      "Wall time: 18min 8s\n"
     ]
    }
   ],
   "source": [
    "%%time\n",
    "#Randomly search through the hyperparameter space\n",
    "param_distribs = {\n",
    "    \"n_estimators\": np.arange(50, 300)\n",
    "    }\n",
    "rf_clf = RandomForestClassifier()\n",
    "\n",
    "rf_rnd_search_cv = RandomizedSearchCV(rf_clf, param_distribs, n_iter = 50,\n",
    "                                   cv=2 ,scoring = 'recall', random_state=42)\n",
    "\n",
    "rf_rnd_search_cv.fit(X_train, y_train)\n",
    "\n",
    "print(rf_rnd_search_cv.best_params_)\n",
    "print(rf_rnd_search_cv.best_score_)"
   ]
  },
  {
   "cell_type": "code",
   "execution_count": 55,
   "id": "2196fcf4",
   "metadata": {},
   "outputs": [
    {
     "data": {
      "text/html": [
       "<div>\n",
       "<style scoped>\n",
       "    .dataframe tbody tr th:only-of-type {\n",
       "        vertical-align: middle;\n",
       "    }\n",
       "\n",
       "    .dataframe tbody tr th {\n",
       "        vertical-align: top;\n",
       "    }\n",
       "\n",
       "    .dataframe thead th {\n",
       "        text-align: right;\n",
       "    }\n",
       "</style>\n",
       "<table border=\"1\" class=\"dataframe\">\n",
       "  <thead>\n",
       "    <tr style=\"text-align: right;\">\n",
       "      <th></th>\n",
       "      <th>param_n_estimators</th>\n",
       "      <th>mean_test_score</th>\n",
       "    </tr>\n",
       "  </thead>\n",
       "  <tbody>\n",
       "    <tr>\n",
       "      <th>21</th>\n",
       "      <td>69</td>\n",
       "      <td>0.785824</td>\n",
       "    </tr>\n",
       "    <tr>\n",
       "      <th>17</th>\n",
       "      <td>65</td>\n",
       "      <td>0.785733</td>\n",
       "    </tr>\n",
       "    <tr>\n",
       "      <th>30</th>\n",
       "      <td>251</td>\n",
       "      <td>0.785371</td>\n",
       "    </tr>\n",
       "    <tr>\n",
       "      <th>25</th>\n",
       "      <td>95</td>\n",
       "      <td>0.785190</td>\n",
       "    </tr>\n",
       "    <tr>\n",
       "      <th>7</th>\n",
       "      <td>234</td>\n",
       "      <td>0.785100</td>\n",
       "    </tr>\n",
       "  </tbody>\n",
       "</table>\n",
       "</div>"
      ],
      "text/plain": [
       "   param_n_estimators  mean_test_score\n",
       "21                 69         0.785824\n",
       "17                 65         0.785733\n",
       "30                251         0.785371\n",
       "25                 95         0.785190\n",
       "7                 234         0.785100"
      ]
     },
     "execution_count": 55,
     "metadata": {},
     "output_type": "execute_result"
    }
   ],
   "source": [
    "#Save the results\n",
    "rf_rnd_search_df = pd.DataFrame(rf_rnd_search_cv.cv_results_)\n",
    "tuned_params = [\"param_n_estimators\", \"mean_test_score\"]\n",
    "#Rank by score\n",
    "rf_rnd_search_df[tuned_params].sort_values(by = \"mean_test_score\", ascending = False).head()"
   ]
  },
  {
   "cell_type": "markdown",
   "id": "0856284c",
   "metadata": {},
   "source": [
    "### Extremely Random Trees"
   ]
  },
  {
   "cell_type": "code",
   "execution_count": 56,
   "id": "0f008587",
   "metadata": {},
   "outputs": [
    {
     "name": "stdout",
     "output_type": "stream",
     "text": [
      "{'n_estimators': 269}\n",
      "0.7655465826994559\n",
      "Wall time: 25min 10s\n"
     ]
    }
   ],
   "source": [
    "%%time\n",
    "#Randomly search through the hyperparameter space\n",
    "param_distribs = {\n",
    "    \"n_estimators\": np.arange(50, 300)\n",
    "    }\n",
    "er_clf = ExtraTreesClassifier()\n",
    "\n",
    "er_rnd_search_cv = RandomizedSearchCV(er_clf, param_distribs, n_iter = 50,\n",
    "                                   cv=2 ,scoring = 'recall', random_state=42)\n",
    "\n",
    "er_rnd_search_cv.fit(X_train, y_train)\n",
    "\n",
    "print(er_rnd_search_cv.best_params_)\n",
    "print(er_rnd_search_cv.best_score_)"
   ]
  },
  {
   "cell_type": "code",
   "execution_count": 57,
   "id": "dd37e6fc",
   "metadata": {},
   "outputs": [
    {
     "data": {
      "text/html": [
       "<div>\n",
       "<style scoped>\n",
       "    .dataframe tbody tr th:only-of-type {\n",
       "        vertical-align: middle;\n",
       "    }\n",
       "\n",
       "    .dataframe tbody tr th {\n",
       "        vertical-align: top;\n",
       "    }\n",
       "\n",
       "    .dataframe thead th {\n",
       "        text-align: right;\n",
       "    }\n",
       "</style>\n",
       "<table border=\"1\" class=\"dataframe\">\n",
       "  <thead>\n",
       "    <tr style=\"text-align: right;\">\n",
       "      <th></th>\n",
       "      <th>param_n_estimators</th>\n",
       "      <th>mean_test_score</th>\n",
       "    </tr>\n",
       "  </thead>\n",
       "  <tbody>\n",
       "    <tr>\n",
       "      <th>33</th>\n",
       "      <td>269</td>\n",
       "      <td>0.765547</td>\n",
       "    </tr>\n",
       "    <tr>\n",
       "      <th>31</th>\n",
       "      <td>83</td>\n",
       "      <td>0.765094</td>\n",
       "    </tr>\n",
       "    <tr>\n",
       "      <th>4</th>\n",
       "      <td>162</td>\n",
       "      <td>0.764822</td>\n",
       "    </tr>\n",
       "    <tr>\n",
       "      <th>11</th>\n",
       "      <td>266</td>\n",
       "      <td>0.764641</td>\n",
       "    </tr>\n",
       "    <tr>\n",
       "      <th>30</th>\n",
       "      <td>251</td>\n",
       "      <td>0.764460</td>\n",
       "    </tr>\n",
       "  </tbody>\n",
       "</table>\n",
       "</div>"
      ],
      "text/plain": [
       "   param_n_estimators  mean_test_score\n",
       "33                269         0.765547\n",
       "31                 83         0.765094\n",
       "4                 162         0.764822\n",
       "11                266         0.764641\n",
       "30                251         0.764460"
      ]
     },
     "execution_count": 57,
     "metadata": {},
     "output_type": "execute_result"
    }
   ],
   "source": [
    "#Save the results\n",
    "er_rnd_search_df = pd.DataFrame(er_rnd_search_cv.cv_results_)\n",
    "tuned_params = [\"param_n_estimators\", \"mean_test_score\"]\n",
    "#Rank by score\n",
    "er_rnd_search_df[tuned_params].sort_values(by = \"mean_test_score\", ascending = False).head()"
   ]
  },
  {
   "cell_type": "markdown",
   "id": "38d74dc1",
   "metadata": {},
   "source": [
    "### AdaBoost"
   ]
  },
  {
   "cell_type": "code",
   "execution_count": 58,
   "id": "415a56be",
   "metadata": {},
   "outputs": [
    {
     "name": "stdout",
     "output_type": "stream",
     "text": [
      "{'learning_rate': 0.4574136752138244, 'n_estimators': 319}\n",
      "0.7758662248830281\n",
      "Wall time: 3min 19s\n"
     ]
    }
   ],
   "source": [
    "%%time\n",
    "#Randomly search through the hyperparameter space\n",
    "param_distribs = {\n",
    "    \"n_estimators\": np.arange(50, 400),\n",
    "    \"learning_rate\": uniform(loc = 0.01, scale = 0.5)\n",
    "    }\n",
    "ada_clf = AdaBoostClassifier()\n",
    "\n",
    "ada_rnd_search_cv = RandomizedSearchCV(ada_clf, param_distribs, n_iter = 50,\n",
    "                                   cv=2 ,scoring = 'recall', random_state=42)\n",
    "\n",
    "ada_rnd_search_cv.fit(X_train, y_train)\n",
    "\n",
    "print(ada_rnd_search_cv.best_params_)\n",
    "print(ada_rnd_search_cv.best_score_)"
   ]
  },
  {
   "cell_type": "code",
   "execution_count": 59,
   "id": "5a690cf1",
   "metadata": {},
   "outputs": [
    {
     "data": {
      "text/html": [
       "<div>\n",
       "<style scoped>\n",
       "    .dataframe tbody tr th:only-of-type {\n",
       "        vertical-align: middle;\n",
       "    }\n",
       "\n",
       "    .dataframe tbody tr th {\n",
       "        vertical-align: top;\n",
       "    }\n",
       "\n",
       "    .dataframe thead th {\n",
       "        text-align: right;\n",
       "    }\n",
       "</style>\n",
       "<table border=\"1\" class=\"dataframe\">\n",
       "  <thead>\n",
       "    <tr style=\"text-align: right;\">\n",
       "      <th></th>\n",
       "      <th>param_n_estimators</th>\n",
       "      <th>mean_test_score</th>\n",
       "    </tr>\n",
       "  </thead>\n",
       "  <tbody>\n",
       "    <tr>\n",
       "      <th>31</th>\n",
       "      <td>319</td>\n",
       "      <td>0.775866</td>\n",
       "    </tr>\n",
       "    <tr>\n",
       "      <th>28</th>\n",
       "      <td>359</td>\n",
       "      <td>0.775866</td>\n",
       "    </tr>\n",
       "    <tr>\n",
       "      <th>47</th>\n",
       "      <td>377</td>\n",
       "      <td>0.775866</td>\n",
       "    </tr>\n",
       "    <tr>\n",
       "      <th>44</th>\n",
       "      <td>338</td>\n",
       "      <td>0.775866</td>\n",
       "    </tr>\n",
       "    <tr>\n",
       "      <th>6</th>\n",
       "      <td>358</td>\n",
       "      <td>0.775685</td>\n",
       "    </tr>\n",
       "  </tbody>\n",
       "</table>\n",
       "</div>"
      ],
      "text/plain": [
       "   param_n_estimators  mean_test_score\n",
       "31                319         0.775866\n",
       "28                359         0.775866\n",
       "47                377         0.775866\n",
       "44                338         0.775866\n",
       "6                 358         0.775685"
      ]
     },
     "execution_count": 59,
     "metadata": {},
     "output_type": "execute_result"
    }
   ],
   "source": [
    "#Save the results\n",
    "ada_rnd_search_df = pd.DataFrame(ada_rnd_search_cv.cv_results_)\n",
    "tuned_params = [\"param_n_estimators\", \"mean_test_score\"]\n",
    "#Rank by score\n",
    "ada_rnd_search_df[tuned_params].sort_values(by = \"mean_test_score\", ascending = False).head()"
   ]
  },
  {
   "cell_type": "markdown",
   "id": "4b82149a",
   "metadata": {},
   "source": [
    "### XGBoost"
   ]
  },
  {
   "cell_type": "code",
   "execution_count": 63,
   "id": "3d0c09f3",
   "metadata": {},
   "outputs": [],
   "source": [
    "#Randomly search through the hyperparameter space\n",
    "param_distribs = {\n",
    "    \"max_depth\": [2,3,4,5,6,7,20],\n",
    "    \"gamma\": uniform(loc = 0.0, scale = 3),\n",
    "    \"min_child_weight\": list(range(20,51)),\n",
    "    \"colsample_bytree\": uniform(loc = 0.1, scale = 0.9),\n",
    "    \"learning_rate\": uniform(loc = 0.01, scale = 0.5),\n",
    "    \"subsample\": uniform(loc = 0.5, scale = 0.5),\n",
    "    \"reg_lambda\": uniform(loc = 0.01, scale = 3)\n",
    "    }\n",
    "rng = np.random.RandomState(42)\n",
    "n_iter = 100\n",
    "param_list = list(ParameterSampler(param_distribs, n_iter = n_iter, random_state=rng))"
   ]
  },
  {
   "cell_type": "code",
   "execution_count": 64,
   "id": "4ee2ddc0",
   "metadata": {},
   "outputs": [
    {
     "name": "stdout",
     "output_type": "stream",
     "text": [
      "Done with 10 of 100\n",
      "Done with 20 of 100\n",
      "Done with 30 of 100\n",
      "Done with 40 of 100\n",
      "Done with 50 of 100\n",
      "Done with 60 of 100\n",
      "Done with 70 of 100\n",
      "Done with 80 of 100\n",
      "Done with 90 of 100\n",
      "Done with 100 of 100\n",
      "Wall time: 2min 35s\n"
     ]
    }
   ],
   "source": [
    "%%time\n",
    "#Create an evaluation set\n",
    "eval_set = [(X_train, y_train), (X_val, y_val)]\n",
    "val_rec_score = []\n",
    "n_est = []\n",
    "counter = 1\n",
    "xgb_cf = xgboost.XGBClassifier(n_estimators = 1000, use_label_encoder=False, objective = \"binary:logistic\")\n",
    "\n",
    "for params in param_list:\n",
    "    xgb_cf.set_params(**params)\n",
    "    xgb_cf.fit(X_train, y_train, eval_set=eval_set, eval_metric = \"auc\", verbose = False, early_stopping_rounds = 30)\n",
    "    val_set_preds = xgb_cf.predict(X_val)\n",
    "    val_rec_score.append(recall_score(y_val, val_set_preds))\n",
    "    n_est.append(int(xgb_cf.get_booster().attributes()[\"best_ntree_limit\"]))\n",
    "    if counter % 10 == 0:\n",
    "        print(f'Done with {counter} of {n_iter}')\n",
    "    counter += 1"
   ]
  },
  {
   "cell_type": "code",
   "execution_count": 67,
   "id": "ef6101f8",
   "metadata": {},
   "outputs": [
    {
     "data": {
      "text/html": [
       "<div>\n",
       "<style scoped>\n",
       "    .dataframe tbody tr th:only-of-type {\n",
       "        vertical-align: middle;\n",
       "    }\n",
       "\n",
       "    .dataframe tbody tr th {\n",
       "        vertical-align: top;\n",
       "    }\n",
       "\n",
       "    .dataframe thead th {\n",
       "        text-align: right;\n",
       "    }\n",
       "</style>\n",
       "<table border=\"1\" class=\"dataframe\">\n",
       "  <thead>\n",
       "    <tr style=\"text-align: right;\">\n",
       "      <th></th>\n",
       "      <th>colsample_bytree</th>\n",
       "      <th>gamma</th>\n",
       "      <th>learning_rate</th>\n",
       "      <th>max_depth</th>\n",
       "      <th>min_child_weight</th>\n",
       "      <th>reg_lambda</th>\n",
       "      <th>subsample</th>\n",
       "      <th>Validation Recall</th>\n",
       "      <th>N Estimators</th>\n",
       "    </tr>\n",
       "  </thead>\n",
       "  <tbody>\n",
       "    <tr>\n",
       "      <th>9</th>\n",
       "      <td>0.393887</td>\n",
       "      <td>1.711332</td>\n",
       "      <td>0.270417</td>\n",
       "      <td>7</td>\n",
       "      <td>27</td>\n",
       "      <td>2.543602</td>\n",
       "      <td>0.873660</td>\n",
       "      <td>0.776873</td>\n",
       "      <td>105</td>\n",
       "    </tr>\n",
       "    <tr>\n",
       "      <th>88</th>\n",
       "      <td>0.505490</td>\n",
       "      <td>0.387478</td>\n",
       "      <td>0.487026</td>\n",
       "      <td>6</td>\n",
       "      <td>23</td>\n",
       "      <td>0.695928</td>\n",
       "      <td>0.835850</td>\n",
       "      <td>0.776873</td>\n",
       "      <td>13</td>\n",
       "    </tr>\n",
       "    <tr>\n",
       "      <th>37</th>\n",
       "      <td>0.902842</td>\n",
       "      <td>1.893416</td>\n",
       "      <td>0.407406</td>\n",
       "      <td>7</td>\n",
       "      <td>20</td>\n",
       "      <td>1.740712</td>\n",
       "      <td>0.746259</td>\n",
       "      <td>0.776059</td>\n",
       "      <td>10</td>\n",
       "    </tr>\n",
       "    <tr>\n",
       "      <th>59</th>\n",
       "      <td>0.215650</td>\n",
       "      <td>2.433613</td>\n",
       "      <td>0.420320</td>\n",
       "      <td>5</td>\n",
       "      <td>22</td>\n",
       "      <td>2.471281</td>\n",
       "      <td>0.825742</td>\n",
       "      <td>0.776059</td>\n",
       "      <td>105</td>\n",
       "    </tr>\n",
       "    <tr>\n",
       "      <th>52</th>\n",
       "      <td>0.325219</td>\n",
       "      <td>1.647680</td>\n",
       "      <td>0.367298</td>\n",
       "      <td>6</td>\n",
       "      <td>40</td>\n",
       "      <td>1.924812</td>\n",
       "      <td>0.758348</td>\n",
       "      <td>0.776059</td>\n",
       "      <td>72</td>\n",
       "    </tr>\n",
       "  </tbody>\n",
       "</table>\n",
       "</div>"
      ],
      "text/plain": [
       "    colsample_bytree     gamma  learning_rate  max_depth  min_child_weight  \\\n",
       "9           0.393887  1.711332       0.270417          7                27   \n",
       "88          0.505490  0.387478       0.487026          6                23   \n",
       "37          0.902842  1.893416       0.407406          7                20   \n",
       "59          0.215650  2.433613       0.420320          5                22   \n",
       "52          0.325219  1.647680       0.367298          6                40   \n",
       "\n",
       "    reg_lambda  subsample  Validation Recall  N Estimators  \n",
       "9     2.543602   0.873660           0.776873           105  \n",
       "88    0.695928   0.835850           0.776873            13  \n",
       "37    1.740712   0.746259           0.776059            10  \n",
       "59    2.471281   0.825742           0.776059           105  \n",
       "52    1.924812   0.758348           0.776059            72  "
      ]
     },
     "execution_count": 67,
     "metadata": {},
     "output_type": "execute_result"
    }
   ],
   "source": [
    "#Save the results\n",
    "xgb_param_search_df = pd.DataFrame(param_list)\n",
    "xgb_param_search_df[\"Validation Recall\"] = val_rec_score\n",
    "xgb_param_search_df[\"N Estimators\"] = n_est\n",
    "#Rank by score\n",
    "xgb_param_search_df.sort_values(by=\"Validation Recall\", ascending = False).head()"
   ]
  },
  {
   "cell_type": "markdown",
   "id": "40f295fb",
   "metadata": {},
   "source": [
    "# Test Scores"
   ]
  },
  {
   "cell_type": "markdown",
   "id": "e4ceb92d",
   "metadata": {},
   "source": [
    "## Prepare the Training and Test Data"
   ]
  },
  {
   "cell_type": "code",
   "execution_count": 68,
   "id": "515bf71f",
   "metadata": {},
   "outputs": [],
   "source": [
    "cat_vars = [\"property_category\", \"address_qualifier\", \"borough_name\", \"station_pumps\", \"pumps_attending\", \"Month\", \n",
    "            \"Hour\"]\n",
    "num_vars = [\"first_time\"]\n",
    "target = \"Emergency\"\n",
    "X_train, y_train = prepare_london(london_train, cat_vars, num_vars, target)\n",
    "X_test, y_test = prepare_london(london_test, cat_vars, num_vars, target)"
   ]
  },
  {
   "cell_type": "code",
   "execution_count": 69,
   "id": "ceec0dc8",
   "metadata": {},
   "outputs": [
    {
     "name": "stdout",
     "output_type": "stream",
     "text": [
      "(26719, 80)\n",
      "(5089, 80)\n",
      "(26719,)\n",
      "(5089,)\n"
     ]
    }
   ],
   "source": [
    "print(X.shape)\n",
    "print(X_test.shape)\n",
    "print(y.shape)\n",
    "print(y_test.shape)"
   ]
  },
  {
   "cell_type": "markdown",
   "id": "6a49f51a",
   "metadata": {},
   "source": [
    "## Logistic Regression"
   ]
  },
  {
   "cell_type": "code",
   "execution_count": 70,
   "id": "f7fc69fa",
   "metadata": {},
   "outputs": [],
   "source": [
    "#Get the best hyperparameters\n",
    "max_lr_score = lr_rnd_search_df[\"mean_test_score\"].argmax()\n",
    "best_C = lr_rnd_search_df.loc[max_lr_score, \"param_C\"]\n",
    "\n",
    "log_reg = LogisticRegression(penalty = \"l2\", C = best_C, solver = \"lbfgs\", random_state=42, max_iter = 10000)"
   ]
  },
  {
   "cell_type": "code",
   "execution_count": 71,
   "id": "6d9babc3",
   "metadata": {},
   "outputs": [
    {
     "name": "stdout",
     "output_type": "stream",
     "text": [
      "Wall time: 180 ms\n"
     ]
    },
    {
     "data": {
      "text/plain": [
       "LogisticRegression(C=0.192019201920192, max_iter=10000, random_state=42)"
      ]
     },
     "execution_count": 71,
     "metadata": {},
     "output_type": "execute_result"
    }
   ],
   "source": [
    "%%time\n",
    "log_reg.fit(X_train, y_train)"
   ]
  },
  {
   "cell_type": "code",
   "execution_count": 72,
   "id": "45c28e88",
   "metadata": {},
   "outputs": [
    {
     "name": "stdout",
     "output_type": "stream",
     "text": [
      "Logistic Regression Test F1-Score: 80.78%\n",
      "Logistic Regression Test Recall Score: 86.04%\n",
      "Logistic Regression Test Accuracy Score: 81.51%\n"
     ]
    }
   ],
   "source": [
    "y_pred = log_reg.predict(X_test)\n",
    "lr_test_f1 = np.round(f1_score(y_pred, y_test), 5) * 100\n",
    "lr_test_acc = np.round(accuracy_score(y_pred, y_test), 5) * 100\n",
    "lr_test_rec = np.round(recall_score(y_pred, y_test), 5) * 100\n",
    "print(f'Logistic Regression Test F1-Score: {lr_test_f1:.2f}%')\n",
    "print(f'Logistic Regression Test Recall Score: {lr_test_rec:.2f}%')\n",
    "print(f'Logistic Regression Test Accuracy Score: {lr_test_acc:.2f}%')"
   ]
  },
  {
   "cell_type": "code",
   "execution_count": 73,
   "id": "5c80f78e",
   "metadata": {},
   "outputs": [
    {
     "data": {
      "text/plain": [
       "array([[2170,  620],\n",
       "       [ 321, 1978]], dtype=int64)"
      ]
     },
     "execution_count": 73,
     "metadata": {},
     "output_type": "execute_result"
    }
   ],
   "source": [
    "confusion_matrix(y_pred, y_test)"
   ]
  },
  {
   "cell_type": "markdown",
   "id": "351b8c1e",
   "metadata": {},
   "source": [
    "## Bayesian Regression"
   ]
  },
  {
   "cell_type": "code",
   "execution_count": 74,
   "id": "397fc810",
   "metadata": {},
   "outputs": [],
   "source": [
    "#Get the best hyperparameters\n",
    "max_br_score = br_param_search_df[\"Recall Score\"].argmax()\n",
    "best_alp1 = br_param_search_df.loc[max_br_score, \"alpha_1\"]\n",
    "best_alp2 = br_param_search_df.loc[max_br_score, \"alpha_2\"]\n",
    "best_lam1 = br_param_search_df.loc[max_br_score, \"lambda_1\"]\n",
    "best_lam2 = br_param_search_df.loc[max_br_score, \"lambda_2\"]\n",
    "\n",
    "br_reg = BayesianRidge(alpha_1=best_alp1, alpha_2=best_alp2, lambda_1=best_lam1, lambda_2=best_lam2)"
   ]
  },
  {
   "cell_type": "code",
   "execution_count": 75,
   "id": "8ea9aa88",
   "metadata": {},
   "outputs": [
    {
     "name": "stdout",
     "output_type": "stream",
     "text": [
      "Wall time: 139 ms\n"
     ]
    },
    {
     "data": {
      "text/plain": [
       "BayesianRidge(alpha_1=0.8334426408004217, alpha_2=0.21333911067827616,\n",
       "              lambda_1=0.18282496720710062, lambda_2=0.18440450985343382)"
      ]
     },
     "execution_count": 75,
     "metadata": {},
     "output_type": "execute_result"
    }
   ],
   "source": [
    "%%time\n",
    "br_reg.fit(X_train.toarray(), y_train)"
   ]
  },
  {
   "cell_type": "code",
   "execution_count": 76,
   "id": "f48a7d40",
   "metadata": {},
   "outputs": [
    {
     "name": "stdout",
     "output_type": "stream",
     "text": [
      "Bayesian Regression Test F1-Score: 80.71%\n",
      "Bayesian Regression Test Recall Score: 86.02%\n",
      "Bayesian Regression Test Accuracy Score: 81.45%\n"
     ]
    }
   ],
   "source": [
    "y_pred = br_reg.predict(X_test.toarray())\n",
    "y_pred = np.round(y_pred)\n",
    "br_test_f1 = np.round(f1_score(y_pred, y_test), 5) * 100\n",
    "br_test_acc = np.round(accuracy_score(y_pred, y_test), 5) * 100\n",
    "br_test_rec = np.round(recall_score(y_pred, y_test), 5) * 100\n",
    "print(f'Bayesian Regression Test F1-Score: {br_test_f1:.2f}%')\n",
    "print(f'Bayesian Regression Test Recall Score: {br_test_rec:.2f}%')\n",
    "print(f'Bayesian Regression Test Accuracy Score: {br_test_acc:.2f}%')"
   ]
  },
  {
   "cell_type": "code",
   "execution_count": 77,
   "id": "6eb89092",
   "metadata": {},
   "outputs": [
    {
     "data": {
      "text/plain": [
       "array([[2170,  623],\n",
       "       [ 321, 1975]], dtype=int64)"
      ]
     },
     "execution_count": 77,
     "metadata": {},
     "output_type": "execute_result"
    }
   ],
   "source": [
    "confusion_matrix(y_pred, y_test)"
   ]
  },
  {
   "cell_type": "markdown",
   "id": "5e069d27",
   "metadata": {},
   "source": [
    "## Linear SVC"
   ]
  },
  {
   "cell_type": "code",
   "execution_count": 78,
   "id": "ca83c57c",
   "metadata": {},
   "outputs": [],
   "source": [
    "#Get the best hyperparameters\n",
    "max_svc_f1 = svc_rnd_search_df[\"mean_test_score\"].argmax()\n",
    "best_C = svc_rnd_search_df.loc[max_svc_f1, \"param_C\"]\n",
    "\n",
    "svc_clf = LinearSVC(penalty=\"l2\", C = best_C, max_iter=10000)"
   ]
  },
  {
   "cell_type": "code",
   "execution_count": 79,
   "id": "490800b5",
   "metadata": {},
   "outputs": [
    {
     "name": "stdout",
     "output_type": "stream",
     "text": [
      "Wall time: 144 ms\n"
     ]
    },
    {
     "data": {
      "text/plain": [
       "LinearSVC(C=0.1, max_iter=10000)"
      ]
     },
     "execution_count": 79,
     "metadata": {},
     "output_type": "execute_result"
    }
   ],
   "source": [
    "%%time\n",
    "svc_clf.fit(X_train, y_train)"
   ]
  },
  {
   "cell_type": "code",
   "execution_count": 80,
   "id": "0789e6ae",
   "metadata": {},
   "outputs": [
    {
     "name": "stdout",
     "output_type": "stream",
     "text": [
      "Linear SVC Test F1-Score: 80.65%\n",
      "Linear SVC Test Recall Score: 86.04%\n",
      "Linear SVC Test Accuracy Score: 81.41%\n"
     ]
    }
   ],
   "source": [
    "y_pred = svc_clf.predict(X_test)\n",
    "svc_test_f1 = np.round(f1_score(y_pred, y_test), 5) * 100\n",
    "svc_test_acc = np.round(accuracy_score(y_pred, y_test), 5) * 100\n",
    "svc_test_rec = np.round(recall_score(y_pred, y_test), 5) * 100\n",
    "print(f'Linear SVC Test F1-Score: {svc_test_f1:.2f}%')\n",
    "print(f'Linear SVC Test Recall Score: {svc_test_rec:.2f}%')\n",
    "print(f'Linear SVC Test Accuracy Score: {svc_test_acc:.2f}%')"
   ]
  },
  {
   "cell_type": "code",
   "execution_count": 81,
   "id": "95a05173",
   "metadata": {},
   "outputs": [
    {
     "data": {
      "text/plain": [
       "array([[2171,  626],\n",
       "       [ 320, 1972]], dtype=int64)"
      ]
     },
     "execution_count": 81,
     "metadata": {},
     "output_type": "execute_result"
    }
   ],
   "source": [
    "confusion_matrix(y_pred, y_test)"
   ]
  },
  {
   "cell_type": "markdown",
   "id": "fd351b5d",
   "metadata": {},
   "source": [
    "## Naive Bayes"
   ]
  },
  {
   "cell_type": "code",
   "execution_count": 82,
   "id": "4f61ac83",
   "metadata": {},
   "outputs": [],
   "source": [
    "nb_clf = GaussianNB()"
   ]
  },
  {
   "cell_type": "code",
   "execution_count": 83,
   "id": "55d7d97a",
   "metadata": {},
   "outputs": [
    {
     "name": "stdout",
     "output_type": "stream",
     "text": [
      "Wall time: 75.8 ms\n"
     ]
    },
    {
     "data": {
      "text/plain": [
       "GaussianNB()"
      ]
     },
     "execution_count": 83,
     "metadata": {},
     "output_type": "execute_result"
    }
   ],
   "source": [
    "%%time\n",
    "nb_clf.fit(X_train.toarray(), y_train)"
   ]
  },
  {
   "cell_type": "code",
   "execution_count": 84,
   "id": "4aaa33ab",
   "metadata": {},
   "outputs": [
    {
     "name": "stdout",
     "output_type": "stream",
     "text": [
      "Naive Bayes Test F1-Score: 69.81%\n",
      "Naive Bayes Test Recall Score: 76.22%\n",
      "Naive Bayes Test Accuracy Score: 71.57%\n"
     ]
    }
   ],
   "source": [
    "y_pred = nb_clf.predict(X_test.toarray())\n",
    "nb_test_f1 = np.round(f1_score(y_pred, y_test), 5) * 100\n",
    "nb_test_acc = np.round(accuracy_score(y_pred, y_test), 5) * 100\n",
    "nb_test_rec = np.round(recall_score(y_pred, y_test), 5) * 100\n",
    "print(f'Naive Bayes Test F1-Score: {nb_test_f1:.2f}%')\n",
    "print(f'Naive Bayes Test Recall Score: {nb_test_rec:.2f}%')\n",
    "print(f'Naive Bayes Test Accuracy Score: {nb_test_acc:.2f}%')"
   ]
  },
  {
   "cell_type": "code",
   "execution_count": 85,
   "id": "06a47f1a",
   "metadata": {},
   "outputs": [
    {
     "data": {
      "text/plain": [
       "array([[1969,  925],\n",
       "       [ 522, 1673]], dtype=int64)"
      ]
     },
     "execution_count": 85,
     "metadata": {},
     "output_type": "execute_result"
    }
   ],
   "source": [
    "confusion_matrix(y_pred, y_test)"
   ]
  },
  {
   "cell_type": "markdown",
   "id": "2b9035a7",
   "metadata": {},
   "source": [
    "## Random Forest"
   ]
  },
  {
   "cell_type": "code",
   "execution_count": 86,
   "id": "aa03cbdd",
   "metadata": {},
   "outputs": [],
   "source": [
    "#Get the best hyperparameters\n",
    "max_rf_f1 = rf_rnd_search_df[\"mean_test_score\"].argmax()\n",
    "best_n_est = rf_rnd_search_df.loc[max_rf_f1, \"param_n_estimators\"]\n",
    "\n",
    "rf_clf = RandomForestClassifier(n_estimators=best_n_est, random_state=42)"
   ]
  },
  {
   "cell_type": "code",
   "execution_count": 87,
   "id": "034bd0cf",
   "metadata": {},
   "outputs": [
    {
     "name": "stdout",
     "output_type": "stream",
     "text": [
      "Wall time: 17.2 s\n"
     ]
    },
    {
     "data": {
      "text/plain": [
       "RandomForestClassifier(n_estimators=69, random_state=42)"
      ]
     },
     "execution_count": 87,
     "metadata": {},
     "output_type": "execute_result"
    }
   ],
   "source": [
    "%%time\n",
    "rf_clf.fit(X_train, y_train)"
   ]
  },
  {
   "cell_type": "code",
   "execution_count": 88,
   "id": "0ca439f7",
   "metadata": {},
   "outputs": [
    {
     "name": "stdout",
     "output_type": "stream",
     "text": [
      "Random Forest Test F1-Score: 79.32%\n",
      "Random Forest Test Recall Score: 81.04%\n",
      "Random Forest Test Accuracy Score: 79.33%\n"
     ]
    }
   ],
   "source": [
    "y_pred = rf_clf.predict(X_test)\n",
    "rf_test_f1 = np.round(f1_score(y_pred, y_test), 5) * 100\n",
    "rf_test_acc = np.round(accuracy_score(y_pred, y_test), 5) * 100\n",
    "rf_test_rec = np.round(recall_score(y_pred, y_test), 5) * 100\n",
    "print(f'Random Forest Test F1-Score: {rf_test_f1:.2f}%')\n",
    "print(f'Random Forest Test Recall Score: {rf_test_rec:.2f}%')\n",
    "print(f'Random Forest Test Accuracy Score: {rf_test_acc:.2f}%')"
   ]
  },
  {
   "cell_type": "code",
   "execution_count": 89,
   "id": "d776912e",
   "metadata": {},
   "outputs": [
    {
     "data": {
      "text/plain": [
       "array([[2019,  580],\n",
       "       [ 472, 2018]], dtype=int64)"
      ]
     },
     "execution_count": 89,
     "metadata": {},
     "output_type": "execute_result"
    }
   ],
   "source": [
    "confusion_matrix(y_pred, y_test)"
   ]
  },
  {
   "cell_type": "markdown",
   "id": "5724153c",
   "metadata": {},
   "source": [
    "## Extremely Random Trees"
   ]
  },
  {
   "cell_type": "code",
   "execution_count": 90,
   "id": "1a76cfc2",
   "metadata": {},
   "outputs": [],
   "source": [
    "#Get the best hyperparameters\n",
    "max_ada_f1 = er_rnd_search_df[\"mean_test_score\"].argmax()\n",
    "best_n_est = er_rnd_search_df.loc[max_ada_f1, \"param_n_estimators\"]\n",
    "\n",
    "er_clf = ExtraTreesClassifier(n_estimators=best_n_est, random_state=42)"
   ]
  },
  {
   "cell_type": "code",
   "execution_count": 91,
   "id": "5e0401d4",
   "metadata": {},
   "outputs": [
    {
     "name": "stdout",
     "output_type": "stream",
     "text": [
      "Wall time: 1min 32s\n"
     ]
    },
    {
     "data": {
      "text/plain": [
       "ExtraTreesClassifier(n_estimators=269, random_state=42)"
      ]
     },
     "execution_count": 91,
     "metadata": {},
     "output_type": "execute_result"
    }
   ],
   "source": [
    "%%time\n",
    "er_clf.fit(X_train, y_train)"
   ]
  },
  {
   "cell_type": "code",
   "execution_count": 92,
   "id": "cf4d1edc",
   "metadata": {},
   "outputs": [
    {
     "name": "stdout",
     "output_type": "stream",
     "text": [
      "Extremely Random Trees Test F1-Score: 76.61%\n",
      "Extremely Random Trees Test Recall Score: 77.41%\n",
      "Extremely Random Trees Accuracy Score: 76.36%\n"
     ]
    }
   ],
   "source": [
    "y_pred = er_clf.predict(X_test)\n",
    "er_test_f1 = np.round(f1_score(y_pred, y_test), 5) * 100\n",
    "er_test_acc = np.round(accuracy_score(y_pred, y_test), 5) * 100\n",
    "er_test_rec = np.round(recall_score(y_pred, y_test), 5) * 100\n",
    "print(f'Extremely Random Trees Test F1-Score: {er_test_f1:.2f}%')\n",
    "print(f'Extremely Random Trees Test Recall Score: {er_test_rec:.2f}%')\n",
    "print(f'Extremely Random Trees Accuracy Score: {er_test_acc:.2f}%')"
   ]
  },
  {
   "cell_type": "code",
   "execution_count": 93,
   "id": "cfe15828",
   "metadata": {},
   "outputs": [
    {
     "data": {
      "text/plain": [
       "array([[1916,  628],\n",
       "       [ 575, 1970]], dtype=int64)"
      ]
     },
     "execution_count": 93,
     "metadata": {},
     "output_type": "execute_result"
    }
   ],
   "source": [
    "confusion_matrix(y_pred, y_test)"
   ]
  },
  {
   "cell_type": "markdown",
   "id": "57f26f58",
   "metadata": {},
   "source": [
    "## AdaBoost"
   ]
  },
  {
   "cell_type": "code",
   "execution_count": 94,
   "id": "b56a309e",
   "metadata": {},
   "outputs": [],
   "source": [
    "#Get the best hyperparameters\n",
    "max_ada_f1 = ada_rnd_search_df[\"mean_test_score\"].argmax()\n",
    "best_n_est = ada_rnd_search_df.loc[max_rf_f1, \"param_n_estimators\"]\n",
    "best_lr = ada_rnd_search_df.loc[max_rf_f1, \"param_learning_rate\"]\n",
    "\n",
    "ada_clf = AdaBoostClassifier(n_estimators=best_n_est, learning_rate=best_lr)"
   ]
  },
  {
   "cell_type": "code",
   "execution_count": 95,
   "id": "32c7f176",
   "metadata": {},
   "outputs": [
    {
     "name": "stdout",
     "output_type": "stream",
     "text": [
      "Wall time: 6.12 s\n"
     ]
    },
    {
     "data": {
      "text/plain": [
       "AdaBoostClassifier(learning_rate=0.20270825126995806, n_estimators=395)"
      ]
     },
     "execution_count": 95,
     "metadata": {},
     "output_type": "execute_result"
    }
   ],
   "source": [
    "%%time\n",
    "ada_clf.fit(X_train, y_train)"
   ]
  },
  {
   "cell_type": "code",
   "execution_count": 96,
   "id": "15e15df4",
   "metadata": {},
   "outputs": [
    {
     "name": "stdout",
     "output_type": "stream",
     "text": [
      "AdaBoost Test F1-Score: 80.76%\n",
      "AdaBoost Test Recall Score: 85.41%\n",
      "AdaBoost Test Accuracy Score: 81.37%\n"
     ]
    }
   ],
   "source": [
    "y_pred = ada_clf.predict(X_test)\n",
    "ada_test_f1 = np.round(f1_score(y_pred, y_test), 5) * 100\n",
    "ada_test_acc = np.round(accuracy_score(y_pred, y_test), 5) * 100\n",
    "ada_test_rec = np.round(recall_score(y_pred, y_test), 5) * 100\n",
    "print(f'AdaBoost Test F1-Score: {ada_test_f1:.2f}%')\n",
    "print(f'AdaBoost Test Recall Score: {ada_test_rec:.2f}%')\n",
    "print(f'AdaBoost Test Accuracy Score: {ada_test_acc:.2f}%')"
   ]
  },
  {
   "cell_type": "code",
   "execution_count": 97,
   "id": "fbc24687",
   "metadata": {},
   "outputs": [
    {
     "data": {
      "text/plain": [
       "array([[2151,  608],\n",
       "       [ 340, 1990]], dtype=int64)"
      ]
     },
     "execution_count": 97,
     "metadata": {},
     "output_type": "execute_result"
    }
   ],
   "source": [
    "confusion_matrix(y_pred, y_test)"
   ]
  },
  {
   "cell_type": "markdown",
   "id": "a9e745e0",
   "metadata": {},
   "source": [
    "## XGBoost"
   ]
  },
  {
   "cell_type": "code",
   "execution_count": 98,
   "id": "05367bfd",
   "metadata": {},
   "outputs": [],
   "source": [
    "#Get the best hyperparameters\n",
    "max_xgb_f1 = xgb_param_search_df[\"Validation Recall\"].argmax()\n",
    "best_colsample = xgb_param_search_df.loc[max_xgb_f1, \"colsample_bytree\"]\n",
    "best_gamma = xgb_param_search_df.loc[max_xgb_f1, \"gamma\"]\n",
    "best_lr = xgb_param_search_df.loc[max_xgb_f1, \"learning_rate\"]\n",
    "best_max_depth = xgb_param_search_df.loc[max_xgb_f1, \"max_depth\"]\n",
    "best_min_child = xgb_param_search_df.loc[max_xgb_f1, \"min_child_weight\"]\n",
    "best_reg_lambda = xgb_param_search_df.loc[max_xgb_f1, \"reg_lambda\"]\n",
    "best_subsample = xgb_param_search_df.loc[max_xgb_f1, \"subsample\"]\n",
    "best_n_est = xgb_param_search_df.loc[max_xgb_f1, \"N Estimators\"]\n",
    "\n",
    "xgb_clf = xgboost.XGBClassifier(n_estimators=best_n_est, colsample_bytree = best_colsample, gamma = best_gamma, \n",
    "                                learning_rate=best_lr, max_depth = best_max_depth, min_child_weight=best_min_child,\n",
    "                                reg_lambda=best_reg_lambda, subsample=best_subsample,\n",
    "                                use_label_encoder=False, objective = \"binary:logistic\")"
   ]
  },
  {
   "cell_type": "code",
   "execution_count": 99,
   "id": "d308c869",
   "metadata": {},
   "outputs": [
    {
     "name": "stdout",
     "output_type": "stream",
     "text": [
      "[12:26:30] WARNING: C:/Users/Administrator/workspace/xgboost-win64_release_1.5.1/src/learner.cc:1115: Starting in XGBoost 1.3.0, the default evaluation metric used with the objective 'binary:logistic' was changed from 'error' to 'logloss'. Explicitly set eval_metric if you'd like to restore the old behavior.\n",
      "Wall time: 1.02 s\n"
     ]
    },
    {
     "data": {
      "text/plain": [
       "XGBClassifier(base_score=0.5, booster='gbtree', colsample_bylevel=1,\n",
       "              colsample_bynode=1, colsample_bytree=0.39388669192525183,\n",
       "              enable_categorical=False, gamma=1.711331923216198, gpu_id=-1,\n",
       "              importance_type=None, interaction_constraints='',\n",
       "              learning_rate=0.27041713001291184, max_delta_step=0, max_depth=7,\n",
       "              min_child_weight=27, missing=nan, monotone_constraints='()',\n",
       "              n_estimators=105, n_jobs=8, num_parallel_tree=1, predictor='auto',\n",
       "              random_state=0, reg_alpha=0, reg_lambda=2.543601546034454,\n",
       "              scale_pos_weight=1, subsample=0.8736600550686904,\n",
       "              tree_method='exact', use_label_encoder=False,\n",
       "              validate_parameters=1, verbosity=None)"
      ]
     },
     "execution_count": 99,
     "metadata": {},
     "output_type": "execute_result"
    }
   ],
   "source": [
    "%%time\n",
    "xgb_clf.fit(X_train, y_train)"
   ]
  },
  {
   "cell_type": "code",
   "execution_count": 100,
   "id": "c0474a1e",
   "metadata": {},
   "outputs": [
    {
     "name": "stdout",
     "output_type": "stream",
     "text": [
      "XGBoost Test F1-Score: 81.42%\n",
      "XGBoost Test Recall Score: 85.23%\n",
      "XGBoost Test Accuracy Score: 81.84%\n"
     ]
    }
   ],
   "source": [
    "y_pred = xgb_clf.predict(X_test)\n",
    "xgb_test_f1 = np.round(f1_score(y_pred, y_test), 5) * 100\n",
    "xgb_test_acc = np.round(accuracy_score(y_pred, y_test), 5) * 100\n",
    "xgb_test_rec = np.round(recall_score(y_pred, y_test), 5) * 100\n",
    "print(f'XGBoost Test F1-Score: {xgb_test_f1:.2f}%')\n",
    "print(f'XGBoost Test Recall Score: {xgb_test_rec:.2f}%')\n",
    "print(f'XGBoost Test Accuracy Score: {xgb_test_acc:.2f}%')"
   ]
  },
  {
   "cell_type": "code",
   "execution_count": 101,
   "id": "73946198",
   "metadata": {},
   "outputs": [
    {
     "data": {
      "text/plain": [
       "array([[2140,  573],\n",
       "       [ 351, 2025]], dtype=int64)"
      ]
     },
     "execution_count": 101,
     "metadata": {},
     "output_type": "execute_result"
    }
   ],
   "source": [
    "confusion_matrix(y_pred, y_test)"
   ]
  },
  {
   "cell_type": "markdown",
   "id": "2e90eb9f",
   "metadata": {},
   "source": [
    "# Test Results"
   ]
  },
  {
   "cell_type": "code",
   "execution_count": 102,
   "id": "09a80f9b",
   "metadata": {},
   "outputs": [],
   "source": [
    "Models = [\"Logistic Regression\", \"Bayesian Regression\", \"Naive Bayes\", \"Linear SVC\", \"Random Forest\",\n",
    "          \"Extreme Trees\", \"AdaBoost\", \"XGBoost\"]\n",
    "Recall_Test_Scores = [lr_test_rec, br_test_rec, nb_test_rec, svc_test_rec, rf_test_rec, er_test_rec, ada_test_rec, xgb_test_rec]\n",
    "Accuracy_Test_Scores = [lr_test_acc, br_test_acc, nb_test_acc, svc_test_acc, rf_test_acc, er_test_acc, ada_test_acc, xgb_test_acc]\n",
    "\n",
    "#Create a data frame with the results\n",
    "test_results = pd.DataFrame({\"Model\": Models, \"Recall\": Recall_Test_Scores, \"Accuracy\" : Accuracy_Test_Scores})"
   ]
  },
  {
   "cell_type": "code",
   "execution_count": 103,
   "id": "115dbbfa",
   "metadata": {},
   "outputs": [
    {
     "data": {
      "text/html": [
       "<div>\n",
       "<style scoped>\n",
       "    .dataframe tbody tr th:only-of-type {\n",
       "        vertical-align: middle;\n",
       "    }\n",
       "\n",
       "    .dataframe tbody tr th {\n",
       "        vertical-align: top;\n",
       "    }\n",
       "\n",
       "    .dataframe thead th {\n",
       "        text-align: right;\n",
       "    }\n",
       "</style>\n",
       "<table border=\"1\" class=\"dataframe\">\n",
       "  <thead>\n",
       "    <tr style=\"text-align: right;\">\n",
       "      <th></th>\n",
       "      <th>Model</th>\n",
       "      <th>Recall</th>\n",
       "      <th>Accuracy</th>\n",
       "    </tr>\n",
       "  </thead>\n",
       "  <tbody>\n",
       "    <tr>\n",
       "      <th>3</th>\n",
       "      <td>Linear SVC</td>\n",
       "      <td>86.038</td>\n",
       "      <td>81.411</td>\n",
       "    </tr>\n",
       "    <tr>\n",
       "      <th>0</th>\n",
       "      <td>Logistic Regression</td>\n",
       "      <td>86.037</td>\n",
       "      <td>81.509</td>\n",
       "    </tr>\n",
       "    <tr>\n",
       "      <th>1</th>\n",
       "      <td>Bayesian Regression</td>\n",
       "      <td>86.019</td>\n",
       "      <td>81.450</td>\n",
       "    </tr>\n",
       "    <tr>\n",
       "      <th>6</th>\n",
       "      <td>AdaBoost</td>\n",
       "      <td>85.408</td>\n",
       "      <td>81.372</td>\n",
       "    </tr>\n",
       "    <tr>\n",
       "      <th>7</th>\n",
       "      <td>XGBoost</td>\n",
       "      <td>85.227</td>\n",
       "      <td>81.843</td>\n",
       "    </tr>\n",
       "    <tr>\n",
       "      <th>4</th>\n",
       "      <td>Random Forest</td>\n",
       "      <td>81.044</td>\n",
       "      <td>79.328</td>\n",
       "    </tr>\n",
       "    <tr>\n",
       "      <th>5</th>\n",
       "      <td>Extreme Trees</td>\n",
       "      <td>77.407</td>\n",
       "      <td>76.361</td>\n",
       "    </tr>\n",
       "    <tr>\n",
       "      <th>2</th>\n",
       "      <td>Naive Bayes</td>\n",
       "      <td>76.219</td>\n",
       "      <td>71.566</td>\n",
       "    </tr>\n",
       "  </tbody>\n",
       "</table>\n",
       "</div>"
      ],
      "text/plain": [
       "                 Model  Recall  Accuracy\n",
       "3           Linear SVC  86.038    81.411\n",
       "0  Logistic Regression  86.037    81.509\n",
       "1  Bayesian Regression  86.019    81.450\n",
       "6             AdaBoost  85.408    81.372\n",
       "7              XGBoost  85.227    81.843\n",
       "4        Random Forest  81.044    79.328\n",
       "5        Extreme Trees  77.407    76.361\n",
       "2          Naive Bayes  76.219    71.566"
      ]
     },
     "execution_count": 103,
     "metadata": {},
     "output_type": "execute_result"
    }
   ],
   "source": [
    "test_results.sort_values(by=\"Recall\", ascending = False, inplace = True)\n",
    "test_results"
   ]
  },
  {
   "cell_type": "code",
   "execution_count": 104,
   "id": "27a573d2",
   "metadata": {},
   "outputs": [
    {
     "data": {
      "text/plain": [
       "Text(0.5, 0, 'Models')"
      ]
     },
     "execution_count": 104,
     "metadata": {},
     "output_type": "execute_result"
    },
    {
     "data": {
      "image/png": "[encoded data removed]",
      "text/plain": [
       "<Figure size 1080x720 with 1 Axes>"
      ]
     },
     "metadata": {},
     "output_type": "display_data"
    }
   ],
   "source": [
    "#Bar chart of the results\n",
    "sns.set(rc = {'figure.figsize':(15,10)})\n",
    "sns.barplot(x=\"Model\", y = \"Recall\", order = test_results[\"Model\"] \\\n",
    "                                            , data = test_results, color = \"mediumseagreen\")\n",
    "plt.title(\"Test Recall Scores\")\n",
    "plt.ylabel(\"Recall\")\n",
    "plt.xlabel(\"Models\")"
   ]
  },
  {
   "cell_type": "code",
   "execution_count": 105,
   "id": "a8f280b1",
   "metadata": {},
   "outputs": [
    {
     "data": {
      "text/html": [
       "<div>\n",
       "<style scoped>\n",
       "    .dataframe tbody tr th:only-of-type {\n",
       "        vertical-align: middle;\n",
       "    }\n",
       "\n",
       "    .dataframe tbody tr th {\n",
       "        vertical-align: top;\n",
       "    }\n",
       "\n",
       "    .dataframe thead th {\n",
       "        text-align: right;\n",
       "    }\n",
       "</style>\n",
       "<table border=\"1\" class=\"dataframe\">\n",
       "  <thead>\n",
       "    <tr style=\"text-align: right;\">\n",
       "      <th></th>\n",
       "      <th>Model</th>\n",
       "      <th>Recall</th>\n",
       "      <th>Accuracy</th>\n",
       "    </tr>\n",
       "  </thead>\n",
       "  <tbody>\n",
       "    <tr>\n",
       "      <th>7</th>\n",
       "      <td>XGBoost</td>\n",
       "      <td>85.227</td>\n",
       "      <td>81.843</td>\n",
       "    </tr>\n",
       "    <tr>\n",
       "      <th>0</th>\n",
       "      <td>Logistic Regression</td>\n",
       "      <td>86.037</td>\n",
       "      <td>81.509</td>\n",
       "    </tr>\n",
       "    <tr>\n",
       "      <th>1</th>\n",
       "      <td>Bayesian Regression</td>\n",
       "      <td>86.019</td>\n",
       "      <td>81.450</td>\n",
       "    </tr>\n",
       "    <tr>\n",
       "      <th>3</th>\n",
       "      <td>Linear SVC</td>\n",
       "      <td>86.038</td>\n",
       "      <td>81.411</td>\n",
       "    </tr>\n",
       "    <tr>\n",
       "      <th>6</th>\n",
       "      <td>AdaBoost</td>\n",
       "      <td>85.408</td>\n",
       "      <td>81.372</td>\n",
       "    </tr>\n",
       "    <tr>\n",
       "      <th>4</th>\n",
       "      <td>Random Forest</td>\n",
       "      <td>81.044</td>\n",
       "      <td>79.328</td>\n",
       "    </tr>\n",
       "    <tr>\n",
       "      <th>5</th>\n",
       "      <td>Extreme Trees</td>\n",
       "      <td>77.407</td>\n",
       "      <td>76.361</td>\n",
       "    </tr>\n",
       "    <tr>\n",
       "      <th>2</th>\n",
       "      <td>Naive Bayes</td>\n",
       "      <td>76.219</td>\n",
       "      <td>71.566</td>\n",
       "    </tr>\n",
       "  </tbody>\n",
       "</table>\n",
       "</div>"
      ],
      "text/plain": [
       "                 Model  Recall  Accuracy\n",
       "7              XGBoost  85.227    81.843\n",
       "0  Logistic Regression  86.037    81.509\n",
       "1  Bayesian Regression  86.019    81.450\n",
       "3           Linear SVC  86.038    81.411\n",
       "6             AdaBoost  85.408    81.372\n",
       "4        Random Forest  81.044    79.328\n",
       "5        Extreme Trees  77.407    76.361\n",
       "2          Naive Bayes  76.219    71.566"
      ]
     },
     "execution_count": 105,
     "metadata": {},
     "output_type": "execute_result"
    }
   ],
   "source": [
    "test_results.sort_values(by=\"Accuracy\", ascending = False, inplace = True)\n",
    "test_results"
   ]
  },
  {
   "cell_type": "code",
   "execution_count": 106,
   "id": "8728416f",
   "metadata": {},
   "outputs": [
    {
     "data": {
      "text/plain": [
       "Text(0.5, 0, 'Models')"
      ]
     },
     "execution_count": 106,
     "metadata": {},
     "output_type": "execute_result"
    },
    {
     "data": {
      "image/png": "[encoded data removed]",
      "text/plain": [
       "<Figure size 1080x720 with 1 Axes>"
      ]
     },
     "metadata": {},
     "output_type": "display_data"
    }
   ],
   "source": [
    "#Bar chart of the results\n",
    "sns.set(rc = {'figure.figsize':(15,10)})\n",
    "sns.barplot(x=\"Model\", y = \"Accuracy\", order = test_results[\"Model\"] \\\n",
    "                                            , data = test_results, color = \"mediumseagreen\")\n",
    "plt.title(\"Test Accuracy Scores\")\n",
    "plt.ylabel(\"Accuracy\")\n",
    "plt.xlabel(\"Models\")"
   ]
  },
  {
   "cell_type": "markdown",
   "id": "d427d7b6",
   "metadata": {},
   "source": [
    "# Save the Best Model"
   ]
  },
  {
   "cell_type": "code",
   "execution_count": 111,
   "id": "75c511ef",
   "metadata": {},
   "outputs": [],
   "source": [
    "london = ldf.clean_london(london)"
   ]
  },
  {
   "cell_type": "code",
   "execution_count": 112,
   "id": "968a2109",
   "metadata": {},
   "outputs": [],
   "source": [
    "X, y = prepare_london(london, cat_vars, num_vars, target)"
   ]
  },
  {
   "cell_type": "code",
   "execution_count": 113,
   "id": "a74946b5",
   "metadata": {},
   "outputs": [
    {
     "name": "stdout",
     "output_type": "stream",
     "text": [
      "(31808, 80)\n",
      "(31808,)\n"
     ]
    }
   ],
   "source": [
    "print(X.shape)\n",
    "print(y.shape)"
   ]
  },
  {
   "cell_type": "code",
   "execution_count": 114,
   "id": "a0d58dfc",
   "metadata": {},
   "outputs": [
    {
     "name": "stdout",
     "output_type": "stream",
     "text": [
      "Wall time: 157 ms\n"
     ]
    },
    {
     "data": {
      "text/plain": [
       "LogisticRegression(C=0.1, max_iter=10000, random_state=42)"
      ]
     },
     "execution_count": 114,
     "metadata": {},
     "output_type": "execute_result"
    }
   ],
   "source": [
    "%%time\n",
    "log_reg = LogisticRegression(penalty = \"l2\", C = best_C, solver = \"lbfgs\", random_state=42, max_iter = 10000)\n",
    "\n",
    "\n",
    "log_reg.fit(X, y)"
   ]
  },
  {
   "cell_type": "code",
   "execution_count": 271,
   "id": "cd6b0bb1",
   "metadata": {},
   "outputs": [],
   "source": [
    "#Save the best model\n",
    "pickle.dump(log_reg, open(\"best_model.sav\",'wb'))"
   ]
  }
 ],
 "metadata": {
  "kernelspec": {
   "display_name": "Python 3",
   "language": "python",
   "name": "python3"
  },
  "language_info": {
   "codemirror_mode": {
    "name": "ipython",
    "version": 3
   },
   "file_extension": ".py",
   "mimetype": "text/x-python",
   "name": "python",
   "nbconvert_exporter": "python",
   "pygments_lexer": "ipython3",
   "version": "3.8.8"
  }
 },
 "nbformat": 4,
 "nbformat_minor": 5
}
