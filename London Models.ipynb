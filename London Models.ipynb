{
 "cells": [
  {
   "cell_type": "markdown",
   "id": "f5ed5f0b",
   "metadata": {},
   "source": [
    "# Setup and Imports"
   ]
  },
  {
   "cell_type": "code",
   "execution_count": 48,
   "id": "aa0f7415",
   "metadata": {},
   "outputs": [],
   "source": [
    "import pandas as pd\n",
    "import numpy as np\n",
    "import london_data_functions as ldf\n",
    "import warnings\n",
    "import seaborn as sns\n",
    "sns.set\n",
    "import matplotlib.pyplot as plt\n",
    "\n",
    "from sklearn.pipeline import Pipeline\n",
    "from sklearn.preprocessing import StandardScaler\n",
    "from sklearn.preprocessing import OneHotEncoder\n",
    "from sklearn.compose import ColumnTransformer\n",
    "\n",
    "\n",
    "from sklearn.model_selection import cross_val_score\n",
    "from sklearn.model_selection import cross_val_predict\n",
    "\n",
    "from sklearn.metrics import confusion_matrix\n",
    "from sklearn.metrics import f1_score\n",
    "from sklearn.metrics import accuracy_score\n",
    "from sklearn.metrics import recall_score\n",
    "\n",
    "from sklearn.ensemble import RandomForestClassifier\n",
    "from sklearn.ensemble import ExtraTreesClassifier\n",
    "from sklearn.naive_bayes import GaussianNB\n",
    "from sklearn.svm import LinearSVC\n",
    "from sklearn.linear_model import BayesianRidge\n",
    "from sklearn.linear_model import LogisticRegression\n",
    "from sklearn.gaussian_process import GaussianProcessClassifier\n",
    "from sklearn.ensemble import AdaBoostClassifier\n",
    "\n",
    "from sklearn.model_selection import train_test_split\n",
    "from sklearn.model_selection import RandomizedSearchCV\n",
    "from scipy.stats import uniform\n",
    "\n",
    "import xgboost\n",
    "import pickle\n",
    "from sklearn.model_selection import ParameterSampler\n",
    "from scipy import sparse"
   ]
  },
  {
   "cell_type": "markdown",
   "id": "24a5ef5e",
   "metadata": {},
   "source": [
    "# Get the Data"
   ]
  },
  {
   "cell_type": "code",
   "execution_count": 2,
   "id": "c57838c7",
   "metadata": {},
   "outputs": [
    {
     "name": "stdout",
     "output_type": "stream",
     "text": [
      "Wall time: 8.21 s\n"
     ]
    }
   ],
   "source": [
    "%%time\n",
    "query = \"\"\"\n",
    "            SELECT incident_number, timestamp_of_call, incident_group, property_category, \n",
    "                    property_type, address_qualifier, borough_name, ward_name, \n",
    "                    first_pump_arriving_attendance_time as first_time, first_pump_arriving_deployed_from_station as first_station,\n",
    "                    num_stations_with_pumps_attending as station_pumps, num_pumps_attending as pumps_attending,\n",
    "                    FROM `gdac-327115.LondonFire.fire_brigade`\n",
    "        \"\"\"\n",
    "\n",
    "london = ldf.fetch_london_data(query_string=query, project_id = \"gdac-327115\", location = \"eu\")"
   ]
  },
  {
   "cell_type": "markdown",
   "id": "568bbde7",
   "metadata": {},
   "source": [
    "# Split the Data into Training and Test Sets"
   ]
  },
  {
   "cell_type": "code",
   "execution_count": 3,
   "id": "fba2baca",
   "metadata": {},
   "outputs": [],
   "source": [
    "london_train, london_test = train_test_split(london, test_size = .16, stratify = london[\"incident_group\"], random_state = 42)"
   ]
  },
  {
   "cell_type": "markdown",
   "id": "199c0200",
   "metadata": {},
   "source": [
    "# Clean the Training Data"
   ]
  },
  {
   "cell_type": "code",
   "execution_count": 4,
   "id": "81b818db",
   "metadata": {},
   "outputs": [
    {
     "name": "stdout",
     "output_type": "stream",
     "text": [
      "Cleaning London Data Started...\n",
      "\n",
      "Sucessfully Added Emergency Column!\n",
      "Sucessfully Added Month Column!\n",
      "Sucessfully Added Hour Column!\n",
      "Sucessfully Cleanded Property Category!\n",
      "Sucessfully Cleaned and Ranked Property Type!\n",
      "Sucessfully Cleaned Address!\n",
      "Sucessfully Cleaned Borough Names!\n",
      "Sucessfully Cleaned and Ranked Ward Names!\n",
      "Sucessfully Imputed Station Names!\n",
      "Sucessfully Ranked Stations!\n",
      "Sucessfully Cleaned Station Arriving Time!\n",
      "Sucessfully Cleaned Number of Stations with Pumps!\n",
      "Sucessfully Cleaned Number of Pumps Attending!\n",
      "Sucessfully Dropped Unecessary Columns!\n",
      "\n",
      "Sucessfully Cleaned London Data!\n"
     ]
    }
   ],
   "source": [
    "warnings.filterwarnings('ignore')\n",
    "london_train = ldf.clean_london(london_train)"
   ]
  },
  {
   "cell_type": "code",
   "execution_count": 30,
   "id": "7abd4730",
   "metadata": {},
   "outputs": [
    {
     "data": {
      "text/plain": [
       "property_category     object\n",
       "address_qualifier     object\n",
       "borough_name          object\n",
       "first_time           float64\n",
       "station_pumps         object\n",
       "pumps_attending       object\n",
       "Emergency              int64\n",
       "Month                 object\n",
       "Hour                  object\n",
       "pt_rank               object\n",
       "wn_rank               object\n",
       "stat_rank             object\n",
       "dtype: object"
      ]
     },
     "execution_count": 30,
     "metadata": {},
     "output_type": "execute_result"
    }
   ],
   "source": [
    "london_train.dtypes"
   ]
  },
  {
   "cell_type": "markdown",
   "id": "066fbece",
   "metadata": {},
   "source": [
    "# Prepare the Data"
   ]
  },
  {
   "cell_type": "code",
   "execution_count": 5,
   "id": "947b5154",
   "metadata": {},
   "outputs": [],
   "source": [
    "def prepare_london(df, cat_attribs, num_attribs, target):\n",
    "    \"\"\"\n",
    "    \n",
    "    \"\"\"\n",
    "    #num_pipeline = Pipeline([\"std_scaler\", StandardScaler()])\n",
    "    cat_encoder = OneHotEncoder()\n",
    "    \n",
    "    full_pipeline = ColumnTransformer([\n",
    "        (\"num\", StandardScaler(), num_attribs),\n",
    "        (\"cat\", OneHotEncoder(), cat_attribs),\n",
    "    ])\n",
    "    \n",
    "    X = full_pipeline.fit_transform(df)\n",
    "    y = np.array(df[target])\n",
    "    \n",
    "    return X, y\n",
    "    "
   ]
  },
  {
   "cell_type": "code",
   "execution_count": 6,
   "id": "e266764a",
   "metadata": {},
   "outputs": [],
   "source": [
    "cat_vars = [\"property_category\", \"address_qualifier\", \"borough_name\", \"station_pumps\", \"pumps_attending\", \"Month\", \n",
    "            \"Hour\", \"pt_rank\", \"wn_rank\", \"stat_rank\"]\n",
    "num_vars = [\"first_time\"]\n",
    "target = \"Emergency\"\n",
    "X, y = prepare_london(london_train, cat_vars, num_vars, target)"
   ]
  },
  {
   "cell_type": "code",
   "execution_count": 7,
   "id": "35380fa6",
   "metadata": {},
   "outputs": [
    {
     "name": "stdout",
     "output_type": "stream",
     "text": [
      "(26719, 109)\n",
      "(26719,)\n"
     ]
    }
   ],
   "source": [
    "print(X.shape)\n",
    "print(y.shape)"
   ]
  },
  {
   "cell_type": "code",
   "execution_count": 36,
   "id": "d5aa2f59",
   "metadata": {},
   "outputs": [
    {
     "name": "stdout",
     "output_type": "stream",
     "text": [
      "109\n"
     ]
    }
   ],
   "source": [
    "feature_dim = 0\n",
    "\n",
    "for feature in london_train[cat_vars].columns:\n",
    "    feature_dim += len(london_train[feature].unique())\n",
    "    \n",
    "feature_dim += 1\n",
    "\n",
    "print(feature_dim)"
   ]
  },
  {
   "cell_type": "code",
   "execution_count": 8,
   "id": "6eb09df4",
   "metadata": {},
   "outputs": [],
   "source": [
    "X_train, X_val, y_train, y_val = train_test_split(X, y, test_size = .10, stratify = y, random_state = 42)"
   ]
  },
  {
   "cell_type": "code",
   "execution_count": 9,
   "id": "cf3db436",
   "metadata": {},
   "outputs": [
    {
     "name": "stdout",
     "output_type": "stream",
     "text": [
      "(24047, 109)\n",
      "(2672, 109)\n",
      "(24047,)\n",
      "(2672,)\n"
     ]
    }
   ],
   "source": [
    "print(X_train.shape)\n",
    "print(X_val.shape)\n",
    "print(y_train.shape)\n",
    "print(y_val.shape)"
   ]
  },
  {
   "cell_type": "markdown",
   "id": "36b48007",
   "metadata": {},
   "source": [
    "# Baseline Scores"
   ]
  },
  {
   "cell_type": "markdown",
   "id": "268d7cf7",
   "metadata": {},
   "source": [
    "### Logistic Regression"
   ]
  },
  {
   "cell_type": "code",
   "execution_count": 30,
   "id": "0ec3e96a",
   "metadata": {},
   "outputs": [],
   "source": [
    "log_reg = LogisticRegression(max_iter = 10000)"
   ]
  },
  {
   "cell_type": "code",
   "execution_count": 31,
   "id": "65aeeb3c",
   "metadata": {},
   "outputs": [
    {
     "name": "stdout",
     "output_type": "stream",
     "text": [
      "Logistic Regression 5-fold CV Baseline F1-Score: 81.29%\n",
      "Logistic Regression 5-fold CV Baseline Recall: 79.05%\n",
      "Logistic Regression 5-fold CV Baseline Accuracy: 81.43%\n",
      "Wall time: 2.28 s\n"
     ]
    }
   ],
   "source": [
    "%%time\n",
    "y_train_pred = cross_val_predict(log_reg, X_train, y_train, cv = 5)\n",
    "lr_cv_f1 = np.round(f1_score(y_train, y_train_pred), 4) * 100\n",
    "lr_cv_acc = np.round(accuracy_score(y_train, y_train_pred), 4) * 100\n",
    "lr_cv_rec = np.round(recall_score(y_train, y_train_pred), 4) * 100\n",
    "print(f'Logistic Regression 5-fold CV Baseline F1-Score: {lr_cv_f1:.2f}%')\n",
    "print(f'Logistic Regression 5-fold CV Baseline Recall: {lr_cv_rec:.2f}%')\n",
    "print(f'Logistic Regression 5-fold CV Baseline Accuracy: {lr_cv_acc:.2f}%')"
   ]
  },
  {
   "cell_type": "code",
   "execution_count": 32,
   "id": "92cf183d",
   "metadata": {},
   "outputs": [
    {
     "data": {
      "text/plain": [
       "array([[9877, 1895],\n",
       "       [2571, 9704]], dtype=int64)"
      ]
     },
     "execution_count": 32,
     "metadata": {},
     "output_type": "execute_result"
    }
   ],
   "source": [
    "confusion_matrix(y_train, y_train_pred)"
   ]
  },
  {
   "cell_type": "markdown",
   "id": "7fbb307f",
   "metadata": {},
   "source": [
    "### Bayesian Regression"
   ]
  },
  {
   "cell_type": "code",
   "execution_count": 33,
   "id": "9dd7b6cf",
   "metadata": {},
   "outputs": [],
   "source": [
    "br_reg = BayesianRidge()"
   ]
  },
  {
   "cell_type": "code",
   "execution_count": 34,
   "id": "1bcc04eb",
   "metadata": {},
   "outputs": [
    {
     "name": "stdout",
     "output_type": "stream",
     "text": [
      "Bayesian Regression 5-fold CV Baseline F1-Score: 81.24%\n",
      "Bayesian Regression 5-fold CV Baseline Recall: 79.20%\n",
      "Bayesian Regression 5-fold CV Baseline Accuracy: 81.32%\n",
      "Wall time: 1.13 s\n"
     ]
    }
   ],
   "source": [
    "%%time\n",
    "y_train_pred = cross_val_predict(br_reg, X_train.toarray(), y_train, cv = 5)\n",
    "y_train_pred = np.round(y_train_pred)\n",
    "br_cv_f1 = np.round(f1_score(y_train, y_train_pred), 4) * 100\n",
    "br_cv_acc = np.round(accuracy_score(y_train, y_train_pred), 4) * 100\n",
    "br_cv_rec = np.round(recall_score(y_train, y_train_pred), 4) * 100\n",
    "print(f'Bayesian Regression 5-fold CV Baseline F1-Score: {br_cv_f1:.2f}%')\n",
    "print(f'Bayesian Regression 5-fold CV Baseline Recall: {br_cv_rec:.2f}%')\n",
    "print(f'Bayesian Regression 5-fold CV Baseline Accuracy: {br_cv_acc:.2f}%')"
   ]
  },
  {
   "cell_type": "code",
   "execution_count": 35,
   "id": "2b464697",
   "metadata": {},
   "outputs": [
    {
     "data": {
      "text/plain": [
       "array([[9834, 1938],\n",
       "       [2553, 9722]], dtype=int64)"
      ]
     },
     "execution_count": 35,
     "metadata": {},
     "output_type": "execute_result"
    }
   ],
   "source": [
    "confusion_matrix(y_train, y_train_pred)"
   ]
  },
  {
   "cell_type": "markdown",
   "id": "bb79d82e",
   "metadata": {},
   "source": [
    "### Naive Bayes"
   ]
  },
  {
   "cell_type": "code",
   "execution_count": 36,
   "id": "bccfd53a",
   "metadata": {},
   "outputs": [],
   "source": [
    "nb_clf = GaussianNB()"
   ]
  },
  {
   "cell_type": "code",
   "execution_count": 37,
   "id": "4f01afdc",
   "metadata": {},
   "outputs": [
    {
     "name": "stdout",
     "output_type": "stream",
     "text": [
      "Naive Bayes 5-fold CV Baseline F1-Score: 76.09%\n",
      "Naive Bayes 5-fold CV Baseline Recall: 76.69%\n",
      "Naive Bayes 5-fold CV Baseline Accuracy: 75.40%\n",
      "Wall time: 370 ms\n"
     ]
    }
   ],
   "source": [
    "%%time\n",
    "y_train_pred = cross_val_predict(nb_clf, X_train.toarray(), y_train, cv = 5)\n",
    "nb_cv_f1 = np.round(f1_score(y_train, y_train_pred), 4) * 100\n",
    "nb_cv_acc = np.round(accuracy_score(y_train, y_train_pred), 4) * 100\n",
    "nb_cv_rec = np.round(recall_score(y_train, y_train_pred), 4) * 100\n",
    "print(f'Naive Bayes 5-fold CV Baseline F1-Score: {nb_cv_f1:.2f}%')\n",
    "print(f'Naive Bayes 5-fold CV Baseline Recall: {nb_cv_rec:.2f}%')\n",
    "print(f'Naive Bayes 5-fold CV Baseline Accuracy: {nb_cv_acc:.2f}%')"
   ]
  },
  {
   "cell_type": "code",
   "execution_count": 38,
   "id": "a236a2cd",
   "metadata": {},
   "outputs": [
    {
     "data": {
      "text/plain": [
       "array([[8717, 3055],\n",
       "       [2861, 9414]], dtype=int64)"
      ]
     },
     "execution_count": 38,
     "metadata": {},
     "output_type": "execute_result"
    }
   ],
   "source": [
    "confusion_matrix(y_train, y_train_pred)"
   ]
  },
  {
   "cell_type": "markdown",
   "id": "d324e456",
   "metadata": {},
   "source": [
    "### Linear SVC"
   ]
  },
  {
   "cell_type": "code",
   "execution_count": 39,
   "id": "e1b86789",
   "metadata": {},
   "outputs": [],
   "source": [
    "svc_clf = LinearSVC()"
   ]
  },
  {
   "cell_type": "code",
   "execution_count": 40,
   "id": "d03aa9c4",
   "metadata": {},
   "outputs": [
    {
     "name": "stdout",
     "output_type": "stream",
     "text": [
      "Linear SVC 5-fold CV Baseline F1-Score: 81.23%\n",
      "Linear SVC 5-fold CV Baseline Recall: 78.86%\n",
      "Linear SVC 5-fold CV Baseline Accuracy: 81.39%\n",
      "Wall time: 6.73 s\n"
     ]
    }
   ],
   "source": [
    "%%time\n",
    "y_train_pred = cross_val_predict(svc_clf, X_train, y_train, cv = 5)\n",
    "svc_cv_f1 = np.round(f1_score(y_train, y_train_pred), 4) * 100\n",
    "svc_cv_acc = np.round(accuracy_score(y_train, y_train_pred), 4) * 100\n",
    "svc_cv_rec = np.round(recall_score(y_train, y_train_pred), 4) * 100\n",
    "print(f'Linear SVC 5-fold CV Baseline F1-Score: {svc_cv_f1:.2f}%')\n",
    "print(f'Linear SVC 5-fold CV Baseline Recall: {svc_cv_rec:.2f}%')\n",
    "print(f'Linear SVC 5-fold CV Baseline Accuracy: {svc_cv_acc:.2f}%')"
   ]
  },
  {
   "cell_type": "code",
   "execution_count": 41,
   "id": "c26dc301",
   "metadata": {},
   "outputs": [
    {
     "data": {
      "text/plain": [
       "array([[9892, 1880],\n",
       "       [2595, 9680]], dtype=int64)"
      ]
     },
     "execution_count": 41,
     "metadata": {},
     "output_type": "execute_result"
    }
   ],
   "source": [
    "confusion_matrix(y_train, y_train_pred)"
   ]
  },
  {
   "cell_type": "markdown",
   "id": "12c2497a",
   "metadata": {},
   "source": [
    "### Random Forest"
   ]
  },
  {
   "cell_type": "code",
   "execution_count": 12,
   "id": "b71a0f0d",
   "metadata": {},
   "outputs": [],
   "source": [
    "rf_clf = RandomForestClassifier()"
   ]
  },
  {
   "cell_type": "code",
   "execution_count": 14,
   "id": "fc671bf3",
   "metadata": {},
   "outputs": [
    {
     "name": "stdout",
     "output_type": "stream",
     "text": [
      "Random Forest 5-fold CV Baseline F1-Score: 82.02%\n",
      "Random Forest 5-fold CV Baseline Recall: 79.68%\n",
      "Random Forest 5-fold CV Baseline Accuracy: 82.17%\n",
      "Wall time: 18.8 s\n"
     ]
    }
   ],
   "source": [
    "%%time\n",
    "y_train_pred = cross_val_predict(rf_clf, X_train.toarray(), y_train, cv = 5)\n",
    "rf_cv_f1 = np.round(f1_score(y_train, y_train_pred), 4) * 100\n",
    "rf_cv_acc = np.round(accuracy_score(y_train, y_train_pred), 4) * 100\n",
    "rf_cv_rec = np.round(recall_score(y_train, y_train_pred), 4) * 100\n",
    "print(f'Random Forest 5-fold CV Baseline F1-Score: {rf_cv_f1:.2f}%')\n",
    "print(f'Random Forest 5-fold CV Baseline Recall: {rf_cv_rec:.2f}%')\n",
    "print(f'Random Forest 5-fold CV Baseline Accuracy: {rf_cv_acc:.2f}%')"
   ]
  },
  {
   "cell_type": "code",
   "execution_count": 15,
   "id": "75ebc5d1",
   "metadata": {},
   "outputs": [
    {
     "data": {
      "text/plain": [
       "array([[9978, 1794],\n",
       "       [2494, 9781]], dtype=int64)"
      ]
     },
     "execution_count": 15,
     "metadata": {},
     "output_type": "execute_result"
    }
   ],
   "source": [
    "confusion_matrix(y_train, y_train_pred)"
   ]
  },
  {
   "cell_type": "markdown",
   "id": "9c060f8d",
   "metadata": {},
   "source": [
    "### Extremely Random Trees"
   ]
  },
  {
   "cell_type": "code",
   "execution_count": 16,
   "id": "55f606b2",
   "metadata": {},
   "outputs": [],
   "source": [
    "er_clf = ExtraTreesClassifier()"
   ]
  },
  {
   "cell_type": "code",
   "execution_count": 17,
   "id": "d1b25476",
   "metadata": {},
   "outputs": [
    {
     "name": "stdout",
     "output_type": "stream",
     "text": [
      "Extremely Random Trees 5-fold CV Baseline F1-Score: 81.10%\n",
      "Extremely Random Trees 5-fold CV Baseline Recall: 79.72%\n",
      "Extremely Random Treess 5-fold CV Baseline Accuracy: 81.04%\n",
      "Wall time: 25.6 s\n"
     ]
    }
   ],
   "source": [
    "%%time\n",
    "y_train_pred = cross_val_predict(er_clf, X_train.toarray(), y_train, cv = 5)\n",
    "er_cv_f1 = np.round(f1_score(y_train, y_train_pred), 4) * 100\n",
    "er_cv_acc = np.round(accuracy_score(y_train, y_train_pred), 4) * 100\n",
    "er_cv_rec = np.round(recall_score(y_train, y_train_pred), 4) * 100\n",
    "print(f'Extremely Random Trees 5-fold CV Baseline F1-Score: {er_cv_f1:.2f}%')\n",
    "print(f'Extremely Random Trees 5-fold CV Baseline Recall: {er_cv_rec:.2f}%')\n",
    "print(f'Extremely Random Treess 5-fold CV Baseline Accuracy: {er_cv_acc:.2f}%')"
   ]
  },
  {
   "cell_type": "code",
   "execution_count": 18,
   "id": "78e51717",
   "metadata": {},
   "outputs": [
    {
     "data": {
      "text/plain": [
       "array([[9701, 2071],\n",
       "       [2489, 9786]], dtype=int64)"
      ]
     },
     "execution_count": 18,
     "metadata": {},
     "output_type": "execute_result"
    }
   ],
   "source": [
    "confusion_matrix(y_train, y_train_pred)"
   ]
  },
  {
   "cell_type": "markdown",
   "id": "e1fba13c",
   "metadata": {},
   "source": [
    "### AdaBoost"
   ]
  },
  {
   "cell_type": "code",
   "execution_count": 21,
   "id": "d687e821",
   "metadata": {},
   "outputs": [],
   "source": [
    "ada_clf = AdaBoostClassifier()"
   ]
  },
  {
   "cell_type": "code",
   "execution_count": 24,
   "id": "902ebf7d",
   "metadata": {},
   "outputs": [
    {
     "name": "stdout",
     "output_type": "stream",
     "text": [
      "AdaBoost 5-fold CV Baseline F1-Score: 80.99%\n",
      "AdaBoost 5-fold CV Baseline Recall: 80.19%\n",
      "AdaBoost 5-fold CV Baseline Accuracy: 80.78%\n",
      "Wall time: 15.7 s\n"
     ]
    }
   ],
   "source": [
    "%%time\n",
    "y_train_pred = cross_val_predict(ada_clf, X_train.toarray(), y_train, cv = 5)\n",
    "ada_cv_f1 = np.round(f1_score(y_train, y_train_pred), 4) * 100\n",
    "ada_cv_acc = np.round(accuracy_score(y_train, y_train_pred), 4) * 100\n",
    "ada_cv_rec = np.round(recall_score(y_train, y_train_pred), 4) * 100\n",
    "print(f'AdaBoost 5-fold CV Baseline F1-Score: {ada_cv_f1:.2f}%')\n",
    "print(f'AdaBoost 5-fold CV Baseline Recall: {ada_cv_rec:.2f}%')\n",
    "print(f'AdaBoost 5-fold CV Baseline Accuracy: {ada_cv_acc:.2f}%')"
   ]
  },
  {
   "cell_type": "code",
   "execution_count": 25,
   "id": "f9dc7386",
   "metadata": {},
   "outputs": [
    {
     "data": {
      "text/plain": [
       "array([[9583, 2189],\n",
       "       [2432, 9843]], dtype=int64)"
      ]
     },
     "execution_count": 25,
     "metadata": {},
     "output_type": "execute_result"
    }
   ],
   "source": [
    "confusion_matrix(y_train, y_train_pred)"
   ]
  },
  {
   "cell_type": "markdown",
   "id": "b2b736b7",
   "metadata": {},
   "source": [
    "### XGBoost"
   ]
  },
  {
   "cell_type": "code",
   "execution_count": 26,
   "id": "7bd6fbea",
   "metadata": {},
   "outputs": [],
   "source": [
    "xgb_clf = xgboost.XGBClassifier(use_label_encoder=False, objective = \"binary:logistic\")"
   ]
  },
  {
   "cell_type": "code",
   "execution_count": 28,
   "id": "06d94ea4",
   "metadata": {},
   "outputs": [
    {
     "name": "stdout",
     "output_type": "stream",
     "text": [
      "[15:27:44] WARNING: C:/Users/Administrator/workspace/xgboost-win64_release_1.5.1/src/learner.cc:1115: Starting in XGBoost 1.3.0, the default evaluation metric used with the objective 'binary:logistic' was changed from 'error' to 'logloss'. Explicitly set eval_metric if you'd like to restore the old behavior.\n",
      "[15:27:45] WARNING: C:/Users/Administrator/workspace/xgboost-win64_release_1.5.1/src/learner.cc:1115: Starting in XGBoost 1.3.0, the default evaluation metric used with the objective 'binary:logistic' was changed from 'error' to 'logloss'. Explicitly set eval_metric if you'd like to restore the old behavior.\n",
      "[15:27:46] WARNING: C:/Users/Administrator/workspace/xgboost-win64_release_1.5.1/src/learner.cc:1115: Starting in XGBoost 1.3.0, the default evaluation metric used with the objective 'binary:logistic' was changed from 'error' to 'logloss'. Explicitly set eval_metric if you'd like to restore the old behavior.\n",
      "[15:27:47] WARNING: C:/Users/Administrator/workspace/xgboost-win64_release_1.5.1/src/learner.cc:1115: Starting in XGBoost 1.3.0, the default evaluation metric used with the objective 'binary:logistic' was changed from 'error' to 'logloss'. Explicitly set eval_metric if you'd like to restore the old behavior.\n",
      "[15:27:47] WARNING: C:/Users/Administrator/workspace/xgboost-win64_release_1.5.1/src/learner.cc:1115: Starting in XGBoost 1.3.0, the default evaluation metric used with the objective 'binary:logistic' was changed from 'error' to 'logloss'. Explicitly set eval_metric if you'd like to restore the old behavior.\n",
      "XGBoost 5-fold CV Baseline F1-Score: 82.32%\n",
      "XGBoost 5-fold CV Baseline Recall: 80.18%\n",
      "XGBoost 5-fold CV Baseline Accuracy: 82.41%\n",
      "Wall time: 3.86 s\n"
     ]
    }
   ],
   "source": [
    "%%time\n",
    "y_train_pred = cross_val_predict(xgb_clf, X_train, y_train, cv = 5)\n",
    "xgb_cv_f1 = np.round(f1_score(y_train, y_train_pred), 4) * 100\n",
    "xgb_cv_acc = np.round(accuracy_score(y_train, y_train_pred), 4) * 100\n",
    "xgb_cv_rec = np.round(recall_score(y_train, y_train_pred), 4) * 100\n",
    "print(f'XGBoost 5-fold CV Baseline F1-Score: {xgb_cv_f1:.2f}%')\n",
    "print(f'XGBoost 5-fold CV Baseline Recall: {xgb_cv_rec:.2f}%')\n",
    "print(f'XGBoost 5-fold CV Baseline Accuracy: {xgb_cv_acc:.2f}%')"
   ]
  },
  {
   "cell_type": "code",
   "execution_count": 29,
   "id": "ab485414",
   "metadata": {},
   "outputs": [
    {
     "data": {
      "text/plain": [
       "array([[9976, 1796],\n",
       "       [2433, 9842]], dtype=int64)"
      ]
     },
     "execution_count": 29,
     "metadata": {},
     "output_type": "execute_result"
    }
   ],
   "source": [
    "confusion_matrix(y_train, y_train_pred)"
   ]
  },
  {
   "cell_type": "markdown",
   "id": "15c7a2ce",
   "metadata": {},
   "source": [
    "# Baseline Results"
   ]
  },
  {
   "cell_type": "markdown",
   "id": "835da2e3",
   "metadata": {},
   "source": [
    "## Recall"
   ]
  },
  {
   "cell_type": "code",
   "execution_count": 52,
   "id": "a4303de2",
   "metadata": {},
   "outputs": [],
   "source": [
    "Models = [\"Logistic Regression\", \"Bayesian Regression\", \"Naive Bayes\", \"Linear SVC\", \"Random Forest\",\n",
    "          \"Extreme Trees\", \"AdaBoost\", \"XGBoost\"]\n",
    "Recall_Base_Scores = [lr_cv_rec, br_cv_rec, nb_cv_rec, svc_cv_rec, rf_cv_rec, er_cv_rec, ada_cv_rec, xgb_cv_rec]\n",
    "Accuracy_Base_Scores = [lr_cv_acc, br_cv_acc, nb_cv_acc, svc_cv_acc, rf_cv_acc, er_cv_acc, ada_cv_acc, xgb_cv_acc]\n",
    "\n",
    "#Create a data frame with the results\n",
    "base_results = pd.DataFrame({\"Model\": Models, \"Recall\": Recall_Base_Scores, \"Accuracy\" : Accuracy_Base_Scores})"
   ]
  },
  {
   "cell_type": "code",
   "execution_count": 53,
   "id": "95af18cf",
   "metadata": {},
   "outputs": [
    {
     "data": {
      "text/html": [
       "<div>\n",
       "<style scoped>\n",
       "    .dataframe tbody tr th:only-of-type {\n",
       "        vertical-align: middle;\n",
       "    }\n",
       "\n",
       "    .dataframe tbody tr th {\n",
       "        vertical-align: top;\n",
       "    }\n",
       "\n",
       "    .dataframe thead th {\n",
       "        text-align: right;\n",
       "    }\n",
       "</style>\n",
       "<table border=\"1\" class=\"dataframe\">\n",
       "  <thead>\n",
       "    <tr style=\"text-align: right;\">\n",
       "      <th></th>\n",
       "      <th>Model</th>\n",
       "      <th>Recall</th>\n",
       "      <th>Accuracy</th>\n",
       "    </tr>\n",
       "  </thead>\n",
       "  <tbody>\n",
       "    <tr>\n",
       "      <th>6</th>\n",
       "      <td>AdaBoost</td>\n",
       "      <td>80.19</td>\n",
       "      <td>80.78</td>\n",
       "    </tr>\n",
       "    <tr>\n",
       "      <th>7</th>\n",
       "      <td>XGBoost</td>\n",
       "      <td>80.18</td>\n",
       "      <td>82.41</td>\n",
       "    </tr>\n",
       "    <tr>\n",
       "      <th>5</th>\n",
       "      <td>Extreme Trees</td>\n",
       "      <td>79.72</td>\n",
       "      <td>81.04</td>\n",
       "    </tr>\n",
       "    <tr>\n",
       "      <th>4</th>\n",
       "      <td>Random Forest</td>\n",
       "      <td>79.68</td>\n",
       "      <td>82.17</td>\n",
       "    </tr>\n",
       "    <tr>\n",
       "      <th>1</th>\n",
       "      <td>Bayesian Regression</td>\n",
       "      <td>79.20</td>\n",
       "      <td>81.32</td>\n",
       "    </tr>\n",
       "    <tr>\n",
       "      <th>0</th>\n",
       "      <td>Logistic Regression</td>\n",
       "      <td>79.05</td>\n",
       "      <td>81.43</td>\n",
       "    </tr>\n",
       "    <tr>\n",
       "      <th>3</th>\n",
       "      <td>Linear SVC</td>\n",
       "      <td>78.86</td>\n",
       "      <td>81.39</td>\n",
       "    </tr>\n",
       "    <tr>\n",
       "      <th>2</th>\n",
       "      <td>Naive Bayes</td>\n",
       "      <td>76.69</td>\n",
       "      <td>75.40</td>\n",
       "    </tr>\n",
       "  </tbody>\n",
       "</table>\n",
       "</div>"
      ],
      "text/plain": [
       "                 Model  Recall  Accuracy\n",
       "6             AdaBoost   80.19     80.78\n",
       "7              XGBoost   80.18     82.41\n",
       "5        Extreme Trees   79.72     81.04\n",
       "4        Random Forest   79.68     82.17\n",
       "1  Bayesian Regression   79.20     81.32\n",
       "0  Logistic Regression   79.05     81.43\n",
       "3           Linear SVC   78.86     81.39\n",
       "2          Naive Bayes   76.69     75.40"
      ]
     },
     "execution_count": 53,
     "metadata": {},
     "output_type": "execute_result"
    }
   ],
   "source": [
    "base_results.sort_values(by=\"Recall\", ascending = False, inplace = True)\n",
    "base_results"
   ]
  },
  {
   "cell_type": "code",
   "execution_count": 54,
   "id": "12563513",
   "metadata": {},
   "outputs": [
    {
     "data": {
      "text/plain": [
       "Text(0.5, 0, 'Models')"
      ]
     },
     "execution_count": 54,
     "metadata": {},
     "output_type": "execute_result"
    },
    {
     "data": {
      "image/png": "[encoded data removed]",
      "text/plain": [
       "<Figure size 1080x720 with 1 Axes>"
      ]
     },
     "metadata": {},
     "output_type": "display_data"
    }
   ],
   "source": [
    "#Bar chart of the results\n",
    "sns.set(rc = {'figure.figsize':(15,10)})\n",
    "sns.barplot(x=\"Model\", y = \"Recall\", order = base_results[\"Model\"] \\\n",
    "                                            , data = base_results, color = \"mediumseagreen\")\n",
    "plt.title(\"Baseline Recall Scores\")\n",
    "plt.ylabel(\"Recall\")\n",
    "plt.xlabel(\"Models\")"
   ]
  },
  {
   "cell_type": "markdown",
   "id": "e20e00ba",
   "metadata": {},
   "source": [
    "## Accuracy"
   ]
  },
  {
   "cell_type": "code",
   "execution_count": 55,
   "id": "d967b7ca",
   "metadata": {},
   "outputs": [
    {
     "data": {
      "text/html": [
       "<div>\n",
       "<style scoped>\n",
       "    .dataframe tbody tr th:only-of-type {\n",
       "        vertical-align: middle;\n",
       "    }\n",
       "\n",
       "    .dataframe tbody tr th {\n",
       "        vertical-align: top;\n",
       "    }\n",
       "\n",
       "    .dataframe thead th {\n",
       "        text-align: right;\n",
       "    }\n",
       "</style>\n",
       "<table border=\"1\" class=\"dataframe\">\n",
       "  <thead>\n",
       "    <tr style=\"text-align: right;\">\n",
       "      <th></th>\n",
       "      <th>Model</th>\n",
       "      <th>Recall</th>\n",
       "      <th>Accuracy</th>\n",
       "    </tr>\n",
       "  </thead>\n",
       "  <tbody>\n",
       "    <tr>\n",
       "      <th>7</th>\n",
       "      <td>XGBoost</td>\n",
       "      <td>80.18</td>\n",
       "      <td>82.41</td>\n",
       "    </tr>\n",
       "    <tr>\n",
       "      <th>4</th>\n",
       "      <td>Random Forest</td>\n",
       "      <td>79.68</td>\n",
       "      <td>82.17</td>\n",
       "    </tr>\n",
       "    <tr>\n",
       "      <th>0</th>\n",
       "      <td>Logistic Regression</td>\n",
       "      <td>79.05</td>\n",
       "      <td>81.43</td>\n",
       "    </tr>\n",
       "    <tr>\n",
       "      <th>3</th>\n",
       "      <td>Linear SVC</td>\n",
       "      <td>78.86</td>\n",
       "      <td>81.39</td>\n",
       "    </tr>\n",
       "    <tr>\n",
       "      <th>1</th>\n",
       "      <td>Bayesian Regression</td>\n",
       "      <td>79.20</td>\n",
       "      <td>81.32</td>\n",
       "    </tr>\n",
       "    <tr>\n",
       "      <th>5</th>\n",
       "      <td>Extreme Trees</td>\n",
       "      <td>79.72</td>\n",
       "      <td>81.04</td>\n",
       "    </tr>\n",
       "    <tr>\n",
       "      <th>6</th>\n",
       "      <td>AdaBoost</td>\n",
       "      <td>80.19</td>\n",
       "      <td>80.78</td>\n",
       "    </tr>\n",
       "    <tr>\n",
       "      <th>2</th>\n",
       "      <td>Naive Bayes</td>\n",
       "      <td>76.69</td>\n",
       "      <td>75.40</td>\n",
       "    </tr>\n",
       "  </tbody>\n",
       "</table>\n",
       "</div>"
      ],
      "text/plain": [
       "                 Model  Recall  Accuracy\n",
       "7              XGBoost   80.18     82.41\n",
       "4        Random Forest   79.68     82.17\n",
       "0  Logistic Regression   79.05     81.43\n",
       "3           Linear SVC   78.86     81.39\n",
       "1  Bayesian Regression   79.20     81.32\n",
       "5        Extreme Trees   79.72     81.04\n",
       "6             AdaBoost   80.19     80.78\n",
       "2          Naive Bayes   76.69     75.40"
      ]
     },
     "execution_count": 55,
     "metadata": {},
     "output_type": "execute_result"
    }
   ],
   "source": [
    "base_results.sort_values(by=\"Accuracy\", ascending = False, inplace = True)\n",
    "base_results"
   ]
  },
  {
   "cell_type": "code",
   "execution_count": 56,
   "id": "56cee137",
   "metadata": {},
   "outputs": [
    {
     "data": {
      "text/plain": [
       "Text(0.5, 0, 'Models')"
      ]
     },
     "execution_count": 56,
     "metadata": {},
     "output_type": "execute_result"
    },
    {
     "data": {
      "image/png": "[encoded data removed]",
      "text/plain": [
       "<Figure size 1080x720 with 1 Axes>"
      ]
     },
     "metadata": {},
     "output_type": "display_data"
    }
   ],
   "source": [
    "#Bar chart of the results\n",
    "sns.set(rc = {'figure.figsize':(15,10)})\n",
    "sns.barplot(x=\"Model\", y = \"Accuracy\", order = base_results[\"Model\"] \\\n",
    "                                            , data = base_results, color = \"mediumseagreen\")\n",
    "plt.title(\"Baseline Accuracy Scores\")\n",
    "plt.ylabel(\"Accuracy\")\n",
    "plt.xlabel(\"Models\")"
   ]
  },
  {
   "cell_type": "markdown",
   "id": "664f1d96",
   "metadata": {},
   "source": [
    "# Hyperparameter Tuning"
   ]
  },
  {
   "cell_type": "markdown",
   "id": "471f5000",
   "metadata": {},
   "source": [
    "### Logistic Regression"
   ]
  },
  {
   "cell_type": "code",
   "execution_count": 60,
   "id": "c23eb7d6",
   "metadata": {},
   "outputs": [
    {
     "name": "stdout",
     "output_type": "stream",
     "text": [
      "{'C': 1.398139813981398}\n",
      "0.7890022210891923\n",
      "Wall time: 18.7 s\n"
     ]
    }
   ],
   "source": [
    "%%time\n",
    "#Randomly search through the hyperparameter space\n",
    "param_distribs = {\n",
    "    \"C\" : np.linspace(0, 30, 10000),\n",
    "    }\n",
    "lr_clf = LogisticRegression(penalty = \"l2\", solver = \"lbfgs\", max_iter=10000)\n",
    "\n",
    "lr_rnd_search_cv = RandomizedSearchCV(lr_clf, param_distribs, n_iter = 50,\n",
    "                                   cv=2, scoring = 'recall', random_state=42, n_jobs = -1)\n",
    "\n",
    "lr_rnd_search_cv.fit(X_train, y_train)\n",
    "\n",
    "print(lr_rnd_search_cv.best_params_)\n",
    "print(lr_rnd_search_cv.best_score_)"
   ]
  },
  {
   "cell_type": "code",
   "execution_count": 61,
   "id": "c62c6f77",
   "metadata": {},
   "outputs": [
    {
     "data": {
      "text/html": [
       "<div>\n",
       "<style scoped>\n",
       "    .dataframe tbody tr th:only-of-type {\n",
       "        vertical-align: middle;\n",
       "    }\n",
       "\n",
       "    .dataframe tbody tr th {\n",
       "        vertical-align: top;\n",
       "    }\n",
       "\n",
       "    .dataframe thead th {\n",
       "        text-align: right;\n",
       "    }\n",
       "</style>\n",
       "<table border=\"1\" class=\"dataframe\">\n",
       "  <thead>\n",
       "    <tr style=\"text-align: right;\">\n",
       "      <th></th>\n",
       "      <th>param_C</th>\n",
       "      <th>mean_test_score</th>\n",
       "    </tr>\n",
       "  </thead>\n",
       "  <tbody>\n",
       "    <tr>\n",
       "      <th>6</th>\n",
       "      <td>1.39814</td>\n",
       "      <td>0.789002</td>\n",
       "    </tr>\n",
       "    <tr>\n",
       "      <th>29</th>\n",
       "      <td>0.567057</td>\n",
       "      <td>0.788676</td>\n",
       "    </tr>\n",
       "    <tr>\n",
       "      <th>11</th>\n",
       "      <td>2.307231</td>\n",
       "      <td>0.788676</td>\n",
       "    </tr>\n",
       "    <tr>\n",
       "      <th>0</th>\n",
       "      <td>21.812181</td>\n",
       "      <td>0.788595</td>\n",
       "    </tr>\n",
       "    <tr>\n",
       "      <th>24</th>\n",
       "      <td>23.549355</td>\n",
       "      <td>0.788595</td>\n",
       "    </tr>\n",
       "  </tbody>\n",
       "</table>\n",
       "</div>"
      ],
      "text/plain": [
       "      param_C  mean_test_score\n",
       "6     1.39814         0.789002\n",
       "29   0.567057         0.788676\n",
       "11   2.307231         0.788676\n",
       "0   21.812181         0.788595\n",
       "24  23.549355         0.788595"
      ]
     },
     "execution_count": 61,
     "metadata": {},
     "output_type": "execute_result"
    }
   ],
   "source": [
    "#Save the results in a dataframe\n",
    "lr_rnd_search_df = pd.DataFrame(lr_rnd_search_cv.cv_results_)\n",
    "#Rank the results by score\n",
    "lr_rnd_search_df[[\"param_C\", \"mean_test_score\"]].sort_values(by = \"mean_test_score\", ascending = False).head()"
   ]
  },
  {
   "cell_type": "markdown",
   "id": "816d7afd",
   "metadata": {},
   "source": [
    "### Bayesian Regression"
   ]
  },
  {
   "cell_type": "code",
   "execution_count": 117,
   "id": "2b87a3ca",
   "metadata": {},
   "outputs": [],
   "source": [
    "#Randomly search through the hyperparameter space\n",
    "param_distribs = {\n",
    "    \"alpha_1\": uniform(loc = 0.001, scale = 1),\n",
    "    \"alpha_2\": uniform(loc = 0.001, scale = 1),\n",
    "    \"lambda_1\": uniform(loc = 0.001, scale = 1),\n",
    "    \"lambda_2\": uniform(loc = 0.001, scale = 1)\n",
    "    }\n",
    "rng = np.random.RandomState(42)\n",
    "n_iter = 50\n",
    "param_list = list(ParameterSampler(param_distribs, n_iter = n_iter, random_state=rng))"
   ]
  },
  {
   "cell_type": "code",
   "execution_count": 118,
   "id": "3cb851ae",
   "metadata": {},
   "outputs": [
    {
     "name": "stdout",
     "output_type": "stream",
     "text": [
      "Done with 10 of 50\n",
      "Done with 20 of 50\n",
      "Done with 30 of 50\n",
      "Done with 40 of 50\n",
      "Done with 50 of 50\n",
      "Wall time: 10.8 s\n"
     ]
    }
   ],
   "source": [
    "%%time\n",
    "#Create an evaluation set\n",
    "val_rec_score = []\n",
    "counter = 1\n",
    "br_reg = BayesianRidge()\n",
    "\n",
    "for params in param_list:\n",
    "    br_reg.set_params(**params)\n",
    "    br_reg.fit(X_train.toarray(), y_train)\n",
    "    y_pred = br_reg.predict(X_val.toarray())\n",
    "    #y_train_pred = cross_val_predict(br_reg, X_train.toarray(), y_train, cv = 2)\n",
    "    y_pred = np.round(y_pred)\n",
    "    val_rec_score.append(recall_score(y_val, y_pred))\n",
    "    #print(recall_score(y_val, y_pred))\n",
    "    if counter % 10 == 0:\n",
    "        print(f'Done with {counter} of {n_iter}')\n",
    "    counter += 1"
   ]
  },
  {
   "cell_type": "code",
   "execution_count": 121,
   "id": "20de2cbc",
   "metadata": {},
   "outputs": [
    {
     "data": {
      "text/html": [
       "<div>\n",
       "<style scoped>\n",
       "    .dataframe tbody tr th:only-of-type {\n",
       "        vertical-align: middle;\n",
       "    }\n",
       "\n",
       "    .dataframe tbody tr th {\n",
       "        vertical-align: top;\n",
       "    }\n",
       "\n",
       "    .dataframe thead th {\n",
       "        text-align: right;\n",
       "    }\n",
       "</style>\n",
       "<table border=\"1\" class=\"dataframe\">\n",
       "  <thead>\n",
       "    <tr style=\"text-align: right;\">\n",
       "      <th></th>\n",
       "      <th>alpha_1</th>\n",
       "      <th>alpha_2</th>\n",
       "      <th>lambda_1</th>\n",
       "      <th>lambda_2</th>\n",
       "      <th>Recall Score</th>\n",
       "    </tr>\n",
       "  </thead>\n",
       "  <tbody>\n",
       "    <tr>\n",
       "      <th>49</th>\n",
       "      <td>0.726956</td>\n",
       "      <td>0.898110</td>\n",
       "      <td>0.888086</td>\n",
       "      <td>0.780876</td>\n",
       "      <td>0.796921</td>\n",
       "    </tr>\n",
       "    <tr>\n",
       "      <th>1</th>\n",
       "      <td>0.157019</td>\n",
       "      <td>0.156995</td>\n",
       "      <td>0.059084</td>\n",
       "      <td>0.867176</td>\n",
       "      <td>0.796921</td>\n",
       "    </tr>\n",
       "    <tr>\n",
       "      <th>18</th>\n",
       "      <td>0.006522</td>\n",
       "      <td>0.816461</td>\n",
       "      <td>0.707857</td>\n",
       "      <td>0.730007</td>\n",
       "      <td>0.796921</td>\n",
       "    </tr>\n",
       "    <tr>\n",
       "      <th>39</th>\n",
       "      <td>0.673136</td>\n",
       "      <td>0.762620</td>\n",
       "      <td>0.238638</td>\n",
       "      <td>0.729216</td>\n",
       "      <td>0.796921</td>\n",
       "    </tr>\n",
       "    <tr>\n",
       "      <th>16</th>\n",
       "      <td>0.281935</td>\n",
       "      <td>0.543696</td>\n",
       "      <td>0.141924</td>\n",
       "      <td>0.803197</td>\n",
       "      <td>0.796921</td>\n",
       "    </tr>\n",
       "  </tbody>\n",
       "</table>\n",
       "</div>"
      ],
      "text/plain": [
       "     alpha_1   alpha_2  lambda_1  lambda_2  Recall Score\n",
       "49  0.726956  0.898110  0.888086  0.780876      0.796921\n",
       "1   0.157019  0.156995  0.059084  0.867176      0.796921\n",
       "18  0.006522  0.816461  0.707857  0.730007      0.796921\n",
       "39  0.673136  0.762620  0.238638  0.729216      0.796921\n",
       "16  0.281935  0.543696  0.141924  0.803197      0.796921"
      ]
     },
     "execution_count": 121,
     "metadata": {},
     "output_type": "execute_result"
    }
   ],
   "source": [
    "#Save the results\n",
    "br_param_search_df = pd.DataFrame(param_list)\n",
    "br_param_search_df[\"Recall Score\"] = val_rec_score\n",
    "#Rank by score\n",
    "br_param_search_df.sort_values(by=\"Recall Score\", ascending = False).head()"
   ]
  },
  {
   "cell_type": "markdown",
   "id": "5434796b",
   "metadata": {},
   "source": [
    "### Linear SVC"
   ]
  },
  {
   "cell_type": "code",
   "execution_count": 122,
   "id": "42f8b88d",
   "metadata": {},
   "outputs": [
    {
     "name": "stdout",
     "output_type": "stream",
     "text": [
      "{'C': 0.1}\n",
      "0.7874542600201875\n",
      "Wall time: 5min 28s\n"
     ]
    }
   ],
   "source": [
    "%%time\n",
    "#Randomly search through the hyperparameter space\n",
    "param_distribs = {\n",
    "    \"C\" : np.linspace(0.1, 15, 100),\n",
    "    }\n",
    "svc_clf = LinearSVC(max_iter=10000)\n",
    "\n",
    "svc_rnd_search_cv = RandomizedSearchCV(svc_clf, param_distribs, n_iter = 30,\n",
    "                                   cv=2 ,scoring = 'recall', random_state=42)\n",
    "\n",
    "svc_rnd_search_cv.fit(X_train, y_train)\n",
    "\n",
    "print(svc_rnd_search_cv.best_params_)\n",
    "print(svc_rnd_search_cv.best_score_)"
   ]
  },
  {
   "cell_type": "code",
   "execution_count": 126,
   "id": "23c5f61d",
   "metadata": {},
   "outputs": [
    {
     "data": {
      "text/html": [
       "<div>\n",
       "<style scoped>\n",
       "    .dataframe tbody tr th:only-of-type {\n",
       "        vertical-align: middle;\n",
       "    }\n",
       "\n",
       "    .dataframe tbody tr th {\n",
       "        vertical-align: top;\n",
       "    }\n",
       "\n",
       "    .dataframe thead th {\n",
       "        text-align: right;\n",
       "    }\n",
       "</style>\n",
       "<table border=\"1\" class=\"dataframe\">\n",
       "  <thead>\n",
       "    <tr style=\"text-align: right;\">\n",
       "      <th></th>\n",
       "      <th>param_C</th>\n",
       "      <th>mean_test_score</th>\n",
       "    </tr>\n",
       "  </thead>\n",
       "  <tbody>\n",
       "    <tr>\n",
       "      <th>9</th>\n",
       "      <td>0.1</td>\n",
       "      <td>0.787454</td>\n",
       "    </tr>\n",
       "    <tr>\n",
       "      <th>8</th>\n",
       "      <td>1.605051</td>\n",
       "      <td>0.787128</td>\n",
       "    </tr>\n",
       "    <tr>\n",
       "      <th>25</th>\n",
       "      <td>2.357576</td>\n",
       "      <td>0.787128</td>\n",
       "    </tr>\n",
       "    <tr>\n",
       "      <th>10</th>\n",
       "      <td>2.809091</td>\n",
       "      <td>0.787128</td>\n",
       "    </tr>\n",
       "    <tr>\n",
       "      <th>6</th>\n",
       "      <td>3.411111</td>\n",
       "      <td>0.787128</td>\n",
       "    </tr>\n",
       "  </tbody>\n",
       "</table>\n",
       "</div>"
      ],
      "text/plain": [
       "     param_C  mean_test_score\n",
       "9        0.1         0.787454\n",
       "8   1.605051         0.787128\n",
       "25  2.357576         0.787128\n",
       "10  2.809091         0.787128\n",
       "6   3.411111         0.787128"
      ]
     },
     "execution_count": 126,
     "metadata": {},
     "output_type": "execute_result"
    }
   ],
   "source": [
    "#Save the results\n",
    "svc_rnd_search_df = pd.DataFrame(svc_rnd_search_cv.cv_results_)\n",
    "#Rank by score\n",
    "svc_rnd_search_df[[\"param_C\", \"mean_test_score\"]].sort_values(by = \"mean_test_score\", ascending = False).head()"
   ]
  },
  {
   "cell_type": "markdown",
   "id": "074aa1f5",
   "metadata": {},
   "source": [
    "### Random Forest"
   ]
  },
  {
   "cell_type": "code",
   "execution_count": 127,
   "id": "df33e7ef",
   "metadata": {},
   "outputs": [
    {
     "name": "stdout",
     "output_type": "stream",
     "text": [
      "{'n_estimators': 59}\n",
      "0.800325990353954\n",
      "Wall time: 15min 19s\n"
     ]
    }
   ],
   "source": [
    "%%time\n",
    "#Randomly search through the hyperparameter space\n",
    "param_distribs = {\n",
    "    \"n_estimators\": np.arange(50, 300)\n",
    "    }\n",
    "rf_clf = RandomForestClassifier()\n",
    "\n",
    "rf_rnd_search_cv = RandomizedSearchCV(rf_clf, param_distribs, n_iter = 30,\n",
    "                                   cv=2 ,scoring = 'recall', random_state=42)\n",
    "\n",
    "rf_rnd_search_cv.fit(X_train, y_train)\n",
    "\n",
    "print(rf_rnd_search_cv.best_params_)\n",
    "print(rf_rnd_search_cv.best_score_)"
   ]
  },
  {
   "cell_type": "code",
   "execution_count": 130,
   "id": "35392215",
   "metadata": {},
   "outputs": [
    {
     "data": {
      "text/html": [
       "<div>\n",
       "<style scoped>\n",
       "    .dataframe tbody tr th:only-of-type {\n",
       "        vertical-align: middle;\n",
       "    }\n",
       "\n",
       "    .dataframe tbody tr th {\n",
       "        vertical-align: top;\n",
       "    }\n",
       "\n",
       "    .dataframe thead th {\n",
       "        text-align: right;\n",
       "    }\n",
       "</style>\n",
       "<table border=\"1\" class=\"dataframe\">\n",
       "  <thead>\n",
       "    <tr style=\"text-align: right;\">\n",
       "      <th></th>\n",
       "      <th>param_n_estimators</th>\n",
       "      <th>mean_test_score</th>\n",
       "    </tr>\n",
       "  </thead>\n",
       "  <tbody>\n",
       "    <tr>\n",
       "      <th>8</th>\n",
       "      <td>59</td>\n",
       "      <td>0.800326</td>\n",
       "    </tr>\n",
       "    <tr>\n",
       "      <th>17</th>\n",
       "      <td>65</td>\n",
       "      <td>0.800244</td>\n",
       "    </tr>\n",
       "    <tr>\n",
       "      <th>6</th>\n",
       "      <td>247</td>\n",
       "      <td>0.800163</td>\n",
       "    </tr>\n",
       "    <tr>\n",
       "      <th>26</th>\n",
       "      <td>105</td>\n",
       "      <td>0.799756</td>\n",
       "    </tr>\n",
       "    <tr>\n",
       "      <th>16</th>\n",
       "      <td>244</td>\n",
       "      <td>0.799593</td>\n",
       "    </tr>\n",
       "  </tbody>\n",
       "</table>\n",
       "</div>"
      ],
      "text/plain": [
       "   param_n_estimators  mean_test_score\n",
       "8                  59         0.800326\n",
       "17                 65         0.800244\n",
       "6                 247         0.800163\n",
       "26                105         0.799756\n",
       "16                244         0.799593"
      ]
     },
     "execution_count": 130,
     "metadata": {},
     "output_type": "execute_result"
    }
   ],
   "source": [
    "#Save the results\n",
    "rf_rnd_search_df = pd.DataFrame(rf_rnd_search_cv.cv_results_)\n",
    "tuned_params = [\"param_n_estimators\", \"mean_test_score\"]\n",
    "#Rank by score\n",
    "rf_rnd_search_df[tuned_params].sort_values(by = \"mean_test_score\", ascending = False).head()"
   ]
  },
  {
   "cell_type": "markdown",
   "id": "0b084898",
   "metadata": {},
   "source": [
    "### Extremely Random Trees"
   ]
  },
  {
   "cell_type": "code",
   "execution_count": 131,
   "id": "0408cc8f",
   "metadata": {},
   "outputs": [
    {
     "name": "stdout",
     "output_type": "stream",
     "text": [
      "{'n_estimators': 105}\n",
      "0.8038289856360574\n",
      "Wall time: 22min 1s\n"
     ]
    }
   ],
   "source": [
    "%%time\n",
    "#Randomly search through the hyperparameter space\n",
    "param_distribs = {\n",
    "    \"n_estimators\": np.arange(50, 300)\n",
    "    }\n",
    "er_clf = ExtraTreesClassifier()\n",
    "\n",
    "er_rnd_search_cv = RandomizedSearchCV(er_clf, param_distribs, n_iter = 30,\n",
    "                                   cv=2 ,scoring = 'recall', random_state=42)\n",
    "\n",
    "er_rnd_search_cv.fit(X_train, y_train)\n",
    "\n",
    "print(er_rnd_search_cv.best_params_)\n",
    "print(er_rnd_search_cv.best_score_)"
   ]
  },
  {
   "cell_type": "code",
   "execution_count": 134,
   "id": "2a5d7962",
   "metadata": {},
   "outputs": [
    {
     "data": {
      "text/html": [
       "<div>\n",
       "<style scoped>\n",
       "    .dataframe tbody tr th:only-of-type {\n",
       "        vertical-align: middle;\n",
       "    }\n",
       "\n",
       "    .dataframe tbody tr th {\n",
       "        vertical-align: top;\n",
       "    }\n",
       "\n",
       "    .dataframe thead th {\n",
       "        text-align: right;\n",
       "    }\n",
       "</style>\n",
       "<table border=\"1\" class=\"dataframe\">\n",
       "  <thead>\n",
       "    <tr style=\"text-align: right;\">\n",
       "      <th></th>\n",
       "      <th>param_n_estimators</th>\n",
       "      <th>mean_test_score</th>\n",
       "    </tr>\n",
       "  </thead>\n",
       "  <tbody>\n",
       "    <tr>\n",
       "      <th>26</th>\n",
       "      <td>105</td>\n",
       "      <td>0.803829</td>\n",
       "    </tr>\n",
       "    <tr>\n",
       "      <th>14</th>\n",
       "      <td>117</td>\n",
       "      <td>0.803503</td>\n",
       "    </tr>\n",
       "    <tr>\n",
       "      <th>6</th>\n",
       "      <td>247</td>\n",
       "      <td>0.803422</td>\n",
       "    </tr>\n",
       "    <tr>\n",
       "      <th>25</th>\n",
       "      <td>95</td>\n",
       "      <td>0.803340</td>\n",
       "    </tr>\n",
       "    <tr>\n",
       "      <th>20</th>\n",
       "      <td>297</td>\n",
       "      <td>0.803177</td>\n",
       "    </tr>\n",
       "  </tbody>\n",
       "</table>\n",
       "</div>"
      ],
      "text/plain": [
       "   param_n_estimators  mean_test_score\n",
       "26                105         0.803829\n",
       "14                117         0.803503\n",
       "6                 247         0.803422\n",
       "25                 95         0.803340\n",
       "20                297         0.803177"
      ]
     },
     "execution_count": 134,
     "metadata": {},
     "output_type": "execute_result"
    }
   ],
   "source": [
    "#Save the results\n",
    "er_rnd_search_df = pd.DataFrame(er_rnd_search_cv.cv_results_)\n",
    "tuned_params = [\"param_n_estimators\", \"mean_test_score\"]\n",
    "#Rank by score\n",
    "er_rnd_search_df[tuned_params].sort_values(by = \"mean_test_score\", ascending = False).head()"
   ]
  },
  {
   "cell_type": "markdown",
   "id": "128a9ed1",
   "metadata": {},
   "source": [
    "### AdaBoost"
   ]
  },
  {
   "cell_type": "code",
   "execution_count": 135,
   "id": "278d6bb0",
   "metadata": {},
   "outputs": [
    {
     "name": "stdout",
     "output_type": "stream",
     "text": [
      "{'learning_rate': 0.44155171293779677, 'n_estimators': 377}\n",
      "0.8017923058344195\n",
      "Wall time: 7min 14s\n"
     ]
    }
   ],
   "source": [
    "%%time\n",
    "#Randomly search through the hyperparameter space\n",
    "param_distribs = {\n",
    "    \"n_estimators\": np.arange(50, 400),\n",
    "    \"learning_rate\": uniform(loc = 0.01, scale = 0.5)\n",
    "    }\n",
    "ada_clf = AdaBoostClassifier()\n",
    "\n",
    "ada_rnd_search_cv = RandomizedSearchCV(ada_clf, param_distribs, n_iter = 50,\n",
    "                                   cv=2 ,scoring = 'recall', random_state=42)\n",
    "\n",
    "ada_rnd_search_cv.fit(X_train, y_train)\n",
    "\n",
    "print(ada_rnd_search_cv.best_params_)\n",
    "print(ada_rnd_search_cv.best_score_)"
   ]
  },
  {
   "cell_type": "code",
   "execution_count": 136,
   "id": "34e08918",
   "metadata": {},
   "outputs": [
    {
     "data": {
      "text/html": [
       "<div>\n",
       "<style scoped>\n",
       "    .dataframe tbody tr th:only-of-type {\n",
       "        vertical-align: middle;\n",
       "    }\n",
       "\n",
       "    .dataframe tbody tr th {\n",
       "        vertical-align: top;\n",
       "    }\n",
       "\n",
       "    .dataframe thead th {\n",
       "        text-align: right;\n",
       "    }\n",
       "</style>\n",
       "<table border=\"1\" class=\"dataframe\">\n",
       "  <thead>\n",
       "    <tr style=\"text-align: right;\">\n",
       "      <th></th>\n",
       "      <th>param_n_estimators</th>\n",
       "      <th>mean_test_score</th>\n",
       "    </tr>\n",
       "  </thead>\n",
       "  <tbody>\n",
       "    <tr>\n",
       "      <th>47</th>\n",
       "      <td>377</td>\n",
       "      <td>0.801792</td>\n",
       "    </tr>\n",
       "    <tr>\n",
       "      <th>7</th>\n",
       "      <td>343</td>\n",
       "      <td>0.801548</td>\n",
       "    </tr>\n",
       "    <tr>\n",
       "      <th>20</th>\n",
       "      <td>291</td>\n",
       "      <td>0.800896</td>\n",
       "    </tr>\n",
       "    <tr>\n",
       "      <th>31</th>\n",
       "      <td>319</td>\n",
       "      <td>0.800896</td>\n",
       "    </tr>\n",
       "    <tr>\n",
       "      <th>28</th>\n",
       "      <td>359</td>\n",
       "      <td>0.800245</td>\n",
       "    </tr>\n",
       "  </tbody>\n",
       "</table>\n",
       "</div>"
      ],
      "text/plain": [
       "   param_n_estimators  mean_test_score\n",
       "47                377         0.801792\n",
       "7                 343         0.801548\n",
       "20                291         0.800896\n",
       "31                319         0.800896\n",
       "28                359         0.800245"
      ]
     },
     "execution_count": 136,
     "metadata": {},
     "output_type": "execute_result"
    }
   ],
   "source": [
    "#Save the results\n",
    "ada_rnd_search_df = pd.DataFrame(ada_rnd_search_cv.cv_results_)\n",
    "tuned_params = [\"param_n_estimators\", \"mean_test_score\"]\n",
    "#Rank by score\n",
    "ada_rnd_search_df[tuned_params].sort_values(by = \"mean_test_score\", ascending = False).head()"
   ]
  },
  {
   "cell_type": "markdown",
   "id": "473f5c91",
   "metadata": {},
   "source": [
    "### XGBoost"
   ]
  },
  {
   "cell_type": "code",
   "execution_count": 82,
   "id": "749e0cc7",
   "metadata": {},
   "outputs": [],
   "source": [
    "#Randomly search through the hyperparameter space\n",
    "param_distribs = {\n",
    "    \"max_depth\": [2,3,4,5,6,7],\n",
    "    \"gamma\": uniform(loc = 0.0, scale = 3),\n",
    "    \"min_child_weight\": list(range(20,51)),\n",
    "    \"colsample_bytree\": uniform(loc = 0.1, scale = 0.9),\n",
    "    \"learning_rate\": uniform(loc = 0.01, scale = 0.5),\n",
    "    \"subsample\": uniform(loc = 0.5, scale = 0.5),\n",
    "    \"reg_lambda\": uniform(loc = 0.01, scale = 3)\n",
    "    }\n",
    "rng = np.random.RandomState(42)\n",
    "n_iter = 100\n",
    "param_list = list(ParameterSampler(param_distribs, n_iter = n_iter, random_state=rng))"
   ]
  },
  {
   "cell_type": "code",
   "execution_count": 83,
   "id": "22186b8f",
   "metadata": {},
   "outputs": [
    {
     "name": "stdout",
     "output_type": "stream",
     "text": [
      "Done with 10 of 10\n",
      "Wall time: 23.8 s\n"
     ]
    }
   ],
   "source": [
    "%%time\n",
    "#Create an evaluation set\n",
    "eval_set = [(X_train, y_train), (X_val, y_val)]\n",
    "val_rec_score = []\n",
    "n_est = []\n",
    "counter = 1\n",
    "xgb_cf = xgboost.XGBClassifier(n_estimators = 1000, use_label_encoder=False, objective = \"binary:logistic\")\n",
    "\n",
    "for params in param_list:\n",
    "    xgb_cf.set_params(**params)\n",
    "    xgb_cf.fit(X_train, y_train, eval_set=eval_set, eval_metric = \"auc\", verbose = False, early_stopping_rounds = 30)\n",
    "    val_set_preds = xgb_cf.predict(X_val)\n",
    "    val_rec_score.append(recall_score(y_val, val_set_preds))\n",
    "    n_est.append(int(xgb_cf.get_booster().attributes()[\"best_ntree_limit\"]))\n",
    "    if counter % 10 == 0:\n",
    "        print(f'Done with {counter} of {n_iter}')\n",
    "    counter += 1"
   ]
  },
  {
   "cell_type": "code",
   "execution_count": 85,
   "id": "83406fcd",
   "metadata": {},
   "outputs": [
    {
     "data": {
      "text/html": [
       "<div>\n",
       "<style scoped>\n",
       "    .dataframe tbody tr th:only-of-type {\n",
       "        vertical-align: middle;\n",
       "    }\n",
       "\n",
       "    .dataframe tbody tr th {\n",
       "        vertical-align: top;\n",
       "    }\n",
       "\n",
       "    .dataframe thead th {\n",
       "        text-align: right;\n",
       "    }\n",
       "</style>\n",
       "<table border=\"1\" class=\"dataframe\">\n",
       "  <thead>\n",
       "    <tr style=\"text-align: right;\">\n",
       "      <th></th>\n",
       "      <th>colsample_bytree</th>\n",
       "      <th>gamma</th>\n",
       "      <th>learning_rate</th>\n",
       "      <th>max_depth</th>\n",
       "      <th>min_child_weight</th>\n",
       "      <th>reg_lambda</th>\n",
       "      <th>subsample</th>\n",
       "      <th>Validation Recall</th>\n",
       "      <th>N Estimators</th>\n",
       "    </tr>\n",
       "  </thead>\n",
       "  <tbody>\n",
       "    <tr>\n",
       "      <th>1</th>\n",
       "      <td>0.152275</td>\n",
       "      <td>2.598528</td>\n",
       "      <td>0.310558</td>\n",
       "      <td>4</td>\n",
       "      <td>41</td>\n",
       "      <td>0.179235</td>\n",
       "      <td>0.860999</td>\n",
       "      <td>0.804985</td>\n",
       "      <td>154</td>\n",
       "    </tr>\n",
       "    <tr>\n",
       "      <th>7</th>\n",
       "      <td>0.451955</td>\n",
       "      <td>0.546708</td>\n",
       "      <td>0.387681</td>\n",
       "      <td>7</td>\n",
       "      <td>25</td>\n",
       "      <td>0.633825</td>\n",
       "      <td>0.783850</td>\n",
       "      <td>0.803519</td>\n",
       "      <td>30</td>\n",
       "    </tr>\n",
       "    <tr>\n",
       "      <th>9</th>\n",
       "      <td>0.393887</td>\n",
       "      <td>1.711332</td>\n",
       "      <td>0.270417</td>\n",
       "      <td>7</td>\n",
       "      <td>27</td>\n",
       "      <td>2.543602</td>\n",
       "      <td>0.873660</td>\n",
       "      <td>0.801320</td>\n",
       "      <td>42</td>\n",
       "    </tr>\n",
       "    <tr>\n",
       "      <th>4</th>\n",
       "      <td>0.806658</td>\n",
       "      <td>0.599021</td>\n",
       "      <td>0.267117</td>\n",
       "      <td>2</td>\n",
       "      <td>22</td>\n",
       "      <td>2.589821</td>\n",
       "      <td>0.840154</td>\n",
       "      <td>0.800587</td>\n",
       "      <td>239</td>\n",
       "    </tr>\n",
       "    <tr>\n",
       "      <th>3</th>\n",
       "      <td>0.120756</td>\n",
       "      <td>1.574324</td>\n",
       "      <td>0.209930</td>\n",
       "      <td>5</td>\n",
       "      <td>47</td>\n",
       "      <td>1.109086</td>\n",
       "      <td>0.728035</td>\n",
       "      <td>0.796188</td>\n",
       "      <td>151</td>\n",
       "    </tr>\n",
       "  </tbody>\n",
       "</table>\n",
       "</div>"
      ],
      "text/plain": [
       "   colsample_bytree     gamma  learning_rate  max_depth  min_child_weight  \\\n",
       "1          0.152275  2.598528       0.310558          4                41   \n",
       "7          0.451955  0.546708       0.387681          7                25   \n",
       "9          0.393887  1.711332       0.270417          7                27   \n",
       "4          0.806658  0.599021       0.267117          2                22   \n",
       "3          0.120756  1.574324       0.209930          5                47   \n",
       "\n",
       "   reg_lambda  subsample  Validation Recall  N Estimators  \n",
       "1    0.179235   0.860999           0.804985           154  \n",
       "7    0.633825   0.783850           0.803519            30  \n",
       "9    2.543602   0.873660           0.801320            42  \n",
       "4    2.589821   0.840154           0.800587           239  \n",
       "3    1.109086   0.728035           0.796188           151  "
      ]
     },
     "execution_count": 85,
     "metadata": {},
     "output_type": "execute_result"
    }
   ],
   "source": [
    "#Save the results\n",
    "xgb_param_search_df = pd.DataFrame(param_list)\n",
    "xgb_param_search_df[\"Validation Recall\"] = val_rec_score\n",
    "xgb_param_search_df[\"N Estimators\"] = n_est\n",
    "#Rank by score\n",
    "xgb_param_search_df.sort_values(by=\"Validation Recall\", ascending = False).head()"
   ]
  }
 ],
 "metadata": {
  "kernelspec": {
   "display_name": "Python 3",
   "language": "python",
   "name": "python3"
  },
  "language_info": {
   "codemirror_mode": {
    "name": "ipython",
    "version": 3
   },
   "file_extension": ".py",
   "mimetype": "text/x-python",
   "name": "python",
   "nbconvert_exporter": "python",
   "pygments_lexer": "ipython3",
   "version": "3.8.8"
  }
 },
 "nbformat": 4,
 "nbformat_minor": 5
}
