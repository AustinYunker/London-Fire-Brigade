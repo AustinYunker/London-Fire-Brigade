{
 "cells": [
  {
   "cell_type": "markdown",
   "id": "bc191844",
   "metadata": {},
   "source": [
    "# Setup and Imports"
   ]
  },
  {
   "cell_type": "code",
   "execution_count": 163,
   "id": "99b06a11",
   "metadata": {},
   "outputs": [],
   "source": [
    "import pandas as pd\n",
    "import numpy as np\n",
    "import london_data_functions as ldf\n",
    "import warnings\n",
    "import seaborn as sns\n",
    "sns.set\n",
    "import matplotlib.pyplot as plt\n",
    "\n",
    "from sklearn.pipeline import Pipeline\n",
    "from sklearn.preprocessing import StandardScaler\n",
    "from sklearn.preprocessing import OneHotEncoder\n",
    "from sklearn.compose import ColumnTransformer\n",
    "\n",
    "\n",
    "from sklearn.model_selection import cross_val_score\n",
    "from sklearn.model_selection import cross_val_predict\n",
    "\n",
    "from sklearn.metrics import confusion_matrix\n",
    "from sklearn.metrics import f1_score\n",
    "from sklearn.metrics import accuracy_score\n",
    "from sklearn.metrics import recall_score\n",
    "\n",
    "from sklearn.ensemble import RandomForestClassifier\n",
    "from sklearn.ensemble import ExtraTreesClassifier\n",
    "from sklearn.naive_bayes import GaussianNB\n",
    "from sklearn.svm import LinearSVC\n",
    "from sklearn.linear_model import BayesianRidge\n",
    "from sklearn.linear_model import LogisticRegression\n",
    "from sklearn.gaussian_process import GaussianProcessClassifier\n",
    "from sklearn.ensemble import AdaBoostClassifier\n",
    "\n",
    "from sklearn.model_selection import train_test_split\n",
    "from sklearn.model_selection import RandomizedSearchCV\n",
    "from scipy.stats import uniform\n",
    "\n",
    "import xgboost\n",
    "import pickle\n",
    "from sklearn.model_selection import ParameterSampler\n",
    "from scipy import sparse"
   ]
  },
  {
   "cell_type": "markdown",
   "id": "f0fc40ba",
   "metadata": {},
   "source": [
    "# Get the Data"
   ]
  },
  {
   "cell_type": "code",
   "execution_count": 165,
   "id": "70e9d99f",
   "metadata": {},
   "outputs": [
    {
     "name": "stdout",
     "output_type": "stream",
     "text": [
      "Wall time: 8.18 s\n"
     ]
    }
   ],
   "source": [
    "%%time\n",
    "query = \"\"\"\n",
    "            SELECT incident_number, timestamp_of_call, incident_group, property_category, \n",
    "                    property_type, address_qualifier, borough_name, ward_name, \n",
    "                    first_pump_arriving_attendance_time as first_time, first_pump_arriving_deployed_from_station as first_station,\n",
    "                    num_stations_with_pumps_attending as station_pumps, num_pumps_attending as pumps_attending,\n",
    "                    FROM `gdac-327115.LondonFire.fire_brigade`\n",
    "        \"\"\"\n",
    "\n",
    "london = ldf.fetch_london_data(query_string=query, project_id = \"gdac-327115\", location = \"eu\")"
   ]
  },
  {
   "cell_type": "markdown",
   "id": "2c4b20d1",
   "metadata": {},
   "source": [
    "# Clean the Training Data"
   ]
  },
  {
   "cell_type": "code",
   "execution_count": 166,
   "id": "971c2211",
   "metadata": {},
   "outputs": [
    {
     "name": "stdout",
     "output_type": "stream",
     "text": [
      "Cleaning London Data Started...\n",
      "\n",
      "Sucessfully Added Emergency Column!\n",
      "Sucessfully Added Month Column!\n",
      "Sucessfully Added Hour Column!\n",
      "Sucessfully Cleanded Property Category!\n",
      "Sucessfully Cleaned and Ranked Property Type!\n",
      "Sucessfully Cleaned Address!\n",
      "Sucessfully Cleaned Borough Names!\n",
      "Sucessfully Cleaned and Ranked Ward Names!\n",
      "Sucessfully Imputed Station Names!\n",
      "Sucessfully Ranked Stations!\n",
      "Sucessfully Cleaned Station Arriving Time!\n",
      "Sucessfully Cleaned Number of Stations with Pumps!\n",
      "Sucessfully Cleaned Number of Pumps Attending!\n",
      "Sucessfully Dropped Unecessary Columns!\n",
      "\n",
      "Sucessfully Cleaned London Data!\n"
     ]
    }
   ],
   "source": [
    "warnings.filterwarnings('ignore')\n",
    "london = ldf.clean_london(london)"
   ]
  },
  {
   "cell_type": "markdown",
   "id": "0e7fc288",
   "metadata": {},
   "source": [
    "# Split the Data into Training and Test Sets"
   ]
  },
  {
   "cell_type": "code",
   "execution_count": 191,
   "id": "1f576ce3",
   "metadata": {},
   "outputs": [],
   "source": [
    "london_train, london_test = train_test_split(london, test_size = .16, stratify = london[\"Emergency\"], random_state = 42)"
   ]
  },
  {
   "cell_type": "code",
   "execution_count": 169,
   "id": "06554971",
   "metadata": {},
   "outputs": [
    {
     "data": {
      "text/plain": [
       "property_category     object\n",
       "address_qualifier     object\n",
       "borough_name          object\n",
       "first_time           float64\n",
       "station_pumps         object\n",
       "pumps_attending       object\n",
       "Emergency              int64\n",
       "Month                 object\n",
       "Hour                  object\n",
       "pt_rank               object\n",
       "wn_rank               object\n",
       "stat_rank             object\n",
       "dtype: object"
      ]
     },
     "execution_count": 169,
     "metadata": {},
     "output_type": "execute_result"
    }
   ],
   "source": [
    "london_train.dtypes"
   ]
  },
  {
   "cell_type": "markdown",
   "id": "5e9ee7b1",
   "metadata": {},
   "source": [
    "# Prepare the Data"
   ]
  },
  {
   "cell_type": "code",
   "execution_count": 5,
   "id": "9b8fd867",
   "metadata": {},
   "outputs": [],
   "source": [
    "def prepare_london(df, cat_attribs, num_attribs, target):\n",
    "    \"\"\"\n",
    "    \n",
    "    \"\"\"\n",
    "    #num_pipeline = Pipeline([\"std_scaler\", StandardScaler()])\n",
    "    cat_encoder = OneHotEncoder()\n",
    "    \n",
    "    full_pipeline = ColumnTransformer([\n",
    "        (\"num\", StandardScaler(), num_attribs),\n",
    "        (\"cat\", OneHotEncoder(), cat_attribs),\n",
    "    ])\n",
    "    \n",
    "    X = full_pipeline.fit_transform(df)\n",
    "    y = np.array(df[target])\n",
    "    \n",
    "    return X, y\n",
    "    "
   ]
  },
  {
   "cell_type": "code",
   "execution_count": 192,
   "id": "adb397df",
   "metadata": {},
   "outputs": [],
   "source": [
    "cat_vars = [\"property_category\", \"address_qualifier\", \"borough_name\", \"station_pumps\", \"pumps_attending\", \"Month\", \n",
    "            \"Hour\", \"pt_rank\", \"wn_rank\", \"stat_rank\"]\n",
    "num_vars = [\"first_time\"]\n",
    "target = \"Emergency\"\n",
    "X, y = prepare_london(london_train, cat_vars, num_vars, target)\n",
    "X_test, y_test = prepare_london(london_test, cat_vars, num_vars, target)"
   ]
  },
  {
   "cell_type": "code",
   "execution_count": 193,
   "id": "3119d901",
   "metadata": {},
   "outputs": [
    {
     "name": "stdout",
     "output_type": "stream",
     "text": [
      "(26718, 108)\n",
      "(26718,)\n",
      "(5090, 107)\n",
      "(5090,)\n"
     ]
    }
   ],
   "source": [
    "print(X.shape)\n",
    "print(y.shape)\n",
    "print(X_test.shape)\n",
    "print(y_test.shape)"
   ]
  },
  {
   "cell_type": "code",
   "execution_count": 194,
   "id": "8465041d",
   "metadata": {},
   "outputs": [
    {
     "data": {
      "text/plain": [
       "5     12143\n",
       "4      7692\n",
       "6      4024\n",
       "2      1412\n",
       "3      1249\n",
       "7       197\n",
       "10        1\n",
       "Name: stat_rank, dtype: int64"
      ]
     },
     "execution_count": 194,
     "metadata": {},
     "output_type": "execute_result"
    }
   ],
   "source": [
    "london_train[\"stat_rank\"].value_counts()"
   ]
  },
  {
   "cell_type": "code",
   "execution_count": 195,
   "id": "a74f5605",
   "metadata": {},
   "outputs": [
    {
     "data": {
      "text/plain": [
       "5    2308\n",
       "4    1493\n",
       "6     766\n",
       "2     259\n",
       "3     218\n",
       "7      46\n",
       "Name: stat_rank, dtype: int64"
      ]
     },
     "execution_count": 195,
     "metadata": {},
     "output_type": "execute_result"
    }
   ],
   "source": [
    "london_test[\"stat_rank\"].value_counts()"
   ]
  },
  {
   "cell_type": "code",
   "execution_count": 196,
   "id": "a03fbd27",
   "metadata": {},
   "outputs": [],
   "source": [
    "london_train = london_train.loc[london_train[\"stat_rank\"] != \"10\"]"
   ]
  },
  {
   "cell_type": "code",
   "execution_count": 197,
   "id": "8dccd369",
   "metadata": {},
   "outputs": [],
   "source": [
    "cat_vars = [\"property_category\", \"address_qualifier\", \"borough_name\", \"station_pumps\", \"pumps_attending\", \"Month\", \n",
    "            \"Hour\", \"pt_rank\", \"wn_rank\", \"stat_rank\"]\n",
    "num_vars = [\"first_time\"]\n",
    "target = \"Emergency\"\n",
    "X, y = prepare_london(london_train, cat_vars, num_vars, target)\n",
    "X_test, y_test = prepare_london(london_test, cat_vars, num_vars, target)"
   ]
  },
  {
   "cell_type": "code",
   "execution_count": 198,
   "id": "5e5ef9de",
   "metadata": {},
   "outputs": [
    {
     "name": "stdout",
     "output_type": "stream",
     "text": [
      "(26717, 107)\n",
      "(26717,)\n",
      "(5090, 107)\n",
      "(5090,)\n"
     ]
    }
   ],
   "source": [
    "print(X.shape)\n",
    "print(y.shape)\n",
    "print(X_test.shape)\n",
    "print(y_test.shape)"
   ]
  },
  {
   "cell_type": "code",
   "execution_count": 199,
   "id": "1b3fae9e",
   "metadata": {},
   "outputs": [
    {
     "name": "stdout",
     "output_type": "stream",
     "text": [
      "107\n"
     ]
    }
   ],
   "source": [
    "feature_dim = 0\n",
    "\n",
    "for feature in london_train[cat_vars].columns:\n",
    "    feature_dim += len(london_train[feature].unique())\n",
    "    \n",
    "feature_dim += 1\n",
    "\n",
    "print(feature_dim)"
   ]
  },
  {
   "cell_type": "code",
   "execution_count": 200,
   "id": "9dde2f69",
   "metadata": {},
   "outputs": [],
   "source": [
    "X_train, X_val, y_train, y_val = train_test_split(X, y, test_size = .10, stratify = y, random_state = 42)"
   ]
  },
  {
   "cell_type": "code",
   "execution_count": 201,
   "id": "6fe99995",
   "metadata": {},
   "outputs": [
    {
     "name": "stdout",
     "output_type": "stream",
     "text": [
      "(24045, 107)\n",
      "(2672, 107)\n",
      "(24045,)\n",
      "(2672,)\n"
     ]
    }
   ],
   "source": [
    "print(X_train.shape)\n",
    "print(X_val.shape)\n",
    "print(y_train.shape)\n",
    "print(y_val.shape)"
   ]
  },
  {
   "cell_type": "markdown",
   "id": "cbe711b0",
   "metadata": {},
   "source": [
    "# Baseline Scores"
   ]
  },
  {
   "cell_type": "markdown",
   "id": "3a79e0ae",
   "metadata": {},
   "source": [
    "### Logistic Regression"
   ]
  },
  {
   "cell_type": "code",
   "execution_count": 202,
   "id": "fb4c7a48",
   "metadata": {},
   "outputs": [],
   "source": [
    "log_reg = LogisticRegression(max_iter = 10000)"
   ]
  },
  {
   "cell_type": "code",
   "execution_count": 203,
   "id": "ae32c59a",
   "metadata": {},
   "outputs": [
    {
     "name": "stdout",
     "output_type": "stream",
     "text": [
      "Logistic Regression 5-fold CV Baseline F1-Score: 81.51%\n",
      "Logistic Regression 5-fold CV Baseline Recall: 79.41%\n",
      "Logistic Regression 5-fold CV Baseline Accuracy: 81.61%\n",
      "Wall time: 1.81 s\n"
     ]
    }
   ],
   "source": [
    "%%time\n",
    "y_train_pred = cross_val_predict(log_reg, X_train, y_train, cv = 5)\n",
    "lr_cv_f1 = np.round(f1_score(y_train, y_train_pred), 4) * 100\n",
    "lr_cv_acc = np.round(accuracy_score(y_train, y_train_pred), 4) * 100\n",
    "lr_cv_rec = np.round(recall_score(y_train, y_train_pred), 4) * 100\n",
    "print(f'Logistic Regression 5-fold CV Baseline F1-Score: {lr_cv_f1:.2f}%')\n",
    "print(f'Logistic Regression 5-fold CV Baseline Recall: {lr_cv_rec:.2f}%')\n",
    "print(f'Logistic Regression 5-fold CV Baseline Accuracy: {lr_cv_acc:.2f}%')"
   ]
  },
  {
   "cell_type": "code",
   "execution_count": 204,
   "id": "78c02f4b",
   "metadata": {},
   "outputs": [
    {
     "data": {
      "text/plain": [
       "array([[9877, 1894],\n",
       "       [2527, 9747]], dtype=int64)"
      ]
     },
     "execution_count": 204,
     "metadata": {},
     "output_type": "execute_result"
    }
   ],
   "source": [
    "confusion_matrix(y_train, y_train_pred)"
   ]
  },
  {
   "cell_type": "markdown",
   "id": "199cc0f3",
   "metadata": {},
   "source": [
    "### Bayesian Regression"
   ]
  },
  {
   "cell_type": "code",
   "execution_count": 33,
   "id": "6e70786b",
   "metadata": {},
   "outputs": [],
   "source": [
    "br_reg = BayesianRidge()"
   ]
  },
  {
   "cell_type": "code",
   "execution_count": 34,
   "id": "27b85d50",
   "metadata": {},
   "outputs": [
    {
     "name": "stdout",
     "output_type": "stream",
     "text": [
      "Bayesian Regression 5-fold CV Baseline F1-Score: 81.24%\n",
      "Bayesian Regression 5-fold CV Baseline Recall: 79.20%\n",
      "Bayesian Regression 5-fold CV Baseline Accuracy: 81.32%\n",
      "Wall time: 1.13 s\n"
     ]
    }
   ],
   "source": [
    "%%time\n",
    "y_train_pred = cross_val_predict(br_reg, X_train.toarray(), y_train, cv = 5)\n",
    "y_train_pred = np.round(y_train_pred)\n",
    "br_cv_f1 = np.round(f1_score(y_train, y_train_pred), 4) * 100\n",
    "br_cv_acc = np.round(accuracy_score(y_train, y_train_pred), 4) * 100\n",
    "br_cv_rec = np.round(recall_score(y_train, y_train_pred), 4) * 100\n",
    "print(f'Bayesian Regression 5-fold CV Baseline F1-Score: {br_cv_f1:.2f}%')\n",
    "print(f'Bayesian Regression 5-fold CV Baseline Recall: {br_cv_rec:.2f}%')\n",
    "print(f'Bayesian Regression 5-fold CV Baseline Accuracy: {br_cv_acc:.2f}%')"
   ]
  },
  {
   "cell_type": "code",
   "execution_count": 35,
   "id": "2a362c91",
   "metadata": {},
   "outputs": [
    {
     "data": {
      "text/plain": [
       "array([[9834, 1938],\n",
       "       [2553, 9722]], dtype=int64)"
      ]
     },
     "execution_count": 35,
     "metadata": {},
     "output_type": "execute_result"
    }
   ],
   "source": [
    "confusion_matrix(y_train, y_train_pred)"
   ]
  },
  {
   "cell_type": "markdown",
   "id": "fb392147",
   "metadata": {},
   "source": [
    "### Naive Bayes"
   ]
  },
  {
   "cell_type": "code",
   "execution_count": 36,
   "id": "0fad9c8b",
   "metadata": {},
   "outputs": [],
   "source": [
    "nb_clf = GaussianNB()"
   ]
  },
  {
   "cell_type": "code",
   "execution_count": 37,
   "id": "70c256db",
   "metadata": {},
   "outputs": [
    {
     "name": "stdout",
     "output_type": "stream",
     "text": [
      "Naive Bayes 5-fold CV Baseline F1-Score: 76.09%\n",
      "Naive Bayes 5-fold CV Baseline Recall: 76.69%\n",
      "Naive Bayes 5-fold CV Baseline Accuracy: 75.40%\n",
      "Wall time: 370 ms\n"
     ]
    }
   ],
   "source": [
    "%%time\n",
    "y_train_pred = cross_val_predict(nb_clf, X_train.toarray(), y_train, cv = 5)\n",
    "nb_cv_f1 = np.round(f1_score(y_train, y_train_pred), 4) * 100\n",
    "nb_cv_acc = np.round(accuracy_score(y_train, y_train_pred), 4) * 100\n",
    "nb_cv_rec = np.round(recall_score(y_train, y_train_pred), 4) * 100\n",
    "print(f'Naive Bayes 5-fold CV Baseline F1-Score: {nb_cv_f1:.2f}%')\n",
    "print(f'Naive Bayes 5-fold CV Baseline Recall: {nb_cv_rec:.2f}%')\n",
    "print(f'Naive Bayes 5-fold CV Baseline Accuracy: {nb_cv_acc:.2f}%')"
   ]
  },
  {
   "cell_type": "code",
   "execution_count": 38,
   "id": "893a02c5",
   "metadata": {},
   "outputs": [
    {
     "data": {
      "text/plain": [
       "array([[8717, 3055],\n",
       "       [2861, 9414]], dtype=int64)"
      ]
     },
     "execution_count": 38,
     "metadata": {},
     "output_type": "execute_result"
    }
   ],
   "source": [
    "confusion_matrix(y_train, y_train_pred)"
   ]
  },
  {
   "cell_type": "markdown",
   "id": "74031d3b",
   "metadata": {},
   "source": [
    "### Linear SVC"
   ]
  },
  {
   "cell_type": "code",
   "execution_count": 39,
   "id": "c08d30d3",
   "metadata": {},
   "outputs": [],
   "source": [
    "svc_clf = LinearSVC()"
   ]
  },
  {
   "cell_type": "code",
   "execution_count": 40,
   "id": "85aef93c",
   "metadata": {},
   "outputs": [
    {
     "name": "stdout",
     "output_type": "stream",
     "text": [
      "Linear SVC 5-fold CV Baseline F1-Score: 81.23%\n",
      "Linear SVC 5-fold CV Baseline Recall: 78.86%\n",
      "Linear SVC 5-fold CV Baseline Accuracy: 81.39%\n",
      "Wall time: 6.73 s\n"
     ]
    }
   ],
   "source": [
    "%%time\n",
    "y_train_pred = cross_val_predict(svc_clf, X_train, y_train, cv = 5)\n",
    "svc_cv_f1 = np.round(f1_score(y_train, y_train_pred), 4) * 100\n",
    "svc_cv_acc = np.round(accuracy_score(y_train, y_train_pred), 4) * 100\n",
    "svc_cv_rec = np.round(recall_score(y_train, y_train_pred), 4) * 100\n",
    "print(f'Linear SVC 5-fold CV Baseline F1-Score: {svc_cv_f1:.2f}%')\n",
    "print(f'Linear SVC 5-fold CV Baseline Recall: {svc_cv_rec:.2f}%')\n",
    "print(f'Linear SVC 5-fold CV Baseline Accuracy: {svc_cv_acc:.2f}%')"
   ]
  },
  {
   "cell_type": "code",
   "execution_count": 41,
   "id": "843f7a74",
   "metadata": {},
   "outputs": [
    {
     "data": {
      "text/plain": [
       "array([[9892, 1880],\n",
       "       [2595, 9680]], dtype=int64)"
      ]
     },
     "execution_count": 41,
     "metadata": {},
     "output_type": "execute_result"
    }
   ],
   "source": [
    "confusion_matrix(y_train, y_train_pred)"
   ]
  },
  {
   "cell_type": "markdown",
   "id": "a67dea48",
   "metadata": {},
   "source": [
    "### Random Forest"
   ]
  },
  {
   "cell_type": "code",
   "execution_count": 12,
   "id": "06816f74",
   "metadata": {},
   "outputs": [],
   "source": [
    "rf_clf = RandomForestClassifier()"
   ]
  },
  {
   "cell_type": "code",
   "execution_count": 14,
   "id": "d6063cf4",
   "metadata": {},
   "outputs": [
    {
     "name": "stdout",
     "output_type": "stream",
     "text": [
      "Random Forest 5-fold CV Baseline F1-Score: 82.02%\n",
      "Random Forest 5-fold CV Baseline Recall: 79.68%\n",
      "Random Forest 5-fold CV Baseline Accuracy: 82.17%\n",
      "Wall time: 18.8 s\n"
     ]
    }
   ],
   "source": [
    "%%time\n",
    "y_train_pred = cross_val_predict(rf_clf, X_train.toarray(), y_train, cv = 5)\n",
    "rf_cv_f1 = np.round(f1_score(y_train, y_train_pred), 4) * 100\n",
    "rf_cv_acc = np.round(accuracy_score(y_train, y_train_pred), 4) * 100\n",
    "rf_cv_rec = np.round(recall_score(y_train, y_train_pred), 4) * 100\n",
    "print(f'Random Forest 5-fold CV Baseline F1-Score: {rf_cv_f1:.2f}%')\n",
    "print(f'Random Forest 5-fold CV Baseline Recall: {rf_cv_rec:.2f}%')\n",
    "print(f'Random Forest 5-fold CV Baseline Accuracy: {rf_cv_acc:.2f}%')"
   ]
  },
  {
   "cell_type": "code",
   "execution_count": 15,
   "id": "56c9f4db",
   "metadata": {},
   "outputs": [
    {
     "data": {
      "text/plain": [
       "array([[9978, 1794],\n",
       "       [2494, 9781]], dtype=int64)"
      ]
     },
     "execution_count": 15,
     "metadata": {},
     "output_type": "execute_result"
    }
   ],
   "source": [
    "confusion_matrix(y_train, y_train_pred)"
   ]
  },
  {
   "cell_type": "markdown",
   "id": "4cad1954",
   "metadata": {},
   "source": [
    "### Extremely Random Trees"
   ]
  },
  {
   "cell_type": "code",
   "execution_count": 16,
   "id": "da843a11",
   "metadata": {},
   "outputs": [],
   "source": [
    "er_clf = ExtraTreesClassifier()"
   ]
  },
  {
   "cell_type": "code",
   "execution_count": 17,
   "id": "ed09c7fa",
   "metadata": {},
   "outputs": [
    {
     "name": "stdout",
     "output_type": "stream",
     "text": [
      "Extremely Random Trees 5-fold CV Baseline F1-Score: 81.10%\n",
      "Extremely Random Trees 5-fold CV Baseline Recall: 79.72%\n",
      "Extremely Random Treess 5-fold CV Baseline Accuracy: 81.04%\n",
      "Wall time: 25.6 s\n"
     ]
    }
   ],
   "source": [
    "%%time\n",
    "y_train_pred = cross_val_predict(er_clf, X_train.toarray(), y_train, cv = 5)\n",
    "er_cv_f1 = np.round(f1_score(y_train, y_train_pred), 4) * 100\n",
    "er_cv_acc = np.round(accuracy_score(y_train, y_train_pred), 4) * 100\n",
    "er_cv_rec = np.round(recall_score(y_train, y_train_pred), 4) * 100\n",
    "print(f'Extremely Random Trees 5-fold CV Baseline F1-Score: {er_cv_f1:.2f}%')\n",
    "print(f'Extremely Random Trees 5-fold CV Baseline Recall: {er_cv_rec:.2f}%')\n",
    "print(f'Extremely Random Treess 5-fold CV Baseline Accuracy: {er_cv_acc:.2f}%')"
   ]
  },
  {
   "cell_type": "code",
   "execution_count": 18,
   "id": "50074fd8",
   "metadata": {},
   "outputs": [
    {
     "data": {
      "text/plain": [
       "array([[9701, 2071],\n",
       "       [2489, 9786]], dtype=int64)"
      ]
     },
     "execution_count": 18,
     "metadata": {},
     "output_type": "execute_result"
    }
   ],
   "source": [
    "confusion_matrix(y_train, y_train_pred)"
   ]
  },
  {
   "cell_type": "markdown",
   "id": "ed680900",
   "metadata": {},
   "source": [
    "### AdaBoost"
   ]
  },
  {
   "cell_type": "code",
   "execution_count": 21,
   "id": "6019345a",
   "metadata": {},
   "outputs": [],
   "source": [
    "ada_clf = AdaBoostClassifier()"
   ]
  },
  {
   "cell_type": "code",
   "execution_count": 24,
   "id": "ae8c25b4",
   "metadata": {},
   "outputs": [
    {
     "name": "stdout",
     "output_type": "stream",
     "text": [
      "AdaBoost 5-fold CV Baseline F1-Score: 80.99%\n",
      "AdaBoost 5-fold CV Baseline Recall: 80.19%\n",
      "AdaBoost 5-fold CV Baseline Accuracy: 80.78%\n",
      "Wall time: 15.7 s\n"
     ]
    }
   ],
   "source": [
    "%%time\n",
    "y_train_pred = cross_val_predict(ada_clf, X_train.toarray(), y_train, cv = 5)\n",
    "ada_cv_f1 = np.round(f1_score(y_train, y_train_pred), 4) * 100\n",
    "ada_cv_acc = np.round(accuracy_score(y_train, y_train_pred), 4) * 100\n",
    "ada_cv_rec = np.round(recall_score(y_train, y_train_pred), 4) * 100\n",
    "print(f'AdaBoost 5-fold CV Baseline F1-Score: {ada_cv_f1:.2f}%')\n",
    "print(f'AdaBoost 5-fold CV Baseline Recall: {ada_cv_rec:.2f}%')\n",
    "print(f'AdaBoost 5-fold CV Baseline Accuracy: {ada_cv_acc:.2f}%')"
   ]
  },
  {
   "cell_type": "code",
   "execution_count": 25,
   "id": "8638513f",
   "metadata": {},
   "outputs": [
    {
     "data": {
      "text/plain": [
       "array([[9583, 2189],\n",
       "       [2432, 9843]], dtype=int64)"
      ]
     },
     "execution_count": 25,
     "metadata": {},
     "output_type": "execute_result"
    }
   ],
   "source": [
    "confusion_matrix(y_train, y_train_pred)"
   ]
  },
  {
   "cell_type": "markdown",
   "id": "5c18dad7",
   "metadata": {},
   "source": [
    "### XGBoost"
   ]
  },
  {
   "cell_type": "code",
   "execution_count": 26,
   "id": "225e0fc4",
   "metadata": {},
   "outputs": [],
   "source": [
    "xgb_clf = xgboost.XGBClassifier(use_label_encoder=False, objective = \"binary:logistic\")"
   ]
  },
  {
   "cell_type": "code",
   "execution_count": 28,
   "id": "a0e364d5",
   "metadata": {},
   "outputs": [
    {
     "name": "stdout",
     "output_type": "stream",
     "text": [
      "[15:27:44] WARNING: C:/Users/Administrator/workspace/xgboost-win64_release_1.5.1/src/learner.cc:1115: Starting in XGBoost 1.3.0, the default evaluation metric used with the objective 'binary:logistic' was changed from 'error' to 'logloss'. Explicitly set eval_metric if you'd like to restore the old behavior.\n",
      "[15:27:45] WARNING: C:/Users/Administrator/workspace/xgboost-win64_release_1.5.1/src/learner.cc:1115: Starting in XGBoost 1.3.0, the default evaluation metric used with the objective 'binary:logistic' was changed from 'error' to 'logloss'. Explicitly set eval_metric if you'd like to restore the old behavior.\n",
      "[15:27:46] WARNING: C:/Users/Administrator/workspace/xgboost-win64_release_1.5.1/src/learner.cc:1115: Starting in XGBoost 1.3.0, the default evaluation metric used with the objective 'binary:logistic' was changed from 'error' to 'logloss'. Explicitly set eval_metric if you'd like to restore the old behavior.\n",
      "[15:27:47] WARNING: C:/Users/Administrator/workspace/xgboost-win64_release_1.5.1/src/learner.cc:1115: Starting in XGBoost 1.3.0, the default evaluation metric used with the objective 'binary:logistic' was changed from 'error' to 'logloss'. Explicitly set eval_metric if you'd like to restore the old behavior.\n",
      "[15:27:47] WARNING: C:/Users/Administrator/workspace/xgboost-win64_release_1.5.1/src/learner.cc:1115: Starting in XGBoost 1.3.0, the default evaluation metric used with the objective 'binary:logistic' was changed from 'error' to 'logloss'. Explicitly set eval_metric if you'd like to restore the old behavior.\n",
      "XGBoost 5-fold CV Baseline F1-Score: 82.32%\n",
      "XGBoost 5-fold CV Baseline Recall: 80.18%\n",
      "XGBoost 5-fold CV Baseline Accuracy: 82.41%\n",
      "Wall time: 3.86 s\n"
     ]
    }
   ],
   "source": [
    "%%time\n",
    "y_train_pred = cross_val_predict(xgb_clf, X_train, y_train, cv = 5)\n",
    "xgb_cv_f1 = np.round(f1_score(y_train, y_train_pred), 4) * 100\n",
    "xgb_cv_acc = np.round(accuracy_score(y_train, y_train_pred), 4) * 100\n",
    "xgb_cv_rec = np.round(recall_score(y_train, y_train_pred), 4) * 100\n",
    "print(f'XGBoost 5-fold CV Baseline F1-Score: {xgb_cv_f1:.2f}%')\n",
    "print(f'XGBoost 5-fold CV Baseline Recall: {xgb_cv_rec:.2f}%')\n",
    "print(f'XGBoost 5-fold CV Baseline Accuracy: {xgb_cv_acc:.2f}%')"
   ]
  },
  {
   "cell_type": "code",
   "execution_count": 29,
   "id": "699f4c7a",
   "metadata": {},
   "outputs": [
    {
     "data": {
      "text/plain": [
       "array([[9976, 1796],\n",
       "       [2433, 9842]], dtype=int64)"
      ]
     },
     "execution_count": 29,
     "metadata": {},
     "output_type": "execute_result"
    }
   ],
   "source": [
    "confusion_matrix(y_train, y_train_pred)"
   ]
  },
  {
   "cell_type": "markdown",
   "id": "be291e2d",
   "metadata": {},
   "source": [
    "# Baseline Results"
   ]
  },
  {
   "cell_type": "markdown",
   "id": "9b5e08c6",
   "metadata": {},
   "source": [
    "## Recall"
   ]
  },
  {
   "cell_type": "code",
   "execution_count": 52,
   "id": "200132eb",
   "metadata": {},
   "outputs": [],
   "source": [
    "Models = [\"Logistic Regression\", \"Bayesian Regression\", \"Naive Bayes\", \"Linear SVC\", \"Random Forest\",\n",
    "          \"Extreme Trees\", \"AdaBoost\", \"XGBoost\"]\n",
    "Recall_Base_Scores = [lr_cv_rec, br_cv_rec, nb_cv_rec, svc_cv_rec, rf_cv_rec, er_cv_rec, ada_cv_rec, xgb_cv_rec]\n",
    "Accuracy_Base_Scores = [lr_cv_acc, br_cv_acc, nb_cv_acc, svc_cv_acc, rf_cv_acc, er_cv_acc, ada_cv_acc, xgb_cv_acc]\n",
    "\n",
    "#Create a data frame with the results\n",
    "base_results = pd.DataFrame({\"Model\": Models, \"Recall\": Recall_Base_Scores, \"Accuracy\" : Accuracy_Base_Scores})"
   ]
  },
  {
   "cell_type": "code",
   "execution_count": 53,
   "id": "fa76d5e7",
   "metadata": {},
   "outputs": [
    {
     "data": {
      "text/html": [
       "<div>\n",
       "<style scoped>\n",
       "    .dataframe tbody tr th:only-of-type {\n",
       "        vertical-align: middle;\n",
       "    }\n",
       "\n",
       "    .dataframe tbody tr th {\n",
       "        vertical-align: top;\n",
       "    }\n",
       "\n",
       "    .dataframe thead th {\n",
       "        text-align: right;\n",
       "    }\n",
       "</style>\n",
       "<table border=\"1\" class=\"dataframe\">\n",
       "  <thead>\n",
       "    <tr style=\"text-align: right;\">\n",
       "      <th></th>\n",
       "      <th>Model</th>\n",
       "      <th>Recall</th>\n",
       "      <th>Accuracy</th>\n",
       "    </tr>\n",
       "  </thead>\n",
       "  <tbody>\n",
       "    <tr>\n",
       "      <th>6</th>\n",
       "      <td>AdaBoost</td>\n",
       "      <td>80.19</td>\n",
       "      <td>80.78</td>\n",
       "    </tr>\n",
       "    <tr>\n",
       "      <th>7</th>\n",
       "      <td>XGBoost</td>\n",
       "      <td>80.18</td>\n",
       "      <td>82.41</td>\n",
       "    </tr>\n",
       "    <tr>\n",
       "      <th>5</th>\n",
       "      <td>Extreme Trees</td>\n",
       "      <td>79.72</td>\n",
       "      <td>81.04</td>\n",
       "    </tr>\n",
       "    <tr>\n",
       "      <th>4</th>\n",
       "      <td>Random Forest</td>\n",
       "      <td>79.68</td>\n",
       "      <td>82.17</td>\n",
       "    </tr>\n",
       "    <tr>\n",
       "      <th>1</th>\n",
       "      <td>Bayesian Regression</td>\n",
       "      <td>79.20</td>\n",
       "      <td>81.32</td>\n",
       "    </tr>\n",
       "    <tr>\n",
       "      <th>0</th>\n",
       "      <td>Logistic Regression</td>\n",
       "      <td>79.05</td>\n",
       "      <td>81.43</td>\n",
       "    </tr>\n",
       "    <tr>\n",
       "      <th>3</th>\n",
       "      <td>Linear SVC</td>\n",
       "      <td>78.86</td>\n",
       "      <td>81.39</td>\n",
       "    </tr>\n",
       "    <tr>\n",
       "      <th>2</th>\n",
       "      <td>Naive Bayes</td>\n",
       "      <td>76.69</td>\n",
       "      <td>75.40</td>\n",
       "    </tr>\n",
       "  </tbody>\n",
       "</table>\n",
       "</div>"
      ],
      "text/plain": [
       "                 Model  Recall  Accuracy\n",
       "6             AdaBoost   80.19     80.78\n",
       "7              XGBoost   80.18     82.41\n",
       "5        Extreme Trees   79.72     81.04\n",
       "4        Random Forest   79.68     82.17\n",
       "1  Bayesian Regression   79.20     81.32\n",
       "0  Logistic Regression   79.05     81.43\n",
       "3           Linear SVC   78.86     81.39\n",
       "2          Naive Bayes   76.69     75.40"
      ]
     },
     "execution_count": 53,
     "metadata": {},
     "output_type": "execute_result"
    }
   ],
   "source": [
    "base_results.sort_values(by=\"Recall\", ascending = False, inplace = True)\n",
    "base_results"
   ]
  },
  {
   "cell_type": "code",
   "execution_count": 54,
   "id": "5338d1d5",
   "metadata": {},
   "outputs": [
    {
     "data": {
      "text/plain": [
       "Text(0.5, 0, 'Models')"
      ]
     },
     "execution_count": 54,
     "metadata": {},
     "output_type": "execute_result"
    },
    {
     "data": {
      "image/png": "[encoded data removed]",
      "text/plain": [
       "<Figure size 1080x720 with 1 Axes>"
      ]
     },
     "metadata": {},
     "output_type": "display_data"
    }
   ],
   "source": [
    "#Bar chart of the results\n",
    "sns.set(rc = {'figure.figsize':(15,10)})\n",
    "sns.barplot(x=\"Model\", y = \"Recall\", order = base_results[\"Model\"] \\\n",
    "                                            , data = base_results, color = \"mediumseagreen\")\n",
    "plt.title(\"Baseline Recall Scores\")\n",
    "plt.ylabel(\"Recall\")\n",
    "plt.xlabel(\"Models\")"
   ]
  },
  {
   "cell_type": "markdown",
   "id": "15cca1a2",
   "metadata": {},
   "source": [
    "## Accuracy"
   ]
  },
  {
   "cell_type": "code",
   "execution_count": 55,
   "id": "a5a636ec",
   "metadata": {},
   "outputs": [
    {
     "data": {
      "text/html": [
       "<div>\n",
       "<style scoped>\n",
       "    .dataframe tbody tr th:only-of-type {\n",
       "        vertical-align: middle;\n",
       "    }\n",
       "\n",
       "    .dataframe tbody tr th {\n",
       "        vertical-align: top;\n",
       "    }\n",
       "\n",
       "    .dataframe thead th {\n",
       "        text-align: right;\n",
       "    }\n",
       "</style>\n",
       "<table border=\"1\" class=\"dataframe\">\n",
       "  <thead>\n",
       "    <tr style=\"text-align: right;\">\n",
       "      <th></th>\n",
       "      <th>Model</th>\n",
       "      <th>Recall</th>\n",
       "      <th>Accuracy</th>\n",
       "    </tr>\n",
       "  </thead>\n",
       "  <tbody>\n",
       "    <tr>\n",
       "      <th>7</th>\n",
       "      <td>XGBoost</td>\n",
       "      <td>80.18</td>\n",
       "      <td>82.41</td>\n",
       "    </tr>\n",
       "    <tr>\n",
       "      <th>4</th>\n",
       "      <td>Random Forest</td>\n",
       "      <td>79.68</td>\n",
       "      <td>82.17</td>\n",
       "    </tr>\n",
       "    <tr>\n",
       "      <th>0</th>\n",
       "      <td>Logistic Regression</td>\n",
       "      <td>79.05</td>\n",
       "      <td>81.43</td>\n",
       "    </tr>\n",
       "    <tr>\n",
       "      <th>3</th>\n",
       "      <td>Linear SVC</td>\n",
       "      <td>78.86</td>\n",
       "      <td>81.39</td>\n",
       "    </tr>\n",
       "    <tr>\n",
       "      <th>1</th>\n",
       "      <td>Bayesian Regression</td>\n",
       "      <td>79.20</td>\n",
       "      <td>81.32</td>\n",
       "    </tr>\n",
       "    <tr>\n",
       "      <th>5</th>\n",
       "      <td>Extreme Trees</td>\n",
       "      <td>79.72</td>\n",
       "      <td>81.04</td>\n",
       "    </tr>\n",
       "    <tr>\n",
       "      <th>6</th>\n",
       "      <td>AdaBoost</td>\n",
       "      <td>80.19</td>\n",
       "      <td>80.78</td>\n",
       "    </tr>\n",
       "    <tr>\n",
       "      <th>2</th>\n",
       "      <td>Naive Bayes</td>\n",
       "      <td>76.69</td>\n",
       "      <td>75.40</td>\n",
       "    </tr>\n",
       "  </tbody>\n",
       "</table>\n",
       "</div>"
      ],
      "text/plain": [
       "                 Model  Recall  Accuracy\n",
       "7              XGBoost   80.18     82.41\n",
       "4        Random Forest   79.68     82.17\n",
       "0  Logistic Regression   79.05     81.43\n",
       "3           Linear SVC   78.86     81.39\n",
       "1  Bayesian Regression   79.20     81.32\n",
       "5        Extreme Trees   79.72     81.04\n",
       "6             AdaBoost   80.19     80.78\n",
       "2          Naive Bayes   76.69     75.40"
      ]
     },
     "execution_count": 55,
     "metadata": {},
     "output_type": "execute_result"
    }
   ],
   "source": [
    "base_results.sort_values(by=\"Accuracy\", ascending = False, inplace = True)\n",
    "base_results"
   ]
  },
  {
   "cell_type": "code",
   "execution_count": 56,
   "id": "bde604a1",
   "metadata": {},
   "outputs": [
    {
     "data": {
      "text/plain": [
       "Text(0.5, 0, 'Models')"
      ]
     },
     "execution_count": 56,
     "metadata": {},
     "output_type": "execute_result"
    },
    {
     "data": {
      "image/png": "[encoded data removed]",
      "text/plain": [
       "<Figure size 1080x720 with 1 Axes>"
      ]
     },
     "metadata": {},
     "output_type": "display_data"
    }
   ],
   "source": [
    "#Bar chart of the results\n",
    "sns.set(rc = {'figure.figsize':(15,10)})\n",
    "sns.barplot(x=\"Model\", y = \"Accuracy\", order = base_results[\"Model\"] \\\n",
    "                                            , data = base_results, color = \"mediumseagreen\")\n",
    "plt.title(\"Baseline Accuracy Scores\")\n",
    "plt.ylabel(\"Accuracy\")\n",
    "plt.xlabel(\"Models\")"
   ]
  },
  {
   "cell_type": "markdown",
   "id": "fb30ed22",
   "metadata": {},
   "source": [
    "# Hyperparameter Tuning"
   ]
  },
  {
   "cell_type": "markdown",
   "id": "f8c15be2",
   "metadata": {},
   "source": [
    "### Logistic Regression"
   ]
  },
  {
   "cell_type": "code",
   "execution_count": 60,
   "id": "58bcf027",
   "metadata": {},
   "outputs": [
    {
     "name": "stdout",
     "output_type": "stream",
     "text": [
      "{'C': 1.398139813981398}\n",
      "0.7890022210891923\n",
      "Wall time: 18.7 s\n"
     ]
    }
   ],
   "source": [
    "%%time\n",
    "#Randomly search through the hyperparameter space\n",
    "param_distribs = {\n",
    "    \"C\" : np.linspace(0, 30, 10000),\n",
    "    }\n",
    "lr_clf = LogisticRegression(penalty = \"l2\", solver = \"lbfgs\", max_iter=10000)\n",
    "\n",
    "lr_rnd_search_cv = RandomizedSearchCV(lr_clf, param_distribs, n_iter = 50,\n",
    "                                   cv=2, scoring = 'recall', random_state=42, n_jobs = -1)\n",
    "\n",
    "lr_rnd_search_cv.fit(X_train, y_train)\n",
    "\n",
    "print(lr_rnd_search_cv.best_params_)\n",
    "print(lr_rnd_search_cv.best_score_)"
   ]
  },
  {
   "cell_type": "code",
   "execution_count": 61,
   "id": "ba81b576",
   "metadata": {},
   "outputs": [
    {
     "data": {
      "text/html": [
       "<div>\n",
       "<style scoped>\n",
       "    .dataframe tbody tr th:only-of-type {\n",
       "        vertical-align: middle;\n",
       "    }\n",
       "\n",
       "    .dataframe tbody tr th {\n",
       "        vertical-align: top;\n",
       "    }\n",
       "\n",
       "    .dataframe thead th {\n",
       "        text-align: right;\n",
       "    }\n",
       "</style>\n",
       "<table border=\"1\" class=\"dataframe\">\n",
       "  <thead>\n",
       "    <tr style=\"text-align: right;\">\n",
       "      <th></th>\n",
       "      <th>param_C</th>\n",
       "      <th>mean_test_score</th>\n",
       "    </tr>\n",
       "  </thead>\n",
       "  <tbody>\n",
       "    <tr>\n",
       "      <th>6</th>\n",
       "      <td>1.39814</td>\n",
       "      <td>0.789002</td>\n",
       "    </tr>\n",
       "    <tr>\n",
       "      <th>29</th>\n",
       "      <td>0.567057</td>\n",
       "      <td>0.788676</td>\n",
       "    </tr>\n",
       "    <tr>\n",
       "      <th>11</th>\n",
       "      <td>2.307231</td>\n",
       "      <td>0.788676</td>\n",
       "    </tr>\n",
       "    <tr>\n",
       "      <th>0</th>\n",
       "      <td>21.812181</td>\n",
       "      <td>0.788595</td>\n",
       "    </tr>\n",
       "    <tr>\n",
       "      <th>24</th>\n",
       "      <td>23.549355</td>\n",
       "      <td>0.788595</td>\n",
       "    </tr>\n",
       "  </tbody>\n",
       "</table>\n",
       "</div>"
      ],
      "text/plain": [
       "      param_C  mean_test_score\n",
       "6     1.39814         0.789002\n",
       "29   0.567057         0.788676\n",
       "11   2.307231         0.788676\n",
       "0   21.812181         0.788595\n",
       "24  23.549355         0.788595"
      ]
     },
     "execution_count": 61,
     "metadata": {},
     "output_type": "execute_result"
    }
   ],
   "source": [
    "#Save the results in a dataframe\n",
    "lr_rnd_search_df = pd.DataFrame(lr_rnd_search_cv.cv_results_)\n",
    "#Rank the results by score\n",
    "lr_rnd_search_df[[\"param_C\", \"mean_test_score\"]].sort_values(by = \"mean_test_score\", ascending = False).head()"
   ]
  },
  {
   "cell_type": "markdown",
   "id": "845354d9",
   "metadata": {},
   "source": [
    "### Bayesian Regression"
   ]
  },
  {
   "cell_type": "code",
   "execution_count": 214,
   "id": "8c6a96a3",
   "metadata": {},
   "outputs": [],
   "source": [
    "#Randomly search through the hyperparameter space\n",
    "param_distribs = {\n",
    "    \"alpha_1\": uniform(loc = 0.001, scale = 1),\n",
    "    \"alpha_2\": uniform(loc = 0.001, scale = 1),\n",
    "    \"lambda_1\": uniform(loc = 0.001, scale = 1),\n",
    "    \"lambda_2\": uniform(loc = 0.001, scale = 1)\n",
    "    }\n",
    "rng = np.random.RandomState(42)\n",
    "n_iter = 50\n",
    "param_list = list(ParameterSampler(param_distribs, n_iter = n_iter, random_state=rng))"
   ]
  },
  {
   "cell_type": "code",
   "execution_count": 215,
   "id": "a613a49b",
   "metadata": {},
   "outputs": [
    {
     "name": "stdout",
     "output_type": "stream",
     "text": [
      "Done with 10 of 50\n",
      "Done with 20 of 50\n",
      "Done with 30 of 50\n",
      "Done with 40 of 50\n",
      "Done with 50 of 50\n",
      "Wall time: 10.2 s\n"
     ]
    }
   ],
   "source": [
    "%%time\n",
    "#Create an evaluation set\n",
    "val_rec_score = []\n",
    "counter = 1\n",
    "br_reg = BayesianRidge()\n",
    "\n",
    "for params in param_list:\n",
    "    br_reg.set_params(**params)\n",
    "    br_reg.fit(X_train.toarray(), y_train)\n",
    "    y_pred = br_reg.predict(X_val.toarray())\n",
    "    #y_train_pred = cross_val_predict(br_reg, X_train.toarray(), y_train, cv = 2)\n",
    "    y_pred = np.round(y_pred)\n",
    "    val_rec_score.append(recall_score(y_val, y_pred))\n",
    "    #print(recall_score(y_val, y_pred))\n",
    "    if counter % 10 == 0:\n",
    "        print(f'Done with {counter} of {n_iter}')\n",
    "    counter += 1"
   ]
  },
  {
   "cell_type": "code",
   "execution_count": 216,
   "id": "f321b00e",
   "metadata": {},
   "outputs": [
    {
     "data": {
      "text/html": [
       "<div>\n",
       "<style scoped>\n",
       "    .dataframe tbody tr th:only-of-type {\n",
       "        vertical-align: middle;\n",
       "    }\n",
       "\n",
       "    .dataframe tbody tr th {\n",
       "        vertical-align: top;\n",
       "    }\n",
       "\n",
       "    .dataframe thead th {\n",
       "        text-align: right;\n",
       "    }\n",
       "</style>\n",
       "<table border=\"1\" class=\"dataframe\">\n",
       "  <thead>\n",
       "    <tr style=\"text-align: right;\">\n",
       "      <th></th>\n",
       "      <th>alpha_1</th>\n",
       "      <th>alpha_2</th>\n",
       "      <th>lambda_1</th>\n",
       "      <th>lambda_2</th>\n",
       "      <th>Recall Score</th>\n",
       "    </tr>\n",
       "  </thead>\n",
       "  <tbody>\n",
       "    <tr>\n",
       "      <th>0</th>\n",
       "      <td>0.375540</td>\n",
       "      <td>0.951714</td>\n",
       "      <td>0.732994</td>\n",
       "      <td>0.599658</td>\n",
       "      <td>0.793255</td>\n",
       "    </tr>\n",
       "    <tr>\n",
       "      <th>37</th>\n",
       "      <td>0.052479</td>\n",
       "      <td>0.279646</td>\n",
       "      <td>0.909266</td>\n",
       "      <td>0.240562</td>\n",
       "      <td>0.793255</td>\n",
       "    </tr>\n",
       "    <tr>\n",
       "      <th>27</th>\n",
       "      <td>0.229798</td>\n",
       "      <td>0.077980</td>\n",
       "      <td>0.290751</td>\n",
       "      <td>0.162221</td>\n",
       "      <td>0.793255</td>\n",
       "    </tr>\n",
       "    <tr>\n",
       "      <th>28</th>\n",
       "      <td>0.930698</td>\n",
       "      <td>0.809120</td>\n",
       "      <td>0.634404</td>\n",
       "      <td>0.872461</td>\n",
       "      <td>0.793255</td>\n",
       "    </tr>\n",
       "    <tr>\n",
       "      <th>29</th>\n",
       "      <td>0.804672</td>\n",
       "      <td>0.187570</td>\n",
       "      <td>0.893559</td>\n",
       "      <td>0.540342</td>\n",
       "      <td>0.793255</td>\n",
       "    </tr>\n",
       "  </tbody>\n",
       "</table>\n",
       "</div>"
      ],
      "text/plain": [
       "     alpha_1   alpha_2  lambda_1  lambda_2  Recall Score\n",
       "0   0.375540  0.951714  0.732994  0.599658      0.793255\n",
       "37  0.052479  0.279646  0.909266  0.240562      0.793255\n",
       "27  0.229798  0.077980  0.290751  0.162221      0.793255\n",
       "28  0.930698  0.809120  0.634404  0.872461      0.793255\n",
       "29  0.804672  0.187570  0.893559  0.540342      0.793255"
      ]
     },
     "execution_count": 216,
     "metadata": {},
     "output_type": "execute_result"
    }
   ],
   "source": [
    "#Save the results\n",
    "br_param_search_df = pd.DataFrame(param_list)\n",
    "br_param_search_df[\"Recall Score\"] = val_rec_score\n",
    "#Rank by score\n",
    "br_param_search_df.sort_values(by=\"Recall Score\", ascending = False).head()"
   ]
  },
  {
   "cell_type": "markdown",
   "id": "f740df32",
   "metadata": {},
   "source": [
    "### Linear SVC"
   ]
  },
  {
   "cell_type": "code",
   "execution_count": 122,
   "id": "13472e88",
   "metadata": {},
   "outputs": [
    {
     "name": "stdout",
     "output_type": "stream",
     "text": [
      "{'C': 0.1}\n",
      "0.7874542600201875\n",
      "Wall time: 5min 28s\n"
     ]
    }
   ],
   "source": [
    "%%time\n",
    "#Randomly search through the hyperparameter space\n",
    "param_distribs = {\n",
    "    \"C\" : np.linspace(0.1, 15, 100),\n",
    "    }\n",
    "svc_clf = LinearSVC(max_iter=10000)\n",
    "\n",
    "svc_rnd_search_cv = RandomizedSearchCV(svc_clf, param_distribs, n_iter = 30,\n",
    "                                   cv=2 ,scoring = 'recall', random_state=42)\n",
    "\n",
    "svc_rnd_search_cv.fit(X_train, y_train)\n",
    "\n",
    "print(svc_rnd_search_cv.best_params_)\n",
    "print(svc_rnd_search_cv.best_score_)"
   ]
  },
  {
   "cell_type": "code",
   "execution_count": 126,
   "id": "982323b9",
   "metadata": {},
   "outputs": [
    {
     "data": {
      "text/html": [
       "<div>\n",
       "<style scoped>\n",
       "    .dataframe tbody tr th:only-of-type {\n",
       "        vertical-align: middle;\n",
       "    }\n",
       "\n",
       "    .dataframe tbody tr th {\n",
       "        vertical-align: top;\n",
       "    }\n",
       "\n",
       "    .dataframe thead th {\n",
       "        text-align: right;\n",
       "    }\n",
       "</style>\n",
       "<table border=\"1\" class=\"dataframe\">\n",
       "  <thead>\n",
       "    <tr style=\"text-align: right;\">\n",
       "      <th></th>\n",
       "      <th>param_C</th>\n",
       "      <th>mean_test_score</th>\n",
       "    </tr>\n",
       "  </thead>\n",
       "  <tbody>\n",
       "    <tr>\n",
       "      <th>9</th>\n",
       "      <td>0.1</td>\n",
       "      <td>0.787454</td>\n",
       "    </tr>\n",
       "    <tr>\n",
       "      <th>8</th>\n",
       "      <td>1.605051</td>\n",
       "      <td>0.787128</td>\n",
       "    </tr>\n",
       "    <tr>\n",
       "      <th>25</th>\n",
       "      <td>2.357576</td>\n",
       "      <td>0.787128</td>\n",
       "    </tr>\n",
       "    <tr>\n",
       "      <th>10</th>\n",
       "      <td>2.809091</td>\n",
       "      <td>0.787128</td>\n",
       "    </tr>\n",
       "    <tr>\n",
       "      <th>6</th>\n",
       "      <td>3.411111</td>\n",
       "      <td>0.787128</td>\n",
       "    </tr>\n",
       "  </tbody>\n",
       "</table>\n",
       "</div>"
      ],
      "text/plain": [
       "     param_C  mean_test_score\n",
       "9        0.1         0.787454\n",
       "8   1.605051         0.787128\n",
       "25  2.357576         0.787128\n",
       "10  2.809091         0.787128\n",
       "6   3.411111         0.787128"
      ]
     },
     "execution_count": 126,
     "metadata": {},
     "output_type": "execute_result"
    }
   ],
   "source": [
    "#Save the results\n",
    "svc_rnd_search_df = pd.DataFrame(svc_rnd_search_cv.cv_results_)\n",
    "#Rank by score\n",
    "svc_rnd_search_df[[\"param_C\", \"mean_test_score\"]].sort_values(by = \"mean_test_score\", ascending = False).head()"
   ]
  },
  {
   "cell_type": "markdown",
   "id": "19815f3e",
   "metadata": {},
   "source": [
    "### Random Forest"
   ]
  },
  {
   "cell_type": "code",
   "execution_count": 127,
   "id": "1b359eaa",
   "metadata": {},
   "outputs": [
    {
     "name": "stdout",
     "output_type": "stream",
     "text": [
      "{'n_estimators': 59}\n",
      "0.800325990353954\n",
      "Wall time: 15min 19s\n"
     ]
    }
   ],
   "source": [
    "%%time\n",
    "#Randomly search through the hyperparameter space\n",
    "param_distribs = {\n",
    "    \"n_estimators\": np.arange(50, 300)\n",
    "    }\n",
    "rf_clf = RandomForestClassifier()\n",
    "\n",
    "rf_rnd_search_cv = RandomizedSearchCV(rf_clf, param_distribs, n_iter = 30,\n",
    "                                   cv=2 ,scoring = 'recall', random_state=42)\n",
    "\n",
    "rf_rnd_search_cv.fit(X_train, y_train)\n",
    "\n",
    "print(rf_rnd_search_cv.best_params_)\n",
    "print(rf_rnd_search_cv.best_score_)"
   ]
  },
  {
   "cell_type": "code",
   "execution_count": 130,
   "id": "dacb8633",
   "metadata": {},
   "outputs": [
    {
     "data": {
      "text/html": [
       "<div>\n",
       "<style scoped>\n",
       "    .dataframe tbody tr th:only-of-type {\n",
       "        vertical-align: middle;\n",
       "    }\n",
       "\n",
       "    .dataframe tbody tr th {\n",
       "        vertical-align: top;\n",
       "    }\n",
       "\n",
       "    .dataframe thead th {\n",
       "        text-align: right;\n",
       "    }\n",
       "</style>\n",
       "<table border=\"1\" class=\"dataframe\">\n",
       "  <thead>\n",
       "    <tr style=\"text-align: right;\">\n",
       "      <th></th>\n",
       "      <th>param_n_estimators</th>\n",
       "      <th>mean_test_score</th>\n",
       "    </tr>\n",
       "  </thead>\n",
       "  <tbody>\n",
       "    <tr>\n",
       "      <th>8</th>\n",
       "      <td>59</td>\n",
       "      <td>0.800326</td>\n",
       "    </tr>\n",
       "    <tr>\n",
       "      <th>17</th>\n",
       "      <td>65</td>\n",
       "      <td>0.800244</td>\n",
       "    </tr>\n",
       "    <tr>\n",
       "      <th>6</th>\n",
       "      <td>247</td>\n",
       "      <td>0.800163</td>\n",
       "    </tr>\n",
       "    <tr>\n",
       "      <th>26</th>\n",
       "      <td>105</td>\n",
       "      <td>0.799756</td>\n",
       "    </tr>\n",
       "    <tr>\n",
       "      <th>16</th>\n",
       "      <td>244</td>\n",
       "      <td>0.799593</td>\n",
       "    </tr>\n",
       "  </tbody>\n",
       "</table>\n",
       "</div>"
      ],
      "text/plain": [
       "   param_n_estimators  mean_test_score\n",
       "8                  59         0.800326\n",
       "17                 65         0.800244\n",
       "6                 247         0.800163\n",
       "26                105         0.799756\n",
       "16                244         0.799593"
      ]
     },
     "execution_count": 130,
     "metadata": {},
     "output_type": "execute_result"
    }
   ],
   "source": [
    "#Save the results\n",
    "rf_rnd_search_df = pd.DataFrame(rf_rnd_search_cv.cv_results_)\n",
    "tuned_params = [\"param_n_estimators\", \"mean_test_score\"]\n",
    "#Rank by score\n",
    "rf_rnd_search_df[tuned_params].sort_values(by = \"mean_test_score\", ascending = False).head()"
   ]
  },
  {
   "cell_type": "markdown",
   "id": "b3b5a7da",
   "metadata": {},
   "source": [
    "### Extremely Random Trees"
   ]
  },
  {
   "cell_type": "code",
   "execution_count": 131,
   "id": "ac695d25",
   "metadata": {},
   "outputs": [
    {
     "name": "stdout",
     "output_type": "stream",
     "text": [
      "{'n_estimators': 105}\n",
      "0.8038289856360574\n",
      "Wall time: 22min 1s\n"
     ]
    }
   ],
   "source": [
    "%%time\n",
    "#Randomly search through the hyperparameter space\n",
    "param_distribs = {\n",
    "    \"n_estimators\": np.arange(50, 300)\n",
    "    }\n",
    "er_clf = ExtraTreesClassifier()\n",
    "\n",
    "er_rnd_search_cv = RandomizedSearchCV(er_clf, param_distribs, n_iter = 30,\n",
    "                                   cv=2 ,scoring = 'recall', random_state=42)\n",
    "\n",
    "er_rnd_search_cv.fit(X_train, y_train)\n",
    "\n",
    "print(er_rnd_search_cv.best_params_)\n",
    "print(er_rnd_search_cv.best_score_)"
   ]
  },
  {
   "cell_type": "code",
   "execution_count": 134,
   "id": "03e537b1",
   "metadata": {},
   "outputs": [
    {
     "data": {
      "text/html": [
       "<div>\n",
       "<style scoped>\n",
       "    .dataframe tbody tr th:only-of-type {\n",
       "        vertical-align: middle;\n",
       "    }\n",
       "\n",
       "    .dataframe tbody tr th {\n",
       "        vertical-align: top;\n",
       "    }\n",
       "\n",
       "    .dataframe thead th {\n",
       "        text-align: right;\n",
       "    }\n",
       "</style>\n",
       "<table border=\"1\" class=\"dataframe\">\n",
       "  <thead>\n",
       "    <tr style=\"text-align: right;\">\n",
       "      <th></th>\n",
       "      <th>param_n_estimators</th>\n",
       "      <th>mean_test_score</th>\n",
       "    </tr>\n",
       "  </thead>\n",
       "  <tbody>\n",
       "    <tr>\n",
       "      <th>26</th>\n",
       "      <td>105</td>\n",
       "      <td>0.803829</td>\n",
       "    </tr>\n",
       "    <tr>\n",
       "      <th>14</th>\n",
       "      <td>117</td>\n",
       "      <td>0.803503</td>\n",
       "    </tr>\n",
       "    <tr>\n",
       "      <th>6</th>\n",
       "      <td>247</td>\n",
       "      <td>0.803422</td>\n",
       "    </tr>\n",
       "    <tr>\n",
       "      <th>25</th>\n",
       "      <td>95</td>\n",
       "      <td>0.803340</td>\n",
       "    </tr>\n",
       "    <tr>\n",
       "      <th>20</th>\n",
       "      <td>297</td>\n",
       "      <td>0.803177</td>\n",
       "    </tr>\n",
       "  </tbody>\n",
       "</table>\n",
       "</div>"
      ],
      "text/plain": [
       "   param_n_estimators  mean_test_score\n",
       "26                105         0.803829\n",
       "14                117         0.803503\n",
       "6                 247         0.803422\n",
       "25                 95         0.803340\n",
       "20                297         0.803177"
      ]
     },
     "execution_count": 134,
     "metadata": {},
     "output_type": "execute_result"
    }
   ],
   "source": [
    "#Save the results\n",
    "er_rnd_search_df = pd.DataFrame(er_rnd_search_cv.cv_results_)\n",
    "tuned_params = [\"param_n_estimators\", \"mean_test_score\"]\n",
    "#Rank by score\n",
    "er_rnd_search_df[tuned_params].sort_values(by = \"mean_test_score\", ascending = False).head()"
   ]
  },
  {
   "cell_type": "markdown",
   "id": "d30c9783",
   "metadata": {},
   "source": [
    "### AdaBoost"
   ]
  },
  {
   "cell_type": "code",
   "execution_count": 135,
   "id": "ba959312",
   "metadata": {},
   "outputs": [
    {
     "name": "stdout",
     "output_type": "stream",
     "text": [
      "{'learning_rate': 0.44155171293779677, 'n_estimators': 377}\n",
      "0.8017923058344195\n",
      "Wall time: 7min 14s\n"
     ]
    }
   ],
   "source": [
    "%%time\n",
    "#Randomly search through the hyperparameter space\n",
    "param_distribs = {\n",
    "    \"n_estimators\": np.arange(50, 400),\n",
    "    \"learning_rate\": uniform(loc = 0.01, scale = 0.5)\n",
    "    }\n",
    "ada_clf = AdaBoostClassifier()\n",
    "\n",
    "ada_rnd_search_cv = RandomizedSearchCV(ada_clf, param_distribs, n_iter = 50,\n",
    "                                   cv=2 ,scoring = 'recall', random_state=42)\n",
    "\n",
    "ada_rnd_search_cv.fit(X_train, y_train)\n",
    "\n",
    "print(ada_rnd_search_cv.best_params_)\n",
    "print(ada_rnd_search_cv.best_score_)"
   ]
  },
  {
   "cell_type": "code",
   "execution_count": 136,
   "id": "62b5cca9",
   "metadata": {},
   "outputs": [
    {
     "data": {
      "text/html": [
       "<div>\n",
       "<style scoped>\n",
       "    .dataframe tbody tr th:only-of-type {\n",
       "        vertical-align: middle;\n",
       "    }\n",
       "\n",
       "    .dataframe tbody tr th {\n",
       "        vertical-align: top;\n",
       "    }\n",
       "\n",
       "    .dataframe thead th {\n",
       "        text-align: right;\n",
       "    }\n",
       "</style>\n",
       "<table border=\"1\" class=\"dataframe\">\n",
       "  <thead>\n",
       "    <tr style=\"text-align: right;\">\n",
       "      <th></th>\n",
       "      <th>param_n_estimators</th>\n",
       "      <th>mean_test_score</th>\n",
       "    </tr>\n",
       "  </thead>\n",
       "  <tbody>\n",
       "    <tr>\n",
       "      <th>47</th>\n",
       "      <td>377</td>\n",
       "      <td>0.801792</td>\n",
       "    </tr>\n",
       "    <tr>\n",
       "      <th>7</th>\n",
       "      <td>343</td>\n",
       "      <td>0.801548</td>\n",
       "    </tr>\n",
       "    <tr>\n",
       "      <th>20</th>\n",
       "      <td>291</td>\n",
       "      <td>0.800896</td>\n",
       "    </tr>\n",
       "    <tr>\n",
       "      <th>31</th>\n",
       "      <td>319</td>\n",
       "      <td>0.800896</td>\n",
       "    </tr>\n",
       "    <tr>\n",
       "      <th>28</th>\n",
       "      <td>359</td>\n",
       "      <td>0.800245</td>\n",
       "    </tr>\n",
       "  </tbody>\n",
       "</table>\n",
       "</div>"
      ],
      "text/plain": [
       "   param_n_estimators  mean_test_score\n",
       "47                377         0.801792\n",
       "7                 343         0.801548\n",
       "20                291         0.800896\n",
       "31                319         0.800896\n",
       "28                359         0.800245"
      ]
     },
     "execution_count": 136,
     "metadata": {},
     "output_type": "execute_result"
    }
   ],
   "source": [
    "#Save the results\n",
    "ada_rnd_search_df = pd.DataFrame(ada_rnd_search_cv.cv_results_)\n",
    "tuned_params = [\"param_n_estimators\", \"mean_test_score\"]\n",
    "#Rank by score\n",
    "ada_rnd_search_df[tuned_params].sort_values(by = \"mean_test_score\", ascending = False).head()"
   ]
  },
  {
   "cell_type": "markdown",
   "id": "f75a96af",
   "metadata": {},
   "source": [
    "### XGBoost"
   ]
  },
  {
   "cell_type": "code",
   "execution_count": 137,
   "id": "b45bc2b9",
   "metadata": {},
   "outputs": [],
   "source": [
    "#Randomly search through the hyperparameter space\n",
    "param_distribs = {\n",
    "    \"max_depth\": [2,3,4,5,6,7],\n",
    "    \"gamma\": uniform(loc = 0.0, scale = 3),\n",
    "    \"min_child_weight\": list(range(20,51)),\n",
    "    \"colsample_bytree\": uniform(loc = 0.1, scale = 0.9),\n",
    "    \"learning_rate\": uniform(loc = 0.01, scale = 0.5),\n",
    "    \"subsample\": uniform(loc = 0.5, scale = 0.5),\n",
    "    \"reg_lambda\": uniform(loc = 0.01, scale = 3)\n",
    "    }\n",
    "rng = np.random.RandomState(42)\n",
    "n_iter = 100\n",
    "param_list = list(ParameterSampler(param_distribs, n_iter = n_iter, random_state=rng))"
   ]
  },
  {
   "cell_type": "code",
   "execution_count": 138,
   "id": "f870aa81",
   "metadata": {},
   "outputs": [
    {
     "name": "stdout",
     "output_type": "stream",
     "text": [
      "Done with 10 of 100\n",
      "Done with 20 of 100\n",
      "Done with 30 of 100\n",
      "Done with 40 of 100\n",
      "Done with 50 of 100\n",
      "Done with 60 of 100\n",
      "Done with 70 of 100\n",
      "Done with 80 of 100\n",
      "Done with 90 of 100\n",
      "Done with 100 of 100\n",
      "Wall time: 4min 50s\n"
     ]
    }
   ],
   "source": [
    "%%time\n",
    "#Create an evaluation set\n",
    "eval_set = [(X_train, y_train), (X_val, y_val)]\n",
    "val_rec_score = []\n",
    "n_est = []\n",
    "counter = 1\n",
    "xgb_cf = xgboost.XGBClassifier(n_estimators = 1000, use_label_encoder=False, objective = \"binary:logistic\")\n",
    "\n",
    "for params in param_list:\n",
    "    xgb_cf.set_params(**params)\n",
    "    xgb_cf.fit(X_train, y_train, eval_set=eval_set, eval_metric = \"auc\", verbose = False, early_stopping_rounds = 30)\n",
    "    val_set_preds = xgb_cf.predict(X_val)\n",
    "    val_rec_score.append(recall_score(y_val, val_set_preds))\n",
    "    n_est.append(int(xgb_cf.get_booster().attributes()[\"best_ntree_limit\"]))\n",
    "    if counter % 10 == 0:\n",
    "        print(f'Done with {counter} of {n_iter}')\n",
    "    counter += 1"
   ]
  },
  {
   "cell_type": "code",
   "execution_count": 139,
   "id": "8fc733c1",
   "metadata": {},
   "outputs": [
    {
     "data": {
      "text/html": [
       "<div>\n",
       "<style scoped>\n",
       "    .dataframe tbody tr th:only-of-type {\n",
       "        vertical-align: middle;\n",
       "    }\n",
       "\n",
       "    .dataframe tbody tr th {\n",
       "        vertical-align: top;\n",
       "    }\n",
       "\n",
       "    .dataframe thead th {\n",
       "        text-align: right;\n",
       "    }\n",
       "</style>\n",
       "<table border=\"1\" class=\"dataframe\">\n",
       "  <thead>\n",
       "    <tr style=\"text-align: right;\">\n",
       "      <th></th>\n",
       "      <th>colsample_bytree</th>\n",
       "      <th>gamma</th>\n",
       "      <th>learning_rate</th>\n",
       "      <th>max_depth</th>\n",
       "      <th>min_child_weight</th>\n",
       "      <th>reg_lambda</th>\n",
       "      <th>subsample</th>\n",
       "      <th>Validation Recall</th>\n",
       "      <th>N Estimators</th>\n",
       "    </tr>\n",
       "  </thead>\n",
       "  <tbody>\n",
       "    <tr>\n",
       "      <th>69</th>\n",
       "      <td>0.719227</td>\n",
       "      <td>2.510892</td>\n",
       "      <td>0.443434</td>\n",
       "      <td>7</td>\n",
       "      <td>26</td>\n",
       "      <td>1.288274</td>\n",
       "      <td>0.611288</td>\n",
       "      <td>0.813783</td>\n",
       "      <td>64</td>\n",
       "    </tr>\n",
       "    <tr>\n",
       "      <th>98</th>\n",
       "      <td>0.183062</td>\n",
       "      <td>1.443436</td>\n",
       "      <td>0.353892</td>\n",
       "      <td>7</td>\n",
       "      <td>30</td>\n",
       "      <td>2.772617</td>\n",
       "      <td>0.530539</td>\n",
       "      <td>0.808651</td>\n",
       "      <td>94</td>\n",
       "    </tr>\n",
       "    <tr>\n",
       "      <th>85</th>\n",
       "      <td>0.167823</td>\n",
       "      <td>2.075143</td>\n",
       "      <td>0.277173</td>\n",
       "      <td>6</td>\n",
       "      <td>25</td>\n",
       "      <td>2.749497</td>\n",
       "      <td>0.792575</td>\n",
       "      <td>0.806452</td>\n",
       "      <td>87</td>\n",
       "    </tr>\n",
       "    <tr>\n",
       "      <th>68</th>\n",
       "      <td>0.151803</td>\n",
       "      <td>1.648587</td>\n",
       "      <td>0.230765</td>\n",
       "      <td>6</td>\n",
       "      <td>30</td>\n",
       "      <td>2.127494</td>\n",
       "      <td>0.984326</td>\n",
       "      <td>0.805718</td>\n",
       "      <td>173</td>\n",
       "    </tr>\n",
       "    <tr>\n",
       "      <th>47</th>\n",
       "      <td>0.133613</td>\n",
       "      <td>2.467802</td>\n",
       "      <td>0.190095</td>\n",
       "      <td>5</td>\n",
       "      <td>24</td>\n",
       "      <td>1.576730</td>\n",
       "      <td>0.884997</td>\n",
       "      <td>0.805718</td>\n",
       "      <td>176</td>\n",
       "    </tr>\n",
       "  </tbody>\n",
       "</table>\n",
       "</div>"
      ],
      "text/plain": [
       "    colsample_bytree     gamma  learning_rate  max_depth  min_child_weight  \\\n",
       "69          0.719227  2.510892       0.443434          7                26   \n",
       "98          0.183062  1.443436       0.353892          7                30   \n",
       "85          0.167823  2.075143       0.277173          6                25   \n",
       "68          0.151803  1.648587       0.230765          6                30   \n",
       "47          0.133613  2.467802       0.190095          5                24   \n",
       "\n",
       "    reg_lambda  subsample  Validation Recall  N Estimators  \n",
       "69    1.288274   0.611288           0.813783            64  \n",
       "98    2.772617   0.530539           0.808651            94  \n",
       "85    2.749497   0.792575           0.806452            87  \n",
       "68    2.127494   0.984326           0.805718           173  \n",
       "47    1.576730   0.884997           0.805718           176  "
      ]
     },
     "execution_count": 139,
     "metadata": {},
     "output_type": "execute_result"
    }
   ],
   "source": [
    "#Save the results\n",
    "xgb_param_search_df = pd.DataFrame(param_list)\n",
    "xgb_param_search_df[\"Validation Recall\"] = val_rec_score\n",
    "xgb_param_search_df[\"N Estimators\"] = n_est\n",
    "#Rank by score\n",
    "xgb_param_search_df.sort_values(by=\"Validation Recall\", ascending = False).head()"
   ]
  },
  {
   "cell_type": "markdown",
   "id": "45076b18",
   "metadata": {},
   "source": [
    "# Test Scores"
   ]
  },
  {
   "cell_type": "markdown",
   "id": "eef3c038",
   "metadata": {},
   "source": [
    "## Clean the Test Data"
   ]
  },
  {
   "cell_type": "code",
   "execution_count": 140,
   "id": "1b1eecb0",
   "metadata": {},
   "outputs": [
    {
     "name": "stdout",
     "output_type": "stream",
     "text": [
      "Cleaning London Data Started...\n",
      "\n",
      "Sucessfully Added Emergency Column!\n",
      "Sucessfully Added Month Column!\n",
      "Sucessfully Added Hour Column!\n",
      "Sucessfully Cleanded Property Category!\n",
      "Sucessfully Cleaned and Ranked Property Type!\n",
      "Sucessfully Cleaned Address!\n",
      "Sucessfully Cleaned Borough Names!\n",
      "Sucessfully Cleaned and Ranked Ward Names!\n",
      "Sucessfully Imputed Station Names!\n",
      "Sucessfully Ranked Stations!\n",
      "Sucessfully Cleaned Station Arriving Time!\n",
      "Sucessfully Cleaned Number of Stations with Pumps!\n",
      "Sucessfully Cleaned Number of Pumps Attending!\n",
      "Sucessfully Dropped Unecessary Columns!\n",
      "\n",
      "Sucessfully Cleaned London Data!\n"
     ]
    }
   ],
   "source": [
    "london_test = ldf.clean_london(df = london_test)"
   ]
  },
  {
   "cell_type": "code",
   "execution_count": 141,
   "id": "46109b54",
   "metadata": {},
   "outputs": [
    {
     "data": {
      "text/plain": [
       "(5089, 12)"
      ]
     },
     "execution_count": 141,
     "metadata": {},
     "output_type": "execute_result"
    }
   ],
   "source": [
    "london_test.shape"
   ]
  },
  {
   "cell_type": "markdown",
   "id": "1c824461",
   "metadata": {},
   "source": [
    "## Prepare the Training and Test Data"
   ]
  },
  {
   "cell_type": "code",
   "execution_count": 175,
   "id": "9b4068e3",
   "metadata": {},
   "outputs": [],
   "source": [
    "cat_vars = [\"property_category\", \"address_qualifier\", \"borough_name\", \"station_pumps\", \"pumps_attending\", \"Month\", \n",
    "            \"Hour\", \"pt_rank\", \"wn_rank\", \"stat_rank\"]\n",
    "num_vars = [\"first_time\"]\n",
    "target = \"Emergency\"\n",
    "X_train, y_train = prepare_london(london_train, cat_vars, num_vars, target)\n",
    "X_test, y_test = prepare_london(london_test, cat_vars, num_vars, target)"
   ]
  },
  {
   "cell_type": "code",
   "execution_count": 205,
   "id": "ef56c131",
   "metadata": {},
   "outputs": [
    {
     "name": "stdout",
     "output_type": "stream",
     "text": [
      "(26717, 107)\n",
      "(5090, 107)\n",
      "(26717,)\n",
      "(5090,)\n"
     ]
    }
   ],
   "source": [
    "print(X.shape)\n",
    "print(X_test.shape)\n",
    "print(y.shape)\n",
    "print(y_test.shape)"
   ]
  },
  {
   "cell_type": "markdown",
   "id": "9eafff59",
   "metadata": {},
   "source": [
    "## Logistic Regression"
   ]
  },
  {
   "cell_type": "code",
   "execution_count": 207,
   "id": "d2757a3c",
   "metadata": {},
   "outputs": [],
   "source": [
    "#Get the best hyperparameters\n",
    "max_lr_score = lr_rnd_search_df[\"mean_test_score\"].argmax()\n",
    "best_C = lr_rnd_search_df.loc[max_lr_score, \"param_C\"]\n",
    "\n",
    "log_reg = LogisticRegression(penalty = \"l2\", C = best_C, solver = \"lbfgs\", random_state=42, max_iter = 10000)"
   ]
  },
  {
   "cell_type": "code",
   "execution_count": 208,
   "id": "6fa3eaad",
   "metadata": {},
   "outputs": [
    {
     "name": "stdout",
     "output_type": "stream",
     "text": [
      "Wall time: 455 ms\n"
     ]
    },
    {
     "data": {
      "text/plain": [
       "LogisticRegression(C=1.398139813981398, max_iter=10000, random_state=42)"
      ]
     },
     "execution_count": 208,
     "metadata": {},
     "output_type": "execute_result"
    }
   ],
   "source": [
    "%%time\n",
    "log_reg.fit(X, y)"
   ]
  },
  {
   "cell_type": "code",
   "execution_count": 209,
   "id": "e9680ea0",
   "metadata": {},
   "outputs": [
    {
     "name": "stdout",
     "output_type": "stream",
     "text": [
      "Logistic Regression Test F1-Score: 80.32%\n",
      "Logistic Regression Test Recall Score: 83.51%\n",
      "Logistic Regression Test Accuracy Score: 80.65%\n"
     ]
    }
   ],
   "source": [
    "y_pred = log_reg.predict(X_test)\n",
    "lr_test_f1 = np.round(f1_score(y_pred, y_test), 5) * 100\n",
    "lr_test_acc = np.round(accuracy_score(y_pred, y_test), 5) * 100\n",
    "lr_test_rec = np.round(recall_score(y_pred, y_test), 5) * 100\n",
    "print(f'Logistic Regression Test F1-Score: {lr_test_f1:.2f}%')\n",
    "print(f'Logistic Regression Test Recall Score: {lr_test_rec:.2f}%')\n",
    "print(f'Logistic Regression Test Accuracy Score: {lr_test_acc:.2f}%')"
   ]
  },
  {
   "cell_type": "code",
   "execution_count": 211,
   "id": "3cec4b4d",
   "metadata": {},
   "outputs": [
    {
     "data": {
      "text/plain": [
       "array([[2095,  588],\n",
       "       [ 397, 2010]], dtype=int64)"
      ]
     },
     "execution_count": 211,
     "metadata": {},
     "output_type": "execute_result"
    }
   ],
   "source": [
    "confusion_matrix(y_pred, y_test)"
   ]
  },
  {
   "cell_type": "markdown",
   "id": "63cdbb45",
   "metadata": {},
   "source": [
    "## Bayesian Regression"
   ]
  },
  {
   "cell_type": "code",
   "execution_count": 219,
   "id": "b8c42359",
   "metadata": {},
   "outputs": [],
   "source": [
    "#Get the best hyperparameters\n",
    "max_br_score = br_param_search_df[\"Recall Score\"].argmax()\n",
    "best_alp1 = br_param_search_df.loc[max_br_score, \"alpha_1\"]\n",
    "best_alp2 = br_param_search_df.loc[max_br_score, \"alpha_2\"]\n",
    "best_lam1 = br_param_search_df.loc[max_br_score, \"lambda_1\"]\n",
    "best_lam2 = br_param_search_df.loc[max_br_score, \"lambda_2\"]\n",
    "\n",
    "br_reg = BayesianRidge(alpha_1=best_alp1, alpha_2=best_alp2, lambda_1=best_lam1, lambda_2=best_lam2)"
   ]
  },
  {
   "cell_type": "code",
   "execution_count": 220,
   "id": "a3fe886e",
   "metadata": {},
   "outputs": [
    {
     "name": "stdout",
     "output_type": "stream",
     "text": [
      "Wall time: 210 ms\n"
     ]
    },
    {
     "data": {
      "text/plain": [
       "BayesianRidge(alpha_1=0.3755401188473625, alpha_2=0.9517143064099162,\n",
       "              lambda_1=0.7329939418114051, lambda_2=0.5996584841970366)"
      ]
     },
     "execution_count": 220,
     "metadata": {},
     "output_type": "execute_result"
    }
   ],
   "source": [
    "%%time\n",
    "br_reg.fit(X.toarray(), y)"
   ]
  },
  {
   "cell_type": "code",
   "execution_count": 222,
   "id": "1f1b2a44",
   "metadata": {},
   "outputs": [
    {
     "name": "stdout",
     "output_type": "stream",
     "text": [
      "Bayesian Regression Test F1-Score: 80.22%\n",
      "Bayesian Regression Test Recall Score: 83.30%\n",
      "Bayesian Regression Test Accuracy Score: 80.53%\n"
     ]
    }
   ],
   "source": [
    "y_pred = br_reg.predict(X_test.toarray())\n",
    "y_pred = np.round(y_pred)\n",
    "br_test_f1 = np.round(f1_score(y_pred, y_test), 5) * 100\n",
    "br_test_acc = np.round(accuracy_score(y_pred, y_test), 5) * 100\n",
    "br_test_rec = np.round(recall_score(y_pred, y_test), 5) * 100\n",
    "print(f'Bayesian Regression Test F1-Score: {br_test_f1:.2f}%')\n",
    "print(f'Bayesian Regression Test Recall Score: {br_test_rec:.2f}%')\n",
    "print(f'Bayesian Regression Test Accuracy Score: {br_test_acc:.2f}%')"
   ]
  },
  {
   "cell_type": "code",
   "execution_count": 223,
   "id": "8a8371fc",
   "metadata": {},
   "outputs": [
    {
     "data": {
      "text/plain": [
       "array([[2089,  588],\n",
       "       [ 403, 2010]], dtype=int64)"
      ]
     },
     "execution_count": 223,
     "metadata": {},
     "output_type": "execute_result"
    }
   ],
   "source": [
    "confusion_matrix(y_pred, y_test)"
   ]
  },
  {
   "cell_type": "markdown",
   "id": "b42314c1",
   "metadata": {},
   "source": [
    "## Linear SVC"
   ]
  },
  {
   "cell_type": "code",
   "execution_count": 249,
   "id": "918fb9c0",
   "metadata": {},
   "outputs": [],
   "source": [
    "#Get the best hyperparameters\n",
    "max_svc_f1 = svc_rnd_search_df[\"mean_test_score\"].argmax()\n",
    "best_C = svc_rnd_search_df.loc[max_svc_f1, \"param_C\"]\n",
    "\n",
    "svc_clf = LinearSVC(penalty=\"l2\", C = best_C, max_iter=10000)"
   ]
  },
  {
   "cell_type": "code",
   "execution_count": 250,
   "id": "65e8777d",
   "metadata": {},
   "outputs": [
    {
     "name": "stdout",
     "output_type": "stream",
     "text": [
      "Wall time: 315 ms\n"
     ]
    },
    {
     "data": {
      "text/plain": [
       "LinearSVC(C=0.1, max_iter=10000)"
      ]
     },
     "execution_count": 250,
     "metadata": {},
     "output_type": "execute_result"
    }
   ],
   "source": [
    "%%time\n",
    "svc_clf.fit(X, y)"
   ]
  },
  {
   "cell_type": "code",
   "execution_count": 251,
   "id": "82291dbf",
   "metadata": {},
   "outputs": [
    {
     "name": "stdout",
     "output_type": "stream",
     "text": [
      "Linear SVC Test F1-Score: 80.14%\n",
      "Linear SVC Test Recall Score: 83.60%\n",
      "Linear SVC Test Accuracy Score: 80.53%\n"
     ]
    }
   ],
   "source": [
    "y_pred = svc_clf.predict(X_test)\n",
    "svc_test_f1 = np.round(f1_score(y_pred, y_test), 5) * 100\n",
    "svc_test_acc = np.round(accuracy_score(y_pred, y_test), 5) * 100\n",
    "svc_test_rec = np.round(recall_score(y_pred, y_test), 5) * 100\n",
    "print(f'Linear SVC Test F1-Score: {svc_test_f1:.2f}%')\n",
    "print(f'Linear SVC Test Recall Score: {svc_test_rec:.2f}%')\n",
    "print(f'Linear SVC Test Accuracy Score: {svc_test_acc:.2f}%')"
   ]
  },
  {
   "cell_type": "code",
   "execution_count": 252,
   "id": "4dacaa0a",
   "metadata": {},
   "outputs": [
    {
     "data": {
      "text/plain": [
       "array([[2100,  599],\n",
       "       [ 392, 1999]], dtype=int64)"
      ]
     },
     "execution_count": 252,
     "metadata": {},
     "output_type": "execute_result"
    }
   ],
   "source": [
    "confusion_matrix(y_pred, y_test)"
   ]
  },
  {
   "cell_type": "markdown",
   "id": "9b95d84b",
   "metadata": {},
   "source": [
    "## Naive Bayes"
   ]
  },
  {
   "cell_type": "code",
   "execution_count": 228,
   "id": "9c05ae01",
   "metadata": {},
   "outputs": [],
   "source": [
    "nb_clf = GaussianNB()"
   ]
  },
  {
   "cell_type": "code",
   "execution_count": 229,
   "id": "3377efff",
   "metadata": {},
   "outputs": [
    {
     "name": "stdout",
     "output_type": "stream",
     "text": [
      "Wall time: 98.8 ms\n"
     ]
    },
    {
     "data": {
      "text/plain": [
       "GaussianNB()"
      ]
     },
     "execution_count": 229,
     "metadata": {},
     "output_type": "execute_result"
    }
   ],
   "source": [
    "%%time\n",
    "nb_clf.fit(X.toarray(), y)"
   ]
  },
  {
   "cell_type": "code",
   "execution_count": 231,
   "id": "e400c44c",
   "metadata": {},
   "outputs": [
    {
     "name": "stdout",
     "output_type": "stream",
     "text": [
      "Naive Bayes Test F1-Score: 74.20%\n",
      "Naive Bayes Test Recall Score: 77.09%\n",
      "Naive Bayes Test Accuracy Score: 74.62%\n"
     ]
    }
   ],
   "source": [
    "y_pred = nb_clf.predict(X_test.toarray())\n",
    "nb_test_f1 = np.round(f1_score(y_pred, y_test), 5) * 100\n",
    "nb_test_acc = np.round(accuracy_score(y_pred, y_test), 5) * 100\n",
    "nb_test_rec = np.round(recall_score(y_pred, y_test), 5) * 100\n",
    "print(f'Naive Bayes Test F1-Score: {nb_test_f1:.2f}%')\n",
    "print(f'Naive Bayes Test Recall Score: {nb_test_rec:.2f}%')\n",
    "print(f'Naive Bayes Test Accuracy Score: {nb_test_acc:.2f}%')"
   ]
  },
  {
   "cell_type": "code",
   "execution_count": 232,
   "id": "6a64dfc7",
   "metadata": {},
   "outputs": [
    {
     "data": {
      "text/plain": [
       "array([[1940,  740],\n",
       "       [ 552, 1858]], dtype=int64)"
      ]
     },
     "execution_count": 232,
     "metadata": {},
     "output_type": "execute_result"
    }
   ],
   "source": [
    "confusion_matrix(y_pred, y_test)"
   ]
  },
  {
   "cell_type": "markdown",
   "id": "58013d61",
   "metadata": {},
   "source": [
    "## Random Forest"
   ]
  },
  {
   "cell_type": "code",
   "execution_count": 253,
   "id": "33d30d8c",
   "metadata": {},
   "outputs": [],
   "source": [
    "#Get the best hyperparameters\n",
    "max_rf_f1 = rf_rnd_search_df[\"mean_test_score\"].argmax()\n",
    "best_n_est = rf_rnd_search_df.loc[max_rf_f1, \"param_n_estimators\"]\n",
    "\n",
    "rf_clf = RandomForestClassifier(n_estimators=best_n_est, random_state=42)"
   ]
  },
  {
   "cell_type": "code",
   "execution_count": 254,
   "id": "ad854e7e",
   "metadata": {},
   "outputs": [
    {
     "name": "stdout",
     "output_type": "stream",
     "text": [
      "Wall time: 17.1 s\n"
     ]
    },
    {
     "data": {
      "text/plain": [
       "RandomForestClassifier(n_estimators=59, random_state=42)"
      ]
     },
     "execution_count": 254,
     "metadata": {},
     "output_type": "execute_result"
    }
   ],
   "source": [
    "%%time\n",
    "rf_clf.fit(X, y)"
   ]
  },
  {
   "cell_type": "code",
   "execution_count": 255,
   "id": "1f0f3928",
   "metadata": {},
   "outputs": [
    {
     "name": "stdout",
     "output_type": "stream",
     "text": [
      "Random Forest Test F1-Score: 81.51%\n",
      "Random Forest Test Recall Score: 84.48%\n",
      "Random Forest Test Accuracy Score: 81.77%\n"
     ]
    }
   ],
   "source": [
    "y_pred = rf_clf.predict(X_test)\n",
    "rf_test_f1 = np.round(f1_score(y_pred, y_test), 5) * 100\n",
    "rf_test_acc = np.round(accuracy_score(y_pred, y_test), 5) * 100\n",
    "rf_test_rec = np.round(recall_score(y_pred, y_test), 5) * 100\n",
    "print(f'Random Forest Test F1-Score: {rf_test_f1:.2f}%')\n",
    "print(f'Random Forest Test Recall Score: {rf_test_rec:.2f}%')\n",
    "print(f'Random Forest Test Accuracy Score: {rf_test_acc:.2f}%')"
   ]
  },
  {
   "cell_type": "code",
   "execution_count": 256,
   "id": "8657c5db",
   "metadata": {},
   "outputs": [
    {
     "data": {
      "text/plain": [
       "array([[2116,  552],\n",
       "       [ 376, 2046]], dtype=int64)"
      ]
     },
     "execution_count": 256,
     "metadata": {},
     "output_type": "execute_result"
    }
   ],
   "source": [
    "confusion_matrix(y_pred, y_test)"
   ]
  },
  {
   "cell_type": "markdown",
   "id": "ca8f0e00",
   "metadata": {},
   "source": [
    "## Extremely Random Trees"
   ]
  },
  {
   "cell_type": "code",
   "execution_count": 257,
   "id": "7ac91083",
   "metadata": {},
   "outputs": [],
   "source": [
    "#Get the best hyperparameters\n",
    "max_ada_f1 = er_rnd_search_df[\"mean_test_score\"].argmax()\n",
    "best_n_est = er_rnd_search_df.loc[max_ada_f1, \"param_n_estimators\"]\n",
    "\n",
    "er_clf = ExtraTreesClassifier(n_estimators=best_n_est, random_state=42)"
   ]
  },
  {
   "cell_type": "code",
   "execution_count": 258,
   "id": "8461c9c4",
   "metadata": {},
   "outputs": [
    {
     "name": "stdout",
     "output_type": "stream",
     "text": [
      "Wall time: 41.9 s\n"
     ]
    },
    {
     "data": {
      "text/plain": [
       "ExtraTreesClassifier(n_estimators=105, random_state=42)"
      ]
     },
     "execution_count": 258,
     "metadata": {},
     "output_type": "execute_result"
    }
   ],
   "source": [
    "%%time\n",
    "er_clf.fit(X, y)"
   ]
  },
  {
   "cell_type": "code",
   "execution_count": 260,
   "id": "14d5bf1a",
   "metadata": {},
   "outputs": [
    {
     "name": "stdout",
     "output_type": "stream",
     "text": [
      "Extremely Random Trees Test F1-Score: 80.66%\n",
      "Extremely Random Trees Test Recall Score: 82.75%\n",
      "Extremely Random Trees Accuracy Score: 80.75%\n"
     ]
    }
   ],
   "source": [
    "y_pred = er_clf.predict(X_test)\n",
    "er_test_f1 = np.round(f1_score(y_pred, y_test), 5) * 100\n",
    "er_test_acc = np.round(accuracy_score(y_pred, y_test), 5) * 100\n",
    "er_test_rec = np.round(recall_score(y_pred, y_test), 5) * 100\n",
    "print(f'Extremely Random Trees Test F1-Score: {er_test_f1:.2f}%')\n",
    "print(f'Extremely Random Trees Test Recall Score: {er_test_rec:.2f}%')\n",
    "print(f'Extremely Random Trees Accuracy Score: {er_test_acc:.2f}%')"
   ]
  },
  {
   "cell_type": "code",
   "execution_count": 261,
   "id": "824ac4e3",
   "metadata": {},
   "outputs": [
    {
     "data": {
      "text/plain": [
       "array([[2066,  554],\n",
       "       [ 426, 2044]], dtype=int64)"
      ]
     },
     "execution_count": 261,
     "metadata": {},
     "output_type": "execute_result"
    }
   ],
   "source": [
    "confusion_matrix(y_pred, y_test)"
   ]
  },
  {
   "cell_type": "markdown",
   "id": "3c35f7b8",
   "metadata": {},
   "source": [
    "## AdaBoost"
   ]
  },
  {
   "cell_type": "code",
   "execution_count": 245,
   "id": "b7240c3a",
   "metadata": {},
   "outputs": [],
   "source": [
    "#Get the best hyperparameters\n",
    "max_ada_f1 = ada_rnd_search_df[\"mean_test_score\"].argmax()\n",
    "best_n_est = ada_rnd_search_df.loc[max_rf_f1, \"param_n_estimators\"]\n",
    "best_lr = ada_rnd_search_df.loc[max_rf_f1, \"param_learning_rate\"]\n",
    "\n",
    "ada_clf = AdaBoostClassifier(n_estimators=best_n_est, learning_rate=best_lr)"
   ]
  },
  {
   "cell_type": "code",
   "execution_count": 246,
   "id": "bacff386",
   "metadata": {},
   "outputs": [
    {
     "name": "stdout",
     "output_type": "stream",
     "text": [
      "Wall time: 1.21 s\n"
     ]
    },
    {
     "data": {
      "text/plain": [
       "AdaBoostClassifier(learning_rate=0.341261142176991, n_estimators=51)"
      ]
     },
     "execution_count": 246,
     "metadata": {},
     "output_type": "execute_result"
    }
   ],
   "source": [
    "%%time\n",
    "ada_clf.fit(X, y)"
   ]
  },
  {
   "cell_type": "code",
   "execution_count": 247,
   "id": "68c9d661",
   "metadata": {},
   "outputs": [
    {
     "name": "stdout",
     "output_type": "stream",
     "text": [
      "AdaBoost Test F1-Score: 79.57%\n",
      "AdaBoost Test Recall Score: 83.23%\n",
      "AdaBoost Test Accuracy Score: 80.02%\n"
     ]
    }
   ],
   "source": [
    "y_pred = ada_clf.predict(X_test)\n",
    "ada_test_f1 = np.round(f1_score(y_pred, y_test), 5) * 100\n",
    "ada_test_acc = np.round(accuracy_score(y_pred, y_test), 5) * 100\n",
    "ada_test_rec = np.round(recall_score(y_pred, y_test), 5) * 100\n",
    "print(f'AdaBoost Test F1-Score: {ada_test_f1:.2f}%')\n",
    "print(f'AdaBoost Test Recall Score: {ada_test_rec:.2f}%')\n",
    "print(f'AdaBoost Test Accuracy Score: {ada_test_acc:.2f}%')"
   ]
  },
  {
   "cell_type": "code",
   "execution_count": 248,
   "id": "b75a9d63",
   "metadata": {},
   "outputs": [
    {
     "data": {
      "text/plain": [
       "array([[2093,  618],\n",
       "       [ 399, 1980]], dtype=int64)"
      ]
     },
     "execution_count": 248,
     "metadata": {},
     "output_type": "execute_result"
    }
   ],
   "source": [
    "confusion_matrix(y_pred, y_test)"
   ]
  },
  {
   "cell_type": "markdown",
   "id": "cb94552e",
   "metadata": {},
   "source": [
    "## XGBoost"
   ]
  },
  {
   "cell_type": "code",
   "execution_count": 263,
   "id": "47b4c337",
   "metadata": {},
   "outputs": [],
   "source": [
    "#Get the best hyperparameters\n",
    "max_xgb_f1 = xgb_param_search_df[\"Validation Recall\"].argmax()\n",
    "best_colsample = xgb_param_search_df.loc[max_xgb_f1, \"colsample_bytree\"]\n",
    "best_gamma = xgb_param_search_df.loc[max_xgb_f1, \"gamma\"]\n",
    "best_lr = xgb_param_search_df.loc[max_xgb_f1, \"learning_rate\"]\n",
    "best_max_depth = xgb_param_search_df.loc[max_xgb_f1, \"max_depth\"]\n",
    "best_min_child = xgb_param_search_df.loc[max_xgb_f1, \"min_child_weight\"]\n",
    "best_reg_lambda = xgb_param_search_df.loc[max_xgb_f1, \"reg_lambda\"]\n",
    "best_subsample = xgb_param_search_df.loc[max_xgb_f1, \"subsample\"]\n",
    "best_n_est = xgb_param_search_df.loc[max_xgb_f1, \"N Estimators\"]\n",
    "\n",
    "xgb_clf = xgboost.XGBClassifier(n_estimators=best_n_est, colsample_bytree = best_colsample, gamma = best_gamma, \n",
    "                                learning_rate=best_lr, max_depth = best_max_depth, min_child_weight=best_min_child,\n",
    "                                reg_lambda=best_reg_lambda, subsample=best_subsample,\n",
    "                                use_label_encoder=False, objective = \"binary:logistic\")"
   ]
  },
  {
   "cell_type": "code",
   "execution_count": 264,
   "id": "aea2b1ab",
   "metadata": {},
   "outputs": [
    {
     "name": "stdout",
     "output_type": "stream",
     "text": [
      "[20:16:25] WARNING: C:/Users/Administrator/workspace/xgboost-win64_release_1.5.1/src/learner.cc:1115: Starting in XGBoost 1.3.0, the default evaluation metric used with the objective 'binary:logistic' was changed from 'error' to 'logloss'. Explicitly set eval_metric if you'd like to restore the old behavior.\n",
      "Wall time: 970 ms\n"
     ]
    },
    {
     "data": {
      "text/plain": [
       "XGBClassifier(base_score=0.5, booster='gbtree', colsample_bylevel=1,\n",
       "              colsample_bynode=1, colsample_bytree=0.7192270091575351,\n",
       "              enable_categorical=False, gamma=2.5108916227121214, gpu_id=-1,\n",
       "              importance_type=None, interaction_constraints='',\n",
       "              learning_rate=0.4434343526554207, max_delta_step=0, max_depth=7,\n",
       "              min_child_weight=26, missing=nan, monotone_constraints='()',\n",
       "              n_estimators=64, n_jobs=8, num_parallel_tree=1, predictor='auto',\n",
       "              random_state=0, reg_alpha=0, reg_lambda=1.2882744251408234,\n",
       "              scale_pos_weight=1, subsample=0.6112882087855153,\n",
       "              tree_method='exact', use_label_encoder=False,\n",
       "              validate_parameters=1, verbosity=None)"
      ]
     },
     "execution_count": 264,
     "metadata": {},
     "output_type": "execute_result"
    }
   ],
   "source": [
    "%%time\n",
    "xgb_clf.fit(X, y)"
   ]
  },
  {
   "cell_type": "code",
   "execution_count": 265,
   "id": "53dc4885",
   "metadata": {},
   "outputs": [
    {
     "name": "stdout",
     "output_type": "stream",
     "text": [
      "XGBoost Test F1-Score: 81.70%\n",
      "XGBoost Test Recall Score: 85.33%\n",
      "XGBoost Test Accuracy Score: 82.08%\n"
     ]
    }
   ],
   "source": [
    "y_pred = xgb_clf.predict(X_test)\n",
    "xgb_test_f1 = np.round(f1_score(y_pred, y_test), 5) * 100\n",
    "xgb_test_acc = np.round(accuracy_score(y_pred, y_test), 5) * 100\n",
    "xgb_test_rec = np.round(recall_score(y_pred, y_test), 5) * 100\n",
    "print(f'XGBoost Test F1-Score: {xgb_test_f1:.2f}%')\n",
    "print(f'XGBoost Test Recall Score: {xgb_test_rec:.2f}%')\n",
    "print(f'XGBoost Test Accuracy Score: {xgb_test_acc:.2f}%')"
   ]
  },
  {
   "cell_type": "code",
   "execution_count": 266,
   "id": "08257ad3",
   "metadata": {},
   "outputs": [
    {
     "data": {
      "text/plain": [
       "array([[2142,  562],\n",
       "       [ 350, 2036]], dtype=int64)"
      ]
     },
     "execution_count": 266,
     "metadata": {},
     "output_type": "execute_result"
    }
   ],
   "source": [
    "confusion_matrix(y_pred, y_test)"
   ]
  },
  {
   "cell_type": "markdown",
   "id": "b2ea3f3b",
   "metadata": {},
   "source": [
    "# Test Results"
   ]
  },
  {
   "cell_type": "code",
   "execution_count": 274,
   "id": "87640e2e",
   "metadata": {},
   "outputs": [],
   "source": [
    "Models = [\"Logistic Regression\", \"Bayesian Regression\", \"Naive Bayes\", \"Linear SVC\", \"Random Forest\",\n",
    "          \"Extreme Trees\", \"AdaBoost\", \"XGBoost\"]\n",
    "Recall_Test_Scores = [lr_test_rec, br_test_rec, nb_test_rec, svc_test_rec, rf_test_rec, er_test_rec, ada_test_rec, xgb_test_rec]\n",
    "Accuracy_Test_Scores = [lr_test_acc, br_test_acc, nb_test_acc, svc_test_acc, rf_test_acc, er_test_acc, ada_test_acc, xgb_test_acc]\n",
    "\n",
    "#Create a data frame with the results\n",
    "test_results = pd.DataFrame({\"Model\": Models, \"Recall\": Recall_Test_Scores, \"Accuracy\" : Accuracy_Test_Scores})"
   ]
  },
  {
   "cell_type": "code",
   "execution_count": 275,
   "id": "120d460e",
   "metadata": {},
   "outputs": [
    {
     "data": {
      "text/html": [
       "<div>\n",
       "<style scoped>\n",
       "    .dataframe tbody tr th:only-of-type {\n",
       "        vertical-align: middle;\n",
       "    }\n",
       "\n",
       "    .dataframe tbody tr th {\n",
       "        vertical-align: top;\n",
       "    }\n",
       "\n",
       "    .dataframe thead th {\n",
       "        text-align: right;\n",
       "    }\n",
       "</style>\n",
       "<table border=\"1\" class=\"dataframe\">\n",
       "  <thead>\n",
       "    <tr style=\"text-align: right;\">\n",
       "      <th></th>\n",
       "      <th>Model</th>\n",
       "      <th>Recall</th>\n",
       "      <th>Accuracy</th>\n",
       "    </tr>\n",
       "  </thead>\n",
       "  <tbody>\n",
       "    <tr>\n",
       "      <th>7</th>\n",
       "      <td>XGBoost</td>\n",
       "      <td>85.331</td>\n",
       "      <td>82.083</td>\n",
       "    </tr>\n",
       "    <tr>\n",
       "      <th>4</th>\n",
       "      <td>Random Forest</td>\n",
       "      <td>84.476</td>\n",
       "      <td>81.768</td>\n",
       "    </tr>\n",
       "    <tr>\n",
       "      <th>3</th>\n",
       "      <td>Linear SVC</td>\n",
       "      <td>83.605</td>\n",
       "      <td>80.530</td>\n",
       "    </tr>\n",
       "    <tr>\n",
       "      <th>0</th>\n",
       "      <td>Logistic Regression</td>\n",
       "      <td>83.506</td>\n",
       "      <td>80.648</td>\n",
       "    </tr>\n",
       "    <tr>\n",
       "      <th>1</th>\n",
       "      <td>Bayesian Regression</td>\n",
       "      <td>83.299</td>\n",
       "      <td>80.530</td>\n",
       "    </tr>\n",
       "    <tr>\n",
       "      <th>6</th>\n",
       "      <td>AdaBoost</td>\n",
       "      <td>83.228</td>\n",
       "      <td>80.020</td>\n",
       "    </tr>\n",
       "    <tr>\n",
       "      <th>5</th>\n",
       "      <td>Extreme Trees</td>\n",
       "      <td>82.753</td>\n",
       "      <td>80.747</td>\n",
       "    </tr>\n",
       "    <tr>\n",
       "      <th>2</th>\n",
       "      <td>Naive Bayes</td>\n",
       "      <td>77.095</td>\n",
       "      <td>74.617</td>\n",
       "    </tr>\n",
       "  </tbody>\n",
       "</table>\n",
       "</div>"
      ],
      "text/plain": [
       "                 Model  Recall  Accuracy\n",
       "7              XGBoost  85.331    82.083\n",
       "4        Random Forest  84.476    81.768\n",
       "3           Linear SVC  83.605    80.530\n",
       "0  Logistic Regression  83.506    80.648\n",
       "1  Bayesian Regression  83.299    80.530\n",
       "6             AdaBoost  83.228    80.020\n",
       "5        Extreme Trees  82.753    80.747\n",
       "2          Naive Bayes  77.095    74.617"
      ]
     },
     "execution_count": 275,
     "metadata": {},
     "output_type": "execute_result"
    }
   ],
   "source": [
    "test_results.sort_values(by=\"Recall\", ascending = False, inplace = True)\n",
    "test_results"
   ]
  },
  {
   "cell_type": "code",
   "execution_count": 276,
   "id": "3769f8f3",
   "metadata": {},
   "outputs": [
    {
     "data": {
      "text/plain": [
       "Text(0.5, 0, 'Models')"
      ]
     },
     "execution_count": 276,
     "metadata": {},
     "output_type": "execute_result"
    },
    {
     "data": {
      "image/png": "[encoded data removed]",
      "text/plain": [
       "<Figure size 1080x720 with 1 Axes>"
      ]
     },
     "metadata": {},
     "output_type": "display_data"
    }
   ],
   "source": [
    "#Bar chart of the results\n",
    "sns.set(rc = {'figure.figsize':(15,10)})\n",
    "sns.barplot(x=\"Model\", y = \"Recall\", order = test_results[\"Model\"] \\\n",
    "                                            , data = test_results, color = \"mediumseagreen\")\n",
    "plt.title(\"Test Recall Scores\")\n",
    "plt.ylabel(\"Recall\")\n",
    "plt.xlabel(\"Models\")"
   ]
  },
  {
   "cell_type": "code",
   "execution_count": 278,
   "id": "5585e346",
   "metadata": {},
   "outputs": [
    {
     "data": {
      "text/html": [
       "<div>\n",
       "<style scoped>\n",
       "    .dataframe tbody tr th:only-of-type {\n",
       "        vertical-align: middle;\n",
       "    }\n",
       "\n",
       "    .dataframe tbody tr th {\n",
       "        vertical-align: top;\n",
       "    }\n",
       "\n",
       "    .dataframe thead th {\n",
       "        text-align: right;\n",
       "    }\n",
       "</style>\n",
       "<table border=\"1\" class=\"dataframe\">\n",
       "  <thead>\n",
       "    <tr style=\"text-align: right;\">\n",
       "      <th></th>\n",
       "      <th>Model</th>\n",
       "      <th>Recall</th>\n",
       "      <th>Accuracy</th>\n",
       "    </tr>\n",
       "  </thead>\n",
       "  <tbody>\n",
       "    <tr>\n",
       "      <th>7</th>\n",
       "      <td>XGBoost</td>\n",
       "      <td>85.331</td>\n",
       "      <td>82.083</td>\n",
       "    </tr>\n",
       "    <tr>\n",
       "      <th>4</th>\n",
       "      <td>Random Forest</td>\n",
       "      <td>84.476</td>\n",
       "      <td>81.768</td>\n",
       "    </tr>\n",
       "    <tr>\n",
       "      <th>5</th>\n",
       "      <td>Extreme Trees</td>\n",
       "      <td>82.753</td>\n",
       "      <td>80.747</td>\n",
       "    </tr>\n",
       "    <tr>\n",
       "      <th>0</th>\n",
       "      <td>Logistic Regression</td>\n",
       "      <td>83.506</td>\n",
       "      <td>80.648</td>\n",
       "    </tr>\n",
       "    <tr>\n",
       "      <th>3</th>\n",
       "      <td>Linear SVC</td>\n",
       "      <td>83.605</td>\n",
       "      <td>80.530</td>\n",
       "    </tr>\n",
       "    <tr>\n",
       "      <th>1</th>\n",
       "      <td>Bayesian Regression</td>\n",
       "      <td>83.299</td>\n",
       "      <td>80.530</td>\n",
       "    </tr>\n",
       "    <tr>\n",
       "      <th>6</th>\n",
       "      <td>AdaBoost</td>\n",
       "      <td>83.228</td>\n",
       "      <td>80.020</td>\n",
       "    </tr>\n",
       "    <tr>\n",
       "      <th>2</th>\n",
       "      <td>Naive Bayes</td>\n",
       "      <td>77.095</td>\n",
       "      <td>74.617</td>\n",
       "    </tr>\n",
       "  </tbody>\n",
       "</table>\n",
       "</div>"
      ],
      "text/plain": [
       "                 Model  Recall  Accuracy\n",
       "7              XGBoost  85.331    82.083\n",
       "4        Random Forest  84.476    81.768\n",
       "5        Extreme Trees  82.753    80.747\n",
       "0  Logistic Regression  83.506    80.648\n",
       "3           Linear SVC  83.605    80.530\n",
       "1  Bayesian Regression  83.299    80.530\n",
       "6             AdaBoost  83.228    80.020\n",
       "2          Naive Bayes  77.095    74.617"
      ]
     },
     "execution_count": 278,
     "metadata": {},
     "output_type": "execute_result"
    }
   ],
   "source": [
    "test_results.sort_values(by=\"Accuracy\", ascending = False, inplace = True)\n",
    "test_results"
   ]
  },
  {
   "cell_type": "code",
   "execution_count": 277,
   "id": "69748fff",
   "metadata": {},
   "outputs": [
    {
     "data": {
      "text/plain": [
       "Text(0.5, 0, 'Models')"
      ]
     },
     "execution_count": 277,
     "metadata": {},
     "output_type": "execute_result"
    },
    {
     "data": {
      "image/png": "[encoded data removed]",
      "text/plain": [
       "<Figure size 1080x720 with 1 Axes>"
      ]
     },
     "metadata": {},
     "output_type": "display_data"
    }
   ],
   "source": [
    "#Bar chart of the results\n",
    "sns.set(rc = {'figure.figsize':(15,10)})\n",
    "sns.barplot(x=\"Model\", y = \"Accuracy\", order = test_results[\"Model\"] \\\n",
    "                                            , data = test_results, color = \"mediumseagreen\")\n",
    "plt.title(\"Test Accuracy Scores\")\n",
    "plt.ylabel(\"Accuracy\")\n",
    "plt.xlabel(\"Models\")"
   ]
  },
  {
   "cell_type": "markdown",
   "id": "30d94e57",
   "metadata": {},
   "source": [
    "# Save the Best Model"
   ]
  },
  {
   "cell_type": "code",
   "execution_count": 267,
   "id": "5279a149",
   "metadata": {},
   "outputs": [],
   "source": [
    "X, y = prepare_london(london, cat_vars, num_vars, target)"
   ]
  },
  {
   "cell_type": "code",
   "execution_count": 270,
   "id": "19113bff",
   "metadata": {},
   "outputs": [
    {
     "name": "stdout",
     "output_type": "stream",
     "text": [
      "[20:18:19] WARNING: C:/Users/Administrator/workspace/xgboost-win64_release_1.5.1/src/learner.cc:1115: Starting in XGBoost 1.3.0, the default evaluation metric used with the objective 'binary:logistic' was changed from 'error' to 'logloss'. Explicitly set eval_metric if you'd like to restore the old behavior.\n",
      "Wall time: 829 ms\n"
     ]
    },
    {
     "data": {
      "text/plain": [
       "XGBClassifier(base_score=0.5, booster='gbtree', colsample_bylevel=1,\n",
       "              colsample_bynode=1, colsample_bytree=0.7192270091575351,\n",
       "              enable_categorical=False, gamma=2.5108916227121214, gpu_id=-1,\n",
       "              importance_type=None, interaction_constraints='',\n",
       "              learning_rate=0.4434343526554207, max_delta_step=0, max_depth=7,\n",
       "              min_child_weight=26, missing=nan, monotone_constraints='()',\n",
       "              n_estimators=64, n_jobs=8, num_parallel_tree=1, predictor='auto',\n",
       "              random_state=0, reg_alpha=0, reg_lambda=1.2882744251408234,\n",
       "              scale_pos_weight=1, subsample=0.6112882087855153,\n",
       "              tree_method='exact', use_label_encoder=False,\n",
       "              validate_parameters=1, verbosity=None)"
      ]
     },
     "execution_count": 270,
     "metadata": {},
     "output_type": "execute_result"
    }
   ],
   "source": [
    "%%time\n",
    "xgb_clf = xgboost.XGBClassifier(n_estimators=best_n_est, colsample_bytree = best_colsample, gamma = best_gamma, \n",
    "                                learning_rate=best_lr, max_depth = best_max_depth, min_child_weight=best_min_child,\n",
    "                                reg_lambda=best_reg_lambda, subsample=best_subsample,\n",
    "                                use_label_encoder=False, objective = \"binary:logistic\")\n",
    "\n",
    "\n",
    "xgb_clf.fit(X, y)"
   ]
  },
  {
   "cell_type": "code",
   "execution_count": 271,
   "id": "d764530f",
   "metadata": {},
   "outputs": [],
   "source": [
    "#Save the best model\n",
    "pickle.dump(xgb_clf, open(\"best_model.sav\",'wb'))"
   ]
  }
 ],
 "metadata": {
  "kernelspec": {
   "display_name": "Python 3",
   "language": "python",
   "name": "python3"
  },
  "language_info": {
   "codemirror_mode": {
    "name": "ipython",
    "version": 3
   },
   "file_extension": ".py",
   "mimetype": "text/x-python",
   "name": "python",
   "nbconvert_exporter": "python",
   "pygments_lexer": "ipython3",
   "version": "3.8.8"
  }
 },
 "nbformat": 4,
 "nbformat_minor": 5
}
