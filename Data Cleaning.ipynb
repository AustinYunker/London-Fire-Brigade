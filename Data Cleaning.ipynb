{
 "cells": [
  {
   "cell_type": "markdown",
   "id": "ab4cd782",
   "metadata": {},
   "source": [
    "# Setup and Imports"
   ]
  },
  {
   "cell_type": "code",
   "execution_count": 1,
   "id": "038c0a20",
   "metadata": {},
   "outputs": [],
   "source": [
    "import pandas as pd\n",
    "import numpy as np\n",
    "import warnings\n",
    "from pandas.io import gbq\n",
    "from sklearn.model_selection import train_test_split"
   ]
  },
  {
   "cell_type": "markdown",
   "id": "9fb6c275",
   "metadata": {},
   "source": [
    "# Get the Data"
   ]
  },
  {
   "cell_type": "code",
   "execution_count": 2,
   "id": "04101f19",
   "metadata": {},
   "outputs": [
    {
     "name": "stdout",
     "output_type": "stream",
     "text": [
      "Wall time: 7.97 s\n"
     ]
    }
   ],
   "source": [
    "%%time\n",
    "query = \"\"\"\n",
    "            SELECT incident_number, timestamp_of_call, incident_group, property_category, \n",
    "                    address_qualifier, borough_name, first_pump_arriving_attendance_time as first_time,\n",
    "                    num_stations_with_pumps_attending as station_pumps, num_pumps_attending as pumps_attending,\n",
    "                    FROM `gdac-327115.LondonFire.fire_brigade`\n",
    "        \"\"\"\n",
    "\n",
    "london = gbq.read_gbq(query, project_id = \"gdac-327115\", location=\"eu\")"
   ]
  },
  {
   "cell_type": "code",
   "execution_count": 148,
   "id": "c0d42a08",
   "metadata": {},
   "outputs": [],
   "source": [
    "def fetch_london_data(query_string, project_id, location):\n",
    "    \"\"\"\n",
    "    This function fetches the london fire brigade data from Google BigQuery\n",
    "    \n",
    "    params:\n",
    "        query_string - the string the contains the SQL code to query the data\n",
    "        project-id - the unique project id for the Google BigQuery data\n",
    "        location - where the data is being saved in Google BigQuery\n",
    "        \n",
    "    returns:\n",
    "        data - queueried data\n",
    "    \"\"\"\n",
    "    \n",
    "    data = gbq.read_gbq(query_string, project_id = project_id, location=location)\n",
    "    \n",
    "    return data"
   ]
  },
  {
   "cell_type": "code",
   "execution_count": 3,
   "id": "02832466",
   "metadata": {},
   "outputs": [
    {
     "data": {
      "text/plain": [
       "(32247, 9)"
      ]
     },
     "execution_count": 3,
     "metadata": {},
     "output_type": "execute_result"
    }
   ],
   "source": [
    "#Check the shape\n",
    "london.shape"
   ]
  },
  {
   "cell_type": "code",
   "execution_count": 4,
   "id": "7e535ff3",
   "metadata": {},
   "outputs": [
    {
     "data": {
      "text/html": [
       "<div>\n",
       "<style scoped>\n",
       "    .dataframe tbody tr th:only-of-type {\n",
       "        vertical-align: middle;\n",
       "    }\n",
       "\n",
       "    .dataframe tbody tr th {\n",
       "        vertical-align: top;\n",
       "    }\n",
       "\n",
       "    .dataframe thead th {\n",
       "        text-align: right;\n",
       "    }\n",
       "</style>\n",
       "<table border=\"1\" class=\"dataframe\">\n",
       "  <thead>\n",
       "    <tr style=\"text-align: right;\">\n",
       "      <th></th>\n",
       "      <th>incident_number</th>\n",
       "      <th>timestamp_of_call</th>\n",
       "      <th>incident_group</th>\n",
       "      <th>property_category</th>\n",
       "      <th>address_qualifier</th>\n",
       "      <th>borough_name</th>\n",
       "      <th>first_time</th>\n",
       "      <th>station_pumps</th>\n",
       "      <th>pumps_attending</th>\n",
       "    </tr>\n",
       "  </thead>\n",
       "  <tbody>\n",
       "    <tr>\n",
       "      <th>0</th>\n",
       "      <td>000320-01012017</td>\n",
       "      <td>2017-01-01 15:30:22+00:00</td>\n",
       "      <td>False Alarm</td>\n",
       "      <td>Dwelling</td>\n",
       "      <td>Within same building</td>\n",
       "      <td>NOT GEO-CODED</td>\n",
       "      <td>&lt;NA&gt;</td>\n",
       "      <td>2</td>\n",
       "      <td>2</td>\n",
       "    </tr>\n",
       "    <tr>\n",
       "      <th>1</th>\n",
       "      <td>003727-09012017</td>\n",
       "      <td>2017-01-09 10:41:54+00:00</td>\n",
       "      <td>False Alarm</td>\n",
       "      <td>Dwelling</td>\n",
       "      <td>Correct incident location</td>\n",
       "      <td>NOT GEO-CODED</td>\n",
       "      <td>&lt;NA&gt;</td>\n",
       "      <td>2</td>\n",
       "      <td>2</td>\n",
       "    </tr>\n",
       "    <tr>\n",
       "      <th>2</th>\n",
       "      <td>003762-09012017</td>\n",
       "      <td>2017-01-09 12:28:39+00:00</td>\n",
       "      <td>False Alarm</td>\n",
       "      <td>Dwelling</td>\n",
       "      <td>Correct incident location</td>\n",
       "      <td>NOT GEO-CODED</td>\n",
       "      <td>&lt;NA&gt;</td>\n",
       "      <td>2</td>\n",
       "      <td>2</td>\n",
       "    </tr>\n",
       "    <tr>\n",
       "      <th>3</th>\n",
       "      <td>006403-16012017</td>\n",
       "      <td>2017-01-16 04:02:14+00:00</td>\n",
       "      <td>False Alarm</td>\n",
       "      <td>Dwelling</td>\n",
       "      <td>Correct incident location</td>\n",
       "      <td>NOT GEO-CODED</td>\n",
       "      <td>&lt;NA&gt;</td>\n",
       "      <td>2</td>\n",
       "      <td>2</td>\n",
       "    </tr>\n",
       "    <tr>\n",
       "      <th>4</th>\n",
       "      <td>010947-26012017</td>\n",
       "      <td>2017-01-26 11:14:03+00:00</td>\n",
       "      <td>False Alarm</td>\n",
       "      <td>Dwelling</td>\n",
       "      <td>Correct incident location</td>\n",
       "      <td>NOT GEO-CODED</td>\n",
       "      <td>&lt;NA&gt;</td>\n",
       "      <td>1</td>\n",
       "      <td>1</td>\n",
       "    </tr>\n",
       "  </tbody>\n",
       "</table>\n",
       "</div>"
      ],
      "text/plain": [
       "   incident_number         timestamp_of_call incident_group property_category  \\\n",
       "0  000320-01012017 2017-01-01 15:30:22+00:00    False Alarm          Dwelling   \n",
       "1  003727-09012017 2017-01-09 10:41:54+00:00    False Alarm          Dwelling   \n",
       "2  003762-09012017 2017-01-09 12:28:39+00:00    False Alarm          Dwelling   \n",
       "3  006403-16012017 2017-01-16 04:02:14+00:00    False Alarm          Dwelling   \n",
       "4  010947-26012017 2017-01-26 11:14:03+00:00    False Alarm          Dwelling   \n",
       "\n",
       "           address_qualifier    borough_name  first_time  station_pumps  \\\n",
       "0       Within same building   NOT GEO-CODED        <NA>              2   \n",
       "1  Correct incident location   NOT GEO-CODED        <NA>              2   \n",
       "2  Correct incident location   NOT GEO-CODED        <NA>              2   \n",
       "3  Correct incident location   NOT GEO-CODED        <NA>              2   \n",
       "4  Correct incident location   NOT GEO-CODED        <NA>              1   \n",
       "\n",
       "   pumps_attending  \n",
       "0                2  \n",
       "1                2  \n",
       "2                2  \n",
       "3                2  \n",
       "4                1  "
      ]
     },
     "execution_count": 4,
     "metadata": {},
     "output_type": "execute_result"
    }
   ],
   "source": [
    "#View the first few rows\n",
    "london.head()"
   ]
  },
  {
   "cell_type": "code",
   "execution_count": 5,
   "id": "f22d730f",
   "metadata": {},
   "outputs": [
    {
     "data": {
      "text/plain": [
       "incident_number                   object\n",
       "timestamp_of_call    datetime64[ns, UTC]\n",
       "incident_group                    object\n",
       "property_category                 object\n",
       "address_qualifier                 object\n",
       "borough_name                      object\n",
       "first_time                         Int64\n",
       "station_pumps                      Int64\n",
       "pumps_attending                    Int64\n",
       "dtype: object"
      ]
     },
     "execution_count": 5,
     "metadata": {},
     "output_type": "execute_result"
    }
   ],
   "source": [
    "london.dtypes"
   ]
  },
  {
   "cell_type": "code",
   "execution_count": 6,
   "id": "740f025f",
   "metadata": {},
   "outputs": [
    {
     "data": {
      "text/plain": [
       "incident_number         0\n",
       "timestamp_of_call       0\n",
       "incident_group          0\n",
       "property_category       0\n",
       "address_qualifier       0\n",
       "borough_name            0\n",
       "first_time           1819\n",
       "station_pumps          68\n",
       "pumps_attending        68\n",
       "dtype: int64"
      ]
     },
     "execution_count": 6,
     "metadata": {},
     "output_type": "execute_result"
    }
   ],
   "source": [
    "#Check for missing values\n",
    "london.isnull().sum()"
   ]
  },
  {
   "cell_type": "markdown",
   "id": "5f8bf06a",
   "metadata": {},
   "source": [
    "# Split the Data into Training and Test Sets"
   ]
  },
  {
   "cell_type": "markdown",
   "id": "2ed350f4",
   "metadata": {},
   "source": [
    "Since we are going to be predicting if the call is a false alarm, we'll want to our test observations to be the newest in the data set. "
   ]
  },
  {
   "cell_type": "code",
   "execution_count": 7,
   "id": "88b59b6b",
   "metadata": {},
   "outputs": [
    {
     "data": {
      "text/plain": [
       "2017    32247\n",
       "Name: timestamp_of_call, dtype: int64"
      ]
     },
     "execution_count": 7,
     "metadata": {},
     "output_type": "execute_result"
    }
   ],
   "source": [
    "london[\"timestamp_of_call\"].dt.year.value_counts()"
   ]
  },
  {
   "cell_type": "markdown",
   "id": "8f57f461",
   "metadata": {},
   "source": [
    "We see that all of our observations are from the same year, therefore we can just randomly split the data. However, let's first check the proportion of calls that ended up being a false alarm.  "
   ]
  },
  {
   "cell_type": "code",
   "execution_count": 8,
   "id": "6564c49e",
   "metadata": {},
   "outputs": [
    {
     "data": {
      "text/plain": [
       "False Alarm        15732\n",
       "Special Service    10081\n",
       "Fire                6434\n",
       "Name: incident_group, dtype: int64"
      ]
     },
     "execution_count": 8,
     "metadata": {},
     "output_type": "execute_result"
    }
   ],
   "source": [
    "london[\"incident_group\"].value_counts()"
   ]
  },
  {
   "cell_type": "markdown",
   "id": "2899d672",
   "metadata": {},
   "source": [
    "Not all incidents were either a Fire or False Alarm. There is a third category, Special Service, as well. Since the entire purpose of this project is to reduce the number of false alarms that the department wastes its resources on, we'll combine Special Services and the Fire into one category called Emergency. We could have dropped all incidents with Special Service. However, the fire department has to respond to those types of calls so it's important to include them. "
   ]
  },
  {
   "cell_type": "code",
   "execution_count": 9,
   "id": "8bdd3f5a",
   "metadata": {},
   "outputs": [],
   "source": [
    "emergency = [\"Special Service\", \"Fire\"]\n",
    "\n",
    "london[\"incident_group\"].replace(emergency, \"Emergency\", inplace = True)"
   ]
  },
  {
   "cell_type": "code",
   "execution_count": 10,
   "id": "002eb635",
   "metadata": {},
   "outputs": [],
   "source": [
    "def make_emergencies(df):\n",
    "    \"\"\"\n",
    "    This function combines the two different emergencies found in the data set. It then creates a new indicator column that\n",
    "    contains 1 if the observation is a real emergency and 0 if not\n",
    "    \n",
    "    params:\n",
    "        df - dataframe with the necessary columns\n",
    "    \"\"\"\n",
    "    emergency = [\"Special Service\", \"Fire\"]\n",
    "    df[\"incident_group\"].replace(emergency, \"Emergency\", inplace = True)\n",
    "    df[\"Emergency\"] = (df[\"incident_group\"] == \"Emergency\").astype(np.int64)\n",
    "    "
   ]
  },
  {
   "cell_type": "code",
   "execution_count": 11,
   "id": "67d0e083",
   "metadata": {},
   "outputs": [
    {
     "data": {
      "text/plain": [
       "Emergency      0.512141\n",
       "False Alarm    0.487859\n",
       "Name: incident_group, dtype: float64"
      ]
     },
     "execution_count": 11,
     "metadata": {},
     "output_type": "execute_result"
    }
   ],
   "source": [
    "london[\"incident_group\"].value_counts() / london.shape[0]"
   ]
  },
  {
   "cell_type": "code",
   "execution_count": 14,
   "id": "f66bb742",
   "metadata": {},
   "outputs": [],
   "source": [
    "#Finally split the data\n",
    "london_train, london_test = train_test_split(london, test_size = .16, stratify = london[\"incident_group\"], random_state=42)"
   ]
  },
  {
   "cell_type": "code",
   "execution_count": 15,
   "id": "cf43b4de",
   "metadata": {},
   "outputs": [
    {
     "name": "stdout",
     "output_type": "stream",
     "text": [
      "(27087, 9)\n",
      "(5160, 9)\n"
     ]
    }
   ],
   "source": [
    "print(london_train.shape)\n",
    "print(london_test.shape)"
   ]
  },
  {
   "cell_type": "code",
   "execution_count": 16,
   "id": "1b712681",
   "metadata": {},
   "outputs": [
    {
     "data": {
      "text/html": [
       "<div>\n",
       "<style scoped>\n",
       "    .dataframe tbody tr th:only-of-type {\n",
       "        vertical-align: middle;\n",
       "    }\n",
       "\n",
       "    .dataframe tbody tr th {\n",
       "        vertical-align: top;\n",
       "    }\n",
       "\n",
       "    .dataframe thead th {\n",
       "        text-align: right;\n",
       "    }\n",
       "</style>\n",
       "<table border=\"1\" class=\"dataframe\">\n",
       "  <thead>\n",
       "    <tr style=\"text-align: right;\">\n",
       "      <th></th>\n",
       "      <th>incident_number</th>\n",
       "      <th>timestamp_of_call</th>\n",
       "      <th>incident_group</th>\n",
       "      <th>property_category</th>\n",
       "      <th>address_qualifier</th>\n",
       "      <th>borough_name</th>\n",
       "      <th>first_time</th>\n",
       "      <th>station_pumps</th>\n",
       "      <th>pumps_attending</th>\n",
       "    </tr>\n",
       "  </thead>\n",
       "  <tbody>\n",
       "    <tr>\n",
       "      <th>0</th>\n",
       "      <td>022356-23022017</td>\n",
       "      <td>2017-02-23 10:04:57+00:00</td>\n",
       "      <td>Emergency</td>\n",
       "      <td>Non Residential</td>\n",
       "      <td>Correct incident location</td>\n",
       "      <td>HILLINGDON</td>\n",
       "      <td>&lt;NA&gt;</td>\n",
       "      <td>1</td>\n",
       "      <td>1</td>\n",
       "    </tr>\n",
       "    <tr>\n",
       "      <th>1</th>\n",
       "      <td>037795-29032017</td>\n",
       "      <td>2017-03-29 21:15:30+00:00</td>\n",
       "      <td>Emergency</td>\n",
       "      <td>Road Vehicle</td>\n",
       "      <td>Nearby address - no building in street</td>\n",
       "      <td>HAMMERSMITH AND FULHAM</td>\n",
       "      <td>510</td>\n",
       "      <td>2</td>\n",
       "      <td>2</td>\n",
       "    </tr>\n",
       "    <tr>\n",
       "      <th>2</th>\n",
       "      <td>004382-10012017</td>\n",
       "      <td>2017-01-10 21:18:51+00:00</td>\n",
       "      <td>False Alarm</td>\n",
       "      <td>Road Vehicle</td>\n",
       "      <td>Nearby address - street not listed in gazetteer</td>\n",
       "      <td>NEWHAM</td>\n",
       "      <td>254</td>\n",
       "      <td>1</td>\n",
       "      <td>1</td>\n",
       "    </tr>\n",
       "    <tr>\n",
       "      <th>3</th>\n",
       "      <td>032077-17032017</td>\n",
       "      <td>2017-03-17 09:30:52+00:00</td>\n",
       "      <td>Emergency</td>\n",
       "      <td>Dwelling</td>\n",
       "      <td>Correct incident location</td>\n",
       "      <td>BARKING AND DAGENHAM</td>\n",
       "      <td>466</td>\n",
       "      <td>1</td>\n",
       "      <td>1</td>\n",
       "    </tr>\n",
       "    <tr>\n",
       "      <th>4</th>\n",
       "      <td>034280-22032017</td>\n",
       "      <td>2017-03-22 01:58:17+00:00</td>\n",
       "      <td>Emergency</td>\n",
       "      <td>Dwelling</td>\n",
       "      <td>Correct incident location</td>\n",
       "      <td>LEWISHAM</td>\n",
       "      <td>218</td>\n",
       "      <td>1</td>\n",
       "      <td>1</td>\n",
       "    </tr>\n",
       "  </tbody>\n",
       "</table>\n",
       "</div>"
      ],
      "text/plain": [
       "   incident_number         timestamp_of_call incident_group property_category  \\\n",
       "0  022356-23022017 2017-02-23 10:04:57+00:00      Emergency   Non Residential   \n",
       "1  037795-29032017 2017-03-29 21:15:30+00:00      Emergency      Road Vehicle   \n",
       "2  004382-10012017 2017-01-10 21:18:51+00:00    False Alarm      Road Vehicle   \n",
       "3  032077-17032017 2017-03-17 09:30:52+00:00      Emergency          Dwelling   \n",
       "4  034280-22032017 2017-03-22 01:58:17+00:00      Emergency          Dwelling   \n",
       "\n",
       "                                 address_qualifier            borough_name  \\\n",
       "0                        Correct incident location              HILLINGDON   \n",
       "1           Nearby address - no building in street  HAMMERSMITH AND FULHAM   \n",
       "2  Nearby address - street not listed in gazetteer                  NEWHAM   \n",
       "3                        Correct incident location    BARKING AND DAGENHAM   \n",
       "4                        Correct incident location                LEWISHAM   \n",
       "\n",
       "   first_time  station_pumps  pumps_attending  \n",
       "0        <NA>              1                1  \n",
       "1         510              2                2  \n",
       "2         254              1                1  \n",
       "3         466              1                1  \n",
       "4         218              1                1  "
      ]
     },
     "execution_count": 16,
     "metadata": {},
     "output_type": "execute_result"
    }
   ],
   "source": [
    "london_train.reset_index(drop=True, inplace = True)\n",
    "london_train.head()"
   ]
  },
  {
   "cell_type": "markdown",
   "id": "1e2bfb86",
   "metadata": {},
   "source": [
    "# Clean the Data"
   ]
  },
  {
   "cell_type": "markdown",
   "id": "d902285b",
   "metadata": {},
   "source": [
    "### Make indicator variable for Emergency outcome"
   ]
  },
  {
   "cell_type": "code",
   "execution_count": 17,
   "id": "8b92b1e5",
   "metadata": {},
   "outputs": [],
   "source": [
    "%%capture --no-stdout \n",
    "london_train[\"Emergency\"] = (london_train[\"incident_group\"] == \"Emergency\").astype(np.int64)"
   ]
  },
  {
   "cell_type": "code",
   "execution_count": 142,
   "id": "1c88220d",
   "metadata": {},
   "outputs": [],
   "source": [
    "#Change the objects variables to categorical\n",
    "#london_train.loc[:, london_train.dtypes == \"object\"] = london_train.select_dtypes([\"object\"]).apply(lambda x: x.astype(\"category\"))"
   ]
  },
  {
   "cell_type": "markdown",
   "id": "c31847ee",
   "metadata": {},
   "source": [
    "### Check for missing values"
   ]
  },
  {
   "cell_type": "code",
   "execution_count": 18,
   "id": "c980c6c2",
   "metadata": {},
   "outputs": [
    {
     "data": {
      "text/plain": [
       "incident_number         0\n",
       "timestamp_of_call       0\n",
       "incident_group          0\n",
       "property_category       0\n",
       "address_qualifier       0\n",
       "borough_name            0\n",
       "first_time           1518\n",
       "station_pumps          55\n",
       "pumps_attending        55\n",
       "Emergency               0\n",
       "dtype: int64"
      ]
     },
     "execution_count": 18,
     "metadata": {},
     "output_type": "execute_result"
    }
   ],
   "source": [
    "london_train.isnull().sum()"
   ]
  },
  {
   "cell_type": "markdown",
   "id": "bd976564",
   "metadata": {},
   "source": [
    "### Incident Number"
   ]
  },
  {
   "cell_type": "code",
   "execution_count": 19,
   "id": "4f1a3002",
   "metadata": {},
   "outputs": [
    {
     "data": {
      "text/plain": [
       "27087"
      ]
     },
     "execution_count": 19,
     "metadata": {},
     "output_type": "execute_result"
    }
   ],
   "source": [
    "#Number of observations\n",
    "london_train.shape[0]"
   ]
  },
  {
   "cell_type": "code",
   "execution_count": 20,
   "id": "60a1115a",
   "metadata": {},
   "outputs": [
    {
     "data": {
      "text/plain": [
       "27087"
      ]
     },
     "execution_count": 20,
     "metadata": {},
     "output_type": "execute_result"
    }
   ],
   "source": [
    "#Number of incidents\n",
    "len(london_train[\"incident_number\"].unique())"
   ]
  },
  {
   "cell_type": "markdown",
   "id": "0eb3ed53",
   "metadata": {},
   "source": [
    "As we'd hope, each observation in our data is a different reponse and there are no duplicates. "
   ]
  },
  {
   "cell_type": "markdown",
   "id": "6359f6d5",
   "metadata": {},
   "source": [
    "### Time"
   ]
  },
  {
   "cell_type": "code",
   "execution_count": 21,
   "id": "1816a1ac",
   "metadata": {},
   "outputs": [
    {
     "data": {
      "text/plain": [
       "0   2017-02-23 10:04:57+00:00\n",
       "1   2017-03-29 21:15:30+00:00\n",
       "2   2017-01-10 21:18:51+00:00\n",
       "3   2017-03-17 09:30:52+00:00\n",
       "4   2017-03-22 01:58:17+00:00\n",
       "Name: timestamp_of_call, dtype: datetime64[ns, UTC]"
      ]
     },
     "execution_count": 21,
     "metadata": {},
     "output_type": "execute_result"
    }
   ],
   "source": [
    "london_train[\"timestamp_of_call\"].head()"
   ]
  },
  {
   "cell_type": "markdown",
   "id": "0c03c98a",
   "metadata": {},
   "source": [
    "### Create a Month variable"
   ]
  },
  {
   "cell_type": "code",
   "execution_count": 22,
   "id": "395faa05",
   "metadata": {},
   "outputs": [],
   "source": [
    "%%capture --no-stdout\n",
    "london_train[\"Month\"] = london_train[\"timestamp_of_call\"].dt.month"
   ]
  },
  {
   "cell_type": "code",
   "execution_count": 23,
   "id": "eea3c815",
   "metadata": {},
   "outputs": [
    {
     "data": {
      "text/html": [
       "<div>\n",
       "<style scoped>\n",
       "    .dataframe tbody tr th:only-of-type {\n",
       "        vertical-align: middle;\n",
       "    }\n",
       "\n",
       "    .dataframe tbody tr th {\n",
       "        vertical-align: top;\n",
       "    }\n",
       "\n",
       "    .dataframe thead th {\n",
       "        text-align: right;\n",
       "    }\n",
       "</style>\n",
       "<table border=\"1\" class=\"dataframe\">\n",
       "  <thead>\n",
       "    <tr style=\"text-align: right;\">\n",
       "      <th></th>\n",
       "      <th>Month</th>\n",
       "      <th>Count</th>\n",
       "    </tr>\n",
       "  </thead>\n",
       "  <tbody>\n",
       "    <tr>\n",
       "      <th>1</th>\n",
       "      <td>1</td>\n",
       "      <td>6884</td>\n",
       "    </tr>\n",
       "    <tr>\n",
       "      <th>3</th>\n",
       "      <td>2</td>\n",
       "      <td>6149</td>\n",
       "    </tr>\n",
       "    <tr>\n",
       "      <th>2</th>\n",
       "      <td>3</td>\n",
       "      <td>6701</td>\n",
       "    </tr>\n",
       "    <tr>\n",
       "      <th>0</th>\n",
       "      <td>4</td>\n",
       "      <td>7353</td>\n",
       "    </tr>\n",
       "  </tbody>\n",
       "</table>\n",
       "</div>"
      ],
      "text/plain": [
       "   Month  Count\n",
       "1      1   6884\n",
       "3      2   6149\n",
       "2      3   6701\n",
       "0      4   7353"
      ]
     },
     "execution_count": 23,
     "metadata": {},
     "output_type": "execute_result"
    }
   ],
   "source": [
    "london_train[\"Month\"].value_counts().reset_index().rename(columns={\"index\":\"Month\", \"Month\":\"Count\"}).sort_values(by=\"Month\")"
   ]
  },
  {
   "cell_type": "code",
   "execution_count": 24,
   "id": "6a9f93a4",
   "metadata": {},
   "outputs": [],
   "source": [
    "def create_month(df):\n",
    "    \"\"\"\n",
    "    This function creates a column in the dataframe containing the month\n",
    "    \n",
    "    params:\n",
    "        df - dataframe with necessary columns\n",
    "    \"\"\"\n",
    "    df[\"Month\"] = df[\"timestamp_of_call\"].dt.month"
   ]
  },
  {
   "cell_type": "markdown",
   "id": "98305a30",
   "metadata": {},
   "source": [
    "### Create a Hour variable"
   ]
  },
  {
   "cell_type": "code",
   "execution_count": 25,
   "id": "5f5fec55",
   "metadata": {},
   "outputs": [],
   "source": [
    "%%capture --no-stdout\n",
    "london_train[\"Hour\"] = london_train[\"timestamp_of_call\"].dt.hour"
   ]
  },
  {
   "cell_type": "code",
   "execution_count": 26,
   "id": "6ec49ab4",
   "metadata": {},
   "outputs": [
    {
     "data": {
      "text/html": [
       "<div>\n",
       "<style scoped>\n",
       "    .dataframe tbody tr th:only-of-type {\n",
       "        vertical-align: middle;\n",
       "    }\n",
       "\n",
       "    .dataframe tbody tr th {\n",
       "        vertical-align: top;\n",
       "    }\n",
       "\n",
       "    .dataframe thead th {\n",
       "        text-align: right;\n",
       "    }\n",
       "</style>\n",
       "<table border=\"1\" class=\"dataframe\">\n",
       "  <thead>\n",
       "    <tr style=\"text-align: right;\">\n",
       "      <th></th>\n",
       "      <th>Hour</th>\n",
       "      <th>Count</th>\n",
       "    </tr>\n",
       "  </thead>\n",
       "  <tbody>\n",
       "    <tr>\n",
       "      <th>16</th>\n",
       "      <td>0</td>\n",
       "      <td>816</td>\n",
       "    </tr>\n",
       "    <tr>\n",
       "      <th>18</th>\n",
       "      <td>1</td>\n",
       "      <td>734</td>\n",
       "    </tr>\n",
       "    <tr>\n",
       "      <th>20</th>\n",
       "      <td>2</td>\n",
       "      <td>543</td>\n",
       "    </tr>\n",
       "    <tr>\n",
       "      <th>21</th>\n",
       "      <td>3</td>\n",
       "      <td>478</td>\n",
       "    </tr>\n",
       "    <tr>\n",
       "      <th>23</th>\n",
       "      <td>4</td>\n",
       "      <td>417</td>\n",
       "    </tr>\n",
       "    <tr>\n",
       "      <th>22</th>\n",
       "      <td>5</td>\n",
       "      <td>428</td>\n",
       "    </tr>\n",
       "    <tr>\n",
       "      <th>19</th>\n",
       "      <td>6</td>\n",
       "      <td>544</td>\n",
       "    </tr>\n",
       "    <tr>\n",
       "      <th>17</th>\n",
       "      <td>7</td>\n",
       "      <td>736</td>\n",
       "    </tr>\n",
       "    <tr>\n",
       "      <th>14</th>\n",
       "      <td>8</td>\n",
       "      <td>1007</td>\n",
       "    </tr>\n",
       "    <tr>\n",
       "      <th>12</th>\n",
       "      <td>9</td>\n",
       "      <td>1156</td>\n",
       "    </tr>\n",
       "    <tr>\n",
       "      <th>10</th>\n",
       "      <td>10</td>\n",
       "      <td>1275</td>\n",
       "    </tr>\n",
       "    <tr>\n",
       "      <th>9</th>\n",
       "      <td>11</td>\n",
       "      <td>1371</td>\n",
       "    </tr>\n",
       "    <tr>\n",
       "      <th>8</th>\n",
       "      <td>12</td>\n",
       "      <td>1398</td>\n",
       "    </tr>\n",
       "    <tr>\n",
       "      <th>7</th>\n",
       "      <td>13</td>\n",
       "      <td>1492</td>\n",
       "    </tr>\n",
       "    <tr>\n",
       "      <th>6</th>\n",
       "      <td>14</td>\n",
       "      <td>1515</td>\n",
       "    </tr>\n",
       "    <tr>\n",
       "      <th>3</th>\n",
       "      <td>15</td>\n",
       "      <td>1577</td>\n",
       "    </tr>\n",
       "    <tr>\n",
       "      <th>4</th>\n",
       "      <td>16</td>\n",
       "      <td>1566</td>\n",
       "    </tr>\n",
       "    <tr>\n",
       "      <th>2</th>\n",
       "      <td>17</td>\n",
       "      <td>1629</td>\n",
       "    </tr>\n",
       "    <tr>\n",
       "      <th>0</th>\n",
       "      <td>18</td>\n",
       "      <td>1834</td>\n",
       "    </tr>\n",
       "    <tr>\n",
       "      <th>1</th>\n",
       "      <td>19</td>\n",
       "      <td>1650</td>\n",
       "    </tr>\n",
       "    <tr>\n",
       "      <th>5</th>\n",
       "      <td>20</td>\n",
       "      <td>1557</td>\n",
       "    </tr>\n",
       "    <tr>\n",
       "      <th>11</th>\n",
       "      <td>21</td>\n",
       "      <td>1240</td>\n",
       "    </tr>\n",
       "    <tr>\n",
       "      <th>13</th>\n",
       "      <td>22</td>\n",
       "      <td>1135</td>\n",
       "    </tr>\n",
       "    <tr>\n",
       "      <th>15</th>\n",
       "      <td>23</td>\n",
       "      <td>989</td>\n",
       "    </tr>\n",
       "  </tbody>\n",
       "</table>\n",
       "</div>"
      ],
      "text/plain": [
       "    Hour  Count\n",
       "16     0    816\n",
       "18     1    734\n",
       "20     2    543\n",
       "21     3    478\n",
       "23     4    417\n",
       "22     5    428\n",
       "19     6    544\n",
       "17     7    736\n",
       "14     8   1007\n",
       "12     9   1156\n",
       "10    10   1275\n",
       "9     11   1371\n",
       "8     12   1398\n",
       "7     13   1492\n",
       "6     14   1515\n",
       "3     15   1577\n",
       "4     16   1566\n",
       "2     17   1629\n",
       "0     18   1834\n",
       "1     19   1650\n",
       "5     20   1557\n",
       "11    21   1240\n",
       "13    22   1135\n",
       "15    23    989"
      ]
     },
     "execution_count": 26,
     "metadata": {},
     "output_type": "execute_result"
    }
   ],
   "source": [
    "london_train[\"Hour\"].value_counts().reset_index().rename(columns={\"index\":\"Hour\", \"Hour\":\"Count\"}).sort_values(by=\"Hour\")"
   ]
  },
  {
   "cell_type": "code",
   "execution_count": 27,
   "id": "388a36bb",
   "metadata": {},
   "outputs": [],
   "source": [
    "def create_hour(df):\n",
    "    \"\"\"\n",
    "    This function creates a column in the dataframe containing the hour\n",
    "    \n",
    "    params:\n",
    "        df - dataframe with necessary columns\n",
    "    \"\"\"\n",
    "    df[\"Hour\"] = df[\"timestamp_of_call\"].dt.hour"
   ]
  },
  {
   "cell_type": "markdown",
   "id": "2d7cc79c",
   "metadata": {},
   "source": [
    "### Property Category"
   ]
  },
  {
   "cell_type": "code",
   "execution_count": 28,
   "id": "5995588f",
   "metadata": {},
   "outputs": [
    {
     "data": {
      "text/plain": [
       "Dwelling             12900\n",
       "Non Residential       6433\n",
       "Road Vehicle          2338\n",
       "Outdoor               2184\n",
       "Outdoor Structure     1663\n",
       "Other Residential     1514\n",
       "Aircraft                21\n",
       "Boat                    19\n",
       "Rail Vehicle            15\n",
       "Name: property_category, dtype: int64"
      ]
     },
     "execution_count": 28,
     "metadata": {},
     "output_type": "execute_result"
    }
   ],
   "source": [
    "london_train[\"property_category\"].value_counts()"
   ]
  },
  {
   "cell_type": "code",
   "execution_count": 29,
   "id": "ca50d09f",
   "metadata": {},
   "outputs": [],
   "source": [
    "warnings.filterwarnings('ignore')\n",
    "res = [\"Dwelling\", \"Other Residential\"]\n",
    "london_train[\"property_category\"].replace(res, \"Residential\", inplace = True)\n",
    "\n",
    "vehicle = [\"Road Vehicle\", \"Aircraft\", \"Boat\", \"Rail Vehicle\"]\n",
    "london_train[\"property_category\"].replace(vehicle, \"Vehicle\", inplace = True)\n",
    "\n",
    "london_train[\"property_category\"].replace(\"Outdoor Structure\", \"Outdoor\", inplace = True)"
   ]
  },
  {
   "cell_type": "code",
   "execution_count": 30,
   "id": "8fa528b1",
   "metadata": {},
   "outputs": [],
   "source": [
    "def merge_property(df):\n",
    "    \"\"\"\n",
    "    This function combines categories found in the property category variable\n",
    "    \n",
    "    params:\n",
    "        df - dataframe with the necessary variable\n",
    "        \n",
    "    \"\"\"\n",
    "    res = [\"Dwelling\", \"Other Residential\"]\n",
    "    df[\"property_category\"].replace(res, \"Residential\", inplace = True)\n",
    "\n",
    "    vehicle = [\"Road Vehicle\", \"Aircraft\", \"Boat\", \"Rail Vehicle\"]\n",
    "    df[\"property_category\"].replace(vehicle, \"Vehicle\", inplace = True)\n",
    "\n",
    "    df[\"property_category\"].replace(\"Outdoor Structure\", \"Outdoor\", inplace = True)\n",
    "    "
   ]
  },
  {
   "cell_type": "code",
   "execution_count": 31,
   "id": "2797bd7c",
   "metadata": {},
   "outputs": [
    {
     "data": {
      "text/plain": [
       "Residential        14414\n",
       "Non Residential     6433\n",
       "Outdoor             3847\n",
       "Vehicle             2393\n",
       "Name: property_category, dtype: int64"
      ]
     },
     "execution_count": 31,
     "metadata": {},
     "output_type": "execute_result"
    }
   ],
   "source": [
    "london_train[\"property_category\"].value_counts()"
   ]
  },
  {
   "cell_type": "markdown",
   "id": "c5c1e25d",
   "metadata": {},
   "source": [
    "### Address Qualifier"
   ]
  },
  {
   "cell_type": "code",
   "execution_count": 33,
   "id": "efb2efe4",
   "metadata": {},
   "outputs": [
    {
     "data": {
      "text/plain": [
       "Correct incident location                          16186\n",
       "Within same building                                4759\n",
       "In street outside gazetteer location                2194\n",
       "On land associated with building                    1763\n",
       "In street close to gazetteer location                940\n",
       "Open land/water - nearest gazetteer location         723\n",
       "On motorway / elevated road                          152\n",
       "Nearby address - no building in street               130\n",
       "Nearby address - street not listed in gazetteer      103\n",
       "In street remote from gazetteer location              96\n",
       "Railway land or rolling stock                         41\n",
       "Name: address_qualifier, dtype: int64"
      ]
     },
     "execution_count": 33,
     "metadata": {},
     "output_type": "execute_result"
    }
   ],
   "source": [
    "london_train[\"address_qualifier\"].value_counts()"
   ]
  },
  {
   "cell_type": "markdown",
   "id": "0e055645",
   "metadata": {},
   "source": [
    "There are not too many different categories for the address qualifier variable. We'll combine a few of them based on logical relationships. "
   ]
  },
  {
   "cell_type": "code",
   "execution_count": 34,
   "id": "42f5f675",
   "metadata": {},
   "outputs": [],
   "source": [
    "warnings.filterwarnings('ignore')\n",
    "street = [\"In street outside gazetteer location\", \"In street remote from gazetteer location\", \n",
    "          \"In street close to gazetteer location\", \"Open land/water - nearest gazetteer location\"]\n",
    "london_train[\"address_qualifier\"].replace(street, \"Gazetter\", inplace = True)\n",
    "\n",
    "nearby = [\"Nearby address - no building in street\", \"Nearby address - street not listed in gazetteer\"]\n",
    "london_train[\"address_qualifier\"].replace(nearby, \"Nearby Address\", inplace = True)\n",
    "\n",
    "other = [\"On motorway / elevated road\", \"Railway land or rolling stock\"]\n",
    "london_train[\"address_qualifier\"].replace(other, \"Other\", inplace = True)"
   ]
  },
  {
   "cell_type": "code",
   "execution_count": 35,
   "id": "bbb34518",
   "metadata": {},
   "outputs": [
    {
     "data": {
      "text/plain": [
       "Correct incident location           16186\n",
       "Within same building                 4759\n",
       "Gazetter                             3953\n",
       "On land associated with building     1763\n",
       "Nearby Address                        233\n",
       "Other                                 193\n",
       "Name: address_qualifier, dtype: int64"
      ]
     },
     "execution_count": 35,
     "metadata": {},
     "output_type": "execute_result"
    }
   ],
   "source": [
    "london_train[\"address_qualifier\"].value_counts()"
   ]
  },
  {
   "cell_type": "code",
   "execution_count": 36,
   "id": "354c4760",
   "metadata": {},
   "outputs": [],
   "source": [
    "def merge_address(df):\n",
    "    \"\"\"\n",
    "    This function combines some of the categories together in the address qualifier variable.\n",
    "    \n",
    "    params:\n",
    "        df - dataframe with the necessary columns\n",
    "        \n",
    "    \"\"\"\n",
    "    street = [\"In street outside gazetteer location\", \"In street remote from gazetteer location\", \n",
    "              \"In street close to gazetteer location\", \"Open land/water - nearest gazetteer location\"]\n",
    "    df[\"address_qualifier\"].replace(street, \"Gazetter\", inplace = True)\n",
    "\n",
    "    nearby = [\"Nearby address - no building in street\", \"Nearby address - street not listed in gazetteer\"]\n",
    "    df[\"address_qualifier\"].replace(nearby, \"Nearby Address\", inplace = True)\n",
    "\n",
    "    other = [\"On motorway / elevated road\", \"Railway land or rolling stock\"]\n",
    "    df[\"address_qualifier\"].replace(other, \"Other\", inplace = True)"
   ]
  },
  {
   "cell_type": "markdown",
   "id": "a1c0fb1e",
   "metadata": {},
   "source": [
    "### Borough Name"
   ]
  },
  {
   "cell_type": "code",
   "execution_count": 37,
   "id": "4a0fc3da",
   "metadata": {},
   "outputs": [
    {
     "data": {
      "text/plain": [
       "WESTMINSTER               2079\n",
       "CAMDEN                    1259\n",
       "SOUTHWARK                 1199\n",
       "LAMBETH                   1155\n",
       "TOWER HAMLETS             1133\n",
       "HACKNEY                    984\n",
       "CROYDON                    970\n",
       "LEWISHAM                   908\n",
       "NEWHAM                     894\n",
       "EALING                     885\n",
       "WANDSWORTH                 881\n",
       "HILLINGDON                 874\n",
       "BARNET                     866\n",
       "BRENT                      846\n",
       "GREENWICH                  844\n",
       "KENSINGTON AND CHELSEA     841\n",
       "ISLINGTON                  838\n",
       "ENFIELD                    836\n",
       "HAMMERSMITH AND FULHAM     762\n",
       "BROMLEY                    761\n",
       "HARINGEY                   747\n",
       "WALTHAM FOREST             737\n",
       "HOUNSLOW                   694\n",
       "HAVERING                   603\n",
       "REDBRIDGE                  599\n",
       "BEXLEY                     554\n",
       "BARKING AND DAGENHAM       547\n",
       "MERTON                     520\n",
       "RICHMOND UPON THAMES       473\n",
       "HARROW                     467\n",
       "SUTTON                     458\n",
       "KINGSTON UPON THAMES       411\n",
       "CITY OF LONDON             309\n",
       " NOT GEO-CODED             153\n",
       "Name: borough_name, dtype: int64"
      ]
     },
     "execution_count": 37,
     "metadata": {},
     "output_type": "execute_result"
    }
   ],
   "source": [
    "london_train[\"borough_name\"].value_counts()"
   ]
  },
  {
   "cell_type": "markdown",
   "id": "adec16a4",
   "metadata": {},
   "source": [
    "We see that there is one category, \"NOT GEO_CODED\" that needs to be cleaned up for the borough name variable. Let's check if it has a corresponding postcode. "
   ]
  },
  {
   "cell_type": "markdown",
   "id": "f94238dc",
   "metadata": {},
   "source": [
    "We see that the postcode won't be useful in finding the correct borough for the missing values. Let's look at the ward. "
   ]
  },
  {
   "cell_type": "code",
   "execution_count": 38,
   "id": "529d3187",
   "metadata": {},
   "outputs": [
    {
     "data": {
      "text/plain": [
       "borough_name  \n",
       " NOT GEO-CODED    153\n",
       "dtype: int64"
      ]
     },
     "execution_count": 38,
     "metadata": {},
     "output_type": "execute_result"
    }
   ],
   "source": [
    "london_train.loc[london_train[\"borough_name\"] == \" NOT GEO-CODED\", [\"borough_name\"]].value_counts()"
   ]
  },
  {
   "cell_type": "markdown",
   "id": "af834cda",
   "metadata": {},
   "source": [
    "We also see that every missing value for borough also has a corresponding missing value for ward. Therefore, we'll just drop the \"NOT GEO-CODED\" from borough. "
   ]
  },
  {
   "cell_type": "code",
   "execution_count": 39,
   "id": "5780f7af",
   "metadata": {},
   "outputs": [],
   "source": [
    "%%capture --no-stdout\n",
    "london_train[\"borough_name\"].replace(\" NOT GEO-CODED\", np.nan, inplace=True)\n",
    "london_train.dropna(subset=[\"borough_name\"], inplace = True)"
   ]
  },
  {
   "cell_type": "code",
   "execution_count": 40,
   "id": "a3d5e3a5",
   "metadata": {},
   "outputs": [
    {
     "data": {
      "text/plain": [
       "0"
      ]
     },
     "execution_count": 40,
     "metadata": {},
     "output_type": "execute_result"
    }
   ],
   "source": [
    "london_train[\"borough_name\"].isnull().sum()"
   ]
  },
  {
   "cell_type": "code",
   "execution_count": 41,
   "id": "e2cf29c8",
   "metadata": {},
   "outputs": [
    {
     "data": {
      "text/plain": [
       "33"
      ]
     },
     "execution_count": 41,
     "metadata": {},
     "output_type": "execute_result"
    }
   ],
   "source": [
    "#Total number of boroughs\n",
    "len(london_train[\"borough_name\"].unique())"
   ]
  },
  {
   "cell_type": "code",
   "execution_count": 42,
   "id": "4fd8ec59",
   "metadata": {},
   "outputs": [],
   "source": [
    "def drop_boroughs(df):\n",
    "    \"\"\"\n",
    "    This function drops the boroughs that have missing values\n",
    "    \"\"\"\n",
    "    df[\"borough_name\"].replace(\" NOT GEO-CODED\", np.nan, inplace=True)\n",
    "    df.dropna(subset=[\"borough_name\"], inplace = True)"
   ]
  },
  {
   "cell_type": "markdown",
   "id": "da4dc1e1",
   "metadata": {},
   "source": [
    "### First Pump Arriving Time"
   ]
  },
  {
   "cell_type": "code",
   "execution_count": 44,
   "id": "91e039c4",
   "metadata": {},
   "outputs": [
    {
     "data": {
      "text/plain": [
       "1371"
      ]
     },
     "execution_count": 44,
     "metadata": {},
     "output_type": "execute_result"
    }
   ],
   "source": [
    "london_train[\"first_time\"].isnull().sum()"
   ]
  },
  {
   "cell_type": "markdown",
   "id": "a64283b1",
   "metadata": {},
   "source": [
    "Before we impute the missing values with either a mean/median, we should look at the distribution to get a sense of the spread in arriving time. "
   ]
  },
  {
   "cell_type": "code",
   "execution_count": 45,
   "id": "99ba9eb3",
   "metadata": {},
   "outputs": [
    {
     "data": {
      "text/plain": [
       "count    25563.000000\n",
       "mean       317.597935\n",
       "std        135.584824\n",
       "min          2.000000\n",
       "25%        231.000000\n",
       "50%        298.000000\n",
       "75%        378.000000\n",
       "max       1196.000000\n",
       "Name: first_time, dtype: float64"
      ]
     },
     "execution_count": 45,
     "metadata": {},
     "output_type": "execute_result"
    }
   ],
   "source": [
    "london_train[\"first_time\"].describe()"
   ]
  },
  {
   "cell_type": "markdown",
   "id": "3b1a4396",
   "metadata": {},
   "source": [
    "We can see that mean and median are relatively close which is good, not too much skew. However, we see that the max value is 1,196 seconds which is more than 6 standard deviations away so quite unlikely. To be conservative, lets see how many arriving times are more than 4 standard deviations above the mean. "
   ]
  },
  {
   "cell_type": "code",
   "execution_count": 46,
   "id": "21e13cc7",
   "metadata": {},
   "outputs": [
    {
     "data": {
      "text/plain": [
       "859.9266234870261"
      ]
     },
     "execution_count": 46,
     "metadata": {},
     "output_type": "execute_result"
    }
   ],
   "source": [
    "pump_mean = np.mean(london_train[\"first_time\"])\n",
    "pump_std = np.std(london_train[\"first_time\"])\n",
    "#Any pump times above this should be flagged\n",
    "cutoff_time = pump_mean + 4*pump_std\n",
    "cutoff_time"
   ]
  },
  {
   "cell_type": "code",
   "execution_count": 47,
   "id": "3b6660de",
   "metadata": {},
   "outputs": [
    {
     "data": {
      "text/plain": [
       "(175, 12)"
      ]
     },
     "execution_count": 47,
     "metadata": {},
     "output_type": "execute_result"
    }
   ],
   "source": [
    "london_train.loc[london_train[\"first_time\"] > cutoff_time].shape"
   ]
  },
  {
   "cell_type": "code",
   "execution_count": 48,
   "id": "34274ce1",
   "metadata": {},
   "outputs": [
    {
     "data": {
      "text/html": [
       "<div>\n",
       "<style scoped>\n",
       "    .dataframe tbody tr th:only-of-type {\n",
       "        vertical-align: middle;\n",
       "    }\n",
       "\n",
       "    .dataframe tbody tr th {\n",
       "        vertical-align: top;\n",
       "    }\n",
       "\n",
       "    .dataframe thead th {\n",
       "        text-align: right;\n",
       "    }\n",
       "</style>\n",
       "<table border=\"1\" class=\"dataframe\">\n",
       "  <thead>\n",
       "    <tr style=\"text-align: right;\">\n",
       "      <th></th>\n",
       "      <th>incident_number</th>\n",
       "      <th>timestamp_of_call</th>\n",
       "      <th>incident_group</th>\n",
       "      <th>property_category</th>\n",
       "      <th>address_qualifier</th>\n",
       "      <th>borough_name</th>\n",
       "      <th>first_time</th>\n",
       "      <th>station_pumps</th>\n",
       "      <th>pumps_attending</th>\n",
       "      <th>Emergency</th>\n",
       "      <th>Month</th>\n",
       "      <th>Hour</th>\n",
       "    </tr>\n",
       "  </thead>\n",
       "  <tbody>\n",
       "    <tr>\n",
       "      <th>160</th>\n",
       "      <td>029602-11032017</td>\n",
       "      <td>2017-03-11 16:15:51+00:00</td>\n",
       "      <td>False Alarm</td>\n",
       "      <td>Vehicle</td>\n",
       "      <td>Nearby Address</td>\n",
       "      <td>EALING</td>\n",
       "      <td>860</td>\n",
       "      <td>1</td>\n",
       "      <td>1</td>\n",
       "      <td>0</td>\n",
       "      <td>3</td>\n",
       "      <td>16</td>\n",
       "    </tr>\n",
       "    <tr>\n",
       "      <th>631</th>\n",
       "      <td>016287-08022017</td>\n",
       "      <td>2017-02-08 10:43:32+00:00</td>\n",
       "      <td>False Alarm</td>\n",
       "      <td>Non Residential</td>\n",
       "      <td>Correct incident location</td>\n",
       "      <td>TOWER HAMLETS</td>\n",
       "      <td>924</td>\n",
       "      <td>1</td>\n",
       "      <td>1</td>\n",
       "      <td>0</td>\n",
       "      <td>2</td>\n",
       "      <td>10</td>\n",
       "    </tr>\n",
       "    <tr>\n",
       "      <th>636</th>\n",
       "      <td>001296-03012017</td>\n",
       "      <td>2017-01-03 19:23:32+00:00</td>\n",
       "      <td>False Alarm</td>\n",
       "      <td>Outdoor</td>\n",
       "      <td>Gazetter</td>\n",
       "      <td>ENFIELD</td>\n",
       "      <td>950</td>\n",
       "      <td>1</td>\n",
       "      <td>1</td>\n",
       "      <td>0</td>\n",
       "      <td>1</td>\n",
       "      <td>19</td>\n",
       "    </tr>\n",
       "    <tr>\n",
       "      <th>747</th>\n",
       "      <td>034387-22032017</td>\n",
       "      <td>2017-03-22 11:35:14+00:00</td>\n",
       "      <td>False Alarm</td>\n",
       "      <td>Residential</td>\n",
       "      <td>Nearby Address</td>\n",
       "      <td>BRENT</td>\n",
       "      <td>1041</td>\n",
       "      <td>2</td>\n",
       "      <td>3</td>\n",
       "      <td>0</td>\n",
       "      <td>3</td>\n",
       "      <td>11</td>\n",
       "    </tr>\n",
       "    <tr>\n",
       "      <th>1168</th>\n",
       "      <td>006149-15012017</td>\n",
       "      <td>2017-01-15 13:57:01+00:00</td>\n",
       "      <td>Emergency</td>\n",
       "      <td>Residential</td>\n",
       "      <td>Correct incident location</td>\n",
       "      <td>MERTON</td>\n",
       "      <td>1037</td>\n",
       "      <td>1</td>\n",
       "      <td>1</td>\n",
       "      <td>1</td>\n",
       "      <td>1</td>\n",
       "      <td>13</td>\n",
       "    </tr>\n",
       "  </tbody>\n",
       "</table>\n",
       "</div>"
      ],
      "text/plain": [
       "      incident_number         timestamp_of_call incident_group  \\\n",
       "160   029602-11032017 2017-03-11 16:15:51+00:00    False Alarm   \n",
       "631   016287-08022017 2017-02-08 10:43:32+00:00    False Alarm   \n",
       "636   001296-03012017 2017-01-03 19:23:32+00:00    False Alarm   \n",
       "747   034387-22032017 2017-03-22 11:35:14+00:00    False Alarm   \n",
       "1168  006149-15012017 2017-01-15 13:57:01+00:00      Emergency   \n",
       "\n",
       "     property_category          address_qualifier   borough_name  first_time  \\\n",
       "160            Vehicle             Nearby Address         EALING         860   \n",
       "631    Non Residential  Correct incident location  TOWER HAMLETS         924   \n",
       "636            Outdoor                   Gazetter        ENFIELD         950   \n",
       "747        Residential             Nearby Address          BRENT        1041   \n",
       "1168       Residential  Correct incident location         MERTON        1037   \n",
       "\n",
       "      station_pumps  pumps_attending  Emergency  Month  Hour  \n",
       "160               1                1          0      3    16  \n",
       "631               1                1          0      2    10  \n",
       "636               1                1          0      1    19  \n",
       "747               2                3          0      3    11  \n",
       "1168              1                1          1      1    13  "
      ]
     },
     "execution_count": 48,
     "metadata": {},
     "output_type": "execute_result"
    }
   ],
   "source": [
    "london_train.loc[london_train[\"first_time\"] > cutoff_time].head()"
   ]
  },
  {
   "cell_type": "markdown",
   "id": "78819f69",
   "metadata": {},
   "source": [
    "We can go ahead and drop those times that are more than 4 standard deviations above the mean arriving time. "
   ]
  },
  {
   "cell_type": "code",
   "execution_count": 49,
   "id": "32482588",
   "metadata": {},
   "outputs": [],
   "source": [
    "london_train = london_train.loc[(london_train[\"first_time\"] < cutoff_time) | london_train[\"first_time\"].isnull()]"
   ]
  },
  {
   "cell_type": "code",
   "execution_count": 50,
   "id": "77a06a53",
   "metadata": {},
   "outputs": [
    {
     "data": {
      "text/plain": [
       "(26759, 12)"
      ]
     },
     "execution_count": 50,
     "metadata": {},
     "output_type": "execute_result"
    }
   ],
   "source": [
    "london_train.shape"
   ]
  },
  {
   "cell_type": "markdown",
   "id": "ada524d3",
   "metadata": {},
   "source": [
    "Now we can go ahead and impute the missing values. "
   ]
  },
  {
   "cell_type": "code",
   "execution_count": 51,
   "id": "619765dd",
   "metadata": {},
   "outputs": [
    {
     "data": {
      "text/html": [
       "<div>\n",
       "<style scoped>\n",
       "    .dataframe tbody tr th:only-of-type {\n",
       "        vertical-align: middle;\n",
       "    }\n",
       "\n",
       "    .dataframe tbody tr th {\n",
       "        vertical-align: top;\n",
       "    }\n",
       "\n",
       "    .dataframe thead th {\n",
       "        text-align: right;\n",
       "    }\n",
       "</style>\n",
       "<table border=\"1\" class=\"dataframe\">\n",
       "  <thead>\n",
       "    <tr style=\"text-align: right;\">\n",
       "      <th></th>\n",
       "      <th>incident_number</th>\n",
       "      <th>timestamp_of_call</th>\n",
       "      <th>incident_group</th>\n",
       "      <th>property_category</th>\n",
       "      <th>address_qualifier</th>\n",
       "      <th>borough_name</th>\n",
       "      <th>first_time</th>\n",
       "      <th>station_pumps</th>\n",
       "      <th>pumps_attending</th>\n",
       "      <th>Emergency</th>\n",
       "      <th>Month</th>\n",
       "      <th>Hour</th>\n",
       "    </tr>\n",
       "  </thead>\n",
       "  <tbody>\n",
       "    <tr>\n",
       "      <th>1</th>\n",
       "      <td>037795-29032017</td>\n",
       "      <td>2017-03-29 21:15:30+00:00</td>\n",
       "      <td>Emergency</td>\n",
       "      <td>Vehicle</td>\n",
       "      <td>Nearby Address</td>\n",
       "      <td>HAMMERSMITH AND FULHAM</td>\n",
       "      <td>510</td>\n",
       "      <td>2</td>\n",
       "      <td>2</td>\n",
       "      <td>1</td>\n",
       "      <td>3</td>\n",
       "      <td>21</td>\n",
       "    </tr>\n",
       "    <tr>\n",
       "      <th>2</th>\n",
       "      <td>004382-10012017</td>\n",
       "      <td>2017-01-10 21:18:51+00:00</td>\n",
       "      <td>False Alarm</td>\n",
       "      <td>Vehicle</td>\n",
       "      <td>Nearby Address</td>\n",
       "      <td>NEWHAM</td>\n",
       "      <td>254</td>\n",
       "      <td>1</td>\n",
       "      <td>1</td>\n",
       "      <td>0</td>\n",
       "      <td>1</td>\n",
       "      <td>21</td>\n",
       "    </tr>\n",
       "    <tr>\n",
       "      <th>3</th>\n",
       "      <td>032077-17032017</td>\n",
       "      <td>2017-03-17 09:30:52+00:00</td>\n",
       "      <td>Emergency</td>\n",
       "      <td>Residential</td>\n",
       "      <td>Correct incident location</td>\n",
       "      <td>BARKING AND DAGENHAM</td>\n",
       "      <td>466</td>\n",
       "      <td>1</td>\n",
       "      <td>1</td>\n",
       "      <td>1</td>\n",
       "      <td>3</td>\n",
       "      <td>9</td>\n",
       "    </tr>\n",
       "    <tr>\n",
       "      <th>4</th>\n",
       "      <td>034280-22032017</td>\n",
       "      <td>2017-03-22 01:58:17+00:00</td>\n",
       "      <td>Emergency</td>\n",
       "      <td>Residential</td>\n",
       "      <td>Correct incident location</td>\n",
       "      <td>LEWISHAM</td>\n",
       "      <td>218</td>\n",
       "      <td>1</td>\n",
       "      <td>1</td>\n",
       "      <td>1</td>\n",
       "      <td>3</td>\n",
       "      <td>1</td>\n",
       "    </tr>\n",
       "    <tr>\n",
       "      <th>5</th>\n",
       "      <td>023171-24022017</td>\n",
       "      <td>2017-02-24 08:21:47+00:00</td>\n",
       "      <td>False Alarm</td>\n",
       "      <td>Non Residential</td>\n",
       "      <td>Correct incident location</td>\n",
       "      <td>HACKNEY</td>\n",
       "      <td>251</td>\n",
       "      <td>1</td>\n",
       "      <td>1</td>\n",
       "      <td>0</td>\n",
       "      <td>2</td>\n",
       "      <td>8</td>\n",
       "    </tr>\n",
       "  </tbody>\n",
       "</table>\n",
       "</div>"
      ],
      "text/plain": [
       "   incident_number         timestamp_of_call incident_group property_category  \\\n",
       "1  037795-29032017 2017-03-29 21:15:30+00:00      Emergency           Vehicle   \n",
       "2  004382-10012017 2017-01-10 21:18:51+00:00    False Alarm           Vehicle   \n",
       "3  032077-17032017 2017-03-17 09:30:52+00:00      Emergency       Residential   \n",
       "4  034280-22032017 2017-03-22 01:58:17+00:00      Emergency       Residential   \n",
       "5  023171-24022017 2017-02-24 08:21:47+00:00    False Alarm   Non Residential   \n",
       "\n",
       "           address_qualifier            borough_name  first_time  \\\n",
       "1             Nearby Address  HAMMERSMITH AND FULHAM         510   \n",
       "2             Nearby Address                  NEWHAM         254   \n",
       "3  Correct incident location    BARKING AND DAGENHAM         466   \n",
       "4  Correct incident location                LEWISHAM         218   \n",
       "5  Correct incident location                 HACKNEY         251   \n",
       "\n",
       "   station_pumps  pumps_attending  Emergency  Month  Hour  \n",
       "1              2                2          1      3    21  \n",
       "2              1                1          0      1    21  \n",
       "3              1                1          1      3     9  \n",
       "4              1                1          1      3     1  \n",
       "5              1                1          0      2     8  "
      ]
     },
     "execution_count": 51,
     "metadata": {},
     "output_type": "execute_result"
    }
   ],
   "source": [
    "london_train.loc[london_train[\"first_time\"].notnull()].head()"
   ]
  },
  {
   "cell_type": "markdown",
   "id": "c82dcc61",
   "metadata": {},
   "source": [
    "We can impute the mean by using which station the first pump came from. "
   ]
  },
  {
   "cell_type": "code",
   "execution_count": 53,
   "id": "d89e3e7b",
   "metadata": {},
   "outputs": [
    {
     "data": {
      "text/html": [
       "<div>\n",
       "<style scoped>\n",
       "    .dataframe tbody tr th:only-of-type {\n",
       "        vertical-align: middle;\n",
       "    }\n",
       "\n",
       "    .dataframe tbody tr th {\n",
       "        vertical-align: top;\n",
       "    }\n",
       "\n",
       "    .dataframe thead th {\n",
       "        text-align: right;\n",
       "    }\n",
       "</style>\n",
       "<table border=\"1\" class=\"dataframe\">\n",
       "  <thead>\n",
       "    <tr style=\"text-align: right;\">\n",
       "      <th></th>\n",
       "      <th>borough_name</th>\n",
       "      <th>median</th>\n",
       "      <th>mean</th>\n",
       "      <th>std</th>\n",
       "      <th>max</th>\n",
       "      <th>min</th>\n",
       "      <th>count</th>\n",
       "    </tr>\n",
       "  </thead>\n",
       "  <tbody>\n",
       "    <tr>\n",
       "      <th>0</th>\n",
       "      <td>HILLINGDON</td>\n",
       "      <td>350.0</td>\n",
       "      <td>363.32304</td>\n",
       "      <td>133.810193</td>\n",
       "      <td>858</td>\n",
       "      <td>2</td>\n",
       "      <td>842</td>\n",
       "    </tr>\n",
       "    <tr>\n",
       "      <th>1</th>\n",
       "      <td>BROMLEY</td>\n",
       "      <td>348.0</td>\n",
       "      <td>358.53719</td>\n",
       "      <td>142.814896</td>\n",
       "      <td>829</td>\n",
       "      <td>3</td>\n",
       "      <td>726</td>\n",
       "    </tr>\n",
       "    <tr>\n",
       "      <th>2</th>\n",
       "      <td>ENFIELD</td>\n",
       "      <td>336.0</td>\n",
       "      <td>356.557814</td>\n",
       "      <td>136.218271</td>\n",
       "      <td>854</td>\n",
       "      <td>4</td>\n",
       "      <td>787</td>\n",
       "    </tr>\n",
       "    <tr>\n",
       "      <th>3</th>\n",
       "      <td>HARROW</td>\n",
       "      <td>323.5</td>\n",
       "      <td>348.122768</td>\n",
       "      <td>124.775523</td>\n",
       "      <td>850</td>\n",
       "      <td>85</td>\n",
       "      <td>448</td>\n",
       "    </tr>\n",
       "    <tr>\n",
       "      <th>4</th>\n",
       "      <td>REDBRIDGE</td>\n",
       "      <td>324.0</td>\n",
       "      <td>344.755712</td>\n",
       "      <td>136.723036</td>\n",
       "      <td>855</td>\n",
       "      <td>4</td>\n",
       "      <td>569</td>\n",
       "    </tr>\n",
       "    <tr>\n",
       "      <th>5</th>\n",
       "      <td>BEXLEY</td>\n",
       "      <td>334.0</td>\n",
       "      <td>343.16129</td>\n",
       "      <td>132.456014</td>\n",
       "      <td>823</td>\n",
       "      <td>3</td>\n",
       "      <td>527</td>\n",
       "    </tr>\n",
       "    <tr>\n",
       "      <th>6</th>\n",
       "      <td>HAVERING</td>\n",
       "      <td>317.0</td>\n",
       "      <td>340.963478</td>\n",
       "      <td>131.072647</td>\n",
       "      <td>852</td>\n",
       "      <td>3</td>\n",
       "      <td>575</td>\n",
       "    </tr>\n",
       "    <tr>\n",
       "      <th>7</th>\n",
       "      <td>BARNET</td>\n",
       "      <td>325.0</td>\n",
       "      <td>337.756919</td>\n",
       "      <td>116.370994</td>\n",
       "      <td>819</td>\n",
       "      <td>3</td>\n",
       "      <td>831</td>\n",
       "    </tr>\n",
       "    <tr>\n",
       "      <th>8</th>\n",
       "      <td>BRENT</td>\n",
       "      <td>319.0</td>\n",
       "      <td>337.333747</td>\n",
       "      <td>120.643498</td>\n",
       "      <td>838</td>\n",
       "      <td>6</td>\n",
       "      <td>806</td>\n",
       "    </tr>\n",
       "    <tr>\n",
       "      <th>9</th>\n",
       "      <td>RICHMOND UPON THAMES</td>\n",
       "      <td>328.5</td>\n",
       "      <td>335.398268</td>\n",
       "      <td>126.246967</td>\n",
       "      <td>836</td>\n",
       "      <td>3</td>\n",
       "      <td>462</td>\n",
       "    </tr>\n",
       "    <tr>\n",
       "      <th>10</th>\n",
       "      <td>BARKING AND DAGENHAM</td>\n",
       "      <td>321.0</td>\n",
       "      <td>329.86444</td>\n",
       "      <td>113.465747</td>\n",
       "      <td>804</td>\n",
       "      <td>24</td>\n",
       "      <td>509</td>\n",
       "    </tr>\n",
       "    <tr>\n",
       "      <th>11</th>\n",
       "      <td>MERTON</td>\n",
       "      <td>307.0</td>\n",
       "      <td>326.014141</td>\n",
       "      <td>130.376929</td>\n",
       "      <td>836</td>\n",
       "      <td>2</td>\n",
       "      <td>495</td>\n",
       "    </tr>\n",
       "    <tr>\n",
       "      <th>12</th>\n",
       "      <td>GREENWICH</td>\n",
       "      <td>303.0</td>\n",
       "      <td>323.742675</td>\n",
       "      <td>129.922465</td>\n",
       "      <td>849</td>\n",
       "      <td>7</td>\n",
       "      <td>785</td>\n",
       "    </tr>\n",
       "    <tr>\n",
       "      <th>13</th>\n",
       "      <td>SUTTON</td>\n",
       "      <td>314.5</td>\n",
       "      <td>323.075</td>\n",
       "      <td>113.456328</td>\n",
       "      <td>819</td>\n",
       "      <td>3</td>\n",
       "      <td>440</td>\n",
       "    </tr>\n",
       "    <tr>\n",
       "      <th>14</th>\n",
       "      <td>HOUNSLOW</td>\n",
       "      <td>317.0</td>\n",
       "      <td>322.046225</td>\n",
       "      <td>123.665685</td>\n",
       "      <td>819</td>\n",
       "      <td>3</td>\n",
       "      <td>649</td>\n",
       "    </tr>\n",
       "    <tr>\n",
       "      <th>15</th>\n",
       "      <td>KINGSTON UPON THAMES</td>\n",
       "      <td>298.0</td>\n",
       "      <td>321.989924</td>\n",
       "      <td>128.148391</td>\n",
       "      <td>828</td>\n",
       "      <td>33</td>\n",
       "      <td>397</td>\n",
       "    </tr>\n",
       "    <tr>\n",
       "      <th>16</th>\n",
       "      <td>EALING</td>\n",
       "      <td>297.0</td>\n",
       "      <td>318.980838</td>\n",
       "      <td>133.463293</td>\n",
       "      <td>831</td>\n",
       "      <td>8</td>\n",
       "      <td>835</td>\n",
       "    </tr>\n",
       "    <tr>\n",
       "      <th>17</th>\n",
       "      <td>HARINGEY</td>\n",
       "      <td>307.0</td>\n",
       "      <td>315.175</td>\n",
       "      <td>119.264365</td>\n",
       "      <td>833</td>\n",
       "      <td>2</td>\n",
       "      <td>720</td>\n",
       "    </tr>\n",
       "    <tr>\n",
       "      <th>18</th>\n",
       "      <td>NEWHAM</td>\n",
       "      <td>298.0</td>\n",
       "      <td>312.356197</td>\n",
       "      <td>121.272096</td>\n",
       "      <td>858</td>\n",
       "      <td>3</td>\n",
       "      <td>831</td>\n",
       "    </tr>\n",
       "    <tr>\n",
       "      <th>19</th>\n",
       "      <td>CROYDON</td>\n",
       "      <td>294.0</td>\n",
       "      <td>309.842781</td>\n",
       "      <td>125.349566</td>\n",
       "      <td>834</td>\n",
       "      <td>3</td>\n",
       "      <td>935</td>\n",
       "    </tr>\n",
       "    <tr>\n",
       "      <th>20</th>\n",
       "      <td>WESTMINSTER</td>\n",
       "      <td>287.0</td>\n",
       "      <td>307.897344</td>\n",
       "      <td>117.486590</td>\n",
       "      <td>829</td>\n",
       "      <td>3</td>\n",
       "      <td>1958</td>\n",
       "    </tr>\n",
       "    <tr>\n",
       "      <th>21</th>\n",
       "      <td>CAMDEN</td>\n",
       "      <td>294.0</td>\n",
       "      <td>305.395428</td>\n",
       "      <td>122.561255</td>\n",
       "      <td>823</td>\n",
       "      <td>3</td>\n",
       "      <td>1181</td>\n",
       "    </tr>\n",
       "    <tr>\n",
       "      <th>22</th>\n",
       "      <td>CITY OF LONDON</td>\n",
       "      <td>282.0</td>\n",
       "      <td>302.962712</td>\n",
       "      <td>120.135250</td>\n",
       "      <td>813</td>\n",
       "      <td>3</td>\n",
       "      <td>295</td>\n",
       "    </tr>\n",
       "    <tr>\n",
       "      <th>23</th>\n",
       "      <td>WALTHAM FOREST</td>\n",
       "      <td>277.0</td>\n",
       "      <td>297.329149</td>\n",
       "      <td>128.891375</td>\n",
       "      <td>850</td>\n",
       "      <td>2</td>\n",
       "      <td>717</td>\n",
       "    </tr>\n",
       "    <tr>\n",
       "      <th>24</th>\n",
       "      <td>HAMMERSMITH AND FULHAM</td>\n",
       "      <td>283.0</td>\n",
       "      <td>296.808219</td>\n",
       "      <td>114.163764</td>\n",
       "      <td>816</td>\n",
       "      <td>3</td>\n",
       "      <td>730</td>\n",
       "    </tr>\n",
       "    <tr>\n",
       "      <th>25</th>\n",
       "      <td>SOUTHWARK</td>\n",
       "      <td>278.0</td>\n",
       "      <td>293.485533</td>\n",
       "      <td>108.631888</td>\n",
       "      <td>848</td>\n",
       "      <td>3</td>\n",
       "      <td>1106</td>\n",
       "    </tr>\n",
       "    <tr>\n",
       "      <th>26</th>\n",
       "      <td>WANDSWORTH</td>\n",
       "      <td>278.0</td>\n",
       "      <td>291.989273</td>\n",
       "      <td>109.225615</td>\n",
       "      <td>845</td>\n",
       "      <td>4</td>\n",
       "      <td>839</td>\n",
       "    </tr>\n",
       "    <tr>\n",
       "      <th>27</th>\n",
       "      <td>HACKNEY</td>\n",
       "      <td>279.0</td>\n",
       "      <td>290.956032</td>\n",
       "      <td>114.075711</td>\n",
       "      <td>803</td>\n",
       "      <td>2</td>\n",
       "      <td>887</td>\n",
       "    </tr>\n",
       "    <tr>\n",
       "      <th>28</th>\n",
       "      <td>LEWISHAM</td>\n",
       "      <td>270.0</td>\n",
       "      <td>285.384971</td>\n",
       "      <td>117.563885</td>\n",
       "      <td>831</td>\n",
       "      <td>3</td>\n",
       "      <td>865</td>\n",
       "    </tr>\n",
       "    <tr>\n",
       "      <th>29</th>\n",
       "      <td>ISLINGTON</td>\n",
       "      <td>265.0</td>\n",
       "      <td>279.884319</td>\n",
       "      <td>107.154849</td>\n",
       "      <td>859</td>\n",
       "      <td>2</td>\n",
       "      <td>778</td>\n",
       "    </tr>\n",
       "    <tr>\n",
       "      <th>30</th>\n",
       "      <td>LAMBETH</td>\n",
       "      <td>262.0</td>\n",
       "      <td>277.077947</td>\n",
       "      <td>112.510905</td>\n",
       "      <td>850</td>\n",
       "      <td>2</td>\n",
       "      <td>1052</td>\n",
       "    </tr>\n",
       "    <tr>\n",
       "      <th>31</th>\n",
       "      <td>TOWER HAMLETS</td>\n",
       "      <td>265.0</td>\n",
       "      <td>276.55848</td>\n",
       "      <td>106.198659</td>\n",
       "      <td>781</td>\n",
       "      <td>2</td>\n",
       "      <td>1026</td>\n",
       "    </tr>\n",
       "    <tr>\n",
       "      <th>32</th>\n",
       "      <td>KENSINGTON AND CHELSEA</td>\n",
       "      <td>250.0</td>\n",
       "      <td>263.932484</td>\n",
       "      <td>100.224018</td>\n",
       "      <td>754</td>\n",
       "      <td>3</td>\n",
       "      <td>785</td>\n",
       "    </tr>\n",
       "  </tbody>\n",
       "</table>\n",
       "</div>"
      ],
      "text/plain": [
       "              borough_name  median        mean         std  max  min  count\n",
       "0               HILLINGDON   350.0   363.32304  133.810193  858    2    842\n",
       "1                  BROMLEY   348.0   358.53719  142.814896  829    3    726\n",
       "2                  ENFIELD   336.0  356.557814  136.218271  854    4    787\n",
       "3                   HARROW   323.5  348.122768  124.775523  850   85    448\n",
       "4                REDBRIDGE   324.0  344.755712  136.723036  855    4    569\n",
       "5                   BEXLEY   334.0   343.16129  132.456014  823    3    527\n",
       "6                 HAVERING   317.0  340.963478  131.072647  852    3    575\n",
       "7                   BARNET   325.0  337.756919  116.370994  819    3    831\n",
       "8                    BRENT   319.0  337.333747  120.643498  838    6    806\n",
       "9     RICHMOND UPON THAMES   328.5  335.398268  126.246967  836    3    462\n",
       "10    BARKING AND DAGENHAM   321.0   329.86444  113.465747  804   24    509\n",
       "11                  MERTON   307.0  326.014141  130.376929  836    2    495\n",
       "12               GREENWICH   303.0  323.742675  129.922465  849    7    785\n",
       "13                  SUTTON   314.5     323.075  113.456328  819    3    440\n",
       "14                HOUNSLOW   317.0  322.046225  123.665685  819    3    649\n",
       "15    KINGSTON UPON THAMES   298.0  321.989924  128.148391  828   33    397\n",
       "16                  EALING   297.0  318.980838  133.463293  831    8    835\n",
       "17                HARINGEY   307.0     315.175  119.264365  833    2    720\n",
       "18                  NEWHAM   298.0  312.356197  121.272096  858    3    831\n",
       "19                 CROYDON   294.0  309.842781  125.349566  834    3    935\n",
       "20             WESTMINSTER   287.0  307.897344  117.486590  829    3   1958\n",
       "21                  CAMDEN   294.0  305.395428  122.561255  823    3   1181\n",
       "22          CITY OF LONDON   282.0  302.962712  120.135250  813    3    295\n",
       "23          WALTHAM FOREST   277.0  297.329149  128.891375  850    2    717\n",
       "24  HAMMERSMITH AND FULHAM   283.0  296.808219  114.163764  816    3    730\n",
       "25               SOUTHWARK   278.0  293.485533  108.631888  848    3   1106\n",
       "26              WANDSWORTH   278.0  291.989273  109.225615  845    4    839\n",
       "27                 HACKNEY   279.0  290.956032  114.075711  803    2    887\n",
       "28                LEWISHAM   270.0  285.384971  117.563885  831    3    865\n",
       "29               ISLINGTON   265.0  279.884319  107.154849  859    2    778\n",
       "30                 LAMBETH   262.0  277.077947  112.510905  850    2   1052\n",
       "31           TOWER HAMLETS   265.0   276.55848  106.198659  781    2   1026\n",
       "32  KENSINGTON AND CHELSEA   250.0  263.932484  100.224018  754    3    785"
      ]
     },
     "execution_count": 53,
     "metadata": {},
     "output_type": "execute_result"
    }
   ],
   "source": [
    "#Group by property type and summarize by the Emergency variable\n",
    "pump_time_grp = london_train.groupby(\"borough_name\")[\"first_time\"]\\\n",
    "                        .aggregate([\"median\",\"mean\", \"std\", \"max\", \"min\",\"count\"])\\\n",
    "                        .sort_values(by=\"mean\", ascending=False)\n",
    "pump_time_grp.reset_index(inplace = True)\n",
    "pump_time_grp"
   ]
  },
  {
   "cell_type": "code",
   "execution_count": 54,
   "id": "371008bf",
   "metadata": {},
   "outputs": [],
   "source": [
    "london_train[\"first_time\"] = london_train[\"first_time\"].astype(np.float64)\n",
    "london_train[\"first_time\"] = london_train.groupby(\"borough_name\")[\"first_time\"].\\\n",
    "                                                transform(lambda grp: grp.fillna(np.mean(grp)))"
   ]
  },
  {
   "cell_type": "code",
   "execution_count": 55,
   "id": "ab1556d4",
   "metadata": {},
   "outputs": [
    {
     "data": {
      "text/plain": [
       "0"
      ]
     },
     "execution_count": 55,
     "metadata": {},
     "output_type": "execute_result"
    }
   ],
   "source": [
    "london_train[\"first_time\"].isnull().sum()"
   ]
  },
  {
   "cell_type": "code",
   "execution_count": 56,
   "id": "fd05b937",
   "metadata": {},
   "outputs": [
    {
     "data": {
      "text/html": [
       "<div>\n",
       "<style scoped>\n",
       "    .dataframe tbody tr th:only-of-type {\n",
       "        vertical-align: middle;\n",
       "    }\n",
       "\n",
       "    .dataframe tbody tr th {\n",
       "        vertical-align: top;\n",
       "    }\n",
       "\n",
       "    .dataframe thead th {\n",
       "        text-align: right;\n",
       "    }\n",
       "</style>\n",
       "<table border=\"1\" class=\"dataframe\">\n",
       "  <thead>\n",
       "    <tr style=\"text-align: right;\">\n",
       "      <th></th>\n",
       "      <th>incident_number</th>\n",
       "      <th>timestamp_of_call</th>\n",
       "      <th>incident_group</th>\n",
       "      <th>property_category</th>\n",
       "      <th>address_qualifier</th>\n",
       "      <th>borough_name</th>\n",
       "      <th>first_time</th>\n",
       "      <th>station_pumps</th>\n",
       "      <th>pumps_attending</th>\n",
       "      <th>Emergency</th>\n",
       "      <th>Month</th>\n",
       "      <th>Hour</th>\n",
       "    </tr>\n",
       "  </thead>\n",
       "  <tbody>\n",
       "    <tr>\n",
       "      <th>0</th>\n",
       "      <td>022356-23022017</td>\n",
       "      <td>2017-02-23 10:04:57+00:00</td>\n",
       "      <td>Emergency</td>\n",
       "      <td>Non Residential</td>\n",
       "      <td>Correct incident location</td>\n",
       "      <td>HILLINGDON</td>\n",
       "      <td>363.32304</td>\n",
       "      <td>1</td>\n",
       "      <td>1</td>\n",
       "      <td>1</td>\n",
       "      <td>2</td>\n",
       "      <td>10</td>\n",
       "    </tr>\n",
       "    <tr>\n",
       "      <th>1</th>\n",
       "      <td>037795-29032017</td>\n",
       "      <td>2017-03-29 21:15:30+00:00</td>\n",
       "      <td>Emergency</td>\n",
       "      <td>Vehicle</td>\n",
       "      <td>Nearby Address</td>\n",
       "      <td>HAMMERSMITH AND FULHAM</td>\n",
       "      <td>510.00000</td>\n",
       "      <td>2</td>\n",
       "      <td>2</td>\n",
       "      <td>1</td>\n",
       "      <td>3</td>\n",
       "      <td>21</td>\n",
       "    </tr>\n",
       "    <tr>\n",
       "      <th>2</th>\n",
       "      <td>004382-10012017</td>\n",
       "      <td>2017-01-10 21:18:51+00:00</td>\n",
       "      <td>False Alarm</td>\n",
       "      <td>Vehicle</td>\n",
       "      <td>Nearby Address</td>\n",
       "      <td>NEWHAM</td>\n",
       "      <td>254.00000</td>\n",
       "      <td>1</td>\n",
       "      <td>1</td>\n",
       "      <td>0</td>\n",
       "      <td>1</td>\n",
       "      <td>21</td>\n",
       "    </tr>\n",
       "    <tr>\n",
       "      <th>3</th>\n",
       "      <td>032077-17032017</td>\n",
       "      <td>2017-03-17 09:30:52+00:00</td>\n",
       "      <td>Emergency</td>\n",
       "      <td>Residential</td>\n",
       "      <td>Correct incident location</td>\n",
       "      <td>BARKING AND DAGENHAM</td>\n",
       "      <td>466.00000</td>\n",
       "      <td>1</td>\n",
       "      <td>1</td>\n",
       "      <td>1</td>\n",
       "      <td>3</td>\n",
       "      <td>9</td>\n",
       "    </tr>\n",
       "    <tr>\n",
       "      <th>4</th>\n",
       "      <td>034280-22032017</td>\n",
       "      <td>2017-03-22 01:58:17+00:00</td>\n",
       "      <td>Emergency</td>\n",
       "      <td>Residential</td>\n",
       "      <td>Correct incident location</td>\n",
       "      <td>LEWISHAM</td>\n",
       "      <td>218.00000</td>\n",
       "      <td>1</td>\n",
       "      <td>1</td>\n",
       "      <td>1</td>\n",
       "      <td>3</td>\n",
       "      <td>1</td>\n",
       "    </tr>\n",
       "  </tbody>\n",
       "</table>\n",
       "</div>"
      ],
      "text/plain": [
       "   incident_number         timestamp_of_call incident_group property_category  \\\n",
       "0  022356-23022017 2017-02-23 10:04:57+00:00      Emergency   Non Residential   \n",
       "1  037795-29032017 2017-03-29 21:15:30+00:00      Emergency           Vehicle   \n",
       "2  004382-10012017 2017-01-10 21:18:51+00:00    False Alarm           Vehicle   \n",
       "3  032077-17032017 2017-03-17 09:30:52+00:00      Emergency       Residential   \n",
       "4  034280-22032017 2017-03-22 01:58:17+00:00      Emergency       Residential   \n",
       "\n",
       "           address_qualifier            borough_name  first_time  \\\n",
       "0  Correct incident location              HILLINGDON   363.32304   \n",
       "1             Nearby Address  HAMMERSMITH AND FULHAM   510.00000   \n",
       "2             Nearby Address                  NEWHAM   254.00000   \n",
       "3  Correct incident location    BARKING AND DAGENHAM   466.00000   \n",
       "4  Correct incident location                LEWISHAM   218.00000   \n",
       "\n",
       "   station_pumps  pumps_attending  Emergency  Month  Hour  \n",
       "0              1                1          1      2    10  \n",
       "1              2                2          1      3    21  \n",
       "2              1                1          0      1    21  \n",
       "3              1                1          1      3     9  \n",
       "4              1                1          1      3     1  "
      ]
     },
     "execution_count": 56,
     "metadata": {},
     "output_type": "execute_result"
    }
   ],
   "source": [
    "london_train.head()"
   ]
  },
  {
   "cell_type": "code",
   "execution_count": 57,
   "id": "4f63914f",
   "metadata": {},
   "outputs": [],
   "source": [
    "def arriving_time(df):\n",
    "    \"\"\"\n",
    "    This function removes the values that are more than 4 standard deviations above the mean and imputes the missing values\n",
    "    based on the station mean\n",
    "    \"\"\"\n",
    "    pump_mean = np.mean(df[\"first_time\"])\n",
    "    pump_std = np.std(df[\"first_time\"])\n",
    "    #Any pump times above this should be flagged\n",
    "    cutoff_time = pump_mean + 4*pump_std\n",
    "    \n",
    "    df = df.loc[(df[\"first_time\"] < cutoff_time) | df[\"first_time\"].isnull()]\n",
    "    \n",
    "    df[\"first_time\"] = df[\"first_time\"].astype(np.float64)\n",
    "    df[\"first_time\"] = df.groupby(\"borough_name\")[\"first_time\"].\\\n",
    "                                                transform(lambda grp: grp.fillna(np.mean(grp)))\n",
    "    return df"
   ]
  },
  {
   "cell_type": "markdown",
   "id": "4f184769",
   "metadata": {},
   "source": [
    "### Number of Stations with Pumps Attending"
   ]
  },
  {
   "cell_type": "code",
   "execution_count": 58,
   "id": "8c30785e",
   "metadata": {},
   "outputs": [
    {
     "data": {
      "text/plain": [
       "53"
      ]
     },
     "execution_count": 58,
     "metadata": {},
     "output_type": "execute_result"
    }
   ],
   "source": [
    "london_train[\"station_pumps\"].isnull().sum()"
   ]
  },
  {
   "cell_type": "code",
   "execution_count": 59,
   "id": "9f75bc5b",
   "metadata": {},
   "outputs": [
    {
     "data": {
      "text/plain": [
       "count    26706.000000\n",
       "mean         1.354864\n",
       "std          0.607509\n",
       "min          1.000000\n",
       "25%          1.000000\n",
       "50%          1.000000\n",
       "75%          2.000000\n",
       "max          6.000000\n",
       "Name: station_pumps, dtype: float64"
      ]
     },
     "execution_count": 59,
     "metadata": {},
     "output_type": "execute_result"
    }
   ],
   "source": [
    "london_train[\"station_pumps\"].describe()"
   ]
  },
  {
   "cell_type": "code",
   "execution_count": 60,
   "id": "d289a775",
   "metadata": {},
   "outputs": [
    {
     "data": {
      "text/plain": [
       "1    18739\n",
       "2     6796\n",
       "3      851\n",
       "4      304\n",
       "5       13\n",
       "6        3\n",
       "Name: station_pumps, dtype: Int64"
      ]
     },
     "execution_count": 60,
     "metadata": {},
     "output_type": "execute_result"
    }
   ],
   "source": [
    "london_train[\"station_pumps\"].value_counts()"
   ]
  },
  {
   "cell_type": "markdown",
   "id": "ff894668",
   "metadata": {},
   "source": [
    "We see that only a very small amount of stations had more than 5 pumps attending. Therefore, we'll go ahead and drop any observations that have more than 5 pumps attending."
   ]
  },
  {
   "cell_type": "code",
   "execution_count": 61,
   "id": "5a68321c",
   "metadata": {},
   "outputs": [],
   "source": [
    "london_train = london_train.loc[(london_train[\"station_pumps\"] < 5) | (london_train[\"station_pumps\"].isnull())]"
   ]
  },
  {
   "cell_type": "markdown",
   "id": "c14c0d8e",
   "metadata": {},
   "source": [
    "Now we can impute the missing values using the mean from which station the attending pumps came from. "
   ]
  },
  {
   "cell_type": "code",
   "execution_count": 62,
   "id": "5aafdf57",
   "metadata": {},
   "outputs": [
    {
     "data": {
      "text/html": [
       "<div>\n",
       "<style scoped>\n",
       "    .dataframe tbody tr th:only-of-type {\n",
       "        vertical-align: middle;\n",
       "    }\n",
       "\n",
       "    .dataframe tbody tr th {\n",
       "        vertical-align: top;\n",
       "    }\n",
       "\n",
       "    .dataframe thead th {\n",
       "        text-align: right;\n",
       "    }\n",
       "</style>\n",
       "<table border=\"1\" class=\"dataframe\">\n",
       "  <thead>\n",
       "    <tr style=\"text-align: right;\">\n",
       "      <th></th>\n",
       "      <th>borough_name</th>\n",
       "      <th>median</th>\n",
       "      <th>mean</th>\n",
       "      <th>std</th>\n",
       "      <th>max</th>\n",
       "      <th>min</th>\n",
       "      <th>count</th>\n",
       "    </tr>\n",
       "  </thead>\n",
       "  <tbody>\n",
       "    <tr>\n",
       "      <th>0</th>\n",
       "      <td>LEWISHAM</td>\n",
       "      <td>1.0</td>\n",
       "      <td>1.553097</td>\n",
       "      <td>0.679922</td>\n",
       "      <td>4</td>\n",
       "      <td>1</td>\n",
       "      <td>904</td>\n",
       "    </tr>\n",
       "    <tr>\n",
       "      <th>1</th>\n",
       "      <td>TOWER HAMLETS</td>\n",
       "      <td>1.0</td>\n",
       "      <td>1.498662</td>\n",
       "      <td>0.817361</td>\n",
       "      <td>4</td>\n",
       "      <td>1</td>\n",
       "      <td>1121</td>\n",
       "    </tr>\n",
       "    <tr>\n",
       "      <th>2</th>\n",
       "      <td>SOUTHWARK</td>\n",
       "      <td>1.0</td>\n",
       "      <td>1.473154</td>\n",
       "      <td>0.681494</td>\n",
       "      <td>4</td>\n",
       "      <td>1</td>\n",
       "      <td>1192</td>\n",
       "    </tr>\n",
       "    <tr>\n",
       "      <th>3</th>\n",
       "      <td>WANDSWORTH</td>\n",
       "      <td>1.0</td>\n",
       "      <td>1.461802</td>\n",
       "      <td>0.700595</td>\n",
       "      <td>4</td>\n",
       "      <td>1</td>\n",
       "      <td>877</td>\n",
       "    </tr>\n",
       "    <tr>\n",
       "      <th>4</th>\n",
       "      <td>KENSINGTON AND CHELSEA</td>\n",
       "      <td>1.0</td>\n",
       "      <td>1.454654</td>\n",
       "      <td>0.571920</td>\n",
       "      <td>4</td>\n",
       "      <td>1</td>\n",
       "      <td>838</td>\n",
       "    </tr>\n",
       "    <tr>\n",
       "      <th>5</th>\n",
       "      <td>HILLINGDON</td>\n",
       "      <td>1.0</td>\n",
       "      <td>1.449074</td>\n",
       "      <td>0.684000</td>\n",
       "      <td>4</td>\n",
       "      <td>1</td>\n",
       "      <td>864</td>\n",
       "    </tr>\n",
       "    <tr>\n",
       "      <th>6</th>\n",
       "      <td>ISLINGTON</td>\n",
       "      <td>1.0</td>\n",
       "      <td>1.438175</td>\n",
       "      <td>0.640262</td>\n",
       "      <td>4</td>\n",
       "      <td>1</td>\n",
       "      <td>833</td>\n",
       "    </tr>\n",
       "    <tr>\n",
       "      <th>7</th>\n",
       "      <td>KINGSTON UPON THAMES</td>\n",
       "      <td>1.0</td>\n",
       "      <td>1.422983</td>\n",
       "      <td>0.629784</td>\n",
       "      <td>4</td>\n",
       "      <td>1</td>\n",
       "      <td>409</td>\n",
       "    </tr>\n",
       "    <tr>\n",
       "      <th>8</th>\n",
       "      <td>NEWHAM</td>\n",
       "      <td>1.0</td>\n",
       "      <td>1.405192</td>\n",
       "      <td>0.670219</td>\n",
       "      <td>4</td>\n",
       "      <td>1</td>\n",
       "      <td>886</td>\n",
       "    </tr>\n",
       "    <tr>\n",
       "      <th>9</th>\n",
       "      <td>HAVERING</td>\n",
       "      <td>1.0</td>\n",
       "      <td>1.389262</td>\n",
       "      <td>0.543396</td>\n",
       "      <td>4</td>\n",
       "      <td>1</td>\n",
       "      <td>596</td>\n",
       "    </tr>\n",
       "    <tr>\n",
       "      <th>10</th>\n",
       "      <td>EALING</td>\n",
       "      <td>1.0</td>\n",
       "      <td>1.384083</td>\n",
       "      <td>0.603206</td>\n",
       "      <td>4</td>\n",
       "      <td>1</td>\n",
       "      <td>867</td>\n",
       "    </tr>\n",
       "    <tr>\n",
       "      <th>11</th>\n",
       "      <td>BEXLEY</td>\n",
       "      <td>1.0</td>\n",
       "      <td>1.372694</td>\n",
       "      <td>0.574755</td>\n",
       "      <td>4</td>\n",
       "      <td>1</td>\n",
       "      <td>542</td>\n",
       "    </tr>\n",
       "    <tr>\n",
       "      <th>12</th>\n",
       "      <td>BARNET</td>\n",
       "      <td>1.0</td>\n",
       "      <td>1.369895</td>\n",
       "      <td>0.581795</td>\n",
       "      <td>4</td>\n",
       "      <td>1</td>\n",
       "      <td>857</td>\n",
       "    </tr>\n",
       "    <tr>\n",
       "      <th>13</th>\n",
       "      <td>HAMMERSMITH AND FULHAM</td>\n",
       "      <td>1.0</td>\n",
       "      <td>1.366271</td>\n",
       "      <td>0.553445</td>\n",
       "      <td>4</td>\n",
       "      <td>1</td>\n",
       "      <td>759</td>\n",
       "    </tr>\n",
       "    <tr>\n",
       "      <th>14</th>\n",
       "      <td>REDBRIDGE</td>\n",
       "      <td>1.0</td>\n",
       "      <td>1.355442</td>\n",
       "      <td>0.578891</td>\n",
       "      <td>4</td>\n",
       "      <td>1</td>\n",
       "      <td>588</td>\n",
       "    </tr>\n",
       "    <tr>\n",
       "      <th>15</th>\n",
       "      <td>CITY OF LONDON</td>\n",
       "      <td>1.0</td>\n",
       "      <td>1.352941</td>\n",
       "      <td>0.852926</td>\n",
       "      <td>4</td>\n",
       "      <td>1</td>\n",
       "      <td>306</td>\n",
       "    </tr>\n",
       "    <tr>\n",
       "      <th>16</th>\n",
       "      <td>WALTHAM FOREST</td>\n",
       "      <td>1.0</td>\n",
       "      <td>1.349315</td>\n",
       "      <td>0.541710</td>\n",
       "      <td>4</td>\n",
       "      <td>1</td>\n",
       "      <td>730</td>\n",
       "    </tr>\n",
       "    <tr>\n",
       "      <th>17</th>\n",
       "      <td>HARROW</td>\n",
       "      <td>1.0</td>\n",
       "      <td>1.342733</td>\n",
       "      <td>0.531299</td>\n",
       "      <td>4</td>\n",
       "      <td>1</td>\n",
       "      <td>461</td>\n",
       "    </tr>\n",
       "    <tr>\n",
       "      <th>18</th>\n",
       "      <td>CAMDEN</td>\n",
       "      <td>1.0</td>\n",
       "      <td>1.333599</td>\n",
       "      <td>0.609139</td>\n",
       "      <td>4</td>\n",
       "      <td>1</td>\n",
       "      <td>1253</td>\n",
       "    </tr>\n",
       "    <tr>\n",
       "      <th>19</th>\n",
       "      <td>BRENT</td>\n",
       "      <td>1.0</td>\n",
       "      <td>1.328571</td>\n",
       "      <td>0.551641</td>\n",
       "      <td>4</td>\n",
       "      <td>1</td>\n",
       "      <td>840</td>\n",
       "    </tr>\n",
       "    <tr>\n",
       "      <th>20</th>\n",
       "      <td>MERTON</td>\n",
       "      <td>1.0</td>\n",
       "      <td>1.325536</td>\n",
       "      <td>0.508973</td>\n",
       "      <td>4</td>\n",
       "      <td>1</td>\n",
       "      <td>513</td>\n",
       "    </tr>\n",
       "    <tr>\n",
       "      <th>21</th>\n",
       "      <td>SUTTON</td>\n",
       "      <td>1.0</td>\n",
       "      <td>1.315673</td>\n",
       "      <td>0.510636</td>\n",
       "      <td>4</td>\n",
       "      <td>1</td>\n",
       "      <td>453</td>\n",
       "    </tr>\n",
       "    <tr>\n",
       "      <th>22</th>\n",
       "      <td>RICHMOND UPON THAMES</td>\n",
       "      <td>1.0</td>\n",
       "      <td>1.313433</td>\n",
       "      <td>0.520776</td>\n",
       "      <td>4</td>\n",
       "      <td>1</td>\n",
       "      <td>469</td>\n",
       "    </tr>\n",
       "    <tr>\n",
       "      <th>23</th>\n",
       "      <td>HACKNEY</td>\n",
       "      <td>1.0</td>\n",
       "      <td>1.311861</td>\n",
       "      <td>0.595000</td>\n",
       "      <td>4</td>\n",
       "      <td>1</td>\n",
       "      <td>978</td>\n",
       "    </tr>\n",
       "    <tr>\n",
       "      <th>24</th>\n",
       "      <td>CROYDON</td>\n",
       "      <td>1.0</td>\n",
       "      <td>1.29668</td>\n",
       "      <td>0.512714</td>\n",
       "      <td>4</td>\n",
       "      <td>1</td>\n",
       "      <td>964</td>\n",
       "    </tr>\n",
       "    <tr>\n",
       "      <th>25</th>\n",
       "      <td>HOUNSLOW</td>\n",
       "      <td>1.0</td>\n",
       "      <td>1.282799</td>\n",
       "      <td>0.547239</td>\n",
       "      <td>4</td>\n",
       "      <td>1</td>\n",
       "      <td>686</td>\n",
       "    </tr>\n",
       "    <tr>\n",
       "      <th>26</th>\n",
       "      <td>GREENWICH</td>\n",
       "      <td>1.0</td>\n",
       "      <td>1.281287</td>\n",
       "      <td>0.545776</td>\n",
       "      <td>4</td>\n",
       "      <td>1</td>\n",
       "      <td>839</td>\n",
       "    </tr>\n",
       "    <tr>\n",
       "      <th>27</th>\n",
       "      <td>BROMLEY</td>\n",
       "      <td>1.0</td>\n",
       "      <td>1.277188</td>\n",
       "      <td>0.536908</td>\n",
       "      <td>4</td>\n",
       "      <td>1</td>\n",
       "      <td>754</td>\n",
       "    </tr>\n",
       "    <tr>\n",
       "      <th>28</th>\n",
       "      <td>LAMBETH</td>\n",
       "      <td>1.0</td>\n",
       "      <td>1.264035</td>\n",
       "      <td>0.545977</td>\n",
       "      <td>4</td>\n",
       "      <td>1</td>\n",
       "      <td>1140</td>\n",
       "    </tr>\n",
       "    <tr>\n",
       "      <th>29</th>\n",
       "      <td>ENFIELD</td>\n",
       "      <td>1.0</td>\n",
       "      <td>1.255422</td>\n",
       "      <td>0.540128</td>\n",
       "      <td>4</td>\n",
       "      <td>1</td>\n",
       "      <td>830</td>\n",
       "    </tr>\n",
       "    <tr>\n",
       "      <th>30</th>\n",
       "      <td>HARINGEY</td>\n",
       "      <td>1.0</td>\n",
       "      <td>1.247645</td>\n",
       "      <td>0.498560</td>\n",
       "      <td>4</td>\n",
       "      <td>1</td>\n",
       "      <td>743</td>\n",
       "    </tr>\n",
       "    <tr>\n",
       "      <th>31</th>\n",
       "      <td>WESTMINSTER</td>\n",
       "      <td>1.0</td>\n",
       "      <td>1.21519</td>\n",
       "      <td>0.480950</td>\n",
       "      <td>4</td>\n",
       "      <td>1</td>\n",
       "      <td>2054</td>\n",
       "    </tr>\n",
       "    <tr>\n",
       "      <th>32</th>\n",
       "      <td>BARKING AND DAGENHAM</td>\n",
       "      <td>1.0</td>\n",
       "      <td>1.191176</td>\n",
       "      <td>0.458434</td>\n",
       "      <td>3</td>\n",
       "      <td>1</td>\n",
       "      <td>544</td>\n",
       "    </tr>\n",
       "  </tbody>\n",
       "</table>\n",
       "</div>"
      ],
      "text/plain": [
       "              borough_name  median      mean       std  max  min  count\n",
       "0                 LEWISHAM     1.0  1.553097  0.679922    4    1    904\n",
       "1            TOWER HAMLETS     1.0  1.498662  0.817361    4    1   1121\n",
       "2                SOUTHWARK     1.0  1.473154  0.681494    4    1   1192\n",
       "3               WANDSWORTH     1.0  1.461802  0.700595    4    1    877\n",
       "4   KENSINGTON AND CHELSEA     1.0  1.454654  0.571920    4    1    838\n",
       "5               HILLINGDON     1.0  1.449074  0.684000    4    1    864\n",
       "6                ISLINGTON     1.0  1.438175  0.640262    4    1    833\n",
       "7     KINGSTON UPON THAMES     1.0  1.422983  0.629784    4    1    409\n",
       "8                   NEWHAM     1.0  1.405192  0.670219    4    1    886\n",
       "9                 HAVERING     1.0  1.389262  0.543396    4    1    596\n",
       "10                  EALING     1.0  1.384083  0.603206    4    1    867\n",
       "11                  BEXLEY     1.0  1.372694  0.574755    4    1    542\n",
       "12                  BARNET     1.0  1.369895  0.581795    4    1    857\n",
       "13  HAMMERSMITH AND FULHAM     1.0  1.366271  0.553445    4    1    759\n",
       "14               REDBRIDGE     1.0  1.355442  0.578891    4    1    588\n",
       "15          CITY OF LONDON     1.0  1.352941  0.852926    4    1    306\n",
       "16          WALTHAM FOREST     1.0  1.349315  0.541710    4    1    730\n",
       "17                  HARROW     1.0  1.342733  0.531299    4    1    461\n",
       "18                  CAMDEN     1.0  1.333599  0.609139    4    1   1253\n",
       "19                   BRENT     1.0  1.328571  0.551641    4    1    840\n",
       "20                  MERTON     1.0  1.325536  0.508973    4    1    513\n",
       "21                  SUTTON     1.0  1.315673  0.510636    4    1    453\n",
       "22    RICHMOND UPON THAMES     1.0  1.313433  0.520776    4    1    469\n",
       "23                 HACKNEY     1.0  1.311861  0.595000    4    1    978\n",
       "24                 CROYDON     1.0   1.29668  0.512714    4    1    964\n",
       "25                HOUNSLOW     1.0  1.282799  0.547239    4    1    686\n",
       "26               GREENWICH     1.0  1.281287  0.545776    4    1    839\n",
       "27                 BROMLEY     1.0  1.277188  0.536908    4    1    754\n",
       "28                 LAMBETH     1.0  1.264035  0.545977    4    1   1140\n",
       "29                 ENFIELD     1.0  1.255422  0.540128    4    1    830\n",
       "30                HARINGEY     1.0  1.247645  0.498560    4    1    743\n",
       "31             WESTMINSTER     1.0   1.21519  0.480950    4    1   2054\n",
       "32    BARKING AND DAGENHAM     1.0  1.191176  0.458434    3    1    544"
      ]
     },
     "execution_count": 62,
     "metadata": {},
     "output_type": "execute_result"
    }
   ],
   "source": [
    "#Group by property type and summarize by the Emergency variable\n",
    "station_pump_grp = london_train.groupby(\"borough_name\")[\"station_pumps\"]\\\n",
    "                        .aggregate([\"median\",\"mean\", \"std\", \"max\", \"min\",\"count\"])\\\n",
    "                        .sort_values(by=\"mean\", ascending=False)\n",
    "station_pump_grp.reset_index(inplace = True)\n",
    "station_pump_grp"
   ]
  },
  {
   "cell_type": "code",
   "execution_count": 63,
   "id": "3e2cb9d5",
   "metadata": {},
   "outputs": [],
   "source": [
    "london_train[\"station_pumps\"] = london_train[\"station_pumps\"].astype(np.float64)\n",
    "london_train[\"station_pumps\"] = london_train.groupby(\"borough_name\")[\"station_pumps\"].\\\n",
    "                                                transform(lambda grp: grp.fillna(np.mean(grp)))"
   ]
  },
  {
   "cell_type": "code",
   "execution_count": 64,
   "id": "53e9af14",
   "metadata": {},
   "outputs": [
    {
     "data": {
      "text/plain": [
       "0"
      ]
     },
     "execution_count": 64,
     "metadata": {},
     "output_type": "execute_result"
    }
   ],
   "source": [
    "london_train[\"station_pumps\"].isnull().sum()"
   ]
  },
  {
   "cell_type": "code",
   "execution_count": 66,
   "id": "fde5df35",
   "metadata": {},
   "outputs": [],
   "source": [
    "def station_pumps(df):\n",
    "    \"\"\"\n",
    "    This function removes any stations that have more than 5 pumps attending and imputes the missing values with the\n",
    "    mean number of pump by stations.\n",
    "    \n",
    "    params:\n",
    "        df - dataframe with the necessary columns\n",
    "    \"\"\"\n",
    "    df = df.loc[(df[\"station_pumps\"] < 5) | (df[\"station_pumps\"].isnull())]\n",
    "    df[\"station_pumps\"] = df[\"station_pumps\"].astype(np.float64)\n",
    "    df[\"station_pumps\"] = df.groupby(\"borough_name\")[\"station_pumps\"].\\\n",
    "                                                transform(lambda grp: grp.fillna(np.mean(grp)))\n",
    "    df[\"station_pumps\"] = df[\"station_pumps\"].astype(np.str)\n",
    "    return df"
   ]
  },
  {
   "cell_type": "markdown",
   "id": "c29a9bd7",
   "metadata": {},
   "source": [
    "### Number of Pumps Attending"
   ]
  },
  {
   "cell_type": "code",
   "execution_count": 67,
   "id": "cc41a824",
   "metadata": {},
   "outputs": [
    {
     "data": {
      "text/plain": [
       "53"
      ]
     },
     "execution_count": 67,
     "metadata": {},
     "output_type": "execute_result"
    }
   ],
   "source": [
    "london_train[\"pumps_attending\"].isnull().sum()"
   ]
  },
  {
   "cell_type": "code",
   "execution_count": 68,
   "id": "872675c2",
   "metadata": {},
   "outputs": [
    {
     "data": {
      "text/plain": [
       "count    26690.000000\n",
       "mean         1.533496\n",
       "std          0.732408\n",
       "min          1.000000\n",
       "25%          1.000000\n",
       "50%          1.000000\n",
       "75%          2.000000\n",
       "max          6.000000\n",
       "Name: pumps_attending, dtype: float64"
      ]
     },
     "execution_count": 68,
     "metadata": {},
     "output_type": "execute_result"
    }
   ],
   "source": [
    "london_train[\"pumps_attending\"].describe()"
   ]
  },
  {
   "cell_type": "code",
   "execution_count": 69,
   "id": "b2e15f78",
   "metadata": {},
   "outputs": [
    {
     "data": {
      "text/plain": [
       "1    15497\n",
       "2     8902\n",
       "3     1569\n",
       "4      692\n",
       "5       27\n",
       "6        3\n",
       "Name: pumps_attending, dtype: Int64"
      ]
     },
     "execution_count": 69,
     "metadata": {},
     "output_type": "execute_result"
    }
   ],
   "source": [
    "london_train[\"pumps_attending\"].value_counts()"
   ]
  },
  {
   "cell_type": "markdown",
   "id": "4692f267",
   "metadata": {},
   "source": [
    "We'll go ahead and drop any pumps that are greater than 4. "
   ]
  },
  {
   "cell_type": "code",
   "execution_count": 70,
   "id": "e9dcdf92",
   "metadata": {},
   "outputs": [],
   "source": [
    "london_train = london_train.loc[(london_train[\"pumps_attending\"] < 5) | (london_train[\"pumps_attending\"].isnull())]"
   ]
  },
  {
   "cell_type": "code",
   "execution_count": 71,
   "id": "c1dc12d2",
   "metadata": {},
   "outputs": [
    {
     "data": {
      "text/html": [
       "<div>\n",
       "<style scoped>\n",
       "    .dataframe tbody tr th:only-of-type {\n",
       "        vertical-align: middle;\n",
       "    }\n",
       "\n",
       "    .dataframe tbody tr th {\n",
       "        vertical-align: top;\n",
       "    }\n",
       "\n",
       "    .dataframe thead th {\n",
       "        text-align: right;\n",
       "    }\n",
       "</style>\n",
       "<table border=\"1\" class=\"dataframe\">\n",
       "  <thead>\n",
       "    <tr style=\"text-align: right;\">\n",
       "      <th></th>\n",
       "      <th>borough_name</th>\n",
       "      <th>median</th>\n",
       "      <th>mean</th>\n",
       "      <th>std</th>\n",
       "      <th>max</th>\n",
       "      <th>min</th>\n",
       "      <th>count</th>\n",
       "    </tr>\n",
       "  </thead>\n",
       "  <tbody>\n",
       "    <tr>\n",
       "      <th>0</th>\n",
       "      <td>HILLINGDON</td>\n",
       "      <td>1.0</td>\n",
       "      <td>1.629501</td>\n",
       "      <td>0.761585</td>\n",
       "      <td>4</td>\n",
       "      <td>1</td>\n",
       "      <td>861</td>\n",
       "    </tr>\n",
       "    <tr>\n",
       "      <th>1</th>\n",
       "      <td>KENSINGTON AND CHELSEA</td>\n",
       "      <td>2.0</td>\n",
       "      <td>1.609785</td>\n",
       "      <td>0.678567</td>\n",
       "      <td>4</td>\n",
       "      <td>1</td>\n",
       "      <td>838</td>\n",
       "    </tr>\n",
       "    <tr>\n",
       "      <th>2</th>\n",
       "      <td>BARNET</td>\n",
       "      <td>1.0</td>\n",
       "      <td>1.596963</td>\n",
       "      <td>0.718960</td>\n",
       "      <td>4</td>\n",
       "      <td>1</td>\n",
       "      <td>856</td>\n",
       "    </tr>\n",
       "    <tr>\n",
       "      <th>3</th>\n",
       "      <td>WANDSWORTH</td>\n",
       "      <td>1.0</td>\n",
       "      <td>1.59589</td>\n",
       "      <td>0.774556</td>\n",
       "      <td>4</td>\n",
       "      <td>1</td>\n",
       "      <td>876</td>\n",
       "    </tr>\n",
       "    <tr>\n",
       "      <th>4</th>\n",
       "      <td>HAMMERSMITH AND FULHAM</td>\n",
       "      <td>1.0</td>\n",
       "      <td>1.591568</td>\n",
       "      <td>0.688567</td>\n",
       "      <td>4</td>\n",
       "      <td>1</td>\n",
       "      <td>759</td>\n",
       "    </tr>\n",
       "    <tr>\n",
       "      <th>5</th>\n",
       "      <td>CAMDEN</td>\n",
       "      <td>1.0</td>\n",
       "      <td>1.587061</td>\n",
       "      <td>0.812330</td>\n",
       "      <td>4</td>\n",
       "      <td>1</td>\n",
       "      <td>1252</td>\n",
       "    </tr>\n",
       "    <tr>\n",
       "      <th>6</th>\n",
       "      <td>REDBRIDGE</td>\n",
       "      <td>1.0</td>\n",
       "      <td>1.577513</td>\n",
       "      <td>0.700101</td>\n",
       "      <td>4</td>\n",
       "      <td>1</td>\n",
       "      <td>587</td>\n",
       "    </tr>\n",
       "    <tr>\n",
       "      <th>7</th>\n",
       "      <td>LEWISHAM</td>\n",
       "      <td>1.0</td>\n",
       "      <td>1.570321</td>\n",
       "      <td>0.688264</td>\n",
       "      <td>4</td>\n",
       "      <td>1</td>\n",
       "      <td>903</td>\n",
       "    </tr>\n",
       "    <tr>\n",
       "      <th>8</th>\n",
       "      <td>RICHMOND UPON THAMES</td>\n",
       "      <td>1.0</td>\n",
       "      <td>1.569296</td>\n",
       "      <td>0.687181</td>\n",
       "      <td>4</td>\n",
       "      <td>1</td>\n",
       "      <td>469</td>\n",
       "    </tr>\n",
       "    <tr>\n",
       "      <th>9</th>\n",
       "      <td>HARINGEY</td>\n",
       "      <td>1.0</td>\n",
       "      <td>1.559892</td>\n",
       "      <td>0.747939</td>\n",
       "      <td>4</td>\n",
       "      <td>1</td>\n",
       "      <td>743</td>\n",
       "    </tr>\n",
       "    <tr>\n",
       "      <th>10</th>\n",
       "      <td>HARROW</td>\n",
       "      <td>1.0</td>\n",
       "      <td>1.555556</td>\n",
       "      <td>0.663018</td>\n",
       "      <td>4</td>\n",
       "      <td>1</td>\n",
       "      <td>459</td>\n",
       "    </tr>\n",
       "    <tr>\n",
       "      <th>11</th>\n",
       "      <td>HOUNSLOW</td>\n",
       "      <td>1.0</td>\n",
       "      <td>1.554905</td>\n",
       "      <td>0.708858</td>\n",
       "      <td>4</td>\n",
       "      <td>1</td>\n",
       "      <td>683</td>\n",
       "    </tr>\n",
       "    <tr>\n",
       "      <th>12</th>\n",
       "      <td>KINGSTON UPON THAMES</td>\n",
       "      <td>1.0</td>\n",
       "      <td>1.553922</td>\n",
       "      <td>0.716279</td>\n",
       "      <td>4</td>\n",
       "      <td>1</td>\n",
       "      <td>408</td>\n",
       "    </tr>\n",
       "    <tr>\n",
       "      <th>13</th>\n",
       "      <td>HACKNEY</td>\n",
       "      <td>1.0</td>\n",
       "      <td>1.549642</td>\n",
       "      <td>0.753300</td>\n",
       "      <td>4</td>\n",
       "      <td>1</td>\n",
       "      <td>977</td>\n",
       "    </tr>\n",
       "    <tr>\n",
       "      <th>14</th>\n",
       "      <td>BEXLEY</td>\n",
       "      <td>1.0</td>\n",
       "      <td>1.542435</td>\n",
       "      <td>0.725205</td>\n",
       "      <td>4</td>\n",
       "      <td>1</td>\n",
       "      <td>542</td>\n",
       "    </tr>\n",
       "    <tr>\n",
       "      <th>15</th>\n",
       "      <td>BRENT</td>\n",
       "      <td>1.0</td>\n",
       "      <td>1.539928</td>\n",
       "      <td>0.711659</td>\n",
       "      <td>4</td>\n",
       "      <td>1</td>\n",
       "      <td>839</td>\n",
       "    </tr>\n",
       "    <tr>\n",
       "      <th>16</th>\n",
       "      <td>CROYDON</td>\n",
       "      <td>1.0</td>\n",
       "      <td>1.539022</td>\n",
       "      <td>0.683730</td>\n",
       "      <td>4</td>\n",
       "      <td>1</td>\n",
       "      <td>961</td>\n",
       "    </tr>\n",
       "    <tr>\n",
       "      <th>17</th>\n",
       "      <td>EALING</td>\n",
       "      <td>1.0</td>\n",
       "      <td>1.538106</td>\n",
       "      <td>0.720663</td>\n",
       "      <td>4</td>\n",
       "      <td>1</td>\n",
       "      <td>866</td>\n",
       "    </tr>\n",
       "    <tr>\n",
       "      <th>18</th>\n",
       "      <td>SOUTHWARK</td>\n",
       "      <td>1.0</td>\n",
       "      <td>1.530201</td>\n",
       "      <td>0.733573</td>\n",
       "      <td>4</td>\n",
       "      <td>1</td>\n",
       "      <td>1192</td>\n",
       "    </tr>\n",
       "    <tr>\n",
       "      <th>19</th>\n",
       "      <td>LAMBETH</td>\n",
       "      <td>1.0</td>\n",
       "      <td>1.514938</td>\n",
       "      <td>0.745698</td>\n",
       "      <td>4</td>\n",
       "      <td>1</td>\n",
       "      <td>1138</td>\n",
       "    </tr>\n",
       "    <tr>\n",
       "      <th>20</th>\n",
       "      <td>TOWER HAMLETS</td>\n",
       "      <td>1.0</td>\n",
       "      <td>1.512935</td>\n",
       "      <td>0.829190</td>\n",
       "      <td>4</td>\n",
       "      <td>1</td>\n",
       "      <td>1121</td>\n",
       "    </tr>\n",
       "    <tr>\n",
       "      <th>21</th>\n",
       "      <td>ISLINGTON</td>\n",
       "      <td>1.0</td>\n",
       "      <td>1.503001</td>\n",
       "      <td>0.707313</td>\n",
       "      <td>4</td>\n",
       "      <td>1</td>\n",
       "      <td>833</td>\n",
       "    </tr>\n",
       "    <tr>\n",
       "      <th>22</th>\n",
       "      <td>ENFIELD</td>\n",
       "      <td>1.0</td>\n",
       "      <td>1.499395</td>\n",
       "      <td>0.735431</td>\n",
       "      <td>4</td>\n",
       "      <td>1</td>\n",
       "      <td>827</td>\n",
       "    </tr>\n",
       "    <tr>\n",
       "      <th>23</th>\n",
       "      <td>SUTTON</td>\n",
       "      <td>1.0</td>\n",
       "      <td>1.49115</td>\n",
       "      <td>0.626405</td>\n",
       "      <td>4</td>\n",
       "      <td>1</td>\n",
       "      <td>452</td>\n",
       "    </tr>\n",
       "    <tr>\n",
       "      <th>24</th>\n",
       "      <td>WESTMINSTER</td>\n",
       "      <td>1.0</td>\n",
       "      <td>1.488315</td>\n",
       "      <td>0.712159</td>\n",
       "      <td>4</td>\n",
       "      <td>1</td>\n",
       "      <td>2054</td>\n",
       "    </tr>\n",
       "    <tr>\n",
       "      <th>25</th>\n",
       "      <td>GREENWICH</td>\n",
       "      <td>1.0</td>\n",
       "      <td>1.488067</td>\n",
       "      <td>0.716240</td>\n",
       "      <td>4</td>\n",
       "      <td>1</td>\n",
       "      <td>838</td>\n",
       "    </tr>\n",
       "    <tr>\n",
       "      <th>26</th>\n",
       "      <td>BROMLEY</td>\n",
       "      <td>1.0</td>\n",
       "      <td>1.488032</td>\n",
       "      <td>0.694176</td>\n",
       "      <td>4</td>\n",
       "      <td>1</td>\n",
       "      <td>752</td>\n",
       "    </tr>\n",
       "    <tr>\n",
       "      <th>27</th>\n",
       "      <td>WALTHAM FOREST</td>\n",
       "      <td>1.0</td>\n",
       "      <td>1.487671</td>\n",
       "      <td>0.662941</td>\n",
       "      <td>4</td>\n",
       "      <td>1</td>\n",
       "      <td>730</td>\n",
       "    </tr>\n",
       "    <tr>\n",
       "      <th>28</th>\n",
       "      <td>BARKING AND DAGENHAM</td>\n",
       "      <td>1.0</td>\n",
       "      <td>1.463235</td>\n",
       "      <td>0.709401</td>\n",
       "      <td>4</td>\n",
       "      <td>1</td>\n",
       "      <td>544</td>\n",
       "    </tr>\n",
       "    <tr>\n",
       "      <th>29</th>\n",
       "      <td>HAVERING</td>\n",
       "      <td>1.0</td>\n",
       "      <td>1.434564</td>\n",
       "      <td>0.608688</td>\n",
       "      <td>4</td>\n",
       "      <td>1</td>\n",
       "      <td>596</td>\n",
       "    </tr>\n",
       "    <tr>\n",
       "      <th>30</th>\n",
       "      <td>NEWHAM</td>\n",
       "      <td>1.0</td>\n",
       "      <td>1.430023</td>\n",
       "      <td>0.696368</td>\n",
       "      <td>4</td>\n",
       "      <td>1</td>\n",
       "      <td>886</td>\n",
       "    </tr>\n",
       "    <tr>\n",
       "      <th>31</th>\n",
       "      <td>MERTON</td>\n",
       "      <td>1.0</td>\n",
       "      <td>1.384016</td>\n",
       "      <td>0.575117</td>\n",
       "      <td>4</td>\n",
       "      <td>1</td>\n",
       "      <td>513</td>\n",
       "    </tr>\n",
       "    <tr>\n",
       "      <th>32</th>\n",
       "      <td>CITY OF LONDON</td>\n",
       "      <td>1.0</td>\n",
       "      <td>1.360656</td>\n",
       "      <td>0.855185</td>\n",
       "      <td>4</td>\n",
       "      <td>1</td>\n",
       "      <td>305</td>\n",
       "    </tr>\n",
       "  </tbody>\n",
       "</table>\n",
       "</div>"
      ],
      "text/plain": [
       "              borough_name  median      mean       std  max  min  count\n",
       "0               HILLINGDON     1.0  1.629501  0.761585    4    1    861\n",
       "1   KENSINGTON AND CHELSEA     2.0  1.609785  0.678567    4    1    838\n",
       "2                   BARNET     1.0  1.596963  0.718960    4    1    856\n",
       "3               WANDSWORTH     1.0   1.59589  0.774556    4    1    876\n",
       "4   HAMMERSMITH AND FULHAM     1.0  1.591568  0.688567    4    1    759\n",
       "5                   CAMDEN     1.0  1.587061  0.812330    4    1   1252\n",
       "6                REDBRIDGE     1.0  1.577513  0.700101    4    1    587\n",
       "7                 LEWISHAM     1.0  1.570321  0.688264    4    1    903\n",
       "8     RICHMOND UPON THAMES     1.0  1.569296  0.687181    4    1    469\n",
       "9                 HARINGEY     1.0  1.559892  0.747939    4    1    743\n",
       "10                  HARROW     1.0  1.555556  0.663018    4    1    459\n",
       "11                HOUNSLOW     1.0  1.554905  0.708858    4    1    683\n",
       "12    KINGSTON UPON THAMES     1.0  1.553922  0.716279    4    1    408\n",
       "13                 HACKNEY     1.0  1.549642  0.753300    4    1    977\n",
       "14                  BEXLEY     1.0  1.542435  0.725205    4    1    542\n",
       "15                   BRENT     1.0  1.539928  0.711659    4    1    839\n",
       "16                 CROYDON     1.0  1.539022  0.683730    4    1    961\n",
       "17                  EALING     1.0  1.538106  0.720663    4    1    866\n",
       "18               SOUTHWARK     1.0  1.530201  0.733573    4    1   1192\n",
       "19                 LAMBETH     1.0  1.514938  0.745698    4    1   1138\n",
       "20           TOWER HAMLETS     1.0  1.512935  0.829190    4    1   1121\n",
       "21               ISLINGTON     1.0  1.503001  0.707313    4    1    833\n",
       "22                 ENFIELD     1.0  1.499395  0.735431    4    1    827\n",
       "23                  SUTTON     1.0   1.49115  0.626405    4    1    452\n",
       "24             WESTMINSTER     1.0  1.488315  0.712159    4    1   2054\n",
       "25               GREENWICH     1.0  1.488067  0.716240    4    1    838\n",
       "26                 BROMLEY     1.0  1.488032  0.694176    4    1    752\n",
       "27          WALTHAM FOREST     1.0  1.487671  0.662941    4    1    730\n",
       "28    BARKING AND DAGENHAM     1.0  1.463235  0.709401    4    1    544\n",
       "29                HAVERING     1.0  1.434564  0.608688    4    1    596\n",
       "30                  NEWHAM     1.0  1.430023  0.696368    4    1    886\n",
       "31                  MERTON     1.0  1.384016  0.575117    4    1    513\n",
       "32          CITY OF LONDON     1.0  1.360656  0.855185    4    1    305"
      ]
     },
     "execution_count": 71,
     "metadata": {},
     "output_type": "execute_result"
    }
   ],
   "source": [
    "#Group by property type and summarize by the Emergency variable\n",
    "pump_grp = london_train.groupby(\"borough_name\")[\"pumps_attending\"]\\\n",
    "                        .aggregate([\"median\",\"mean\", \"std\", \"max\", \"min\",\"count\"])\\\n",
    "                        .sort_values(by=\"mean\", ascending=False)\n",
    "pump_grp.reset_index(inplace = True)\n",
    "pump_grp"
   ]
  },
  {
   "cell_type": "code",
   "execution_count": 72,
   "id": "424b66e9",
   "metadata": {},
   "outputs": [],
   "source": [
    "london_train[\"pumps_attending\"] = london_train[\"pumps_attending\"].astype(np.float64)\n",
    "london_train[\"pumps_attending\"] = london_train.groupby(\"borough_name\")[\"pumps_attending\"].\\\n",
    "                                                transform(lambda grp: grp.fillna(np.mean(grp)))"
   ]
  },
  {
   "cell_type": "code",
   "execution_count": 73,
   "id": "02181418",
   "metadata": {},
   "outputs": [],
   "source": [
    "def pumps_attending(df):\n",
    "    \"\"\"\n",
    "    This function removes any pumps that are greater than 5 and imputes the missing number of pumps with the mean number of \n",
    "    pumps per station\n",
    "    \n",
    "    params:\n",
    "        df - dataframe with necessary columns\n",
    "    \"\"\"\n",
    "    df = df.loc[(df[\"pumps_attending\"] < 5) | (df[\"pumps_attending\"].isnull())]\n",
    "    df[\"pumps_attending\"] = df[\"pumps_attending\"].astype(np.float64)\n",
    "    df[\"pumps_attending\"] = df.groupby(\"borough_name\")[\"pumps_attending\"].\\\n",
    "                                                transform(lambda grp: grp.fillna(np.mean(grp)))\n",
    "    df[\"pumps_attending\"] = df[\"pumps_attending\"].astype(np.str)\n",
    "    return df"
   ]
  },
  {
   "cell_type": "code",
   "execution_count": 74,
   "id": "b2123657",
   "metadata": {},
   "outputs": [
    {
     "data": {
      "text/plain": [
       "0"
      ]
     },
     "execution_count": 74,
     "metadata": {},
     "output_type": "execute_result"
    }
   ],
   "source": [
    "london_train[\"pumps_attending\"].isnull().sum()"
   ]
  },
  {
   "cell_type": "markdown",
   "id": "bf1b542f",
   "metadata": {},
   "source": [
    "# Create a Wrapper Function "
   ]
  },
  {
   "cell_type": "code",
   "execution_count": 86,
   "id": "1a21acde",
   "metadata": {},
   "outputs": [],
   "source": [
    "def clean_london(df, add_emergencies=True, make_month=True, make_hour=True, clean_property=True,\n",
    "                clean_address=True, clean_boroughs=True, clean_arriving_time=True, clean_station_pumps=True, \n",
    "                 clean_pumps_attending=True, verbose=False):\n",
    "    \n",
    "    if verbose: print(\"Cleaning London Data Started...\\n\")\n",
    "        \n",
    "    if add_emergencies:\n",
    "        make_emergencies(df)\n",
    "        if verbose: print(\"Sucessfully Added Emergency Column!\")\n",
    "            \n",
    "    if make_month:\n",
    "        create_month(df)\n",
    "        if verbose: print(\"Sucessfully Added Month Column!\")\n",
    "            \n",
    "    if make_hour:\n",
    "        create_hour(df)\n",
    "        if verbose: print(\"Sucessfully Added Hour Column!\")\n",
    "            \n",
    "    if clean_property:\n",
    "        merge_property(df)\n",
    "        if verbose: print(\"Sucessfully Cleanded Property Category!\")\n",
    "            \n",
    "    if clean_address:\n",
    "        merge_address(df)\n",
    "        if verbose: print(\"Sucessfully Cleaned Address!\")\n",
    "            \n",
    "    if clean_boroughs:\n",
    "        drop_boroughs(df)\n",
    "        if verbose: print(\"Sucessfully Cleaned Borough Names!\")\n",
    "            \n",
    "    if clean_arriving_time:\n",
    "        df = arriving_time(df)\n",
    "        if verbose: print(\"Sucessfully Cleaned Station Arriving Time!\")\n",
    "            \n",
    "    if clean_station_pumps:\n",
    "        df = station_pumps(df)\n",
    "        if verbose: print(\"Sucessfully Cleaned Number of Stations with Pumps!\")\n",
    "            \n",
    "    if clean_pumps_attending:\n",
    "        df = pumps_attending(df)\n",
    "        if verbose: print(\"Sucessfully Cleaned Number of Pumps Attending!\")\n",
    "            \n",
    "    df = df.drop([\"incident_number\", \"incident_group\", \"timestamp_of_call\"], axis = 1, inplace = False)\n",
    "    if verbose: print(\"Sucessfully Dropped Unecessary Columns!\")\n",
    "    \n",
    "    if verbose: print(\"\\nSucessfully Cleaned London Data!\")\n",
    "        \n",
    "    return df\n",
    "    \n",
    "        "
   ]
  },
  {
   "cell_type": "markdown",
   "id": "8aaee4b1",
   "metadata": {},
   "source": [
    "## Clean the Training Data"
   ]
  },
  {
   "cell_type": "code",
   "execution_count": 76,
   "id": "82a592bc",
   "metadata": {},
   "outputs": [
    {
     "name": "stdout",
     "output_type": "stream",
     "text": [
      "Wall time: 5.12 s\n"
     ]
    }
   ],
   "source": [
    "%%time\n",
    "query = \"\"\"\n",
    "            SELECT incident_number, timestamp_of_call, incident_group, property_category, \n",
    "                    address_qualifier, borough_name, first_pump_arriving_attendance_time as first_time,\n",
    "                    num_stations_with_pumps_attending as station_pumps, num_pumps_attending as pumps_attending,\n",
    "                    FROM `gdac-327115.LondonFire.fire_brigade`\n",
    "        \"\"\"\n",
    "\n",
    "london = gbq.read_gbq(query, project_id = \"gdac-327115\", location=\"eu\")"
   ]
  },
  {
   "cell_type": "code",
   "execution_count": 95,
   "id": "5cc783d4",
   "metadata": {},
   "outputs": [],
   "source": [
    "london_train, london_test = train_test_split(london, test_size = .16, stratify = london[\"incident_group\"], random_state=42)"
   ]
  },
  {
   "cell_type": "code",
   "execution_count": 88,
   "id": "cb438278",
   "metadata": {},
   "outputs": [
    {
     "data": {
      "text/plain": [
       "(27087, 9)"
      ]
     },
     "execution_count": 88,
     "metadata": {},
     "output_type": "execute_result"
    }
   ],
   "source": [
    "london_train.shape"
   ]
  },
  {
   "cell_type": "code",
   "execution_count": 89,
   "id": "c2de7cf4",
   "metadata": {},
   "outputs": [
    {
     "name": "stdout",
     "output_type": "stream",
     "text": [
      "Cleaning London Data Started...\n",
      "\n",
      "Sucessfully Added Emergency Column!\n",
      "Sucessfully Added Month Column!\n",
      "Sucessfully Added Hour Column!\n",
      "Sucessfully Cleanded Property Category!\n",
      "Sucessfully Cleaned Address!\n",
      "Sucessfully Cleaned Borough Names!\n",
      "Sucessfully Cleaned Station Arriving Time!\n",
      "Sucessfully Cleaned Number of Stations with Pumps!\n",
      "Sucessfully Cleaned Number of Pumps Attending!\n",
      "Sucessfully Dropped Unecessary Columns!\n",
      "\n",
      "Sucessfully Cleaned London Data!\n"
     ]
    }
   ],
   "source": [
    "warnings.filterwarnings('ignore')\n",
    "london_train = clean_london(df = london_train, verbose = True)"
   ]
  },
  {
   "cell_type": "code",
   "execution_count": 90,
   "id": "7dd5973b",
   "metadata": {},
   "outputs": [
    {
     "data": {
      "text/plain": [
       "(26719, 9)"
      ]
     },
     "execution_count": 90,
     "metadata": {},
     "output_type": "execute_result"
    }
   ],
   "source": [
    "london_train.shape"
   ]
  },
  {
   "cell_type": "code",
   "execution_count": 91,
   "id": "f2292787",
   "metadata": {},
   "outputs": [
    {
     "data": {
      "text/plain": [
       "property_category    0\n",
       "address_qualifier    0\n",
       "borough_name         0\n",
       "first_time           0\n",
       "station_pumps        0\n",
       "pumps_attending      0\n",
       "Emergency            0\n",
       "Month                0\n",
       "Hour                 0\n",
       "dtype: int64"
      ]
     },
     "execution_count": 91,
     "metadata": {},
     "output_type": "execute_result"
    }
   ],
   "source": [
    "london_train.isnull().sum()"
   ]
  },
  {
   "cell_type": "markdown",
   "id": "a1a52d0a",
   "metadata": {},
   "source": [
    "## Clean the Test Data"
   ]
  },
  {
   "cell_type": "markdown",
   "id": "f7d283ef",
   "metadata": {},
   "source": [
    "Before we move on to data visualizations, let's make sure we can clean the test data. We should expect it to work since both the training and test data come from the same source. "
   ]
  },
  {
   "cell_type": "code",
   "execution_count": 96,
   "id": "8a554ff5",
   "metadata": {},
   "outputs": [
    {
     "data": {
      "text/plain": [
       "incident_number        0\n",
       "timestamp_of_call      0\n",
       "incident_group         0\n",
       "property_category      0\n",
       "address_qualifier      0\n",
       "borough_name           0\n",
       "first_time           294\n",
       "station_pumps         16\n",
       "pumps_attending       16\n",
       "dtype: int64"
      ]
     },
     "execution_count": 96,
     "metadata": {},
     "output_type": "execute_result"
    }
   ],
   "source": [
    "#Check the number of missing values\n",
    "london_test.isnull().sum()"
   ]
  },
  {
   "cell_type": "code",
   "execution_count": 97,
   "id": "5b55988d",
   "metadata": {},
   "outputs": [
    {
     "data": {
      "text/plain": [
       "(5160, 9)"
      ]
     },
     "execution_count": 97,
     "metadata": {},
     "output_type": "execute_result"
    }
   ],
   "source": [
    "london_test.shape"
   ]
  },
  {
   "cell_type": "code",
   "execution_count": 98,
   "id": "59f5437b",
   "metadata": {},
   "outputs": [
    {
     "name": "stdout",
     "output_type": "stream",
     "text": [
      "Cleaning London Data Started...\n",
      "\n",
      "Sucessfully Added Emergency Column!\n",
      "Sucessfully Added Month Column!\n",
      "Sucessfully Added Hour Column!\n",
      "Sucessfully Cleanded Property Category!\n",
      "Sucessfully Cleaned Address!\n",
      "Sucessfully Cleaned Borough Names!\n",
      "Sucessfully Cleaned Station Arriving Time!\n",
      "Sucessfully Cleaned Number of Stations with Pumps!\n",
      "Sucessfully Cleaned Number of Pumps Attending!\n",
      "Sucessfully Dropped Unecessary Columns!\n",
      "\n",
      "Sucessfully Cleaned London Data!\n"
     ]
    }
   ],
   "source": [
    "london_test = clean_london(df = london_test, verbose = True)"
   ]
  },
  {
   "cell_type": "code",
   "execution_count": 99,
   "id": "7837b79f",
   "metadata": {},
   "outputs": [
    {
     "data": {
      "text/plain": [
       "(5089, 9)"
      ]
     },
     "execution_count": 99,
     "metadata": {},
     "output_type": "execute_result"
    }
   ],
   "source": [
    "london_test.shape"
   ]
  },
  {
   "cell_type": "code",
   "execution_count": 100,
   "id": "11b4fa84",
   "metadata": {},
   "outputs": [
    {
     "data": {
      "text/plain": [
       "property_category    0\n",
       "address_qualifier    0\n",
       "borough_name         0\n",
       "first_time           0\n",
       "station_pumps        0\n",
       "pumps_attending      0\n",
       "Emergency            0\n",
       "Month                0\n",
       "Hour                 0\n",
       "dtype: int64"
      ]
     },
     "execution_count": 100,
     "metadata": {},
     "output_type": "execute_result"
    }
   ],
   "source": [
    "london_test.isnull().sum()"
   ]
  }
 ],
 "metadata": {
  "kernelspec": {
   "display_name": "Python 3",
   "language": "python",
   "name": "python3"
  },
  "language_info": {
   "codemirror_mode": {
    "name": "ipython",
    "version": 3
   },
   "file_extension": ".py",
   "mimetype": "text/x-python",
   "name": "python",
   "nbconvert_exporter": "python",
   "pygments_lexer": "ipython3",
   "version": "3.8.8"
  }
 },
 "nbformat": 4,
 "nbformat_minor": 5
}
