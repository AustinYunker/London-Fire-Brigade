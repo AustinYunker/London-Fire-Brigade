{
 "cells": [
  {
   "cell_type": "markdown",
   "id": "ab4cd782",
   "metadata": {},
   "source": [
    "# Setup and Imports"
   ]
  },
  {
   "cell_type": "code",
   "execution_count": 1,
   "id": "038c0a20",
   "metadata": {},
   "outputs": [],
   "source": [
    "import pandas as pd\n",
    "import numpy as np\n",
    "import matplotlib.pyplot as plt\n",
    "%matplotlib inline\n",
    "import seaborn as sns\n",
    "sns.set\n",
    "import warnings\n",
    "from pandas.io import gbq\n",
    "from sklearn.model_selection import train_test_split"
   ]
  },
  {
   "cell_type": "markdown",
   "id": "9fb6c275",
   "metadata": {},
   "source": [
    "# Get the Data"
   ]
  },
  {
   "cell_type": "code",
   "execution_count": 2,
   "id": "04101f19",
   "metadata": {},
   "outputs": [
    {
     "name": "stdout",
     "output_type": "stream",
     "text": [
      "Wall time: 8.63 s\n"
     ]
    }
   ],
   "source": [
    "%%time\n",
    "query = \"\"\"\n",
    "            SELECT incident_number, timestamp_of_call, incident_group, stop_code_description, property_category, \n",
    "                    property_type, address_qualifier, postcode_district, borough_name, ward_name, \n",
    "                    first_pump_arriving_attendance_time, first_pump_arriving_deployed_from_station,\n",
    "                    second_pump_arriving_attendance_time, second_pump_arriving_deployed_from_station, \n",
    "                    num_stations_with_pumps_attending, num_pumps_attending,\n",
    "                    FROM `gdac-327115.LondonFire.fire_brigade`\n",
    "        \"\"\"\n",
    "\n",
    "london = gbq.read_gbq(query, project_id = \"gdac-327115\", location=\"eu\")"
   ]
  },
  {
   "cell_type": "code",
   "execution_count": 380,
   "id": "02832466",
   "metadata": {},
   "outputs": [
    {
     "data": {
      "text/plain": [
       "(32247, 16)"
      ]
     },
     "execution_count": 380,
     "metadata": {},
     "output_type": "execute_result"
    }
   ],
   "source": [
    "#Check the shape\n",
    "london.shape"
   ]
  },
  {
   "cell_type": "code",
   "execution_count": 381,
   "id": "7e535ff3",
   "metadata": {},
   "outputs": [
    {
     "data": {
      "text/html": [
       "<div>\n",
       "<style scoped>\n",
       "    .dataframe tbody tr th:only-of-type {\n",
       "        vertical-align: middle;\n",
       "    }\n",
       "\n",
       "    .dataframe tbody tr th {\n",
       "        vertical-align: top;\n",
       "    }\n",
       "\n",
       "    .dataframe thead th {\n",
       "        text-align: right;\n",
       "    }\n",
       "</style>\n",
       "<table border=\"1\" class=\"dataframe\">\n",
       "  <thead>\n",
       "    <tr style=\"text-align: right;\">\n",
       "      <th></th>\n",
       "      <th>incident_number</th>\n",
       "      <th>timestamp_of_call</th>\n",
       "      <th>incident_group</th>\n",
       "      <th>stop_code_description</th>\n",
       "      <th>property_category</th>\n",
       "      <th>property_type</th>\n",
       "      <th>address_qualifier</th>\n",
       "      <th>postcode_district</th>\n",
       "      <th>borough_name</th>\n",
       "      <th>ward_name</th>\n",
       "      <th>first_pump_arriving_attendance_time</th>\n",
       "      <th>first_pump_arriving_deployed_from_station</th>\n",
       "      <th>second_pump_arriving_attendance_time</th>\n",
       "      <th>second_pump_arriving_deployed_from_station</th>\n",
       "      <th>num_stations_with_pumps_attending</th>\n",
       "      <th>num_pumps_attending</th>\n",
       "    </tr>\n",
       "  </thead>\n",
       "  <tbody>\n",
       "    <tr>\n",
       "      <th>0</th>\n",
       "      <td>000320-01012017</td>\n",
       "      <td>2017-01-01 15:30:22+00:00</td>\n",
       "      <td>False Alarm</td>\n",
       "      <td>AFA</td>\n",
       "      <td>Dwelling</td>\n",
       "      <td>Purpose Built Flats/Maisonettes - Up to 3 stor...</td>\n",
       "      <td>Within same building</td>\n",
       "      <td>IG9</td>\n",
       "      <td>NOT GEO-CODED</td>\n",
       "      <td>Not geo-coded</td>\n",
       "      <td>&lt;NA&gt;</td>\n",
       "      <td>None</td>\n",
       "      <td>&lt;NA&gt;</td>\n",
       "      <td>None</td>\n",
       "      <td>2</td>\n",
       "      <td>2</td>\n",
       "    </tr>\n",
       "    <tr>\n",
       "      <th>1</th>\n",
       "      <td>003727-09012017</td>\n",
       "      <td>2017-01-09 10:41:54+00:00</td>\n",
       "      <td>False Alarm</td>\n",
       "      <td>AFA</td>\n",
       "      <td>Dwelling</td>\n",
       "      <td>House - single occupancy</td>\n",
       "      <td>Correct incident location</td>\n",
       "      <td>IG7</td>\n",
       "      <td>NOT GEO-CODED</td>\n",
       "      <td>Not geo-coded</td>\n",
       "      <td>&lt;NA&gt;</td>\n",
       "      <td>None</td>\n",
       "      <td>&lt;NA&gt;</td>\n",
       "      <td>None</td>\n",
       "      <td>2</td>\n",
       "      <td>2</td>\n",
       "    </tr>\n",
       "    <tr>\n",
       "      <th>2</th>\n",
       "      <td>003762-09012017</td>\n",
       "      <td>2017-01-09 12:28:39+00:00</td>\n",
       "      <td>False Alarm</td>\n",
       "      <td>AFA</td>\n",
       "      <td>Dwelling</td>\n",
       "      <td>House - single occupancy</td>\n",
       "      <td>Correct incident location</td>\n",
       "      <td>IG7</td>\n",
       "      <td>NOT GEO-CODED</td>\n",
       "      <td>Not geo-coded</td>\n",
       "      <td>&lt;NA&gt;</td>\n",
       "      <td>None</td>\n",
       "      <td>&lt;NA&gt;</td>\n",
       "      <td>None</td>\n",
       "      <td>2</td>\n",
       "      <td>2</td>\n",
       "    </tr>\n",
       "    <tr>\n",
       "      <th>3</th>\n",
       "      <td>006403-16012017</td>\n",
       "      <td>2017-01-16 04:02:14+00:00</td>\n",
       "      <td>False Alarm</td>\n",
       "      <td>AFA</td>\n",
       "      <td>Dwelling</td>\n",
       "      <td>Purpose Built Flats/Maisonettes - Up to 3 stor...</td>\n",
       "      <td>Correct incident location</td>\n",
       "      <td>IG7</td>\n",
       "      <td>NOT GEO-CODED</td>\n",
       "      <td>Not geo-coded</td>\n",
       "      <td>&lt;NA&gt;</td>\n",
       "      <td>None</td>\n",
       "      <td>&lt;NA&gt;</td>\n",
       "      <td>None</td>\n",
       "      <td>2</td>\n",
       "      <td>2</td>\n",
       "    </tr>\n",
       "    <tr>\n",
       "      <th>4</th>\n",
       "      <td>010947-26012017</td>\n",
       "      <td>2017-01-26 11:14:03+00:00</td>\n",
       "      <td>False Alarm</td>\n",
       "      <td>AFA</td>\n",
       "      <td>Dwelling</td>\n",
       "      <td>House - single occupancy</td>\n",
       "      <td>Correct incident location</td>\n",
       "      <td>IG10</td>\n",
       "      <td>NOT GEO-CODED</td>\n",
       "      <td>Not geo-coded</td>\n",
       "      <td>&lt;NA&gt;</td>\n",
       "      <td>None</td>\n",
       "      <td>&lt;NA&gt;</td>\n",
       "      <td>None</td>\n",
       "      <td>1</td>\n",
       "      <td>1</td>\n",
       "    </tr>\n",
       "  </tbody>\n",
       "</table>\n",
       "</div>"
      ],
      "text/plain": [
       "   incident_number         timestamp_of_call incident_group  \\\n",
       "0  000320-01012017 2017-01-01 15:30:22+00:00    False Alarm   \n",
       "1  003727-09012017 2017-01-09 10:41:54+00:00    False Alarm   \n",
       "2  003762-09012017 2017-01-09 12:28:39+00:00    False Alarm   \n",
       "3  006403-16012017 2017-01-16 04:02:14+00:00    False Alarm   \n",
       "4  010947-26012017 2017-01-26 11:14:03+00:00    False Alarm   \n",
       "\n",
       "  stop_code_description property_category  \\\n",
       "0                   AFA          Dwelling   \n",
       "1                   AFA          Dwelling   \n",
       "2                   AFA          Dwelling   \n",
       "3                   AFA          Dwelling   \n",
       "4                   AFA          Dwelling   \n",
       "\n",
       "                                       property_type  \\\n",
       "0  Purpose Built Flats/Maisonettes - Up to 3 stor...   \n",
       "1                          House - single occupancy    \n",
       "2                          House - single occupancy    \n",
       "3  Purpose Built Flats/Maisonettes - Up to 3 stor...   \n",
       "4                          House - single occupancy    \n",
       "\n",
       "           address_qualifier postcode_district    borough_name  \\\n",
       "0       Within same building               IG9   NOT GEO-CODED   \n",
       "1  Correct incident location               IG7   NOT GEO-CODED   \n",
       "2  Correct incident location               IG7   NOT GEO-CODED   \n",
       "3  Correct incident location               IG7   NOT GEO-CODED   \n",
       "4  Correct incident location              IG10   NOT GEO-CODED   \n",
       "\n",
       "        ward_name  first_pump_arriving_attendance_time  \\\n",
       "0   Not geo-coded                                 <NA>   \n",
       "1   Not geo-coded                                 <NA>   \n",
       "2   Not geo-coded                                 <NA>   \n",
       "3   Not geo-coded                                 <NA>   \n",
       "4   Not geo-coded                                 <NA>   \n",
       "\n",
       "  first_pump_arriving_deployed_from_station  \\\n",
       "0                                      None   \n",
       "1                                      None   \n",
       "2                                      None   \n",
       "3                                      None   \n",
       "4                                      None   \n",
       "\n",
       "   second_pump_arriving_attendance_time  \\\n",
       "0                                  <NA>   \n",
       "1                                  <NA>   \n",
       "2                                  <NA>   \n",
       "3                                  <NA>   \n",
       "4                                  <NA>   \n",
       "\n",
       "  second_pump_arriving_deployed_from_station  \\\n",
       "0                                       None   \n",
       "1                                       None   \n",
       "2                                       None   \n",
       "3                                       None   \n",
       "4                                       None   \n",
       "\n",
       "   num_stations_with_pumps_attending  num_pumps_attending  \n",
       "0                                  2                    2  \n",
       "1                                  2                    2  \n",
       "2                                  2                    2  \n",
       "3                                  2                    2  \n",
       "4                                  1                    1  "
      ]
     },
     "execution_count": 381,
     "metadata": {},
     "output_type": "execute_result"
    }
   ],
   "source": [
    "#View the first few rows\n",
    "london.head()"
   ]
  },
  {
   "cell_type": "code",
   "execution_count": 382,
   "id": "f22d730f",
   "metadata": {},
   "outputs": [
    {
     "data": {
      "text/plain": [
       "incident_number                                            object\n",
       "timestamp_of_call                             datetime64[ns, UTC]\n",
       "incident_group                                             object\n",
       "stop_code_description                                      object\n",
       "property_category                                          object\n",
       "property_type                                              object\n",
       "address_qualifier                                          object\n",
       "postcode_district                                          object\n",
       "borough_name                                               object\n",
       "ward_name                                                  object\n",
       "first_pump_arriving_attendance_time                         Int64\n",
       "first_pump_arriving_deployed_from_station                  object\n",
       "second_pump_arriving_attendance_time                        Int64\n",
       "second_pump_arriving_deployed_from_station                 object\n",
       "num_stations_with_pumps_attending                           Int64\n",
       "num_pumps_attending                                         Int64\n",
       "dtype: object"
      ]
     },
     "execution_count": 382,
     "metadata": {},
     "output_type": "execute_result"
    }
   ],
   "source": [
    "london.dtypes"
   ]
  },
  {
   "cell_type": "code",
   "execution_count": 383,
   "id": "740f025f",
   "metadata": {},
   "outputs": [
    {
     "data": {
      "text/plain": [
       "incident_number                                   0\n",
       "timestamp_of_call                                 0\n",
       "incident_group                                    0\n",
       "stop_code_description                             0\n",
       "property_category                                 0\n",
       "property_type                                     0\n",
       "address_qualifier                                 0\n",
       "postcode_district                                 0\n",
       "borough_name                                      0\n",
       "ward_name                                         0\n",
       "first_pump_arriving_attendance_time            1819\n",
       "first_pump_arriving_deployed_from_station      1819\n",
       "second_pump_arriving_attendance_time          20281\n",
       "second_pump_arriving_deployed_from_station    20281\n",
       "num_stations_with_pumps_attending                68\n",
       "num_pumps_attending                              68\n",
       "dtype: int64"
      ]
     },
     "execution_count": 383,
     "metadata": {},
     "output_type": "execute_result"
    }
   ],
   "source": [
    "#Check for missing values\n",
    "london.isnull().sum()"
   ]
  },
  {
   "cell_type": "markdown",
   "id": "a3ed50eb",
   "metadata": {},
   "source": [
    "Since \"second_pump_arriving_attendance_time\" and \"second_pump_arriving_deployed_from_station\" have most of their values missing, we'll drop those from the analysis. "
   ]
  },
  {
   "cell_type": "code",
   "execution_count": 3,
   "id": "9a76ddf8",
   "metadata": {},
   "outputs": [],
   "source": [
    "london.drop([\"second_pump_arriving_attendance_time\", \"second_pump_arriving_deployed_from_station\"], axis=1, inplace=True)"
   ]
  },
  {
   "cell_type": "markdown",
   "id": "5f8bf06a",
   "metadata": {},
   "source": [
    "# Split the Data into Training and Test Sets"
   ]
  },
  {
   "cell_type": "markdown",
   "id": "2ed350f4",
   "metadata": {},
   "source": [
    "Since we are going to be predicting if the call is a false alarm, we'll want to our test observations to be the newest in the data set. "
   ]
  },
  {
   "cell_type": "code",
   "execution_count": 385,
   "id": "88b59b6b",
   "metadata": {},
   "outputs": [
    {
     "data": {
      "text/plain": [
       "2017    32247\n",
       "Name: timestamp_of_call, dtype: int64"
      ]
     },
     "execution_count": 385,
     "metadata": {},
     "output_type": "execute_result"
    }
   ],
   "source": [
    "london[\"timestamp_of_call\"].dt.year.value_counts()"
   ]
  },
  {
   "cell_type": "markdown",
   "id": "8f57f461",
   "metadata": {},
   "source": [
    "We see that all of our observations are from the same year, therefore we can just randomly split the data. However, let's first check the proportion of calls that ended up being a false alarm.  "
   ]
  },
  {
   "cell_type": "code",
   "execution_count": 386,
   "id": "6564c49e",
   "metadata": {},
   "outputs": [
    {
     "data": {
      "text/plain": [
       "False Alarm        15732\n",
       "Special Service    10081\n",
       "Fire                6434\n",
       "Name: incident_group, dtype: int64"
      ]
     },
     "execution_count": 386,
     "metadata": {},
     "output_type": "execute_result"
    }
   ],
   "source": [
    "london[\"incident_group\"].value_counts()"
   ]
  },
  {
   "cell_type": "markdown",
   "id": "2899d672",
   "metadata": {},
   "source": [
    "Not all incidents were either a Fire or False Alarm. There is a third category, Special Service, as well. Since the entire purpose of this project is to reduce the number of false alarms that the department wastes its resources on, we'll combine Special Services and the Fire into one category called Emergency. We could have dropped all incidents with Special Service. However, the fire department has to respond to those types of calls so it's important to include them. "
   ]
  },
  {
   "cell_type": "code",
   "execution_count": 4,
   "id": "8bdd3f5a",
   "metadata": {},
   "outputs": [],
   "source": [
    "emergency = [\"Special Service\", \"Fire\"]\n",
    "\n",
    "london[\"incident_group\"].replace(emergency, \"Emergency\", inplace = True)"
   ]
  },
  {
   "cell_type": "code",
   "execution_count": 5,
   "id": "67d0e083",
   "metadata": {},
   "outputs": [
    {
     "data": {
      "text/plain": [
       "Emergency      0.512141\n",
       "False Alarm    0.487859\n",
       "Name: incident_group, dtype: float64"
      ]
     },
     "execution_count": 5,
     "metadata": {},
     "output_type": "execute_result"
    }
   ],
   "source": [
    "london[\"incident_group\"].value_counts() / london.shape[0]"
   ]
  },
  {
   "cell_type": "code",
   "execution_count": 29,
   "id": "f66bb742",
   "metadata": {},
   "outputs": [],
   "source": [
    "#Finally split the data\n",
    "london_train, london_test = train_test_split(london, test_size = .15, stratify = london[\"incident_group\"], random_state=42)"
   ]
  },
  {
   "cell_type": "code",
   "execution_count": 7,
   "id": "cf43b4de",
   "metadata": {},
   "outputs": [
    {
     "name": "stdout",
     "output_type": "stream",
     "text": [
      "(27409, 14)\n",
      "(4838, 14)\n"
     ]
    }
   ],
   "source": [
    "print(london_train.shape)\n",
    "print(london_test.shape)"
   ]
  },
  {
   "cell_type": "code",
   "execution_count": 8,
   "id": "1b712681",
   "metadata": {},
   "outputs": [
    {
     "data": {
      "text/html": [
       "<div>\n",
       "<style scoped>\n",
       "    .dataframe tbody tr th:only-of-type {\n",
       "        vertical-align: middle;\n",
       "    }\n",
       "\n",
       "    .dataframe tbody tr th {\n",
       "        vertical-align: top;\n",
       "    }\n",
       "\n",
       "    .dataframe thead th {\n",
       "        text-align: right;\n",
       "    }\n",
       "</style>\n",
       "<table border=\"1\" class=\"dataframe\">\n",
       "  <thead>\n",
       "    <tr style=\"text-align: right;\">\n",
       "      <th></th>\n",
       "      <th>incident_number</th>\n",
       "      <th>timestamp_of_call</th>\n",
       "      <th>incident_group</th>\n",
       "      <th>stop_code_description</th>\n",
       "      <th>property_category</th>\n",
       "      <th>property_type</th>\n",
       "      <th>address_qualifier</th>\n",
       "      <th>postcode_district</th>\n",
       "      <th>borough_name</th>\n",
       "      <th>ward_name</th>\n",
       "      <th>first_pump_arriving_attendance_time</th>\n",
       "      <th>first_pump_arriving_deployed_from_station</th>\n",
       "      <th>num_stations_with_pumps_attending</th>\n",
       "      <th>num_pumps_attending</th>\n",
       "    </tr>\n",
       "  </thead>\n",
       "  <tbody>\n",
       "    <tr>\n",
       "      <th>0</th>\n",
       "      <td>023952-25022017</td>\n",
       "      <td>2017-02-25 21:25:09+00:00</td>\n",
       "      <td>Emergency</td>\n",
       "      <td>Special Service</td>\n",
       "      <td>Road Vehicle</td>\n",
       "      <td>Car</td>\n",
       "      <td>In street outside gazetteer location</td>\n",
       "      <td>IG1</td>\n",
       "      <td>REDBRIDGE</td>\n",
       "      <td>MAYFIELD</td>\n",
       "      <td>296</td>\n",
       "      <td>Ilford</td>\n",
       "      <td>1</td>\n",
       "      <td>1</td>\n",
       "    </tr>\n",
       "    <tr>\n",
       "      <th>1</th>\n",
       "      <td>029837-12032017</td>\n",
       "      <td>2017-03-12 01:28:04+00:00</td>\n",
       "      <td>False Alarm</td>\n",
       "      <td>AFA</td>\n",
       "      <td>Dwelling</td>\n",
       "      <td>Purpose Built Flats/Maisonettes - Up to 3 stor...</td>\n",
       "      <td>Correct incident location</td>\n",
       "      <td>SW1P</td>\n",
       "      <td>WESTMINSTER</td>\n",
       "      <td>ST. JAMES'S</td>\n",
       "      <td>276</td>\n",
       "      <td>Lambeth</td>\n",
       "      <td>1</td>\n",
       "      <td>2</td>\n",
       "    </tr>\n",
       "    <tr>\n",
       "      <th>2</th>\n",
       "      <td>041522-06042017</td>\n",
       "      <td>2017-04-06 17:03:02+00:00</td>\n",
       "      <td>Emergency</td>\n",
       "      <td>Primary Fire</td>\n",
       "      <td>Dwelling</td>\n",
       "      <td>House - single occupancy</td>\n",
       "      <td>Within same building</td>\n",
       "      <td>E16</td>\n",
       "      <td>NEWHAM</td>\n",
       "      <td>CUSTOM HOUSE</td>\n",
       "      <td>335</td>\n",
       "      <td>East Ham</td>\n",
       "      <td>2</td>\n",
       "      <td>2</td>\n",
       "    </tr>\n",
       "    <tr>\n",
       "      <th>3</th>\n",
       "      <td>033936-21032017</td>\n",
       "      <td>2017-03-21 10:43:54+00:00</td>\n",
       "      <td>Emergency</td>\n",
       "      <td>Special Service</td>\n",
       "      <td>Non Residential</td>\n",
       "      <td>Single shop</td>\n",
       "      <td>Correct incident location</td>\n",
       "      <td>HA8</td>\n",
       "      <td>BARNET</td>\n",
       "      <td>BURNT OAK</td>\n",
       "      <td>334</td>\n",
       "      <td>Mill Hill</td>\n",
       "      <td>1</td>\n",
       "      <td>1</td>\n",
       "    </tr>\n",
       "    <tr>\n",
       "      <th>4</th>\n",
       "      <td>002591-06012017</td>\n",
       "      <td>2017-01-06 15:10:11+00:00</td>\n",
       "      <td>Emergency</td>\n",
       "      <td>Special Service</td>\n",
       "      <td>Dwelling</td>\n",
       "      <td>Purpose Built Flats/Maisonettes - 4 to 9 storeys</td>\n",
       "      <td>Correct incident location</td>\n",
       "      <td>E15</td>\n",
       "      <td>NEWHAM</td>\n",
       "      <td>FOREST GATE SOUTH</td>\n",
       "      <td>99</td>\n",
       "      <td>Stratford</td>\n",
       "      <td>1</td>\n",
       "      <td>1</td>\n",
       "    </tr>\n",
       "  </tbody>\n",
       "</table>\n",
       "</div>"
      ],
      "text/plain": [
       "   incident_number         timestamp_of_call incident_group  \\\n",
       "0  023952-25022017 2017-02-25 21:25:09+00:00      Emergency   \n",
       "1  029837-12032017 2017-03-12 01:28:04+00:00    False Alarm   \n",
       "2  041522-06042017 2017-04-06 17:03:02+00:00      Emergency   \n",
       "3  033936-21032017 2017-03-21 10:43:54+00:00      Emergency   \n",
       "4  002591-06012017 2017-01-06 15:10:11+00:00      Emergency   \n",
       "\n",
       "  stop_code_description property_category  \\\n",
       "0       Special Service      Road Vehicle   \n",
       "1                   AFA          Dwelling   \n",
       "2          Primary Fire          Dwelling   \n",
       "3       Special Service   Non Residential   \n",
       "4       Special Service          Dwelling   \n",
       "\n",
       "                                       property_type  \\\n",
       "0                                               Car    \n",
       "1  Purpose Built Flats/Maisonettes - Up to 3 stor...   \n",
       "2                          House - single occupancy    \n",
       "3                                       Single shop    \n",
       "4  Purpose Built Flats/Maisonettes - 4 to 9 storeys    \n",
       "\n",
       "                      address_qualifier postcode_district borough_name  \\\n",
       "0  In street outside gazetteer location               IG1    REDBRIDGE   \n",
       "1             Correct incident location              SW1P  WESTMINSTER   \n",
       "2                  Within same building               E16       NEWHAM   \n",
       "3             Correct incident location               HA8       BARNET   \n",
       "4             Correct incident location               E15       NEWHAM   \n",
       "\n",
       "           ward_name  first_pump_arriving_attendance_time  \\\n",
       "0           MAYFIELD                                  296   \n",
       "1        ST. JAMES'S                                  276   \n",
       "2       CUSTOM HOUSE                                  335   \n",
       "3          BURNT OAK                                  334   \n",
       "4  FOREST GATE SOUTH                                   99   \n",
       "\n",
       "  first_pump_arriving_deployed_from_station  \\\n",
       "0                                    Ilford   \n",
       "1                                   Lambeth   \n",
       "2                                  East Ham   \n",
       "3                                 Mill Hill   \n",
       "4                                 Stratford   \n",
       "\n",
       "   num_stations_with_pumps_attending  num_pumps_attending  \n",
       "0                                  1                    1  \n",
       "1                                  1                    2  \n",
       "2                                  2                    2  \n",
       "3                                  1                    1  \n",
       "4                                  1                    1  "
      ]
     },
     "execution_count": 8,
     "metadata": {},
     "output_type": "execute_result"
    }
   ],
   "source": [
    "london_train.reset_index(drop=True, inplace = True)\n",
    "london_train.head()"
   ]
  },
  {
   "cell_type": "markdown",
   "id": "1e2bfb86",
   "metadata": {},
   "source": [
    "# Clean the Data"
   ]
  },
  {
   "cell_type": "markdown",
   "id": "d902285b",
   "metadata": {},
   "source": [
    "### Make indicator variable for Emergency outcome"
   ]
  },
  {
   "cell_type": "code",
   "execution_count": 9,
   "id": "8b92b1e5",
   "metadata": {},
   "outputs": [],
   "source": [
    "%%capture --no-stdout \n",
    "london_train[\"Emergency\"] = (london_train[\"incident_group\"] == \"Emergency\").astype(np.int64)"
   ]
  },
  {
   "cell_type": "code",
   "execution_count": 11,
   "id": "1c88220d",
   "metadata": {},
   "outputs": [],
   "source": [
    "#Change the objects variables to categorical\n",
    "london_train.loc[:, london_train.dtypes == \"object\"] = london_train.select_dtypes([\"object\"]).apply(lambda x: x.astype(\"category\"))"
   ]
  },
  {
   "cell_type": "markdown",
   "id": "c31847ee",
   "metadata": {},
   "source": [
    "### Check for missing values"
   ]
  },
  {
   "cell_type": "code",
   "execution_count": 396,
   "id": "c980c6c2",
   "metadata": {},
   "outputs": [
    {
     "data": {
      "text/plain": [
       "incident_number                                 0\n",
       "timestamp_of_call                               0\n",
       "incident_group                                  0\n",
       "stop_code_description                           0\n",
       "property_category                               0\n",
       "property_type                                   0\n",
       "address_qualifier                               0\n",
       "postcode_district                               0\n",
       "borough_name                                    0\n",
       "ward_name                                       0\n",
       "first_pump_arriving_attendance_time          1542\n",
       "first_pump_arriving_deployed_from_station    1542\n",
       "num_stations_with_pumps_attending              56\n",
       "num_pumps_attending                            56\n",
       "Emergency                                       0\n",
       "dtype: int64"
      ]
     },
     "execution_count": 396,
     "metadata": {},
     "output_type": "execute_result"
    }
   ],
   "source": [
    "london_train.isnull().sum()"
   ]
  },
  {
   "cell_type": "markdown",
   "id": "bd976564",
   "metadata": {},
   "source": [
    "### Incident Number"
   ]
  },
  {
   "cell_type": "code",
   "execution_count": 397,
   "id": "4f1a3002",
   "metadata": {},
   "outputs": [
    {
     "data": {
      "text/plain": [
       "27409"
      ]
     },
     "execution_count": 397,
     "metadata": {},
     "output_type": "execute_result"
    }
   ],
   "source": [
    "#Number of observations\n",
    "london_train.shape[0]"
   ]
  },
  {
   "cell_type": "code",
   "execution_count": 398,
   "id": "60a1115a",
   "metadata": {},
   "outputs": [
    {
     "data": {
      "text/plain": [
       "27409"
      ]
     },
     "execution_count": 398,
     "metadata": {},
     "output_type": "execute_result"
    }
   ],
   "source": [
    "#Number of incidents\n",
    "len(london_train[\"incident_number\"].unique())"
   ]
  },
  {
   "cell_type": "markdown",
   "id": "0eb3ed53",
   "metadata": {},
   "source": [
    "As we'd hope, each observation in our data is a different reponse and there are no duplicates. "
   ]
  },
  {
   "cell_type": "markdown",
   "id": "6359f6d5",
   "metadata": {},
   "source": [
    "### Time"
   ]
  },
  {
   "cell_type": "code",
   "execution_count": 399,
   "id": "1816a1ac",
   "metadata": {},
   "outputs": [
    {
     "data": {
      "text/plain": [
       "0   2017-02-25 21:25:09+00:00\n",
       "1   2017-03-12 01:28:04+00:00\n",
       "2   2017-04-06 17:03:02+00:00\n",
       "3   2017-03-21 10:43:54+00:00\n",
       "4   2017-01-06 15:10:11+00:00\n",
       "Name: timestamp_of_call, dtype: datetime64[ns, UTC]"
      ]
     },
     "execution_count": 399,
     "metadata": {},
     "output_type": "execute_result"
    }
   ],
   "source": [
    "london_train[\"timestamp_of_call\"].head()"
   ]
  },
  {
   "cell_type": "markdown",
   "id": "0c03c98a",
   "metadata": {},
   "source": [
    "### Create a Month variable"
   ]
  },
  {
   "cell_type": "code",
   "execution_count": 12,
   "id": "395faa05",
   "metadata": {},
   "outputs": [],
   "source": [
    "%%capture --no-stdout\n",
    "london_train[\"Month\"] = london_train[\"timestamp_of_call\"].dt.month"
   ]
  },
  {
   "cell_type": "code",
   "execution_count": 13,
   "id": "eea3c815",
   "metadata": {},
   "outputs": [
    {
     "data": {
      "text/html": [
       "<div>\n",
       "<style scoped>\n",
       "    .dataframe tbody tr th:only-of-type {\n",
       "        vertical-align: middle;\n",
       "    }\n",
       "\n",
       "    .dataframe tbody tr th {\n",
       "        vertical-align: top;\n",
       "    }\n",
       "\n",
       "    .dataframe thead th {\n",
       "        text-align: right;\n",
       "    }\n",
       "</style>\n",
       "<table border=\"1\" class=\"dataframe\">\n",
       "  <thead>\n",
       "    <tr style=\"text-align: right;\">\n",
       "      <th></th>\n",
       "      <th>Month</th>\n",
       "      <th>Count</th>\n",
       "    </tr>\n",
       "  </thead>\n",
       "  <tbody>\n",
       "    <tr>\n",
       "      <th>1</th>\n",
       "      <td>1</td>\n",
       "      <td>6982</td>\n",
       "    </tr>\n",
       "    <tr>\n",
       "      <th>3</th>\n",
       "      <td>2</td>\n",
       "      <td>6217</td>\n",
       "    </tr>\n",
       "    <tr>\n",
       "      <th>2</th>\n",
       "      <td>3</td>\n",
       "      <td>6779</td>\n",
       "    </tr>\n",
       "    <tr>\n",
       "      <th>0</th>\n",
       "      <td>4</td>\n",
       "      <td>7431</td>\n",
       "    </tr>\n",
       "  </tbody>\n",
       "</table>\n",
       "</div>"
      ],
      "text/plain": [
       "   Month  Count\n",
       "1      1   6982\n",
       "3      2   6217\n",
       "2      3   6779\n",
       "0      4   7431"
      ]
     },
     "execution_count": 13,
     "metadata": {},
     "output_type": "execute_result"
    }
   ],
   "source": [
    "london_train[\"Month\"].value_counts().reset_index().rename(columns={\"index\":\"Month\", \"Month\":\"Count\"}).sort_values(by=\"Month\")"
   ]
  },
  {
   "cell_type": "markdown",
   "id": "98305a30",
   "metadata": {},
   "source": [
    "### Create a Hour variable"
   ]
  },
  {
   "cell_type": "code",
   "execution_count": 14,
   "id": "5f5fec55",
   "metadata": {},
   "outputs": [],
   "source": [
    "%%capture --no-stdout\n",
    "london_train[\"Hour\"] = london_train[\"timestamp_of_call\"].dt.hour"
   ]
  },
  {
   "cell_type": "code",
   "execution_count": 15,
   "id": "6ec49ab4",
   "metadata": {},
   "outputs": [
    {
     "data": {
      "text/html": [
       "<div>\n",
       "<style scoped>\n",
       "    .dataframe tbody tr th:only-of-type {\n",
       "        vertical-align: middle;\n",
       "    }\n",
       "\n",
       "    .dataframe tbody tr th {\n",
       "        vertical-align: top;\n",
       "    }\n",
       "\n",
       "    .dataframe thead th {\n",
       "        text-align: right;\n",
       "    }\n",
       "</style>\n",
       "<table border=\"1\" class=\"dataframe\">\n",
       "  <thead>\n",
       "    <tr style=\"text-align: right;\">\n",
       "      <th></th>\n",
       "      <th>Hour</th>\n",
       "      <th>Count</th>\n",
       "    </tr>\n",
       "  </thead>\n",
       "  <tbody>\n",
       "    <tr>\n",
       "      <th>16</th>\n",
       "      <td>0</td>\n",
       "      <td>830</td>\n",
       "    </tr>\n",
       "    <tr>\n",
       "      <th>18</th>\n",
       "      <td>1</td>\n",
       "      <td>744</td>\n",
       "    </tr>\n",
       "    <tr>\n",
       "      <th>20</th>\n",
       "      <td>2</td>\n",
       "      <td>550</td>\n",
       "    </tr>\n",
       "    <tr>\n",
       "      <th>21</th>\n",
       "      <td>3</td>\n",
       "      <td>482</td>\n",
       "    </tr>\n",
       "    <tr>\n",
       "      <th>23</th>\n",
       "      <td>4</td>\n",
       "      <td>423</td>\n",
       "    </tr>\n",
       "    <tr>\n",
       "      <th>22</th>\n",
       "      <td>5</td>\n",
       "      <td>434</td>\n",
       "    </tr>\n",
       "    <tr>\n",
       "      <th>19</th>\n",
       "      <td>6</td>\n",
       "      <td>552</td>\n",
       "    </tr>\n",
       "    <tr>\n",
       "      <th>17</th>\n",
       "      <td>7</td>\n",
       "      <td>745</td>\n",
       "    </tr>\n",
       "    <tr>\n",
       "      <th>14</th>\n",
       "      <td>8</td>\n",
       "      <td>1014</td>\n",
       "    </tr>\n",
       "    <tr>\n",
       "      <th>12</th>\n",
       "      <td>9</td>\n",
       "      <td>1169</td>\n",
       "    </tr>\n",
       "    <tr>\n",
       "      <th>10</th>\n",
       "      <td>10</td>\n",
       "      <td>1286</td>\n",
       "    </tr>\n",
       "    <tr>\n",
       "      <th>9</th>\n",
       "      <td>11</td>\n",
       "      <td>1388</td>\n",
       "    </tr>\n",
       "    <tr>\n",
       "      <th>8</th>\n",
       "      <td>12</td>\n",
       "      <td>1412</td>\n",
       "    </tr>\n",
       "    <tr>\n",
       "      <th>7</th>\n",
       "      <td>13</td>\n",
       "      <td>1514</td>\n",
       "    </tr>\n",
       "    <tr>\n",
       "      <th>6</th>\n",
       "      <td>14</td>\n",
       "      <td>1536</td>\n",
       "    </tr>\n",
       "    <tr>\n",
       "      <th>3</th>\n",
       "      <td>15</td>\n",
       "      <td>1591</td>\n",
       "    </tr>\n",
       "    <tr>\n",
       "      <th>4</th>\n",
       "      <td>16</td>\n",
       "      <td>1585</td>\n",
       "    </tr>\n",
       "    <tr>\n",
       "      <th>2</th>\n",
       "      <td>17</td>\n",
       "      <td>1647</td>\n",
       "    </tr>\n",
       "    <tr>\n",
       "      <th>0</th>\n",
       "      <td>18</td>\n",
       "      <td>1854</td>\n",
       "    </tr>\n",
       "    <tr>\n",
       "      <th>1</th>\n",
       "      <td>19</td>\n",
       "      <td>1671</td>\n",
       "    </tr>\n",
       "    <tr>\n",
       "      <th>5</th>\n",
       "      <td>20</td>\n",
       "      <td>1573</td>\n",
       "    </tr>\n",
       "    <tr>\n",
       "      <th>11</th>\n",
       "      <td>21</td>\n",
       "      <td>1251</td>\n",
       "    </tr>\n",
       "    <tr>\n",
       "      <th>13</th>\n",
       "      <td>22</td>\n",
       "      <td>1153</td>\n",
       "    </tr>\n",
       "    <tr>\n",
       "      <th>15</th>\n",
       "      <td>23</td>\n",
       "      <td>1005</td>\n",
       "    </tr>\n",
       "  </tbody>\n",
       "</table>\n",
       "</div>"
      ],
      "text/plain": [
       "    Hour  Count\n",
       "16     0    830\n",
       "18     1    744\n",
       "20     2    550\n",
       "21     3    482\n",
       "23     4    423\n",
       "22     5    434\n",
       "19     6    552\n",
       "17     7    745\n",
       "14     8   1014\n",
       "12     9   1169\n",
       "10    10   1286\n",
       "9     11   1388\n",
       "8     12   1412\n",
       "7     13   1514\n",
       "6     14   1536\n",
       "3     15   1591\n",
       "4     16   1585\n",
       "2     17   1647\n",
       "0     18   1854\n",
       "1     19   1671\n",
       "5     20   1573\n",
       "11    21   1251\n",
       "13    22   1153\n",
       "15    23   1005"
      ]
     },
     "execution_count": 15,
     "metadata": {},
     "output_type": "execute_result"
    }
   ],
   "source": [
    "london_train[\"Hour\"].value_counts().reset_index().rename(columns={\"index\":\"Hour\", \"Hour\":\"Count\"}).sort_values(by=\"Hour\")"
   ]
  },
  {
   "cell_type": "markdown",
   "id": "9dd8575c",
   "metadata": {},
   "source": [
    "### Drop the timestamp variable"
   ]
  },
  {
   "cell_type": "code",
   "execution_count": 62,
   "id": "4783d215",
   "metadata": {},
   "outputs": [],
   "source": [
    "#london_train.drop(\"timestamp_of_call\", axis = 1, inplace = True)"
   ]
  },
  {
   "cell_type": "markdown",
   "id": "225c48b7",
   "metadata": {},
   "source": [
    "### Stop Code Description"
   ]
  },
  {
   "cell_type": "code",
   "execution_count": 404,
   "id": "649e4aa9",
   "metadata": {},
   "outputs": [
    {
     "data": {
      "text/plain": [
       "AFA                                      10017\n",
       "Special Service                           8580\n",
       "Primary Fire                              3031\n",
       "False alarm - Good intent                 2977\n",
       "Secondary Fire                            2407\n",
       "False alarm - Malicious                    378\n",
       "Chimney Fire                                11\n",
       "Flood call attended - Batch mobilised        7\n",
       "Late Call                                    1\n",
       "Name: stop_code_description, dtype: int64"
      ]
     },
     "execution_count": 404,
     "metadata": {},
     "output_type": "execute_result"
    }
   ],
   "source": [
    "london_train[\"stop_code_description\"].value_counts()"
   ]
  },
  {
   "cell_type": "markdown",
   "id": "2d7cc79c",
   "metadata": {},
   "source": [
    "### Property Category"
   ]
  },
  {
   "cell_type": "code",
   "execution_count": 16,
   "id": "5995588f",
   "metadata": {},
   "outputs": [
    {
     "data": {
      "text/plain": [
       "Dwelling             13048\n",
       "Non Residential       6519\n",
       "Road Vehicle          2369\n",
       "Outdoor               2196\n",
       "Outdoor Structure     1684\n",
       "Other Residential     1537\n",
       "Aircraft                21\n",
       "Boat                    20\n",
       "Rail Vehicle            15\n",
       "Name: property_category, dtype: int64"
      ]
     },
     "execution_count": 16,
     "metadata": {},
     "output_type": "execute_result"
    }
   ],
   "source": [
    "london_train[\"property_category\"].value_counts()"
   ]
  },
  {
   "cell_type": "code",
   "execution_count": 18,
   "id": "ca50d09f",
   "metadata": {},
   "outputs": [],
   "source": [
    "res = [\"Dwelling\", \"Other Residential\"]\n",
    "london_train[\"property_category\"].replace(res, \"Residential\", inplace = True)\n",
    "\n",
    "vehicle = [\"Road Vehicle\", \"Aircraft\", \"Boat\", \"Rail Vehicle\"]\n",
    "london_train[\"property_category\"].replace(vehicle, \"Vehicle\", inplace = True)\n",
    "\n",
    "london_train[\"property_category\"].replace(\"Outdoor Structure\", \"Outdoor\", inplace = True)"
   ]
  },
  {
   "cell_type": "code",
   "execution_count": 19,
   "id": "2797bd7c",
   "metadata": {},
   "outputs": [
    {
     "data": {
      "text/plain": [
       "Residential        14585\n",
       "Non Residential     6519\n",
       "Outdoor             3880\n",
       "Vehicle             2425\n",
       "Name: property_category, dtype: int64"
      ]
     },
     "execution_count": 19,
     "metadata": {},
     "output_type": "execute_result"
    }
   ],
   "source": [
    "london_train[\"property_category\"].value_counts()"
   ]
  },
  {
   "cell_type": "markdown",
   "id": "c1901425",
   "metadata": {},
   "source": [
    "### Property Type"
   ]
  },
  {
   "cell_type": "code",
   "execution_count": 20,
   "id": "7d5c6606",
   "metadata": {},
   "outputs": [
    {
     "data": {
      "text/plain": [
       "Purpose Built Flats/Maisonettes - 4 to 9 storeys      3266\n",
       "House - single occupancy                              3234\n",
       "Purpose Built Flats/Maisonettes - Up to 3 storeys     2486\n",
       "Car                                                   1403\n",
       "Self contained Sheltered Housing                      1224\n",
       "                                                      ... \n",
       "Theme Park                                               1\n",
       "Tennis Courts                                            1\n",
       "Naval vessel                                             1\n",
       "Private greenhouse                                       1\n",
       "Agricultural equipment                                   1\n",
       "Name: property_type, Length: 256, dtype: int64"
      ]
     },
     "execution_count": 20,
     "metadata": {},
     "output_type": "execute_result"
    }
   ],
   "source": [
    "london_train[\"property_type\"].value_counts()"
   ]
  },
  {
   "cell_type": "markdown",
   "id": "fefb8908",
   "metadata": {},
   "source": [
    "Clearly, there are way too many categories in the \"property_type\" variable to be used in a model. Instead of trying to logically merge categories based on group similarity, we'll group based on emergency percentage. Those categories with a high percentage of real emergencies will be grouped with other high percentage emergencies. "
   ]
  },
  {
   "cell_type": "code",
   "execution_count": 21,
   "id": "0492abac",
   "metadata": {},
   "outputs": [
    {
     "data": {
      "text/html": [
       "<div>\n",
       "<style scoped>\n",
       "    .dataframe tbody tr th:only-of-type {\n",
       "        vertical-align: middle;\n",
       "    }\n",
       "\n",
       "    .dataframe tbody tr th {\n",
       "        vertical-align: top;\n",
       "    }\n",
       "\n",
       "    .dataframe thead th {\n",
       "        text-align: right;\n",
       "    }\n",
       "</style>\n",
       "<table border=\"1\" class=\"dataframe\">\n",
       "  <thead>\n",
       "    <tr style=\"text-align: right;\">\n",
       "      <th></th>\n",
       "      <th>property_type</th>\n",
       "      <th>mean</th>\n",
       "      <th>sum</th>\n",
       "      <th>pt_rank</th>\n",
       "    </tr>\n",
       "  </thead>\n",
       "  <tbody>\n",
       "    <tr>\n",
       "      <th>0</th>\n",
       "      <td>Agricultural equipment</td>\n",
       "      <td>100.0</td>\n",
       "      <td>1</td>\n",
       "      <td>10</td>\n",
       "    </tr>\n",
       "    <tr>\n",
       "      <th>1</th>\n",
       "      <td>Camping tent</td>\n",
       "      <td>100.0</td>\n",
       "      <td>2</td>\n",
       "      <td>10</td>\n",
       "    </tr>\n",
       "    <tr>\n",
       "      <th>2</th>\n",
       "      <td>Freight plane</td>\n",
       "      <td>100.0</td>\n",
       "      <td>1</td>\n",
       "      <td>10</td>\n",
       "    </tr>\n",
       "    <tr>\n",
       "      <th>3</th>\n",
       "      <td>Human harm outdoors</td>\n",
       "      <td>100.0</td>\n",
       "      <td>5</td>\n",
       "      <td>10</td>\n",
       "    </tr>\n",
       "    <tr>\n",
       "      <th>4</th>\n",
       "      <td>Kiosk</td>\n",
       "      <td>100.0</td>\n",
       "      <td>1</td>\n",
       "      <td>10</td>\n",
       "    </tr>\n",
       "    <tr>\n",
       "      <th>...</th>\n",
       "      <td>...</td>\n",
       "      <td>...</td>\n",
       "      <td>...</td>\n",
       "      <td>...</td>\n",
       "    </tr>\n",
       "    <tr>\n",
       "      <th>251</th>\n",
       "      <td>Airport - hangar</td>\n",
       "      <td>0.0</td>\n",
       "      <td>0</td>\n",
       "      <td>-1</td>\n",
       "    </tr>\n",
       "    <tr>\n",
       "      <th>252</th>\n",
       "      <td>Greyhound stadium</td>\n",
       "      <td>0.0</td>\n",
       "      <td>0</td>\n",
       "      <td>-1</td>\n",
       "    </tr>\n",
       "    <tr>\n",
       "      <th>253</th>\n",
       "      <td>Airport - fuel storage</td>\n",
       "      <td>0.0</td>\n",
       "      <td>0</td>\n",
       "      <td>-1</td>\n",
       "    </tr>\n",
       "    <tr>\n",
       "      <th>254</th>\n",
       "      <td>Cricket ground</td>\n",
       "      <td>0.0</td>\n",
       "      <td>0</td>\n",
       "      <td>-1</td>\n",
       "    </tr>\n",
       "    <tr>\n",
       "      <th>255</th>\n",
       "      <td>Zoo</td>\n",
       "      <td>0.0</td>\n",
       "      <td>0</td>\n",
       "      <td>-1</td>\n",
       "    </tr>\n",
       "  </tbody>\n",
       "</table>\n",
       "<p>256 rows × 4 columns</p>\n",
       "</div>"
      ],
      "text/plain": [
       "               property_type   mean  sum pt_rank\n",
       "0    Agricultural equipment   100.0    1      10\n",
       "1              Camping tent   100.0    2      10\n",
       "2             Freight plane   100.0    1      10\n",
       "3        Human harm outdoors  100.0    5      10\n",
       "4                     Kiosk   100.0    1      10\n",
       "..                       ...    ...  ...     ...\n",
       "251        Airport - hangar     0.0    0      -1\n",
       "252       Greyhound stadium     0.0    0      -1\n",
       "253  Airport - fuel storage     0.0    0      -1\n",
       "254          Cricket ground     0.0    0      -1\n",
       "255                     Zoo     0.0    0      -1\n",
       "\n",
       "[256 rows x 4 columns]"
      ]
     },
     "execution_count": 21,
     "metadata": {},
     "output_type": "execute_result"
    }
   ],
   "source": [
    "#Group by property type and summarize by the Emergency variable\n",
    "pt_grp = london_train.groupby(\"property_type\")[\"Emergency\"].aggregate([\"mean\", \"sum\"]).sort_values(by=\"mean\", ascending=False)\n",
    "pt_grp.reset_index(inplace = True)\n",
    "#Change the proportion into a percentage\n",
    "pt_grp[\"mean\"] *= 100\n",
    "#Create a new variable that ranks the values based on their percentage\n",
    "pt_grp[\"pt_rank\"] = (pt_grp[\"mean\"] / 10).astype(np.int)\n",
    "#Specifically change the values with 0 percentage to -1 as a special category i.e no chance it's a real emergency\n",
    "pt_grp.loc[pt_grp[\"mean\"] == 0, \"pt_rank\"] = \"-1\"\n",
    "pt_grp"
   ]
  },
  {
   "cell_type": "code",
   "execution_count": 22,
   "id": "d986dea6",
   "metadata": {},
   "outputs": [],
   "source": [
    "#Join the london data with the pt_df to match the property type rankings\n",
    "london_train = pd.merge(left = london_train, right = pt_grp[[\"property_type\", \"pt_rank\"]], left_on = \"property_type\", right_on=\"property_type\")"
   ]
  },
  {
   "cell_type": "code",
   "execution_count": 23,
   "id": "db47a3e6",
   "metadata": {},
   "outputs": [
    {
     "data": {
      "text/html": [
       "<div>\n",
       "<style scoped>\n",
       "    .dataframe tbody tr th:only-of-type {\n",
       "        vertical-align: middle;\n",
       "    }\n",
       "\n",
       "    .dataframe tbody tr th {\n",
       "        vertical-align: top;\n",
       "    }\n",
       "\n",
       "    .dataframe thead th {\n",
       "        text-align: right;\n",
       "    }\n",
       "</style>\n",
       "<table border=\"1\" class=\"dataframe\">\n",
       "  <thead>\n",
       "    <tr style=\"text-align: right;\">\n",
       "      <th></th>\n",
       "      <th>property_type</th>\n",
       "      <th>pt_rank</th>\n",
       "    </tr>\n",
       "  </thead>\n",
       "  <tbody>\n",
       "    <tr>\n",
       "      <th>27399</th>\n",
       "      <td>Airfield/runway</td>\n",
       "      <td>10</td>\n",
       "    </tr>\n",
       "    <tr>\n",
       "      <th>27400</th>\n",
       "      <td>Bulk oil storage</td>\n",
       "      <td>-1</td>\n",
       "    </tr>\n",
       "    <tr>\n",
       "      <th>27401</th>\n",
       "      <td>Bulk oil storage</td>\n",
       "      <td>-1</td>\n",
       "    </tr>\n",
       "    <tr>\n",
       "      <th>27402</th>\n",
       "      <td>Stacked/baled crop</td>\n",
       "      <td>10</td>\n",
       "    </tr>\n",
       "    <tr>\n",
       "      <th>27403</th>\n",
       "      <td>Agricultural equipment</td>\n",
       "      <td>10</td>\n",
       "    </tr>\n",
       "    <tr>\n",
       "      <th>27404</th>\n",
       "      <td>Tennis Courts</td>\n",
       "      <td>10</td>\n",
       "    </tr>\n",
       "    <tr>\n",
       "      <th>27405</th>\n",
       "      <td>Other tent/marquee</td>\n",
       "      <td>5</td>\n",
       "    </tr>\n",
       "    <tr>\n",
       "      <th>27406</th>\n",
       "      <td>Other tent/marquee</td>\n",
       "      <td>5</td>\n",
       "    </tr>\n",
       "    <tr>\n",
       "      <th>27407</th>\n",
       "      <td>Airport - fuel storage</td>\n",
       "      <td>-1</td>\n",
       "    </tr>\n",
       "    <tr>\n",
       "      <th>27408</th>\n",
       "      <td>Minibus</td>\n",
       "      <td>10</td>\n",
       "    </tr>\n",
       "  </tbody>\n",
       "</table>\n",
       "</div>"
      ],
      "text/plain": [
       "                 property_type pt_rank\n",
       "27399         Airfield/runway       10\n",
       "27400         Bulk oil storage      -1\n",
       "27401         Bulk oil storage      -1\n",
       "27402      Stacked/baled crop       10\n",
       "27403  Agricultural equipment       10\n",
       "27404           Tennis Courts       10\n",
       "27405      Other tent/marquee        5\n",
       "27406      Other tent/marquee        5\n",
       "27407  Airport - fuel storage       -1\n",
       "27408                 Minibus       10"
      ]
     },
     "execution_count": 23,
     "metadata": {},
     "output_type": "execute_result"
    }
   ],
   "source": [
    "london_train[[\"property_type\", \"pt_rank\"]].tail(n = 10)"
   ]
  },
  {
   "cell_type": "code",
   "execution_count": 416,
   "id": "f3d20b07",
   "metadata": {},
   "outputs": [
    {
     "data": {
      "text/html": [
       "<div>\n",
       "<style scoped>\n",
       "    .dataframe tbody tr th:only-of-type {\n",
       "        vertical-align: middle;\n",
       "    }\n",
       "\n",
       "    .dataframe tbody tr th {\n",
       "        vertical-align: top;\n",
       "    }\n",
       "\n",
       "    .dataframe thead th {\n",
       "        text-align: right;\n",
       "    }\n",
       "</style>\n",
       "<table border=\"1\" class=\"dataframe\">\n",
       "  <thead>\n",
       "    <tr style=\"text-align: right;\">\n",
       "      <th></th>\n",
       "      <th>incident_number</th>\n",
       "      <th>timestamp_of_call</th>\n",
       "      <th>incident_group</th>\n",
       "      <th>stop_code_description</th>\n",
       "      <th>property_category</th>\n",
       "      <th>property_type</th>\n",
       "      <th>address_qualifier</th>\n",
       "      <th>postcode_district</th>\n",
       "      <th>borough_name</th>\n",
       "      <th>ward_name</th>\n",
       "      <th>first_pump_arriving_attendance_time</th>\n",
       "      <th>first_pump_arriving_deployed_from_station</th>\n",
       "      <th>num_stations_with_pumps_attending</th>\n",
       "      <th>num_pumps_attending</th>\n",
       "      <th>Emergency</th>\n",
       "      <th>Month</th>\n",
       "      <th>Hour</th>\n",
       "      <th>pt_rank</th>\n",
       "    </tr>\n",
       "  </thead>\n",
       "  <tbody>\n",
       "    <tr>\n",
       "      <th>0</th>\n",
       "      <td>023952-25022017</td>\n",
       "      <td>2017-02-25 21:25:09+00:00</td>\n",
       "      <td>Emergency</td>\n",
       "      <td>Special Service</td>\n",
       "      <td>Vehicle</td>\n",
       "      <td>Car</td>\n",
       "      <td>In street outside gazetteer location</td>\n",
       "      <td>IG1</td>\n",
       "      <td>REDBRIDGE</td>\n",
       "      <td>MAYFIELD</td>\n",
       "      <td>296</td>\n",
       "      <td>Ilford</td>\n",
       "      <td>1</td>\n",
       "      <td>1</td>\n",
       "      <td>1</td>\n",
       "      <td>2</td>\n",
       "      <td>21</td>\n",
       "      <td>8</td>\n",
       "    </tr>\n",
       "    <tr>\n",
       "      <th>1</th>\n",
       "      <td>045461-13042017</td>\n",
       "      <td>2017-04-13 10:39:29+00:00</td>\n",
       "      <td>Emergency</td>\n",
       "      <td>Special Service</td>\n",
       "      <td>Vehicle</td>\n",
       "      <td>Car</td>\n",
       "      <td>In street close to gazetteer location</td>\n",
       "      <td>BR6</td>\n",
       "      <td>BROMLEY</td>\n",
       "      <td>ORPINGTON</td>\n",
       "      <td>29</td>\n",
       "      <td>Orpington</td>\n",
       "      <td>1</td>\n",
       "      <td>1</td>\n",
       "      <td>1</td>\n",
       "      <td>4</td>\n",
       "      <td>10</td>\n",
       "      <td>8</td>\n",
       "    </tr>\n",
       "    <tr>\n",
       "      <th>2</th>\n",
       "      <td>031311-15032017</td>\n",
       "      <td>2017-03-15 13:27:36+00:00</td>\n",
       "      <td>Emergency</td>\n",
       "      <td>Special Service</td>\n",
       "      <td>Vehicle</td>\n",
       "      <td>Car</td>\n",
       "      <td>In street outside gazetteer location</td>\n",
       "      <td>TW13</td>\n",
       "      <td>HOUNSLOW</td>\n",
       "      <td>HANWORTH PARK</td>\n",
       "      <td>364</td>\n",
       "      <td>Feltham</td>\n",
       "      <td>1</td>\n",
       "      <td>1</td>\n",
       "      <td>1</td>\n",
       "      <td>3</td>\n",
       "      <td>13</td>\n",
       "      <td>8</td>\n",
       "    </tr>\n",
       "    <tr>\n",
       "      <th>3</th>\n",
       "      <td>032072-17032017</td>\n",
       "      <td>2017-03-17 09:12:15+00:00</td>\n",
       "      <td>False Alarm</td>\n",
       "      <td>False alarm - Malicious</td>\n",
       "      <td>Vehicle</td>\n",
       "      <td>Car</td>\n",
       "      <td>In street close to gazetteer location</td>\n",
       "      <td>DA14</td>\n",
       "      <td>BEXLEY</td>\n",
       "      <td>CRAY MEADOWS</td>\n",
       "      <td>980</td>\n",
       "      <td>Sidcup</td>\n",
       "      <td>1</td>\n",
       "      <td>2</td>\n",
       "      <td>0</td>\n",
       "      <td>3</td>\n",
       "      <td>9</td>\n",
       "      <td>8</td>\n",
       "    </tr>\n",
       "    <tr>\n",
       "      <th>4</th>\n",
       "      <td>034893-23032017</td>\n",
       "      <td>2017-03-23 14:37:02+00:00</td>\n",
       "      <td>Emergency</td>\n",
       "      <td>Special Service</td>\n",
       "      <td>Vehicle</td>\n",
       "      <td>Car</td>\n",
       "      <td>In street outside gazetteer location</td>\n",
       "      <td>N1</td>\n",
       "      <td>ISLINGTON</td>\n",
       "      <td>ST. PETER'S</td>\n",
       "      <td>219</td>\n",
       "      <td>Islington</td>\n",
       "      <td>1</td>\n",
       "      <td>1</td>\n",
       "      <td>1</td>\n",
       "      <td>3</td>\n",
       "      <td>14</td>\n",
       "      <td>8</td>\n",
       "    </tr>\n",
       "  </tbody>\n",
       "</table>\n",
       "</div>"
      ],
      "text/plain": [
       "   incident_number         timestamp_of_call incident_group  \\\n",
       "0  023952-25022017 2017-02-25 21:25:09+00:00      Emergency   \n",
       "1  045461-13042017 2017-04-13 10:39:29+00:00      Emergency   \n",
       "2  031311-15032017 2017-03-15 13:27:36+00:00      Emergency   \n",
       "3  032072-17032017 2017-03-17 09:12:15+00:00    False Alarm   \n",
       "4  034893-23032017 2017-03-23 14:37:02+00:00      Emergency   \n",
       "\n",
       "     stop_code_description property_category property_type  \\\n",
       "0          Special Service           Vehicle          Car    \n",
       "1          Special Service           Vehicle          Car    \n",
       "2          Special Service           Vehicle          Car    \n",
       "3  False alarm - Malicious           Vehicle          Car    \n",
       "4          Special Service           Vehicle          Car    \n",
       "\n",
       "                       address_qualifier postcode_district borough_name  \\\n",
       "0   In street outside gazetteer location               IG1    REDBRIDGE   \n",
       "1  In street close to gazetteer location               BR6      BROMLEY   \n",
       "2   In street outside gazetteer location              TW13     HOUNSLOW   \n",
       "3  In street close to gazetteer location              DA14       BEXLEY   \n",
       "4   In street outside gazetteer location                N1    ISLINGTON   \n",
       "\n",
       "       ward_name  first_pump_arriving_attendance_time  \\\n",
       "0       MAYFIELD                                  296   \n",
       "1      ORPINGTON                                   29   \n",
       "2  HANWORTH PARK                                  364   \n",
       "3   CRAY MEADOWS                                  980   \n",
       "4    ST. PETER'S                                  219   \n",
       "\n",
       "  first_pump_arriving_deployed_from_station  \\\n",
       "0                                    Ilford   \n",
       "1                                 Orpington   \n",
       "2                                   Feltham   \n",
       "3                                    Sidcup   \n",
       "4                                 Islington   \n",
       "\n",
       "   num_stations_with_pumps_attending  num_pumps_attending  Emergency  Month  \\\n",
       "0                                  1                    1          1      2   \n",
       "1                                  1                    1          1      4   \n",
       "2                                  1                    1          1      3   \n",
       "3                                  1                    2          0      3   \n",
       "4                                  1                    1          1      3   \n",
       "\n",
       "   Hour pt_rank  \n",
       "0    21       8  \n",
       "1    10       8  \n",
       "2    13       8  \n",
       "3     9       8  \n",
       "4    14       8  "
      ]
     },
     "execution_count": 416,
     "metadata": {},
     "output_type": "execute_result"
    }
   ],
   "source": [
    "london_train.head()"
   ]
  },
  {
   "cell_type": "markdown",
   "id": "e6271954",
   "metadata": {},
   "source": [
    "### Address Qualifier"
   ]
  },
  {
   "cell_type": "code",
   "execution_count": 30,
   "id": "efb2efe4",
   "metadata": {},
   "outputs": [
    {
     "data": {
      "text/plain": [
       "Correct incident location                          16392\n",
       "Within same building                                4814\n",
       "In street outside gazetteer location                2216\n",
       "On land associated with building                    1779\n",
       "In street close to gazetteer location                948\n",
       "Open land/water - nearest gazetteer location         733\n",
       "On motorway / elevated road                          153\n",
       "Nearby address - no building in street               131\n",
       "Nearby address - street not listed in gazetteer      106\n",
       "In street remote from gazetteer location              96\n",
       "Railway land or rolling stock                         41\n",
       "Name: address_qualifier, dtype: int64"
      ]
     },
     "execution_count": 30,
     "metadata": {},
     "output_type": "execute_result"
    }
   ],
   "source": [
    "london_train[\"address_qualifier\"].value_counts()"
   ]
  },
  {
   "cell_type": "markdown",
   "id": "e84f7bd4",
   "metadata": {},
   "source": [
    "There are not too many different categories for the address qualifier variable. We'll combine a few of them based on logical relationships. "
   ]
  },
  {
   "cell_type": "code",
   "execution_count": 32,
   "id": "42f5f675",
   "metadata": {},
   "outputs": [],
   "source": [
    "street = [\"In street outside gazetteer location\", \"In street remote from gazetteer location\", \n",
    "          \"In street close to gazetteer location\", \"Open land/water - nearest gazetteer location\"]\n",
    "london_train[\"address_qualifier\"].replace(street, \"Gazetter\", inplace = True)\n",
    "\n",
    "nearby = [\"Nearby address - no building in street\", \"Nearby address - street not listed in gazetteer\"]\n",
    "london_train[\"address_qualifier\"].replace(nearby, \"Nearby Address\", inplace = True)\n",
    "\n",
    "other = [\"On motorway / elevated road\", \"Railway land or rolling stock\"]\n",
    "london_train[\"address_qualifier\"].replace(other, \"Other\", inplace = True)"
   ]
  },
  {
   "cell_type": "code",
   "execution_count": 36,
   "id": "3fc15394",
   "metadata": {},
   "outputs": [
    {
     "data": {
      "text/plain": [
       "Correct incident location           16392\n",
       "Within same building                 4814\n",
       "Gazetter                             3993\n",
       "On land associated with building     1779\n",
       "Nearby Address                        237\n",
       "Other                                 194\n",
       "Name: address_qualifier, dtype: int64"
      ]
     },
     "execution_count": 36,
     "metadata": {},
     "output_type": "execute_result"
    }
   ],
   "source": [
    "london_train[\"address_qualifier\"].value_counts()"
   ]
  },
  {
   "cell_type": "code",
   "execution_count": null,
   "id": "11aba032",
   "metadata": {},
   "outputs": [],
   "source": []
  }
 ],
 "metadata": {
  "kernelspec": {
   "display_name": "Python 3",
   "language": "python",
   "name": "python3"
  },
  "language_info": {
   "codemirror_mode": {
    "name": "ipython",
    "version": 3
   },
   "file_extension": ".py",
   "mimetype": "text/x-python",
   "name": "python",
   "nbconvert_exporter": "python",
   "pygments_lexer": "ipython3",
   "version": "3.8.8"
  }
 },
 "nbformat": 4,
 "nbformat_minor": 5
}
