{
 "cells": [
  {
   "cell_type": "markdown",
   "id": "94471f1e",
   "metadata": {},
   "source": [
    "# Setup and Imports"
   ]
  },
  {
   "cell_type": "code",
   "execution_count": 16,
   "id": "b04036db",
   "metadata": {},
   "outputs": [],
   "source": [
    "import pandas as pd\n",
    "import numpy as np\n",
    "import matplotlib.pyplot as plt\n",
    "%matplotlib inline\n",
    "import seaborn as sns\n",
    "sns.set\n",
    "import warnings\n",
    "from pandas.io import gbq\n",
    "from sklearn.model_selection import train_test_split"
   ]
  },
  {
   "cell_type": "markdown",
   "id": "6ae1c29e",
   "metadata": {},
   "source": [
    "# Get the Data"
   ]
  },
  {
   "cell_type": "code",
   "execution_count": 81,
   "id": "150f4131",
   "metadata": {},
   "outputs": [
    {
     "name": "stdout",
     "output_type": "stream",
     "text": [
      "Wall time: 8.37 s\n"
     ]
    }
   ],
   "source": [
    "%%time\n",
    "query = \"\"\"\n",
    "            SELECT incident_number, timestamp_of_call, incident_group, stop_code_description, property_category, \n",
    "                    property_type, address_qualifier, postcode_district, borough_name, ward_name, \n",
    "                    first_pump_arriving_attendance_time, first_pump_arriving_deployed_from_station,\n",
    "                    second_pump_arriving_attendance_time, second_pump_arriving_deployed_from_station, \n",
    "                    num_stations_with_pumps_attending, num_pumps_attending,\n",
    "                    FROM `gdac-327115.LondonFire.fire_brigade`\n",
    "        \"\"\"\n",
    "\n",
    "london = gbq.read_gbq(query, project_id = \"gdac-327115\", location=\"eu\")"
   ]
  },
  {
   "cell_type": "code",
   "execution_count": 7,
   "id": "9a350ef6",
   "metadata": {},
   "outputs": [
    {
     "data": {
      "text/plain": [
       "(32247, 16)"
      ]
     },
     "execution_count": 7,
     "metadata": {},
     "output_type": "execute_result"
    }
   ],
   "source": [
    "#Check the shape\n",
    "london.shape"
   ]
  },
  {
   "cell_type": "code",
   "execution_count": 6,
   "id": "3542ad21",
   "metadata": {},
   "outputs": [
    {
     "data": {
      "text/html": [
       "<div>\n",
       "<style scoped>\n",
       "    .dataframe tbody tr th:only-of-type {\n",
       "        vertical-align: middle;\n",
       "    }\n",
       "\n",
       "    .dataframe tbody tr th {\n",
       "        vertical-align: top;\n",
       "    }\n",
       "\n",
       "    .dataframe thead th {\n",
       "        text-align: right;\n",
       "    }\n",
       "</style>\n",
       "<table border=\"1\" class=\"dataframe\">\n",
       "  <thead>\n",
       "    <tr style=\"text-align: right;\">\n",
       "      <th></th>\n",
       "      <th>incident_number</th>\n",
       "      <th>timestamp_of_call</th>\n",
       "      <th>incident_group</th>\n",
       "      <th>stop_code_description</th>\n",
       "      <th>property_category</th>\n",
       "      <th>property_type</th>\n",
       "      <th>address_qualifier</th>\n",
       "      <th>postcode_district</th>\n",
       "      <th>borough_name</th>\n",
       "      <th>ward_name</th>\n",
       "      <th>first_pump_arriving_attendance_time</th>\n",
       "      <th>first_pump_arriving_deployed_from_station</th>\n",
       "      <th>second_pump_arriving_attendance_time</th>\n",
       "      <th>second_pump_arriving_deployed_from_station</th>\n",
       "      <th>num_stations_with_pumps_attending</th>\n",
       "      <th>num_pumps_attending</th>\n",
       "    </tr>\n",
       "  </thead>\n",
       "  <tbody>\n",
       "    <tr>\n",
       "      <th>0</th>\n",
       "      <td>000320-01012017</td>\n",
       "      <td>2017-01-01 15:30:22+00:00</td>\n",
       "      <td>False Alarm</td>\n",
       "      <td>AFA</td>\n",
       "      <td>Dwelling</td>\n",
       "      <td>Purpose Built Flats/Maisonettes - Up to 3 stor...</td>\n",
       "      <td>Within same building</td>\n",
       "      <td>IG9</td>\n",
       "      <td>NOT GEO-CODED</td>\n",
       "      <td>Not geo-coded</td>\n",
       "      <td>&lt;NA&gt;</td>\n",
       "      <td>None</td>\n",
       "      <td>&lt;NA&gt;</td>\n",
       "      <td>None</td>\n",
       "      <td>2</td>\n",
       "      <td>2</td>\n",
       "    </tr>\n",
       "    <tr>\n",
       "      <th>1</th>\n",
       "      <td>003727-09012017</td>\n",
       "      <td>2017-01-09 10:41:54+00:00</td>\n",
       "      <td>False Alarm</td>\n",
       "      <td>AFA</td>\n",
       "      <td>Dwelling</td>\n",
       "      <td>House - single occupancy</td>\n",
       "      <td>Correct incident location</td>\n",
       "      <td>IG7</td>\n",
       "      <td>NOT GEO-CODED</td>\n",
       "      <td>Not geo-coded</td>\n",
       "      <td>&lt;NA&gt;</td>\n",
       "      <td>None</td>\n",
       "      <td>&lt;NA&gt;</td>\n",
       "      <td>None</td>\n",
       "      <td>2</td>\n",
       "      <td>2</td>\n",
       "    </tr>\n",
       "    <tr>\n",
       "      <th>2</th>\n",
       "      <td>003762-09012017</td>\n",
       "      <td>2017-01-09 12:28:39+00:00</td>\n",
       "      <td>False Alarm</td>\n",
       "      <td>AFA</td>\n",
       "      <td>Dwelling</td>\n",
       "      <td>House - single occupancy</td>\n",
       "      <td>Correct incident location</td>\n",
       "      <td>IG7</td>\n",
       "      <td>NOT GEO-CODED</td>\n",
       "      <td>Not geo-coded</td>\n",
       "      <td>&lt;NA&gt;</td>\n",
       "      <td>None</td>\n",
       "      <td>&lt;NA&gt;</td>\n",
       "      <td>None</td>\n",
       "      <td>2</td>\n",
       "      <td>2</td>\n",
       "    </tr>\n",
       "    <tr>\n",
       "      <th>3</th>\n",
       "      <td>006403-16012017</td>\n",
       "      <td>2017-01-16 04:02:14+00:00</td>\n",
       "      <td>False Alarm</td>\n",
       "      <td>AFA</td>\n",
       "      <td>Dwelling</td>\n",
       "      <td>Purpose Built Flats/Maisonettes - Up to 3 stor...</td>\n",
       "      <td>Correct incident location</td>\n",
       "      <td>IG7</td>\n",
       "      <td>NOT GEO-CODED</td>\n",
       "      <td>Not geo-coded</td>\n",
       "      <td>&lt;NA&gt;</td>\n",
       "      <td>None</td>\n",
       "      <td>&lt;NA&gt;</td>\n",
       "      <td>None</td>\n",
       "      <td>2</td>\n",
       "      <td>2</td>\n",
       "    </tr>\n",
       "    <tr>\n",
       "      <th>4</th>\n",
       "      <td>010947-26012017</td>\n",
       "      <td>2017-01-26 11:14:03+00:00</td>\n",
       "      <td>False Alarm</td>\n",
       "      <td>AFA</td>\n",
       "      <td>Dwelling</td>\n",
       "      <td>House - single occupancy</td>\n",
       "      <td>Correct incident location</td>\n",
       "      <td>IG10</td>\n",
       "      <td>NOT GEO-CODED</td>\n",
       "      <td>Not geo-coded</td>\n",
       "      <td>&lt;NA&gt;</td>\n",
       "      <td>None</td>\n",
       "      <td>&lt;NA&gt;</td>\n",
       "      <td>None</td>\n",
       "      <td>1</td>\n",
       "      <td>1</td>\n",
       "    </tr>\n",
       "  </tbody>\n",
       "</table>\n",
       "</div>"
      ],
      "text/plain": [
       "   incident_number         timestamp_of_call incident_group  \\\n",
       "0  000320-01012017 2017-01-01 15:30:22+00:00    False Alarm   \n",
       "1  003727-09012017 2017-01-09 10:41:54+00:00    False Alarm   \n",
       "2  003762-09012017 2017-01-09 12:28:39+00:00    False Alarm   \n",
       "3  006403-16012017 2017-01-16 04:02:14+00:00    False Alarm   \n",
       "4  010947-26012017 2017-01-26 11:14:03+00:00    False Alarm   \n",
       "\n",
       "  stop_code_description property_category  \\\n",
       "0                   AFA          Dwelling   \n",
       "1                   AFA          Dwelling   \n",
       "2                   AFA          Dwelling   \n",
       "3                   AFA          Dwelling   \n",
       "4                   AFA          Dwelling   \n",
       "\n",
       "                                       property_type  \\\n",
       "0  Purpose Built Flats/Maisonettes - Up to 3 stor...   \n",
       "1                          House - single occupancy    \n",
       "2                          House - single occupancy    \n",
       "3  Purpose Built Flats/Maisonettes - Up to 3 stor...   \n",
       "4                          House - single occupancy    \n",
       "\n",
       "           address_qualifier postcode_district    borough_name  \\\n",
       "0       Within same building               IG9   NOT GEO-CODED   \n",
       "1  Correct incident location               IG7   NOT GEO-CODED   \n",
       "2  Correct incident location               IG7   NOT GEO-CODED   \n",
       "3  Correct incident location               IG7   NOT GEO-CODED   \n",
       "4  Correct incident location              IG10   NOT GEO-CODED   \n",
       "\n",
       "        ward_name  first_pump_arriving_attendance_time  \\\n",
       "0   Not geo-coded                                 <NA>   \n",
       "1   Not geo-coded                                 <NA>   \n",
       "2   Not geo-coded                                 <NA>   \n",
       "3   Not geo-coded                                 <NA>   \n",
       "4   Not geo-coded                                 <NA>   \n",
       "\n",
       "  first_pump_arriving_deployed_from_station  \\\n",
       "0                                      None   \n",
       "1                                      None   \n",
       "2                                      None   \n",
       "3                                      None   \n",
       "4                                      None   \n",
       "\n",
       "   second_pump_arriving_attendance_time  \\\n",
       "0                                  <NA>   \n",
       "1                                  <NA>   \n",
       "2                                  <NA>   \n",
       "3                                  <NA>   \n",
       "4                                  <NA>   \n",
       "\n",
       "  second_pump_arriving_deployed_from_station  \\\n",
       "0                                       None   \n",
       "1                                       None   \n",
       "2                                       None   \n",
       "3                                       None   \n",
       "4                                       None   \n",
       "\n",
       "   num_stations_with_pumps_attending  num_pumps_attending  \n",
       "0                                  2                    2  \n",
       "1                                  2                    2  \n",
       "2                                  2                    2  \n",
       "3                                  2                    2  \n",
       "4                                  1                    1  "
      ]
     },
     "execution_count": 6,
     "metadata": {},
     "output_type": "execute_result"
    }
   ],
   "source": [
    "#View the first few rows\n",
    "london.head()"
   ]
  },
  {
   "cell_type": "code",
   "execution_count": 82,
   "id": "f7a2f316",
   "metadata": {},
   "outputs": [
    {
     "data": {
      "text/plain": [
       "incident_number                                            object\n",
       "timestamp_of_call                             datetime64[ns, UTC]\n",
       "incident_group                                             object\n",
       "stop_code_description                                      object\n",
       "property_category                                          object\n",
       "property_type                                              object\n",
       "address_qualifier                                          object\n",
       "postcode_district                                          object\n",
       "borough_name                                               object\n",
       "ward_name                                                  object\n",
       "first_pump_arriving_attendance_time                         Int64\n",
       "first_pump_arriving_deployed_from_station                  object\n",
       "second_pump_arriving_attendance_time                        Int64\n",
       "second_pump_arriving_deployed_from_station                 object\n",
       "num_stations_with_pumps_attending                           Int64\n",
       "num_pumps_attending                                         Int64\n",
       "dtype: object"
      ]
     },
     "execution_count": 82,
     "metadata": {},
     "output_type": "execute_result"
    }
   ],
   "source": [
    "london.dtypes"
   ]
  },
  {
   "cell_type": "markdown",
   "id": "c197d75c",
   "metadata": {},
   "source": [
    "# Split the Data into Training and Test Sets"
   ]
  },
  {
   "cell_type": "markdown",
   "id": "1382b5ca",
   "metadata": {},
   "source": [
    "Since we are going to be predicting if the call is a false alarm, we'll want to our test observations to be the newest in the data set. "
   ]
  },
  {
   "cell_type": "code",
   "execution_count": 15,
   "id": "fcf6ab16",
   "metadata": {},
   "outputs": [
    {
     "data": {
      "text/plain": [
       "2017    32247\n",
       "Name: timestamp_of_call, dtype: int64"
      ]
     },
     "execution_count": 15,
     "metadata": {},
     "output_type": "execute_result"
    }
   ],
   "source": [
    "london[\"timestamp_of_call\"].dt.year.value_counts()"
   ]
  },
  {
   "cell_type": "markdown",
   "id": "d92c000b",
   "metadata": {},
   "source": [
    "We see that all of our observations are from the same year, therefore we can just randomly split the data. However, let's first check the proportion of calls that ended up being a false alarm.  "
   ]
  },
  {
   "cell_type": "code",
   "execution_count": 18,
   "id": "fc4124e1",
   "metadata": {},
   "outputs": [
    {
     "data": {
      "text/plain": [
       "False Alarm        15732\n",
       "Special Service    10081\n",
       "Fire                6434\n",
       "Name: incident_group, dtype: int64"
      ]
     },
     "execution_count": 18,
     "metadata": {},
     "output_type": "execute_result"
    }
   ],
   "source": [
    "london[\"incident_group\"].value_counts()"
   ]
  },
  {
   "cell_type": "markdown",
   "id": "e350695d",
   "metadata": {},
   "source": [
    "Not all incidents were either a Fire or False Alarm. There is a third category, Special Service, as well. Since the entire purpose of this project is to reduce the number of false alarms that the department wastes its resources on, we'll combine Special Services and the Fire into one category called Emergency. We could have dropped all incidents with Special Service. However, the fire department has to respond to those types of calls so it's important to include them. "
   ]
  },
  {
   "cell_type": "code",
   "execution_count": 83,
   "id": "e87aa7bb",
   "metadata": {},
   "outputs": [],
   "source": [
    "emergency = [\"Special Service\", \"Fire\"]\n",
    "\n",
    "london[\"incident_group\"].replace(emergency, \"Emergency\", inplace = True)"
   ]
  },
  {
   "cell_type": "code",
   "execution_count": 84,
   "id": "c7cf12e3",
   "metadata": {},
   "outputs": [
    {
     "data": {
      "text/plain": [
       "Emergency      0.512141\n",
       "False Alarm    0.487859\n",
       "Name: incident_group, dtype: float64"
      ]
     },
     "execution_count": 84,
     "metadata": {},
     "output_type": "execute_result"
    }
   ],
   "source": [
    "london[\"incident_group\"].value_counts() / london.shape[0]"
   ]
  },
  {
   "cell_type": "code",
   "execution_count": 85,
   "id": "54bc3f6f",
   "metadata": {},
   "outputs": [],
   "source": [
    "#Finally split the data\n",
    "london_train, london_test = train_test_split(london, test_size = .15, stratify = london[\"incident_group\"], random_state=42)"
   ]
  },
  {
   "cell_type": "code",
   "execution_count": 86,
   "id": "be0adaf8",
   "metadata": {},
   "outputs": [
    {
     "name": "stdout",
     "output_type": "stream",
     "text": [
      "(27409, 16)\n",
      "(4838, 16)\n"
     ]
    }
   ],
   "source": [
    "print(london_train.shape)\n",
    "print(london_test.shape)"
   ]
  },
  {
   "cell_type": "markdown",
   "id": "696d7a9b",
   "metadata": {},
   "source": [
    "# Clean the Data"
   ]
  },
  {
   "cell_type": "code",
   "execution_count": 89,
   "id": "81dffeee",
   "metadata": {},
   "outputs": [],
   "source": [
    "#Change the objects variables to categorical\n",
    "london_train.loc[:, london_train.dtypes == \"object\"] = london_train.select_dtypes([\"object\"]).apply(lambda x: x.astype(\"category\"))"
   ]
  },
  {
   "cell_type": "code",
   "execution_count": 90,
   "id": "315c34a9",
   "metadata": {},
   "outputs": [
    {
     "data": {
      "text/plain": [
       "incident_number                                          category\n",
       "timestamp_of_call                             datetime64[ns, UTC]\n",
       "incident_group                                           category\n",
       "stop_code_description                                    category\n",
       "property_category                                        category\n",
       "property_type                                            category\n",
       "address_qualifier                                        category\n",
       "postcode_district                                        category\n",
       "borough_name                                             category\n",
       "ward_name                                                category\n",
       "first_pump_arriving_attendance_time                         Int64\n",
       "first_pump_arriving_deployed_from_station                category\n",
       "second_pump_arriving_attendance_time                        Int64\n",
       "second_pump_arriving_deployed_from_station               category\n",
       "num_stations_with_pumps_attending                           Int64\n",
       "num_pumps_attending                                         Int64\n",
       "dtype: object"
      ]
     },
     "execution_count": 90,
     "metadata": {},
     "output_type": "execute_result"
    }
   ],
   "source": [
    "london_train.dtypes"
   ]
  },
  {
   "cell_type": "markdown",
   "id": "79da173e",
   "metadata": {},
   "source": [
    "### Check for missing values"
   ]
  },
  {
   "cell_type": "code",
   "execution_count": 91,
   "id": "962746f7",
   "metadata": {},
   "outputs": [
    {
     "data": {
      "text/plain": [
       "incident_number                                   0\n",
       "timestamp_of_call                                 0\n",
       "incident_group                                    0\n",
       "stop_code_description                             0\n",
       "property_category                                 0\n",
       "property_type                                     0\n",
       "address_qualifier                                 0\n",
       "postcode_district                                 0\n",
       "borough_name                                      0\n",
       "ward_name                                         0\n",
       "first_pump_arriving_attendance_time            1542\n",
       "first_pump_arriving_deployed_from_station      1542\n",
       "second_pump_arriving_attendance_time          17230\n",
       "second_pump_arriving_deployed_from_station    17230\n",
       "num_stations_with_pumps_attending                56\n",
       "num_pumps_attending                              56\n",
       "dtype: int64"
      ]
     },
     "execution_count": 91,
     "metadata": {},
     "output_type": "execute_result"
    }
   ],
   "source": [
    "london_train.isnull().sum()"
   ]
  },
  {
   "cell_type": "markdown",
   "id": "c8dbffed",
   "metadata": {},
   "source": [
    "Looks like we won't be able to use \"second_pump_arriving_attendance_time\" and \"second_pump_arriving_deployed_from_station\" since two-thirds of its values are missing. "
   ]
  },
  {
   "cell_type": "markdown",
   "id": "8c0c7299",
   "metadata": {},
   "source": [
    "### Incident Number"
   ]
  },
  {
   "cell_type": "code",
   "execution_count": 92,
   "id": "0cb8bae8",
   "metadata": {},
   "outputs": [
    {
     "data": {
      "text/plain": [
       "27409"
      ]
     },
     "execution_count": 92,
     "metadata": {},
     "output_type": "execute_result"
    }
   ],
   "source": [
    "#Number of observations\n",
    "london_train.shape[0]"
   ]
  },
  {
   "cell_type": "code",
   "execution_count": 93,
   "id": "3aed6b0e",
   "metadata": {},
   "outputs": [
    {
     "data": {
      "text/plain": [
       "27409"
      ]
     },
     "execution_count": 93,
     "metadata": {},
     "output_type": "execute_result"
    }
   ],
   "source": [
    "#Number of incidents\n",
    "len(london_train[\"incident_number\"].unique())"
   ]
  },
  {
   "cell_type": "markdown",
   "id": "57bf777e",
   "metadata": {},
   "source": [
    "As we'd hope, each observation in our data is a different reponse and there are no duplicates. "
   ]
  },
  {
   "cell_type": "markdown",
   "id": "311cda8c",
   "metadata": {},
   "source": [
    "### Time"
   ]
  },
  {
   "cell_type": "code",
   "execution_count": 73,
   "id": "d484490b",
   "metadata": {},
   "outputs": [
    {
     "data": {
      "text/plain": [
       "25119   2017-02-25 21:25:09+00:00\n",
       "9509    2017-03-12 01:28:04+00:00\n",
       "14240   2017-04-06 17:03:02+00:00\n",
       "18540   2017-03-21 10:43:54+00:00\n",
       "24730   2017-01-06 15:10:11+00:00\n",
       "Name: timestamp_of_call, dtype: datetime64[ns, UTC]"
      ]
     },
     "execution_count": 73,
     "metadata": {},
     "output_type": "execute_result"
    }
   ],
   "source": [
    "london_train[\"timestamp_of_call\"].head()"
   ]
  },
  {
   "cell_type": "markdown",
   "id": "0e6c3dae",
   "metadata": {},
   "source": [
    "### Create a Month variable"
   ]
  },
  {
   "cell_type": "code",
   "execution_count": 94,
   "id": "c3cb14ed",
   "metadata": {},
   "outputs": [],
   "source": [
    "%%capture --no-stdout\n",
    "london_train[\"Month\"] = london_train[\"timestamp_of_call\"].dt.month"
   ]
  },
  {
   "cell_type": "code",
   "execution_count": 95,
   "id": "f7775c0a",
   "metadata": {},
   "outputs": [
    {
     "data": {
      "text/html": [
       "<div>\n",
       "<style scoped>\n",
       "    .dataframe tbody tr th:only-of-type {\n",
       "        vertical-align: middle;\n",
       "    }\n",
       "\n",
       "    .dataframe tbody tr th {\n",
       "        vertical-align: top;\n",
       "    }\n",
       "\n",
       "    .dataframe thead th {\n",
       "        text-align: right;\n",
       "    }\n",
       "</style>\n",
       "<table border=\"1\" class=\"dataframe\">\n",
       "  <thead>\n",
       "    <tr style=\"text-align: right;\">\n",
       "      <th></th>\n",
       "      <th>Month</th>\n",
       "      <th>Count</th>\n",
       "    </tr>\n",
       "  </thead>\n",
       "  <tbody>\n",
       "    <tr>\n",
       "      <th>1</th>\n",
       "      <td>1</td>\n",
       "      <td>6982</td>\n",
       "    </tr>\n",
       "    <tr>\n",
       "      <th>3</th>\n",
       "      <td>2</td>\n",
       "      <td>6217</td>\n",
       "    </tr>\n",
       "    <tr>\n",
       "      <th>2</th>\n",
       "      <td>3</td>\n",
       "      <td>6779</td>\n",
       "    </tr>\n",
       "    <tr>\n",
       "      <th>0</th>\n",
       "      <td>4</td>\n",
       "      <td>7431</td>\n",
       "    </tr>\n",
       "  </tbody>\n",
       "</table>\n",
       "</div>"
      ],
      "text/plain": [
       "   Month  Count\n",
       "1      1   6982\n",
       "3      2   6217\n",
       "2      3   6779\n",
       "0      4   7431"
      ]
     },
     "execution_count": 95,
     "metadata": {},
     "output_type": "execute_result"
    }
   ],
   "source": [
    "london_train[\"Month\"].value_counts().reset_index().rename(columns={\"index\":\"Month\", \"Month\":\"Count\"}).sort_values(by=\"Month\")"
   ]
  },
  {
   "cell_type": "markdown",
   "id": "53ab70b1",
   "metadata": {},
   "source": [
    "### Create a Hour variable"
   ]
  },
  {
   "cell_type": "code",
   "execution_count": 96,
   "id": "fee0ace9",
   "metadata": {},
   "outputs": [],
   "source": [
    "%%capture --no-stdout\n",
    "london_train[\"Hour\"] = london_train[\"timestamp_of_call\"].dt.hour"
   ]
  },
  {
   "cell_type": "code",
   "execution_count": 97,
   "id": "f1820b90",
   "metadata": {},
   "outputs": [
    {
     "data": {
      "text/html": [
       "<div>\n",
       "<style scoped>\n",
       "    .dataframe tbody tr th:only-of-type {\n",
       "        vertical-align: middle;\n",
       "    }\n",
       "\n",
       "    .dataframe tbody tr th {\n",
       "        vertical-align: top;\n",
       "    }\n",
       "\n",
       "    .dataframe thead th {\n",
       "        text-align: right;\n",
       "    }\n",
       "</style>\n",
       "<table border=\"1\" class=\"dataframe\">\n",
       "  <thead>\n",
       "    <tr style=\"text-align: right;\">\n",
       "      <th></th>\n",
       "      <th>Hour</th>\n",
       "      <th>Count</th>\n",
       "    </tr>\n",
       "  </thead>\n",
       "  <tbody>\n",
       "    <tr>\n",
       "      <th>16</th>\n",
       "      <td>0</td>\n",
       "      <td>830</td>\n",
       "    </tr>\n",
       "    <tr>\n",
       "      <th>18</th>\n",
       "      <td>1</td>\n",
       "      <td>744</td>\n",
       "    </tr>\n",
       "    <tr>\n",
       "      <th>20</th>\n",
       "      <td>2</td>\n",
       "      <td>550</td>\n",
       "    </tr>\n",
       "    <tr>\n",
       "      <th>21</th>\n",
       "      <td>3</td>\n",
       "      <td>482</td>\n",
       "    </tr>\n",
       "    <tr>\n",
       "      <th>23</th>\n",
       "      <td>4</td>\n",
       "      <td>423</td>\n",
       "    </tr>\n",
       "    <tr>\n",
       "      <th>22</th>\n",
       "      <td>5</td>\n",
       "      <td>434</td>\n",
       "    </tr>\n",
       "    <tr>\n",
       "      <th>19</th>\n",
       "      <td>6</td>\n",
       "      <td>552</td>\n",
       "    </tr>\n",
       "    <tr>\n",
       "      <th>17</th>\n",
       "      <td>7</td>\n",
       "      <td>745</td>\n",
       "    </tr>\n",
       "    <tr>\n",
       "      <th>14</th>\n",
       "      <td>8</td>\n",
       "      <td>1014</td>\n",
       "    </tr>\n",
       "    <tr>\n",
       "      <th>12</th>\n",
       "      <td>9</td>\n",
       "      <td>1169</td>\n",
       "    </tr>\n",
       "    <tr>\n",
       "      <th>10</th>\n",
       "      <td>10</td>\n",
       "      <td>1286</td>\n",
       "    </tr>\n",
       "    <tr>\n",
       "      <th>9</th>\n",
       "      <td>11</td>\n",
       "      <td>1388</td>\n",
       "    </tr>\n",
       "    <tr>\n",
       "      <th>8</th>\n",
       "      <td>12</td>\n",
       "      <td>1412</td>\n",
       "    </tr>\n",
       "    <tr>\n",
       "      <th>7</th>\n",
       "      <td>13</td>\n",
       "      <td>1514</td>\n",
       "    </tr>\n",
       "    <tr>\n",
       "      <th>6</th>\n",
       "      <td>14</td>\n",
       "      <td>1536</td>\n",
       "    </tr>\n",
       "    <tr>\n",
       "      <th>3</th>\n",
       "      <td>15</td>\n",
       "      <td>1591</td>\n",
       "    </tr>\n",
       "    <tr>\n",
       "      <th>4</th>\n",
       "      <td>16</td>\n",
       "      <td>1585</td>\n",
       "    </tr>\n",
       "    <tr>\n",
       "      <th>2</th>\n",
       "      <td>17</td>\n",
       "      <td>1647</td>\n",
       "    </tr>\n",
       "    <tr>\n",
       "      <th>0</th>\n",
       "      <td>18</td>\n",
       "      <td>1854</td>\n",
       "    </tr>\n",
       "    <tr>\n",
       "      <th>1</th>\n",
       "      <td>19</td>\n",
       "      <td>1671</td>\n",
       "    </tr>\n",
       "    <tr>\n",
       "      <th>5</th>\n",
       "      <td>20</td>\n",
       "      <td>1573</td>\n",
       "    </tr>\n",
       "    <tr>\n",
       "      <th>11</th>\n",
       "      <td>21</td>\n",
       "      <td>1251</td>\n",
       "    </tr>\n",
       "    <tr>\n",
       "      <th>13</th>\n",
       "      <td>22</td>\n",
       "      <td>1153</td>\n",
       "    </tr>\n",
       "    <tr>\n",
       "      <th>15</th>\n",
       "      <td>23</td>\n",
       "      <td>1005</td>\n",
       "    </tr>\n",
       "  </tbody>\n",
       "</table>\n",
       "</div>"
      ],
      "text/plain": [
       "    Hour  Count\n",
       "16     0    830\n",
       "18     1    744\n",
       "20     2    550\n",
       "21     3    482\n",
       "23     4    423\n",
       "22     5    434\n",
       "19     6    552\n",
       "17     7    745\n",
       "14     8   1014\n",
       "12     9   1169\n",
       "10    10   1286\n",
       "9     11   1388\n",
       "8     12   1412\n",
       "7     13   1514\n",
       "6     14   1536\n",
       "3     15   1591\n",
       "4     16   1585\n",
       "2     17   1647\n",
       "0     18   1854\n",
       "1     19   1671\n",
       "5     20   1573\n",
       "11    21   1251\n",
       "13    22   1153\n",
       "15    23   1005"
      ]
     },
     "execution_count": 97,
     "metadata": {},
     "output_type": "execute_result"
    }
   ],
   "source": [
    "london_train[\"Hour\"].value_counts().reset_index().rename(columns={\"index\":\"Hour\", \"Hour\":\"Count\"}).sort_values(by=\"Hour\")"
   ]
  },
  {
   "cell_type": "markdown",
   "id": "edb96584",
   "metadata": {},
   "source": [
    "### Drop the timestamp variable"
   ]
  },
  {
   "cell_type": "code",
   "execution_count": 62,
   "id": "3c66c004",
   "metadata": {},
   "outputs": [],
   "source": [
    "#london_train.drop(\"timestamp_of_call\", axis = 1, inplace = True)"
   ]
  },
  {
   "cell_type": "markdown",
   "id": "b4ecd63d",
   "metadata": {},
   "source": [
    "### Stop Code Description"
   ]
  },
  {
   "cell_type": "code",
   "execution_count": 98,
   "id": "7dd9ad85",
   "metadata": {},
   "outputs": [
    {
     "data": {
      "text/plain": [
       "AFA                                      10017\n",
       "Special Service                           8580\n",
       "Primary Fire                              3031\n",
       "False alarm - Good intent                 2977\n",
       "Secondary Fire                            2407\n",
       "False alarm - Malicious                    378\n",
       "Chimney Fire                                11\n",
       "Flood call attended - Batch mobilised        7\n",
       "Late Call                                    1\n",
       "Name: stop_code_description, dtype: int64"
      ]
     },
     "execution_count": 98,
     "metadata": {},
     "output_type": "execute_result"
    }
   ],
   "source": [
    "london_train[\"stop_code_description\"].value_counts()"
   ]
  },
  {
   "cell_type": "code",
   "execution_count": 60,
   "id": "b455dfe4",
   "metadata": {},
   "outputs": [
    {
     "data": {
      "text/html": [
       "<div>\n",
       "<style scoped>\n",
       "    .dataframe tbody tr th:only-of-type {\n",
       "        vertical-align: middle;\n",
       "    }\n",
       "\n",
       "    .dataframe tbody tr th {\n",
       "        vertical-align: top;\n",
       "    }\n",
       "\n",
       "    .dataframe thead th {\n",
       "        text-align: right;\n",
       "    }\n",
       "</style>\n",
       "<table border=\"1\" class=\"dataframe\">\n",
       "  <thead>\n",
       "    <tr style=\"text-align: right;\">\n",
       "      <th></th>\n",
       "      <th>incident_number</th>\n",
       "      <th>incident_group</th>\n",
       "      <th>stop_code_description</th>\n",
       "      <th>property_category</th>\n",
       "      <th>property_type</th>\n",
       "      <th>address_qualifier</th>\n",
       "      <th>postcode_district</th>\n",
       "      <th>borough_name</th>\n",
       "      <th>ward_name</th>\n",
       "      <th>first_pump_arriving_attendance_time</th>\n",
       "      <th>first_pump_arriving_deployed_from_station</th>\n",
       "      <th>second_pump_arriving_attendance_time</th>\n",
       "      <th>second_pump_arriving_deployed_from_station</th>\n",
       "      <th>num_stations_with_pumps_attending</th>\n",
       "      <th>num_pumps_attending</th>\n",
       "      <th>Month</th>\n",
       "      <th>Hour</th>\n",
       "    </tr>\n",
       "  </thead>\n",
       "  <tbody>\n",
       "    <tr>\n",
       "      <th>25119</th>\n",
       "      <td>023952-25022017</td>\n",
       "      <td>Emergency</td>\n",
       "      <td>Special Service</td>\n",
       "      <td>Road Vehicle</td>\n",
       "      <td>Car</td>\n",
       "      <td>In street outside gazetteer location</td>\n",
       "      <td>IG1</td>\n",
       "      <td>REDBRIDGE</td>\n",
       "      <td>MAYFIELD</td>\n",
       "      <td>296</td>\n",
       "      <td>Ilford</td>\n",
       "      <td>&lt;NA&gt;</td>\n",
       "      <td>None</td>\n",
       "      <td>1</td>\n",
       "      <td>1</td>\n",
       "      <td>2</td>\n",
       "      <td>21</td>\n",
       "    </tr>\n",
       "    <tr>\n",
       "      <th>9509</th>\n",
       "      <td>029837-12032017</td>\n",
       "      <td>False Alarm</td>\n",
       "      <td>AFA</td>\n",
       "      <td>Dwelling</td>\n",
       "      <td>Purpose Built Flats/Maisonettes - Up to 3 stor...</td>\n",
       "      <td>Correct incident location</td>\n",
       "      <td>SW1P</td>\n",
       "      <td>WESTMINSTER</td>\n",
       "      <td>ST. JAMES'S</td>\n",
       "      <td>276</td>\n",
       "      <td>Lambeth</td>\n",
       "      <td>518</td>\n",
       "      <td>Lambeth</td>\n",
       "      <td>1</td>\n",
       "      <td>2</td>\n",
       "      <td>3</td>\n",
       "      <td>1</td>\n",
       "    </tr>\n",
       "    <tr>\n",
       "      <th>14240</th>\n",
       "      <td>041522-06042017</td>\n",
       "      <td>Emergency</td>\n",
       "      <td>Primary Fire</td>\n",
       "      <td>Dwelling</td>\n",
       "      <td>House - single occupancy</td>\n",
       "      <td>Within same building</td>\n",
       "      <td>E16</td>\n",
       "      <td>NEWHAM</td>\n",
       "      <td>CUSTOM HOUSE</td>\n",
       "      <td>335</td>\n",
       "      <td>East Ham</td>\n",
       "      <td>575</td>\n",
       "      <td>Poplar</td>\n",
       "      <td>2</td>\n",
       "      <td>2</td>\n",
       "      <td>4</td>\n",
       "      <td>17</td>\n",
       "    </tr>\n",
       "    <tr>\n",
       "      <th>18540</th>\n",
       "      <td>033936-21032017</td>\n",
       "      <td>Emergency</td>\n",
       "      <td>Special Service</td>\n",
       "      <td>Non Residential</td>\n",
       "      <td>Single shop</td>\n",
       "      <td>Correct incident location</td>\n",
       "      <td>HA8</td>\n",
       "      <td>BARNET</td>\n",
       "      <td>BURNT OAK</td>\n",
       "      <td>334</td>\n",
       "      <td>Mill Hill</td>\n",
       "      <td>&lt;NA&gt;</td>\n",
       "      <td>None</td>\n",
       "      <td>1</td>\n",
       "      <td>1</td>\n",
       "      <td>3</td>\n",
       "      <td>10</td>\n",
       "    </tr>\n",
       "    <tr>\n",
       "      <th>24730</th>\n",
       "      <td>002591-06012017</td>\n",
       "      <td>Emergency</td>\n",
       "      <td>Special Service</td>\n",
       "      <td>Dwelling</td>\n",
       "      <td>Purpose Built Flats/Maisonettes - 4 to 9 storeys</td>\n",
       "      <td>Correct incident location</td>\n",
       "      <td>E15</td>\n",
       "      <td>NEWHAM</td>\n",
       "      <td>FOREST GATE SOUTH</td>\n",
       "      <td>99</td>\n",
       "      <td>Stratford</td>\n",
       "      <td>&lt;NA&gt;</td>\n",
       "      <td>None</td>\n",
       "      <td>1</td>\n",
       "      <td>1</td>\n",
       "      <td>1</td>\n",
       "      <td>15</td>\n",
       "    </tr>\n",
       "  </tbody>\n",
       "</table>\n",
       "</div>"
      ],
      "text/plain": [
       "       incident_number incident_group stop_code_description property_category  \\\n",
       "25119  023952-25022017      Emergency       Special Service      Road Vehicle   \n",
       "9509   029837-12032017    False Alarm                   AFA          Dwelling   \n",
       "14240  041522-06042017      Emergency          Primary Fire          Dwelling   \n",
       "18540  033936-21032017      Emergency       Special Service   Non Residential   \n",
       "24730  002591-06012017      Emergency       Special Service          Dwelling   \n",
       "\n",
       "                                           property_type  \\\n",
       "25119                                               Car    \n",
       "9509   Purpose Built Flats/Maisonettes - Up to 3 stor...   \n",
       "14240                          House - single occupancy    \n",
       "18540                                       Single shop    \n",
       "24730  Purpose Built Flats/Maisonettes - 4 to 9 storeys    \n",
       "\n",
       "                          address_qualifier postcode_district borough_name  \\\n",
       "25119  In street outside gazetteer location               IG1    REDBRIDGE   \n",
       "9509              Correct incident location              SW1P  WESTMINSTER   \n",
       "14240                  Within same building               E16       NEWHAM   \n",
       "18540             Correct incident location               HA8       BARNET   \n",
       "24730             Correct incident location               E15       NEWHAM   \n",
       "\n",
       "               ward_name  first_pump_arriving_attendance_time  \\\n",
       "25119           MAYFIELD                                  296   \n",
       "9509         ST. JAMES'S                                  276   \n",
       "14240       CUSTOM HOUSE                                  335   \n",
       "18540          BURNT OAK                                  334   \n",
       "24730  FOREST GATE SOUTH                                   99   \n",
       "\n",
       "      first_pump_arriving_deployed_from_station  \\\n",
       "25119                                    Ilford   \n",
       "9509                                    Lambeth   \n",
       "14240                                  East Ham   \n",
       "18540                                 Mill Hill   \n",
       "24730                                 Stratford   \n",
       "\n",
       "       second_pump_arriving_attendance_time  \\\n",
       "25119                                  <NA>   \n",
       "9509                                    518   \n",
       "14240                                   575   \n",
       "18540                                  <NA>   \n",
       "24730                                  <NA>   \n",
       "\n",
       "      second_pump_arriving_deployed_from_station  \\\n",
       "25119                                       None   \n",
       "9509                                     Lambeth   \n",
       "14240                                     Poplar   \n",
       "18540                                       None   \n",
       "24730                                       None   \n",
       "\n",
       "       num_stations_with_pumps_attending  num_pumps_attending  Month  Hour  \n",
       "25119                                  1                    1      2    21  \n",
       "9509                                   1                    2      3     1  \n",
       "14240                                  2                    2      4    17  \n",
       "18540                                  1                    1      3    10  \n",
       "24730                                  1                    1      1    15  "
      ]
     },
     "execution_count": 60,
     "metadata": {},
     "output_type": "execute_result"
    }
   ],
   "source": [
    "london_train.head()"
   ]
  },
  {
   "cell_type": "markdown",
   "id": "a69e45f8",
   "metadata": {},
   "source": [
    "### Property Category"
   ]
  },
  {
   "cell_type": "code",
   "execution_count": 99,
   "id": "87b7900a",
   "metadata": {},
   "outputs": [
    {
     "data": {
      "text/plain": [
       "Dwelling             13048\n",
       "Non Residential       6519\n",
       "Road Vehicle          2369\n",
       "Outdoor               2196\n",
       "Outdoor Structure     1684\n",
       "Other Residential     1537\n",
       "Aircraft                21\n",
       "Boat                    20\n",
       "Rail Vehicle            15\n",
       "Name: property_category, dtype: int64"
      ]
     },
     "execution_count": 99,
     "metadata": {},
     "output_type": "execute_result"
    }
   ],
   "source": [
    "london_train[\"property_category\"].value_counts()"
   ]
  },
  {
   "cell_type": "code",
   "execution_count": 102,
   "id": "37cb56b4",
   "metadata": {},
   "outputs": [],
   "source": [
    "res = [\"Dwelling\", \"Other Residential\"]\n",
    "london_train[\"property_category\"].replace(res, \"Residential\", inplace = True)"
   ]
  },
  {
   "cell_type": "code",
   "execution_count": 105,
   "id": "c5e68dda",
   "metadata": {},
   "outputs": [],
   "source": [
    "vehicle = [\"Road Vehicle\", \"Aircraft\", \"Boat\", \"Rail Vehicle\"]\n",
    "london_train[\"property_category\"].replace(vehicle, \"Vehicle\", inplace = True)"
   ]
  },
  {
   "cell_type": "code",
   "execution_count": 109,
   "id": "230efa75",
   "metadata": {},
   "outputs": [],
   "source": [
    "london_train[\"property_category\"].replace(\"Outdoor Structure\", \"Outdoor\", inplace = True)"
   ]
  },
  {
   "cell_type": "code",
   "execution_count": 110,
   "id": "8bcd81f7",
   "metadata": {},
   "outputs": [
    {
     "data": {
      "text/plain": [
       "Residential        14585\n",
       "Non Residential     6519\n",
       "Outdoor             3880\n",
       "Vehicle             2425\n",
       "Name: property_category, dtype: int64"
      ]
     },
     "execution_count": 110,
     "metadata": {},
     "output_type": "execute_result"
    }
   ],
   "source": [
    "london_train[\"property_category\"].value_counts()"
   ]
  },
  {
   "cell_type": "code",
   "execution_count": 100,
   "id": "6d3e8754",
   "metadata": {},
   "outputs": [
    {
     "data": {
      "text/plain": [
       "Purpose Built Flats/Maisonettes - 4 to 9 storeys      3266\n",
       "House - single occupancy                              3234\n",
       "Purpose Built Flats/Maisonettes - Up to 3 storeys     2486\n",
       "Car                                                   1403\n",
       "Self contained Sheltered Housing                      1224\n",
       "                                                      ... \n",
       "Theme Park                                               1\n",
       "Tennis Courts                                            1\n",
       "Naval vessel                                             1\n",
       "Private greenhouse                                       1\n",
       "Agricultural equipment                                   1\n",
       "Name: property_type, Length: 256, dtype: int64"
      ]
     },
     "execution_count": 100,
     "metadata": {},
     "output_type": "execute_result"
    }
   ],
   "source": [
    "london_train[\"property_type\"].value_counts()"
   ]
  },
  {
   "cell_type": "code",
   "execution_count": null,
   "id": "03297b24",
   "metadata": {},
   "outputs": [],
   "source": []
  }
 ],
 "metadata": {
  "kernelspec": {
   "display_name": "Python 3",
   "language": "python",
   "name": "python3"
  },
  "language_info": {
   "codemirror_mode": {
    "name": "ipython",
    "version": 3
   },
   "file_extension": ".py",
   "mimetype": "text/x-python",
   "name": "python",
   "nbconvert_exporter": "python",
   "pygments_lexer": "ipython3",
   "version": "3.8.8"
  }
 },
 "nbformat": 4,
 "nbformat_minor": 5
}
