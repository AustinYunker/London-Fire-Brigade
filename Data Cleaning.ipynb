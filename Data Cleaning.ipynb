{
 "cells": [
  {
   "cell_type": "markdown",
   "id": "50096c99",
   "metadata": {},
   "source": [
    "# Setup and Imports"
   ]
  },
  {
   "cell_type": "code",
   "execution_count": 16,
   "id": "d857322c",
   "metadata": {},
   "outputs": [],
   "source": [
    "import pandas as pd\n",
    "import numpy as np\n",
    "import matplotlib.pyplot as plt\n",
    "%matplotlib inline\n",
    "import seaborn as sns\n",
    "sns.set\n",
    "import warnings\n",
    "from pandas.io import gbq\n",
    "from sklearn.model_selection import train_test_split"
   ]
  },
  {
   "cell_type": "markdown",
   "id": "3ba4dd1e",
   "metadata": {},
   "source": [
    "# Get the Data"
   ]
  },
  {
   "cell_type": "code",
   "execution_count": 5,
   "id": "c433bc49",
   "metadata": {},
   "outputs": [
    {
     "name": "stdout",
     "output_type": "stream",
     "text": [
      "Wall time: 9.05 s\n"
     ]
    }
   ],
   "source": [
    "%%time\n",
    "query = \"\"\"\n",
    "            SELECT incident_number, timestamp_of_call, incident_group, stop_code_description, property_category, \n",
    "                    property_type, address_qualifier, postcode_district, borough_name, ward_name, \n",
    "                    first_pump_arriving_attendance_time, first_pump_arriving_deployed_from_station,\n",
    "                    second_pump_arriving_attendance_time, second_pump_arriving_deployed_from_station, \n",
    "                    num_stations_with_pumps_attending, num_pumps_attending,\n",
    "                    FROM `gdac-327115.LondonFire.fire_brigade`\n",
    "        \"\"\"\n",
    "\n",
    "london = gbq.read_gbq(query, project_id = \"gdac-327115\", location=\"eu\")"
   ]
  },
  {
   "cell_type": "code",
   "execution_count": 7,
   "id": "1e1f7270",
   "metadata": {},
   "outputs": [
    {
     "data": {
      "text/plain": [
       "(32247, 16)"
      ]
     },
     "execution_count": 7,
     "metadata": {},
     "output_type": "execute_result"
    }
   ],
   "source": [
    "#Check the shape\n",
    "london.shape"
   ]
  },
  {
   "cell_type": "code",
   "execution_count": 6,
   "id": "064fa625",
   "metadata": {},
   "outputs": [
    {
     "data": {
      "text/html": [
       "<div>\n",
       "<style scoped>\n",
       "    .dataframe tbody tr th:only-of-type {\n",
       "        vertical-align: middle;\n",
       "    }\n",
       "\n",
       "    .dataframe tbody tr th {\n",
       "        vertical-align: top;\n",
       "    }\n",
       "\n",
       "    .dataframe thead th {\n",
       "        text-align: right;\n",
       "    }\n",
       "</style>\n",
       "<table border=\"1\" class=\"dataframe\">\n",
       "  <thead>\n",
       "    <tr style=\"text-align: right;\">\n",
       "      <th></th>\n",
       "      <th>incident_number</th>\n",
       "      <th>timestamp_of_call</th>\n",
       "      <th>incident_group</th>\n",
       "      <th>stop_code_description</th>\n",
       "      <th>property_category</th>\n",
       "      <th>property_type</th>\n",
       "      <th>address_qualifier</th>\n",
       "      <th>postcode_district</th>\n",
       "      <th>borough_name</th>\n",
       "      <th>ward_name</th>\n",
       "      <th>first_pump_arriving_attendance_time</th>\n",
       "      <th>first_pump_arriving_deployed_from_station</th>\n",
       "      <th>second_pump_arriving_attendance_time</th>\n",
       "      <th>second_pump_arriving_deployed_from_station</th>\n",
       "      <th>num_stations_with_pumps_attending</th>\n",
       "      <th>num_pumps_attending</th>\n",
       "    </tr>\n",
       "  </thead>\n",
       "  <tbody>\n",
       "    <tr>\n",
       "      <th>0</th>\n",
       "      <td>000320-01012017</td>\n",
       "      <td>2017-01-01 15:30:22+00:00</td>\n",
       "      <td>False Alarm</td>\n",
       "      <td>AFA</td>\n",
       "      <td>Dwelling</td>\n",
       "      <td>Purpose Built Flats/Maisonettes - Up to 3 stor...</td>\n",
       "      <td>Within same building</td>\n",
       "      <td>IG9</td>\n",
       "      <td>NOT GEO-CODED</td>\n",
       "      <td>Not geo-coded</td>\n",
       "      <td>&lt;NA&gt;</td>\n",
       "      <td>None</td>\n",
       "      <td>&lt;NA&gt;</td>\n",
       "      <td>None</td>\n",
       "      <td>2</td>\n",
       "      <td>2</td>\n",
       "    </tr>\n",
       "    <tr>\n",
       "      <th>1</th>\n",
       "      <td>003727-09012017</td>\n",
       "      <td>2017-01-09 10:41:54+00:00</td>\n",
       "      <td>False Alarm</td>\n",
       "      <td>AFA</td>\n",
       "      <td>Dwelling</td>\n",
       "      <td>House - single occupancy</td>\n",
       "      <td>Correct incident location</td>\n",
       "      <td>IG7</td>\n",
       "      <td>NOT GEO-CODED</td>\n",
       "      <td>Not geo-coded</td>\n",
       "      <td>&lt;NA&gt;</td>\n",
       "      <td>None</td>\n",
       "      <td>&lt;NA&gt;</td>\n",
       "      <td>None</td>\n",
       "      <td>2</td>\n",
       "      <td>2</td>\n",
       "    </tr>\n",
       "    <tr>\n",
       "      <th>2</th>\n",
       "      <td>003762-09012017</td>\n",
       "      <td>2017-01-09 12:28:39+00:00</td>\n",
       "      <td>False Alarm</td>\n",
       "      <td>AFA</td>\n",
       "      <td>Dwelling</td>\n",
       "      <td>House - single occupancy</td>\n",
       "      <td>Correct incident location</td>\n",
       "      <td>IG7</td>\n",
       "      <td>NOT GEO-CODED</td>\n",
       "      <td>Not geo-coded</td>\n",
       "      <td>&lt;NA&gt;</td>\n",
       "      <td>None</td>\n",
       "      <td>&lt;NA&gt;</td>\n",
       "      <td>None</td>\n",
       "      <td>2</td>\n",
       "      <td>2</td>\n",
       "    </tr>\n",
       "    <tr>\n",
       "      <th>3</th>\n",
       "      <td>006403-16012017</td>\n",
       "      <td>2017-01-16 04:02:14+00:00</td>\n",
       "      <td>False Alarm</td>\n",
       "      <td>AFA</td>\n",
       "      <td>Dwelling</td>\n",
       "      <td>Purpose Built Flats/Maisonettes - Up to 3 stor...</td>\n",
       "      <td>Correct incident location</td>\n",
       "      <td>IG7</td>\n",
       "      <td>NOT GEO-CODED</td>\n",
       "      <td>Not geo-coded</td>\n",
       "      <td>&lt;NA&gt;</td>\n",
       "      <td>None</td>\n",
       "      <td>&lt;NA&gt;</td>\n",
       "      <td>None</td>\n",
       "      <td>2</td>\n",
       "      <td>2</td>\n",
       "    </tr>\n",
       "    <tr>\n",
       "      <th>4</th>\n",
       "      <td>010947-26012017</td>\n",
       "      <td>2017-01-26 11:14:03+00:00</td>\n",
       "      <td>False Alarm</td>\n",
       "      <td>AFA</td>\n",
       "      <td>Dwelling</td>\n",
       "      <td>House - single occupancy</td>\n",
       "      <td>Correct incident location</td>\n",
       "      <td>IG10</td>\n",
       "      <td>NOT GEO-CODED</td>\n",
       "      <td>Not geo-coded</td>\n",
       "      <td>&lt;NA&gt;</td>\n",
       "      <td>None</td>\n",
       "      <td>&lt;NA&gt;</td>\n",
       "      <td>None</td>\n",
       "      <td>1</td>\n",
       "      <td>1</td>\n",
       "    </tr>\n",
       "  </tbody>\n",
       "</table>\n",
       "</div>"
      ],
      "text/plain": [
       "   incident_number         timestamp_of_call incident_group  \\\n",
       "0  000320-01012017 2017-01-01 15:30:22+00:00    False Alarm   \n",
       "1  003727-09012017 2017-01-09 10:41:54+00:00    False Alarm   \n",
       "2  003762-09012017 2017-01-09 12:28:39+00:00    False Alarm   \n",
       "3  006403-16012017 2017-01-16 04:02:14+00:00    False Alarm   \n",
       "4  010947-26012017 2017-01-26 11:14:03+00:00    False Alarm   \n",
       "\n",
       "  stop_code_description property_category  \\\n",
       "0                   AFA          Dwelling   \n",
       "1                   AFA          Dwelling   \n",
       "2                   AFA          Dwelling   \n",
       "3                   AFA          Dwelling   \n",
       "4                   AFA          Dwelling   \n",
       "\n",
       "                                       property_type  \\\n",
       "0  Purpose Built Flats/Maisonettes - Up to 3 stor...   \n",
       "1                          House - single occupancy    \n",
       "2                          House - single occupancy    \n",
       "3  Purpose Built Flats/Maisonettes - Up to 3 stor...   \n",
       "4                          House - single occupancy    \n",
       "\n",
       "           address_qualifier postcode_district    borough_name  \\\n",
       "0       Within same building               IG9   NOT GEO-CODED   \n",
       "1  Correct incident location               IG7   NOT GEO-CODED   \n",
       "2  Correct incident location               IG7   NOT GEO-CODED   \n",
       "3  Correct incident location               IG7   NOT GEO-CODED   \n",
       "4  Correct incident location              IG10   NOT GEO-CODED   \n",
       "\n",
       "        ward_name  first_pump_arriving_attendance_time  \\\n",
       "0   Not geo-coded                                 <NA>   \n",
       "1   Not geo-coded                                 <NA>   \n",
       "2   Not geo-coded                                 <NA>   \n",
       "3   Not geo-coded                                 <NA>   \n",
       "4   Not geo-coded                                 <NA>   \n",
       "\n",
       "  first_pump_arriving_deployed_from_station  \\\n",
       "0                                      None   \n",
       "1                                      None   \n",
       "2                                      None   \n",
       "3                                      None   \n",
       "4                                      None   \n",
       "\n",
       "   second_pump_arriving_attendance_time  \\\n",
       "0                                  <NA>   \n",
       "1                                  <NA>   \n",
       "2                                  <NA>   \n",
       "3                                  <NA>   \n",
       "4                                  <NA>   \n",
       "\n",
       "  second_pump_arriving_deployed_from_station  \\\n",
       "0                                       None   \n",
       "1                                       None   \n",
       "2                                       None   \n",
       "3                                       None   \n",
       "4                                       None   \n",
       "\n",
       "   num_stations_with_pumps_attending  num_pumps_attending  \n",
       "0                                  2                    2  \n",
       "1                                  2                    2  \n",
       "2                                  2                    2  \n",
       "3                                  2                    2  \n",
       "4                                  1                    1  "
      ]
     },
     "execution_count": 6,
     "metadata": {},
     "output_type": "execute_result"
    }
   ],
   "source": [
    "#View the first few rows\n",
    "london.head()"
   ]
  },
  {
   "cell_type": "code",
   "execution_count": 13,
   "id": "5720295f",
   "metadata": {},
   "outputs": [
    {
     "data": {
      "text/plain": [
       "incident_number                                            object\n",
       "timestamp_of_call                             datetime64[ns, UTC]\n",
       "incident_group                                             object\n",
       "stop_code_description                                      object\n",
       "property_category                                          object\n",
       "property_type                                              object\n",
       "address_qualifier                                          object\n",
       "postcode_district                                          object\n",
       "borough_name                                               object\n",
       "ward_name                                                  object\n",
       "first_pump_arriving_attendance_time                         Int64\n",
       "first_pump_arriving_deployed_from_station                  object\n",
       "second_pump_arriving_attendance_time                        Int64\n",
       "second_pump_arriving_deployed_from_station                 object\n",
       "num_stations_with_pumps_attending                           Int64\n",
       "num_pumps_attending                                         Int64\n",
       "dtype: object"
      ]
     },
     "execution_count": 13,
     "metadata": {},
     "output_type": "execute_result"
    }
   ],
   "source": [
    "london.dtypes"
   ]
  },
  {
   "cell_type": "markdown",
   "id": "984c8357",
   "metadata": {},
   "source": [
    "# Split the Data into Training and Test Sets"
   ]
  },
  {
   "cell_type": "markdown",
   "id": "0c0801ef",
   "metadata": {},
   "source": [
    "Since we are going to be predicting if the call is a false alarm, we'll want to our test observations to be the newest in the data set. "
   ]
  },
  {
   "cell_type": "code",
   "execution_count": 15,
   "id": "4228276e",
   "metadata": {},
   "outputs": [
    {
     "data": {
      "text/plain": [
       "2017    32247\n",
       "Name: timestamp_of_call, dtype: int64"
      ]
     },
     "execution_count": 15,
     "metadata": {},
     "output_type": "execute_result"
    }
   ],
   "source": [
    "london[\"timestamp_of_call\"].dt.year.value_counts()"
   ]
  },
  {
   "cell_type": "markdown",
   "id": "452ae8a5",
   "metadata": {},
   "source": [
    "We see that all of our observations are from the same year, therefore we can just randomly split the data. However, let's first check the proportion of calls that ended up being a false alarm.  "
   ]
  },
  {
   "cell_type": "code",
   "execution_count": 18,
   "id": "73597e0b",
   "metadata": {},
   "outputs": [
    {
     "data": {
      "text/plain": [
       "False Alarm        15732\n",
       "Special Service    10081\n",
       "Fire                6434\n",
       "Name: incident_group, dtype: int64"
      ]
     },
     "execution_count": 18,
     "metadata": {},
     "output_type": "execute_result"
    }
   ],
   "source": [
    "london[\"incident_group\"].value_counts()"
   ]
  },
  {
   "cell_type": "markdown",
   "id": "026b3e84",
   "metadata": {},
   "source": [
    "Not all incidents were either a Fire or False Alarm. There is a third category, Special Service, as well. Since the entire purpose of this project is to reduce the number of false alarms that the department wastes its resources on, we'll combine Special Services and the Fire into one category called Emergency. We could have dropped all incidents with Special Service. However, the fire department has to respond to those types of calls so it's important to include them. "
   ]
  },
  {
   "cell_type": "code",
   "execution_count": 19,
   "id": "ec1c91d5",
   "metadata": {},
   "outputs": [],
   "source": [
    "emergency = [\"Special Service\", \"Fire\"]\n",
    "\n",
    "london[\"incident_group\"].replace(emergency, \"Emergency\", inplace = True)"
   ]
  },
  {
   "cell_type": "code",
   "execution_count": 20,
   "id": "31fb125f",
   "metadata": {},
   "outputs": [
    {
     "data": {
      "text/plain": [
       "Emergency      0.512141\n",
       "False Alarm    0.487859\n",
       "Name: incident_group, dtype: float64"
      ]
     },
     "execution_count": 20,
     "metadata": {},
     "output_type": "execute_result"
    }
   ],
   "source": [
    "london[\"incident_group\"].value_counts() / london.shape[0]"
   ]
  },
  {
   "cell_type": "code",
   "execution_count": 29,
   "id": "13e499aa",
   "metadata": {},
   "outputs": [],
   "source": [
    "london_train, london_test = train_test_split(london, test_size = .15, stratify = london[\"incident_group\"])"
   ]
  },
  {
   "cell_type": "code",
   "execution_count": 30,
   "id": "fa80ca87",
   "metadata": {},
   "outputs": [
    {
     "name": "stdout",
     "output_type": "stream",
     "text": [
      "(27409, 16)\n",
      "(4838, 16)\n"
     ]
    }
   ],
   "source": [
    "print(london_train.shape)\n",
    "print(london_test.shape)"
   ]
  },
  {
   "cell_type": "markdown",
   "id": "75ceefdb",
   "metadata": {},
   "source": [
    "# Clean the Data"
   ]
  },
  {
   "cell_type": "markdown",
   "id": "5ff406b3",
   "metadata": {},
   "source": [
    "### Check for missing values"
   ]
  },
  {
   "cell_type": "code",
   "execution_count": 31,
   "id": "9329411f",
   "metadata": {},
   "outputs": [
    {
     "data": {
      "text/plain": [
       "incident_number                                   0\n",
       "timestamp_of_call                                 0\n",
       "incident_group                                    0\n",
       "stop_code_description                             0\n",
       "property_category                                 0\n",
       "property_type                                     0\n",
       "address_qualifier                                 0\n",
       "postcode_district                                 0\n",
       "borough_name                                      0\n",
       "ward_name                                         0\n",
       "first_pump_arriving_attendance_time            1555\n",
       "first_pump_arriving_deployed_from_station      1555\n",
       "second_pump_arriving_attendance_time          17196\n",
       "second_pump_arriving_deployed_from_station    17196\n",
       "num_stations_with_pumps_attending                58\n",
       "num_pumps_attending                              58\n",
       "dtype: int64"
      ]
     },
     "execution_count": 31,
     "metadata": {},
     "output_type": "execute_result"
    }
   ],
   "source": [
    "london_train.isnull().sum()"
   ]
  },
  {
   "cell_type": "markdown",
   "id": "6951451a",
   "metadata": {},
   "source": [
    "Looks like we won't be able to use \"second_pump_arriving_attendance_time\" and \"second_pump_arriving_deployed_from_station\" since two-thirds of its values are missing. "
   ]
  },
  {
   "cell_type": "markdown",
   "id": "ef5747aa",
   "metadata": {},
   "source": [
    "### Incident Number"
   ]
  },
  {
   "cell_type": "code",
   "execution_count": 33,
   "id": "2a7c751b",
   "metadata": {},
   "outputs": [
    {
     "data": {
      "text/plain": [
       "27409"
      ]
     },
     "execution_count": 33,
     "metadata": {},
     "output_type": "execute_result"
    }
   ],
   "source": [
    "#Number of observations\n",
    "london_train.shape[0]"
   ]
  },
  {
   "cell_type": "code",
   "execution_count": 32,
   "id": "f14f7123",
   "metadata": {},
   "outputs": [
    {
     "data": {
      "text/plain": [
       "27409"
      ]
     },
     "execution_count": 32,
     "metadata": {},
     "output_type": "execute_result"
    }
   ],
   "source": [
    "#Number of incidents\n",
    "len(london_train[\"incident_number\"].unique())"
   ]
  },
  {
   "cell_type": "markdown",
   "id": "c59ffa36",
   "metadata": {},
   "source": [
    "As we'd hope, each observation in our data is a different reponse and there are no duplicates. "
   ]
  },
  {
   "cell_type": "code",
   "execution_count": null,
   "id": "1276ef02",
   "metadata": {},
   "outputs": [],
   "source": []
  },
  {
   "cell_type": "code",
   "execution_count": null,
   "id": "718c46eb",
   "metadata": {},
   "outputs": [],
   "source": []
  },
  {
   "cell_type": "code",
   "execution_count": null,
   "id": "8fa97f03",
   "metadata": {},
   "outputs": [],
   "source": []
  }
 ],
 "metadata": {
  "kernelspec": {
   "display_name": "Python 3",
   "language": "python",
   "name": "python3"
  },
  "language_info": {
   "codemirror_mode": {
    "name": "ipython",
    "version": 3
   },
   "file_extension": ".py",
   "mimetype": "text/x-python",
   "name": "python",
   "nbconvert_exporter": "python",
   "pygments_lexer": "ipython3",
   "version": "3.8.8"
  }
 },
 "nbformat": 4,
 "nbformat_minor": 5
}
