{
 "cells": [
  {
   "cell_type": "markdown",
   "id": "c24ded97",
   "metadata": {},
   "source": [
    "# Setup and Imports"
   ]
  },
  {
   "cell_type": "code",
   "execution_count": 17,
   "id": "2239be90",
   "metadata": {},
   "outputs": [],
   "source": [
    "import pandas as pd\n",
    "import numpy as np\n",
    "import london_data_functions as ldf\n",
    "import warnings\n",
    "import pickle\n",
    "from datetime import datetime\n",
    "from sklearn.preprocessing import OneHotEncoder"
   ]
  },
  {
   "cell_type": "markdown",
   "id": "5ebf21d5",
   "metadata": {},
   "source": [
    "# Get the Data"
   ]
  },
  {
   "cell_type": "code",
   "execution_count": 18,
   "id": "1d353037",
   "metadata": {},
   "outputs": [
    {
     "name": "stdout",
     "output_type": "stream",
     "text": [
      "Wall time: 6.68 s\n"
     ]
    }
   ],
   "source": [
    "%%time\n",
    "query = \"\"\"\n",
    "            SELECT incident_number, timestamp_of_call, incident_group, property_category, \n",
    "                    address_qualifier, borough_name, first_pump_arriving_attendance_time as first_time,\n",
    "                    num_stations_with_pumps_attending as station_pumps, num_pumps_attending as pumps_attending,\n",
    "                    FROM `gdac-327115.LondonFire.fire_brigade`\n",
    "        \"\"\"\n",
    "\n",
    "london = ldf.fetch_london_data(query_string=query, project_id = \"gdac-327115\", location = \"eu\")"
   ]
  },
  {
   "cell_type": "markdown",
   "id": "75f7ab18",
   "metadata": {},
   "source": [
    "# Clean the Data"
   ]
  },
  {
   "cell_type": "code",
   "execution_count": 7,
   "id": "a9502228",
   "metadata": {},
   "outputs": [
    {
     "name": "stdout",
     "output_type": "stream",
     "text": [
      "Cleaning London Data Started...\n",
      "\n",
      "Sucessfully Added Emergency Column!\n",
      "Sucessfully Added Month Column!\n",
      "Sucessfully Added Hour Column!\n",
      "Sucessfully Cleanded Property Category!\n",
      "Sucessfully Cleaned and Ranked Property Type!\n",
      "Sucessfully Cleaned Address!\n",
      "Sucessfully Cleaned Borough Names!\n",
      "Sucessfully Cleaned and Ranked Ward Names!\n",
      "Sucessfully Imputed Station Names!\n",
      "Sucessfully Ranked Stations!\n",
      "Sucessfully Cleaned Station Arriving Time!\n",
      "Sucessfully Cleaned Number of Stations with Pumps!\n",
      "Sucessfully Cleaned Number of Pumps Attending!\n",
      "Sucessfully Dropped Unecessary Columns!\n",
      "\n",
      "Sucessfully Cleaned London Data!\n"
     ]
    }
   ],
   "source": [
    "warnings.filterwarnings('ignore')\n",
    "london_clean = ldf.clean_london(london)"
   ]
  },
  {
   "cell_type": "markdown",
   "id": "ce478c9d",
   "metadata": {},
   "source": [
    "# Load in Model"
   ]
  },
  {
   "cell_type": "code",
   "execution_count": 4,
   "id": "5665dfa5",
   "metadata": {},
   "outputs": [
    {
     "data": {
      "text/plain": [
       "XGBClassifier(base_score=0.5, booster='gbtree', colsample_bylevel=1,\n",
       "              colsample_bynode=1, colsample_bytree=0.7192270091575351,\n",
       "              enable_categorical=False, gamma=2.5108916227121214, gpu_id=-1,\n",
       "              importance_type=None, interaction_constraints='',\n",
       "              learning_rate=0.4434343526554207, max_delta_step=0, max_depth=7,\n",
       "              min_child_weight=26, missing=nan, monotone_constraints='()',\n",
       "              n_estimators=64, n_jobs=8, num_parallel_tree=1, predictor='auto',\n",
       "              random_state=0, reg_alpha=0, reg_lambda=1.2882744251408234,\n",
       "              scale_pos_weight=1, subsample=0.6112882087855153,\n",
       "              tree_method='exact', use_label_encoder=False,\n",
       "              validate_parameters=1, verbosity=None)"
      ]
     },
     "execution_count": 4,
     "metadata": {},
     "output_type": "execute_result"
    }
   ],
   "source": [
    "model = pickle.load(open(\"best_model.sav\", 'rb'))\n",
    "model"
   ]
  },
  {
   "cell_type": "markdown",
   "id": "2d58bb13",
   "metadata": {},
   "source": [
    "# Create Helper Functions"
   ]
  },
  {
   "cell_type": "code",
   "execution_count": 20,
   "id": "1473f2cb",
   "metadata": {},
   "outputs": [],
   "source": [
    "def str_to_date(date_str, time_str):\n",
    "    \"\"\"\n",
    "    This function takes takes a date and time string and concatenates them together. Finally, it returns a datetime object.\n",
    "    \n",
    "    date_str: string containing the date in form mm/dd/yyyy\n",
    "    time_str: string containing the time in form hh:mm:ss\n",
    "    \n",
    "    returns: datetime object \n",
    "    \"\"\"\n",
    "    crime_time = date_str + \" \" + time_str\n",
    "    return datetime.strptime(crime_time, \"%m/%d/%Y %H:%M:%S\")"
   ]
  },
  {
   "cell_type": "code",
   "execution_count": 21,
   "id": "97859c51",
   "metadata": {},
   "outputs": [],
   "source": [
    "def user_input():\n",
    "    \"\"\"\n",
    "    This function asks the user for the new crime details. It then converts the input to the form found in the original\n",
    "    dataframe. \n",
    "    \n",
    "    returns: DataFrame with the crime details\n",
    "    \"\"\"\n",
    "    property_category = str.upper(input(\"Enter the property category: \"))\n",
    "    \n",
    "    property_type = str.upper(input(\"Enter the property type: \"))\n",
    "    \n",
    "    address = str.upper(input(\"Enter the address qualifier: \"))\n",
    "    \n",
    "    borough = str.upper(input(\"Enter the borough name: \"))\n",
    "    \n",
    "    ward = str.upper(input(\"Enter the ward name: \"))\n",
    "    \n",
    "    first_time = str.upper(input(\"Enter the pump arriving time: \"))\n",
    "    \n",
    "    first_station = str.upper(input(\"Enter the station where the first pump was deployed from: \"))\n",
    "    \n",
    "    station_pumps = str.upper(input(\"Enter the number of stations with pumps attending: \"))\n",
    "    \n",
    "    pumps_attending = str.upper(input(\"Enter the number of pumps attending: \"))\n",
    "    \n",
    "    date = input(\"Date of Crime (mm/dd/yyy): \")\n",
    "    \n",
    "    hour = input(\"Time of Crime (hh:mm:ss): \")\n",
    "    \n",
    "    date_time = str_to_date(date, hour)\n",
    "    \n",
    "    new_crime_df = pd.DataFrame({\"date\": date_time, \"property_category\": property_category, \"property_type\": property_type, \n",
    "                                 \"address_qualifier\": address, \"borough_name\": borough, \"ward_name\": ward,  \n",
    "                                 \"first_time\": first_time, \"first_station\": first_station, \"station_pumps\": station_pumps,\n",
    "                                 \"pumps_attending\": pumps_attending}, index = [1])\n",
    "    \n",
    "    return new_crime_df"
   ]
  },
  {
   "cell_type": "code",
   "execution_count": 25,
   "id": "e049779b",
   "metadata": {},
   "outputs": [
    {
     "name": "stdout",
     "output_type": "stream",
     "text": [
      "Enter the property category: Dwelling\n",
      "Enter the property type: house - single occupancy\n",
      "Enter the address qualifier: within same building\n",
      "Enter the borough name: kensington and chelsea stanley\n",
      "Enter the ward name: 246\n",
      "Enter the pump arriving time: 246\n",
      "Enter the station where the first pump was deployed from: Chelsea\n",
      "Enter the number of stations with pumps attending: 2\n",
      "Enter the number of pumps attending: 2\n",
      "Date of Crime (mm/dd/yyy): 03/03/2022\n",
      "Time of Crime (hh:mm:ss): 14:30:15\n"
     ]
    }
   ],
   "source": [
    "test = user_input()"
   ]
  },
  {
   "cell_type": "code",
   "execution_count": 26,
   "id": "361d5238",
   "metadata": {},
   "outputs": [
    {
     "data": {
      "text/html": [
       "<div>\n",
       "<style scoped>\n",
       "    .dataframe tbody tr th:only-of-type {\n",
       "        vertical-align: middle;\n",
       "    }\n",
       "\n",
       "    .dataframe tbody tr th {\n",
       "        vertical-align: top;\n",
       "    }\n",
       "\n",
       "    .dataframe thead th {\n",
       "        text-align: right;\n",
       "    }\n",
       "</style>\n",
       "<table border=\"1\" class=\"dataframe\">\n",
       "  <thead>\n",
       "    <tr style=\"text-align: right;\">\n",
       "      <th></th>\n",
       "      <th>date</th>\n",
       "      <th>property_category</th>\n",
       "      <th>property_type</th>\n",
       "      <th>address_qualifier</th>\n",
       "      <th>borough_name</th>\n",
       "      <th>ward_name</th>\n",
       "      <th>first_time</th>\n",
       "      <th>first_station</th>\n",
       "      <th>station_pumps</th>\n",
       "      <th>pumps_attending</th>\n",
       "    </tr>\n",
       "  </thead>\n",
       "  <tbody>\n",
       "    <tr>\n",
       "      <th>1</th>\n",
       "      <td>2022-03-03 14:30:15</td>\n",
       "      <td>DWELLING</td>\n",
       "      <td>HOUSE - SINGLE OCCUPANCY</td>\n",
       "      <td>WITHIN SAME BUILDING</td>\n",
       "      <td>KENSINGTON AND CHELSEA STANLEY</td>\n",
       "      <td>246</td>\n",
       "      <td>246</td>\n",
       "      <td>CHELSEA</td>\n",
       "      <td>2</td>\n",
       "      <td>2</td>\n",
       "    </tr>\n",
       "  </tbody>\n",
       "</table>\n",
       "</div>"
      ],
      "text/plain": [
       "                 date property_category             property_type  \\\n",
       "1 2022-03-03 14:30:15          DWELLING  HOUSE - SINGLE OCCUPANCY   \n",
       "\n",
       "      address_qualifier                    borough_name ward_name first_time  \\\n",
       "1  WITHIN SAME BUILDING  KENSINGTON AND CHELSEA STANLEY       246        246   \n",
       "\n",
       "  first_station station_pumps pumps_attending  \n",
       "1       CHELSEA             2               2  "
      ]
     },
     "execution_count": 26,
     "metadata": {},
     "output_type": "execute_result"
    }
   ],
   "source": [
    "test.head()"
   ]
  },
  {
   "cell_type": "code",
   "execution_count": 27,
   "id": "0f564cc3",
   "metadata": {},
   "outputs": [
    {
     "name": "stdout",
     "output_type": "stream",
     "text": [
      "Cleaning London Data Started...\n",
      "\n"
     ]
    },
    {
     "ename": "KeyError",
     "evalue": "'incident_group'",
     "output_type": "error",
     "traceback": [
      "\u001b[1;31m---------------------------------------------------------------------------\u001b[0m",
      "\u001b[1;31mKeyError\u001b[0m                                  Traceback (most recent call last)",
      "\u001b[1;32m~\\anaconda3\\lib\\site-packages\\pandas\\core\\indexes\\base.py\u001b[0m in \u001b[0;36mget_loc\u001b[1;34m(self, key, method, tolerance)\u001b[0m\n\u001b[0;32m   3079\u001b[0m             \u001b[1;32mtry\u001b[0m\u001b[1;33m:\u001b[0m\u001b[1;33m\u001b[0m\u001b[1;33m\u001b[0m\u001b[0m\n\u001b[1;32m-> 3080\u001b[1;33m                 \u001b[1;32mreturn\u001b[0m \u001b[0mself\u001b[0m\u001b[1;33m.\u001b[0m\u001b[0m_engine\u001b[0m\u001b[1;33m.\u001b[0m\u001b[0mget_loc\u001b[0m\u001b[1;33m(\u001b[0m\u001b[0mcasted_key\u001b[0m\u001b[1;33m)\u001b[0m\u001b[1;33m\u001b[0m\u001b[1;33m\u001b[0m\u001b[0m\n\u001b[0m\u001b[0;32m   3081\u001b[0m             \u001b[1;32mexcept\u001b[0m \u001b[0mKeyError\u001b[0m \u001b[1;32mas\u001b[0m \u001b[0merr\u001b[0m\u001b[1;33m:\u001b[0m\u001b[1;33m\u001b[0m\u001b[1;33m\u001b[0m\u001b[0m\n",
      "\u001b[1;32mpandas\\_libs\\index.pyx\u001b[0m in \u001b[0;36mpandas._libs.index.IndexEngine.get_loc\u001b[1;34m()\u001b[0m\n",
      "\u001b[1;32mpandas\\_libs\\index.pyx\u001b[0m in \u001b[0;36mpandas._libs.index.IndexEngine.get_loc\u001b[1;34m()\u001b[0m\n",
      "\u001b[1;32mpandas\\_libs\\hashtable_class_helper.pxi\u001b[0m in \u001b[0;36mpandas._libs.hashtable.PyObjectHashTable.get_item\u001b[1;34m()\u001b[0m\n",
      "\u001b[1;32mpandas\\_libs\\hashtable_class_helper.pxi\u001b[0m in \u001b[0;36mpandas._libs.hashtable.PyObjectHashTable.get_item\u001b[1;34m()\u001b[0m\n",
      "\u001b[1;31mKeyError\u001b[0m: 'incident_group'",
      "\nThe above exception was the direct cause of the following exception:\n",
      "\u001b[1;31mKeyError\u001b[0m                                  Traceback (most recent call last)",
      "\u001b[1;32m<ipython-input-27-d399f492d907>\u001b[0m in \u001b[0;36m<module>\u001b[1;34m\u001b[0m\n\u001b[1;32m----> 1\u001b[1;33m \u001b[0mtest_clean\u001b[0m \u001b[1;33m=\u001b[0m \u001b[0mldf\u001b[0m\u001b[1;33m.\u001b[0m\u001b[0mclean_london\u001b[0m\u001b[1;33m(\u001b[0m\u001b[0mtest\u001b[0m\u001b[1;33m)\u001b[0m\u001b[1;33m\u001b[0m\u001b[1;33m\u001b[0m\u001b[0m\n\u001b[0m",
      "\u001b[1;32m~\\Documents\\Personal\\Python\\London-Fire-Brigade\\london_data_functions.py\u001b[0m in \u001b[0;36mclean_london\u001b[1;34m(df, add_emergencies, make_month, make_hour, clean_property, rank_property_type, clean_address, clean_boroughs, rank_wards, impute_station, rank_station, clean_arriving_time, clean_station_pumps, clean_pumps_attending, verbose)\u001b[0m\n\u001b[0;32m    257\u001b[0m \u001b[1;33m\u001b[0m\u001b[0m\n\u001b[0;32m    258\u001b[0m     \u001b[1;32mif\u001b[0m \u001b[0madd_emergencies\u001b[0m\u001b[1;33m:\u001b[0m\u001b[1;33m\u001b[0m\u001b[1;33m\u001b[0m\u001b[0m\n\u001b[1;32m--> 259\u001b[1;33m         \u001b[0mmake_emergencies\u001b[0m\u001b[1;33m(\u001b[0m\u001b[0mdf\u001b[0m\u001b[1;33m)\u001b[0m\u001b[1;33m\u001b[0m\u001b[1;33m\u001b[0m\u001b[0m\n\u001b[0m\u001b[0;32m    260\u001b[0m         \u001b[1;32mif\u001b[0m \u001b[0mverbose\u001b[0m\u001b[1;33m:\u001b[0m \u001b[0mprint\u001b[0m\u001b[1;33m(\u001b[0m\u001b[1;34m\"Sucessfully Added Emergency Column!\"\u001b[0m\u001b[1;33m)\u001b[0m\u001b[1;33m\u001b[0m\u001b[1;33m\u001b[0m\u001b[0m\n\u001b[0;32m    261\u001b[0m \u001b[1;33m\u001b[0m\u001b[0m\n",
      "\u001b[1;32m~\\Documents\\Personal\\Python\\London-Fire-Brigade\\london_data_functions.py\u001b[0m in \u001b[0;36mmake_emergencies\u001b[1;34m(df)\u001b[0m\n\u001b[0;32m     30\u001b[0m     \"\"\"\n\u001b[0;32m     31\u001b[0m     \u001b[0memergency\u001b[0m \u001b[1;33m=\u001b[0m \u001b[1;33m[\u001b[0m\u001b[1;34m\"Special Service\"\u001b[0m\u001b[1;33m,\u001b[0m \u001b[1;34m\"Fire\"\u001b[0m\u001b[1;33m]\u001b[0m\u001b[1;33m\u001b[0m\u001b[1;33m\u001b[0m\u001b[0m\n\u001b[1;32m---> 32\u001b[1;33m     \u001b[0mdf\u001b[0m\u001b[1;33m[\u001b[0m\u001b[1;34m\"incident_group\"\u001b[0m\u001b[1;33m]\u001b[0m\u001b[1;33m.\u001b[0m\u001b[0mreplace\u001b[0m\u001b[1;33m(\u001b[0m\u001b[0memergency\u001b[0m\u001b[1;33m,\u001b[0m \u001b[1;34m\"Emergency\"\u001b[0m\u001b[1;33m,\u001b[0m \u001b[0minplace\u001b[0m \u001b[1;33m=\u001b[0m \u001b[1;32mTrue\u001b[0m\u001b[1;33m)\u001b[0m\u001b[1;33m\u001b[0m\u001b[1;33m\u001b[0m\u001b[0m\n\u001b[0m\u001b[0;32m     33\u001b[0m     \u001b[0mdf\u001b[0m\u001b[1;33m[\u001b[0m\u001b[1;34m\"Emergency\"\u001b[0m\u001b[1;33m]\u001b[0m \u001b[1;33m=\u001b[0m \u001b[1;33m(\u001b[0m\u001b[0mdf\u001b[0m\u001b[1;33m[\u001b[0m\u001b[1;34m\"incident_group\"\u001b[0m\u001b[1;33m]\u001b[0m \u001b[1;33m==\u001b[0m \u001b[1;34m\"Emergency\"\u001b[0m\u001b[1;33m)\u001b[0m\u001b[1;33m.\u001b[0m\u001b[0mastype\u001b[0m\u001b[1;33m(\u001b[0m\u001b[0mnp\u001b[0m\u001b[1;33m.\u001b[0m\u001b[0mint64\u001b[0m\u001b[1;33m)\u001b[0m\u001b[1;33m\u001b[0m\u001b[1;33m\u001b[0m\u001b[0m\n\u001b[0;32m     34\u001b[0m \u001b[1;33m\u001b[0m\u001b[0m\n",
      "\u001b[1;32m~\\anaconda3\\lib\\site-packages\\pandas\\core\\frame.py\u001b[0m in \u001b[0;36m__getitem__\u001b[1;34m(self, key)\u001b[0m\n\u001b[0;32m   3022\u001b[0m             \u001b[1;32mif\u001b[0m \u001b[0mself\u001b[0m\u001b[1;33m.\u001b[0m\u001b[0mcolumns\u001b[0m\u001b[1;33m.\u001b[0m\u001b[0mnlevels\u001b[0m \u001b[1;33m>\u001b[0m \u001b[1;36m1\u001b[0m\u001b[1;33m:\u001b[0m\u001b[1;33m\u001b[0m\u001b[1;33m\u001b[0m\u001b[0m\n\u001b[0;32m   3023\u001b[0m                 \u001b[1;32mreturn\u001b[0m \u001b[0mself\u001b[0m\u001b[1;33m.\u001b[0m\u001b[0m_getitem_multilevel\u001b[0m\u001b[1;33m(\u001b[0m\u001b[0mkey\u001b[0m\u001b[1;33m)\u001b[0m\u001b[1;33m\u001b[0m\u001b[1;33m\u001b[0m\u001b[0m\n\u001b[1;32m-> 3024\u001b[1;33m             \u001b[0mindexer\u001b[0m \u001b[1;33m=\u001b[0m \u001b[0mself\u001b[0m\u001b[1;33m.\u001b[0m\u001b[0mcolumns\u001b[0m\u001b[1;33m.\u001b[0m\u001b[0mget_loc\u001b[0m\u001b[1;33m(\u001b[0m\u001b[0mkey\u001b[0m\u001b[1;33m)\u001b[0m\u001b[1;33m\u001b[0m\u001b[1;33m\u001b[0m\u001b[0m\n\u001b[0m\u001b[0;32m   3025\u001b[0m             \u001b[1;32mif\u001b[0m \u001b[0mis_integer\u001b[0m\u001b[1;33m(\u001b[0m\u001b[0mindexer\u001b[0m\u001b[1;33m)\u001b[0m\u001b[1;33m:\u001b[0m\u001b[1;33m\u001b[0m\u001b[1;33m\u001b[0m\u001b[0m\n\u001b[0;32m   3026\u001b[0m                 \u001b[0mindexer\u001b[0m \u001b[1;33m=\u001b[0m \u001b[1;33m[\u001b[0m\u001b[0mindexer\u001b[0m\u001b[1;33m]\u001b[0m\u001b[1;33m\u001b[0m\u001b[1;33m\u001b[0m\u001b[0m\n",
      "\u001b[1;32m~\\anaconda3\\lib\\site-packages\\pandas\\core\\indexes\\base.py\u001b[0m in \u001b[0;36mget_loc\u001b[1;34m(self, key, method, tolerance)\u001b[0m\n\u001b[0;32m   3080\u001b[0m                 \u001b[1;32mreturn\u001b[0m \u001b[0mself\u001b[0m\u001b[1;33m.\u001b[0m\u001b[0m_engine\u001b[0m\u001b[1;33m.\u001b[0m\u001b[0mget_loc\u001b[0m\u001b[1;33m(\u001b[0m\u001b[0mcasted_key\u001b[0m\u001b[1;33m)\u001b[0m\u001b[1;33m\u001b[0m\u001b[1;33m\u001b[0m\u001b[0m\n\u001b[0;32m   3081\u001b[0m             \u001b[1;32mexcept\u001b[0m \u001b[0mKeyError\u001b[0m \u001b[1;32mas\u001b[0m \u001b[0merr\u001b[0m\u001b[1;33m:\u001b[0m\u001b[1;33m\u001b[0m\u001b[1;33m\u001b[0m\u001b[0m\n\u001b[1;32m-> 3082\u001b[1;33m                 \u001b[1;32mraise\u001b[0m \u001b[0mKeyError\u001b[0m\u001b[1;33m(\u001b[0m\u001b[0mkey\u001b[0m\u001b[1;33m)\u001b[0m \u001b[1;32mfrom\u001b[0m \u001b[0merr\u001b[0m\u001b[1;33m\u001b[0m\u001b[1;33m\u001b[0m\u001b[0m\n\u001b[0m\u001b[0;32m   3083\u001b[0m \u001b[1;33m\u001b[0m\u001b[0m\n\u001b[0;32m   3084\u001b[0m         \u001b[1;32mif\u001b[0m \u001b[0mtolerance\u001b[0m \u001b[1;32mis\u001b[0m \u001b[1;32mnot\u001b[0m \u001b[1;32mNone\u001b[0m\u001b[1;33m:\u001b[0m\u001b[1;33m\u001b[0m\u001b[1;33m\u001b[0m\u001b[0m\n",
      "\u001b[1;31mKeyError\u001b[0m: 'incident_group'"
     ]
    }
   ],
   "source": [
    "test_clean = ldf.clean_london(test)"
   ]
  },
  {
   "cell_type": "code",
   "execution_count": 24,
   "id": "1c460ba5",
   "metadata": {},
   "outputs": [
    {
     "data": {
      "text/html": [
       "<div>\n",
       "<style scoped>\n",
       "    .dataframe tbody tr th:only-of-type {\n",
       "        vertical-align: middle;\n",
       "    }\n",
       "\n",
       "    .dataframe tbody tr th {\n",
       "        vertical-align: top;\n",
       "    }\n",
       "\n",
       "    .dataframe thead th {\n",
       "        text-align: right;\n",
       "    }\n",
       "</style>\n",
       "<table border=\"1\" class=\"dataframe\">\n",
       "  <thead>\n",
       "    <tr style=\"text-align: right;\">\n",
       "      <th></th>\n",
       "      <th>incident_number</th>\n",
       "      <th>timestamp_of_call</th>\n",
       "      <th>incident_group</th>\n",
       "      <th>property_category</th>\n",
       "      <th>property_type</th>\n",
       "      <th>address_qualifier</th>\n",
       "      <th>borough_name</th>\n",
       "      <th>ward_name</th>\n",
       "      <th>first_time</th>\n",
       "      <th>first_station</th>\n",
       "      <th>station_pumps</th>\n",
       "      <th>pumps_attending</th>\n",
       "    </tr>\n",
       "  </thead>\n",
       "  <tbody>\n",
       "    <tr>\n",
       "      <th>32234</th>\n",
       "      <td>028524-08032017</td>\n",
       "      <td>2017-03-08 23:15:56+00:00</td>\n",
       "      <td>False Alarm</td>\n",
       "      <td>Dwelling</td>\n",
       "      <td>Converted Flat/Maisonette - Up to 2 storeys</td>\n",
       "      <td>Correct incident location</td>\n",
       "      <td>KENSINGTON AND CHELSEA</td>\n",
       "      <td>STANLEY</td>\n",
       "      <td>246</td>\n",
       "      <td>Chelsea</td>\n",
       "      <td>2</td>\n",
       "      <td>2</td>\n",
       "    </tr>\n",
       "    <tr>\n",
       "      <th>32235</th>\n",
       "      <td>030643-13032017</td>\n",
       "      <td>2017-03-13 20:12:13+00:00</td>\n",
       "      <td>False Alarm</td>\n",
       "      <td>Dwelling</td>\n",
       "      <td>Purpose Built Flats/Maisonettes - 4 to 9 storeys</td>\n",
       "      <td>Within same building</td>\n",
       "      <td>KENSINGTON AND CHELSEA</td>\n",
       "      <td>STANLEY</td>\n",
       "      <td>202</td>\n",
       "      <td>Chelsea</td>\n",
       "      <td>2</td>\n",
       "      <td>2</td>\n",
       "    </tr>\n",
       "    <tr>\n",
       "      <th>32236</th>\n",
       "      <td>035655-25032017</td>\n",
       "      <td>2017-03-25 11:28:27+00:00</td>\n",
       "      <td>False Alarm</td>\n",
       "      <td>Dwelling</td>\n",
       "      <td>Converted Flat/Maisonette - Up to 2 storeys</td>\n",
       "      <td>Correct incident location</td>\n",
       "      <td>KENSINGTON AND CHELSEA</td>\n",
       "      <td>STANLEY</td>\n",
       "      <td>229</td>\n",
       "      <td>Chelsea</td>\n",
       "      <td>1</td>\n",
       "      <td>1</td>\n",
       "    </tr>\n",
       "    <tr>\n",
       "      <th>32237</th>\n",
       "      <td>046792-15042017</td>\n",
       "      <td>2017-04-15 22:41:02+00:00</td>\n",
       "      <td>False Alarm</td>\n",
       "      <td>Dwelling</td>\n",
       "      <td>House - single occupancy</td>\n",
       "      <td>Correct incident location</td>\n",
       "      <td>KENSINGTON AND CHELSEA</td>\n",
       "      <td>STANLEY</td>\n",
       "      <td>106</td>\n",
       "      <td>Chelsea</td>\n",
       "      <td>2</td>\n",
       "      <td>2</td>\n",
       "    </tr>\n",
       "    <tr>\n",
       "      <th>32238</th>\n",
       "      <td>051430-25042017</td>\n",
       "      <td>2017-04-25 09:36:51+00:00</td>\n",
       "      <td>False Alarm</td>\n",
       "      <td>Dwelling</td>\n",
       "      <td>Converted Flat/Maisonettes - 3 or more storeys</td>\n",
       "      <td>Correct incident location</td>\n",
       "      <td>KENSINGTON AND CHELSEA</td>\n",
       "      <td>STANLEY</td>\n",
       "      <td>284</td>\n",
       "      <td>Chelsea</td>\n",
       "      <td>1</td>\n",
       "      <td>1</td>\n",
       "    </tr>\n",
       "  </tbody>\n",
       "</table>\n",
       "</div>"
      ],
      "text/plain": [
       "       incident_number         timestamp_of_call incident_group  \\\n",
       "32234  028524-08032017 2017-03-08 23:15:56+00:00    False Alarm   \n",
       "32235  030643-13032017 2017-03-13 20:12:13+00:00    False Alarm   \n",
       "32236  035655-25032017 2017-03-25 11:28:27+00:00    False Alarm   \n",
       "32237  046792-15042017 2017-04-15 22:41:02+00:00    False Alarm   \n",
       "32238  051430-25042017 2017-04-25 09:36:51+00:00    False Alarm   \n",
       "\n",
       "      property_category                                      property_type  \\\n",
       "32234          Dwelling       Converted Flat/Maisonette - Up to 2 storeys    \n",
       "32235          Dwelling  Purpose Built Flats/Maisonettes - 4 to 9 storeys    \n",
       "32236          Dwelling       Converted Flat/Maisonette - Up to 2 storeys    \n",
       "32237          Dwelling                          House - single occupancy    \n",
       "32238          Dwelling     Converted Flat/Maisonettes - 3 or more storeys   \n",
       "\n",
       "               address_qualifier            borough_name ward_name  \\\n",
       "32234  Correct incident location  KENSINGTON AND CHELSEA   STANLEY   \n",
       "32235       Within same building  KENSINGTON AND CHELSEA   STANLEY   \n",
       "32236  Correct incident location  KENSINGTON AND CHELSEA   STANLEY   \n",
       "32237  Correct incident location  KENSINGTON AND CHELSEA   STANLEY   \n",
       "32238  Correct incident location  KENSINGTON AND CHELSEA   STANLEY   \n",
       "\n",
       "       first_time first_station  station_pumps  pumps_attending  \n",
       "32234         246       Chelsea              2                2  \n",
       "32235         202       Chelsea              2                2  \n",
       "32236         229       Chelsea              1                1  \n",
       "32237         106       Chelsea              2                2  \n",
       "32238         284       Chelsea              1                1  "
      ]
     },
     "execution_count": 24,
     "metadata": {},
     "output_type": "execute_result"
    }
   ],
   "source": [
    "london.loc[london[\"first_station\"].notnull()].tail()"
   ]
  },
  {
   "cell_type": "code",
   "execution_count": 8,
   "id": "660381d3",
   "metadata": {},
   "outputs": [
    {
     "data": {
      "text/html": [
       "<div>\n",
       "<style scoped>\n",
       "    .dataframe tbody tr th:only-of-type {\n",
       "        vertical-align: middle;\n",
       "    }\n",
       "\n",
       "    .dataframe tbody tr th {\n",
       "        vertical-align: top;\n",
       "    }\n",
       "\n",
       "    .dataframe thead th {\n",
       "        text-align: right;\n",
       "    }\n",
       "</style>\n",
       "<table border=\"1\" class=\"dataframe\">\n",
       "  <thead>\n",
       "    <tr style=\"text-align: right;\">\n",
       "      <th></th>\n",
       "      <th>property_category</th>\n",
       "      <th>address_qualifier</th>\n",
       "      <th>borough_name</th>\n",
       "      <th>first_time</th>\n",
       "      <th>station_pumps</th>\n",
       "      <th>pumps_attending</th>\n",
       "      <th>Emergency</th>\n",
       "      <th>Month</th>\n",
       "      <th>Hour</th>\n",
       "      <th>pt_rank</th>\n",
       "      <th>wn_rank</th>\n",
       "      <th>stat_rank</th>\n",
       "    </tr>\n",
       "  </thead>\n",
       "  <tbody>\n",
       "    <tr>\n",
       "      <th>0</th>\n",
       "      <td>Residential</td>\n",
       "      <td>Correct incident location</td>\n",
       "      <td>BARKING AND DAGENHAM</td>\n",
       "      <td>305.000000</td>\n",
       "      <td>1.0</td>\n",
       "      <td>2.0</td>\n",
       "      <td>0</td>\n",
       "      <td>2</td>\n",
       "      <td>18</td>\n",
       "      <td>5</td>\n",
       "      <td>4</td>\n",
       "      <td>5</td>\n",
       "    </tr>\n",
       "    <tr>\n",
       "      <th>1</th>\n",
       "      <td>Residential</td>\n",
       "      <td>Correct incident location</td>\n",
       "      <td>BARKING AND DAGENHAM</td>\n",
       "      <td>261.000000</td>\n",
       "      <td>1.0</td>\n",
       "      <td>2.0</td>\n",
       "      <td>1</td>\n",
       "      <td>4</td>\n",
       "      <td>23</td>\n",
       "      <td>5</td>\n",
       "      <td>4</td>\n",
       "      <td>5</td>\n",
       "    </tr>\n",
       "    <tr>\n",
       "      <th>2</th>\n",
       "      <td>Residential</td>\n",
       "      <td>Within same building</td>\n",
       "      <td>BARKING AND DAGENHAM</td>\n",
       "      <td>218.000000</td>\n",
       "      <td>1.0</td>\n",
       "      <td>2.0</td>\n",
       "      <td>1</td>\n",
       "      <td>1</td>\n",
       "      <td>14</td>\n",
       "      <td>5</td>\n",
       "      <td>4</td>\n",
       "      <td>5</td>\n",
       "    </tr>\n",
       "    <tr>\n",
       "      <th>3</th>\n",
       "      <td>Residential</td>\n",
       "      <td>Correct incident location</td>\n",
       "      <td>BARKING AND DAGENHAM</td>\n",
       "      <td>337.000000</td>\n",
       "      <td>1.0</td>\n",
       "      <td>2.0</td>\n",
       "      <td>1</td>\n",
       "      <td>2</td>\n",
       "      <td>22</td>\n",
       "      <td>5</td>\n",
       "      <td>4</td>\n",
       "      <td>5</td>\n",
       "    </tr>\n",
       "    <tr>\n",
       "      <th>4</th>\n",
       "      <td>Residential</td>\n",
       "      <td>Correct incident location</td>\n",
       "      <td>BARKING AND DAGENHAM</td>\n",
       "      <td>325.154574</td>\n",
       "      <td>1.0</td>\n",
       "      <td>1.0</td>\n",
       "      <td>1</td>\n",
       "      <td>4</td>\n",
       "      <td>15</td>\n",
       "      <td>5</td>\n",
       "      <td>4</td>\n",
       "      <td>5</td>\n",
       "    </tr>\n",
       "  </tbody>\n",
       "</table>\n",
       "</div>"
      ],
      "text/plain": [
       "  property_category          address_qualifier          borough_name  \\\n",
       "0       Residential  Correct incident location  BARKING AND DAGENHAM   \n",
       "1       Residential  Correct incident location  BARKING AND DAGENHAM   \n",
       "2       Residential       Within same building  BARKING AND DAGENHAM   \n",
       "3       Residential  Correct incident location  BARKING AND DAGENHAM   \n",
       "4       Residential  Correct incident location  BARKING AND DAGENHAM   \n",
       "\n",
       "   first_time station_pumps pumps_attending  Emergency Month Hour pt_rank  \\\n",
       "0  305.000000           1.0             2.0          0     2   18       5   \n",
       "1  261.000000           1.0             2.0          1     4   23       5   \n",
       "2  218.000000           1.0             2.0          1     1   14       5   \n",
       "3  337.000000           1.0             2.0          1     2   22       5   \n",
       "4  325.154574           1.0             1.0          1     4   15       5   \n",
       "\n",
       "  wn_rank stat_rank  \n",
       "0       4         5  \n",
       "1       4         5  \n",
       "2       4         5  \n",
       "3       4         5  \n",
       "4       4         5  "
      ]
     },
     "execution_count": 8,
     "metadata": {},
     "output_type": "execute_result"
    }
   ],
   "source": [
    "london_clean.head()"
   ]
  },
  {
   "cell_type": "code",
   "execution_count": null,
   "id": "b4ef4ee3",
   "metadata": {},
   "outputs": [],
   "source": []
  }
 ],
 "metadata": {
  "kernelspec": {
   "display_name": "Python 3",
   "language": "python",
   "name": "python3"
  },
  "language_info": {
   "codemirror_mode": {
    "name": "ipython",
    "version": 3
   },
   "file_extension": ".py",
   "mimetype": "text/x-python",
   "name": "python",
   "nbconvert_exporter": "python",
   "pygments_lexer": "ipython3",
   "version": "3.8.8"
  }
 },
 "nbformat": 4,
 "nbformat_minor": 5
}
