{
 "cells": [
  {
   "cell_type": "markdown",
   "id": "d6e0bbf8",
   "metadata": {},
   "source": [
    "# Setup and Imports"
   ]
  },
  {
   "cell_type": "code",
   "execution_count": 1,
   "id": "b1744f4e",
   "metadata": {},
   "outputs": [],
   "source": [
    "import pandas as pd\n",
    "import numpy as np\n",
    "import matplotlib.pyplot as plt\n",
    "import seaborn as sns\n",
    "sns.set\n",
    "import warnings\n",
    "import london_data_functions as ldf\n",
    "from sklearn.model_selection import train_test_split"
   ]
  },
  {
   "cell_type": "markdown",
   "id": "0402492e",
   "metadata": {},
   "source": [
    "# Get the Data"
   ]
  },
  {
   "cell_type": "code",
   "execution_count": 2,
   "id": "9ea2e390",
   "metadata": {},
   "outputs": [
    {
     "name": "stdout",
     "output_type": "stream",
     "text": [
      "Wall time: 8.75 s\n"
     ]
    }
   ],
   "source": [
    "%%time\n",
    "query = \"\"\"\n",
    "            SELECT incident_number, timestamp_of_call, incident_group, property_category, \n",
    "                    property_type, address_qualifier, borough_name, ward_name, \n",
    "                    first_pump_arriving_attendance_time as first_time, first_pump_arriving_deployed_from_station as first_station,\n",
    "                    num_stations_with_pumps_attending as station_pumps, num_pumps_attending as pumps_attending,\n",
    "                    FROM `gdac-327115.LondonFire.fire_brigade`\n",
    "        \"\"\"\n",
    "\n",
    "london = ldf.fetch_london_data(query_string=query, project_id = \"gdac-327115\", location = \"eu\")"
   ]
  },
  {
   "cell_type": "markdown",
   "id": "ed1485a0",
   "metadata": {},
   "source": [
    "# Split the Data into Training and Test Sets"
   ]
  },
  {
   "cell_type": "code",
   "execution_count": 3,
   "id": "08ff64ae",
   "metadata": {},
   "outputs": [],
   "source": [
    "london, _ = train_test_split(london, test_size = .16, stratify = london[\"incident_group\"], random_state = 42)"
   ]
  },
  {
   "cell_type": "markdown",
   "id": "2d3449ac",
   "metadata": {},
   "source": [
    "# Clean the Data"
   ]
  },
  {
   "cell_type": "code",
   "execution_count": 4,
   "id": "1da12d22",
   "metadata": {},
   "outputs": [
    {
     "name": "stdout",
     "output_type": "stream",
     "text": [
      "Cleaning London Data Started...\n",
      "\n",
      "Sucessfully Added Emergency Column!\n",
      "Sucessfully Added Month Column!\n",
      "Sucessfully Added Hour Column!\n",
      "Sucessfully Cleanded Property Category!\n",
      "Sucessfully Cleaned and Ranked Property Type!\n",
      "Sucessfully Cleaned Address!\n",
      "Sucessfully Cleaned Borough Names!\n",
      "Sucessfully Cleaned and Ranked Ward Names!\n",
      "Sucessfully Imputed Station Names!\n",
      "Sucessfully Ranked Stations!\n",
      "Sucessfully Cleaned Station Arriving Time!\n",
      "Sucessfully Cleaned Number of Stations with Pumps!\n",
      "Sucessfully Cleaned Number of Pumps Attending!\n",
      "Sucessfully Dropped Unecessary Columns!\n",
      "\n",
      "Sucessfully Cleaned London Data!\n"
     ]
    }
   ],
   "source": [
    "warnings.filterwarnings('ignore')\n",
    "london = ldf.clean_london(london)"
   ]
  },
  {
   "cell_type": "markdown",
   "id": "41b49bf7",
   "metadata": {},
   "source": [
    "# Visualizations"
   ]
  },
  {
   "cell_type": "markdown",
   "id": "204a788a",
   "metadata": {},
   "source": [
    "Since we are interested in predicting real emergencies, we'll focus on the percentage of emergencies not just the raw count."
   ]
  },
  {
   "cell_type": "markdown",
   "id": "ede258ad",
   "metadata": {},
   "source": [
    "## Emergency Percentage"
   ]
  },
  {
   "cell_type": "code",
   "execution_count": 6,
   "id": "7afed1f1",
   "metadata": {},
   "outputs": [
    {
     "data": {
      "text/html": [
       "<div>\n",
       "<style scoped>\n",
       "    .dataframe tbody tr th:only-of-type {\n",
       "        vertical-align: middle;\n",
       "    }\n",
       "\n",
       "    .dataframe tbody tr th {\n",
       "        vertical-align: top;\n",
       "    }\n",
       "\n",
       "    .dataframe thead th {\n",
       "        text-align: right;\n",
       "    }\n",
       "</style>\n",
       "<table border=\"1\" class=\"dataframe\">\n",
       "  <thead>\n",
       "    <tr style=\"text-align: right;\">\n",
       "      <th></th>\n",
       "      <th>Emergency</th>\n",
       "      <th>Percentage</th>\n",
       "    </tr>\n",
       "  </thead>\n",
       "  <tbody>\n",
       "    <tr>\n",
       "      <th>0</th>\n",
       "      <td>Real</td>\n",
       "      <td>0.510461</td>\n",
       "    </tr>\n",
       "    <tr>\n",
       "      <th>1</th>\n",
       "      <td>False Alarm</td>\n",
       "      <td>0.489539</td>\n",
       "    </tr>\n",
       "  </tbody>\n",
       "</table>\n",
       "</div>"
      ],
      "text/plain": [
       "     Emergency  Percentage\n",
       "0         Real    0.510461\n",
       "1  False Alarm    0.489539"
      ]
     },
     "execution_count": 6,
     "metadata": {},
     "output_type": "execute_result"
    }
   ],
   "source": [
    "emer_grp = london[\"Emergency\"].value_counts() / london.shape[0]\n",
    "emer_grp = pd.DataFrame(emer_grp).reset_index().rename(columns={\"index\": \"Emergency\", \"Emergency\": \"Percentage\"})\n",
    "emer_grp[\"Emergency\"] = [\"Real\", \"False Alarm\"]\n",
    "emer_grp"
   ]
  },
  {
   "cell_type": "code",
   "execution_count": 7,
   "id": "2d160c2d",
   "metadata": {},
   "outputs": [
    {
     "data": {
      "text/plain": [
       "Text(0.5, 0, 'Emergency Status')"
      ]
     },
     "execution_count": 7,
     "metadata": {},
     "output_type": "execute_result"
    },
    {
     "data": {
      "image/png": "[encoded data removed]",
      "text/plain": [
       "<Figure size 720x720 with 1 Axes>"
      ]
     },
     "metadata": {},
     "output_type": "display_data"
    }
   ],
   "source": [
    "#Make a bar chart of the results\n",
    "sns.set(rc = {'figure.figsize':(10,10)})\n",
    "sns.barplot(x=\"Emergency\", y = \"Percentage\", order = emer_grp[\"Emergency\"] \\\n",
    "                                            , data = emer_grp, color = \"mediumseagreen\")\n",
    "plt.title(\"Emergency Percentage\")\n",
    "plt.ylabel(\"Percentage\")\n",
    "plt.xlabel(\"Emergency Status\")"
   ]
  },
  {
   "cell_type": "markdown",
   "id": "b4ff69ed",
   "metadata": {},
   "source": [
    "## Month"
   ]
  },
  {
   "cell_type": "markdown",
   "id": "614a2cd0",
   "metadata": {},
   "source": [
    "### Percentage of Months Contributing to Real Emergencies"
   ]
  },
  {
   "cell_type": "code",
   "execution_count": 8,
   "id": "33ae13bb",
   "metadata": {},
   "outputs": [
    {
     "data": {
      "text/html": [
       "<div>\n",
       "<style scoped>\n",
       "    .dataframe tbody tr th:only-of-type {\n",
       "        vertical-align: middle;\n",
       "    }\n",
       "\n",
       "    .dataframe tbody tr th {\n",
       "        vertical-align: top;\n",
       "    }\n",
       "\n",
       "    .dataframe thead th {\n",
       "        text-align: right;\n",
       "    }\n",
       "</style>\n",
       "<table border=\"1\" class=\"dataframe\">\n",
       "  <thead>\n",
       "    <tr style=\"text-align: right;\">\n",
       "      <th></th>\n",
       "      <th>Month</th>\n",
       "      <th>Percentage</th>\n",
       "    </tr>\n",
       "  </thead>\n",
       "  <tbody>\n",
       "    <tr>\n",
       "      <th>0</th>\n",
       "      <td>4</td>\n",
       "      <td>29.107706</td>\n",
       "    </tr>\n",
       "    <tr>\n",
       "      <th>1</th>\n",
       "      <td>3</td>\n",
       "      <td>24.950510</td>\n",
       "    </tr>\n",
       "    <tr>\n",
       "      <th>2</th>\n",
       "      <td>1</td>\n",
       "      <td>23.755407</td>\n",
       "    </tr>\n",
       "    <tr>\n",
       "      <th>3</th>\n",
       "      <td>2</td>\n",
       "      <td>22.186377</td>\n",
       "    </tr>\n",
       "  </tbody>\n",
       "</table>\n",
       "</div>"
      ],
      "text/plain": [
       "  Month  Percentage\n",
       "0     4   29.107706\n",
       "1     3   24.950510\n",
       "2     1   23.755407\n",
       "3     2   22.186377"
      ]
     },
     "execution_count": 8,
     "metadata": {},
     "output_type": "execute_result"
    }
   ],
   "source": [
    "#Create boolean for only incidents that resulted in an emergency\n",
    "mask = london[\"Emergency\"] == 1\n",
    "\n",
    "mth_by_emer = london.loc[mask, \"Month\"].value_counts() / london[mask].shape[0] * 100\n",
    "\n",
    "mth_by_emer = pd.DataFrame(mth_by_emer).reset_index().rename(columns ={\"index\": \"Month\", \"Month\" : \"Percentage\"})\n",
    "mth_by_emer"
   ]
  },
  {
   "cell_type": "code",
   "execution_count": 9,
   "id": "9df77a94",
   "metadata": {},
   "outputs": [
    {
     "data": {
      "text/plain": [
       "Text(0.5, 0, 'Percentage')"
      ]
     },
     "execution_count": 9,
     "metadata": {},
     "output_type": "execute_result"
    },
    {
     "data": {
      "image/png": "[encoded data removed]",
      "text/plain": [
       "<Figure size 864x432 with 1 Axes>"
      ]
     },
     "metadata": {},
     "output_type": "display_data"
    }
   ],
   "source": [
    "#Make a bar chart of the results\n",
    "sns.set(rc = {'figure.figsize':(12,6)})\n",
    "sns.barplot(x=\"Percentage\", y = \"Month\", order = mth_by_emer[\"Month\"] \\\n",
    "                                            , data = mth_by_emer, color = \"mediumseagreen\")\n",
    "plt.title(\"Percentage of Months Contributing to Real Emergencies\")\n",
    "plt.ylabel(\"Months\")\n",
    "plt.xlabel(\"Percentage\")"
   ]
  },
  {
   "cell_type": "markdown",
   "id": "8bd70114",
   "metadata": {},
   "source": [
    "### Emergency Percentage by Month"
   ]
  },
  {
   "cell_type": "code",
   "execution_count": 10,
   "id": "a9d438c2",
   "metadata": {},
   "outputs": [
    {
     "data": {
      "text/html": [
       "<div>\n",
       "<style scoped>\n",
       "    .dataframe tbody tr th:only-of-type {\n",
       "        vertical-align: middle;\n",
       "    }\n",
       "\n",
       "    .dataframe tbody tr th {\n",
       "        vertical-align: top;\n",
       "    }\n",
       "\n",
       "    .dataframe thead th {\n",
       "        text-align: right;\n",
       "    }\n",
       "</style>\n",
       "<table border=\"1\" class=\"dataframe\">\n",
       "  <thead>\n",
       "    <tr style=\"text-align: right;\">\n",
       "      <th></th>\n",
       "      <th>Month</th>\n",
       "      <th>mean</th>\n",
       "      <th>sum</th>\n",
       "    </tr>\n",
       "  </thead>\n",
       "  <tbody>\n",
       "    <tr>\n",
       "      <th>0</th>\n",
       "      <td>1</td>\n",
       "      <td>47.423888</td>\n",
       "      <td>3240</td>\n",
       "    </tr>\n",
       "    <tr>\n",
       "      <th>1</th>\n",
       "      <td>2</td>\n",
       "      <td>50.000000</td>\n",
       "      <td>3026</td>\n",
       "    </tr>\n",
       "    <tr>\n",
       "      <th>2</th>\n",
       "      <td>3</td>\n",
       "      <td>51.552795</td>\n",
       "      <td>3403</td>\n",
       "    </tr>\n",
       "    <tr>\n",
       "      <th>3</th>\n",
       "      <td>4</td>\n",
       "      <td>54.879735</td>\n",
       "      <td>3970</td>\n",
       "    </tr>\n",
       "  </tbody>\n",
       "</table>\n",
       "</div>"
      ],
      "text/plain": [
       "  Month       mean   sum\n",
       "0     1  47.423888  3240\n",
       "1     2  50.000000  3026\n",
       "2     3  51.552795  3403\n",
       "3     4  54.879735  3970"
      ]
     },
     "execution_count": 10,
     "metadata": {},
     "output_type": "execute_result"
    }
   ],
   "source": [
    "mth_grp = london.groupby(\"Month\")[\"Emergency\"].aggregate([\"mean\", \"sum\"])\n",
    "mth_grp = mth_grp.reset_index().sort_values(by = \"Month\", ascending=True)\n",
    "mth_grp[\"mean\"] *= 100\n",
    "mth_grp"
   ]
  },
  {
   "cell_type": "code",
   "execution_count": 11,
   "id": "b55efb4d",
   "metadata": {},
   "outputs": [
    {
     "data": {
      "text/plain": [
       "Text(0.5, 0, 'Month')"
      ]
     },
     "execution_count": 11,
     "metadata": {},
     "output_type": "execute_result"
    },
    {
     "data": {
      "image/png": "[encoded data removed]",
      "text/plain": [
       "<Figure size 720x576 with 1 Axes>"
      ]
     },
     "metadata": {},
     "output_type": "display_data"
    }
   ],
   "source": [
    "#Make a bar chart of the results\n",
    "sns.set(rc = {'figure.figsize':(10,8)})\n",
    "sns.barplot(x=\"Month\", y = \"mean\", order = mth_grp[\"Month\"] \\\n",
    "                                            , data = mth_grp, color = \"mediumseagreen\")\n",
    "plt.title(\"Emergency Percentage By Month\")\n",
    "plt.ylabel(\"Percentage\")\n",
    "plt.xlabel(\"Month\")"
   ]
  },
  {
   "cell_type": "markdown",
   "id": "38ecd48c",
   "metadata": {},
   "source": [
    "## Hour"
   ]
  },
  {
   "cell_type": "markdown",
   "id": "d062de30",
   "metadata": {},
   "source": [
    "### Percentage of Hours Contributing to Real Emergencies"
   ]
  },
  {
   "cell_type": "code",
   "execution_count": 15,
   "id": "1685f842",
   "metadata": {},
   "outputs": [
    {
     "data": {
      "text/html": [
       "<div>\n",
       "<style scoped>\n",
       "    .dataframe tbody tr th:only-of-type {\n",
       "        vertical-align: middle;\n",
       "    }\n",
       "\n",
       "    .dataframe tbody tr th {\n",
       "        vertical-align: top;\n",
       "    }\n",
       "\n",
       "    .dataframe thead th {\n",
       "        text-align: right;\n",
       "    }\n",
       "</style>\n",
       "<table border=\"1\" class=\"dataframe\">\n",
       "  <thead>\n",
       "    <tr style=\"text-align: right;\">\n",
       "      <th></th>\n",
       "      <th>Hour</th>\n",
       "      <th>Percentage</th>\n",
       "    </tr>\n",
       "  </thead>\n",
       "  <tbody>\n",
       "    <tr>\n",
       "      <th>0</th>\n",
       "      <td>18</td>\n",
       "      <td>7.199941</td>\n",
       "    </tr>\n",
       "    <tr>\n",
       "      <th>1</th>\n",
       "      <td>19</td>\n",
       "      <td>7.067967</td>\n",
       "    </tr>\n",
       "    <tr>\n",
       "      <th>2</th>\n",
       "      <td>17</td>\n",
       "      <td>6.430090</td>\n",
       "    </tr>\n",
       "    <tr>\n",
       "      <th>3</th>\n",
       "      <td>16</td>\n",
       "      <td>6.136814</td>\n",
       "    </tr>\n",
       "    <tr>\n",
       "      <th>4</th>\n",
       "      <td>15</td>\n",
       "      <td>6.092822</td>\n",
       "    </tr>\n",
       "    <tr>\n",
       "      <th>5</th>\n",
       "      <td>20</td>\n",
       "      <td>5.821541</td>\n",
       "    </tr>\n",
       "    <tr>\n",
       "      <th>6</th>\n",
       "      <td>14</td>\n",
       "      <td>5.542928</td>\n",
       "    </tr>\n",
       "    <tr>\n",
       "      <th>7</th>\n",
       "      <td>13</td>\n",
       "      <td>5.396290</td>\n",
       "    </tr>\n",
       "    <tr>\n",
       "      <th>8</th>\n",
       "      <td>21</td>\n",
       "      <td>4.978371</td>\n",
       "    </tr>\n",
       "    <tr>\n",
       "      <th>9</th>\n",
       "      <td>12</td>\n",
       "      <td>4.787741</td>\n",
       "    </tr>\n",
       "    <tr>\n",
       "      <th>10</th>\n",
       "      <td>11</td>\n",
       "      <td>4.714422</td>\n",
       "    </tr>\n",
       "    <tr>\n",
       "      <th>11</th>\n",
       "      <td>22</td>\n",
       "      <td>4.582447</td>\n",
       "    </tr>\n",
       "    <tr>\n",
       "      <th>12</th>\n",
       "      <td>23</td>\n",
       "      <td>4.054549</td>\n",
       "    </tr>\n",
       "    <tr>\n",
       "      <th>13</th>\n",
       "      <td>10</td>\n",
       "      <td>3.900579</td>\n",
       "    </tr>\n",
       "    <tr>\n",
       "      <th>14</th>\n",
       "      <td>9</td>\n",
       "      <td>3.753941</td>\n",
       "    </tr>\n",
       "    <tr>\n",
       "      <th>15</th>\n",
       "      <td>0</td>\n",
       "      <td>3.365349</td>\n",
       "    </tr>\n",
       "    <tr>\n",
       "      <th>16</th>\n",
       "      <td>8</td>\n",
       "      <td>3.145392</td>\n",
       "    </tr>\n",
       "    <tr>\n",
       "      <th>17</th>\n",
       "      <td>1</td>\n",
       "      <td>2.910771</td>\n",
       "    </tr>\n",
       "    <tr>\n",
       "      <th>18</th>\n",
       "      <td>7</td>\n",
       "      <td>2.082264</td>\n",
       "    </tr>\n",
       "    <tr>\n",
       "      <th>19</th>\n",
       "      <td>2</td>\n",
       "      <td>1.972285</td>\n",
       "    </tr>\n",
       "    <tr>\n",
       "      <th>20</th>\n",
       "      <td>3</td>\n",
       "      <td>1.649681</td>\n",
       "    </tr>\n",
       "    <tr>\n",
       "      <th>21</th>\n",
       "      <td>6</td>\n",
       "      <td>1.569030</td>\n",
       "    </tr>\n",
       "    <tr>\n",
       "      <th>22</th>\n",
       "      <td>5</td>\n",
       "      <td>1.488379</td>\n",
       "    </tr>\n",
       "    <tr>\n",
       "      <th>23</th>\n",
       "      <td>4</td>\n",
       "      <td>1.356404</td>\n",
       "    </tr>\n",
       "  </tbody>\n",
       "</table>\n",
       "</div>"
      ],
      "text/plain": [
       "   Hour  Percentage\n",
       "0    18    7.199941\n",
       "1    19    7.067967\n",
       "2    17    6.430090\n",
       "3    16    6.136814\n",
       "4    15    6.092822\n",
       "5    20    5.821541\n",
       "6    14    5.542928\n",
       "7    13    5.396290\n",
       "8    21    4.978371\n",
       "9    12    4.787741\n",
       "10   11    4.714422\n",
       "11   22    4.582447\n",
       "12   23    4.054549\n",
       "13   10    3.900579\n",
       "14    9    3.753941\n",
       "15    0    3.365349\n",
       "16    8    3.145392\n",
       "17    1    2.910771\n",
       "18    7    2.082264\n",
       "19    2    1.972285\n",
       "20    3    1.649681\n",
       "21    6    1.569030\n",
       "22    5    1.488379\n",
       "23    4    1.356404"
      ]
     },
     "execution_count": 15,
     "metadata": {},
     "output_type": "execute_result"
    }
   ],
   "source": [
    "#Create boolean for only incidents that resulted in an emergency\n",
    "mask = london[\"Emergency\"] == 1\n",
    "\n",
    "hr_by_emer = london.loc[mask, \"Hour\"].value_counts() / london[mask].shape[0] * 100\n",
    "\n",
    "hr_by_emer = pd.DataFrame(hr_by_emer).reset_index().rename(columns ={\"index\": \"Hour\", \"Hour\" : \"Percentage\"})\n",
    "hr_by_emer"
   ]
  },
  {
   "cell_type": "code",
   "execution_count": 16,
   "id": "a93bc74c",
   "metadata": {},
   "outputs": [
    {
     "data": {
      "text/plain": [
       "Text(0.5, 0, 'Percentage')"
      ]
     },
     "execution_count": 16,
     "metadata": {},
     "output_type": "execute_result"
    },
    {
     "data": {
      "image/png": "[encoded data removed]",
      "text/plain": [
       "<Figure size 864x720 with 1 Axes>"
      ]
     },
     "metadata": {},
     "output_type": "display_data"
    }
   ],
   "source": [
    "#Make a bar chart of the results\n",
    "sns.set(rc = {'figure.figsize':(12,10)})\n",
    "sns.barplot(x=\"Percentage\", y = \"Hour\", order = hr_by_emer[\"Hour\"] \\\n",
    "                                            , data = hr_by_emer, color = \"mediumseagreen\")\n",
    "plt.title(\"Percentage of Hours Contributing to Real Emergencies\")\n",
    "plt.ylabel(\"Hour\")\n",
    "plt.xlabel(\"Percentage\")"
   ]
  },
  {
   "cell_type": "markdown",
   "id": "80035cdd",
   "metadata": {},
   "source": [
    "### Emergency Percentage by Hour"
   ]
  },
  {
   "cell_type": "code",
   "execution_count": 29,
   "id": "f9f4dbcc",
   "metadata": {},
   "outputs": [
    {
     "data": {
      "text/html": [
       "<div>\n",
       "<style scoped>\n",
       "    .dataframe tbody tr th:only-of-type {\n",
       "        vertical-align: middle;\n",
       "    }\n",
       "\n",
       "    .dataframe tbody tr th {\n",
       "        vertical-align: top;\n",
       "    }\n",
       "\n",
       "    .dataframe thead th {\n",
       "        text-align: right;\n",
       "    }\n",
       "</style>\n",
       "<table border=\"1\" class=\"dataframe\">\n",
       "  <thead>\n",
       "    <tr style=\"text-align: right;\">\n",
       "      <th></th>\n",
       "      <th>Hour</th>\n",
       "      <th>mean</th>\n",
       "      <th>sum</th>\n",
       "    </tr>\n",
       "  </thead>\n",
       "  <tbody>\n",
       "    <tr>\n",
       "      <th>0</th>\n",
       "      <td>0</td>\n",
       "      <td>56.181151</td>\n",
       "      <td>459</td>\n",
       "    </tr>\n",
       "    <tr>\n",
       "      <th>1</th>\n",
       "      <td>1</td>\n",
       "      <td>54.532967</td>\n",
       "      <td>397</td>\n",
       "    </tr>\n",
       "    <tr>\n",
       "      <th>12</th>\n",
       "      <td>2</td>\n",
       "      <td>48.381295</td>\n",
       "      <td>269</td>\n",
       "    </tr>\n",
       "    <tr>\n",
       "      <th>17</th>\n",
       "      <td>3</td>\n",
       "      <td>48.283262</td>\n",
       "      <td>225</td>\n",
       "    </tr>\n",
       "    <tr>\n",
       "      <th>18</th>\n",
       "      <td>4</td>\n",
       "      <td>47.557841</td>\n",
       "      <td>185</td>\n",
       "    </tr>\n",
       "    <tr>\n",
       "      <th>19</th>\n",
       "      <td>5</td>\n",
       "      <td>46.666667</td>\n",
       "      <td>203</td>\n",
       "    </tr>\n",
       "    <tr>\n",
       "      <th>20</th>\n",
       "      <td>6</td>\n",
       "      <td>39.925373</td>\n",
       "      <td>214</td>\n",
       "    </tr>\n",
       "    <tr>\n",
       "      <th>21</th>\n",
       "      <td>7</td>\n",
       "      <td>39.226519</td>\n",
       "      <td>284</td>\n",
       "    </tr>\n",
       "    <tr>\n",
       "      <th>22</th>\n",
       "      <td>8</td>\n",
       "      <td>43.158954</td>\n",
       "      <td>429</td>\n",
       "    </tr>\n",
       "    <tr>\n",
       "      <th>23</th>\n",
       "      <td>9</td>\n",
       "      <td>44.329004</td>\n",
       "      <td>512</td>\n",
       "    </tr>\n",
       "    <tr>\n",
       "      <th>2</th>\n",
       "      <td>10</td>\n",
       "      <td>42.289348</td>\n",
       "      <td>532</td>\n",
       "    </tr>\n",
       "    <tr>\n",
       "      <th>3</th>\n",
       "      <td>11</td>\n",
       "      <td>47.002924</td>\n",
       "      <td>643</td>\n",
       "    </tr>\n",
       "    <tr>\n",
       "      <th>4</th>\n",
       "      <td>12</td>\n",
       "      <td>47.046110</td>\n",
       "      <td>653</td>\n",
       "    </tr>\n",
       "    <tr>\n",
       "      <th>5</th>\n",
       "      <td>13</td>\n",
       "      <td>49.763354</td>\n",
       "      <td>736</td>\n",
       "    </tr>\n",
       "    <tr>\n",
       "      <th>6</th>\n",
       "      <td>14</td>\n",
       "      <td>50.772330</td>\n",
       "      <td>756</td>\n",
       "    </tr>\n",
       "    <tr>\n",
       "      <th>7</th>\n",
       "      <td>15</td>\n",
       "      <td>53.303400</td>\n",
       "      <td>831</td>\n",
       "    </tr>\n",
       "    <tr>\n",
       "      <th>8</th>\n",
       "      <td>16</td>\n",
       "      <td>54.174757</td>\n",
       "      <td>837</td>\n",
       "    </tr>\n",
       "    <tr>\n",
       "      <th>9</th>\n",
       "      <td>17</td>\n",
       "      <td>55.261500</td>\n",
       "      <td>877</td>\n",
       "    </tr>\n",
       "    <tr>\n",
       "      <th>10</th>\n",
       "      <td>18</td>\n",
       "      <td>54.829704</td>\n",
       "      <td>982</td>\n",
       "    </tr>\n",
       "    <tr>\n",
       "      <th>11</th>\n",
       "      <td>19</td>\n",
       "      <td>59.250154</td>\n",
       "      <td>964</td>\n",
       "    </tr>\n",
       "    <tr>\n",
       "      <th>13</th>\n",
       "      <td>20</td>\n",
       "      <td>53.252850</td>\n",
       "      <td>794</td>\n",
       "    </tr>\n",
       "    <tr>\n",
       "      <th>14</th>\n",
       "      <td>21</td>\n",
       "      <td>53.803487</td>\n",
       "      <td>679</td>\n",
       "    </tr>\n",
       "    <tr>\n",
       "      <th>15</th>\n",
       "      <td>22</td>\n",
       "      <td>56.154537</td>\n",
       "      <td>625</td>\n",
       "    </tr>\n",
       "    <tr>\n",
       "      <th>16</th>\n",
       "      <td>23</td>\n",
       "      <td>57.484407</td>\n",
       "      <td>553</td>\n",
       "    </tr>\n",
       "  </tbody>\n",
       "</table>\n",
       "</div>"
      ],
      "text/plain": [
       "    Hour       mean  sum\n",
       "0      0  56.181151  459\n",
       "1      1  54.532967  397\n",
       "12     2  48.381295  269\n",
       "17     3  48.283262  225\n",
       "18     4  47.557841  185\n",
       "19     5  46.666667  203\n",
       "20     6  39.925373  214\n",
       "21     7  39.226519  284\n",
       "22     8  43.158954  429\n",
       "23     9  44.329004  512\n",
       "2     10  42.289348  532\n",
       "3     11  47.002924  643\n",
       "4     12  47.046110  653\n",
       "5     13  49.763354  736\n",
       "6     14  50.772330  756\n",
       "7     15  53.303400  831\n",
       "8     16  54.174757  837\n",
       "9     17  55.261500  877\n",
       "10    18  54.829704  982\n",
       "11    19  59.250154  964\n",
       "13    20  53.252850  794\n",
       "14    21  53.803487  679\n",
       "15    22  56.154537  625\n",
       "16    23  57.484407  553"
      ]
     },
     "execution_count": 29,
     "metadata": {},
     "output_type": "execute_result"
    }
   ],
   "source": [
    "hr_grp = london.groupby(\"Hour\")[\"Emergency\"].aggregate([\"mean\", \"sum\"])\n",
    "hr_grp = hr_grp.reset_index()\n",
    "hr_grp[\"Hour\"] = hr_grp[\"Hour\"].astype(np.int)\n",
    "hr_grp.sort_values(by = \"Hour\", inplace = True)\n",
    "hr_grp[\"mean\"] *= 100\n",
    "hr_grp"
   ]
  },
  {
   "cell_type": "code",
   "execution_count": 30,
   "id": "2a128aab",
   "metadata": {},
   "outputs": [
    {
     "data": {
      "text/plain": [
       "Text(0.5, 0, 'Hour')"
      ]
     },
     "execution_count": 30,
     "metadata": {},
     "output_type": "execute_result"
    },
    {
     "data": {
      "image/png": "[encoded data removed]",
      "text/plain": [
       "<Figure size 1008x576 with 1 Axes>"
      ]
     },
     "metadata": {},
     "output_type": "display_data"
    }
   ],
   "source": [
    "#Make a bar chart of the results\n",
    "hr_grp[\"Hour\"] = hr_grp[\"Hour\"].astype(np.str)\n",
    "sns.set(rc = {'figure.figsize':(14,8)})\n",
    "sns.barplot(x=\"Hour\", y = \"mean\", order = hr_grp[\"Hour\"] \\\n",
    "                                            , data = hr_grp, color = \"mediumseagreen\")\n",
    "plt.title(\"Emergency Percentage By Hour\")\n",
    "plt.ylabel(\"Percentage\")\n",
    "plt.xlabel(\"Hour\")"
   ]
  },
  {
   "cell_type": "markdown",
   "id": "fc392800",
   "metadata": {},
   "source": [
    "## Property Category"
   ]
  },
  {
   "cell_type": "markdown",
   "id": "0f258650",
   "metadata": {},
   "source": [
    "### Percentage of Properties Contributing to Real Emergencies"
   ]
  },
  {
   "cell_type": "code",
   "execution_count": 31,
   "id": "65725cf1",
   "metadata": {},
   "outputs": [
    {
     "data": {
      "text/html": [
       "<div>\n",
       "<style scoped>\n",
       "    .dataframe tbody tr th:only-of-type {\n",
       "        vertical-align: middle;\n",
       "    }\n",
       "\n",
       "    .dataframe tbody tr th {\n",
       "        vertical-align: top;\n",
       "    }\n",
       "\n",
       "    .dataframe thead th {\n",
       "        text-align: right;\n",
       "    }\n",
       "</style>\n",
       "<table border=\"1\" class=\"dataframe\">\n",
       "  <thead>\n",
       "    <tr style=\"text-align: right;\">\n",
       "      <th></th>\n",
       "      <th>property_category</th>\n",
       "      <th>Percentage</th>\n",
       "    </tr>\n",
       "  </thead>\n",
       "  <tbody>\n",
       "    <tr>\n",
       "      <th>0</th>\n",
       "      <td>Residential</td>\n",
       "      <td>52.056602</td>\n",
       "    </tr>\n",
       "    <tr>\n",
       "      <th>1</th>\n",
       "      <td>Outdoor</td>\n",
       "      <td>22.963560</td>\n",
       "    </tr>\n",
       "    <tr>\n",
       "      <th>2</th>\n",
       "      <td>Vehicle</td>\n",
       "      <td>14.854461</td>\n",
       "    </tr>\n",
       "    <tr>\n",
       "      <th>3</th>\n",
       "      <td>Non Residential</td>\n",
       "      <td>10.125376</td>\n",
       "    </tr>\n",
       "  </tbody>\n",
       "</table>\n",
       "</div>"
      ],
      "text/plain": [
       "  property_category  Percentage\n",
       "0       Residential   52.056602\n",
       "1           Outdoor   22.963560\n",
       "2           Vehicle   14.854461\n",
       "3   Non Residential   10.125376"
      ]
     },
     "execution_count": 31,
     "metadata": {},
     "output_type": "execute_result"
    }
   ],
   "source": [
    "#Create boolean for only incidents that resulted in an emergency\n",
    "mask = london[\"Emergency\"] == 1\n",
    "\n",
    "pc_by_emer = london.loc[mask, \"property_category\"].value_counts() / london[mask].shape[0] * 100\n",
    "\n",
    "pc_by_emer = pd.DataFrame(pc_by_emer).reset_index().rename(columns ={\"index\": \"property_category\", \"property_category\" : \"Percentage\"})\n",
    "pc_by_emer"
   ]
  },
  {
   "cell_type": "code",
   "execution_count": 32,
   "id": "5945ca39",
   "metadata": {},
   "outputs": [
    {
     "data": {
      "text/plain": [
       "Text(0.5, 0, 'Percentage')"
      ]
     },
     "execution_count": 32,
     "metadata": {},
     "output_type": "execute_result"
    },
    {
     "data": {
      "image/png": "[encoded data removed]",
      "text/plain": [
       "<Figure size 720x432 with 1 Axes>"
      ]
     },
     "metadata": {},
     "output_type": "display_data"
    }
   ],
   "source": [
    "#Make a bar chart of the results\n",
    "sns.set(rc = {'figure.figsize':(10,6)})\n",
    "sns.barplot(x=\"Percentage\", y = \"property_category\", order = pc_by_emer[\"property_category\"] \\\n",
    "                                            , data = pc_by_emer, color = \"mediumseagreen\")\n",
    "plt.title(\"Percentage of Properties Contributing to Real Emergencies\")\n",
    "plt.ylabel(\"Properties\")\n",
    "plt.xlabel(\"Percentage\")"
   ]
  },
  {
   "cell_type": "markdown",
   "id": "c0f6f697",
   "metadata": {},
   "source": [
    "### Emergency Percentage by Property Category"
   ]
  },
  {
   "cell_type": "code",
   "execution_count": 33,
   "id": "95bbabe3",
   "metadata": {},
   "outputs": [
    {
     "data": {
      "text/html": [
       "<div>\n",
       "<style scoped>\n",
       "    .dataframe tbody tr th:only-of-type {\n",
       "        vertical-align: middle;\n",
       "    }\n",
       "\n",
       "    .dataframe tbody tr th {\n",
       "        vertical-align: top;\n",
       "    }\n",
       "\n",
       "    .dataframe thead th {\n",
       "        text-align: right;\n",
       "    }\n",
       "</style>\n",
       "<table border=\"1\" class=\"dataframe\">\n",
       "  <thead>\n",
       "    <tr style=\"text-align: right;\">\n",
       "      <th></th>\n",
       "      <th>property_category</th>\n",
       "      <th>mean</th>\n",
       "      <th>sum</th>\n",
       "    </tr>\n",
       "  </thead>\n",
       "  <tbody>\n",
       "    <tr>\n",
       "      <th>3</th>\n",
       "      <td>Vehicle</td>\n",
       "      <td>88.394415</td>\n",
       "      <td>2026</td>\n",
       "    </tr>\n",
       "    <tr>\n",
       "      <th>1</th>\n",
       "      <td>Outdoor</td>\n",
       "      <td>82.725832</td>\n",
       "      <td>3132</td>\n",
       "    </tr>\n",
       "    <tr>\n",
       "      <th>2</th>\n",
       "      <td>Residential</td>\n",
       "      <td>49.982401</td>\n",
       "      <td>7100</td>\n",
       "    </tr>\n",
       "    <tr>\n",
       "      <th>0</th>\n",
       "      <td>Non Residential</td>\n",
       "      <td>21.457427</td>\n",
       "      <td>1381</td>\n",
       "    </tr>\n",
       "  </tbody>\n",
       "</table>\n",
       "</div>"
      ],
      "text/plain": [
       "  property_category       mean   sum\n",
       "3           Vehicle  88.394415  2026\n",
       "1           Outdoor  82.725832  3132\n",
       "2       Residential  49.982401  7100\n",
       "0   Non Residential  21.457427  1381"
      ]
     },
     "execution_count": 33,
     "metadata": {},
     "output_type": "execute_result"
    }
   ],
   "source": [
    "pc_grp = london.groupby(\"property_category\")[\"Emergency\"].aggregate([\"mean\", \"sum\"])\n",
    "pc_grp = pc_grp.reset_index().sort_values(by = \"mean\", ascending=False)\n",
    "pc_grp[\"mean\"] *= 100\n",
    "pc_grp"
   ]
  },
  {
   "cell_type": "code",
   "execution_count": 34,
   "id": "7b933a65",
   "metadata": {},
   "outputs": [
    {
     "data": {
      "text/plain": [
       "Text(0.5, 0, 'Percentage')"
      ]
     },
     "execution_count": 34,
     "metadata": {},
     "output_type": "execute_result"
    },
    {
     "data": {
      "image/png": "[encoded data removed]",
      "text/plain": [
       "<Figure size 1008x576 with 1 Axes>"
      ]
     },
     "metadata": {},
     "output_type": "display_data"
    }
   ],
   "source": [
    "#Make a bar chart of the results\n",
    "sns.set(rc = {'figure.figsize':(14,8)})\n",
    "sns.barplot(x=\"mean\", y = \"property_category\", order = pc_grp[\"property_category\"] \\\n",
    "                                            , data = pc_grp, color = \"mediumseagreen\")\n",
    "plt.title(\"Emergency Percentage By Property Category\")\n",
    "plt.ylabel(\"Property Category\")\n",
    "plt.xlabel(\"Percentage\")"
   ]
  },
  {
   "cell_type": "markdown",
   "id": "189ff151",
   "metadata": {},
   "source": [
    "## Ranked Property Types"
   ]
  },
  {
   "cell_type": "markdown",
   "id": "1aa1dd16",
   "metadata": {},
   "source": [
    "### Percentage of Ranked Property Types Contributing to Real Emergencies"
   ]
  },
  {
   "cell_type": "code",
   "execution_count": 35,
   "id": "0b6e2362",
   "metadata": {},
   "outputs": [
    {
     "data": {
      "text/html": [
       "<div>\n",
       "<style scoped>\n",
       "    .dataframe tbody tr th:only-of-type {\n",
       "        vertical-align: middle;\n",
       "    }\n",
       "\n",
       "    .dataframe tbody tr th {\n",
       "        vertical-align: top;\n",
       "    }\n",
       "\n",
       "    .dataframe thead th {\n",
       "        text-align: right;\n",
       "    }\n",
       "</style>\n",
       "<table border=\"1\" class=\"dataframe\">\n",
       "  <thead>\n",
       "    <tr style=\"text-align: right;\">\n",
       "      <th></th>\n",
       "      <th>property_type_rank</th>\n",
       "      <th>Percentage</th>\n",
       "    </tr>\n",
       "  </thead>\n",
       "  <tbody>\n",
       "    <tr>\n",
       "      <th>0</th>\n",
       "      <td>5</td>\n",
       "      <td>27.091429</td>\n",
       "    </tr>\n",
       "    <tr>\n",
       "      <th>1</th>\n",
       "      <td>6</td>\n",
       "      <td>24.833199</td>\n",
       "    </tr>\n",
       "    <tr>\n",
       "      <th>2</th>\n",
       "      <td>8</td>\n",
       "      <td>24.019356</td>\n",
       "    </tr>\n",
       "    <tr>\n",
       "      <th>3</th>\n",
       "      <td>9</td>\n",
       "      <td>8.475695</td>\n",
       "    </tr>\n",
       "    <tr>\n",
       "      <th>4</th>\n",
       "      <td>1</td>\n",
       "      <td>5.550260</td>\n",
       "    </tr>\n",
       "    <tr>\n",
       "      <th>5</th>\n",
       "      <td>7</td>\n",
       "      <td>3.563311</td>\n",
       "    </tr>\n",
       "    <tr>\n",
       "      <th>6</th>\n",
       "      <td>3</td>\n",
       "      <td>2.412200</td>\n",
       "    </tr>\n",
       "    <tr>\n",
       "      <th>7</th>\n",
       "      <td>2</td>\n",
       "      <td>2.360877</td>\n",
       "    </tr>\n",
       "    <tr>\n",
       "      <th>8</th>\n",
       "      <td>4</td>\n",
       "      <td>0.718528</td>\n",
       "    </tr>\n",
       "    <tr>\n",
       "      <th>9</th>\n",
       "      <td>10</td>\n",
       "      <td>0.674536</td>\n",
       "    </tr>\n",
       "    <tr>\n",
       "      <th>10</th>\n",
       "      <td>0</td>\n",
       "      <td>0.300609</td>\n",
       "    </tr>\n",
       "  </tbody>\n",
       "</table>\n",
       "</div>"
      ],
      "text/plain": [
       "   property_type_rank  Percentage\n",
       "0                   5   27.091429\n",
       "1                   6   24.833199\n",
       "2                   8   24.019356\n",
       "3                   9    8.475695\n",
       "4                   1    5.550260\n",
       "5                   7    3.563311\n",
       "6                   3    2.412200\n",
       "7                   2    2.360877\n",
       "8                   4    0.718528\n",
       "9                  10    0.674536\n",
       "10                  0    0.300609"
      ]
     },
     "execution_count": 35,
     "metadata": {},
     "output_type": "execute_result"
    }
   ],
   "source": [
    "#Create boolean for only incidents that resulted in an emergency\n",
    "mask = london[\"Emergency\"] == 1\n",
    "\n",
    "pt_by_emer = london.loc[mask, \"pt_rank\"].value_counts() / london[mask].shape[0] * 100\n",
    "\n",
    "pt_by_emer = pd.DataFrame(pt_by_emer).reset_index().rename(columns ={\"index\": \"property_type_rank\", \"pt_rank\" : \"Percentage\"})\n",
    "pt_by_emer"
   ]
  },
  {
   "cell_type": "code",
   "execution_count": 36,
   "id": "3468663a",
   "metadata": {},
   "outputs": [
    {
     "data": {
      "text/plain": [
       "Text(0.5, 0, 'Percentage')"
      ]
     },
     "execution_count": 36,
     "metadata": {},
     "output_type": "execute_result"
    },
    {
     "data": {
      "image/png": "[encoded data removed]",
      "text/plain": [
       "<Figure size 720x576 with 1 Axes>"
      ]
     },
     "metadata": {},
     "output_type": "display_data"
    }
   ],
   "source": [
    "#Make a bar chart of the results\n",
    "sns.set(rc = {'figure.figsize':(10,8)})\n",
    "sns.barplot(x=\"Percentage\", y = \"property_type_rank\", order = pt_by_emer[\"property_type_rank\"] \\\n",
    "                                            , data = pt_by_emer, color = \"mediumseagreen\")\n",
    "plt.title(\"Percentage of Ranked Property Types Contributing to Real Emergencies\")\n",
    "plt.ylabel(\"Ranked Property Types\")\n",
    "plt.xlabel(\"Percentage\")"
   ]
  },
  {
   "cell_type": "markdown",
   "id": "ab035e72",
   "metadata": {},
   "source": [
    "### Emergency Percentage by Ranked Ward Names"
   ]
  },
  {
   "cell_type": "code",
   "execution_count": 37,
   "id": "4a559a5d",
   "metadata": {},
   "outputs": [
    {
     "data": {
      "text/html": [
       "<div>\n",
       "<style scoped>\n",
       "    .dataframe tbody tr th:only-of-type {\n",
       "        vertical-align: middle;\n",
       "    }\n",
       "\n",
       "    .dataframe tbody tr th {\n",
       "        vertical-align: top;\n",
       "    }\n",
       "\n",
       "    .dataframe thead th {\n",
       "        text-align: right;\n",
       "    }\n",
       "</style>\n",
       "<table border=\"1\" class=\"dataframe\">\n",
       "  <thead>\n",
       "    <tr style=\"text-align: right;\">\n",
       "      <th></th>\n",
       "      <th>pt_rank</th>\n",
       "      <th>mean</th>\n",
       "      <th>sum</th>\n",
       "    </tr>\n",
       "  </thead>\n",
       "  <tbody>\n",
       "    <tr>\n",
       "      <th>3</th>\n",
       "      <td>10</td>\n",
       "      <td>100.000000</td>\n",
       "      <td>92</td>\n",
       "    </tr>\n",
       "    <tr>\n",
       "      <th>11</th>\n",
       "      <td>9</td>\n",
       "      <td>95.933610</td>\n",
       "      <td>1156</td>\n",
       "    </tr>\n",
       "    <tr>\n",
       "      <th>10</th>\n",
       "      <td>8</td>\n",
       "      <td>86.804452</td>\n",
       "      <td>3276</td>\n",
       "    </tr>\n",
       "    <tr>\n",
       "      <th>9</th>\n",
       "      <td>7</td>\n",
       "      <td>77.388535</td>\n",
       "      <td>486</td>\n",
       "    </tr>\n",
       "    <tr>\n",
       "      <th>8</th>\n",
       "      <td>6</td>\n",
       "      <td>63.379491</td>\n",
       "      <td>3387</td>\n",
       "    </tr>\n",
       "    <tr>\n",
       "      <th>7</th>\n",
       "      <td>5</td>\n",
       "      <td>54.474421</td>\n",
       "      <td>3695</td>\n",
       "    </tr>\n",
       "    <tr>\n",
       "      <th>6</th>\n",
       "      <td>4</td>\n",
       "      <td>41.176471</td>\n",
       "      <td>98</td>\n",
       "    </tr>\n",
       "    <tr>\n",
       "      <th>5</th>\n",
       "      <td>3</td>\n",
       "      <td>34.631579</td>\n",
       "      <td>329</td>\n",
       "    </tr>\n",
       "    <tr>\n",
       "      <th>4</th>\n",
       "      <td>2</td>\n",
       "      <td>25.294580</td>\n",
       "      <td>322</td>\n",
       "    </tr>\n",
       "    <tr>\n",
       "      <th>2</th>\n",
       "      <td>1</td>\n",
       "      <td>13.334508</td>\n",
       "      <td>757</td>\n",
       "    </tr>\n",
       "    <tr>\n",
       "      <th>1</th>\n",
       "      <td>0</td>\n",
       "      <td>7.020548</td>\n",
       "      <td>41</td>\n",
       "    </tr>\n",
       "    <tr>\n",
       "      <th>0</th>\n",
       "      <td>-1</td>\n",
       "      <td>0.000000</td>\n",
       "      <td>0</td>\n",
       "    </tr>\n",
       "  </tbody>\n",
       "</table>\n",
       "</div>"
      ],
      "text/plain": [
       "   pt_rank        mean   sum\n",
       "3       10  100.000000    92\n",
       "11       9   95.933610  1156\n",
       "10       8   86.804452  3276\n",
       "9        7   77.388535   486\n",
       "8        6   63.379491  3387\n",
       "7        5   54.474421  3695\n",
       "6        4   41.176471    98\n",
       "5        3   34.631579   329\n",
       "4        2   25.294580   322\n",
       "2        1   13.334508   757\n",
       "1        0    7.020548    41\n",
       "0       -1    0.000000     0"
      ]
     },
     "execution_count": 37,
     "metadata": {},
     "output_type": "execute_result"
    }
   ],
   "source": [
    "pt_grp = london.groupby(\"pt_rank\")[\"Emergency\"].aggregate([\"mean\", \"sum\"])\n",
    "pt_grp = pt_grp.reset_index().sort_values(by = \"mean\", ascending=False)\n",
    "pt_grp[\"mean\"] *= 100\n",
    "pt_grp"
   ]
  },
  {
   "cell_type": "code",
   "execution_count": 38,
   "id": "be5e9f13",
   "metadata": {},
   "outputs": [
    {
     "data": {
      "text/plain": [
       "Text(0.5, 0, 'Percentage')"
      ]
     },
     "execution_count": 38,
     "metadata": {},
     "output_type": "execute_result"
    },
    {
     "data": {
      "image/png": "[encoded data removed]",
      "text/plain": [
       "<Figure size 720x576 with 1 Axes>"
      ]
     },
     "metadata": {},
     "output_type": "display_data"
    }
   ],
   "source": [
    "#Make a bar chart of the results\n",
    "sns.set(rc = {'figure.figsize':(10,8)})\n",
    "sns.barplot(x=\"mean\", y = \"pt_rank\", order = pt_grp[\"pt_rank\"] \\\n",
    "                                            , data = pt_grp, color = \"mediumseagreen\")\n",
    "plt.title(\"Emergency Percentage By Ranked Property Types\")\n",
    "plt.ylabel(\"Ranked Property Types\")\n",
    "plt.xlabel(\"Percentage\")"
   ]
  },
  {
   "cell_type": "markdown",
   "id": "03c8bc06",
   "metadata": {},
   "source": [
    "## Address Qualifier"
   ]
  },
  {
   "cell_type": "markdown",
   "id": "4d5eb567",
   "metadata": {},
   "source": [
    "### Percentage of Addresses Contributing to Real Emergencies"
   ]
  },
  {
   "cell_type": "code",
   "execution_count": 39,
   "id": "852abe77",
   "metadata": {},
   "outputs": [
    {
     "data": {
      "text/html": [
       "<div>\n",
       "<style scoped>\n",
       "    .dataframe tbody tr th:only-of-type {\n",
       "        vertical-align: middle;\n",
       "    }\n",
       "\n",
       "    .dataframe tbody tr th {\n",
       "        vertical-align: top;\n",
       "    }\n",
       "\n",
       "    .dataframe thead th {\n",
       "        text-align: right;\n",
       "    }\n",
       "</style>\n",
       "<table border=\"1\" class=\"dataframe\">\n",
       "  <thead>\n",
       "    <tr style=\"text-align: right;\">\n",
       "      <th></th>\n",
       "      <th>address_qualifier</th>\n",
       "      <th>Percentage</th>\n",
       "    </tr>\n",
       "  </thead>\n",
       "  <tbody>\n",
       "    <tr>\n",
       "      <th>0</th>\n",
       "      <td>Correct incident location</td>\n",
       "      <td>49.035853</td>\n",
       "    </tr>\n",
       "    <tr>\n",
       "      <th>1</th>\n",
       "      <td>Gazetter</td>\n",
       "      <td>24.657233</td>\n",
       "    </tr>\n",
       "    <tr>\n",
       "      <th>2</th>\n",
       "      <td>Within same building</td>\n",
       "      <td>14.333895</td>\n",
       "    </tr>\n",
       "    <tr>\n",
       "      <th>3</th>\n",
       "      <td>On land associated with building</td>\n",
       "      <td>10.125376</td>\n",
       "    </tr>\n",
       "    <tr>\n",
       "      <th>4</th>\n",
       "      <td>Nearby Address</td>\n",
       "      <td>1.129115</td>\n",
       "    </tr>\n",
       "    <tr>\n",
       "      <th>5</th>\n",
       "      <td>Other</td>\n",
       "      <td>0.718528</td>\n",
       "    </tr>\n",
       "  </tbody>\n",
       "</table>\n",
       "</div>"
      ],
      "text/plain": [
       "                  address_qualifier  Percentage\n",
       "0         Correct incident location   49.035853\n",
       "1                          Gazetter   24.657233\n",
       "2              Within same building   14.333895\n",
       "3  On land associated with building   10.125376\n",
       "4                    Nearby Address    1.129115\n",
       "5                             Other    0.718528"
      ]
     },
     "execution_count": 39,
     "metadata": {},
     "output_type": "execute_result"
    }
   ],
   "source": [
    "#Create boolean for only incidents that resulted in an emergency\n",
    "mask = london[\"Emergency\"] == 1\n",
    "\n",
    "aq_by_emer = london.loc[mask, \"address_qualifier\"].value_counts() / london[mask].shape[0] * 100\n",
    "\n",
    "aq_by_emer = pd.DataFrame(aq_by_emer).reset_index().rename(columns ={\"index\": \"address_qualifier\", \"address_qualifier\" : \"Percentage\"})\n",
    "aq_by_emer"
   ]
  },
  {
   "cell_type": "code",
   "execution_count": 40,
   "id": "5b167739",
   "metadata": {},
   "outputs": [
    {
     "data": {
      "text/plain": [
       "Text(0.5, 0, 'Percentage')"
      ]
     },
     "execution_count": 40,
     "metadata": {},
     "output_type": "execute_result"
    },
    {
     "data": {
      "image/png": "[encoded data removed]",
      "text/plain": [
       "<Figure size 720x432 with 1 Axes>"
      ]
     },
     "metadata": {},
     "output_type": "display_data"
    }
   ],
   "source": [
    "#Make a bar chart of the results\n",
    "sns.set(rc = {'figure.figsize':(10,6)})\n",
    "sns.barplot(x=\"Percentage\", y = \"address_qualifier\", order = aq_by_emer[\"address_qualifier\"] \\\n",
    "                                            , data = aq_by_emer, color = \"mediumseagreen\")\n",
    "plt.title(\"Percentage of Address Qualifiers Contributing to Real Emergencies\")\n",
    "plt.ylabel(\"Address Qualifiers\")\n",
    "plt.xlabel(\"Percentage\")"
   ]
  },
  {
   "cell_type": "markdown",
   "id": "dd733acb",
   "metadata": {},
   "source": [
    "### Emergency Percentage by Addresses"
   ]
  },
  {
   "cell_type": "code",
   "execution_count": 41,
   "id": "c9b91b24",
   "metadata": {},
   "outputs": [
    {
     "data": {
      "text/html": [
       "<div>\n",
       "<style scoped>\n",
       "    .dataframe tbody tr th:only-of-type {\n",
       "        vertical-align: middle;\n",
       "    }\n",
       "\n",
       "    .dataframe tbody tr th {\n",
       "        vertical-align: top;\n",
       "    }\n",
       "\n",
       "    .dataframe thead th {\n",
       "        text-align: right;\n",
       "    }\n",
       "</style>\n",
       "<table border=\"1\" class=\"dataframe\">\n",
       "  <thead>\n",
       "    <tr style=\"text-align: right;\">\n",
       "      <th></th>\n",
       "      <th>address_qualifier</th>\n",
       "      <th>mean</th>\n",
       "      <th>sum</th>\n",
       "    </tr>\n",
       "  </thead>\n",
       "  <tbody>\n",
       "    <tr>\n",
       "      <th>1</th>\n",
       "      <td>Gazetter</td>\n",
       "      <td>87.056692</td>\n",
       "      <td>3363</td>\n",
       "    </tr>\n",
       "    <tr>\n",
       "      <th>3</th>\n",
       "      <td>On land associated with building</td>\n",
       "      <td>79.140401</td>\n",
       "      <td>1381</td>\n",
       "    </tr>\n",
       "    <tr>\n",
       "      <th>4</th>\n",
       "      <td>Other</td>\n",
       "      <td>73.134328</td>\n",
       "      <td>98</td>\n",
       "    </tr>\n",
       "    <tr>\n",
       "      <th>2</th>\n",
       "      <td>Nearby Address</td>\n",
       "      <td>68.750000</td>\n",
       "      <td>154</td>\n",
       "    </tr>\n",
       "    <tr>\n",
       "      <th>0</th>\n",
       "      <td>Correct incident location</td>\n",
       "      <td>41.734789</td>\n",
       "      <td>6688</td>\n",
       "    </tr>\n",
       "    <tr>\n",
       "      <th>5</th>\n",
       "      <td>Within same building</td>\n",
       "      <td>41.349408</td>\n",
       "      <td>1955</td>\n",
       "    </tr>\n",
       "  </tbody>\n",
       "</table>\n",
       "</div>"
      ],
      "text/plain": [
       "                  address_qualifier       mean   sum\n",
       "1                          Gazetter  87.056692  3363\n",
       "3  On land associated with building  79.140401  1381\n",
       "4                             Other  73.134328    98\n",
       "2                    Nearby Address  68.750000   154\n",
       "0         Correct incident location  41.734789  6688\n",
       "5              Within same building  41.349408  1955"
      ]
     },
     "execution_count": 41,
     "metadata": {},
     "output_type": "execute_result"
    }
   ],
   "source": [
    "aq_grp = london.groupby(\"address_qualifier\")[\"Emergency\"].aggregate([\"mean\", \"sum\"])\n",
    "aq_grp = aq_grp.reset_index().sort_values(by = \"mean\", ascending=False)\n",
    "aq_grp[\"mean\"] *= 100\n",
    "aq_grp"
   ]
  },
  {
   "cell_type": "code",
   "execution_count": 43,
   "id": "c661b6d8",
   "metadata": {},
   "outputs": [
    {
     "data": {
      "text/plain": [
       "Text(0.5, 0, 'Percentage')"
      ]
     },
     "execution_count": 43,
     "metadata": {},
     "output_type": "execute_result"
    },
    {
     "data": {
      "image/png": "[encoded data removed]",
      "text/plain": [
       "<Figure size 864x576 with 1 Axes>"
      ]
     },
     "metadata": {},
     "output_type": "display_data"
    }
   ],
   "source": [
    "#Make a bar chart of the results\n",
    "sns.set(rc = {'figure.figsize':(12,8)})\n",
    "sns.barplot(x=\"mean\", y = \"address_qualifier\", order = aq_grp[\"address_qualifier\"] \\\n",
    "                                            , data = aq_grp, color = \"mediumseagreen\")\n",
    "plt.title(\"Emergency Percentage By Address Qualifier\")\n",
    "plt.ylabel(\"Address Qualifier\")\n",
    "plt.xlabel(\"Percentage\")"
   ]
  },
  {
   "cell_type": "markdown",
   "id": "c136802c",
   "metadata": {},
   "source": [
    "## Boroughs"
   ]
  },
  {
   "cell_type": "markdown",
   "id": "c47d70f0",
   "metadata": {},
   "source": [
    "### Percentage of Boroughs Contributing to Real Emergencies"
   ]
  },
  {
   "cell_type": "code",
   "execution_count": 44,
   "id": "b6b68893",
   "metadata": {},
   "outputs": [
    {
     "data": {
      "text/html": [
       "<div>\n",
       "<style scoped>\n",
       "    .dataframe tbody tr th:only-of-type {\n",
       "        vertical-align: middle;\n",
       "    }\n",
       "\n",
       "    .dataframe tbody tr th {\n",
       "        vertical-align: top;\n",
       "    }\n",
       "\n",
       "    .dataframe thead th {\n",
       "        text-align: right;\n",
       "    }\n",
       "</style>\n",
       "<table border=\"1\" class=\"dataframe\">\n",
       "  <thead>\n",
       "    <tr style=\"text-align: right;\">\n",
       "      <th></th>\n",
       "      <th>borough_name</th>\n",
       "      <th>Percentage</th>\n",
       "    </tr>\n",
       "  </thead>\n",
       "  <tbody>\n",
       "    <tr>\n",
       "      <th>0</th>\n",
       "      <td>LAMBETH</td>\n",
       "      <td>4.956375</td>\n",
       "    </tr>\n",
       "    <tr>\n",
       "      <th>1</th>\n",
       "      <td>WESTMINSTER</td>\n",
       "      <td>4.927047</td>\n",
       "    </tr>\n",
       "    <tr>\n",
       "      <th>2</th>\n",
       "      <td>SOUTHWARK</td>\n",
       "      <td>4.655767</td>\n",
       "    </tr>\n",
       "    <tr>\n",
       "      <th>3</th>\n",
       "      <td>TOWER HAMLETS</td>\n",
       "      <td>4.597111</td>\n",
       "    </tr>\n",
       "    <tr>\n",
       "      <th>4</th>\n",
       "      <td>NEWHAM</td>\n",
       "      <td>4.215852</td>\n",
       "    </tr>\n",
       "    <tr>\n",
       "      <th>5</th>\n",
       "      <td>CROYDON</td>\n",
       "      <td>4.171860</td>\n",
       "    </tr>\n",
       "    <tr>\n",
       "      <th>6</th>\n",
       "      <td>HACKNEY</td>\n",
       "      <td>3.995894</td>\n",
       "    </tr>\n",
       "    <tr>\n",
       "      <th>7</th>\n",
       "      <td>ENFIELD</td>\n",
       "      <td>3.790600</td>\n",
       "    </tr>\n",
       "    <tr>\n",
       "      <th>8</th>\n",
       "      <td>CAMDEN</td>\n",
       "      <td>3.651294</td>\n",
       "    </tr>\n",
       "    <tr>\n",
       "      <th>9</th>\n",
       "      <td>GREENWICH</td>\n",
       "      <td>3.629298</td>\n",
       "    </tr>\n",
       "    <tr>\n",
       "      <th>10</th>\n",
       "      <td>BRENT</td>\n",
       "      <td>3.350686</td>\n",
       "    </tr>\n",
       "    <tr>\n",
       "      <th>11</th>\n",
       "      <td>HILLINGDON</td>\n",
       "      <td>3.336022</td>\n",
       "    </tr>\n",
       "    <tr>\n",
       "      <th>12</th>\n",
       "      <td>WANDSWORTH</td>\n",
       "      <td>3.336022</td>\n",
       "    </tr>\n",
       "    <tr>\n",
       "      <th>13</th>\n",
       "      <td>BARNET</td>\n",
       "      <td>3.240707</td>\n",
       "    </tr>\n",
       "    <tr>\n",
       "      <th>14</th>\n",
       "      <td>BROMLEY</td>\n",
       "      <td>3.233375</td>\n",
       "    </tr>\n",
       "    <tr>\n",
       "      <th>15</th>\n",
       "      <td>ISLINGTON</td>\n",
       "      <td>3.174720</td>\n",
       "    </tr>\n",
       "    <tr>\n",
       "      <th>16</th>\n",
       "      <td>EALING</td>\n",
       "      <td>3.167388</td>\n",
       "    </tr>\n",
       "    <tr>\n",
       "      <th>17</th>\n",
       "      <td>LEWISHAM</td>\n",
       "      <td>3.152724</td>\n",
       "    </tr>\n",
       "    <tr>\n",
       "      <th>18</th>\n",
       "      <td>HARINGEY</td>\n",
       "      <td>2.947430</td>\n",
       "    </tr>\n",
       "    <tr>\n",
       "      <th>19</th>\n",
       "      <td>HOUNSLOW</td>\n",
       "      <td>2.800792</td>\n",
       "    </tr>\n",
       "    <tr>\n",
       "      <th>20</th>\n",
       "      <td>WALTHAM FOREST</td>\n",
       "      <td>2.705477</td>\n",
       "    </tr>\n",
       "    <tr>\n",
       "      <th>21</th>\n",
       "      <td>BARKING AND DAGENHAM</td>\n",
       "      <td>2.551507</td>\n",
       "    </tr>\n",
       "    <tr>\n",
       "      <th>22</th>\n",
       "      <td>HAVERING</td>\n",
       "      <td>2.397536</td>\n",
       "    </tr>\n",
       "    <tr>\n",
       "      <th>23</th>\n",
       "      <td>REDBRIDGE</td>\n",
       "      <td>2.360877</td>\n",
       "    </tr>\n",
       "    <tr>\n",
       "      <th>24</th>\n",
       "      <td>KENSINGTON AND CHELSEA</td>\n",
       "      <td>2.331549</td>\n",
       "    </tr>\n",
       "    <tr>\n",
       "      <th>25</th>\n",
       "      <td>BEXLEY</td>\n",
       "      <td>2.250898</td>\n",
       "    </tr>\n",
       "    <tr>\n",
       "      <th>26</th>\n",
       "      <td>HAMMERSMITH AND FULHAM</td>\n",
       "      <td>2.206907</td>\n",
       "    </tr>\n",
       "    <tr>\n",
       "      <th>27</th>\n",
       "      <td>MERTON</td>\n",
       "      <td>2.008945</td>\n",
       "    </tr>\n",
       "    <tr>\n",
       "      <th>28</th>\n",
       "      <td>HARROW</td>\n",
       "      <td>1.715668</td>\n",
       "    </tr>\n",
       "    <tr>\n",
       "      <th>29</th>\n",
       "      <td>SUTTON</td>\n",
       "      <td>1.635017</td>\n",
       "    </tr>\n",
       "    <tr>\n",
       "      <th>30</th>\n",
       "      <td>RICHMOND UPON THAMES</td>\n",
       "      <td>1.613021</td>\n",
       "    </tr>\n",
       "    <tr>\n",
       "      <th>31</th>\n",
       "      <td>KINGSTON UPON THAMES</td>\n",
       "      <td>1.422392</td>\n",
       "    </tr>\n",
       "    <tr>\n",
       "      <th>32</th>\n",
       "      <td>CITY OF LONDON</td>\n",
       "      <td>0.469243</td>\n",
       "    </tr>\n",
       "  </tbody>\n",
       "</table>\n",
       "</div>"
      ],
      "text/plain": [
       "              borough_name  Percentage\n",
       "0                  LAMBETH    4.956375\n",
       "1              WESTMINSTER    4.927047\n",
       "2                SOUTHWARK    4.655767\n",
       "3            TOWER HAMLETS    4.597111\n",
       "4                   NEWHAM    4.215852\n",
       "5                  CROYDON    4.171860\n",
       "6                  HACKNEY    3.995894\n",
       "7                  ENFIELD    3.790600\n",
       "8                   CAMDEN    3.651294\n",
       "9                GREENWICH    3.629298\n",
       "10                   BRENT    3.350686\n",
       "11              HILLINGDON    3.336022\n",
       "12              WANDSWORTH    3.336022\n",
       "13                  BARNET    3.240707\n",
       "14                 BROMLEY    3.233375\n",
       "15               ISLINGTON    3.174720\n",
       "16                  EALING    3.167388\n",
       "17                LEWISHAM    3.152724\n",
       "18                HARINGEY    2.947430\n",
       "19                HOUNSLOW    2.800792\n",
       "20          WALTHAM FOREST    2.705477\n",
       "21    BARKING AND DAGENHAM    2.551507\n",
       "22                HAVERING    2.397536\n",
       "23               REDBRIDGE    2.360877\n",
       "24  KENSINGTON AND CHELSEA    2.331549\n",
       "25                  BEXLEY    2.250898\n",
       "26  HAMMERSMITH AND FULHAM    2.206907\n",
       "27                  MERTON    2.008945\n",
       "28                  HARROW    1.715668\n",
       "29                  SUTTON    1.635017\n",
       "30    RICHMOND UPON THAMES    1.613021\n",
       "31    KINGSTON UPON THAMES    1.422392\n",
       "32          CITY OF LONDON    0.469243"
      ]
     },
     "execution_count": 44,
     "metadata": {},
     "output_type": "execute_result"
    }
   ],
   "source": [
    "#Create boolean for only incidents that resulted in an emergency\n",
    "mask = london[\"Emergency\"] == 1\n",
    "\n",
    "b_by_emer = london.loc[mask, \"borough_name\"].value_counts() / london[mask].shape[0] * 100\n",
    "\n",
    "b_by_emer = pd.DataFrame(b_by_emer).reset_index().rename(columns ={\"index\": \"borough_name\", \"borough_name\" : \"Percentage\"})\n",
    "b_by_emer"
   ]
  },
  {
   "cell_type": "code",
   "execution_count": 45,
   "id": "87fd1e15",
   "metadata": {},
   "outputs": [
    {
     "data": {
      "text/plain": [
       "Text(0.5, 0, 'Percentage')"
      ]
     },
     "execution_count": 45,
     "metadata": {},
     "output_type": "execute_result"
    },
    {
     "data": {
      "image/png": "[encoded data removed]",
      "text/plain": [
       "<Figure size 720x864 with 1 Axes>"
      ]
     },
     "metadata": {},
     "output_type": "display_data"
    }
   ],
   "source": [
    "#Make a bar chart of the results\n",
    "sns.set(rc = {'figure.figsize':(10,12)})\n",
    "sns.barplot(x=\"Percentage\", y = \"borough_name\", order = b_by_emer[\"borough_name\"] \\\n",
    "                                            , data = b_by_emer, color = \"mediumseagreen\")\n",
    "plt.title(\"Percentage of Boroughs Contributing to Real Emergencies\")\n",
    "plt.ylabel(\"Boroughs\")\n",
    "plt.xlabel(\"Percentage\")"
   ]
  },
  {
   "cell_type": "markdown",
   "id": "82ad47ea",
   "metadata": {},
   "source": [
    "### Emergency Percentage by Boroughs"
   ]
  },
  {
   "cell_type": "code",
   "execution_count": 46,
   "id": "7d9f4de4",
   "metadata": {},
   "outputs": [
    {
     "data": {
      "text/html": [
       "<div>\n",
       "<style scoped>\n",
       "    .dataframe tbody tr th:only-of-type {\n",
       "        vertical-align: middle;\n",
       "    }\n",
       "\n",
       "    .dataframe tbody tr th {\n",
       "        vertical-align: top;\n",
       "    }\n",
       "\n",
       "    .dataframe thead th {\n",
       "        text-align: right;\n",
       "    }\n",
       "</style>\n",
       "<table border=\"1\" class=\"dataframe\">\n",
       "  <thead>\n",
       "    <tr style=\"text-align: right;\">\n",
       "      <th></th>\n",
       "      <th>borough_name</th>\n",
       "      <th>mean</th>\n",
       "      <th>sum</th>\n",
       "    </tr>\n",
       "  </thead>\n",
       "  <tbody>\n",
       "    <tr>\n",
       "      <th>0</th>\n",
       "      <td>BARKING AND DAGENHAM</td>\n",
       "      <td>64.925373</td>\n",
       "      <td>348</td>\n",
       "    </tr>\n",
       "    <tr>\n",
       "      <th>24</th>\n",
       "      <td>NEWHAM</td>\n",
       "      <td>64.825254</td>\n",
       "      <td>575</td>\n",
       "    </tr>\n",
       "    <tr>\n",
       "      <th>9</th>\n",
       "      <td>ENFIELD</td>\n",
       "      <td>61.620977</td>\n",
       "      <td>517</td>\n",
       "    </tr>\n",
       "    <tr>\n",
       "      <th>4</th>\n",
       "      <td>BROMLEY</td>\n",
       "      <td>59.594595</td>\n",
       "      <td>441</td>\n",
       "    </tr>\n",
       "    <tr>\n",
       "      <th>10</th>\n",
       "      <td>GREENWICH</td>\n",
       "      <td>58.166863</td>\n",
       "      <td>495</td>\n",
       "    </tr>\n",
       "    <tr>\n",
       "      <th>21</th>\n",
       "      <td>LAMBETH</td>\n",
       "      <td>58.125537</td>\n",
       "      <td>676</td>\n",
       "    </tr>\n",
       "    <tr>\n",
       "      <th>7</th>\n",
       "      <td>CROYDON</td>\n",
       "      <td>57.766497</td>\n",
       "      <td>569</td>\n",
       "    </tr>\n",
       "    <tr>\n",
       "      <th>29</th>\n",
       "      <td>TOWER HAMLETS</td>\n",
       "      <td>56.334232</td>\n",
       "      <td>627</td>\n",
       "    </tr>\n",
       "    <tr>\n",
       "      <th>2</th>\n",
       "      <td>BEXLEY</td>\n",
       "      <td>56.227106</td>\n",
       "      <td>307</td>\n",
       "    </tr>\n",
       "    <tr>\n",
       "      <th>3</th>\n",
       "      <td>BRENT</td>\n",
       "      <td>55.936353</td>\n",
       "      <td>457</td>\n",
       "    </tr>\n",
       "    <tr>\n",
       "      <th>25</th>\n",
       "      <td>REDBRIDGE</td>\n",
       "      <td>55.902778</td>\n",
       "      <td>322</td>\n",
       "    </tr>\n",
       "    <tr>\n",
       "      <th>11</th>\n",
       "      <td>HACKNEY</td>\n",
       "      <td>55.217832</td>\n",
       "      <td>545</td>\n",
       "    </tr>\n",
       "    <tr>\n",
       "      <th>13</th>\n",
       "      <td>HARINGEY</td>\n",
       "      <td>54.619565</td>\n",
       "      <td>402</td>\n",
       "    </tr>\n",
       "    <tr>\n",
       "      <th>17</th>\n",
       "      <td>HOUNSLOW</td>\n",
       "      <td>54.415954</td>\n",
       "      <td>382</td>\n",
       "    </tr>\n",
       "    <tr>\n",
       "      <th>15</th>\n",
       "      <td>HAVERING</td>\n",
       "      <td>54.409318</td>\n",
       "      <td>327</td>\n",
       "    </tr>\n",
       "    <tr>\n",
       "      <th>16</th>\n",
       "      <td>HILLINGDON</td>\n",
       "      <td>53.278689</td>\n",
       "      <td>455</td>\n",
       "    </tr>\n",
       "    <tr>\n",
       "      <th>27</th>\n",
       "      <td>SOUTHWARK</td>\n",
       "      <td>52.828619</td>\n",
       "      <td>635</td>\n",
       "    </tr>\n",
       "    <tr>\n",
       "      <th>31</th>\n",
       "      <td>WANDSWORTH</td>\n",
       "      <td>52.540416</td>\n",
       "      <td>455</td>\n",
       "    </tr>\n",
       "    <tr>\n",
       "      <th>23</th>\n",
       "      <td>MERTON</td>\n",
       "      <td>52.390057</td>\n",
       "      <td>274</td>\n",
       "    </tr>\n",
       "    <tr>\n",
       "      <th>30</th>\n",
       "      <td>WALTHAM FOREST</td>\n",
       "      <td>51.178918</td>\n",
       "      <td>369</td>\n",
       "    </tr>\n",
       "    <tr>\n",
       "      <th>18</th>\n",
       "      <td>ISLINGTON</td>\n",
       "      <td>50.762016</td>\n",
       "      <td>433</td>\n",
       "    </tr>\n",
       "    <tr>\n",
       "      <th>28</th>\n",
       "      <td>SUTTON</td>\n",
       "      <td>50.338600</td>\n",
       "      <td>223</td>\n",
       "    </tr>\n",
       "    <tr>\n",
       "      <th>8</th>\n",
       "      <td>EALING</td>\n",
       "      <td>50.057937</td>\n",
       "      <td>432</td>\n",
       "    </tr>\n",
       "    <tr>\n",
       "      <th>14</th>\n",
       "      <td>HARROW</td>\n",
       "      <td>49.681529</td>\n",
       "      <td>234</td>\n",
       "    </tr>\n",
       "    <tr>\n",
       "      <th>1</th>\n",
       "      <td>BARNET</td>\n",
       "      <td>49.440716</td>\n",
       "      <td>442</td>\n",
       "    </tr>\n",
       "    <tr>\n",
       "      <th>22</th>\n",
       "      <td>LEWISHAM</td>\n",
       "      <td>46.994536</td>\n",
       "      <td>430</td>\n",
       "    </tr>\n",
       "    <tr>\n",
       "      <th>26</th>\n",
       "      <td>RICHMOND UPON THAMES</td>\n",
       "      <td>46.709130</td>\n",
       "      <td>220</td>\n",
       "    </tr>\n",
       "    <tr>\n",
       "      <th>20</th>\n",
       "      <td>KINGSTON UPON THAMES</td>\n",
       "      <td>45.754717</td>\n",
       "      <td>194</td>\n",
       "    </tr>\n",
       "    <tr>\n",
       "      <th>12</th>\n",
       "      <td>HAMMERSMITH AND FULHAM</td>\n",
       "      <td>41.289438</td>\n",
       "      <td>301</td>\n",
       "    </tr>\n",
       "    <tr>\n",
       "      <th>5</th>\n",
       "      <td>CAMDEN</td>\n",
       "      <td>40.032154</td>\n",
       "      <td>498</td>\n",
       "    </tr>\n",
       "    <tr>\n",
       "      <th>19</th>\n",
       "      <td>KENSINGTON AND CHELSEA</td>\n",
       "      <td>39.307787</td>\n",
       "      <td>318</td>\n",
       "    </tr>\n",
       "    <tr>\n",
       "      <th>32</th>\n",
       "      <td>WESTMINSTER</td>\n",
       "      <td>32.621359</td>\n",
       "      <td>672</td>\n",
       "    </tr>\n",
       "    <tr>\n",
       "      <th>6</th>\n",
       "      <td>CITY OF LONDON</td>\n",
       "      <td>21.476510</td>\n",
       "      <td>64</td>\n",
       "    </tr>\n",
       "  </tbody>\n",
       "</table>\n",
       "</div>"
      ],
      "text/plain": [
       "              borough_name       mean  sum\n",
       "0     BARKING AND DAGENHAM  64.925373  348\n",
       "24                  NEWHAM  64.825254  575\n",
       "9                  ENFIELD  61.620977  517\n",
       "4                  BROMLEY  59.594595  441\n",
       "10               GREENWICH  58.166863  495\n",
       "21                 LAMBETH  58.125537  676\n",
       "7                  CROYDON  57.766497  569\n",
       "29           TOWER HAMLETS  56.334232  627\n",
       "2                   BEXLEY  56.227106  307\n",
       "3                    BRENT  55.936353  457\n",
       "25               REDBRIDGE  55.902778  322\n",
       "11                 HACKNEY  55.217832  545\n",
       "13                HARINGEY  54.619565  402\n",
       "17                HOUNSLOW  54.415954  382\n",
       "15                HAVERING  54.409318  327\n",
       "16              HILLINGDON  53.278689  455\n",
       "27               SOUTHWARK  52.828619  635\n",
       "31              WANDSWORTH  52.540416  455\n",
       "23                  MERTON  52.390057  274\n",
       "30          WALTHAM FOREST  51.178918  369\n",
       "18               ISLINGTON  50.762016  433\n",
       "28                  SUTTON  50.338600  223\n",
       "8                   EALING  50.057937  432\n",
       "14                  HARROW  49.681529  234\n",
       "1                   BARNET  49.440716  442\n",
       "22                LEWISHAM  46.994536  430\n",
       "26    RICHMOND UPON THAMES  46.709130  220\n",
       "20    KINGSTON UPON THAMES  45.754717  194\n",
       "12  HAMMERSMITH AND FULHAM  41.289438  301\n",
       "5                   CAMDEN  40.032154  498\n",
       "19  KENSINGTON AND CHELSEA  39.307787  318\n",
       "32             WESTMINSTER  32.621359  672\n",
       "6           CITY OF LONDON  21.476510   64"
      ]
     },
     "execution_count": 46,
     "metadata": {},
     "output_type": "execute_result"
    }
   ],
   "source": [
    "b_grp = london.groupby(\"borough_name\")[\"Emergency\"].aggregate([\"mean\", \"sum\"])\n",
    "b_grp = b_grp.reset_index().sort_values(by = \"mean\", ascending=False)\n",
    "b_grp[\"mean\"] *= 100\n",
    "b_grp"
   ]
  },
  {
   "cell_type": "code",
   "execution_count": 47,
   "id": "6d73a446",
   "metadata": {},
   "outputs": [
    {
     "data": {
      "text/plain": [
       "Text(0.5, 0, 'Percentage')"
      ]
     },
     "execution_count": 47,
     "metadata": {},
     "output_type": "execute_result"
    },
    {
     "data": {
      "image/png": "[encoded data removed]",
      "text/plain": [
       "<Figure size 720x864 with 1 Axes>"
      ]
     },
     "metadata": {},
     "output_type": "display_data"
    }
   ],
   "source": [
    "#Make a bar chart of the results\n",
    "sns.set(rc = {'figure.figsize':(10,12)})\n",
    "sns.barplot(x=\"mean\", y = \"borough_name\", order = b_grp[\"borough_name\"] \\\n",
    "                                            , data = b_grp, color = \"mediumseagreen\")\n",
    "plt.title(\"Emergency Percentage By Borough\")\n",
    "plt.ylabel(\"Borough\")\n",
    "plt.xlabel(\"Percentage\")"
   ]
  },
  {
   "cell_type": "markdown",
   "id": "247f7536",
   "metadata": {},
   "source": [
    "## Ranked Ward Names"
   ]
  },
  {
   "cell_type": "markdown",
   "id": "884ac739",
   "metadata": {},
   "source": [
    "### Percentage of Ranked Wards Contributing to Real Emergencies"
   ]
  },
  {
   "cell_type": "code",
   "execution_count": 48,
   "id": "0abbfac2",
   "metadata": {},
   "outputs": [
    {
     "data": {
      "text/html": [
       "<div>\n",
       "<style scoped>\n",
       "    .dataframe tbody tr th:only-of-type {\n",
       "        vertical-align: middle;\n",
       "    }\n",
       "\n",
       "    .dataframe tbody tr th {\n",
       "        vertical-align: top;\n",
       "    }\n",
       "\n",
       "    .dataframe thead th {\n",
       "        text-align: right;\n",
       "    }\n",
       "</style>\n",
       "<table border=\"1\" class=\"dataframe\">\n",
       "  <thead>\n",
       "    <tr style=\"text-align: right;\">\n",
       "      <th></th>\n",
       "      <th>ward_name_rank</th>\n",
       "      <th>Percentage</th>\n",
       "    </tr>\n",
       "  </thead>\n",
       "  <tbody>\n",
       "    <tr>\n",
       "      <th>0</th>\n",
       "      <td>5</td>\n",
       "      <td>31.739864</td>\n",
       "    </tr>\n",
       "    <tr>\n",
       "      <th>1</th>\n",
       "      <td>6</td>\n",
       "      <td>24.012024</td>\n",
       "    </tr>\n",
       "    <tr>\n",
       "      <th>2</th>\n",
       "      <td>4</td>\n",
       "      <td>19.392917</td>\n",
       "    </tr>\n",
       "    <tr>\n",
       "      <th>3</th>\n",
       "      <td>7</td>\n",
       "      <td>10.799912</td>\n",
       "    </tr>\n",
       "    <tr>\n",
       "      <th>4</th>\n",
       "      <td>3</td>\n",
       "      <td>8.204414</td>\n",
       "    </tr>\n",
       "    <tr>\n",
       "      <th>5</th>\n",
       "      <td>2</td>\n",
       "      <td>3.614635</td>\n",
       "    </tr>\n",
       "    <tr>\n",
       "      <th>6</th>\n",
       "      <td>8</td>\n",
       "      <td>1.950290</td>\n",
       "    </tr>\n",
       "    <tr>\n",
       "      <th>7</th>\n",
       "      <td>1</td>\n",
       "      <td>0.263949</td>\n",
       "    </tr>\n",
       "    <tr>\n",
       "      <th>8</th>\n",
       "      <td>0</td>\n",
       "      <td>0.021996</td>\n",
       "    </tr>\n",
       "  </tbody>\n",
       "</table>\n",
       "</div>"
      ],
      "text/plain": [
       "  ward_name_rank  Percentage\n",
       "0              5   31.739864\n",
       "1              6   24.012024\n",
       "2              4   19.392917\n",
       "3              7   10.799912\n",
       "4              3    8.204414\n",
       "5              2    3.614635\n",
       "6              8    1.950290\n",
       "7              1    0.263949\n",
       "8              0    0.021996"
      ]
     },
     "execution_count": 48,
     "metadata": {},
     "output_type": "execute_result"
    }
   ],
   "source": [
    "#Create boolean for only incidents that resulted in an emergency\n",
    "mask = london[\"Emergency\"] == 1\n",
    "\n",
    "wn_by_emer = london.loc[mask, \"wn_rank\"].value_counts() / london[mask].shape[0] * 100\n",
    "\n",
    "wn_by_emer = pd.DataFrame(wn_by_emer).reset_index().rename(columns ={\"index\": \"ward_name_rank\", \"wn_rank\" : \"Percentage\"})\n",
    "wn_by_emer"
   ]
  },
  {
   "cell_type": "code",
   "execution_count": 49,
   "id": "92b2e709",
   "metadata": {},
   "outputs": [
    {
     "data": {
      "text/plain": [
       "Text(0.5, 0, 'Percentage')"
      ]
     },
     "execution_count": 49,
     "metadata": {},
     "output_type": "execute_result"
    },
    {
     "data": {
      "image/png": "[encoded data removed]",
      "text/plain": [
       "<Figure size 720x576 with 1 Axes>"
      ]
     },
     "metadata": {},
     "output_type": "display_data"
    }
   ],
   "source": [
    "#Make a bar chart of the results\n",
    "sns.set(rc = {'figure.figsize':(10,8)})\n",
    "sns.barplot(x=\"Percentage\", y = \"ward_name_rank\", order = wn_by_emer[\"ward_name_rank\"] \\\n",
    "                                            , data = wn_by_emer, color = \"mediumseagreen\")\n",
    "plt.title(\"Percentage of Ranked Wards Contributing to Real Emergencies\")\n",
    "plt.ylabel(\"Ranked Wards\")\n",
    "plt.xlabel(\"Percentage\")"
   ]
  },
  {
   "cell_type": "markdown",
   "id": "81dab750",
   "metadata": {},
   "source": [
    "### Emergency Percentage by Ranked Ward Names"
   ]
  },
  {
   "cell_type": "code",
   "execution_count": 50,
   "id": "4a43ddc6",
   "metadata": {},
   "outputs": [
    {
     "data": {
      "text/html": [
       "<div>\n",
       "<style scoped>\n",
       "    .dataframe tbody tr th:only-of-type {\n",
       "        vertical-align: middle;\n",
       "    }\n",
       "\n",
       "    .dataframe tbody tr th {\n",
       "        vertical-align: top;\n",
       "    }\n",
       "\n",
       "    .dataframe thead th {\n",
       "        text-align: right;\n",
       "    }\n",
       "</style>\n",
       "<table border=\"1\" class=\"dataframe\">\n",
       "  <thead>\n",
       "    <tr style=\"text-align: right;\">\n",
       "      <th></th>\n",
       "      <th>wn_rank</th>\n",
       "      <th>mean</th>\n",
       "      <th>sum</th>\n",
       "    </tr>\n",
       "  </thead>\n",
       "  <tbody>\n",
       "    <tr>\n",
       "      <th>9</th>\n",
       "      <td>8</td>\n",
       "      <td>83.385580</td>\n",
       "      <td>266</td>\n",
       "    </tr>\n",
       "    <tr>\n",
       "      <th>8</th>\n",
       "      <td>7</td>\n",
       "      <td>74.393939</td>\n",
       "      <td>1473</td>\n",
       "    </tr>\n",
       "    <tr>\n",
       "      <th>7</th>\n",
       "      <td>6</td>\n",
       "      <td>64.417781</td>\n",
       "      <td>3275</td>\n",
       "    </tr>\n",
       "    <tr>\n",
       "      <th>6</th>\n",
       "      <td>5</td>\n",
       "      <td>54.336639</td>\n",
       "      <td>4329</td>\n",
       "    </tr>\n",
       "    <tr>\n",
       "      <th>5</th>\n",
       "      <td>4</td>\n",
       "      <td>44.521124</td>\n",
       "      <td>2645</td>\n",
       "    </tr>\n",
       "    <tr>\n",
       "      <th>4</th>\n",
       "      <td>3</td>\n",
       "      <td>34.441367</td>\n",
       "      <td>1119</td>\n",
       "    </tr>\n",
       "    <tr>\n",
       "      <th>3</th>\n",
       "      <td>2</td>\n",
       "      <td>26.279318</td>\n",
       "      <td>493</td>\n",
       "    </tr>\n",
       "    <tr>\n",
       "      <th>2</th>\n",
       "      <td>1</td>\n",
       "      <td>16.363636</td>\n",
       "      <td>36</td>\n",
       "    </tr>\n",
       "    <tr>\n",
       "      <th>1</th>\n",
       "      <td>0</td>\n",
       "      <td>3.896104</td>\n",
       "      <td>3</td>\n",
       "    </tr>\n",
       "    <tr>\n",
       "      <th>0</th>\n",
       "      <td>-1</td>\n",
       "      <td>0.000000</td>\n",
       "      <td>0</td>\n",
       "    </tr>\n",
       "  </tbody>\n",
       "</table>\n",
       "</div>"
      ],
      "text/plain": [
       "  wn_rank       mean   sum\n",
       "9       8  83.385580   266\n",
       "8       7  74.393939  1473\n",
       "7       6  64.417781  3275\n",
       "6       5  54.336639  4329\n",
       "5       4  44.521124  2645\n",
       "4       3  34.441367  1119\n",
       "3       2  26.279318   493\n",
       "2       1  16.363636    36\n",
       "1       0   3.896104     3\n",
       "0      -1   0.000000     0"
      ]
     },
     "execution_count": 50,
     "metadata": {},
     "output_type": "execute_result"
    }
   ],
   "source": [
    "wn_grp = london.groupby(\"wn_rank\")[\"Emergency\"].aggregate([\"mean\", \"sum\"])\n",
    "wn_grp = wn_grp.reset_index().sort_values(by = \"mean\", ascending=False)\n",
    "wn_grp[\"mean\"] *= 100\n",
    "wn_grp"
   ]
  },
  {
   "cell_type": "code",
   "execution_count": 51,
   "id": "c284237d",
   "metadata": {},
   "outputs": [
    {
     "data": {
      "text/plain": [
       "Text(0.5, 0, 'Percentage')"
      ]
     },
     "execution_count": 51,
     "metadata": {},
     "output_type": "execute_result"
    },
    {
     "data": {
      "image/png": "[encoded data removed]",
      "text/plain": [
       "<Figure size 720x576 with 1 Axes>"
      ]
     },
     "metadata": {},
     "output_type": "display_data"
    }
   ],
   "source": [
    "#Make a bar chart of the results\n",
    "sns.set(rc = {'figure.figsize':(10,8)})\n",
    "sns.barplot(x=\"mean\", y = \"wn_rank\", order = wn_grp[\"wn_rank\"] \\\n",
    "                                            , data = wn_grp, color = \"mediumseagreen\")\n",
    "plt.title(\"Emergency Percentage By Ranked Ward Name\")\n",
    "plt.ylabel(\"Ranked Ward Name\")\n",
    "plt.xlabel(\"Percentage\")"
   ]
  },
  {
   "cell_type": "markdown",
   "id": "18e55274",
   "metadata": {},
   "source": [
    "## Station Rank"
   ]
  },
  {
   "cell_type": "markdown",
   "id": "a5190c4a",
   "metadata": {},
   "source": [
    "### Percentage of Ranked Stations Contributing to Real Emergencies"
   ]
  },
  {
   "cell_type": "code",
   "execution_count": 52,
   "id": "f1465cb8",
   "metadata": {},
   "outputs": [
    {
     "data": {
      "text/html": [
       "<div>\n",
       "<style scoped>\n",
       "    .dataframe tbody tr th:only-of-type {\n",
       "        vertical-align: middle;\n",
       "    }\n",
       "\n",
       "    .dataframe tbody tr th {\n",
       "        vertical-align: top;\n",
       "    }\n",
       "\n",
       "    .dataframe thead th {\n",
       "        text-align: right;\n",
       "    }\n",
       "</style>\n",
       "<table border=\"1\" class=\"dataframe\">\n",
       "  <thead>\n",
       "    <tr style=\"text-align: right;\">\n",
       "      <th></th>\n",
       "      <th>station_rank</th>\n",
       "      <th>Percentage</th>\n",
       "    </tr>\n",
       "  </thead>\n",
       "  <tbody>\n",
       "    <tr>\n",
       "      <th>0</th>\n",
       "      <td>5</td>\n",
       "      <td>50.502236</td>\n",
       "    </tr>\n",
       "    <tr>\n",
       "      <th>1</th>\n",
       "      <td>4</td>\n",
       "      <td>23.733412</td>\n",
       "    </tr>\n",
       "    <tr>\n",
       "      <th>2</th>\n",
       "      <td>6</td>\n",
       "      <td>17.926534</td>\n",
       "    </tr>\n",
       "    <tr>\n",
       "      <th>3</th>\n",
       "      <td>3</td>\n",
       "      <td>4.538456</td>\n",
       "    </tr>\n",
       "    <tr>\n",
       "      <th>4</th>\n",
       "      <td>2</td>\n",
       "      <td>2.206907</td>\n",
       "    </tr>\n",
       "    <tr>\n",
       "      <th>5</th>\n",
       "      <td>7</td>\n",
       "      <td>1.085124</td>\n",
       "    </tr>\n",
       "    <tr>\n",
       "      <th>6</th>\n",
       "      <td>10</td>\n",
       "      <td>0.007332</td>\n",
       "    </tr>\n",
       "  </tbody>\n",
       "</table>\n",
       "</div>"
      ],
      "text/plain": [
       "  station_rank  Percentage\n",
       "0            5   50.502236\n",
       "1            4   23.733412\n",
       "2            6   17.926534\n",
       "3            3    4.538456\n",
       "4            2    2.206907\n",
       "5            7    1.085124\n",
       "6           10    0.007332"
      ]
     },
     "execution_count": 52,
     "metadata": {},
     "output_type": "execute_result"
    }
   ],
   "source": [
    "#Create boolean for only incidents that resulted in an emergency\n",
    "mask = london[\"Emergency\"] == 1\n",
    "\n",
    "st_by_emer = london.loc[mask, \"stat_rank\"].value_counts() / london[mask].shape[0] * 100\n",
    "\n",
    "st_by_emer = pd.DataFrame(st_by_emer).reset_index().rename(columns ={\"index\": \"station_rank\", \"stat_rank\" : \"Percentage\"})\n",
    "st_by_emer"
   ]
  },
  {
   "cell_type": "code",
   "execution_count": 53,
   "id": "dcb67a5a",
   "metadata": {},
   "outputs": [
    {
     "data": {
      "text/plain": [
       "Text(0.5, 0, 'Percentage')"
      ]
     },
     "execution_count": 53,
     "metadata": {},
     "output_type": "execute_result"
    },
    {
     "data": {
      "image/png": "[encoded data removed]",
      "text/plain": [
       "<Figure size 720x576 with 1 Axes>"
      ]
     },
     "metadata": {},
     "output_type": "display_data"
    }
   ],
   "source": [
    "#Make a bar chart of the results\n",
    "sns.set(rc = {'figure.figsize':(10,8)})\n",
    "sns.barplot(x=\"Percentage\", y = \"station_rank\", order = st_by_emer[\"station_rank\"] \\\n",
    "                                            , data = st_by_emer, color = \"mediumseagreen\")\n",
    "plt.title(\"Percentage of Ranked Stations Contributing to Real Emergencies\")\n",
    "plt.ylabel(\"Ranked Stations\")\n",
    "plt.xlabel(\"Percentage\")"
   ]
  },
  {
   "cell_type": "markdown",
   "id": "14327696",
   "metadata": {},
   "source": [
    "### Emergency Percentage by Ranked Stations"
   ]
  },
  {
   "cell_type": "code",
   "execution_count": 54,
   "id": "1579a281",
   "metadata": {},
   "outputs": [
    {
     "data": {
      "text/html": [
       "<div>\n",
       "<style scoped>\n",
       "    .dataframe tbody tr th:only-of-type {\n",
       "        vertical-align: middle;\n",
       "    }\n",
       "\n",
       "    .dataframe tbody tr th {\n",
       "        vertical-align: top;\n",
       "    }\n",
       "\n",
       "    .dataframe thead th {\n",
       "        text-align: right;\n",
       "    }\n",
       "</style>\n",
       "<table border=\"1\" class=\"dataframe\">\n",
       "  <thead>\n",
       "    <tr style=\"text-align: right;\">\n",
       "      <th></th>\n",
       "      <th>stat_rank</th>\n",
       "      <th>mean</th>\n",
       "      <th>sum</th>\n",
       "    </tr>\n",
       "  </thead>\n",
       "  <tbody>\n",
       "    <tr>\n",
       "      <th>0</th>\n",
       "      <td>10</td>\n",
       "      <td>100.000000</td>\n",
       "      <td>1</td>\n",
       "    </tr>\n",
       "    <tr>\n",
       "      <th>6</th>\n",
       "      <td>7</td>\n",
       "      <td>71.844660</td>\n",
       "      <td>148</td>\n",
       "    </tr>\n",
       "    <tr>\n",
       "      <th>5</th>\n",
       "      <td>6</td>\n",
       "      <td>63.754889</td>\n",
       "      <td>2445</td>\n",
       "    </tr>\n",
       "    <tr>\n",
       "      <th>4</th>\n",
       "      <td>5</td>\n",
       "      <td>54.805856</td>\n",
       "      <td>6888</td>\n",
       "    </tr>\n",
       "    <tr>\n",
       "      <th>3</th>\n",
       "      <td>4</td>\n",
       "      <td>44.173035</td>\n",
       "      <td>3237</td>\n",
       "    </tr>\n",
       "    <tr>\n",
       "      <th>2</th>\n",
       "      <td>3</td>\n",
       "      <td>35.533869</td>\n",
       "      <td>619</td>\n",
       "    </tr>\n",
       "    <tr>\n",
       "      <th>1</th>\n",
       "      <td>2</td>\n",
       "      <td>28.970164</td>\n",
       "      <td>301</td>\n",
       "    </tr>\n",
       "  </tbody>\n",
       "</table>\n",
       "</div>"
      ],
      "text/plain": [
       "  stat_rank        mean   sum\n",
       "0        10  100.000000     1\n",
       "6         7   71.844660   148\n",
       "5         6   63.754889  2445\n",
       "4         5   54.805856  6888\n",
       "3         4   44.173035  3237\n",
       "2         3   35.533869   619\n",
       "1         2   28.970164   301"
      ]
     },
     "execution_count": 54,
     "metadata": {},
     "output_type": "execute_result"
    }
   ],
   "source": [
    "st_grp = london.groupby(\"stat_rank\")[\"Emergency\"].aggregate([\"mean\", \"sum\"])\n",
    "st_grp = st_grp.reset_index().sort_values(by = \"mean\", ascending=False)\n",
    "st_grp[\"mean\"] *= 100\n",
    "st_grp"
   ]
  },
  {
   "cell_type": "code",
   "execution_count": 55,
   "id": "858d2c9e",
   "metadata": {},
   "outputs": [
    {
     "data": {
      "text/plain": [
       "Text(0.5, 0, 'Percentage')"
      ]
     },
     "execution_count": 55,
     "metadata": {},
     "output_type": "execute_result"
    },
    {
     "data": {
      "image/png": "[encoded data removed]",
      "text/plain": [
       "<Figure size 720x576 with 1 Axes>"
      ]
     },
     "metadata": {},
     "output_type": "display_data"
    }
   ],
   "source": [
    "#Make a bar chart of the results\n",
    "sns.set(rc = {'figure.figsize':(10,8)})\n",
    "sns.barplot(x=\"mean\", y = \"stat_rank\", order = st_grp[\"stat_rank\"] \\\n",
    "                                            , data = st_grp, color = \"mediumseagreen\")\n",
    "plt.title(\"Emergency Percentage By Ranked Stations\")\n",
    "plt.ylabel(\"Ranked Stations\")\n",
    "plt.xlabel(\"Percentage\")"
   ]
  },
  {
   "cell_type": "markdown",
   "id": "9c951489",
   "metadata": {},
   "source": [
    "## Pump Arriving Time"
   ]
  },
  {
   "cell_type": "markdown",
   "id": "c7a517cc",
   "metadata": {},
   "source": [
    "### Histogram of Pump Arriving Time"
   ]
  },
  {
   "cell_type": "code",
   "execution_count": 56,
   "id": "e64df2e5",
   "metadata": {},
   "outputs": [
    {
     "data": {
      "text/plain": [
       "count    26719.000000\n",
       "mean       313.604572\n",
       "std        120.928801\n",
       "min          2.000000\n",
       "25%        236.000000\n",
       "50%        299.000000\n",
       "75%        372.000000\n",
       "max        860.000000\n",
       "Name: first_time, dtype: float64"
      ]
     },
     "execution_count": 56,
     "metadata": {},
     "output_type": "execute_result"
    }
   ],
   "source": [
    "london[\"first_time\"].describe()"
   ]
  },
  {
   "cell_type": "code",
   "execution_count": 57,
   "id": "ec96ab8b",
   "metadata": {},
   "outputs": [
    {
     "data": {
      "text/plain": [
       "Text(0.5, 0, 'Time')"
      ]
     },
     "execution_count": 57,
     "metadata": {},
     "output_type": "execute_result"
    },
    {
     "data": {
      "image/png": "[encoded data removed]",
      "text/plain": [
       "<Figure size 864x576 with 1 Axes>"
      ]
     },
     "metadata": {},
     "output_type": "display_data"
    }
   ],
   "source": [
    "sns.set(rc = {'figure.figsize':(12,8)})\n",
    "sns.histplot(x=\"first_time\", data = london, color = \"mediumseagreen\")\n",
    "plt.title(\"Histogram of Pump Arriving Time\")\n",
    "plt.xlabel(\"Time\")"
   ]
  },
  {
   "cell_type": "markdown",
   "id": "3cbe2742",
   "metadata": {},
   "source": [
    "### Histogram of Pump Arriving Time By Emergency Status"
   ]
  },
  {
   "cell_type": "code",
   "execution_count": 58,
   "id": "cc867054",
   "metadata": {},
   "outputs": [
    {
     "data": {
      "text/plain": [
       "Text(0.5, 1.0, 'Pump Arriving Time By Emergency Status')"
      ]
     },
     "execution_count": 58,
     "metadata": {},
     "output_type": "execute_result"
    },
    {
     "data": {
      "image/png": "[encoded data removed]",
      "text/plain": [
       "<Figure size 864x720 with 1 Axes>"
      ]
     },
     "metadata": {},
     "output_type": "display_data"
    }
   ],
   "source": [
    "sns.set(rc = {'figure.figsize':(12,10)})\n",
    "sns.kdeplot(london.loc[london[\"Emergency\"] == 1, \"first_time\"], shade=True, color = 'mediumseagreen')\n",
    "sns.kdeplot(london.loc[london[\"Emergency\"] == 0, \"first_time\"], shade=True, color = 'cornflowerblue')\n",
    "plt.legend([\"Real\", \"False-Alarm\"], frameon=False, fontsize='small')\n",
    "plt.xlabel(\"Time\")\n",
    "plt.title(\"Pump Arriving Time By Emergency Status\")"
   ]
  },
  {
   "cell_type": "markdown",
   "id": "53ae472a",
   "metadata": {},
   "source": [
    "## Number of Stations with Pumps Attending"
   ]
  },
  {
   "cell_type": "markdown",
   "id": "8337a6c0",
   "metadata": {},
   "source": [
    "### Percentage of Pumps Contributing to Real Emergencies"
   ]
  },
  {
   "cell_type": "code",
   "execution_count": 7,
   "id": "2536e847",
   "metadata": {},
   "outputs": [
    {
     "data": {
      "text/html": [
       "<div>\n",
       "<style scoped>\n",
       "    .dataframe tbody tr th:only-of-type {\n",
       "        vertical-align: middle;\n",
       "    }\n",
       "\n",
       "    .dataframe tbody tr th {\n",
       "        vertical-align: top;\n",
       "    }\n",
       "\n",
       "    .dataframe thead th {\n",
       "        text-align: right;\n",
       "    }\n",
       "</style>\n",
       "<table border=\"1\" class=\"dataframe\">\n",
       "  <thead>\n",
       "    <tr style=\"text-align: right;\">\n",
       "      <th></th>\n",
       "      <th>station_pumps</th>\n",
       "      <th>Percentage</th>\n",
       "    </tr>\n",
       "  </thead>\n",
       "  <tbody>\n",
       "    <tr>\n",
       "      <th>0</th>\n",
       "      <td>1.0</td>\n",
       "      <td>81.472249</td>\n",
       "    </tr>\n",
       "    <tr>\n",
       "      <th>1</th>\n",
       "      <td>2.0</td>\n",
       "      <td>15.594985</td>\n",
       "    </tr>\n",
       "    <tr>\n",
       "      <th>2</th>\n",
       "      <td>3.0</td>\n",
       "      <td>2.148251</td>\n",
       "    </tr>\n",
       "    <tr>\n",
       "      <th>3</th>\n",
       "      <td>4.0</td>\n",
       "      <td>0.784515</td>\n",
       "    </tr>\n",
       "  </tbody>\n",
       "</table>\n",
       "</div>"
      ],
      "text/plain": [
       "  station_pumps  Percentage\n",
       "0           1.0   81.472249\n",
       "1           2.0   15.594985\n",
       "2           3.0    2.148251\n",
       "3           4.0    0.784515"
      ]
     },
     "execution_count": 7,
     "metadata": {},
     "output_type": "execute_result"
    }
   ],
   "source": [
    "#Create boolean for only incidents that resulted in an emergency\n",
    "mask = london[\"Emergency\"] == 1\n",
    "\n",
    "np_by_emer = london.loc[mask, \"station_pumps\"].value_counts() / london[mask].shape[0] * 100\n",
    "\n",
    "np_by_emer = pd.DataFrame(np_by_emer).reset_index().rename(columns ={\"index\": \"station_pumps\", \"station_pumps\" : \"Percentage\"})\n",
    "np_by_emer"
   ]
  },
  {
   "cell_type": "code",
   "execution_count": 8,
   "id": "46c99b92",
   "metadata": {},
   "outputs": [
    {
     "data": {
      "text/plain": [
       "Text(0.5, 0, 'Percentage')"
      ]
     },
     "execution_count": 8,
     "metadata": {},
     "output_type": "execute_result"
    },
    {
     "data": {
      "image/png": "[encoded data removed]",
      "text/plain": [
       "<Figure size 720x576 with 1 Axes>"
      ]
     },
     "metadata": {},
     "output_type": "display_data"
    }
   ],
   "source": [
    "#Make a bar chart of the results\n",
    "sns.set(rc = {'figure.figsize':(10,8)})\n",
    "sns.barplot(x=\"Percentage\", y = \"station_pumps\", order = np_by_emer[\"station_pumps\"] \\\n",
    "                                            , data = np_by_emer, color = \"mediumseagreen\")\n",
    "plt.title(\"Percentage of Pumps Contributing to Real Emergencies\")\n",
    "plt.ylabel(\"Number of Pumps\")\n",
    "plt.xlabel(\"Percentage\")"
   ]
  },
  {
   "cell_type": "markdown",
   "id": "c4d8c270",
   "metadata": {},
   "source": [
    "### Emergency Percentage by Number of Pumps"
   ]
  },
  {
   "cell_type": "code",
   "execution_count": 11,
   "id": "5e0cc264",
   "metadata": {},
   "outputs": [
    {
     "data": {
      "text/html": [
       "<div>\n",
       "<style scoped>\n",
       "    .dataframe tbody tr th:only-of-type {\n",
       "        vertical-align: middle;\n",
       "    }\n",
       "\n",
       "    .dataframe tbody tr th {\n",
       "        vertical-align: top;\n",
       "    }\n",
       "\n",
       "    .dataframe thead th {\n",
       "        text-align: right;\n",
       "    }\n",
       "</style>\n",
       "<table border=\"1\" class=\"dataframe\">\n",
       "  <thead>\n",
       "    <tr style=\"text-align: right;\">\n",
       "      <th></th>\n",
       "      <th>station_pumps</th>\n",
       "      <th>mean</th>\n",
       "      <th>sum</th>\n",
       "    </tr>\n",
       "  </thead>\n",
       "  <tbody>\n",
       "    <tr>\n",
       "      <th>0</th>\n",
       "      <td>1.0</td>\n",
       "      <td>59.150431</td>\n",
       "      <td>11112</td>\n",
       "    </tr>\n",
       "    <tr>\n",
       "      <th>3</th>\n",
       "      <td>4.0</td>\n",
       "      <td>36.271186</td>\n",
       "      <td>107</td>\n",
       "    </tr>\n",
       "    <tr>\n",
       "      <th>2</th>\n",
       "      <td>3.0</td>\n",
       "      <td>34.551887</td>\n",
       "      <td>293</td>\n",
       "    </tr>\n",
       "    <tr>\n",
       "      <th>1</th>\n",
       "      <td>2.0</td>\n",
       "      <td>31.325479</td>\n",
       "      <td>2127</td>\n",
       "    </tr>\n",
       "  </tbody>\n",
       "</table>\n",
       "</div>"
      ],
      "text/plain": [
       "  station_pumps       mean    sum\n",
       "0           1.0  59.150431  11112\n",
       "3           4.0  36.271186    107\n",
       "2           3.0  34.551887    293\n",
       "1           2.0  31.325479   2127"
      ]
     },
     "execution_count": 11,
     "metadata": {},
     "output_type": "execute_result"
    }
   ],
   "source": [
    "np_grp = london.groupby(\"station_pumps\")[\"Emergency\"].aggregate([\"mean\", \"sum\"])\n",
    "np_grp = np_grp.reset_index().sort_values(by = \"mean\", ascending=False)\n",
    "np_grp[\"mean\"] *= 100\n",
    "np_grp"
   ]
  },
  {
   "cell_type": "code",
   "execution_count": 12,
   "id": "2837b92b",
   "metadata": {},
   "outputs": [
    {
     "data": {
      "text/plain": [
       "Text(0.5, 0, 'Percentage')"
      ]
     },
     "execution_count": 12,
     "metadata": {},
     "output_type": "execute_result"
    },
    {
     "data": {
      "image/png": "[encoded data removed]",
      "text/plain": [
       "<Figure size 720x576 with 1 Axes>"
      ]
     },
     "metadata": {},
     "output_type": "display_data"
    }
   ],
   "source": [
    "#Make a bar chart of the results\n",
    "sns.set(rc = {'figure.figsize':(10,8)})\n",
    "sns.barplot(x=\"mean\", y = \"station_pumps\", order = np_grp[\"station_pumps\"] \\\n",
    "                                            , data = np_grp, color = \"mediumseagreen\")\n",
    "plt.title(\"Emergency Percentage By Number of Pumps\")\n",
    "plt.ylabel(\"Number of Pumps\")\n",
    "plt.xlabel(\"Percentage\")"
   ]
  },
  {
   "cell_type": "markdown",
   "id": "bc948f49",
   "metadata": {},
   "source": [
    "## Number of Pumps Attending"
   ]
  },
  {
   "cell_type": "markdown",
   "id": "1cd3bb89",
   "metadata": {},
   "source": [
    "### Percentage of Pumps Attending Contributing to Real Emergencies"
   ]
  },
  {
   "cell_type": "code",
   "execution_count": 13,
   "id": "650347cd",
   "metadata": {},
   "outputs": [
    {
     "data": {
      "text/html": [
       "<div>\n",
       "<style scoped>\n",
       "    .dataframe tbody tr th:only-of-type {\n",
       "        vertical-align: middle;\n",
       "    }\n",
       "\n",
       "    .dataframe tbody tr th {\n",
       "        vertical-align: top;\n",
       "    }\n",
       "\n",
       "    .dataframe thead th {\n",
       "        text-align: right;\n",
       "    }\n",
       "</style>\n",
       "<table border=\"1\" class=\"dataframe\">\n",
       "  <thead>\n",
       "    <tr style=\"text-align: right;\">\n",
       "      <th></th>\n",
       "      <th>pumps_attending</th>\n",
       "      <th>Percentage</th>\n",
       "    </tr>\n",
       "  </thead>\n",
       "  <tbody>\n",
       "    <tr>\n",
       "      <th>0</th>\n",
       "      <td>1.0</td>\n",
       "      <td>72.952563</td>\n",
       "    </tr>\n",
       "    <tr>\n",
       "      <th>1</th>\n",
       "      <td>2.0</td>\n",
       "      <td>21.299215</td>\n",
       "    </tr>\n",
       "    <tr>\n",
       "      <th>2</th>\n",
       "      <td>3.0</td>\n",
       "      <td>3.841924</td>\n",
       "    </tr>\n",
       "    <tr>\n",
       "      <th>3</th>\n",
       "      <td>4.0</td>\n",
       "      <td>1.906298</td>\n",
       "    </tr>\n",
       "  </tbody>\n",
       "</table>\n",
       "</div>"
      ],
      "text/plain": [
       "  pumps_attending  Percentage\n",
       "0             1.0   72.952563\n",
       "1             2.0   21.299215\n",
       "2             3.0    3.841924\n",
       "3             4.0    1.906298"
      ]
     },
     "execution_count": 13,
     "metadata": {},
     "output_type": "execute_result"
    }
   ],
   "source": [
    "#Create boolean for only incidents that resulted in an emergency\n",
    "mask = london[\"Emergency\"] == 1\n",
    "\n",
    "pa_by_emer = london.loc[mask, \"pumps_attending\"].value_counts() / london[mask].shape[0] * 100\n",
    "\n",
    "pa_by_emer = pd.DataFrame(pa_by_emer).reset_index().rename(columns ={\"index\": \"pumps_attending\", \"pumps_attending\" : \"Percentage\"})\n",
    "pa_by_emer"
   ]
  },
  {
   "cell_type": "code",
   "execution_count": 14,
   "id": "b522b839",
   "metadata": {},
   "outputs": [
    {
     "data": {
      "text/plain": [
       "Text(0.5, 0, 'Percentage')"
      ]
     },
     "execution_count": 14,
     "metadata": {},
     "output_type": "execute_result"
    },
    {
     "data": {
      "image/png": "[encoded data removed]",
      "text/plain": [
       "<Figure size 720x576 with 1 Axes>"
      ]
     },
     "metadata": {},
     "output_type": "display_data"
    }
   ],
   "source": [
    "#Make a bar chart of the results\n",
    "pa_by_emer[\"pumps_attending\"] = pa_by_emer[\"pumps_attending\"].astype(np.str)\n",
    "sns.set(rc = {'figure.figsize':(10,8)})\n",
    "sns.barplot(x=\"Percentage\", y = \"pumps_attending\", order = pa_by_emer[\"pumps_attending\"] \\\n",
    "                                            , data = pa_by_emer, color = \"mediumseagreen\")\n",
    "plt.title(\"Percentage of Pumps Attending Contributing to Real Emergencies\")\n",
    "plt.ylabel(\"Number of Pumps Attending\")\n",
    "plt.xlabel(\"Percentage\")"
   ]
  },
  {
   "cell_type": "markdown",
   "id": "9bf26b29",
   "metadata": {},
   "source": [
    "### Emergency Percentage by Number of Pumps Attending"
   ]
  },
  {
   "cell_type": "code",
   "execution_count": 15,
   "id": "915bed8a",
   "metadata": {},
   "outputs": [
    {
     "data": {
      "text/html": [
       "<div>\n",
       "<style scoped>\n",
       "    .dataframe tbody tr th:only-of-type {\n",
       "        vertical-align: middle;\n",
       "    }\n",
       "\n",
       "    .dataframe tbody tr th {\n",
       "        vertical-align: top;\n",
       "    }\n",
       "\n",
       "    .dataframe thead th {\n",
       "        text-align: right;\n",
       "    }\n",
       "</style>\n",
       "<table border=\"1\" class=\"dataframe\">\n",
       "  <thead>\n",
       "    <tr style=\"text-align: right;\">\n",
       "      <th></th>\n",
       "      <th>pumps_attending</th>\n",
       "      <th>mean</th>\n",
       "      <th>sum</th>\n",
       "    </tr>\n",
       "  </thead>\n",
       "  <tbody>\n",
       "    <tr>\n",
       "      <th>0</th>\n",
       "      <td>1.0</td>\n",
       "      <td>64.003602</td>\n",
       "      <td>9950</td>\n",
       "    </tr>\n",
       "    <tr>\n",
       "      <th>3</th>\n",
       "      <td>4.0</td>\n",
       "      <td>37.089872</td>\n",
       "      <td>260</td>\n",
       "    </tr>\n",
       "    <tr>\n",
       "      <th>2</th>\n",
       "      <td>3.0</td>\n",
       "      <td>32.873275</td>\n",
       "      <td>524</td>\n",
       "    </tr>\n",
       "    <tr>\n",
       "      <th>1</th>\n",
       "      <td>2.0</td>\n",
       "      <td>32.721334</td>\n",
       "      <td>2905</td>\n",
       "    </tr>\n",
       "  </tbody>\n",
       "</table>\n",
       "</div>"
      ],
      "text/plain": [
       "  pumps_attending       mean   sum\n",
       "0             1.0  64.003602  9950\n",
       "3             4.0  37.089872   260\n",
       "2             3.0  32.873275   524\n",
       "1             2.0  32.721334  2905"
      ]
     },
     "execution_count": 15,
     "metadata": {},
     "output_type": "execute_result"
    }
   ],
   "source": [
    "pa_grp = london.groupby(\"pumps_attending\")[\"Emergency\"].aggregate([\"mean\", \"sum\"])\n",
    "pa_grp = pa_grp.reset_index().sort_values(by = \"mean\", ascending=False)\n",
    "pa_grp[\"mean\"] *= 100\n",
    "pa_grp"
   ]
  },
  {
   "cell_type": "code",
   "execution_count": 16,
   "id": "ec0561ab",
   "metadata": {},
   "outputs": [
    {
     "data": {
      "text/plain": [
       "Text(0.5, 0, 'Percentage')"
      ]
     },
     "execution_count": 16,
     "metadata": {},
     "output_type": "execute_result"
    },
    {
     "data": {
      "image/png": "[encoded data removed]",
      "text/plain": [
       "<Figure size 720x576 with 1 Axes>"
      ]
     },
     "metadata": {},
     "output_type": "display_data"
    }
   ],
   "source": [
    "#Make a bar chart of the results\n",
    "sns.set(rc = {'figure.figsize':(10,8)})\n",
    "sns.barplot(x=\"mean\", y = \"pumps_attending\", order = pa_grp[\"pumps_attending\"] \\\n",
    "                                            , data = pa_grp, color = \"mediumseagreen\")\n",
    "plt.title(\"Emergency Percentage By Number of Pumps Attending\")\n",
    "plt.ylabel(\"Number of Pumps Attending\")\n",
    "plt.xlabel(\"Percentage\")"
   ]
  }
 ],
 "metadata": {
  "kernelspec": {
   "display_name": "Python 3",
   "language": "python",
   "name": "python3"
  },
  "language_info": {
   "codemirror_mode": {
    "name": "ipython",
    "version": 3
   },
   "file_extension": ".py",
   "mimetype": "text/x-python",
   "name": "python",
   "nbconvert_exporter": "python",
   "pygments_lexer": "ipython3",
   "version": "3.8.8"
  }
 },
 "nbformat": 4,
 "nbformat_minor": 5
}
