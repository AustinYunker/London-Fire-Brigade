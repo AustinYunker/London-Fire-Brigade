{
 "cells": [
  {
   "cell_type": "markdown",
   "id": "3b49928a",
   "metadata": {},
   "source": [
    "# Setup and Imports"
   ]
  },
  {
   "cell_type": "code",
   "execution_count": 8,
   "id": "2a8a746d",
   "metadata": {},
   "outputs": [],
   "source": [
    "import pandas as pd\n",
    "import numpy as np\n",
    "import london_data_functions as ldf\n",
    "import warnings\n",
    "from sklearn.pipeline import Pipeline\n",
    "from sklearn.preprocessing import StandardScaler\n",
    "from sklearn.preprocessing import OneHotEncoder\n",
    "from sklearn.compose import ColumnTransformer\n",
    "from sklearn.linear_model import LogisticRegression\n",
    "from sklearn.model_selection import cross_val_score\n",
    "from sklearn.model_selection import cross_val_predict\n",
    "from sklearn.metrics import confusion_matrix\n",
    "from sklearn.metrics import f1_score\n",
    "from sklearn.metrics import accuracy_score\n",
    "from sklearn.ensemble import RandomForestClassifier\n",
    "from sklearn.ensemble import ExtraTreesClassifier\n",
    "from sklearn.ensemble import VotingClassifier\n",
    "from sklearn.ensemble import GradientBoostingClassifier\n",
    "from sklearn.neighbors import KNeighborsClassifier\n",
    "from sklearn.naive_bayes import GaussianNB\n",
    "from sklearn.svm import LinearSVC\n",
    "from sklearn.model_selection import train_test_split\n",
    "from sklearn.model_selection import RandomizedSearchCV\n",
    "from scipy.stats import uniform\n",
    "import xgboost\n",
    "import pickle\n",
    "from sklearn.model_selection import ParameterSampler\n",
    "from scipy import sparse"
   ]
  },
  {
   "cell_type": "markdown",
   "id": "62f15bc6",
   "metadata": {},
   "source": [
    "# Get the Data"
   ]
  },
  {
   "cell_type": "code",
   "execution_count": 12,
   "id": "a3f7329b",
   "metadata": {},
   "outputs": [
    {
     "name": "stdout",
     "output_type": "stream",
     "text": [
      "Wall time: 7.76 s\n"
     ]
    }
   ],
   "source": [
    "%%time\n",
    "query = \"\"\"\n",
    "            SELECT incident_number, timestamp_of_call, incident_group, property_category, \n",
    "                    property_type, address_qualifier, borough_name, ward_name, \n",
    "                    first_pump_arriving_attendance_time as first_time, first_pump_arriving_deployed_from_station as first_station,\n",
    "                    num_stations_with_pumps_attending as station_pumps, num_pumps_attending as pumps_attending,\n",
    "                    FROM `gdac-327115.LondonFire.fire_brigade`\n",
    "        \"\"\"\n",
    "\n",
    "london = ldf.fetch_london_data(query_string=query, project_id = \"gdac-327115\", location = \"eu\")"
   ]
  },
  {
   "cell_type": "markdown",
   "id": "a5be925e",
   "metadata": {},
   "source": [
    "# Split the Data into Training and Test Sets"
   ]
  },
  {
   "cell_type": "code",
   "execution_count": 13,
   "id": "16f51235",
   "metadata": {},
   "outputs": [],
   "source": [
    "london_train, london_test = train_test_split(london, test_size = .16, stratify = london[\"incident_group\"], random_state = 42)"
   ]
  },
  {
   "cell_type": "markdown",
   "id": "109468dc",
   "metadata": {},
   "source": [
    "# Clean the Training Data"
   ]
  },
  {
   "cell_type": "code",
   "execution_count": 14,
   "id": "df2d516c",
   "metadata": {},
   "outputs": [
    {
     "name": "stdout",
     "output_type": "stream",
     "text": [
      "Cleaning London Data Started...\n",
      "\n",
      "Sucessfully Added Emergency Column!\n",
      "Sucessfully Added Month Column!\n",
      "Sucessfully Added Hour Column!\n",
      "Sucessfully Cleanded Property Category!\n",
      "Sucessfully Cleaned and Ranked Property Type!\n",
      "Sucessfully Cleaned Address!\n",
      "Sucessfully Cleaned Borough Names!\n",
      "Sucessfully Cleaned and Ranked Ward Names!\n",
      "Sucessfully Imputed Station Names!\n",
      "Sucessfully Ranked Stations!\n",
      "Sucessfully Cleaned Station Arriving Time!\n",
      "Sucessfully Cleaned Number of Stations with Pumps!\n",
      "Sucessfully Cleaned Number of Pumps Attending!\n",
      "Sucessfully Dropped Unecessary Columns!\n",
      "\n",
      "Sucessfully Cleaned London Data!\n"
     ]
    }
   ],
   "source": [
    "warnings.filterwarnings('ignore')\n",
    "london_train = ldf.clean_london(london_train)"
   ]
  },
  {
   "cell_type": "code",
   "execution_count": 30,
   "id": "46bd273c",
   "metadata": {},
   "outputs": [
    {
     "data": {
      "text/plain": [
       "property_category     object\n",
       "address_qualifier     object\n",
       "borough_name          object\n",
       "first_time           float64\n",
       "station_pumps         object\n",
       "pumps_attending       object\n",
       "Emergency              int64\n",
       "Month                 object\n",
       "Hour                  object\n",
       "pt_rank               object\n",
       "wn_rank               object\n",
       "stat_rank             object\n",
       "dtype: object"
      ]
     },
     "execution_count": 30,
     "metadata": {},
     "output_type": "execute_result"
    }
   ],
   "source": [
    "london_train.dtypes"
   ]
  },
  {
   "cell_type": "markdown",
   "id": "74ae0800",
   "metadata": {},
   "source": [
    "# Prepare the Data"
   ]
  },
  {
   "cell_type": "code",
   "execution_count": 18,
   "id": "fd524f8b",
   "metadata": {},
   "outputs": [],
   "source": [
    "def prepare_london(df, cat_attribs, num_attribs, target):\n",
    "    \"\"\"\n",
    "    \n",
    "    \"\"\"\n",
    "    #num_pipeline = Pipeline([\"std_scaler\", StandardScaler()])\n",
    "    cat_encoder = OneHotEncoder()\n",
    "    \n",
    "    full_pipeline = ColumnTransformer([\n",
    "        (\"num\", StandardScaler(), num_attribs),\n",
    "        (\"cat\", OneHotEncoder(), cat_attribs),\n",
    "    ])\n",
    "    \n",
    "    X = full_pipeline.fit_transform(df)\n",
    "    y = df[target]\n",
    "    \n",
    "    return X, y\n",
    "    "
   ]
  },
  {
   "cell_type": "code",
   "execution_count": 19,
   "id": "c1d97cb2",
   "metadata": {},
   "outputs": [],
   "source": [
    "cat_vars = [\"property_category\", \"address_qualifier\", \"borough_name\", \"station_pumps\", \"pumps_attending\", \"Month\", \n",
    "            \"Hour\", \"pt_rank\", \"wn_rank\", \"stat_rank\"]\n",
    "num_vars = [\"first_time\"]\n",
    "target = \"Emergency\"\n",
    "X, y = prepare_london(london_train, cat_vars, num_vars, target)"
   ]
  },
  {
   "cell_type": "code",
   "execution_count": 24,
   "id": "bf03b183",
   "metadata": {},
   "outputs": [
    {
     "name": "stdout",
     "output_type": "stream",
     "text": [
      "(26719, 109)\n",
      "(26719,)\n"
     ]
    }
   ],
   "source": [
    "print(X.shape)\n",
    "print(y.shape)"
   ]
  },
  {
   "cell_type": "code",
   "execution_count": 33,
   "id": "0db85d11",
   "metadata": {},
   "outputs": [
    {
     "name": "stdout",
     "output_type": "stream",
     "text": [
      "property_category\n",
      "4\n",
      "address_qualifier\n",
      "6\n",
      "borough_name\n",
      "33\n",
      "station_pumps\n",
      "4\n",
      "pumps_attending\n",
      "4\n",
      "Month\n",
      "4\n",
      "Hour\n",
      "24\n",
      "pt_rank\n",
      "12\n",
      "wn_rank\n",
      "10\n",
      "stat_rank\n",
      "7\n"
     ]
    }
   ],
   "source": [
    "feature_dim = 0\n",
    "\n",
    "for feature in london_train[cat_vars].columns:\n",
    "    print(feature)\n",
    "    print(len(london_train[feature].unique()))\n",
    "    feature_dim += len(london_train[feature].unique())\n",
    "    \n",
    "feature_dim += 1"
   ]
  },
  {
   "cell_type": "code",
   "execution_count": 34,
   "id": "1eecbaa8",
   "metadata": {},
   "outputs": [
    {
     "name": "stdout",
     "output_type": "stream",
     "text": [
      "109\n"
     ]
    }
   ],
   "source": [
    "print(feature_dim)"
   ]
  },
  {
   "cell_type": "code",
   "execution_count": 26,
   "id": "d16b8b35",
   "metadata": {},
   "outputs": [
    {
     "data": {
      "text/plain": [
       "Index(['property_category', 'address_qualifier', 'borough_name',\n",
       "       'station_pumps', 'pumps_attending', 'Month', 'Hour', 'pt_rank',\n",
       "       'wn_rank', 'stat_rank'],\n",
       "      dtype='object')"
      ]
     },
     "execution_count": 26,
     "metadata": {},
     "output_type": "execute_result"
    }
   ],
   "source": [
    "london_train[cat_vars].columns"
   ]
  },
  {
   "cell_type": "code",
   "execution_count": 15,
   "id": "5411a014",
   "metadata": {},
   "outputs": [
    {
     "data": {
      "text/html": [
       "<div>\n",
       "<style scoped>\n",
       "    .dataframe tbody tr th:only-of-type {\n",
       "        vertical-align: middle;\n",
       "    }\n",
       "\n",
       "    .dataframe tbody tr th {\n",
       "        vertical-align: top;\n",
       "    }\n",
       "\n",
       "    .dataframe thead th {\n",
       "        text-align: right;\n",
       "    }\n",
       "</style>\n",
       "<table border=\"1\" class=\"dataframe\">\n",
       "  <thead>\n",
       "    <tr style=\"text-align: right;\">\n",
       "      <th></th>\n",
       "      <th>property_category</th>\n",
       "      <th>address_qualifier</th>\n",
       "      <th>borough_name</th>\n",
       "      <th>first_time</th>\n",
       "      <th>station_pumps</th>\n",
       "      <th>pumps_attending</th>\n",
       "      <th>Emergency</th>\n",
       "      <th>Month</th>\n",
       "      <th>Hour</th>\n",
       "      <th>pt_rank</th>\n",
       "      <th>wn_rank</th>\n",
       "      <th>stat_rank</th>\n",
       "    </tr>\n",
       "  </thead>\n",
       "  <tbody>\n",
       "    <tr>\n",
       "      <th>0</th>\n",
       "      <td>Non Residential</td>\n",
       "      <td>Correct incident location</td>\n",
       "      <td>SOUTHWARK</td>\n",
       "      <td>331.0</td>\n",
       "      <td>1.0</td>\n",
       "      <td>1.0</td>\n",
       "      <td>0</td>\n",
       "      <td>4</td>\n",
       "      <td>18</td>\n",
       "      <td>1</td>\n",
       "      <td>4</td>\n",
       "      <td>4</td>\n",
       "    </tr>\n",
       "    <tr>\n",
       "      <th>1</th>\n",
       "      <td>Non Residential</td>\n",
       "      <td>Within same building</td>\n",
       "      <td>SOUTHWARK</td>\n",
       "      <td>525.0</td>\n",
       "      <td>1.0</td>\n",
       "      <td>1.0</td>\n",
       "      <td>1</td>\n",
       "      <td>3</td>\n",
       "      <td>17</td>\n",
       "      <td>1</td>\n",
       "      <td>4</td>\n",
       "      <td>4</td>\n",
       "    </tr>\n",
       "    <tr>\n",
       "      <th>2</th>\n",
       "      <td>Non Residential</td>\n",
       "      <td>Correct incident location</td>\n",
       "      <td>SOUTHWARK</td>\n",
       "      <td>258.0</td>\n",
       "      <td>1.0</td>\n",
       "      <td>1.0</td>\n",
       "      <td>1</td>\n",
       "      <td>4</td>\n",
       "      <td>17</td>\n",
       "      <td>1</td>\n",
       "      <td>4</td>\n",
       "      <td>4</td>\n",
       "    </tr>\n",
       "    <tr>\n",
       "      <th>3</th>\n",
       "      <td>Residential</td>\n",
       "      <td>Correct incident location</td>\n",
       "      <td>SOUTHWARK</td>\n",
       "      <td>413.0</td>\n",
       "      <td>1.0</td>\n",
       "      <td>1.0</td>\n",
       "      <td>1</td>\n",
       "      <td>2</td>\n",
       "      <td>21</td>\n",
       "      <td>5</td>\n",
       "      <td>4</td>\n",
       "      <td>4</td>\n",
       "    </tr>\n",
       "    <tr>\n",
       "      <th>4</th>\n",
       "      <td>Residential</td>\n",
       "      <td>Correct incident location</td>\n",
       "      <td>SOUTHWARK</td>\n",
       "      <td>220.0</td>\n",
       "      <td>2.0</td>\n",
       "      <td>2.0</td>\n",
       "      <td>0</td>\n",
       "      <td>4</td>\n",
       "      <td>10</td>\n",
       "      <td>5</td>\n",
       "      <td>4</td>\n",
       "      <td>4</td>\n",
       "    </tr>\n",
       "  </tbody>\n",
       "</table>\n",
       "</div>"
      ],
      "text/plain": [
       "  property_category          address_qualifier borough_name  first_time  \\\n",
       "0   Non Residential  Correct incident location    SOUTHWARK       331.0   \n",
       "1   Non Residential       Within same building    SOUTHWARK       525.0   \n",
       "2   Non Residential  Correct incident location    SOUTHWARK       258.0   \n",
       "3       Residential  Correct incident location    SOUTHWARK       413.0   \n",
       "4       Residential  Correct incident location    SOUTHWARK       220.0   \n",
       "\n",
       "  station_pumps pumps_attending  Emergency Month Hour pt_rank wn_rank  \\\n",
       "0           1.0             1.0          0     4   18       1       4   \n",
       "1           1.0             1.0          1     3   17       1       4   \n",
       "2           1.0             1.0          1     4   17       1       4   \n",
       "3           1.0             1.0          1     2   21       5       4   \n",
       "4           2.0             2.0          0     4   10       5       4   \n",
       "\n",
       "  stat_rank  \n",
       "0         4  \n",
       "1         4  \n",
       "2         4  \n",
       "3         4  \n",
       "4         4  "
      ]
     },
     "execution_count": 15,
     "metadata": {},
     "output_type": "execute_result"
    }
   ],
   "source": [
    "london_train.head()"
   ]
  },
  {
   "cell_type": "code",
   "execution_count": null,
   "id": "6aa26fa8",
   "metadata": {},
   "outputs": [],
   "source": [
    "def prepare_chicago_test(df, attribs):\n",
    "    \"\"\"\n",
    "    This function is just a convenient wrapper around the ColumnTransformer method for OneHotEncoding categorical features\n",
    "    specific to the test data\n",
    "    \n",
    "    df: DataFrame\n",
    "    attribs: Columns specified to be transformed. Expected data structure is a list\n",
    "    \n",
    "    returns: X(Sparse Matrix): y(Series)\n",
    "    \"\"\"\n",
    "    cat_encoder = OneHotEncoder()\n",
    "    X = cat_encoder.fit_transform(df[attribs])\n",
    "    \n",
    "    y = (df[\"arrest\"] == True).astype(np.int)\n",
    "    return X, y"
   ]
  },
  {
   "cell_type": "code",
   "execution_count": null,
   "id": "d28aaf35",
   "metadata": {},
   "outputs": [],
   "source": []
  }
 ],
 "metadata": {
  "kernelspec": {
   "display_name": "Python 3",
   "language": "python",
   "name": "python3"
  },
  "language_info": {
   "codemirror_mode": {
    "name": "ipython",
    "version": 3
   },
   "file_extension": ".py",
   "mimetype": "text/x-python",
   "name": "python",
   "nbconvert_exporter": "python",
   "pygments_lexer": "ipython3",
   "version": "3.8.8"
  }
 },
 "nbformat": 4,
 "nbformat_minor": 5
}
