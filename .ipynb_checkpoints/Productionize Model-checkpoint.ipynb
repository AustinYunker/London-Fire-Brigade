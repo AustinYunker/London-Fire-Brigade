{
 "cells": [
  {
   "cell_type": "markdown",
   "id": "75abf085",
   "metadata": {},
   "source": [
    "# Setup and Imports"
   ]
  },
  {
   "cell_type": "code",
   "execution_count": 47,
   "id": "27329a90",
   "metadata": {},
   "outputs": [],
   "source": [
    "import pandas as pd\n",
    "import numpy as np\n",
    "import london_data_functions as ldf\n",
    "import warnings\n",
    "import pickle\n",
    "from datetime import datetime\n",
    "from sklearn.pipeline import Pipeline\n",
    "from sklearn.preprocessing import StandardScaler\n",
    "from sklearn.preprocessing import OneHotEncoder\n",
    "from sklearn.compose import ColumnTransformer"
   ]
  },
  {
   "cell_type": "markdown",
   "id": "ac7ad499",
   "metadata": {},
   "source": [
    "# Get the Data"
   ]
  },
  {
   "cell_type": "code",
   "execution_count": 5,
   "id": "79d74e65",
   "metadata": {},
   "outputs": [
    {
     "name": "stdout",
     "output_type": "stream",
     "text": [
      "Wall time: 5.21 s\n"
     ]
    }
   ],
   "source": [
    "%%time\n",
    "query = \"\"\"\n",
    "            SELECT incident_number, timestamp_of_call, incident_group, property_category, \n",
    "                    address_qualifier, borough_name, first_pump_arriving_attendance_time as first_time,\n",
    "                    num_stations_with_pumps_attending as station_pumps, num_pumps_attending as pumps_attending,\n",
    "                    FROM `gdac-327115.LondonFire.fire_brigade`\n",
    "        \"\"\"\n",
    "\n",
    "london = ldf.fetch_london_data(query_string=query, project_id = \"gdac-327115\", location = \"eu\")"
   ]
  },
  {
   "cell_type": "markdown",
   "id": "b322287e",
   "metadata": {},
   "source": [
    "# Clean the Data"
   ]
  },
  {
   "cell_type": "code",
   "execution_count": 10,
   "id": "7d5df5ad",
   "metadata": {},
   "outputs": [
    {
     "name": "stdout",
     "output_type": "stream",
     "text": [
      "Cleaning London Data Started...\n",
      "\n",
      "Sucessfully Added Emergency Column!\n",
      "Sucessfully Added Month Column!\n",
      "Sucessfully Added Hour Column!\n",
      "Sucessfully Cleanded Property Category!\n",
      "Sucessfully Cleaned Address!\n",
      "Sucessfully Cleaned Borough Names!\n",
      "Sucessfully Cleaned Station Arriving Time!\n",
      "Sucessfully Cleaned Number of Stations with Pumps!\n",
      "Sucessfully Cleaned Number of Pumps Attending!\n",
      "Sucessfully Dropped Unecessary Columns!\n",
      "\n",
      "Sucessfully Cleaned London Data!\n"
     ]
    }
   ],
   "source": [
    "warnings.filterwarnings('ignore')\n",
    "london = ldf.clean_london(london, verbose = True)"
   ]
  },
  {
   "cell_type": "markdown",
   "id": "70a5dd62",
   "metadata": {},
   "source": [
    "# Load in Model"
   ]
  },
  {
   "cell_type": "code",
   "execution_count": 4,
   "id": "97adb46a",
   "metadata": {},
   "outputs": [
    {
     "data": {
      "text/plain": [
       "LogisticRegression(C=0.1, max_iter=10000, random_state=42)"
      ]
     },
     "execution_count": 4,
     "metadata": {},
     "output_type": "execute_result"
    }
   ],
   "source": [
    "model = pickle.load(open(\"best_model.sav\", 'rb'))\n",
    "model"
   ]
  },
  {
   "cell_type": "markdown",
   "id": "2afe692b",
   "metadata": {},
   "source": [
    "# Create Helper Functions"
   ]
  },
  {
   "cell_type": "code",
   "execution_count": 7,
   "id": "113fd6c5",
   "metadata": {},
   "outputs": [],
   "source": [
    "def str_to_date(date_str, time_str):\n",
    "    \"\"\"\n",
    "    This function takes takes a date and time string and concatenates them together. Finally, it returns a datetime object.\n",
    "    \n",
    "    date_str: string containing the date in form mm/dd/yyyy\n",
    "    time_str: string containing the time in form hh:mm:ss\n",
    "    \n",
    "    returns: datetime object \n",
    "    \"\"\"\n",
    "    crime_time = date_str + \" \" + time_str\n",
    "    return datetime.strptime(crime_time, \"%m/%d/%Y %H:%M:%S\")"
   ]
  },
  {
   "cell_type": "code",
   "execution_count": 32,
   "id": "54c1031d",
   "metadata": {},
   "outputs": [],
   "source": [
    "def user_input():\n",
    "    \"\"\"\n",
    "    This function asks the user for the new crime details. It then converts the input to the form found in the original\n",
    "    dataframe. \n",
    "    \n",
    "    returns: DataFrame with the crime details\n",
    "    \"\"\"\n",
    "    property_category = str.upper(input(\"Enter the property category: \"))\n",
    "    \n",
    "    address = str.upper(input(\"Enter the address qualifier: \"))\n",
    "    \n",
    "    borough = str.upper(input(\"Enter the borough name: \"))\n",
    "    \n",
    "    first_time = np.float64((input(\"Enter the pump arriving time: \")))\n",
    "    \n",
    "    station_pumps = np.str(input(\"Enter the number of stations with pumps attending: \"))\n",
    "    \n",
    "    pumps_attending = np.str(input(\"Enter the number of pumps attending: \"))\n",
    "    \n",
    "    date = input(\"Date of Crime (mm/dd/yyy): \")\n",
    "    \n",
    "    hour = input(\"Time of Crime (hh:mm:ss): \")\n",
    "    \n",
    "    date_time = str_to_date(date, hour)\n",
    "    \n",
    "    new_crime_df = pd.DataFrame({\"timestamp_of_call\": date_time, \"property_category\": property_category, \n",
    "                                 \"address_qualifier\": address, \"borough_name\": borough,  \n",
    "                                 \"first_time\": first_time, \"station_pumps\": station_pumps,\n",
    "                                 \"pumps_attending\": pumps_attending}, index = [1])\n",
    "    \n",
    "    return new_crime_df"
   ]
  },
  {
   "cell_type": "code",
   "execution_count": 59,
   "id": "c7a35c54",
   "metadata": {},
   "outputs": [],
   "source": [
    "def clean_new_instance(df):\n",
    "    \"\"\"\n",
    "    This function cleans the new instance. It uses functions from the london data functions module.\n",
    "    \n",
    "    params:\n",
    "        df - dataframe with necessary columns\n",
    "    \"\"\"\n",
    "    #Merge the property categories if necessary\n",
    "    ldf.merge_property(df)\n",
    "    #Merge the property categories if necessary\n",
    "    ldf.merge_address(df)\n",
    "    #Create the column for month\n",
    "    ldf.create_month(df)\n",
    "    #Create the column for hour\n",
    "    ldf.create_hour(df)"
   ]
  },
  {
   "cell_type": "code",
   "execution_count": 93,
   "id": "9ada8ab3",
   "metadata": {},
   "outputs": [],
   "source": [
    "def unique_column_values(df, cat_vars):\n",
    "    \"\"\"\n",
    "    This function creates lists containing the unique values for each variable in the london data set. It returns a list of\n",
    "    lists for each variable\n",
    "    \n",
    "    params:\n",
    "        df - dataframe \n",
    "    \n",
    "    returns:\n",
    "        list of list with unique values for each variable\n",
    "    \"\"\"\n",
    "    feature_list = list()\n",
    "    for feature in df[cat_vars].columns:\n",
    "        feature_list.append([str.upper(element) for element in df[feature].unique()])\n",
    "    return feature_list"
   ]
  },
  {
   "cell_type": "code",
   "execution_count": 99,
   "id": "255a47c1",
   "metadata": {},
   "outputs": [],
   "source": [
    "def prepare_new_instance(df, cat_vars, num_vars, unique_vals_per_attrib):\n",
    "    \"\"\"\n",
    "    This function prepares a new crime instance by one hot encoding the variables. It specifies the categories from the \n",
    "    original data set.\n",
    "    \n",
    "    params:\n",
    "        df - dataframe containing the new crime instance\n",
    "        unique_vals_per_attrib: List of list containing the unique values for each variable\n",
    "    \n",
    "    returns: X (sparse matrix)\n",
    "    \"\"\"\n",
    "    \n",
    "    df.drop(\"timestamp_of_call\", axis = 1, inplace = False)\n",
    " \n",
    "    full_pipeline = ColumnTransformer([\n",
    "        (\"num\", StandardScaler(), num_vars),\n",
    "        (\"cat\", OneHotEncoder(categories=unique_vals_per_attrib), cat_vars),\n",
    "    ])\n",
    "    \n",
    "    X = full_pipeline.fit_transform(df)\n",
    "    return X\n",
    "    "
   ]
  },
  {
   "cell_type": "code",
   "execution_count": 106,
   "id": "7530403f",
   "metadata": {},
   "outputs": [],
   "source": [
    "def make_prediction(X, model, probability = True):\n",
    "    \"\"\"\n",
    "    This function makes the prediction on the new crime instance. It can return either the predicted probability or class. \n",
    "    \n",
    "    X (Sparse matrix)\n",
    "    model: Model capable of making returning a predicted probability or class\n",
    "    probability: Specifies if the function should return a predicted probability or class\n",
    "    \"\"\"\n",
    "    if probability:\n",
    "        return model.predict_proba(X)\n",
    "    else:\n",
    "        return model.predict(X)"
   ]
  },
  {
   "cell_type": "code",
   "execution_count": 129,
   "id": "f7b3d98e",
   "metadata": {},
   "outputs": [],
   "source": [
    "def london_emergency_prediction(df, model):\n",
    "    \"\"\"\n",
    "    This is the main function for turning a user's input into a predicted response. It contains functions that get the input, \n",
    "    clean it, transform it to the correct form for the model and finally outputs a predicted probability of success. \n",
    "    \n",
    "    params:\n",
    "        df - dataframe of past instances\n",
    "        model - model capable of giving a predicted probability\n",
    "    \n",
    "    \"\"\"\n",
    "    #Enter the new incident\n",
    "    new_incident = user_input()\n",
    "    #Clean the new incident\n",
    "    clean_new_instance(new_incident)\n",
    "    #Create two list with the categorical and numerical features to be used.\n",
    "    cat_vars = [\"property_category\", \"address_qualifier\", \"borough_name\", \"station_pumps\", \"pumps_attending\", \"Month\", \"Hour\"]\n",
    "    num_vars = [\"first_time\"]\n",
    "    #Generate the unique values per column\n",
    "    unique_vals = unique_column_values(df, cat_vars=cat_vars)\n",
    "    #Prepare the new instance by one-hot encoding the features\n",
    "    prepared_emergency = prepare_new_instance(new_incident, cat_vars=cat_vars, num_vars=num_vars, unique_vals_per_attrib=unique_vals)\n",
    "    #Get the predicted probability\n",
    "    emergency_prediction = make_prediction(prepared_emergency, model, probability=True)\n",
    "    #Change the prediction to a percentage\n",
    "    chance = np.round(emergency_prediction[0][1], 4) * 100\n",
    "    #Print the chance of the emergency being real\n",
    "    print(f\"\\nThe model predicts a {chance:.2f}% chance that the incident is a real emergency\")"
   ]
  },
  {
   "cell_type": "markdown",
   "id": "2f5bd637",
   "metadata": {},
   "source": [
    "# Example: New Instances"
   ]
  },
  {
   "cell_type": "code",
   "execution_count": 130,
   "id": "1752f06e",
   "metadata": {},
   "outputs": [
    {
     "name": "stdout",
     "output_type": "stream",
     "text": [
      "Enter the property category: residential\n",
      "Enter the address qualifier: within same building\n",
      "Enter the borough name: hounslow\n",
      "Enter the pump arriving time: 2\n",
      "Enter the number of stations with pumps attending: 1.0\n",
      "Enter the number of pumps attending: 1.0\n",
      "Date of Crime (mm/dd/yyy): 03/03/2022\n",
      "Time of Crime (hh:mm:ss): 18:30:30\n",
      "\n",
      "The model predicts a 89.73% chance that the incident is a real emergency\n"
     ]
    }
   ],
   "source": [
    "london_emergency_prediction(london, model = model)"
   ]
  },
  {
   "cell_type": "code",
   "execution_count": null,
   "id": "99abd7a4",
   "metadata": {},
   "outputs": [],
   "source": []
  }
 ],
 "metadata": {
  "kernelspec": {
   "display_name": "Python 3",
   "language": "python",
   "name": "python3"
  },
  "language_info": {
   "codemirror_mode": {
    "name": "ipython",
    "version": 3
   },
   "file_extension": ".py",
   "mimetype": "text/x-python",
   "name": "python",
   "nbconvert_exporter": "python",
   "pygments_lexer": "ipython3",
   "version": "3.8.8"
  }
 },
 "nbformat": 4,
 "nbformat_minor": 5
}
