{
 "cells": [
  {
   "cell_type": "markdown",
   "id": "7ac3c5a0",
   "metadata": {},
   "source": [
    "# Setup and Imports"
   ]
  },
  {
   "cell_type": "code",
   "execution_count": 1,
   "id": "4198a7c2",
   "metadata": {},
   "outputs": [],
   "source": [
    "import pandas as pd\n",
    "import numpy as np\n",
    "import matplotlib.pyplot as plt\n",
    "import seaborn as sns\n",
    "sns.set\n",
    "import warnings\n",
    "#from pandas.io import gbq\n",
    "import london_data_functions as ldf\n",
    "from sklearn.model_selection import train_test_split"
   ]
  },
  {
   "cell_type": "markdown",
   "id": "73555a7b",
   "metadata": {},
   "source": [
    "# Get the Data"
   ]
  },
  {
   "cell_type": "code",
   "execution_count": 22,
   "id": "d6fe5606",
   "metadata": {},
   "outputs": [
    {
     "name": "stdout",
     "output_type": "stream",
     "text": [
      "Wall time: 7.09 s\n"
     ]
    }
   ],
   "source": [
    "%%time\n",
    "query = \"\"\"\n",
    "            SELECT incident_number, timestamp_of_call, incident_group, property_category, \n",
    "                    property_type, address_qualifier, borough_name, ward_name, \n",
    "                    first_pump_arriving_attendance_time as first_time, first_pump_arriving_deployed_from_station as first_station,\n",
    "                    num_stations_with_pumps_attending as station_pumps, num_pumps_attending as pumps_attending,\n",
    "                    FROM `gdac-327115.LondonFire.fire_brigade`\n",
    "        \"\"\"\n",
    "\n",
    "london = ldf.fetch_london_data(query_string=query, project_id = \"gdac-327115\", location = \"eu\")"
   ]
  },
  {
   "cell_type": "markdown",
   "id": "09aa78b4",
   "metadata": {},
   "source": [
    "# Split the Data into Training and Test Sets"
   ]
  },
  {
   "cell_type": "code",
   "execution_count": 28,
   "id": "37cf540c",
   "metadata": {},
   "outputs": [],
   "source": [
    "london, _ = train_test_split(london, test_size = .16, stratify = london[\"incident_group\"], random_state = 42)"
   ]
  },
  {
   "cell_type": "markdown",
   "id": "ed21bdfd",
   "metadata": {},
   "source": [
    "# Clean the Data"
   ]
  },
  {
   "cell_type": "code",
   "execution_count": 25,
   "id": "3757446d",
   "metadata": {},
   "outputs": [
    {
     "name": "stdout",
     "output_type": "stream",
     "text": [
      "Cleaning London Data Started...\n",
      "\n",
      "Sucessfully Added Emergency Column!\n",
      "Sucessfully Added Month Column!\n",
      "Sucessfully Added Hour Column!\n",
      "Sucessfully Cleanded Property Category!\n",
      "Sucessfully Cleaned and Ranked Property Type!\n",
      "Sucessfully Cleaned Address!\n",
      "Sucessfully Cleaned Borough Names!\n",
      "Sucessfully Cleaned and Ranked Ward Names!\n",
      "Sucessfully Imputed Station Names!\n",
      "Sucessfully Ranked Stations!\n",
      "Sucessfully Cleaned Station Arriving Time!\n",
      "Sucessfully Cleaned Number of Stations with Pumps!\n",
      "Sucessfully Cleaned Number of Pumps Attending!\n",
      "Sucessfully Dropped Unecessary Columns!\n",
      "\n",
      "Sucessfully Cleaned London Data!\n"
     ]
    }
   ],
   "source": [
    "warnings.filterwarnings('ignore')\n",
    "london_t = ldf.clean_london(london_t)"
   ]
  }
 ],
 "metadata": {
  "kernelspec": {
   "display_name": "Python 3",
   "language": "python",
   "name": "python3"
  },
  "language_info": {
   "codemirror_mode": {
    "name": "ipython",
    "version": 3
   },
   "file_extension": ".py",
   "mimetype": "text/x-python",
   "name": "python",
   "nbconvert_exporter": "python",
   "pygments_lexer": "ipython3",
   "version": "3.8.8"
  }
 },
 "nbformat": 4,
 "nbformat_minor": 5
}
