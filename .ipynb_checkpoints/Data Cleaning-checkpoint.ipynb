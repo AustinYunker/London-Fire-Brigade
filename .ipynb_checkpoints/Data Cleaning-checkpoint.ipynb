{
 "cells": [
  {
   "cell_type": "markdown",
   "id": "ab4cd782",
   "metadata": {},
   "source": [
    "# Setup and Imports"
   ]
  },
  {
   "cell_type": "code",
   "execution_count": 1,
   "id": "038c0a20",
   "metadata": {},
   "outputs": [],
   "source": [
    "import pandas as pd\n",
    "import numpy as np\n",
    "import matplotlib.pyplot as plt\n",
    "%matplotlib inline\n",
    "import seaborn as sns\n",
    "sns.set\n",
    "import warnings\n",
    "from pandas.io import gbq\n",
    "from sklearn.model_selection import train_test_split"
   ]
  },
  {
   "cell_type": "markdown",
   "id": "9fb6c275",
   "metadata": {},
   "source": [
    "# Get the Data"
   ]
  },
  {
   "cell_type": "code",
   "execution_count": 59,
   "id": "04101f19",
   "metadata": {},
   "outputs": [
    {
     "name": "stdout",
     "output_type": "stream",
     "text": [
      "Wall time: 7.23 s\n"
     ]
    }
   ],
   "source": [
    "%%time\n",
    "query = \"\"\"\n",
    "            SELECT incident_number, timestamp_of_call, incident_group, stop_code_description, property_category, \n",
    "                    property_type, address_qualifier, borough_name, ward_name, \n",
    "                    first_pump_arriving_attendance_time as first_time, first_pump_arriving_deployed_from_station as first_station,\n",
    "                    second_pump_arriving_attendance_time as second_time, second_pump_arriving_deployed_from_station as second_station, \n",
    "                    num_stations_with_pumps_attending as station_pumps, num_pumps_attending as pumps_attending,\n",
    "                    FROM `gdac-327115.LondonFire.fire_brigade`\n",
    "        \"\"\"\n",
    "\n",
    "london = gbq.read_gbq(query, project_id = \"gdac-327115\", location=\"eu\")"
   ]
  },
  {
   "cell_type": "code",
   "execution_count": 380,
   "id": "02832466",
   "metadata": {},
   "outputs": [
    {
     "data": {
      "text/plain": [
       "(32247, 16)"
      ]
     },
     "execution_count": 380,
     "metadata": {},
     "output_type": "execute_result"
    }
   ],
   "source": [
    "#Check the shape\n",
    "london.shape"
   ]
  },
  {
   "cell_type": "code",
   "execution_count": 584,
   "id": "7e535ff3",
   "metadata": {},
   "outputs": [
    {
     "data": {
      "text/html": [
       "<div>\n",
       "<style scoped>\n",
       "    .dataframe tbody tr th:only-of-type {\n",
       "        vertical-align: middle;\n",
       "    }\n",
       "\n",
       "    .dataframe tbody tr th {\n",
       "        vertical-align: top;\n",
       "    }\n",
       "\n",
       "    .dataframe thead th {\n",
       "        text-align: right;\n",
       "    }\n",
       "</style>\n",
       "<table border=\"1\" class=\"dataframe\">\n",
       "  <thead>\n",
       "    <tr style=\"text-align: right;\">\n",
       "      <th></th>\n",
       "      <th>incident_number</th>\n",
       "      <th>timestamp_of_call</th>\n",
       "      <th>incident_group</th>\n",
       "      <th>stop_code_description</th>\n",
       "      <th>property_category</th>\n",
       "      <th>property_type</th>\n",
       "      <th>address_qualifier</th>\n",
       "      <th>borough_name</th>\n",
       "      <th>ward_name</th>\n",
       "      <th>first_time</th>\n",
       "      <th>first_station</th>\n",
       "      <th>second_time</th>\n",
       "      <th>second_station</th>\n",
       "      <th>station_pumps</th>\n",
       "      <th>pumps_attending</th>\n",
       "    </tr>\n",
       "  </thead>\n",
       "  <tbody>\n",
       "    <tr>\n",
       "      <th>0</th>\n",
       "      <td>000320-01012017</td>\n",
       "      <td>2017-01-01 15:30:22+00:00</td>\n",
       "      <td>False Alarm</td>\n",
       "      <td>AFA</td>\n",
       "      <td>Dwelling</td>\n",
       "      <td>Purpose Built Flats/Maisonettes - Up to 3 stor...</td>\n",
       "      <td>Within same building</td>\n",
       "      <td>NOT GEO-CODED</td>\n",
       "      <td>Not geo-coded</td>\n",
       "      <td>&lt;NA&gt;</td>\n",
       "      <td>None</td>\n",
       "      <td>&lt;NA&gt;</td>\n",
       "      <td>None</td>\n",
       "      <td>2</td>\n",
       "      <td>2</td>\n",
       "    </tr>\n",
       "    <tr>\n",
       "      <th>1</th>\n",
       "      <td>003727-09012017</td>\n",
       "      <td>2017-01-09 10:41:54+00:00</td>\n",
       "      <td>False Alarm</td>\n",
       "      <td>AFA</td>\n",
       "      <td>Dwelling</td>\n",
       "      <td>House - single occupancy</td>\n",
       "      <td>Correct incident location</td>\n",
       "      <td>NOT GEO-CODED</td>\n",
       "      <td>Not geo-coded</td>\n",
       "      <td>&lt;NA&gt;</td>\n",
       "      <td>None</td>\n",
       "      <td>&lt;NA&gt;</td>\n",
       "      <td>None</td>\n",
       "      <td>2</td>\n",
       "      <td>2</td>\n",
       "    </tr>\n",
       "    <tr>\n",
       "      <th>2</th>\n",
       "      <td>003762-09012017</td>\n",
       "      <td>2017-01-09 12:28:39+00:00</td>\n",
       "      <td>False Alarm</td>\n",
       "      <td>AFA</td>\n",
       "      <td>Dwelling</td>\n",
       "      <td>House - single occupancy</td>\n",
       "      <td>Correct incident location</td>\n",
       "      <td>NOT GEO-CODED</td>\n",
       "      <td>Not geo-coded</td>\n",
       "      <td>&lt;NA&gt;</td>\n",
       "      <td>None</td>\n",
       "      <td>&lt;NA&gt;</td>\n",
       "      <td>None</td>\n",
       "      <td>2</td>\n",
       "      <td>2</td>\n",
       "    </tr>\n",
       "    <tr>\n",
       "      <th>3</th>\n",
       "      <td>006403-16012017</td>\n",
       "      <td>2017-01-16 04:02:14+00:00</td>\n",
       "      <td>False Alarm</td>\n",
       "      <td>AFA</td>\n",
       "      <td>Dwelling</td>\n",
       "      <td>Purpose Built Flats/Maisonettes - Up to 3 stor...</td>\n",
       "      <td>Correct incident location</td>\n",
       "      <td>NOT GEO-CODED</td>\n",
       "      <td>Not geo-coded</td>\n",
       "      <td>&lt;NA&gt;</td>\n",
       "      <td>None</td>\n",
       "      <td>&lt;NA&gt;</td>\n",
       "      <td>None</td>\n",
       "      <td>2</td>\n",
       "      <td>2</td>\n",
       "    </tr>\n",
       "    <tr>\n",
       "      <th>4</th>\n",
       "      <td>010947-26012017</td>\n",
       "      <td>2017-01-26 11:14:03+00:00</td>\n",
       "      <td>False Alarm</td>\n",
       "      <td>AFA</td>\n",
       "      <td>Dwelling</td>\n",
       "      <td>House - single occupancy</td>\n",
       "      <td>Correct incident location</td>\n",
       "      <td>NOT GEO-CODED</td>\n",
       "      <td>Not geo-coded</td>\n",
       "      <td>&lt;NA&gt;</td>\n",
       "      <td>None</td>\n",
       "      <td>&lt;NA&gt;</td>\n",
       "      <td>None</td>\n",
       "      <td>1</td>\n",
       "      <td>1</td>\n",
       "    </tr>\n",
       "  </tbody>\n",
       "</table>\n",
       "</div>"
      ],
      "text/plain": [
       "   incident_number         timestamp_of_call incident_group  \\\n",
       "0  000320-01012017 2017-01-01 15:30:22+00:00    False Alarm   \n",
       "1  003727-09012017 2017-01-09 10:41:54+00:00    False Alarm   \n",
       "2  003762-09012017 2017-01-09 12:28:39+00:00    False Alarm   \n",
       "3  006403-16012017 2017-01-16 04:02:14+00:00    False Alarm   \n",
       "4  010947-26012017 2017-01-26 11:14:03+00:00    False Alarm   \n",
       "\n",
       "  stop_code_description property_category  \\\n",
       "0                   AFA          Dwelling   \n",
       "1                   AFA          Dwelling   \n",
       "2                   AFA          Dwelling   \n",
       "3                   AFA          Dwelling   \n",
       "4                   AFA          Dwelling   \n",
       "\n",
       "                                       property_type  \\\n",
       "0  Purpose Built Flats/Maisonettes - Up to 3 stor...   \n",
       "1                          House - single occupancy    \n",
       "2                          House - single occupancy    \n",
       "3  Purpose Built Flats/Maisonettes - Up to 3 stor...   \n",
       "4                          House - single occupancy    \n",
       "\n",
       "           address_qualifier    borough_name       ward_name  first_time  \\\n",
       "0       Within same building   NOT GEO-CODED   Not geo-coded        <NA>   \n",
       "1  Correct incident location   NOT GEO-CODED   Not geo-coded        <NA>   \n",
       "2  Correct incident location   NOT GEO-CODED   Not geo-coded        <NA>   \n",
       "3  Correct incident location   NOT GEO-CODED   Not geo-coded        <NA>   \n",
       "4  Correct incident location   NOT GEO-CODED   Not geo-coded        <NA>   \n",
       "\n",
       "  first_station  second_time second_station  station_pumps  pumps_attending  \n",
       "0          None         <NA>           None              2                2  \n",
       "1          None         <NA>           None              2                2  \n",
       "2          None         <NA>           None              2                2  \n",
       "3          None         <NA>           None              2                2  \n",
       "4          None         <NA>           None              1                1  "
      ]
     },
     "execution_count": 584,
     "metadata": {},
     "output_type": "execute_result"
    }
   ],
   "source": [
    "#View the first few rows\n",
    "london.head()"
   ]
  },
  {
   "cell_type": "code",
   "execution_count": 382,
   "id": "f22d730f",
   "metadata": {},
   "outputs": [
    {
     "data": {
      "text/plain": [
       "incident_number                                            object\n",
       "timestamp_of_call                             datetime64[ns, UTC]\n",
       "incident_group                                             object\n",
       "stop_code_description                                      object\n",
       "property_category                                          object\n",
       "property_type                                              object\n",
       "address_qualifier                                          object\n",
       "postcode_district                                          object\n",
       "borough_name                                               object\n",
       "ward_name                                                  object\n",
       "first_pump_arriving_attendance_time                         Int64\n",
       "first_pump_arriving_deployed_from_station                  object\n",
       "second_pump_arriving_attendance_time                        Int64\n",
       "second_pump_arriving_deployed_from_station                 object\n",
       "num_stations_with_pumps_attending                           Int64\n",
       "num_pumps_attending                                         Int64\n",
       "dtype: object"
      ]
     },
     "execution_count": 382,
     "metadata": {},
     "output_type": "execute_result"
    }
   ],
   "source": [
    "london.dtypes"
   ]
  },
  {
   "cell_type": "code",
   "execution_count": 383,
   "id": "740f025f",
   "metadata": {},
   "outputs": [
    {
     "data": {
      "text/plain": [
       "incident_number                                   0\n",
       "timestamp_of_call                                 0\n",
       "incident_group                                    0\n",
       "stop_code_description                             0\n",
       "property_category                                 0\n",
       "property_type                                     0\n",
       "address_qualifier                                 0\n",
       "postcode_district                                 0\n",
       "borough_name                                      0\n",
       "ward_name                                         0\n",
       "first_pump_arriving_attendance_time            1819\n",
       "first_pump_arriving_deployed_from_station      1819\n",
       "second_pump_arriving_attendance_time          20281\n",
       "second_pump_arriving_deployed_from_station    20281\n",
       "num_stations_with_pumps_attending                68\n",
       "num_pumps_attending                              68\n",
       "dtype: int64"
      ]
     },
     "execution_count": 383,
     "metadata": {},
     "output_type": "execute_result"
    }
   ],
   "source": [
    "#Check for missing values\n",
    "london.isnull().sum()"
   ]
  },
  {
   "cell_type": "markdown",
   "id": "a3ed50eb",
   "metadata": {},
   "source": [
    "Since \"second_pump_arriving_attendance_time\" and \"second_pump_arriving_deployed_from_station\" have most of their values missing, we'll drop those from the analysis. "
   ]
  },
  {
   "cell_type": "code",
   "execution_count": 60,
   "id": "9a76ddf8",
   "metadata": {},
   "outputs": [],
   "source": [
    "london.drop([\"second_time\", \"second_station\"], axis=1, inplace=True)"
   ]
  },
  {
   "cell_type": "markdown",
   "id": "5f8bf06a",
   "metadata": {},
   "source": [
    "# Split the Data into Training and Test Sets"
   ]
  },
  {
   "cell_type": "markdown",
   "id": "2ed350f4",
   "metadata": {},
   "source": [
    "Since we are going to be predicting if the call is a false alarm, we'll want to our test observations to be the newest in the data set. "
   ]
  },
  {
   "cell_type": "code",
   "execution_count": 385,
   "id": "88b59b6b",
   "metadata": {},
   "outputs": [
    {
     "data": {
      "text/plain": [
       "2017    32247\n",
       "Name: timestamp_of_call, dtype: int64"
      ]
     },
     "execution_count": 385,
     "metadata": {},
     "output_type": "execute_result"
    }
   ],
   "source": [
    "london[\"timestamp_of_call\"].dt.year.value_counts()"
   ]
  },
  {
   "cell_type": "markdown",
   "id": "8f57f461",
   "metadata": {},
   "source": [
    "We see that all of our observations are from the same year, therefore we can just randomly split the data. However, let's first check the proportion of calls that ended up being a false alarm.  "
   ]
  },
  {
   "cell_type": "code",
   "execution_count": 386,
   "id": "6564c49e",
   "metadata": {},
   "outputs": [
    {
     "data": {
      "text/plain": [
       "False Alarm        15732\n",
       "Special Service    10081\n",
       "Fire                6434\n",
       "Name: incident_group, dtype: int64"
      ]
     },
     "execution_count": 386,
     "metadata": {},
     "output_type": "execute_result"
    }
   ],
   "source": [
    "london[\"incident_group\"].value_counts()"
   ]
  },
  {
   "cell_type": "markdown",
   "id": "2899d672",
   "metadata": {},
   "source": [
    "Not all incidents were either a Fire or False Alarm. There is a third category, Special Service, as well. Since the entire purpose of this project is to reduce the number of false alarms that the department wastes its resources on, we'll combine Special Services and the Fire into one category called Emergency. We could have dropped all incidents with Special Service. However, the fire department has to respond to those types of calls so it's important to include them. "
   ]
  },
  {
   "cell_type": "code",
   "execution_count": 61,
   "id": "8bdd3f5a",
   "metadata": {},
   "outputs": [],
   "source": [
    "emergency = [\"Special Service\", \"Fire\"]\n",
    "\n",
    "london[\"incident_group\"].replace(emergency, \"Emergency\", inplace = True)"
   ]
  },
  {
   "cell_type": "code",
   "execution_count": 5,
   "id": "67d0e083",
   "metadata": {},
   "outputs": [
    {
     "data": {
      "text/plain": [
       "Emergency      0.512141\n",
       "False Alarm    0.487859\n",
       "Name: incident_group, dtype: float64"
      ]
     },
     "execution_count": 5,
     "metadata": {},
     "output_type": "execute_result"
    }
   ],
   "source": [
    "london[\"incident_group\"].value_counts() / london.shape[0]"
   ]
  },
  {
   "cell_type": "code",
   "execution_count": 62,
   "id": "f66bb742",
   "metadata": {},
   "outputs": [],
   "source": [
    "#Finally split the data\n",
    "london_train, london_test = train_test_split(london, test_size = .15, stratify = london[\"incident_group\"], random_state=42)"
   ]
  },
  {
   "cell_type": "code",
   "execution_count": 95,
   "id": "cf43b4de",
   "metadata": {},
   "outputs": [
    {
     "name": "stdout",
     "output_type": "stream",
     "text": [
      "(27409, 14)\n",
      "(4838, 14)\n"
     ]
    }
   ],
   "source": [
    "print(london_train.shape)\n",
    "print(london_test.shape)"
   ]
  },
  {
   "cell_type": "code",
   "execution_count": 7,
   "id": "1b712681",
   "metadata": {},
   "outputs": [
    {
     "data": {
      "text/html": [
       "<div>\n",
       "<style scoped>\n",
       "    .dataframe tbody tr th:only-of-type {\n",
       "        vertical-align: middle;\n",
       "    }\n",
       "\n",
       "    .dataframe tbody tr th {\n",
       "        vertical-align: top;\n",
       "    }\n",
       "\n",
       "    .dataframe thead th {\n",
       "        text-align: right;\n",
       "    }\n",
       "</style>\n",
       "<table border=\"1\" class=\"dataframe\">\n",
       "  <thead>\n",
       "    <tr style=\"text-align: right;\">\n",
       "      <th></th>\n",
       "      <th>incident_number</th>\n",
       "      <th>timestamp_of_call</th>\n",
       "      <th>incident_group</th>\n",
       "      <th>stop_code_description</th>\n",
       "      <th>property_category</th>\n",
       "      <th>property_type</th>\n",
       "      <th>address_qualifier</th>\n",
       "      <th>borough_name</th>\n",
       "      <th>ward_name</th>\n",
       "      <th>first_time</th>\n",
       "      <th>first_station</th>\n",
       "      <th>station_pumps</th>\n",
       "      <th>pumps_attending</th>\n",
       "    </tr>\n",
       "  </thead>\n",
       "  <tbody>\n",
       "    <tr>\n",
       "      <th>0</th>\n",
       "      <td>023952-25022017</td>\n",
       "      <td>2017-02-25 21:25:09+00:00</td>\n",
       "      <td>Emergency</td>\n",
       "      <td>Special Service</td>\n",
       "      <td>Road Vehicle</td>\n",
       "      <td>Car</td>\n",
       "      <td>In street outside gazetteer location</td>\n",
       "      <td>REDBRIDGE</td>\n",
       "      <td>MAYFIELD</td>\n",
       "      <td>296</td>\n",
       "      <td>Ilford</td>\n",
       "      <td>1</td>\n",
       "      <td>1</td>\n",
       "    </tr>\n",
       "    <tr>\n",
       "      <th>1</th>\n",
       "      <td>029837-12032017</td>\n",
       "      <td>2017-03-12 01:28:04+00:00</td>\n",
       "      <td>False Alarm</td>\n",
       "      <td>AFA</td>\n",
       "      <td>Dwelling</td>\n",
       "      <td>Purpose Built Flats/Maisonettes - Up to 3 stor...</td>\n",
       "      <td>Correct incident location</td>\n",
       "      <td>WESTMINSTER</td>\n",
       "      <td>ST. JAMES'S</td>\n",
       "      <td>276</td>\n",
       "      <td>Lambeth</td>\n",
       "      <td>1</td>\n",
       "      <td>2</td>\n",
       "    </tr>\n",
       "    <tr>\n",
       "      <th>2</th>\n",
       "      <td>041522-06042017</td>\n",
       "      <td>2017-04-06 17:03:02+00:00</td>\n",
       "      <td>Emergency</td>\n",
       "      <td>Primary Fire</td>\n",
       "      <td>Dwelling</td>\n",
       "      <td>House - single occupancy</td>\n",
       "      <td>Within same building</td>\n",
       "      <td>NEWHAM</td>\n",
       "      <td>CUSTOM HOUSE</td>\n",
       "      <td>335</td>\n",
       "      <td>East Ham</td>\n",
       "      <td>2</td>\n",
       "      <td>2</td>\n",
       "    </tr>\n",
       "    <tr>\n",
       "      <th>3</th>\n",
       "      <td>033936-21032017</td>\n",
       "      <td>2017-03-21 10:43:54+00:00</td>\n",
       "      <td>Emergency</td>\n",
       "      <td>Special Service</td>\n",
       "      <td>Non Residential</td>\n",
       "      <td>Single shop</td>\n",
       "      <td>Correct incident location</td>\n",
       "      <td>BARNET</td>\n",
       "      <td>BURNT OAK</td>\n",
       "      <td>334</td>\n",
       "      <td>Mill Hill</td>\n",
       "      <td>1</td>\n",
       "      <td>1</td>\n",
       "    </tr>\n",
       "    <tr>\n",
       "      <th>4</th>\n",
       "      <td>002591-06012017</td>\n",
       "      <td>2017-01-06 15:10:11+00:00</td>\n",
       "      <td>Emergency</td>\n",
       "      <td>Special Service</td>\n",
       "      <td>Dwelling</td>\n",
       "      <td>Purpose Built Flats/Maisonettes - 4 to 9 storeys</td>\n",
       "      <td>Correct incident location</td>\n",
       "      <td>NEWHAM</td>\n",
       "      <td>FOREST GATE SOUTH</td>\n",
       "      <td>99</td>\n",
       "      <td>Stratford</td>\n",
       "      <td>1</td>\n",
       "      <td>1</td>\n",
       "    </tr>\n",
       "  </tbody>\n",
       "</table>\n",
       "</div>"
      ],
      "text/plain": [
       "   incident_number         timestamp_of_call incident_group  \\\n",
       "0  023952-25022017 2017-02-25 21:25:09+00:00      Emergency   \n",
       "1  029837-12032017 2017-03-12 01:28:04+00:00    False Alarm   \n",
       "2  041522-06042017 2017-04-06 17:03:02+00:00      Emergency   \n",
       "3  033936-21032017 2017-03-21 10:43:54+00:00      Emergency   \n",
       "4  002591-06012017 2017-01-06 15:10:11+00:00      Emergency   \n",
       "\n",
       "  stop_code_description property_category  \\\n",
       "0       Special Service      Road Vehicle   \n",
       "1                   AFA          Dwelling   \n",
       "2          Primary Fire          Dwelling   \n",
       "3       Special Service   Non Residential   \n",
       "4       Special Service          Dwelling   \n",
       "\n",
       "                                       property_type  \\\n",
       "0                                               Car    \n",
       "1  Purpose Built Flats/Maisonettes - Up to 3 stor...   \n",
       "2                          House - single occupancy    \n",
       "3                                       Single shop    \n",
       "4  Purpose Built Flats/Maisonettes - 4 to 9 storeys    \n",
       "\n",
       "                      address_qualifier borough_name          ward_name  \\\n",
       "0  In street outside gazetteer location    REDBRIDGE           MAYFIELD   \n",
       "1             Correct incident location  WESTMINSTER        ST. JAMES'S   \n",
       "2                  Within same building       NEWHAM       CUSTOM HOUSE   \n",
       "3             Correct incident location       BARNET          BURNT OAK   \n",
       "4             Correct incident location       NEWHAM  FOREST GATE SOUTH   \n",
       "\n",
       "   first_time first_station  station_pumps  pumps_attending  \n",
       "0         296        Ilford              1                1  \n",
       "1         276       Lambeth              1                2  \n",
       "2         335      East Ham              2                2  \n",
       "3         334     Mill Hill              1                1  \n",
       "4          99     Stratford              1                1  "
      ]
     },
     "execution_count": 7,
     "metadata": {},
     "output_type": "execute_result"
    }
   ],
   "source": [
    "london_train.reset_index(drop=True, inplace = True)\n",
    "london_train.head()"
   ]
  },
  {
   "cell_type": "markdown",
   "id": "1e2bfb86",
   "metadata": {},
   "source": [
    "# Clean the Data"
   ]
  },
  {
   "cell_type": "markdown",
   "id": "d902285b",
   "metadata": {},
   "source": [
    "### Make indicator variable for Emergency outcome"
   ]
  },
  {
   "cell_type": "code",
   "execution_count": 70,
   "id": "8b92b1e5",
   "metadata": {},
   "outputs": [],
   "source": [
    "%%capture --no-stdout \n",
    "london_train[\"Emergency\"] = (london_train[\"incident_group\"] == \"Emergency\").astype(np.int64)"
   ]
  },
  {
   "cell_type": "code",
   "execution_count": 142,
   "id": "1c88220d",
   "metadata": {},
   "outputs": [],
   "source": [
    "#Change the objects variables to categorical\n",
    "#london_train.loc[:, london_train.dtypes == \"object\"] = london_train.select_dtypes([\"object\"]).apply(lambda x: x.astype(\"category\"))"
   ]
  },
  {
   "cell_type": "markdown",
   "id": "c31847ee",
   "metadata": {},
   "source": [
    "### Check for missing values"
   ]
  },
  {
   "cell_type": "code",
   "execution_count": 71,
   "id": "c980c6c2",
   "metadata": {},
   "outputs": [
    {
     "data": {
      "text/plain": [
       "incident_number             0\n",
       "timestamp_of_call           0\n",
       "incident_group              0\n",
       "stop_code_description       0\n",
       "property_category           0\n",
       "property_type               0\n",
       "address_qualifier           0\n",
       "borough_name                0\n",
       "ward_name                   0\n",
       "first_time               1542\n",
       "first_station            1542\n",
       "station_pumps              56\n",
       "pumps_attending            56\n",
       "Month                       0\n",
       "Hour                        0\n",
       "Emergency                   0\n",
       "dtype: int64"
      ]
     },
     "execution_count": 71,
     "metadata": {},
     "output_type": "execute_result"
    }
   ],
   "source": [
    "london_train.isnull().sum()"
   ]
  },
  {
   "cell_type": "markdown",
   "id": "bd976564",
   "metadata": {},
   "source": [
    "### Incident Number"
   ]
  },
  {
   "cell_type": "code",
   "execution_count": 397,
   "id": "4f1a3002",
   "metadata": {},
   "outputs": [
    {
     "data": {
      "text/plain": [
       "27409"
      ]
     },
     "execution_count": 397,
     "metadata": {},
     "output_type": "execute_result"
    }
   ],
   "source": [
    "#Number of observations\n",
    "london_train.shape[0]"
   ]
  },
  {
   "cell_type": "code",
   "execution_count": 398,
   "id": "60a1115a",
   "metadata": {},
   "outputs": [
    {
     "data": {
      "text/plain": [
       "27409"
      ]
     },
     "execution_count": 398,
     "metadata": {},
     "output_type": "execute_result"
    }
   ],
   "source": [
    "#Number of incidents\n",
    "len(london_train[\"incident_number\"].unique())"
   ]
  },
  {
   "cell_type": "markdown",
   "id": "0eb3ed53",
   "metadata": {},
   "source": [
    "As we'd hope, each observation in our data is a different reponse and there are no duplicates. "
   ]
  },
  {
   "cell_type": "markdown",
   "id": "6359f6d5",
   "metadata": {},
   "source": [
    "### Time"
   ]
  },
  {
   "cell_type": "code",
   "execution_count": 399,
   "id": "1816a1ac",
   "metadata": {},
   "outputs": [
    {
     "data": {
      "text/plain": [
       "0   2017-02-25 21:25:09+00:00\n",
       "1   2017-03-12 01:28:04+00:00\n",
       "2   2017-04-06 17:03:02+00:00\n",
       "3   2017-03-21 10:43:54+00:00\n",
       "4   2017-01-06 15:10:11+00:00\n",
       "Name: timestamp_of_call, dtype: datetime64[ns, UTC]"
      ]
     },
     "execution_count": 399,
     "metadata": {},
     "output_type": "execute_result"
    }
   ],
   "source": [
    "london_train[\"timestamp_of_call\"].head()"
   ]
  },
  {
   "cell_type": "markdown",
   "id": "0c03c98a",
   "metadata": {},
   "source": [
    "### Create a Month variable"
   ]
  },
  {
   "cell_type": "code",
   "execution_count": 64,
   "id": "395faa05",
   "metadata": {},
   "outputs": [],
   "source": [
    "%%capture --no-stdout\n",
    "london_train[\"Month\"] = london_train[\"timestamp_of_call\"].dt.month"
   ]
  },
  {
   "cell_type": "code",
   "execution_count": 65,
   "id": "eea3c815",
   "metadata": {},
   "outputs": [
    {
     "data": {
      "text/html": [
       "<div>\n",
       "<style scoped>\n",
       "    .dataframe tbody tr th:only-of-type {\n",
       "        vertical-align: middle;\n",
       "    }\n",
       "\n",
       "    .dataframe tbody tr th {\n",
       "        vertical-align: top;\n",
       "    }\n",
       "\n",
       "    .dataframe thead th {\n",
       "        text-align: right;\n",
       "    }\n",
       "</style>\n",
       "<table border=\"1\" class=\"dataframe\">\n",
       "  <thead>\n",
       "    <tr style=\"text-align: right;\">\n",
       "      <th></th>\n",
       "      <th>Month</th>\n",
       "      <th>Count</th>\n",
       "    </tr>\n",
       "  </thead>\n",
       "  <tbody>\n",
       "    <tr>\n",
       "      <th>1</th>\n",
       "      <td>1</td>\n",
       "      <td>6982</td>\n",
       "    </tr>\n",
       "    <tr>\n",
       "      <th>3</th>\n",
       "      <td>2</td>\n",
       "      <td>6217</td>\n",
       "    </tr>\n",
       "    <tr>\n",
       "      <th>2</th>\n",
       "      <td>3</td>\n",
       "      <td>6779</td>\n",
       "    </tr>\n",
       "    <tr>\n",
       "      <th>0</th>\n",
       "      <td>4</td>\n",
       "      <td>7431</td>\n",
       "    </tr>\n",
       "  </tbody>\n",
       "</table>\n",
       "</div>"
      ],
      "text/plain": [
       "   Month  Count\n",
       "1      1   6982\n",
       "3      2   6217\n",
       "2      3   6779\n",
       "0      4   7431"
      ]
     },
     "execution_count": 65,
     "metadata": {},
     "output_type": "execute_result"
    }
   ],
   "source": [
    "london_train[\"Month\"].value_counts().reset_index().rename(columns={\"index\":\"Month\", \"Month\":\"Count\"}).sort_values(by=\"Month\")"
   ]
  },
  {
   "cell_type": "markdown",
   "id": "98305a30",
   "metadata": {},
   "source": [
    "### Create a Hour variable"
   ]
  },
  {
   "cell_type": "code",
   "execution_count": 66,
   "id": "5f5fec55",
   "metadata": {},
   "outputs": [],
   "source": [
    "%%capture --no-stdout\n",
    "london_train[\"Hour\"] = london_train[\"timestamp_of_call\"].dt.hour"
   ]
  },
  {
   "cell_type": "code",
   "execution_count": 67,
   "id": "6ec49ab4",
   "metadata": {},
   "outputs": [
    {
     "data": {
      "text/html": [
       "<div>\n",
       "<style scoped>\n",
       "    .dataframe tbody tr th:only-of-type {\n",
       "        vertical-align: middle;\n",
       "    }\n",
       "\n",
       "    .dataframe tbody tr th {\n",
       "        vertical-align: top;\n",
       "    }\n",
       "\n",
       "    .dataframe thead th {\n",
       "        text-align: right;\n",
       "    }\n",
       "</style>\n",
       "<table border=\"1\" class=\"dataframe\">\n",
       "  <thead>\n",
       "    <tr style=\"text-align: right;\">\n",
       "      <th></th>\n",
       "      <th>Hour</th>\n",
       "      <th>Count</th>\n",
       "    </tr>\n",
       "  </thead>\n",
       "  <tbody>\n",
       "    <tr>\n",
       "      <th>16</th>\n",
       "      <td>0</td>\n",
       "      <td>830</td>\n",
       "    </tr>\n",
       "    <tr>\n",
       "      <th>18</th>\n",
       "      <td>1</td>\n",
       "      <td>744</td>\n",
       "    </tr>\n",
       "    <tr>\n",
       "      <th>20</th>\n",
       "      <td>2</td>\n",
       "      <td>550</td>\n",
       "    </tr>\n",
       "    <tr>\n",
       "      <th>21</th>\n",
       "      <td>3</td>\n",
       "      <td>482</td>\n",
       "    </tr>\n",
       "    <tr>\n",
       "      <th>23</th>\n",
       "      <td>4</td>\n",
       "      <td>423</td>\n",
       "    </tr>\n",
       "    <tr>\n",
       "      <th>22</th>\n",
       "      <td>5</td>\n",
       "      <td>434</td>\n",
       "    </tr>\n",
       "    <tr>\n",
       "      <th>19</th>\n",
       "      <td>6</td>\n",
       "      <td>552</td>\n",
       "    </tr>\n",
       "    <tr>\n",
       "      <th>17</th>\n",
       "      <td>7</td>\n",
       "      <td>745</td>\n",
       "    </tr>\n",
       "    <tr>\n",
       "      <th>14</th>\n",
       "      <td>8</td>\n",
       "      <td>1014</td>\n",
       "    </tr>\n",
       "    <tr>\n",
       "      <th>12</th>\n",
       "      <td>9</td>\n",
       "      <td>1169</td>\n",
       "    </tr>\n",
       "    <tr>\n",
       "      <th>10</th>\n",
       "      <td>10</td>\n",
       "      <td>1286</td>\n",
       "    </tr>\n",
       "    <tr>\n",
       "      <th>9</th>\n",
       "      <td>11</td>\n",
       "      <td>1388</td>\n",
       "    </tr>\n",
       "    <tr>\n",
       "      <th>8</th>\n",
       "      <td>12</td>\n",
       "      <td>1412</td>\n",
       "    </tr>\n",
       "    <tr>\n",
       "      <th>7</th>\n",
       "      <td>13</td>\n",
       "      <td>1514</td>\n",
       "    </tr>\n",
       "    <tr>\n",
       "      <th>6</th>\n",
       "      <td>14</td>\n",
       "      <td>1536</td>\n",
       "    </tr>\n",
       "    <tr>\n",
       "      <th>3</th>\n",
       "      <td>15</td>\n",
       "      <td>1591</td>\n",
       "    </tr>\n",
       "    <tr>\n",
       "      <th>4</th>\n",
       "      <td>16</td>\n",
       "      <td>1585</td>\n",
       "    </tr>\n",
       "    <tr>\n",
       "      <th>2</th>\n",
       "      <td>17</td>\n",
       "      <td>1647</td>\n",
       "    </tr>\n",
       "    <tr>\n",
       "      <th>0</th>\n",
       "      <td>18</td>\n",
       "      <td>1854</td>\n",
       "    </tr>\n",
       "    <tr>\n",
       "      <th>1</th>\n",
       "      <td>19</td>\n",
       "      <td>1671</td>\n",
       "    </tr>\n",
       "    <tr>\n",
       "      <th>5</th>\n",
       "      <td>20</td>\n",
       "      <td>1573</td>\n",
       "    </tr>\n",
       "    <tr>\n",
       "      <th>11</th>\n",
       "      <td>21</td>\n",
       "      <td>1251</td>\n",
       "    </tr>\n",
       "    <tr>\n",
       "      <th>13</th>\n",
       "      <td>22</td>\n",
       "      <td>1153</td>\n",
       "    </tr>\n",
       "    <tr>\n",
       "      <th>15</th>\n",
       "      <td>23</td>\n",
       "      <td>1005</td>\n",
       "    </tr>\n",
       "  </tbody>\n",
       "</table>\n",
       "</div>"
      ],
      "text/plain": [
       "    Hour  Count\n",
       "16     0    830\n",
       "18     1    744\n",
       "20     2    550\n",
       "21     3    482\n",
       "23     4    423\n",
       "22     5    434\n",
       "19     6    552\n",
       "17     7    745\n",
       "14     8   1014\n",
       "12     9   1169\n",
       "10    10   1286\n",
       "9     11   1388\n",
       "8     12   1412\n",
       "7     13   1514\n",
       "6     14   1536\n",
       "3     15   1591\n",
       "4     16   1585\n",
       "2     17   1647\n",
       "0     18   1854\n",
       "1     19   1671\n",
       "5     20   1573\n",
       "11    21   1251\n",
       "13    22   1153\n",
       "15    23   1005"
      ]
     },
     "execution_count": 67,
     "metadata": {},
     "output_type": "execute_result"
    }
   ],
   "source": [
    "london_train[\"Hour\"].value_counts().reset_index().rename(columns={\"index\":\"Hour\", \"Hour\":\"Count\"}).sort_values(by=\"Hour\")"
   ]
  },
  {
   "cell_type": "markdown",
   "id": "9dd8575c",
   "metadata": {},
   "source": [
    "### Drop the timestamp variable"
   ]
  },
  {
   "cell_type": "code",
   "execution_count": 62,
   "id": "4783d215",
   "metadata": {},
   "outputs": [],
   "source": [
    "#london_train.drop(\"timestamp_of_call\", axis = 1, inplace = True)"
   ]
  },
  {
   "cell_type": "markdown",
   "id": "225c48b7",
   "metadata": {},
   "source": [
    "### Stop Code Description"
   ]
  },
  {
   "cell_type": "code",
   "execution_count": 404,
   "id": "649e4aa9",
   "metadata": {},
   "outputs": [
    {
     "data": {
      "text/plain": [
       "AFA                                      10017\n",
       "Special Service                           8580\n",
       "Primary Fire                              3031\n",
       "False alarm - Good intent                 2977\n",
       "Secondary Fire                            2407\n",
       "False alarm - Malicious                    378\n",
       "Chimney Fire                                11\n",
       "Flood call attended - Batch mobilised        7\n",
       "Late Call                                    1\n",
       "Name: stop_code_description, dtype: int64"
      ]
     },
     "execution_count": 404,
     "metadata": {},
     "output_type": "execute_result"
    }
   ],
   "source": [
    "london_train[\"stop_code_description\"].value_counts()"
   ]
  },
  {
   "cell_type": "markdown",
   "id": "2d7cc79c",
   "metadata": {},
   "source": [
    "### Property Category"
   ]
  },
  {
   "cell_type": "code",
   "execution_count": 13,
   "id": "5995588f",
   "metadata": {},
   "outputs": [
    {
     "data": {
      "text/plain": [
       "Dwelling             13048\n",
       "Non Residential       6519\n",
       "Road Vehicle          2369\n",
       "Outdoor               2196\n",
       "Outdoor Structure     1684\n",
       "Other Residential     1537\n",
       "Aircraft                21\n",
       "Boat                    20\n",
       "Rail Vehicle            15\n",
       "Name: property_category, dtype: int64"
      ]
     },
     "execution_count": 13,
     "metadata": {},
     "output_type": "execute_result"
    }
   ],
   "source": [
    "london_train[\"property_category\"].value_counts()"
   ]
  },
  {
   "cell_type": "code",
   "execution_count": 68,
   "id": "ca50d09f",
   "metadata": {},
   "outputs": [
    {
     "name": "stderr",
     "output_type": "stream",
     "text": [
      "C:\\Users\\ay887\\anaconda3\\lib\\site-packages\\pandas\\core\\series.py:4509: SettingWithCopyWarning: \n",
      "A value is trying to be set on a copy of a slice from a DataFrame\n",
      "\n",
      "See the caveats in the documentation: https://pandas.pydata.org/pandas-docs/stable/user_guide/indexing.html#returning-a-view-versus-a-copy\n",
      "  return super().replace(\n"
     ]
    }
   ],
   "source": [
    "res = [\"Dwelling\", \"Other Residential\"]\n",
    "london_train[\"property_category\"].replace(res, \"Residential\", inplace = True)\n",
    "\n",
    "vehicle = [\"Road Vehicle\", \"Aircraft\", \"Boat\", \"Rail Vehicle\"]\n",
    "london_train[\"property_category\"].replace(vehicle, \"Vehicle\", inplace = True)\n",
    "\n",
    "london_train[\"property_category\"].replace(\"Outdoor Structure\", \"Outdoor\", inplace = True)"
   ]
  },
  {
   "cell_type": "code",
   "execution_count": 15,
   "id": "2797bd7c",
   "metadata": {},
   "outputs": [
    {
     "data": {
      "text/plain": [
       "Residential        14585\n",
       "Non Residential     6519\n",
       "Outdoor             3880\n",
       "Vehicle             2425\n",
       "Name: property_category, dtype: int64"
      ]
     },
     "execution_count": 15,
     "metadata": {},
     "output_type": "execute_result"
    }
   ],
   "source": [
    "london_train[\"property_category\"].value_counts()"
   ]
  },
  {
   "cell_type": "markdown",
   "id": "c1901425",
   "metadata": {},
   "source": [
    "### Property Type"
   ]
  },
  {
   "cell_type": "code",
   "execution_count": 16,
   "id": "7d5c6606",
   "metadata": {},
   "outputs": [
    {
     "data": {
      "text/plain": [
       "Purpose Built Flats/Maisonettes - 4 to 9 storeys      3266\n",
       "House - single occupancy                              3234\n",
       "Purpose Built Flats/Maisonettes - Up to 3 storeys     2486\n",
       "Car                                                   1403\n",
       "Self contained Sheltered Housing                      1224\n",
       "                                                      ... \n",
       "Tennis Courts                                            1\n",
       "Kiosk                                                    1\n",
       "Freight Train                                            1\n",
       "Airport - fuel storage                                   1\n",
       "Agricultural equipment                                   1\n",
       "Name: property_type, Length: 256, dtype: int64"
      ]
     },
     "execution_count": 16,
     "metadata": {},
     "output_type": "execute_result"
    }
   ],
   "source": [
    "london_train[\"property_type\"].value_counts()"
   ]
  },
  {
   "cell_type": "markdown",
   "id": "fefb8908",
   "metadata": {},
   "source": [
    "Clearly, there are way too many categories in the \"property_type\" variable to be used in a model. Instead of trying to logically merge categories based on group similarity, we'll group based on emergency percentage. Those categories with a high percentage of real emergencies will be grouped with other high percentage emergencies. "
   ]
  },
  {
   "cell_type": "code",
   "execution_count": 72,
   "id": "0492abac",
   "metadata": {},
   "outputs": [
    {
     "data": {
      "text/html": [
       "<div>\n",
       "<style scoped>\n",
       "    .dataframe tbody tr th:only-of-type {\n",
       "        vertical-align: middle;\n",
       "    }\n",
       "\n",
       "    .dataframe tbody tr th {\n",
       "        vertical-align: top;\n",
       "    }\n",
       "\n",
       "    .dataframe thead th {\n",
       "        text-align: right;\n",
       "    }\n",
       "</style>\n",
       "<table border=\"1\" class=\"dataframe\">\n",
       "  <thead>\n",
       "    <tr style=\"text-align: right;\">\n",
       "      <th></th>\n",
       "      <th>property_type</th>\n",
       "      <th>mean</th>\n",
       "      <th>sum</th>\n",
       "      <th>pt_rank</th>\n",
       "    </tr>\n",
       "  </thead>\n",
       "  <tbody>\n",
       "    <tr>\n",
       "      <th>0</th>\n",
       "      <td>Agricultural equipment</td>\n",
       "      <td>100.0</td>\n",
       "      <td>1</td>\n",
       "      <td>10</td>\n",
       "    </tr>\n",
       "    <tr>\n",
       "      <th>1</th>\n",
       "      <td>Camping tent</td>\n",
       "      <td>100.0</td>\n",
       "      <td>2</td>\n",
       "      <td>10</td>\n",
       "    </tr>\n",
       "    <tr>\n",
       "      <th>2</th>\n",
       "      <td>Freight plane</td>\n",
       "      <td>100.0</td>\n",
       "      <td>1</td>\n",
       "      <td>10</td>\n",
       "    </tr>\n",
       "    <tr>\n",
       "      <th>3</th>\n",
       "      <td>Human harm outdoors</td>\n",
       "      <td>100.0</td>\n",
       "      <td>5</td>\n",
       "      <td>10</td>\n",
       "    </tr>\n",
       "    <tr>\n",
       "      <th>4</th>\n",
       "      <td>Kiosk</td>\n",
       "      <td>100.0</td>\n",
       "      <td>1</td>\n",
       "      <td>10</td>\n",
       "    </tr>\n",
       "    <tr>\n",
       "      <th>...</th>\n",
       "      <td>...</td>\n",
       "      <td>...</td>\n",
       "      <td>...</td>\n",
       "      <td>...</td>\n",
       "    </tr>\n",
       "    <tr>\n",
       "      <th>251</th>\n",
       "      <td>Airport - hangar</td>\n",
       "      <td>0.0</td>\n",
       "      <td>0</td>\n",
       "      <td>-1</td>\n",
       "    </tr>\n",
       "    <tr>\n",
       "      <th>252</th>\n",
       "      <td>Greyhound stadium</td>\n",
       "      <td>0.0</td>\n",
       "      <td>0</td>\n",
       "      <td>-1</td>\n",
       "    </tr>\n",
       "    <tr>\n",
       "      <th>253</th>\n",
       "      <td>Airport - fuel storage</td>\n",
       "      <td>0.0</td>\n",
       "      <td>0</td>\n",
       "      <td>-1</td>\n",
       "    </tr>\n",
       "    <tr>\n",
       "      <th>254</th>\n",
       "      <td>Cricket ground</td>\n",
       "      <td>0.0</td>\n",
       "      <td>0</td>\n",
       "      <td>-1</td>\n",
       "    </tr>\n",
       "    <tr>\n",
       "      <th>255</th>\n",
       "      <td>Zoo</td>\n",
       "      <td>0.0</td>\n",
       "      <td>0</td>\n",
       "      <td>-1</td>\n",
       "    </tr>\n",
       "  </tbody>\n",
       "</table>\n",
       "<p>256 rows × 4 columns</p>\n",
       "</div>"
      ],
      "text/plain": [
       "               property_type   mean  sum  pt_rank\n",
       "0    Agricultural equipment   100.0    1       10\n",
       "1              Camping tent   100.0    2       10\n",
       "2             Freight plane   100.0    1       10\n",
       "3        Human harm outdoors  100.0    5       10\n",
       "4                     Kiosk   100.0    1       10\n",
       "..                       ...    ...  ...      ...\n",
       "251        Airport - hangar     0.0    0       -1\n",
       "252       Greyhound stadium     0.0    0       -1\n",
       "253  Airport - fuel storage     0.0    0       -1\n",
       "254          Cricket ground     0.0    0       -1\n",
       "255                     Zoo     0.0    0       -1\n",
       "\n",
       "[256 rows x 4 columns]"
      ]
     },
     "execution_count": 72,
     "metadata": {},
     "output_type": "execute_result"
    }
   ],
   "source": [
    "#Group by property type and summarize by the Emergency variable\n",
    "pt_grp = london_train.groupby(\"property_type\")[\"Emergency\"].aggregate([\"mean\", \"sum\"]).sort_values(by=\"mean\", ascending=False)\n",
    "pt_grp.reset_index(inplace = True)\n",
    "#Change the proportion into a percentage\n",
    "pt_grp[\"mean\"] *= 100\n",
    "#Create a new variable that ranks the values based on their percentage\n",
    "pt_grp[\"pt_rank\"] = (pt_grp[\"mean\"] / 10).astype(np.int)\n",
    "#Specifically change the values with 0 percentage to -1 as a special category i.e no chance it's a real emergency\n",
    "pt_grp.loc[pt_grp[\"mean\"] == 0, \"pt_rank\"] = -1\n",
    "pt_grp"
   ]
  },
  {
   "cell_type": "code",
   "execution_count": 73,
   "id": "d986dea6",
   "metadata": {},
   "outputs": [],
   "source": [
    "#Join the london data with the pt_df to match the property type rankings\n",
    "london_train = pd.merge(left = london_train, right = pt_grp[[\"property_type\", \"pt_rank\"]], left_on = \"property_type\", right_on=\"property_type\")"
   ]
  },
  {
   "cell_type": "code",
   "execution_count": 74,
   "id": "db47a3e6",
   "metadata": {},
   "outputs": [
    {
     "data": {
      "text/html": [
       "<div>\n",
       "<style scoped>\n",
       "    .dataframe tbody tr th:only-of-type {\n",
       "        vertical-align: middle;\n",
       "    }\n",
       "\n",
       "    .dataframe tbody tr th {\n",
       "        vertical-align: top;\n",
       "    }\n",
       "\n",
       "    .dataframe thead th {\n",
       "        text-align: right;\n",
       "    }\n",
       "</style>\n",
       "<table border=\"1\" class=\"dataframe\">\n",
       "  <thead>\n",
       "    <tr style=\"text-align: right;\">\n",
       "      <th></th>\n",
       "      <th>property_type</th>\n",
       "      <th>pt_rank</th>\n",
       "    </tr>\n",
       "  </thead>\n",
       "  <tbody>\n",
       "    <tr>\n",
       "      <th>27399</th>\n",
       "      <td>Airfield/runway</td>\n",
       "      <td>10</td>\n",
       "    </tr>\n",
       "    <tr>\n",
       "      <th>27400</th>\n",
       "      <td>Bulk oil storage</td>\n",
       "      <td>-1</td>\n",
       "    </tr>\n",
       "    <tr>\n",
       "      <th>27401</th>\n",
       "      <td>Bulk oil storage</td>\n",
       "      <td>-1</td>\n",
       "    </tr>\n",
       "    <tr>\n",
       "      <th>27402</th>\n",
       "      <td>Stacked/baled crop</td>\n",
       "      <td>10</td>\n",
       "    </tr>\n",
       "    <tr>\n",
       "      <th>27403</th>\n",
       "      <td>Agricultural equipment</td>\n",
       "      <td>10</td>\n",
       "    </tr>\n",
       "    <tr>\n",
       "      <th>27404</th>\n",
       "      <td>Tennis Courts</td>\n",
       "      <td>10</td>\n",
       "    </tr>\n",
       "    <tr>\n",
       "      <th>27405</th>\n",
       "      <td>Other tent/marquee</td>\n",
       "      <td>5</td>\n",
       "    </tr>\n",
       "    <tr>\n",
       "      <th>27406</th>\n",
       "      <td>Other tent/marquee</td>\n",
       "      <td>5</td>\n",
       "    </tr>\n",
       "    <tr>\n",
       "      <th>27407</th>\n",
       "      <td>Airport - fuel storage</td>\n",
       "      <td>-1</td>\n",
       "    </tr>\n",
       "    <tr>\n",
       "      <th>27408</th>\n",
       "      <td>Minibus</td>\n",
       "      <td>10</td>\n",
       "    </tr>\n",
       "  </tbody>\n",
       "</table>\n",
       "</div>"
      ],
      "text/plain": [
       "                 property_type  pt_rank\n",
       "27399         Airfield/runway        10\n",
       "27400         Bulk oil storage       -1\n",
       "27401         Bulk oil storage       -1\n",
       "27402      Stacked/baled crop        10\n",
       "27403  Agricultural equipment        10\n",
       "27404           Tennis Courts        10\n",
       "27405      Other tent/marquee         5\n",
       "27406      Other tent/marquee         5\n",
       "27407  Airport - fuel storage        -1\n",
       "27408                 Minibus        10"
      ]
     },
     "execution_count": 74,
     "metadata": {},
     "output_type": "execute_result"
    }
   ],
   "source": [
    "london_train[[\"property_type\", \"pt_rank\"]].tail(n = 10)"
   ]
  },
  {
   "cell_type": "code",
   "execution_count": 75,
   "id": "87a4a8a7",
   "metadata": {},
   "outputs": [
    {
     "data": {
      "text/html": [
       "<div>\n",
       "<style scoped>\n",
       "    .dataframe tbody tr th:only-of-type {\n",
       "        vertical-align: middle;\n",
       "    }\n",
       "\n",
       "    .dataframe tbody tr th {\n",
       "        vertical-align: top;\n",
       "    }\n",
       "\n",
       "    .dataframe thead th {\n",
       "        text-align: right;\n",
       "    }\n",
       "</style>\n",
       "<table border=\"1\" class=\"dataframe\">\n",
       "  <thead>\n",
       "    <tr style=\"text-align: right;\">\n",
       "      <th></th>\n",
       "      <th>Property Type Rank</th>\n",
       "      <th>Number of Property Types</th>\n",
       "    </tr>\n",
       "  </thead>\n",
       "  <tbody>\n",
       "    <tr>\n",
       "      <th>9</th>\n",
       "      <td>-1</td>\n",
       "      <td>189</td>\n",
       "    </tr>\n",
       "    <tr>\n",
       "      <th>7</th>\n",
       "      <td>0</td>\n",
       "      <td>812</td>\n",
       "    </tr>\n",
       "    <tr>\n",
       "      <th>1</th>\n",
       "      <td>1</td>\n",
       "      <td>5456</td>\n",
       "    </tr>\n",
       "    <tr>\n",
       "      <th>4</th>\n",
       "      <td>2</td>\n",
       "      <td>1437</td>\n",
       "    </tr>\n",
       "    <tr>\n",
       "      <th>6</th>\n",
       "      <td>3</td>\n",
       "      <td>1011</td>\n",
       "    </tr>\n",
       "    <tr>\n",
       "      <th>10</th>\n",
       "      <td>4</td>\n",
       "      <td>181</td>\n",
       "    </tr>\n",
       "    <tr>\n",
       "      <th>0</th>\n",
       "      <td>5</td>\n",
       "      <td>6974</td>\n",
       "    </tr>\n",
       "    <tr>\n",
       "      <th>2</th>\n",
       "      <td>6</td>\n",
       "      <td>5374</td>\n",
       "    </tr>\n",
       "    <tr>\n",
       "      <th>8</th>\n",
       "      <td>7</td>\n",
       "      <td>770</td>\n",
       "    </tr>\n",
       "    <tr>\n",
       "      <th>3</th>\n",
       "      <td>8</td>\n",
       "      <td>3926</td>\n",
       "    </tr>\n",
       "    <tr>\n",
       "      <th>5</th>\n",
       "      <td>9</td>\n",
       "      <td>1202</td>\n",
       "    </tr>\n",
       "    <tr>\n",
       "      <th>11</th>\n",
       "      <td>10</td>\n",
       "      <td>77</td>\n",
       "    </tr>\n",
       "  </tbody>\n",
       "</table>\n",
       "</div>"
      ],
      "text/plain": [
       "    Property Type Rank  Number of Property Types\n",
       "9                   -1                       189\n",
       "7                    0                       812\n",
       "1                    1                      5456\n",
       "4                    2                      1437\n",
       "6                    3                      1011\n",
       "10                   4                       181\n",
       "0                    5                      6974\n",
       "2                    6                      5374\n",
       "8                    7                       770\n",
       "3                    8                      3926\n",
       "5                    9                      1202\n",
       "11                  10                        77"
      ]
     },
     "execution_count": 75,
     "metadata": {},
     "output_type": "execute_result"
    }
   ],
   "source": [
    "london_train[\"pt_rank\"].value_counts().reset_index()\\\n",
    "                                      .rename(columns={\"index\":\"Property Type Rank\", \"pt_rank\":\"Number of Property Types\"})\\\n",
    "                                      .sort_values(by=\"Property Type Rank\")"
   ]
  },
  {
   "cell_type": "markdown",
   "id": "c5c1e25d",
   "metadata": {},
   "source": [
    "### Address Qualifier"
   ]
  },
  {
   "cell_type": "code",
   "execution_count": 21,
   "id": "efb2efe4",
   "metadata": {},
   "outputs": [
    {
     "data": {
      "text/plain": [
       "Correct incident location                          16392\n",
       "Within same building                                4814\n",
       "In street outside gazetteer location                2216\n",
       "On land associated with building                    1779\n",
       "In street close to gazetteer location                948\n",
       "Open land/water - nearest gazetteer location         733\n",
       "On motorway / elevated road                          153\n",
       "Nearby address - no building in street               131\n",
       "Nearby address - street not listed in gazetteer      106\n",
       "In street remote from gazetteer location              96\n",
       "Railway land or rolling stock                         41\n",
       "Name: address_qualifier, dtype: int64"
      ]
     },
     "execution_count": 21,
     "metadata": {},
     "output_type": "execute_result"
    }
   ],
   "source": [
    "london_train[\"address_qualifier\"].value_counts()"
   ]
  },
  {
   "cell_type": "markdown",
   "id": "0e055645",
   "metadata": {},
   "source": [
    "There are not too many different categories for the address qualifier variable. We'll combine a few of them based on logical relationships. "
   ]
  },
  {
   "cell_type": "code",
   "execution_count": 76,
   "id": "42f5f675",
   "metadata": {},
   "outputs": [],
   "source": [
    "street = [\"In street outside gazetteer location\", \"In street remote from gazetteer location\", \n",
    "          \"In street close to gazetteer location\", \"Open land/water - nearest gazetteer location\"]\n",
    "london_train[\"address_qualifier\"].replace(street, \"Gazetter\", inplace = True)\n",
    "\n",
    "nearby = [\"Nearby address - no building in street\", \"Nearby address - street not listed in gazetteer\"]\n",
    "london_train[\"address_qualifier\"].replace(nearby, \"Nearby Address\", inplace = True)\n",
    "\n",
    "other = [\"On motorway / elevated road\", \"Railway land or rolling stock\"]\n",
    "london_train[\"address_qualifier\"].replace(other, \"Other\", inplace = True)"
   ]
  },
  {
   "cell_type": "code",
   "execution_count": 77,
   "id": "bbb34518",
   "metadata": {},
   "outputs": [
    {
     "data": {
      "text/plain": [
       "Correct incident location           16392\n",
       "Within same building                 4814\n",
       "Gazetter                             3993\n",
       "On land associated with building     1779\n",
       "Nearby Address                        237\n",
       "Other                                 194\n",
       "Name: address_qualifier, dtype: int64"
      ]
     },
     "execution_count": 77,
     "metadata": {},
     "output_type": "execute_result"
    }
   ],
   "source": [
    "london_train[\"address_qualifier\"].value_counts()"
   ]
  },
  {
   "cell_type": "markdown",
   "id": "a1c0fb1e",
   "metadata": {},
   "source": [
    "### Borough Name"
   ]
  },
  {
   "cell_type": "code",
   "execution_count": 24,
   "id": "4a0fc3da",
   "metadata": {},
   "outputs": [
    {
     "data": {
      "text/plain": [
       "WESTMINSTER               2114\n",
       "CAMDEN                    1272\n",
       "SOUTHWARK                 1215\n",
       "LAMBETH                   1172\n",
       "TOWER HAMLETS             1149\n",
       "HACKNEY                    994\n",
       "CROYDON                    980\n",
       "LEWISHAM                   923\n",
       "NEWHAM                     899\n",
       "EALING                     898\n",
       "WANDSWORTH                 890\n",
       "HILLINGDON                 884\n",
       "BARNET                     880\n",
       "GREENWICH                  857\n",
       "BRENT                      856\n",
       "KENSINGTON AND CHELSEA     852\n",
       "ENFIELD                    850\n",
       "ISLINGTON                  848\n",
       "HAMMERSMITH AND FULHAM     778\n",
       "BROMLEY                    768\n",
       "HARINGEY                   751\n",
       "WALTHAM FOREST             742\n",
       "HOUNSLOW                   699\n",
       "HAVERING                   607\n",
       "REDBRIDGE                  604\n",
       "BEXLEY                     559\n",
       "BARKING AND DAGENHAM       552\n",
       "MERTON                     527\n",
       "RICHMOND UPON THAMES       475\n",
       "HARROW                     469\n",
       "SUTTON                     461\n",
       "KINGSTON UPON THAMES       419\n",
       "CITY OF LONDON             309\n",
       " NOT GEO-CODED             156\n",
       "Name: borough_name, dtype: int64"
      ]
     },
     "execution_count": 24,
     "metadata": {},
     "output_type": "execute_result"
    }
   ],
   "source": [
    "london_train[\"borough_name\"].value_counts()"
   ]
  },
  {
   "cell_type": "markdown",
   "id": "adec16a4",
   "metadata": {},
   "source": [
    "We see that there is one category, \"NOT GEO_CODED\" that needs to be cleaned up for the borough name variable. Let's check if it has a corresponding postcode. "
   ]
  },
  {
   "cell_type": "markdown",
   "id": "f94238dc",
   "metadata": {},
   "source": [
    "We see that the postcode won't be useful in finding the correct borough for the missing values. Let's look at the ward. "
   ]
  },
  {
   "cell_type": "code",
   "execution_count": 78,
   "id": "529d3187",
   "metadata": {},
   "outputs": [
    {
     "data": {
      "text/plain": [
       "ward_name       borough_name  \n",
       " Not geo-coded   NOT GEO-CODED    156\n",
       "dtype: int64"
      ]
     },
     "execution_count": 78,
     "metadata": {},
     "output_type": "execute_result"
    }
   ],
   "source": [
    "london_train.loc[london_train[\"borough_name\"] == \" NOT GEO-CODED\", [\"ward_name\", \"borough_name\"]].value_counts()"
   ]
  },
  {
   "cell_type": "markdown",
   "id": "af834cda",
   "metadata": {},
   "source": [
    "We also see that every missing value for borough also has a corresponding missing value for ward. Therefore, we'll just drop the \"NOT GEO-CODED\" from borough. "
   ]
  },
  {
   "cell_type": "code",
   "execution_count": 79,
   "id": "5780f7af",
   "metadata": {},
   "outputs": [],
   "source": [
    "%%capture --no-stdout\n",
    "london_train[\"borough_name\"].replace(\" NOT GEO-CODED\", np.nan, inplace=True)\n",
    "london_train.dropna(subset=[\"borough_name\"], inplace = True)"
   ]
  },
  {
   "cell_type": "code",
   "execution_count": 27,
   "id": "a3d5e3a5",
   "metadata": {},
   "outputs": [
    {
     "data": {
      "text/plain": [
       "0"
      ]
     },
     "execution_count": 27,
     "metadata": {},
     "output_type": "execute_result"
    }
   ],
   "source": [
    "london_train[\"borough_name\"].isnull().sum()"
   ]
  },
  {
   "cell_type": "code",
   "execution_count": 28,
   "id": "e2cf29c8",
   "metadata": {},
   "outputs": [
    {
     "data": {
      "text/plain": [
       "33"
      ]
     },
     "execution_count": 28,
     "metadata": {},
     "output_type": "execute_result"
    }
   ],
   "source": [
    "#Total number of boroughs\n",
    "len(london_train[\"borough_name\"].unique())"
   ]
  },
  {
   "cell_type": "markdown",
   "id": "05cfd728",
   "metadata": {},
   "source": [
    "### Ward Name"
   ]
  },
  {
   "cell_type": "code",
   "execution_count": 29,
   "id": "9974c01e",
   "metadata": {},
   "outputs": [
    {
     "data": {
      "text/plain": [
       "WEST END                  518\n",
       "ST. JAMES'S               419\n",
       "FAIRFIELD                 186\n",
       "MARYLEBONE HIGH STREET    177\n",
       "KILBURN                   175\n",
       "                         ... \n",
       "CHEAP                       6\n",
       "CORNHILL                    6\n",
       "BASSISHAW                   5\n",
       "QUEENHITHE                  4\n",
       "DOWGATE                     4\n",
       "Name: ward_name, Length: 630, dtype: int64"
      ]
     },
     "execution_count": 29,
     "metadata": {},
     "output_type": "execute_result"
    }
   ],
   "source": [
    "london_train[\"ward_name\"].value_counts()"
   ]
  },
  {
   "cell_type": "code",
   "execution_count": 80,
   "id": "dd6eaf0d",
   "metadata": {},
   "outputs": [],
   "source": [
    "%%capture --no-stdout\n",
    "london_train[\"ward_name\"].replace(\" Not geo-coded\", np.nan, inplace=True)\n",
    "london_train.dropna(subset=[\"ward_name\"], inplace = True)"
   ]
  },
  {
   "cell_type": "code",
   "execution_count": 81,
   "id": "daccf12d",
   "metadata": {},
   "outputs": [
    {
     "data": {
      "text/plain": [
       "0"
      ]
     },
     "execution_count": 81,
     "metadata": {},
     "output_type": "execute_result"
    }
   ],
   "source": [
    "london_train[\"ward_name\"].isnull().sum()"
   ]
  },
  {
   "cell_type": "code",
   "execution_count": 82,
   "id": "69e60787",
   "metadata": {},
   "outputs": [
    {
     "data": {
      "text/html": [
       "<div>\n",
       "<style scoped>\n",
       "    .dataframe tbody tr th:only-of-type {\n",
       "        vertical-align: middle;\n",
       "    }\n",
       "\n",
       "    .dataframe tbody tr th {\n",
       "        vertical-align: top;\n",
       "    }\n",
       "\n",
       "    .dataframe thead th {\n",
       "        text-align: right;\n",
       "    }\n",
       "</style>\n",
       "<table border=\"1\" class=\"dataframe\">\n",
       "  <thead>\n",
       "    <tr style=\"text-align: right;\">\n",
       "      <th></th>\n",
       "      <th>ward_name</th>\n",
       "      <th>mean</th>\n",
       "      <th>sum</th>\n",
       "      <th>wn_rank</th>\n",
       "    </tr>\n",
       "  </thead>\n",
       "  <tbody>\n",
       "    <tr>\n",
       "      <th>0</th>\n",
       "      <td>ASHBURTON</td>\n",
       "      <td>91.666667</td>\n",
       "      <td>22</td>\n",
       "      <td>9</td>\n",
       "    </tr>\n",
       "    <tr>\n",
       "      <th>1</th>\n",
       "      <td>TUDOR</td>\n",
       "      <td>87.500000</td>\n",
       "      <td>14</td>\n",
       "      <td>8</td>\n",
       "    </tr>\n",
       "    <tr>\n",
       "      <th>2</th>\n",
       "      <td>DARWIN</td>\n",
       "      <td>85.714286</td>\n",
       "      <td>18</td>\n",
       "      <td>8</td>\n",
       "    </tr>\n",
       "    <tr>\n",
       "      <th>3</th>\n",
       "      <td>WANDSWORTH COMMON</td>\n",
       "      <td>85.714286</td>\n",
       "      <td>36</td>\n",
       "      <td>8</td>\n",
       "    </tr>\n",
       "    <tr>\n",
       "      <th>4</th>\n",
       "      <td>BECONTREE</td>\n",
       "      <td>84.000000</td>\n",
       "      <td>21</td>\n",
       "      <td>8</td>\n",
       "    </tr>\n",
       "    <tr>\n",
       "      <th>...</th>\n",
       "      <td>...</td>\n",
       "      <td>...</td>\n",
       "      <td>...</td>\n",
       "      <td>...</td>\n",
       "    </tr>\n",
       "    <tr>\n",
       "      <th>625</th>\n",
       "      <td>LANGBOURN</td>\n",
       "      <td>7.142857</td>\n",
       "      <td>1</td>\n",
       "      <td>0</td>\n",
       "    </tr>\n",
       "    <tr>\n",
       "      <th>626</th>\n",
       "      <td>WALBROOK</td>\n",
       "      <td>6.666667</td>\n",
       "      <td>1</td>\n",
       "      <td>0</td>\n",
       "    </tr>\n",
       "    <tr>\n",
       "      <th>627</th>\n",
       "      <td>CORDWAINER</td>\n",
       "      <td>6.250000</td>\n",
       "      <td>1</td>\n",
       "      <td>0</td>\n",
       "    </tr>\n",
       "    <tr>\n",
       "      <th>628</th>\n",
       "      <td>DOWGATE</td>\n",
       "      <td>0.000000</td>\n",
       "      <td>0</td>\n",
       "      <td>-1</td>\n",
       "    </tr>\n",
       "    <tr>\n",
       "      <th>629</th>\n",
       "      <td>ALDERSGATE</td>\n",
       "      <td>0.000000</td>\n",
       "      <td>0</td>\n",
       "      <td>-1</td>\n",
       "    </tr>\n",
       "  </tbody>\n",
       "</table>\n",
       "<p>630 rows × 4 columns</p>\n",
       "</div>"
      ],
      "text/plain": [
       "             ward_name       mean  sum  wn_rank\n",
       "0            ASHBURTON  91.666667   22        9\n",
       "1                TUDOR  87.500000   14        8\n",
       "2               DARWIN  85.714286   18        8\n",
       "3    WANDSWORTH COMMON  85.714286   36        8\n",
       "4            BECONTREE  84.000000   21        8\n",
       "..                 ...        ...  ...      ...\n",
       "625          LANGBOURN   7.142857    1        0\n",
       "626           WALBROOK   6.666667    1        0\n",
       "627         CORDWAINER   6.250000    1        0\n",
       "628            DOWGATE   0.000000    0       -1\n",
       "629         ALDERSGATE   0.000000    0       -1\n",
       "\n",
       "[630 rows x 4 columns]"
      ]
     },
     "execution_count": 82,
     "metadata": {},
     "output_type": "execute_result"
    }
   ],
   "source": [
    "#Group by property type and summarize by the Emergency variable\n",
    "wn_grp = london_train.groupby(\"ward_name\")[\"Emergency\"].aggregate([\"mean\", \"sum\"]).sort_values(by=\"mean\", ascending=False)\n",
    "wn_grp.reset_index(inplace = True)\n",
    "#Change the proportion into a percentage\n",
    "wn_grp[\"mean\"] *= 100\n",
    "#Create a new variable that ranks the values based on their percentage\n",
    "wn_grp[\"wn_rank\"] = (wn_grp[\"mean\"] / 10).astype(np.int)\n",
    "#Specifically change the values with 0 percentage to -1 as a special category i.e no chance it's a real emergency\n",
    "wn_grp.loc[wn_grp[\"mean\"] == 0, \"wn_rank\"] = -1\n",
    "wn_grp"
   ]
  },
  {
   "cell_type": "code",
   "execution_count": 83,
   "id": "0549e97b",
   "metadata": {},
   "outputs": [],
   "source": [
    "#Join the london data with the pt_df to match the property type rankings\n",
    "london_train = pd.merge(left = london_train, right = wn_grp[[\"ward_name\", \"wn_rank\"]], left_on = \"ward_name\", right_on=\"ward_name\")"
   ]
  },
  {
   "cell_type": "code",
   "execution_count": 84,
   "id": "1e832074",
   "metadata": {},
   "outputs": [
    {
     "data": {
      "text/html": [
       "<div>\n",
       "<style scoped>\n",
       "    .dataframe tbody tr th:only-of-type {\n",
       "        vertical-align: middle;\n",
       "    }\n",
       "\n",
       "    .dataframe tbody tr th {\n",
       "        vertical-align: top;\n",
       "    }\n",
       "\n",
       "    .dataframe thead th {\n",
       "        text-align: right;\n",
       "    }\n",
       "</style>\n",
       "<table border=\"1\" class=\"dataframe\">\n",
       "  <thead>\n",
       "    <tr style=\"text-align: right;\">\n",
       "      <th></th>\n",
       "      <th>Ward Name Rank</th>\n",
       "      <th>Number of Wards</th>\n",
       "    </tr>\n",
       "  </thead>\n",
       "  <tbody>\n",
       "    <tr>\n",
       "      <th>10</th>\n",
       "      <td>-1</td>\n",
       "      <td>10</td>\n",
       "    </tr>\n",
       "    <tr>\n",
       "      <th>8</th>\n",
       "      <td>0</td>\n",
       "      <td>72</td>\n",
       "    </tr>\n",
       "    <tr>\n",
       "      <th>7</th>\n",
       "      <td>1</td>\n",
       "      <td>195</td>\n",
       "    </tr>\n",
       "    <tr>\n",
       "      <th>5</th>\n",
       "      <td>2</td>\n",
       "      <td>1960</td>\n",
       "    </tr>\n",
       "    <tr>\n",
       "      <th>3</th>\n",
       "      <td>3</td>\n",
       "      <td>3518</td>\n",
       "    </tr>\n",
       "    <tr>\n",
       "      <th>1</th>\n",
       "      <td>4</td>\n",
       "      <td>5897</td>\n",
       "    </tr>\n",
       "    <tr>\n",
       "      <th>0</th>\n",
       "      <td>5</td>\n",
       "      <td>7845</td>\n",
       "    </tr>\n",
       "    <tr>\n",
       "      <th>2</th>\n",
       "      <td>6</td>\n",
       "      <td>5244</td>\n",
       "    </tr>\n",
       "    <tr>\n",
       "      <th>4</th>\n",
       "      <td>7</td>\n",
       "      <td>1973</td>\n",
       "    </tr>\n",
       "    <tr>\n",
       "      <th>6</th>\n",
       "      <td>8</td>\n",
       "      <td>515</td>\n",
       "    </tr>\n",
       "    <tr>\n",
       "      <th>9</th>\n",
       "      <td>9</td>\n",
       "      <td>24</td>\n",
       "    </tr>\n",
       "  </tbody>\n",
       "</table>\n",
       "</div>"
      ],
      "text/plain": [
       "    Ward Name Rank  Number of Wards\n",
       "10              -1               10\n",
       "8                0               72\n",
       "7                1              195\n",
       "5                2             1960\n",
       "3                3             3518\n",
       "1                4             5897\n",
       "0                5             7845\n",
       "2                6             5244\n",
       "4                7             1973\n",
       "6                8              515\n",
       "9                9               24"
      ]
     },
     "execution_count": 84,
     "metadata": {},
     "output_type": "execute_result"
    }
   ],
   "source": [
    "london_train[\"wn_rank\"].value_counts().reset_index()\\\n",
    "                                      .rename(columns={\"index\":\"Ward Name Rank\", \"wn_rank\":\"Number of Wards\"})\\\n",
    "                                      .sort_values(by=\"Ward Name Rank\")"
   ]
  },
  {
   "cell_type": "markdown",
   "id": "d9279796",
   "metadata": {},
   "source": [
    "### First Pump Arrving Deployed From Station"
   ]
  },
  {
   "cell_type": "code",
   "execution_count": 257,
   "id": "e801cb55",
   "metadata": {},
   "outputs": [
    {
     "data": {
      "text/plain": [
       "1392"
      ]
     },
     "execution_count": 257,
     "metadata": {},
     "output_type": "execute_result"
    }
   ],
   "source": [
    "london_train[\"first_station\"].isnull().sum()"
   ]
  },
  {
   "cell_type": "code",
   "execution_count": 258,
   "id": "69b8f158",
   "metadata": {},
   "outputs": [
    {
     "data": {
      "text/html": [
       "<div>\n",
       "<style scoped>\n",
       "    .dataframe tbody tr th:only-of-type {\n",
       "        vertical-align: middle;\n",
       "    }\n",
       "\n",
       "    .dataframe tbody tr th {\n",
       "        vertical-align: top;\n",
       "    }\n",
       "\n",
       "    .dataframe thead th {\n",
       "        text-align: right;\n",
       "    }\n",
       "</style>\n",
       "<table border=\"1\" class=\"dataframe\">\n",
       "  <thead>\n",
       "    <tr style=\"text-align: right;\">\n",
       "      <th></th>\n",
       "      <th>incident_number</th>\n",
       "      <th>timestamp_of_call</th>\n",
       "      <th>incident_group</th>\n",
       "      <th>stop_code_description</th>\n",
       "      <th>property_category</th>\n",
       "      <th>property_type</th>\n",
       "      <th>address_qualifier</th>\n",
       "      <th>borough_name</th>\n",
       "      <th>ward_name</th>\n",
       "      <th>first_time</th>\n",
       "      <th>first_station</th>\n",
       "      <th>station_pumps</th>\n",
       "      <th>pumps_attending</th>\n",
       "      <th>Emergency</th>\n",
       "      <th>Month</th>\n",
       "      <th>Hour</th>\n",
       "      <th>pt_rank</th>\n",
       "      <th>wn_rank</th>\n",
       "    </tr>\n",
       "  </thead>\n",
       "  <tbody>\n",
       "    <tr>\n",
       "      <th>29</th>\n",
       "      <td>014413-03022017</td>\n",
       "      <td>2017-02-03 18:36:39+00:00</td>\n",
       "      <td>Emergency</td>\n",
       "      <td>Special Service</td>\n",
       "      <td>Residential</td>\n",
       "      <td>Purpose Built Flats/Maisonettes - 4 to 9 storeys</td>\n",
       "      <td>Within same building</td>\n",
       "      <td>BROMLEY</td>\n",
       "      <td>ORPINGTON</td>\n",
       "      <td>&lt;NA&gt;</td>\n",
       "      <td>None</td>\n",
       "      <td>1</td>\n",
       "      <td>1</td>\n",
       "      <td>1</td>\n",
       "      <td>2</td>\n",
       "      <td>18</td>\n",
       "      <td>6</td>\n",
       "      <td>5</td>\n",
       "    </tr>\n",
       "    <tr>\n",
       "      <th>30</th>\n",
       "      <td>013424-01022017</td>\n",
       "      <td>2017-02-01 08:29:47+00:00</td>\n",
       "      <td>Emergency</td>\n",
       "      <td>Special Service</td>\n",
       "      <td>Residential</td>\n",
       "      <td>Purpose Built Flats/Maisonettes - 4 to 9 storeys</td>\n",
       "      <td>Within same building</td>\n",
       "      <td>BROMLEY</td>\n",
       "      <td>ORPINGTON</td>\n",
       "      <td>&lt;NA&gt;</td>\n",
       "      <td>None</td>\n",
       "      <td>1</td>\n",
       "      <td>1</td>\n",
       "      <td>1</td>\n",
       "      <td>2</td>\n",
       "      <td>8</td>\n",
       "      <td>6</td>\n",
       "      <td>5</td>\n",
       "    </tr>\n",
       "    <tr>\n",
       "      <th>32</th>\n",
       "      <td>049618-21042017</td>\n",
       "      <td>2017-04-21 15:20:47+00:00</td>\n",
       "      <td>Emergency</td>\n",
       "      <td>Special Service</td>\n",
       "      <td>Residential</td>\n",
       "      <td>Purpose Built Flats/Maisonettes - 4 to 9 storeys</td>\n",
       "      <td>Correct incident location</td>\n",
       "      <td>BROMLEY</td>\n",
       "      <td>ORPINGTON</td>\n",
       "      <td>&lt;NA&gt;</td>\n",
       "      <td>None</td>\n",
       "      <td>1</td>\n",
       "      <td>1</td>\n",
       "      <td>1</td>\n",
       "      <td>4</td>\n",
       "      <td>15</td>\n",
       "      <td>6</td>\n",
       "      <td>5</td>\n",
       "    </tr>\n",
       "    <tr>\n",
       "      <th>61</th>\n",
       "      <td>034258-21032017</td>\n",
       "      <td>2017-03-21 23:32:24+00:00</td>\n",
       "      <td>False Alarm</td>\n",
       "      <td>False alarm - Good intent</td>\n",
       "      <td>Residential</td>\n",
       "      <td>House - single occupancy</td>\n",
       "      <td>Correct incident location</td>\n",
       "      <td>HOUNSLOW</td>\n",
       "      <td>HANWORTH PARK</td>\n",
       "      <td>&lt;NA&gt;</td>\n",
       "      <td>None</td>\n",
       "      <td>1</td>\n",
       "      <td>1</td>\n",
       "      <td>0</td>\n",
       "      <td>3</td>\n",
       "      <td>23</td>\n",
       "      <td>5</td>\n",
       "      <td>6</td>\n",
       "    </tr>\n",
       "    <tr>\n",
       "      <th>62</th>\n",
       "      <td>018581-13022017</td>\n",
       "      <td>2017-02-13 17:34:31+00:00</td>\n",
       "      <td>Emergency</td>\n",
       "      <td>Special Service</td>\n",
       "      <td>Residential</td>\n",
       "      <td>Purpose Built Flats/Maisonettes - 4 to 9 storeys</td>\n",
       "      <td>Correct incident location</td>\n",
       "      <td>HOUNSLOW</td>\n",
       "      <td>HANWORTH PARK</td>\n",
       "      <td>&lt;NA&gt;</td>\n",
       "      <td>None</td>\n",
       "      <td>1</td>\n",
       "      <td>1</td>\n",
       "      <td>1</td>\n",
       "      <td>2</td>\n",
       "      <td>17</td>\n",
       "      <td>6</td>\n",
       "      <td>6</td>\n",
       "    </tr>\n",
       "  </tbody>\n",
       "</table>\n",
       "</div>"
      ],
      "text/plain": [
       "    incident_number         timestamp_of_call incident_group  \\\n",
       "29  014413-03022017 2017-02-03 18:36:39+00:00      Emergency   \n",
       "30  013424-01022017 2017-02-01 08:29:47+00:00      Emergency   \n",
       "32  049618-21042017 2017-04-21 15:20:47+00:00      Emergency   \n",
       "61  034258-21032017 2017-03-21 23:32:24+00:00    False Alarm   \n",
       "62  018581-13022017 2017-02-13 17:34:31+00:00      Emergency   \n",
       "\n",
       "        stop_code_description property_category  \\\n",
       "29            Special Service       Residential   \n",
       "30            Special Service       Residential   \n",
       "32            Special Service       Residential   \n",
       "61  False alarm - Good intent       Residential   \n",
       "62            Special Service       Residential   \n",
       "\n",
       "                                        property_type  \\\n",
       "29  Purpose Built Flats/Maisonettes - 4 to 9 storeys    \n",
       "30  Purpose Built Flats/Maisonettes - 4 to 9 storeys    \n",
       "32  Purpose Built Flats/Maisonettes - 4 to 9 storeys    \n",
       "61                          House - single occupancy    \n",
       "62  Purpose Built Flats/Maisonettes - 4 to 9 storeys    \n",
       "\n",
       "            address_qualifier borough_name      ward_name  first_time  \\\n",
       "29       Within same building      BROMLEY      ORPINGTON        <NA>   \n",
       "30       Within same building      BROMLEY      ORPINGTON        <NA>   \n",
       "32  Correct incident location      BROMLEY      ORPINGTON        <NA>   \n",
       "61  Correct incident location     HOUNSLOW  HANWORTH PARK        <NA>   \n",
       "62  Correct incident location     HOUNSLOW  HANWORTH PARK        <NA>   \n",
       "\n",
       "   first_station  station_pumps  pumps_attending  Emergency  Month  Hour  \\\n",
       "29          None              1                1          1      2    18   \n",
       "30          None              1                1          1      2     8   \n",
       "32          None              1                1          1      4    15   \n",
       "61          None              1                1          0      3    23   \n",
       "62          None              1                1          1      2    17   \n",
       "\n",
       "    pt_rank  wn_rank  \n",
       "29        6        5  \n",
       "30        6        5  \n",
       "32        6        5  \n",
       "61        5        6  \n",
       "62        6        6  "
      ]
     },
     "execution_count": 258,
     "metadata": {},
     "output_type": "execute_result"
    }
   ],
   "source": [
    "london_train.loc[london_train[\"first_station\"].isnull()].head()"
   ]
  },
  {
   "cell_type": "markdown",
   "id": "63130631",
   "metadata": {},
   "source": [
    "Since this is a categorical variable and it represents a location, we'll look at it and ward name together to see if we can impute the missing values based on the filled in stations for the wards. "
   ]
  },
  {
   "cell_type": "code",
   "execution_count": 206,
   "id": "44a4d4bd",
   "metadata": {},
   "outputs": [
    {
     "data": {
      "text/html": [
       "<div>\n",
       "<style scoped>\n",
       "    .dataframe tbody tr th:only-of-type {\n",
       "        vertical-align: middle;\n",
       "    }\n",
       "\n",
       "    .dataframe tbody tr th {\n",
       "        vertical-align: top;\n",
       "    }\n",
       "\n",
       "    .dataframe thead th {\n",
       "        text-align: right;\n",
       "    }\n",
       "</style>\n",
       "<table border=\"1\" class=\"dataframe\">\n",
       "  <thead>\n",
       "    <tr style=\"text-align: right;\">\n",
       "      <th></th>\n",
       "      <th>ward_name</th>\n",
       "      <th>first_station</th>\n",
       "      <th>Count</th>\n",
       "    </tr>\n",
       "  </thead>\n",
       "  <tbody>\n",
       "    <tr>\n",
       "      <th>0</th>\n",
       "      <td>WEST END</td>\n",
       "      <td>Soho</td>\n",
       "      <td>403</td>\n",
       "    </tr>\n",
       "    <tr>\n",
       "      <th>1</th>\n",
       "      <td>ST. JAMES'S</td>\n",
       "      <td>Soho</td>\n",
       "      <td>275</td>\n",
       "    </tr>\n",
       "    <tr>\n",
       "      <th>2</th>\n",
       "      <td>FAIRFIELD</td>\n",
       "      <td>Croydon</td>\n",
       "      <td>127</td>\n",
       "    </tr>\n",
       "    <tr>\n",
       "      <th>3</th>\n",
       "      <td>HOLBORN AND COVENT GARDEN</td>\n",
       "      <td>Soho</td>\n",
       "      <td>119</td>\n",
       "    </tr>\n",
       "    <tr>\n",
       "      <th>4</th>\n",
       "      <td>BUNHILL</td>\n",
       "      <td>Shoreditch</td>\n",
       "      <td>117</td>\n",
       "    </tr>\n",
       "    <tr>\n",
       "      <th>...</th>\n",
       "      <td>...</td>\n",
       "      <td>...</td>\n",
       "      <td>...</td>\n",
       "    </tr>\n",
       "    <tr>\n",
       "      <th>2360</th>\n",
       "      <td>GLYNDON</td>\n",
       "      <td>Eltham</td>\n",
       "      <td>1</td>\n",
       "    </tr>\n",
       "    <tr>\n",
       "      <th>2361</th>\n",
       "      <td>GIPSY HILL</td>\n",
       "      <td>Woodside</td>\n",
       "      <td>1</td>\n",
       "    </tr>\n",
       "    <tr>\n",
       "      <th>2362</th>\n",
       "      <td>GIPSY HILL</td>\n",
       "      <td>Forest Hill</td>\n",
       "      <td>1</td>\n",
       "    </tr>\n",
       "    <tr>\n",
       "      <th>2363</th>\n",
       "      <td>SOUTH NORWOOD</td>\n",
       "      <td>Croydon</td>\n",
       "      <td>1</td>\n",
       "    </tr>\n",
       "    <tr>\n",
       "      <th>2364</th>\n",
       "      <td>HOLLOWAY</td>\n",
       "      <td>Euston</td>\n",
       "      <td>1</td>\n",
       "    </tr>\n",
       "  </tbody>\n",
       "</table>\n",
       "<p>2365 rows × 3 columns</p>\n",
       "</div>"
      ],
      "text/plain": [
       "                      ward_name first_station  Count\n",
       "0                      WEST END          Soho    403\n",
       "1                   ST. JAMES'S          Soho    275\n",
       "2                     FAIRFIELD       Croydon    127\n",
       "3     HOLBORN AND COVENT GARDEN          Soho    119\n",
       "4                       BUNHILL    Shoreditch    117\n",
       "...                         ...           ...    ...\n",
       "2360                    GLYNDON        Eltham      1\n",
       "2361                 GIPSY HILL      Woodside      1\n",
       "2362                 GIPSY HILL   Forest Hill      1\n",
       "2363              SOUTH NORWOOD       Croydon      1\n",
       "2364                   HOLLOWAY        Euston      1\n",
       "\n",
       "[2365 rows x 3 columns]"
      ]
     },
     "execution_count": 206,
     "metadata": {},
     "output_type": "execute_result"
    }
   ],
   "source": [
    "station_df = pd.DataFrame(london_train[[\"ward_name\", \"first_station\"]].value_counts())\n",
    "station_df = station_df.reset_index().rename(columns={0: \"Count\"})\n",
    "station_df"
   ]
  },
  {
   "cell_type": "markdown",
   "id": "3709283a",
   "metadata": {},
   "source": [
    "We see that some stations map to multiple wards. However, let's impute the missing stations based on the highest counts for the ward. For instance, if there are any missing stations in the West End ward, we'll impute the value as Soho. "
   ]
  },
  {
   "cell_type": "code",
   "execution_count": 35,
   "id": "544178a1",
   "metadata": {},
   "outputs": [],
   "source": [
    "def station_imputer(df):\n",
    "    \"\"\"\n",
    "    This function imputes the missing stations for the london data set by setting them to the most occurring stations in \n",
    "    their ward. \n",
    "    \n",
    "    params:\n",
    "        df: Dataframe containing the necessary columns\n",
    "        \n",
    "    returns:\n",
    "        df: Dataframe with the missing values imputed\n",
    "    \n",
    "    \"\"\"\n",
    "    #Create a list of wards that have missing stations\n",
    "    miss_stat_wards = list(df.loc[df[\"first_station\"].isnull(), \"ward_name\"].drop_duplicates())\n",
    "    #Convert the column to a string type. If not, there's a data type mismatch\n",
    "    #df[\"first_station\"] = df[\"first_station\"].astype(str)\n",
    "    df[\"first_station\"] = df[\"first_station\"].astype(\"category\")\n",
    "    #print(\"Made it here!\")\n",
    "    def ward_to_station(df):\n",
    "        \"\"\"\n",
    "        This function creates a data frame that has the counts of the wards and stations to be used to find the station \n",
    "        with the most counts to be used in the imputer function\n",
    "        \"\"\"\n",
    "        station_df = pd.DataFrame(df[[\"ward_name\", \"first_station\"]].value_counts())\n",
    "        station_df = station_df.reset_index().rename(columns={0: \"Count\"})\n",
    "        \n",
    "        return station_df\n",
    "    #print(\"Made it here!\")\n",
    "    wts_df = ward_to_station(df=df)\n",
    "    wts_df.reset_index(drop=True, inplace = True)\n",
    "    #print(\"Made it here!\")\n",
    "    #Loop through all the wards that have missing stations\n",
    "    #print(len(miss_stat_wards))\n",
    "    for ward in miss_stat_wards:\n",
    "        #print(\"Made it here!\")\n",
    "        #print(ward)\n",
    "        #Set a mask based on the ward\n",
    "        mask = wts_df[\"ward_name\"].str.contains(ward)\n",
    "        #Create a temporary dataframe containing only the single ward and possibly multiple stations\n",
    "        temp_df = wts_df.loc[mask]\n",
    "        temp_df.reset_index(drop=True, inplace=True)\n",
    "        #Get the index of the station with the highest count in the ward\n",
    "        max_cnt_ward = temp_df[\"Count\"].argmax()\n",
    "        #Get the station\n",
    "        station = temp_df.loc[max_cnt_ward, \"first_station\"]\n",
    "        #print(station)\n",
    "        #Impute the missing station given the what ward it is in\n",
    "        #df.loc[mask & df[\"first_station\"].isnull()] = station\n",
    "        df.loc[(df[\"ward_name\"] == ward) & (df[\"first_station\"].isnull()), \"first_station\"] = station\n",
    "        #print(\"Made it here!\")\n",
    "    return df\n",
    "  "
   ]
  },
  {
   "cell_type": "code",
   "execution_count": 85,
   "id": "a0625114",
   "metadata": {},
   "outputs": [],
   "source": [
    "london_train = station_imputer(london_train)"
   ]
  },
  {
   "cell_type": "code",
   "execution_count": 86,
   "id": "2e5623c7",
   "metadata": {},
   "outputs": [
    {
     "data": {
      "text/plain": [
       "0"
      ]
     },
     "execution_count": 86,
     "metadata": {},
     "output_type": "execute_result"
    }
   ],
   "source": [
    "london_train[\"first_station\"].isnull().sum()"
   ]
  },
  {
   "cell_type": "markdown",
   "id": "160b30a0",
   "metadata": {},
   "source": [
    "Now that we have all the missing values imputed, we can go ahead and look at the different categories. "
   ]
  },
  {
   "cell_type": "code",
   "execution_count": 38,
   "id": "0b6401dc",
   "metadata": {},
   "outputs": [
    {
     "data": {
      "text/plain": [
       "Soho              1062\n",
       "Lambeth            616\n",
       "Paddington         570\n",
       "Euston             531\n",
       "West Hampstead     525\n",
       "                  ... \n",
       "Addington          127\n",
       "Purley             108\n",
       "Hainault            94\n",
       "Wennington          63\n",
       "Biggin Hill         26\n",
       "Name: first_station, Length: 102, dtype: int64"
      ]
     },
     "execution_count": 38,
     "metadata": {},
     "output_type": "execute_result"
    }
   ],
   "source": [
    "london_train[\"first_station\"].value_counts()"
   ]
  },
  {
   "cell_type": "code",
   "execution_count": 87,
   "id": "e6287c47",
   "metadata": {},
   "outputs": [
    {
     "data": {
      "text/html": [
       "<div>\n",
       "<style scoped>\n",
       "    .dataframe tbody tr th:only-of-type {\n",
       "        vertical-align: middle;\n",
       "    }\n",
       "\n",
       "    .dataframe tbody tr th {\n",
       "        vertical-align: top;\n",
       "    }\n",
       "\n",
       "    .dataframe thead th {\n",
       "        text-align: right;\n",
       "    }\n",
       "</style>\n",
       "<table border=\"1\" class=\"dataframe\">\n",
       "  <thead>\n",
       "    <tr style=\"text-align: right;\">\n",
       "      <th></th>\n",
       "      <th>first_station</th>\n",
       "      <th>mean</th>\n",
       "      <th>sum</th>\n",
       "      <th>count</th>\n",
       "    </tr>\n",
       "  </thead>\n",
       "  <tbody>\n",
       "    <tr>\n",
       "      <th>82</th>\n",
       "      <td>Surbiton</td>\n",
       "      <td>43.979058</td>\n",
       "      <td>84</td>\n",
       "      <td>191</td>\n",
       "    </tr>\n",
       "    <tr>\n",
       "      <th>83</th>\n",
       "      <td>Lambeth</td>\n",
       "      <td>43.831169</td>\n",
       "      <td>270</td>\n",
       "      <td>616</td>\n",
       "    </tr>\n",
       "    <tr>\n",
       "      <th>84</th>\n",
       "      <td>Harrow</td>\n",
       "      <td>43.414634</td>\n",
       "      <td>89</td>\n",
       "      <td>205</td>\n",
       "    </tr>\n",
       "    <tr>\n",
       "      <th>85</th>\n",
       "      <td>Acton</td>\n",
       "      <td>43.369176</td>\n",
       "      <td>121</td>\n",
       "      <td>279</td>\n",
       "    </tr>\n",
       "    <tr>\n",
       "      <th>86</th>\n",
       "      <td>Lewisham</td>\n",
       "      <td>43.145161</td>\n",
       "      <td>107</td>\n",
       "      <td>248</td>\n",
       "    </tr>\n",
       "    <tr>\n",
       "      <th>87</th>\n",
       "      <td>Wennington</td>\n",
       "      <td>42.857143</td>\n",
       "      <td>27</td>\n",
       "      <td>63</td>\n",
       "    </tr>\n",
       "    <tr>\n",
       "      <th>88</th>\n",
       "      <td>Shoreditch</td>\n",
       "      <td>42.769857</td>\n",
       "      <td>210</td>\n",
       "      <td>491</td>\n",
       "    </tr>\n",
       "    <tr>\n",
       "      <th>89</th>\n",
       "      <td>Paddington</td>\n",
       "      <td>42.105263</td>\n",
       "      <td>240</td>\n",
       "      <td>570</td>\n",
       "    </tr>\n",
       "    <tr>\n",
       "      <th>90</th>\n",
       "      <td>North Kensington</td>\n",
       "      <td>41.970021</td>\n",
       "      <td>196</td>\n",
       "      <td>467</td>\n",
       "    </tr>\n",
       "    <tr>\n",
       "      <th>91</th>\n",
       "      <td>Richmond</td>\n",
       "      <td>41.081081</td>\n",
       "      <td>76</td>\n",
       "      <td>185</td>\n",
       "    </tr>\n",
       "    <tr>\n",
       "      <th>92</th>\n",
       "      <td>Hammersmith</td>\n",
       "      <td>40.938166</td>\n",
       "      <td>192</td>\n",
       "      <td>469</td>\n",
       "    </tr>\n",
       "    <tr>\n",
       "      <th>93</th>\n",
       "      <td>Fulham</td>\n",
       "      <td>40.287770</td>\n",
       "      <td>112</td>\n",
       "      <td>278</td>\n",
       "    </tr>\n",
       "    <tr>\n",
       "      <th>94</th>\n",
       "      <td>Chingford</td>\n",
       "      <td>39.743590</td>\n",
       "      <td>62</td>\n",
       "      <td>156</td>\n",
       "    </tr>\n",
       "    <tr>\n",
       "      <th>95</th>\n",
       "      <td>Whitechapel</td>\n",
       "      <td>39.716312</td>\n",
       "      <td>112</td>\n",
       "      <td>282</td>\n",
       "    </tr>\n",
       "    <tr>\n",
       "      <th>96</th>\n",
       "      <td>New Malden</td>\n",
       "      <td>37.869822</td>\n",
       "      <td>64</td>\n",
       "      <td>169</td>\n",
       "    </tr>\n",
       "    <tr>\n",
       "      <th>97</th>\n",
       "      <td>Euston</td>\n",
       "      <td>36.723164</td>\n",
       "      <td>195</td>\n",
       "      <td>531</td>\n",
       "    </tr>\n",
       "    <tr>\n",
       "      <th>98</th>\n",
       "      <td>Chelsea</td>\n",
       "      <td>36.470588</td>\n",
       "      <td>155</td>\n",
       "      <td>425</td>\n",
       "    </tr>\n",
       "    <tr>\n",
       "      <th>99</th>\n",
       "      <td>Kensington</td>\n",
       "      <td>36.065574</td>\n",
       "      <td>110</td>\n",
       "      <td>305</td>\n",
       "    </tr>\n",
       "    <tr>\n",
       "      <th>100</th>\n",
       "      <td>Soho</td>\n",
       "      <td>29.472693</td>\n",
       "      <td>313</td>\n",
       "      <td>1062</td>\n",
       "    </tr>\n",
       "    <tr>\n",
       "      <th>101</th>\n",
       "      <td>Dowgate</td>\n",
       "      <td>29.310345</td>\n",
       "      <td>102</td>\n",
       "      <td>348</td>\n",
       "    </tr>\n",
       "  </tbody>\n",
       "</table>\n",
       "</div>"
      ],
      "text/plain": [
       "        first_station       mean  sum  count\n",
       "82           Surbiton  43.979058   84    191\n",
       "83            Lambeth  43.831169  270    616\n",
       "84             Harrow  43.414634   89    205\n",
       "85              Acton  43.369176  121    279\n",
       "86           Lewisham  43.145161  107    248\n",
       "87         Wennington  42.857143   27     63\n",
       "88         Shoreditch  42.769857  210    491\n",
       "89         Paddington  42.105263  240    570\n",
       "90   North Kensington  41.970021  196    467\n",
       "91           Richmond  41.081081   76    185\n",
       "92        Hammersmith  40.938166  192    469\n",
       "93             Fulham  40.287770  112    278\n",
       "94          Chingford  39.743590   62    156\n",
       "95        Whitechapel  39.716312  112    282\n",
       "96         New Malden  37.869822   64    169\n",
       "97             Euston  36.723164  195    531\n",
       "98            Chelsea  36.470588  155    425\n",
       "99         Kensington  36.065574  110    305\n",
       "100              Soho  29.472693  313   1062\n",
       "101           Dowgate  29.310345  102    348"
      ]
     },
     "execution_count": 87,
     "metadata": {},
     "output_type": "execute_result"
    }
   ],
   "source": [
    "#Group by property type and summarize by the Emergency variable\n",
    "stat_grp = london_train.groupby(\"first_station\")[\"Emergency\"].aggregate([\"mean\", \"sum\", \"count\"]).sort_values(by=\"mean\", ascending=False)\n",
    "stat_grp.reset_index(inplace = True)\n",
    "#Change the proportion into a percentage\n",
    "stat_grp[\"mean\"] *= 100\n",
    "stat_grp.tail(20)"
   ]
  },
  {
   "cell_type": "code",
   "execution_count": 88,
   "id": "3da2ee01",
   "metadata": {},
   "outputs": [
    {
     "data": {
      "text/html": [
       "<div>\n",
       "<style scoped>\n",
       "    .dataframe tbody tr th:only-of-type {\n",
       "        vertical-align: middle;\n",
       "    }\n",
       "\n",
       "    .dataframe tbody tr th {\n",
       "        vertical-align: top;\n",
       "    }\n",
       "\n",
       "    .dataframe thead th {\n",
       "        text-align: right;\n",
       "    }\n",
       "</style>\n",
       "<table border=\"1\" class=\"dataframe\">\n",
       "  <thead>\n",
       "    <tr style=\"text-align: right;\">\n",
       "      <th></th>\n",
       "      <th>first_station</th>\n",
       "      <th>mean</th>\n",
       "      <th>sum</th>\n",
       "      <th>stat_rank</th>\n",
       "    </tr>\n",
       "  </thead>\n",
       "  <tbody>\n",
       "    <tr>\n",
       "      <th>0</th>\n",
       "      <td>Orpington</td>\n",
       "      <td>73.333333</td>\n",
       "      <td>154</td>\n",
       "      <td>7</td>\n",
       "    </tr>\n",
       "    <tr>\n",
       "      <th>1</th>\n",
       "      <td>Eltham</td>\n",
       "      <td>66.666667</td>\n",
       "      <td>114</td>\n",
       "      <td>6</td>\n",
       "    </tr>\n",
       "    <tr>\n",
       "      <th>2</th>\n",
       "      <td>Plaistow</td>\n",
       "      <td>66.000000</td>\n",
       "      <td>198</td>\n",
       "      <td>6</td>\n",
       "    </tr>\n",
       "    <tr>\n",
       "      <th>3</th>\n",
       "      <td>Poplar</td>\n",
       "      <td>65.714286</td>\n",
       "      <td>184</td>\n",
       "      <td>6</td>\n",
       "    </tr>\n",
       "    <tr>\n",
       "      <th>4</th>\n",
       "      <td>Dagenham</td>\n",
       "      <td>65.505226</td>\n",
       "      <td>188</td>\n",
       "      <td>6</td>\n",
       "    </tr>\n",
       "    <tr>\n",
       "      <th>5</th>\n",
       "      <td>Biggin Hill</td>\n",
       "      <td>65.384615</td>\n",
       "      <td>17</td>\n",
       "      <td>6</td>\n",
       "    </tr>\n",
       "    <tr>\n",
       "      <th>6</th>\n",
       "      <td>Addington</td>\n",
       "      <td>65.354331</td>\n",
       "      <td>83</td>\n",
       "      <td>6</td>\n",
       "    </tr>\n",
       "    <tr>\n",
       "      <th>7</th>\n",
       "      <td>Edmonton</td>\n",
       "      <td>64.802632</td>\n",
       "      <td>197</td>\n",
       "      <td>6</td>\n",
       "    </tr>\n",
       "    <tr>\n",
       "      <th>8</th>\n",
       "      <td>Plumstead</td>\n",
       "      <td>64.470588</td>\n",
       "      <td>274</td>\n",
       "      <td>6</td>\n",
       "    </tr>\n",
       "    <tr>\n",
       "      <th>9</th>\n",
       "      <td>East Ham</td>\n",
       "      <td>63.713080</td>\n",
       "      <td>151</td>\n",
       "      <td>6</td>\n",
       "    </tr>\n",
       "  </tbody>\n",
       "</table>\n",
       "</div>"
      ],
      "text/plain": [
       "  first_station       mean  sum  stat_rank\n",
       "0     Orpington  73.333333  154          7\n",
       "1        Eltham  66.666667  114          6\n",
       "2      Plaistow  66.000000  198          6\n",
       "3        Poplar  65.714286  184          6\n",
       "4      Dagenham  65.505226  188          6\n",
       "5   Biggin Hill  65.384615   17          6\n",
       "6     Addington  65.354331   83          6\n",
       "7      Edmonton  64.802632  197          6\n",
       "8     Plumstead  64.470588  274          6\n",
       "9      East Ham  63.713080  151          6"
      ]
     },
     "execution_count": 88,
     "metadata": {},
     "output_type": "execute_result"
    }
   ],
   "source": [
    "#Group by property type and summarize by the Emergency variable\n",
    "stat_grp = london_train.groupby(\"first_station\")[\"Emergency\"].aggregate([\"mean\", \"sum\"]).sort_values(by=\"mean\", ascending=False)\n",
    "stat_grp.reset_index(inplace = True)\n",
    "#Change the proportion into a percentage\n",
    "stat_grp[\"mean\"] *= 100\n",
    "#Create a new variable that ranks the values based on their percentage\n",
    "stat_grp[\"stat_rank\"] = (stat_grp[\"mean\"] / 10).astype(np.int)\n",
    "stat_grp.head(10)"
   ]
  },
  {
   "cell_type": "code",
   "execution_count": 89,
   "id": "d751b3fa",
   "metadata": {},
   "outputs": [],
   "source": [
    "london_train = pd.merge(left = london_train, right = stat_grp[[\"first_station\", \"stat_rank\"]], left_on = \"first_station\", right_on=\"first_station\")"
   ]
  },
  {
   "cell_type": "code",
   "execution_count": 90,
   "id": "d914bc4c",
   "metadata": {},
   "outputs": [
    {
     "data": {
      "text/html": [
       "<div>\n",
       "<style scoped>\n",
       "    .dataframe tbody tr th:only-of-type {\n",
       "        vertical-align: middle;\n",
       "    }\n",
       "\n",
       "    .dataframe tbody tr th {\n",
       "        vertical-align: top;\n",
       "    }\n",
       "\n",
       "    .dataframe thead th {\n",
       "        text-align: right;\n",
       "    }\n",
       "</style>\n",
       "<table border=\"1\" class=\"dataframe\">\n",
       "  <thead>\n",
       "    <tr style=\"text-align: right;\">\n",
       "      <th></th>\n",
       "      <th>stat_rank</th>\n",
       "      <th>Number of Stations</th>\n",
       "    </tr>\n",
       "  </thead>\n",
       "  <tbody>\n",
       "    <tr>\n",
       "      <th>4</th>\n",
       "      <td>2</td>\n",
       "      <td>1410</td>\n",
       "    </tr>\n",
       "    <tr>\n",
       "      <th>3</th>\n",
       "      <td>3</td>\n",
       "      <td>1868</td>\n",
       "    </tr>\n",
       "    <tr>\n",
       "      <th>1</th>\n",
       "      <td>4</td>\n",
       "      <td>7620</td>\n",
       "    </tr>\n",
       "    <tr>\n",
       "      <th>0</th>\n",
       "      <td>5</td>\n",
       "      <td>11798</td>\n",
       "    </tr>\n",
       "    <tr>\n",
       "      <th>2</th>\n",
       "      <td>6</td>\n",
       "      <td>4347</td>\n",
       "    </tr>\n",
       "    <tr>\n",
       "      <th>5</th>\n",
       "      <td>7</td>\n",
       "      <td>210</td>\n",
       "    </tr>\n",
       "  </tbody>\n",
       "</table>\n",
       "</div>"
      ],
      "text/plain": [
       "   stat_rank  Number of Stations\n",
       "4          2                1410\n",
       "3          3                1868\n",
       "1          4                7620\n",
       "0          5               11798\n",
       "2          6                4347\n",
       "5          7                 210"
      ]
     },
     "execution_count": 90,
     "metadata": {},
     "output_type": "execute_result"
    }
   ],
   "source": [
    "london_train[\"stat_rank\"].value_counts()\\\n",
    "                         .reset_index()\\\n",
    "                         .rename(columns={\"index\":\"stat_rank\", \"stat_rank\":\"Number of Stations\"})\\\n",
    "                         .sort_values(by=\"stat_rank\")"
   ]
  },
  {
   "cell_type": "markdown",
   "id": "da4dc1e1",
   "metadata": {},
   "source": [
    "### First Pump Arriving Time"
   ]
  },
  {
   "cell_type": "code",
   "execution_count": 91,
   "id": "91e039c4",
   "metadata": {},
   "outputs": [
    {
     "data": {
      "text/plain": [
       "1392"
      ]
     },
     "execution_count": 91,
     "metadata": {},
     "output_type": "execute_result"
    }
   ],
   "source": [
    "london_train[\"first_time\"].isnull().sum()"
   ]
  },
  {
   "cell_type": "markdown",
   "id": "a64283b1",
   "metadata": {},
   "source": [
    "Before we impute the missing values with either a mean/median, we should look at the distribution to get a sense of the spread in arriving time. "
   ]
  },
  {
   "cell_type": "code",
   "execution_count": 92,
   "id": "99ba9eb3",
   "metadata": {},
   "outputs": [
    {
     "data": {
      "text/plain": [
       "count    25861.000000\n",
       "mean       317.496346\n",
       "std        135.484306\n",
       "min          2.000000\n",
       "25%        231.000000\n",
       "50%        298.000000\n",
       "75%        378.000000\n",
       "max       1196.000000\n",
       "Name: first_time, dtype: float64"
      ]
     },
     "execution_count": 92,
     "metadata": {},
     "output_type": "execute_result"
    }
   ],
   "source": [
    "london_train[\"first_time\"].describe()"
   ]
  },
  {
   "cell_type": "markdown",
   "id": "3b1a4396",
   "metadata": {},
   "source": [
    "We can see that mean and median are relatively close which is good, not too much skew. However, we see that the max value is 1,196 seconds which is more than 6 standard deviations away so quite unlikely. To be conservative, lets see how many arriving times are more than 4 standard deviations above the mean. "
   ]
  },
  {
   "cell_type": "code",
   "execution_count": 93,
   "id": "21e13cc7",
   "metadata": {},
   "outputs": [
    {
     "data": {
      "text/plain": [
       "859.4230907364656"
      ]
     },
     "execution_count": 93,
     "metadata": {},
     "output_type": "execute_result"
    }
   ],
   "source": [
    "pump_mean = np.mean(london_train[\"first_time\"])\n",
    "pump_std = np.std(london_train[\"first_time\"])\n",
    "#Any pump times above this should be flagged\n",
    "cutoff_time = pump_mean + 4*pump_std\n",
    "cutoff_time"
   ]
  },
  {
   "cell_type": "code",
   "execution_count": 94,
   "id": "3b6660de",
   "metadata": {},
   "outputs": [
    {
     "data": {
      "text/plain": [
       "(178, 19)"
      ]
     },
     "execution_count": 94,
     "metadata": {},
     "output_type": "execute_result"
    }
   ],
   "source": [
    "london_train.loc[london_train[\"first_time\"] > cutoff_time].shape"
   ]
  },
  {
   "cell_type": "code",
   "execution_count": 95,
   "id": "34274ce1",
   "metadata": {},
   "outputs": [
    {
     "data": {
      "text/html": [
       "<div>\n",
       "<style scoped>\n",
       "    .dataframe tbody tr th:only-of-type {\n",
       "        vertical-align: middle;\n",
       "    }\n",
       "\n",
       "    .dataframe tbody tr th {\n",
       "        vertical-align: top;\n",
       "    }\n",
       "\n",
       "    .dataframe thead th {\n",
       "        text-align: right;\n",
       "    }\n",
       "</style>\n",
       "<table border=\"1\" class=\"dataframe\">\n",
       "  <thead>\n",
       "    <tr style=\"text-align: right;\">\n",
       "      <th></th>\n",
       "      <th>incident_number</th>\n",
       "      <th>timestamp_of_call</th>\n",
       "      <th>incident_group</th>\n",
       "      <th>stop_code_description</th>\n",
       "      <th>property_category</th>\n",
       "      <th>property_type</th>\n",
       "      <th>address_qualifier</th>\n",
       "      <th>borough_name</th>\n",
       "      <th>ward_name</th>\n",
       "      <th>first_time</th>\n",
       "      <th>first_station</th>\n",
       "      <th>station_pumps</th>\n",
       "      <th>pumps_attending</th>\n",
       "      <th>Month</th>\n",
       "      <th>Hour</th>\n",
       "      <th>Emergency</th>\n",
       "      <th>pt_rank</th>\n",
       "      <th>wn_rank</th>\n",
       "      <th>stat_rank</th>\n",
       "    </tr>\n",
       "  </thead>\n",
       "  <tbody>\n",
       "    <tr>\n",
       "      <th>50</th>\n",
       "      <td>020444-18022017</td>\n",
       "      <td>2017-02-18 08:10:43+00:00</td>\n",
       "      <td>Emergency</td>\n",
       "      <td>Special Service</td>\n",
       "      <td>Outdoor</td>\n",
       "      <td>Road surface/pavement</td>\n",
       "      <td>Gazetter</td>\n",
       "      <td>REDBRIDGE</td>\n",
       "      <td>CRANBROOK</td>\n",
       "      <td>878</td>\n",
       "      <td>Ilford</td>\n",
       "      <td>1</td>\n",
       "      <td>1</td>\n",
       "      <td>2</td>\n",
       "      <td>8</td>\n",
       "      <td>1</td>\n",
       "      <td>8</td>\n",
       "      <td>6</td>\n",
       "      <td>5</td>\n",
       "    </tr>\n",
       "    <tr>\n",
       "      <th>81</th>\n",
       "      <td>030043-12032017</td>\n",
       "      <td>2017-03-12 14:25:25+00:00</td>\n",
       "      <td>Emergency</td>\n",
       "      <td>Secondary Fire</td>\n",
       "      <td>Outdoor</td>\n",
       "      <td>Scrub land</td>\n",
       "      <td>Gazetter</td>\n",
       "      <td>BARKING AND DAGENHAM</td>\n",
       "      <td>THAMES</td>\n",
       "      <td>920</td>\n",
       "      <td>Ilford</td>\n",
       "      <td>1</td>\n",
       "      <td>1</td>\n",
       "      <td>3</td>\n",
       "      <td>14</td>\n",
       "      <td>1</td>\n",
       "      <td>8</td>\n",
       "      <td>5</td>\n",
       "      <td>5</td>\n",
       "    </tr>\n",
       "    <tr>\n",
       "      <th>366</th>\n",
       "      <td>027245-05032017</td>\n",
       "      <td>2017-03-05 17:13:37+00:00</td>\n",
       "      <td>Emergency</td>\n",
       "      <td>Special Service</td>\n",
       "      <td>Non Residential</td>\n",
       "      <td>Church/Chapel</td>\n",
       "      <td>Correct incident location</td>\n",
       "      <td>REDBRIDGE</td>\n",
       "      <td>CLEMENTSWOOD</td>\n",
       "      <td>918</td>\n",
       "      <td>Ilford</td>\n",
       "      <td>1</td>\n",
       "      <td>1</td>\n",
       "      <td>3</td>\n",
       "      <td>17</td>\n",
       "      <td>1</td>\n",
       "      <td>3</td>\n",
       "      <td>5</td>\n",
       "      <td>5</td>\n",
       "    </tr>\n",
       "    <tr>\n",
       "      <th>423</th>\n",
       "      <td>035636-25032017</td>\n",
       "      <td>2017-03-25 10:10:03+00:00</td>\n",
       "      <td>Emergency</td>\n",
       "      <td>Secondary Fire</td>\n",
       "      <td>Outdoor</td>\n",
       "      <td>Tree scrub</td>\n",
       "      <td>On land associated with building</td>\n",
       "      <td>BARKING AND DAGENHAM</td>\n",
       "      <td>EASTBROOK</td>\n",
       "      <td>864</td>\n",
       "      <td>Dagenham</td>\n",
       "      <td>1</td>\n",
       "      <td>1</td>\n",
       "      <td>3</td>\n",
       "      <td>10</td>\n",
       "      <td>1</td>\n",
       "      <td>8</td>\n",
       "      <td>7</td>\n",
       "      <td>6</td>\n",
       "    </tr>\n",
       "    <tr>\n",
       "      <th>427</th>\n",
       "      <td>035773-25032017</td>\n",
       "      <td>2017-03-25 15:49:36+00:00</td>\n",
       "      <td>Emergency</td>\n",
       "      <td>Special Service</td>\n",
       "      <td>Vehicle</td>\n",
       "      <td>Car</td>\n",
       "      <td>Gazetter</td>\n",
       "      <td>NEWHAM</td>\n",
       "      <td>EAST HAM SOUTH</td>\n",
       "      <td>952</td>\n",
       "      <td>Dagenham</td>\n",
       "      <td>2</td>\n",
       "      <td>2</td>\n",
       "      <td>3</td>\n",
       "      <td>15</td>\n",
       "      <td>1</td>\n",
       "      <td>8</td>\n",
       "      <td>8</td>\n",
       "      <td>6</td>\n",
       "    </tr>\n",
       "  </tbody>\n",
       "</table>\n",
       "</div>"
      ],
      "text/plain": [
       "     incident_number         timestamp_of_call incident_group  \\\n",
       "50   020444-18022017 2017-02-18 08:10:43+00:00      Emergency   \n",
       "81   030043-12032017 2017-03-12 14:25:25+00:00      Emergency   \n",
       "366  027245-05032017 2017-03-05 17:13:37+00:00      Emergency   \n",
       "423  035636-25032017 2017-03-25 10:10:03+00:00      Emergency   \n",
       "427  035773-25032017 2017-03-25 15:49:36+00:00      Emergency   \n",
       "\n",
       "    stop_code_description property_category           property_type  \\\n",
       "50        Special Service           Outdoor  Road surface/pavement    \n",
       "81         Secondary Fire           Outdoor             Scrub land    \n",
       "366       Special Service   Non Residential          Church/Chapel    \n",
       "423        Secondary Fire           Outdoor             Tree scrub    \n",
       "427       Special Service           Vehicle                    Car    \n",
       "\n",
       "                    address_qualifier          borough_name       ward_name  \\\n",
       "50                           Gazetter             REDBRIDGE       CRANBROOK   \n",
       "81                           Gazetter  BARKING AND DAGENHAM          THAMES   \n",
       "366         Correct incident location             REDBRIDGE    CLEMENTSWOOD   \n",
       "423  On land associated with building  BARKING AND DAGENHAM       EASTBROOK   \n",
       "427                          Gazetter                NEWHAM  EAST HAM SOUTH   \n",
       "\n",
       "     first_time first_station  station_pumps  pumps_attending  Month  Hour  \\\n",
       "50          878        Ilford              1                1      2     8   \n",
       "81          920        Ilford              1                1      3    14   \n",
       "366         918        Ilford              1                1      3    17   \n",
       "423         864      Dagenham              1                1      3    10   \n",
       "427         952      Dagenham              2                2      3    15   \n",
       "\n",
       "     Emergency  pt_rank  wn_rank  stat_rank  \n",
       "50           1        8        6          5  \n",
       "81           1        8        5          5  \n",
       "366          1        3        5          5  \n",
       "423          1        8        7          6  \n",
       "427          1        8        8          6  "
      ]
     },
     "execution_count": 95,
     "metadata": {},
     "output_type": "execute_result"
    }
   ],
   "source": [
    "london_train.loc[london_train[\"first_time\"] > cutoff_time].head()"
   ]
  },
  {
   "cell_type": "markdown",
   "id": "0f8adfe7",
   "metadata": {},
   "source": [
    "We can go ahead and drop those times that are more than 4 standard deviations above the mean arriving time. "
   ]
  },
  {
   "cell_type": "code",
   "execution_count": 50,
   "id": "d49fec87",
   "metadata": {},
   "outputs": [
    {
     "data": {
      "text/plain": [
       "(27253, 19)"
      ]
     },
     "execution_count": 50,
     "metadata": {},
     "output_type": "execute_result"
    }
   ],
   "source": [
    "london_train.shape"
   ]
  },
  {
   "cell_type": "code",
   "execution_count": 100,
   "id": "351eb29f",
   "metadata": {},
   "outputs": [],
   "source": [
    "london_train = london_train.loc[(london_train[\"first_time\"] < cutoff_time) | london_train[\"first_time\"].isnull()]"
   ]
  },
  {
   "cell_type": "code",
   "execution_count": 101,
   "id": "58b4624b",
   "metadata": {},
   "outputs": [
    {
     "data": {
      "text/plain": [
       "(27075, 19)"
      ]
     },
     "execution_count": 101,
     "metadata": {},
     "output_type": "execute_result"
    }
   ],
   "source": [
    "london_train.shape"
   ]
  },
  {
   "cell_type": "markdown",
   "id": "a2bb3c3d",
   "metadata": {},
   "source": [
    "Now we can go ahead and impute the missing values. "
   ]
  },
  {
   "cell_type": "code",
   "execution_count": 103,
   "id": "619765dd",
   "metadata": {},
   "outputs": [
    {
     "data": {
      "text/html": [
       "<div>\n",
       "<style scoped>\n",
       "    .dataframe tbody tr th:only-of-type {\n",
       "        vertical-align: middle;\n",
       "    }\n",
       "\n",
       "    .dataframe tbody tr th {\n",
       "        vertical-align: top;\n",
       "    }\n",
       "\n",
       "    .dataframe thead th {\n",
       "        text-align: right;\n",
       "    }\n",
       "</style>\n",
       "<table border=\"1\" class=\"dataframe\">\n",
       "  <thead>\n",
       "    <tr style=\"text-align: right;\">\n",
       "      <th></th>\n",
       "      <th>incident_number</th>\n",
       "      <th>timestamp_of_call</th>\n",
       "      <th>incident_group</th>\n",
       "      <th>stop_code_description</th>\n",
       "      <th>property_category</th>\n",
       "      <th>property_type</th>\n",
       "      <th>address_qualifier</th>\n",
       "      <th>borough_name</th>\n",
       "      <th>ward_name</th>\n",
       "      <th>first_time</th>\n",
       "      <th>first_station</th>\n",
       "      <th>station_pumps</th>\n",
       "      <th>pumps_attending</th>\n",
       "      <th>Month</th>\n",
       "      <th>Hour</th>\n",
       "      <th>Emergency</th>\n",
       "      <th>pt_rank</th>\n",
       "      <th>wn_rank</th>\n",
       "      <th>stat_rank</th>\n",
       "    </tr>\n",
       "  </thead>\n",
       "  <tbody>\n",
       "    <tr>\n",
       "      <th>0</th>\n",
       "      <td>023952-25022017</td>\n",
       "      <td>2017-02-25 21:25:09+00:00</td>\n",
       "      <td>Emergency</td>\n",
       "      <td>Special Service</td>\n",
       "      <td>Vehicle</td>\n",
       "      <td>Car</td>\n",
       "      <td>Gazetter</td>\n",
       "      <td>REDBRIDGE</td>\n",
       "      <td>MAYFIELD</td>\n",
       "      <td>296</td>\n",
       "      <td>Ilford</td>\n",
       "      <td>1</td>\n",
       "      <td>1</td>\n",
       "      <td>2</td>\n",
       "      <td>21</td>\n",
       "      <td>1</td>\n",
       "      <td>8</td>\n",
       "      <td>6</td>\n",
       "      <td>5</td>\n",
       "    </tr>\n",
       "    <tr>\n",
       "      <th>1</th>\n",
       "      <td>009056-22012017</td>\n",
       "      <td>2017-01-22 01:41:22+00:00</td>\n",
       "      <td>Emergency</td>\n",
       "      <td>Special Service</td>\n",
       "      <td>Vehicle</td>\n",
       "      <td>Car</td>\n",
       "      <td>Gazetter</td>\n",
       "      <td>REDBRIDGE</td>\n",
       "      <td>MAYFIELD</td>\n",
       "      <td>194</td>\n",
       "      <td>Ilford</td>\n",
       "      <td>1</td>\n",
       "      <td>2</td>\n",
       "      <td>1</td>\n",
       "      <td>1</td>\n",
       "      <td>1</td>\n",
       "      <td>8</td>\n",
       "      <td>6</td>\n",
       "      <td>5</td>\n",
       "    </tr>\n",
       "    <tr>\n",
       "      <th>2</th>\n",
       "      <td>016512-08022017</td>\n",
       "      <td>2017-02-08 20:08:17+00:00</td>\n",
       "      <td>False Alarm</td>\n",
       "      <td>False alarm - Good intent</td>\n",
       "      <td>Vehicle</td>\n",
       "      <td>Car</td>\n",
       "      <td>Gazetter</td>\n",
       "      <td>REDBRIDGE</td>\n",
       "      <td>MAYFIELD</td>\n",
       "      <td>179</td>\n",
       "      <td>Ilford</td>\n",
       "      <td>1</td>\n",
       "      <td>3</td>\n",
       "      <td>2</td>\n",
       "      <td>20</td>\n",
       "      <td>0</td>\n",
       "      <td>8</td>\n",
       "      <td>6</td>\n",
       "      <td>5</td>\n",
       "    </tr>\n",
       "    <tr>\n",
       "      <th>3</th>\n",
       "      <td>023003-23022017</td>\n",
       "      <td>2017-02-23 19:11:48+00:00</td>\n",
       "      <td>Emergency</td>\n",
       "      <td>Primary Fire</td>\n",
       "      <td>Vehicle</td>\n",
       "      <td>Car</td>\n",
       "      <td>Gazetter</td>\n",
       "      <td>REDBRIDGE</td>\n",
       "      <td>MAYFIELD</td>\n",
       "      <td>314</td>\n",
       "      <td>Ilford</td>\n",
       "      <td>1</td>\n",
       "      <td>1</td>\n",
       "      <td>2</td>\n",
       "      <td>19</td>\n",
       "      <td>1</td>\n",
       "      <td>8</td>\n",
       "      <td>6</td>\n",
       "      <td>5</td>\n",
       "    </tr>\n",
       "    <tr>\n",
       "      <th>4</th>\n",
       "      <td>025248-01032017</td>\n",
       "      <td>2017-03-01 02:13:26+00:00</td>\n",
       "      <td>Emergency</td>\n",
       "      <td>Special Service</td>\n",
       "      <td>Vehicle</td>\n",
       "      <td>Car</td>\n",
       "      <td>Gazetter</td>\n",
       "      <td>REDBRIDGE</td>\n",
       "      <td>MAYFIELD</td>\n",
       "      <td>355</td>\n",
       "      <td>Ilford</td>\n",
       "      <td>1</td>\n",
       "      <td>1</td>\n",
       "      <td>3</td>\n",
       "      <td>2</td>\n",
       "      <td>1</td>\n",
       "      <td>8</td>\n",
       "      <td>6</td>\n",
       "      <td>5</td>\n",
       "    </tr>\n",
       "  </tbody>\n",
       "</table>\n",
       "</div>"
      ],
      "text/plain": [
       "   incident_number         timestamp_of_call incident_group  \\\n",
       "0  023952-25022017 2017-02-25 21:25:09+00:00      Emergency   \n",
       "1  009056-22012017 2017-01-22 01:41:22+00:00      Emergency   \n",
       "2  016512-08022017 2017-02-08 20:08:17+00:00    False Alarm   \n",
       "3  023003-23022017 2017-02-23 19:11:48+00:00      Emergency   \n",
       "4  025248-01032017 2017-03-01 02:13:26+00:00      Emergency   \n",
       "\n",
       "       stop_code_description property_category property_type  \\\n",
       "0            Special Service           Vehicle          Car    \n",
       "1            Special Service           Vehicle          Car    \n",
       "2  False alarm - Good intent           Vehicle          Car    \n",
       "3               Primary Fire           Vehicle          Car    \n",
       "4            Special Service           Vehicle          Car    \n",
       "\n",
       "  address_qualifier borough_name ward_name  first_time first_station  \\\n",
       "0          Gazetter    REDBRIDGE  MAYFIELD         296        Ilford   \n",
       "1          Gazetter    REDBRIDGE  MAYFIELD         194        Ilford   \n",
       "2          Gazetter    REDBRIDGE  MAYFIELD         179        Ilford   \n",
       "3          Gazetter    REDBRIDGE  MAYFIELD         314        Ilford   \n",
       "4          Gazetter    REDBRIDGE  MAYFIELD         355        Ilford   \n",
       "\n",
       "   station_pumps  pumps_attending  Month  Hour  Emergency  pt_rank  wn_rank  \\\n",
       "0              1                1      2    21          1        8        6   \n",
       "1              1                2      1     1          1        8        6   \n",
       "2              1                3      2    20          0        8        6   \n",
       "3              1                1      2    19          1        8        6   \n",
       "4              1                1      3     2          1        8        6   \n",
       "\n",
       "   stat_rank  \n",
       "0          5  \n",
       "1          5  \n",
       "2          5  \n",
       "3          5  \n",
       "4          5  "
      ]
     },
     "execution_count": 103,
     "metadata": {},
     "output_type": "execute_result"
    }
   ],
   "source": [
    "london_train.loc[london_train[\"first_time\"].notnull()].head()"
   ]
  },
  {
   "cell_type": "markdown",
   "id": "c82dcc61",
   "metadata": {},
   "source": [
    "We can impute the mean by using which station the first pump came from. "
   ]
  },
  {
   "cell_type": "code",
   "execution_count": 107,
   "id": "d89e3e7b",
   "metadata": {},
   "outputs": [
    {
     "data": {
      "text/html": [
       "<div>\n",
       "<style scoped>\n",
       "    .dataframe tbody tr th:only-of-type {\n",
       "        vertical-align: middle;\n",
       "    }\n",
       "\n",
       "    .dataframe tbody tr th {\n",
       "        vertical-align: top;\n",
       "    }\n",
       "\n",
       "    .dataframe thead th {\n",
       "        text-align: right;\n",
       "    }\n",
       "</style>\n",
       "<table border=\"1\" class=\"dataframe\">\n",
       "  <thead>\n",
       "    <tr style=\"text-align: right;\">\n",
       "      <th></th>\n",
       "      <th>first_station</th>\n",
       "      <th>median</th>\n",
       "      <th>mean</th>\n",
       "      <th>std</th>\n",
       "      <th>max</th>\n",
       "      <th>min</th>\n",
       "      <th>count</th>\n",
       "    </tr>\n",
       "  </thead>\n",
       "  <tbody>\n",
       "    <tr>\n",
       "      <th>0</th>\n",
       "      <td>Biggin Hill</td>\n",
       "      <td>408.0</td>\n",
       "      <td>411.24</td>\n",
       "      <td>114.158983</td>\n",
       "      <td>715</td>\n",
       "      <td>205</td>\n",
       "      <td>25</td>\n",
       "    </tr>\n",
       "    <tr>\n",
       "      <th>1</th>\n",
       "      <td>Ruislip</td>\n",
       "      <td>398.0</td>\n",
       "      <td>402.528571</td>\n",
       "      <td>128.494629</td>\n",
       "      <td>837</td>\n",
       "      <td>16</td>\n",
       "      <td>140</td>\n",
       "    </tr>\n",
       "    <tr>\n",
       "      <th>2</th>\n",
       "      <td>Orpington</td>\n",
       "      <td>372.0</td>\n",
       "      <td>377.083333</td>\n",
       "      <td>147.611853</td>\n",
       "      <td>785</td>\n",
       "      <td>3</td>\n",
       "      <td>204</td>\n",
       "    </tr>\n",
       "    <tr>\n",
       "      <th>3</th>\n",
       "      <td>Wennington</td>\n",
       "      <td>358.5</td>\n",
       "      <td>373.783333</td>\n",
       "      <td>146.171027</td>\n",
       "      <td>771</td>\n",
       "      <td>3</td>\n",
       "      <td>60</td>\n",
       "    </tr>\n",
       "    <tr>\n",
       "      <th>4</th>\n",
       "      <td>Northolt</td>\n",
       "      <td>351.0</td>\n",
       "      <td>372.523207</td>\n",
       "      <td>144.505339</td>\n",
       "      <td>858</td>\n",
       "      <td>8</td>\n",
       "      <td>237</td>\n",
       "    </tr>\n",
       "    <tr>\n",
       "      <th>...</th>\n",
       "      <td>...</td>\n",
       "      <td>...</td>\n",
       "      <td>...</td>\n",
       "      <td>...</td>\n",
       "      <td>...</td>\n",
       "      <td>...</td>\n",
       "      <td>...</td>\n",
       "    </tr>\n",
       "    <tr>\n",
       "      <th>97</th>\n",
       "      <td>Islington</td>\n",
       "      <td>260.0</td>\n",
       "      <td>269.752542</td>\n",
       "      <td>98.225358</td>\n",
       "      <td>776</td>\n",
       "      <td>2</td>\n",
       "      <td>295</td>\n",
       "    </tr>\n",
       "    <tr>\n",
       "      <th>98</th>\n",
       "      <td>Chelsea</td>\n",
       "      <td>256.0</td>\n",
       "      <td>266.41623</td>\n",
       "      <td>106.020956</td>\n",
       "      <td>762</td>\n",
       "      <td>8</td>\n",
       "      <td>382</td>\n",
       "    </tr>\n",
       "    <tr>\n",
       "      <th>99</th>\n",
       "      <td>Old Kent Road</td>\n",
       "      <td>247.0</td>\n",
       "      <td>264.566038</td>\n",
       "      <td>108.998073</td>\n",
       "      <td>812</td>\n",
       "      <td>5</td>\n",
       "      <td>265</td>\n",
       "    </tr>\n",
       "    <tr>\n",
       "      <th>100</th>\n",
       "      <td>Lewisham</td>\n",
       "      <td>241.5</td>\n",
       "      <td>258.1125</td>\n",
       "      <td>104.062219</td>\n",
       "      <td>831</td>\n",
       "      <td>47</td>\n",
       "      <td>240</td>\n",
       "    </tr>\n",
       "    <tr>\n",
       "      <th>101</th>\n",
       "      <td>Battersea</td>\n",
       "      <td>239.0</td>\n",
       "      <td>257.288557</td>\n",
       "      <td>116.915167</td>\n",
       "      <td>791</td>\n",
       "      <td>5</td>\n",
       "      <td>201</td>\n",
       "    </tr>\n",
       "  </tbody>\n",
       "</table>\n",
       "<p>102 rows × 7 columns</p>\n",
       "</div>"
      ],
      "text/plain": [
       "     first_station  median        mean         std  max  min  count\n",
       "0      Biggin Hill   408.0      411.24  114.158983  715  205     25\n",
       "1          Ruislip   398.0  402.528571  128.494629  837   16    140\n",
       "2        Orpington   372.0  377.083333  147.611853  785    3    204\n",
       "3       Wennington   358.5  373.783333  146.171027  771    3     60\n",
       "4         Northolt   351.0  372.523207  144.505339  858    8    237\n",
       "..             ...     ...         ...         ...  ...  ...    ...\n",
       "97       Islington   260.0  269.752542   98.225358  776    2    295\n",
       "98         Chelsea   256.0   266.41623  106.020956  762    8    382\n",
       "99   Old Kent Road   247.0  264.566038  108.998073  812    5    265\n",
       "100       Lewisham   241.5    258.1125  104.062219  831   47    240\n",
       "101      Battersea   239.0  257.288557  116.915167  791    5    201\n",
       "\n",
       "[102 rows x 7 columns]"
      ]
     },
     "execution_count": 107,
     "metadata": {},
     "output_type": "execute_result"
    }
   ],
   "source": [
    "#Group by property type and summarize by the Emergency variable\n",
    "pump_time_grp = london_train.groupby(\"first_station\")[\"first_time\"]\\\n",
    "                        .aggregate([\"median\",\"mean\", \"std\", \"max\", \"min\",\"count\"])\\\n",
    "                        .sort_values(by=\"mean\", ascending=False)\n",
    "pump_time_grp.reset_index(inplace = True)\n",
    "pump_time_grp"
   ]
  },
  {
   "cell_type": "code",
   "execution_count": 133,
   "id": "8ffe4eaf",
   "metadata": {},
   "outputs": [],
   "source": [
    "london_train[\"first_time\"] = london_train[\"first_time\"].astype(np.float64)\n",
    "london_train[\"first_time\"] = london_train.groupby(\"first_station\")[\"first_time\"].\\\n",
    "                                                transform(lambda grp: grp.fillna(np.mean(grp)))"
   ]
  },
  {
   "cell_type": "code",
   "execution_count": 119,
   "id": "95e55ce6",
   "metadata": {},
   "outputs": [
    {
     "data": {
      "text/plain": [
       "0"
      ]
     },
     "execution_count": 119,
     "metadata": {},
     "output_type": "execute_result"
    }
   ],
   "source": [
    "london_train[\"first_time\"].isnull().sum()"
   ]
  },
  {
   "cell_type": "code",
   "execution_count": 120,
   "id": "fd05b937",
   "metadata": {},
   "outputs": [
    {
     "data": {
      "text/html": [
       "<div>\n",
       "<style scoped>\n",
       "    .dataframe tbody tr th:only-of-type {\n",
       "        vertical-align: middle;\n",
       "    }\n",
       "\n",
       "    .dataframe tbody tr th {\n",
       "        vertical-align: top;\n",
       "    }\n",
       "\n",
       "    .dataframe thead th {\n",
       "        text-align: right;\n",
       "    }\n",
       "</style>\n",
       "<table border=\"1\" class=\"dataframe\">\n",
       "  <thead>\n",
       "    <tr style=\"text-align: right;\">\n",
       "      <th></th>\n",
       "      <th>incident_number</th>\n",
       "      <th>timestamp_of_call</th>\n",
       "      <th>incident_group</th>\n",
       "      <th>stop_code_description</th>\n",
       "      <th>property_category</th>\n",
       "      <th>property_type</th>\n",
       "      <th>address_qualifier</th>\n",
       "      <th>borough_name</th>\n",
       "      <th>ward_name</th>\n",
       "      <th>first_time</th>\n",
       "      <th>first_station</th>\n",
       "      <th>station_pumps</th>\n",
       "      <th>pumps_attending</th>\n",
       "      <th>Month</th>\n",
       "      <th>Hour</th>\n",
       "      <th>Emergency</th>\n",
       "      <th>pt_rank</th>\n",
       "      <th>wn_rank</th>\n",
       "      <th>stat_rank</th>\n",
       "    </tr>\n",
       "  </thead>\n",
       "  <tbody>\n",
       "    <tr>\n",
       "      <th>0</th>\n",
       "      <td>023952-25022017</td>\n",
       "      <td>2017-02-25 21:25:09+00:00</td>\n",
       "      <td>Emergency</td>\n",
       "      <td>Special Service</td>\n",
       "      <td>Vehicle</td>\n",
       "      <td>Car</td>\n",
       "      <td>Gazetter</td>\n",
       "      <td>REDBRIDGE</td>\n",
       "      <td>MAYFIELD</td>\n",
       "      <td>296.0</td>\n",
       "      <td>Ilford</td>\n",
       "      <td>1</td>\n",
       "      <td>1</td>\n",
       "      <td>2</td>\n",
       "      <td>21</td>\n",
       "      <td>1</td>\n",
       "      <td>8</td>\n",
       "      <td>6</td>\n",
       "      <td>5</td>\n",
       "    </tr>\n",
       "    <tr>\n",
       "      <th>1</th>\n",
       "      <td>009056-22012017</td>\n",
       "      <td>2017-01-22 01:41:22+00:00</td>\n",
       "      <td>Emergency</td>\n",
       "      <td>Special Service</td>\n",
       "      <td>Vehicle</td>\n",
       "      <td>Car</td>\n",
       "      <td>Gazetter</td>\n",
       "      <td>REDBRIDGE</td>\n",
       "      <td>MAYFIELD</td>\n",
       "      <td>194.0</td>\n",
       "      <td>Ilford</td>\n",
       "      <td>1</td>\n",
       "      <td>2</td>\n",
       "      <td>1</td>\n",
       "      <td>1</td>\n",
       "      <td>1</td>\n",
       "      <td>8</td>\n",
       "      <td>6</td>\n",
       "      <td>5</td>\n",
       "    </tr>\n",
       "    <tr>\n",
       "      <th>2</th>\n",
       "      <td>016512-08022017</td>\n",
       "      <td>2017-02-08 20:08:17+00:00</td>\n",
       "      <td>False Alarm</td>\n",
       "      <td>False alarm - Good intent</td>\n",
       "      <td>Vehicle</td>\n",
       "      <td>Car</td>\n",
       "      <td>Gazetter</td>\n",
       "      <td>REDBRIDGE</td>\n",
       "      <td>MAYFIELD</td>\n",
       "      <td>179.0</td>\n",
       "      <td>Ilford</td>\n",
       "      <td>1</td>\n",
       "      <td>3</td>\n",
       "      <td>2</td>\n",
       "      <td>20</td>\n",
       "      <td>0</td>\n",
       "      <td>8</td>\n",
       "      <td>6</td>\n",
       "      <td>5</td>\n",
       "    </tr>\n",
       "    <tr>\n",
       "      <th>3</th>\n",
       "      <td>023003-23022017</td>\n",
       "      <td>2017-02-23 19:11:48+00:00</td>\n",
       "      <td>Emergency</td>\n",
       "      <td>Primary Fire</td>\n",
       "      <td>Vehicle</td>\n",
       "      <td>Car</td>\n",
       "      <td>Gazetter</td>\n",
       "      <td>REDBRIDGE</td>\n",
       "      <td>MAYFIELD</td>\n",
       "      <td>314.0</td>\n",
       "      <td>Ilford</td>\n",
       "      <td>1</td>\n",
       "      <td>1</td>\n",
       "      <td>2</td>\n",
       "      <td>19</td>\n",
       "      <td>1</td>\n",
       "      <td>8</td>\n",
       "      <td>6</td>\n",
       "      <td>5</td>\n",
       "    </tr>\n",
       "    <tr>\n",
       "      <th>4</th>\n",
       "      <td>025248-01032017</td>\n",
       "      <td>2017-03-01 02:13:26+00:00</td>\n",
       "      <td>Emergency</td>\n",
       "      <td>Special Service</td>\n",
       "      <td>Vehicle</td>\n",
       "      <td>Car</td>\n",
       "      <td>Gazetter</td>\n",
       "      <td>REDBRIDGE</td>\n",
       "      <td>MAYFIELD</td>\n",
       "      <td>355.0</td>\n",
       "      <td>Ilford</td>\n",
       "      <td>1</td>\n",
       "      <td>1</td>\n",
       "      <td>3</td>\n",
       "      <td>2</td>\n",
       "      <td>1</td>\n",
       "      <td>8</td>\n",
       "      <td>6</td>\n",
       "      <td>5</td>\n",
       "    </tr>\n",
       "  </tbody>\n",
       "</table>\n",
       "</div>"
      ],
      "text/plain": [
       "   incident_number         timestamp_of_call incident_group  \\\n",
       "0  023952-25022017 2017-02-25 21:25:09+00:00      Emergency   \n",
       "1  009056-22012017 2017-01-22 01:41:22+00:00      Emergency   \n",
       "2  016512-08022017 2017-02-08 20:08:17+00:00    False Alarm   \n",
       "3  023003-23022017 2017-02-23 19:11:48+00:00      Emergency   \n",
       "4  025248-01032017 2017-03-01 02:13:26+00:00      Emergency   \n",
       "\n",
       "       stop_code_description property_category property_type  \\\n",
       "0            Special Service           Vehicle          Car    \n",
       "1            Special Service           Vehicle          Car    \n",
       "2  False alarm - Good intent           Vehicle          Car    \n",
       "3               Primary Fire           Vehicle          Car    \n",
       "4            Special Service           Vehicle          Car    \n",
       "\n",
       "  address_qualifier borough_name ward_name  first_time first_station  \\\n",
       "0          Gazetter    REDBRIDGE  MAYFIELD       296.0        Ilford   \n",
       "1          Gazetter    REDBRIDGE  MAYFIELD       194.0        Ilford   \n",
       "2          Gazetter    REDBRIDGE  MAYFIELD       179.0        Ilford   \n",
       "3          Gazetter    REDBRIDGE  MAYFIELD       314.0        Ilford   \n",
       "4          Gazetter    REDBRIDGE  MAYFIELD       355.0        Ilford   \n",
       "\n",
       "   station_pumps  pumps_attending  Month  Hour  Emergency  pt_rank  wn_rank  \\\n",
       "0              1                1      2    21          1        8        6   \n",
       "1              1                2      1     1          1        8        6   \n",
       "2              1                3      2    20          0        8        6   \n",
       "3              1                1      2    19          1        8        6   \n",
       "4              1                1      3     2          1        8        6   \n",
       "\n",
       "   stat_rank  \n",
       "0          5  \n",
       "1          5  \n",
       "2          5  \n",
       "3          5  \n",
       "4          5  "
      ]
     },
     "execution_count": 120,
     "metadata": {},
     "output_type": "execute_result"
    }
   ],
   "source": [
    "london_train.head()"
   ]
  },
  {
   "cell_type": "markdown",
   "id": "e8ec0bde",
   "metadata": {},
   "source": [
    "### Number of Stations with Pumps Attending"
   ]
  },
  {
   "cell_type": "code",
   "execution_count": 121,
   "id": "d309ba4c",
   "metadata": {},
   "outputs": [
    {
     "data": {
      "text/plain": [
       "54"
      ]
     },
     "execution_count": 121,
     "metadata": {},
     "output_type": "execute_result"
    }
   ],
   "source": [
    "london_train[\"station_pumps\"].isnull().sum()"
   ]
  },
  {
   "cell_type": "code",
   "execution_count": 123,
   "id": "968e7525",
   "metadata": {},
   "outputs": [
    {
     "data": {
      "text/plain": [
       "count    27021.000000\n",
       "mean         1.354946\n",
       "std          0.607220\n",
       "min          1.000000\n",
       "25%          1.000000\n",
       "50%          1.000000\n",
       "75%          2.000000\n",
       "max          6.000000\n",
       "Name: station_pumps, dtype: float64"
      ]
     },
     "execution_count": 123,
     "metadata": {},
     "output_type": "execute_result"
    }
   ],
   "source": [
    "london_train[\"station_pumps\"].describe()"
   ]
  },
  {
   "cell_type": "code",
   "execution_count": 124,
   "id": "184c3da7",
   "metadata": {},
   "outputs": [
    {
     "data": {
      "text/plain": [
       "1    18954\n",
       "2     6885\n",
       "3      859\n",
       "4      307\n",
       "5       13\n",
       "6        3\n",
       "Name: station_pumps, dtype: Int64"
      ]
     },
     "execution_count": 124,
     "metadata": {},
     "output_type": "execute_result"
    }
   ],
   "source": [
    "london_train[\"station_pumps\"].value_counts()"
   ]
  },
  {
   "cell_type": "markdown",
   "id": "d7d0c1f5",
   "metadata": {},
   "source": [
    "We see that only a very small amount of stations had more than 5 pumps attending. Therefore, we'll go ahead and drop any observations that have more than 5 pumps attending."
   ]
  },
  {
   "cell_type": "code",
   "execution_count": 130,
   "id": "9eaff970",
   "metadata": {},
   "outputs": [],
   "source": [
    "london_train = london_train.loc[(london_train[\"station_pumps\"] < 5) | (london_train[\"station_pumps\"].isnull())]"
   ]
  },
  {
   "cell_type": "markdown",
   "id": "c5ca7824",
   "metadata": {},
   "source": [
    "Now we can impute the missing values using the mean from which station the attending pumps came from. "
   ]
  },
  {
   "cell_type": "code",
   "execution_count": 142,
   "id": "6f8d58f2",
   "metadata": {},
   "outputs": [
    {
     "data": {
      "text/html": [
       "<div>\n",
       "<style scoped>\n",
       "    .dataframe tbody tr th:only-of-type {\n",
       "        vertical-align: middle;\n",
       "    }\n",
       "\n",
       "    .dataframe tbody tr th {\n",
       "        vertical-align: top;\n",
       "    }\n",
       "\n",
       "    .dataframe thead th {\n",
       "        text-align: right;\n",
       "    }\n",
       "</style>\n",
       "<table border=\"1\" class=\"dataframe\">\n",
       "  <thead>\n",
       "    <tr style=\"text-align: right;\">\n",
       "      <th></th>\n",
       "      <th>first_station</th>\n",
       "      <th>median</th>\n",
       "      <th>mean</th>\n",
       "      <th>std</th>\n",
       "      <th>max</th>\n",
       "      <th>min</th>\n",
       "      <th>count</th>\n",
       "    </tr>\n",
       "  </thead>\n",
       "  <tbody>\n",
       "    <tr>\n",
       "      <th>0</th>\n",
       "      <td>Heathrow</td>\n",
       "      <td>1.0</td>\n",
       "      <td>1.650685</td>\n",
       "      <td>0.859771</td>\n",
       "      <td>4.0</td>\n",
       "      <td>1.0</td>\n",
       "      <td>146</td>\n",
       "    </tr>\n",
       "    <tr>\n",
       "      <th>1</th>\n",
       "      <td>Hayes</td>\n",
       "      <td>1.5</td>\n",
       "      <td>1.642857</td>\n",
       "      <td>0.759320</td>\n",
       "      <td>4.0</td>\n",
       "      <td>1.0</td>\n",
       "      <td>140</td>\n",
       "    </tr>\n",
       "    <tr>\n",
       "      <th>2</th>\n",
       "      <td>Deptford</td>\n",
       "      <td>1.0</td>\n",
       "      <td>1.626374</td>\n",
       "      <td>0.924179</td>\n",
       "      <td>4.0</td>\n",
       "      <td>1.0</td>\n",
       "      <td>182</td>\n",
       "    </tr>\n",
       "    <tr>\n",
       "      <th>3</th>\n",
       "      <td>Battersea</td>\n",
       "      <td>1.0</td>\n",
       "      <td>1.619718</td>\n",
       "      <td>0.869280</td>\n",
       "      <td>4.0</td>\n",
       "      <td>1.0</td>\n",
       "      <td>213</td>\n",
       "    </tr>\n",
       "    <tr>\n",
       "      <th>4</th>\n",
       "      <td>Lewisham</td>\n",
       "      <td>2.0</td>\n",
       "      <td>1.616935</td>\n",
       "      <td>0.650782</td>\n",
       "      <td>4.0</td>\n",
       "      <td>1.0</td>\n",
       "      <td>248</td>\n",
       "    </tr>\n",
       "    <tr>\n",
       "      <th>...</th>\n",
       "      <td>...</td>\n",
       "      <td>...</td>\n",
       "      <td>...</td>\n",
       "      <td>...</td>\n",
       "      <td>...</td>\n",
       "      <td>...</td>\n",
       "      <td>...</td>\n",
       "    </tr>\n",
       "    <tr>\n",
       "      <th>97</th>\n",
       "      <td>Plumstead</td>\n",
       "      <td>1.0</td>\n",
       "      <td>1.188095</td>\n",
       "      <td>0.521931</td>\n",
       "      <td>4.0</td>\n",
       "      <td>1.0</td>\n",
       "      <td>420</td>\n",
       "    </tr>\n",
       "    <tr>\n",
       "      <th>98</th>\n",
       "      <td>Northolt</td>\n",
       "      <td>1.0</td>\n",
       "      <td>1.186736</td>\n",
       "      <td>0.420420</td>\n",
       "      <td>3.0</td>\n",
       "      <td>1.0</td>\n",
       "      <td>242</td>\n",
       "    </tr>\n",
       "    <tr>\n",
       "      <th>99</th>\n",
       "      <td>Norbury</td>\n",
       "      <td>1.0</td>\n",
       "      <td>1.178988</td>\n",
       "      <td>0.440909</td>\n",
       "      <td>4.0</td>\n",
       "      <td>1.0</td>\n",
       "      <td>257</td>\n",
       "    </tr>\n",
       "    <tr>\n",
       "      <th>100</th>\n",
       "      <td>Orpington</td>\n",
       "      <td>1.0</td>\n",
       "      <td>1.129851</td>\n",
       "      <td>0.363578</td>\n",
       "      <td>3.0</td>\n",
       "      <td>1.0</td>\n",
       "      <td>209</td>\n",
       "    </tr>\n",
       "    <tr>\n",
       "      <th>101</th>\n",
       "      <td>Soho</td>\n",
       "      <td>1.0</td>\n",
       "      <td>1.118821</td>\n",
       "      <td>0.394636</td>\n",
       "      <td>4.0</td>\n",
       "      <td>1.0</td>\n",
       "      <td>1055</td>\n",
       "    </tr>\n",
       "  </tbody>\n",
       "</table>\n",
       "<p>102 rows × 7 columns</p>\n",
       "</div>"
      ],
      "text/plain": [
       "    first_station  median      mean       std  max  min  count\n",
       "0        Heathrow     1.0  1.650685  0.859771  4.0  1.0    146\n",
       "1           Hayes     1.5  1.642857  0.759320  4.0  1.0    140\n",
       "2        Deptford     1.0  1.626374  0.924179  4.0  1.0    182\n",
       "3       Battersea     1.0  1.619718  0.869280  4.0  1.0    213\n",
       "4        Lewisham     2.0  1.616935  0.650782  4.0  1.0    248\n",
       "..            ...     ...       ...       ...  ...  ...    ...\n",
       "97      Plumstead     1.0  1.188095  0.521931  4.0  1.0    420\n",
       "98       Northolt     1.0  1.186736  0.420420  3.0  1.0    242\n",
       "99        Norbury     1.0  1.178988  0.440909  4.0  1.0    257\n",
       "100     Orpington     1.0  1.129851  0.363578  3.0  1.0    209\n",
       "101          Soho     1.0  1.118821  0.394636  4.0  1.0   1055\n",
       "\n",
       "[102 rows x 7 columns]"
      ]
     },
     "execution_count": 142,
     "metadata": {},
     "output_type": "execute_result"
    }
   ],
   "source": [
    "#Group by property type and summarize by the Emergency variable\n",
    "station_pump_grp = london_train.groupby(\"first_station\")[\"station_pumps\"]\\\n",
    "                        .aggregate([\"median\",\"mean\", \"std\", \"max\", \"min\",\"count\"])\\\n",
    "                        .sort_values(by=\"mean\", ascending=False)\n",
    "station_pump_grp.reset_index(inplace = True)\n",
    "station_pump_grp"
   ]
  },
  {
   "cell_type": "code",
   "execution_count": 134,
   "id": "34ce35b6",
   "metadata": {},
   "outputs": [],
   "source": [
    "london_train[\"station_pumps\"] = london_train[\"station_pumps\"].astype(np.float64)\n",
    "london_train[\"station_pumps\"] = london_train.groupby(\"first_station\")[\"station_pumps\"].\\\n",
    "                                                transform(lambda grp: grp.fillna(np.mean(grp)))"
   ]
  },
  {
   "cell_type": "code",
   "execution_count": 135,
   "id": "ad3bae3d",
   "metadata": {},
   "outputs": [
    {
     "data": {
      "text/plain": [
       "0"
      ]
     },
     "execution_count": 135,
     "metadata": {},
     "output_type": "execute_result"
    }
   ],
   "source": [
    "london_train[\"station_pumps\"].isnull().sum()"
   ]
  },
  {
   "cell_type": "code",
   "execution_count": 131,
   "id": "9a47ac31",
   "metadata": {},
   "outputs": [
    {
     "data": {
      "text/plain": [
       "(27059, 19)"
      ]
     },
     "execution_count": 131,
     "metadata": {},
     "output_type": "execute_result"
    }
   ],
   "source": [
    "tester.shape"
   ]
  },
  {
   "cell_type": "markdown",
   "id": "e17e3e20",
   "metadata": {},
   "source": [
    "### Number of Pumps Attending"
   ]
  },
  {
   "cell_type": "code",
   "execution_count": 136,
   "id": "c3feac4b",
   "metadata": {},
   "outputs": [
    {
     "data": {
      "text/plain": [
       "54"
      ]
     },
     "execution_count": 136,
     "metadata": {},
     "output_type": "execute_result"
    }
   ],
   "source": [
    "london_train[\"pumps_attending\"].isnull().sum()"
   ]
  },
  {
   "cell_type": "code",
   "execution_count": 137,
   "id": "0a0c0f51",
   "metadata": {},
   "outputs": [
    {
     "data": {
      "text/plain": [
       "count    27021.000000\n",
       "mean         1.535842\n",
       "std          0.738057\n",
       "min          1.000000\n",
       "25%          1.000000\n",
       "50%          1.000000\n",
       "75%          2.000000\n",
       "max          6.000000\n",
       "Name: pumps_attending, dtype: float64"
      ]
     },
     "execution_count": 137,
     "metadata": {},
     "output_type": "execute_result"
    }
   ],
   "source": [
    "london_train[\"pumps_attending\"].describe()"
   ]
  },
  {
   "cell_type": "code",
   "execution_count": 138,
   "id": "0c644899",
   "metadata": {},
   "outputs": [
    {
     "data": {
      "text/plain": [
       "1    15679\n",
       "2     9005\n",
       "3     1591\n",
       "4      700\n",
       "5       38\n",
       "6        8\n",
       "Name: pumps_attending, dtype: Int64"
      ]
     },
     "execution_count": 138,
     "metadata": {},
     "output_type": "execute_result"
    }
   ],
   "source": [
    "london_train[\"pumps_attending\"].value_counts()"
   ]
  },
  {
   "cell_type": "markdown",
   "id": "f4039463",
   "metadata": {},
   "source": [
    "We'll go ahead and drop any pumps that are greater than 4. "
   ]
  },
  {
   "cell_type": "code",
   "execution_count": 139,
   "id": "5b559ff5",
   "metadata": {},
   "outputs": [],
   "source": [
    "london_train = london_train.loc[(london_train[\"pumps_attending\"] < 5) | (london_train[\"pumps_attending\"].isnull())]"
   ]
  },
  {
   "cell_type": "code",
   "execution_count": 141,
   "id": "49c7a1bc",
   "metadata": {},
   "outputs": [
    {
     "data": {
      "text/html": [
       "<div>\n",
       "<style scoped>\n",
       "    .dataframe tbody tr th:only-of-type {\n",
       "        vertical-align: middle;\n",
       "    }\n",
       "\n",
       "    .dataframe tbody tr th {\n",
       "        vertical-align: top;\n",
       "    }\n",
       "\n",
       "    .dataframe thead th {\n",
       "        text-align: right;\n",
       "    }\n",
       "</style>\n",
       "<table border=\"1\" class=\"dataframe\">\n",
       "  <thead>\n",
       "    <tr style=\"text-align: right;\">\n",
       "      <th></th>\n",
       "      <th>first_station</th>\n",
       "      <th>median</th>\n",
       "      <th>mean</th>\n",
       "      <th>std</th>\n",
       "      <th>max</th>\n",
       "      <th>min</th>\n",
       "      <th>count</th>\n",
       "    </tr>\n",
       "  </thead>\n",
       "  <tbody>\n",
       "    <tr>\n",
       "      <th>0</th>\n",
       "      <td>North Kensington</td>\n",
       "      <td>2.0</td>\n",
       "      <td>1.769892</td>\n",
       "      <td>0.801908</td>\n",
       "      <td>4</td>\n",
       "      <td>1</td>\n",
       "      <td>465</td>\n",
       "    </tr>\n",
       "    <tr>\n",
       "      <th>1</th>\n",
       "      <td>Paddington</td>\n",
       "      <td>2.0</td>\n",
       "      <td>1.735816</td>\n",
       "      <td>0.846722</td>\n",
       "      <td>4</td>\n",
       "      <td>1</td>\n",
       "      <td>564</td>\n",
       "    </tr>\n",
       "    <tr>\n",
       "      <th>2</th>\n",
       "      <td>Hayes</td>\n",
       "      <td>1.5</td>\n",
       "      <td>1.728571</td>\n",
       "      <td>0.888316</td>\n",
       "      <td>4</td>\n",
       "      <td>1</td>\n",
       "      <td>140</td>\n",
       "    </tr>\n",
       "    <tr>\n",
       "      <th>3</th>\n",
       "      <td>Twickenham</td>\n",
       "      <td>1.0</td>\n",
       "      <td>1.671362</td>\n",
       "      <td>0.827007</td>\n",
       "      <td>4</td>\n",
       "      <td>1</td>\n",
       "      <td>213</td>\n",
       "    </tr>\n",
       "    <tr>\n",
       "      <th>4</th>\n",
       "      <td>Heston</td>\n",
       "      <td>2.0</td>\n",
       "      <td>1.652482</td>\n",
       "      <td>0.700643</td>\n",
       "      <td>4</td>\n",
       "      <td>1</td>\n",
       "      <td>282</td>\n",
       "    </tr>\n",
       "    <tr>\n",
       "      <th>...</th>\n",
       "      <td>...</td>\n",
       "      <td>...</td>\n",
       "      <td>...</td>\n",
       "      <td>...</td>\n",
       "      <td>...</td>\n",
       "      <td>...</td>\n",
       "      <td>...</td>\n",
       "    </tr>\n",
       "    <tr>\n",
       "      <th>97</th>\n",
       "      <td>Shadwell</td>\n",
       "      <td>1.0</td>\n",
       "      <td>1.387097</td>\n",
       "      <td>0.729291</td>\n",
       "      <td>4</td>\n",
       "      <td>1</td>\n",
       "      <td>124</td>\n",
       "    </tr>\n",
       "    <tr>\n",
       "      <th>98</th>\n",
       "      <td>Hornchurch</td>\n",
       "      <td>1.0</td>\n",
       "      <td>1.377358</td>\n",
       "      <td>0.558924</td>\n",
       "      <td>4</td>\n",
       "      <td>1</td>\n",
       "      <td>159</td>\n",
       "    </tr>\n",
       "    <tr>\n",
       "      <th>99</th>\n",
       "      <td>Mitcham</td>\n",
       "      <td>1.0</td>\n",
       "      <td>1.340909</td>\n",
       "      <td>0.512099</td>\n",
       "      <td>3</td>\n",
       "      <td>1</td>\n",
       "      <td>220</td>\n",
       "    </tr>\n",
       "    <tr>\n",
       "      <th>100</th>\n",
       "      <td>Dowgate</td>\n",
       "      <td>1.0</td>\n",
       "      <td>1.326531</td>\n",
       "      <td>0.763626</td>\n",
       "      <td>4</td>\n",
       "      <td>1</td>\n",
       "      <td>343</td>\n",
       "    </tr>\n",
       "    <tr>\n",
       "      <th>101</th>\n",
       "      <td>Soho</td>\n",
       "      <td>1.0</td>\n",
       "      <td>1.323194</td>\n",
       "      <td>0.596624</td>\n",
       "      <td>4</td>\n",
       "      <td>1</td>\n",
       "      <td>1052</td>\n",
       "    </tr>\n",
       "  </tbody>\n",
       "</table>\n",
       "<p>102 rows × 7 columns</p>\n",
       "</div>"
      ],
      "text/plain": [
       "        first_station  median      mean       std  max  min  count\n",
       "0    North Kensington     2.0  1.769892  0.801908    4    1    465\n",
       "1          Paddington     2.0  1.735816  0.846722    4    1    564\n",
       "2               Hayes     1.5  1.728571  0.888316    4    1    140\n",
       "3          Twickenham     1.0  1.671362  0.827007    4    1    213\n",
       "4              Heston     2.0  1.652482  0.700643    4    1    282\n",
       "..                ...     ...       ...       ...  ...  ...    ...\n",
       "97           Shadwell     1.0  1.387097  0.729291    4    1    124\n",
       "98         Hornchurch     1.0  1.377358  0.558924    4    1    159\n",
       "99            Mitcham     1.0  1.340909  0.512099    3    1    220\n",
       "100           Dowgate     1.0  1.326531  0.763626    4    1    343\n",
       "101              Soho     1.0  1.323194  0.596624    4    1   1052\n",
       "\n",
       "[102 rows x 7 columns]"
      ]
     },
     "execution_count": 141,
     "metadata": {},
     "output_type": "execute_result"
    }
   ],
   "source": [
    "#Group by property type and summarize by the Emergency variable\n",
    "pump_grp = london_train.groupby(\"first_station\")[\"pumps_attending\"]\\\n",
    "                        .aggregate([\"median\",\"mean\", \"std\", \"max\", \"min\",\"count\"])\\\n",
    "                        .sort_values(by=\"mean\", ascending=False)\n",
    "pump_grp.reset_index(inplace = True)\n",
    "pump_grp"
   ]
  },
  {
   "cell_type": "code",
   "execution_count": 145,
   "id": "569afe50",
   "metadata": {},
   "outputs": [
    {
     "name": "stderr",
     "output_type": "stream",
     "text": [
      "<ipython-input-145-af896fc19a35>:1: SettingWithCopyWarning: \n",
      "A value is trying to be set on a copy of a slice from a DataFrame.\n",
      "Try using .loc[row_indexer,col_indexer] = value instead\n",
      "\n",
      "See the caveats in the documentation: https://pandas.pydata.org/pandas-docs/stable/user_guide/indexing.html#returning-a-view-versus-a-copy\n",
      "  london_train[\"pumps_attending\"] = london_train[\"pumps_attending\"].astype(np.float64)\n",
      "<ipython-input-145-af896fc19a35>:2: SettingWithCopyWarning: \n",
      "A value is trying to be set on a copy of a slice from a DataFrame.\n",
      "Try using .loc[row_indexer,col_indexer] = value instead\n",
      "\n",
      "See the caveats in the documentation: https://pandas.pydata.org/pandas-docs/stable/user_guide/indexing.html#returning-a-view-versus-a-copy\n",
      "  london_train[\"pumps_attending\"] = london_train.groupby(\"first_station\")[\"pumps_attending\"].\\\n"
     ]
    }
   ],
   "source": [
    "london_train[\"pumps_attending\"] = london_train[\"pumps_attending\"].astype(np.float64)\n",
    "london_train[\"pumps_attending\"] = london_train.groupby(\"first_station\")[\"pumps_attending\"].\\\n",
    "                                                transform(lambda grp: grp.fillna(np.mean(grp)))"
   ]
  },
  {
   "cell_type": "code",
   "execution_count": 146,
   "id": "069c9c53",
   "metadata": {},
   "outputs": [
    {
     "data": {
      "text/plain": [
       "0"
      ]
     },
     "execution_count": 146,
     "metadata": {},
     "output_type": "execute_result"
    }
   ],
   "source": [
    "london_train[\"pumps_attending\"].isnull().sum()"
   ]
  },
  {
   "cell_type": "code",
   "execution_count": 147,
   "id": "31f2b5dc",
   "metadata": {},
   "outputs": [
    {
     "data": {
      "text/plain": [
       "incident_number          0\n",
       "timestamp_of_call        0\n",
       "incident_group           0\n",
       "stop_code_description    0\n",
       "property_category        0\n",
       "property_type            0\n",
       "address_qualifier        0\n",
       "borough_name             0\n",
       "ward_name                0\n",
       "first_time               0\n",
       "first_station            0\n",
       "station_pumps            0\n",
       "pumps_attending          0\n",
       "Month                    0\n",
       "Hour                     0\n",
       "Emergency                0\n",
       "pt_rank                  0\n",
       "wn_rank                  0\n",
       "stat_rank                0\n",
       "dtype: int64"
      ]
     },
     "execution_count": 147,
     "metadata": {},
     "output_type": "execute_result"
    }
   ],
   "source": [
    "london_train.isnull().sum()"
   ]
  },
  {
   "cell_type": "code",
   "execution_count": null,
   "id": "f64b5ac1",
   "metadata": {},
   "outputs": [],
   "source": []
  }
 ],
 "metadata": {
  "kernelspec": {
   "display_name": "Python 3",
   "language": "python",
   "name": "python3"
  },
  "language_info": {
   "codemirror_mode": {
    "name": "ipython",
    "version": 3
   },
   "file_extension": ".py",
   "mimetype": "text/x-python",
   "name": "python",
   "nbconvert_exporter": "python",
   "pygments_lexer": "ipython3",
   "version": "3.8.8"
  }
 },
 "nbformat": 4,
 "nbformat_minor": 5
}
